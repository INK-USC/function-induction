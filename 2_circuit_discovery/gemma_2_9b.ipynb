{
 "cells": [
  {
   "cell_type": "code",
   "execution_count": 1,
   "metadata": {},
   "outputs": [
    {
     "name": "stdout",
     "output_type": "stream",
     "text": [
      "/home/qinyuan/function-induction\n"
     ]
    }
   ],
   "source": [
    "import os\n",
    "import sys\n",
    "\n",
    "# to import functions from `patching_utils.py` and `plotly_utils.py`,\n",
    "# we need to add the repository directory to the system path.\n",
    "current_dir = os.path.dirname(os.getcwd())\n",
    "print(current_dir)\n",
    "if current_dir not in sys.path:\n",
    "    sys.path.append(current_dir)"
   ]
  },
  {
   "cell_type": "markdown",
   "metadata": {},
   "source": [
    "### Helpers"
   ]
  },
  {
   "cell_type": "code",
   "execution_count": 2,
   "metadata": {},
   "outputs": [
    {
     "name": "stderr",
     "output_type": "stream",
     "text": [
      "/home/qinyuan/miniconda3/envs/fi4/lib/python3.12/site-packages/tqdm/auto.py:21: TqdmWarning: IProgress not found. Please update jupyter and ipywidgets. See https://ipywidgets.readthedocs.io/en/stable/user_install.html\n",
      "  from .autonotebook import tqdm as notebook_tqdm\n"
     ]
    }
   ],
   "source": [
    "import torch as t\n",
    "from torch import Tensor\n",
    "import torch.nn.functional as F\n",
    "\n",
    "from transformer_lens import HookedTransformer\n",
    "\n",
    "t.set_grad_enabled(False)\n",
    "\n",
    "from jaxtyping import Float, Int, Bool, Union\n",
    "\n",
    "import circuitsvis as cv\n",
    "from IPython.display import display\n",
    "from plotly_utils import imshow"
   ]
  },
  {
   "cell_type": "code",
   "execution_count": 3,
   "metadata": {},
   "outputs": [],
   "source": [
    "from patching_utils import batched_get_path_patch_to_repr, batched_get_path_patch_to_head, prepare_data_for_fwd"
   ]
  },
  {
   "cell_type": "code",
   "execution_count": 4,
   "metadata": {},
   "outputs": [],
   "source": [
    "def analyze_path_to_repr(\n",
    "    receiver_layers: list[int],\n",
    "    receiver_input: str,\n",
    "    model: HookedTransformer,\n",
    "    data: list[dict],\n",
    "    begin_layer: int,\n",
    "    batch_size: int\n",
    "):\n",
    "    t.cuda.empty_cache()\n",
    "    patched_logit_diff, normal_logit_diff, contrast_logit_diff = batched_get_path_patch_to_repr(receiver_layers, receiver_input, model, data, begin_layer, batch_size)\n",
    "    results = (patched_logit_diff - contrast_logit_diff) / (contrast_logit_diff  - normal_logit_diff)\n",
    "    results[:begin_layer, :] = 0.0\n",
    "    end_layer=max(receiver_layers)\n",
    "    results[end_layer:, :] = 0.0\n",
    "    visualize_heatmap(results)\n",
    "    return results\n",
    "\n",
    "def analyze_path_to_head(\n",
    "    receiver_heads: list[int],\n",
    "    receiver_input: str,\n",
    "    model: HookedTransformer,\n",
    "    data: list[dict],\n",
    "    begin_layer: int,\n",
    "    batch_size: int\n",
    "):\n",
    "    t.cuda.empty_cache()\n",
    "    patched_logit_diff, normal_logit_diff, contrast_logit_diff = batched_get_path_patch_to_head(receiver_heads, receiver_input, model, data, begin_layer, batch_size)\n",
    "    results = (patched_logit_diff - contrast_logit_diff) / (contrast_logit_diff  - normal_logit_diff)\n",
    "    results[:begin_layer, :] = 0.0\n",
    "    end_layer=max([head[0] for head in receiver_heads])\n",
    "    results[end_layer:, :] = 0.0\n",
    "    visualize_heatmap(results)\n",
    "    return results\n",
    "\n",
    "def visualize_heatmap(results, info=\"\"):\n",
    "    imshow(\n",
    "        100 * results.t(),\n",
    "        title=\"Path patching results {}\".format(info),\n",
    "        labels={\"x\":\"Layer\", \"y\":\"Head\", \"color\": \"Logit diff. variation\"},\n",
    "        coloraxis=dict(colorbar_ticksuffix = \"%\"),\n",
    "        width=800,\n",
    "        height=400,\n",
    "    )\n",
    "\n",
    "def visualize_heads(heads, model, data, mode=\"contrast\"):\n",
    "    data = data[:4]\n",
    "    t.cuda.empty_cache()\n",
    "    normal_input, contrast_input, _, _, normal_cache, contrast_cache, _, _ = prepare_data_for_fwd(model, data)\n",
    "    \n",
    "    if mode == \"contrast\":\n",
    "        cache = contrast_cache\n",
    "        tokens = model.to_tokens(contrast_input)[0]\n",
    "    elif mode == \"normal\":\n",
    "        cache = normal_cache\n",
    "        tokens = model.to_tokens(normal_input)[0]\n",
    "\n",
    "    attn_patterns_for_important_heads: Float[Tensor, \"head q k\"] = t.stack([\n",
    "        cache[\"pattern\", layer][:, head].mean(0)\n",
    "            for layer, head in heads\n",
    "    ])\n",
    "    \n",
    "    display(cv.attention.attention_patterns(\n",
    "        attention = attn_patterns_for_important_heads,\n",
    "        tokens = model.to_str_tokens(tokens),\n",
    "        attention_head_names = [f\"{layer}.{head}\" for layer, head in heads],\n",
    "    ))"
   ]
  },
  {
   "cell_type": "markdown",
   "metadata": {},
   "source": [
    "### Loading model and data"
   ]
  },
  {
   "cell_type": "code",
   "execution_count": 5,
   "metadata": {},
   "outputs": [
    {
     "name": "stderr",
     "output_type": "stream",
     "text": [
      "WARNING:root:You tried to specify center_unembed=True for a model using logit softcap, but this can't be done! Softcapping is not invariant upon adding a constant Setting center_unembed=False instead.\n",
      "Loading checkpoint shards: 100%|██████████| 8/8 [00:00<00:00, 127.67it/s]\n",
      "WARNING:root:You are not using LayerNorm, so the writing weights can't be centered! Skipping\n"
     ]
    },
    {
     "name": "stdout",
     "output_type": "stream",
     "text": [
      "Loaded pretrained model google/gemma-2-9b into HookedTransformer\n"
     ]
    }
   ],
   "source": [
    "device = \"cuda:0\"\n",
    "model_name = \"google/gemma-2-9b\"\n",
    "model = HookedTransformer.from_pretrained(model_name, device=device)\n",
    "model.set_ungroup_grouped_query_attention(True)"
   ]
  },
  {
   "cell_type": "code",
   "execution_count": 6,
   "metadata": {},
   "outputs": [],
   "source": [
    "# Load data\n",
    "from data_utils import process_dataset, read_jsonl\n",
    "\n",
    "setting, nmax, offset, n_icl_examples = \"setting1\", 9, 1, 4\n",
    "filename = f\"../data/addition/{setting}/addition_nmax{nmax}_offset{offset}.jsonl\"\n",
    "data = read_jsonl(filename)\n",
    "processed_data = process_dataset(data, n_icl_examples=n_icl_examples, offset=offset)\n",
    "\n",
    "# load 12 examples for demo\n",
    "processed_data = processed_data[:12]"
   ]
  },
  {
   "cell_type": "markdown",
   "metadata": {},
   "source": [
    "### Path Patching Demo"
   ]
  },
  {
   "cell_type": "markdown",
   "metadata": {},
   "source": [
    "#### Patching to output logits"
   ]
  },
  {
   "cell_type": "code",
   "execution_count": 9,
   "metadata": {},
   "outputs": [
    {
     "name": "stderr",
     "output_type": "stream",
     "text": [
      "batch:   0%|          | 0/3 [00:00<?, ?it/s]"
     ]
    },
    {
     "name": "stderr",
     "output_type": "stream",
     "text": [
      "batch: 100%|██████████| 3/3 [15:52<00:00, 317.40s/it]\n"
     ]
    },
    {
     "data": {
      "application/vnd.plotly.v1+json": {
       "config": {
        "plotlyServerURL": "https://plot.ly",
        "staticPlot": false
       },
       "data": [
        {
         "coloraxis": "coloraxis",
         "hovertemplate": "Layer: %{x}<br>Head: %{y}<br>Logit diff. variation: %{z}<extra></extra>",
         "name": "0",
         "type": "heatmap",
         "xaxis": "x",
         "yaxis": "y",
         "z": {
          "bdata": "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",
          "dtype": "f4",
          "shape": "16, 42"
         }
        }
       ],
       "layout": {
        "coloraxis": {
         "cmid": 0,
         "colorbar": {
          "ticksuffix": "%",
          "title": {
           "text": "Logit diff. variation"
          }
         },
         "colorscale": [
          [
           0,
           "rgb(103,0,31)"
          ],
          [
           0.1,
           "rgb(178,24,43)"
          ],
          [
           0.2,
           "rgb(214,96,77)"
          ],
          [
           0.3,
           "rgb(244,165,130)"
          ],
          [
           0.4,
           "rgb(253,219,199)"
          ],
          [
           0.5,
           "rgb(247,247,247)"
          ],
          [
           0.6,
           "rgb(209,229,240)"
          ],
          [
           0.7,
           "rgb(146,197,222)"
          ],
          [
           0.8,
           "rgb(67,147,195)"
          ],
          [
           0.9,
           "rgb(33,102,172)"
          ],
          [
           1,
           "rgb(5,48,97)"
          ]
         ]
        },
        "height": 400,
        "template": {
         "data": {
          "bar": [
           {
            "error_x": {
             "color": "#2a3f5f"
            },
            "error_y": {
             "color": "#2a3f5f"
            },
            "marker": {
             "line": {
              "color": "#E5ECF6",
              "width": 0.5
             },
             "pattern": {
              "fillmode": "overlay",
              "size": 10,
              "solidity": 0.2
             }
            },
            "type": "bar"
           }
          ],
          "barpolar": [
           {
            "marker": {
             "line": {
              "color": "#E5ECF6",
              "width": 0.5
             },
             "pattern": {
              "fillmode": "overlay",
              "size": 10,
              "solidity": 0.2
             }
            },
            "type": "barpolar"
           }
          ],
          "carpet": [
           {
            "aaxis": {
             "endlinecolor": "#2a3f5f",
             "gridcolor": "white",
             "linecolor": "white",
             "minorgridcolor": "white",
             "startlinecolor": "#2a3f5f"
            },
            "baxis": {
             "endlinecolor": "#2a3f5f",
             "gridcolor": "white",
             "linecolor": "white",
             "minorgridcolor": "white",
             "startlinecolor": "#2a3f5f"
            },
            "type": "carpet"
           }
          ],
          "choropleth": [
           {
            "colorbar": {
             "outlinewidth": 0,
             "ticks": ""
            },
            "type": "choropleth"
           }
          ],
          "contour": [
           {
            "colorbar": {
             "outlinewidth": 0,
             "ticks": ""
            },
            "colorscale": [
             [
              0,
              "#0d0887"
             ],
             [
              0.1111111111111111,
              "#46039f"
             ],
             [
              0.2222222222222222,
              "#7201a8"
             ],
             [
              0.3333333333333333,
              "#9c179e"
             ],
             [
              0.4444444444444444,
              "#bd3786"
             ],
             [
              0.5555555555555556,
              "#d8576b"
             ],
             [
              0.6666666666666666,
              "#ed7953"
             ],
             [
              0.7777777777777778,
              "#fb9f3a"
             ],
             [
              0.8888888888888888,
              "#fdca26"
             ],
             [
              1,
              "#f0f921"
             ]
            ],
            "type": "contour"
           }
          ],
          "contourcarpet": [
           {
            "colorbar": {
             "outlinewidth": 0,
             "ticks": ""
            },
            "type": "contourcarpet"
           }
          ],
          "heatmap": [
           {
            "colorbar": {
             "outlinewidth": 0,
             "ticks": ""
            },
            "colorscale": [
             [
              0,
              "#0d0887"
             ],
             [
              0.1111111111111111,
              "#46039f"
             ],
             [
              0.2222222222222222,
              "#7201a8"
             ],
             [
              0.3333333333333333,
              "#9c179e"
             ],
             [
              0.4444444444444444,
              "#bd3786"
             ],
             [
              0.5555555555555556,
              "#d8576b"
             ],
             [
              0.6666666666666666,
              "#ed7953"
             ],
             [
              0.7777777777777778,
              "#fb9f3a"
             ],
             [
              0.8888888888888888,
              "#fdca26"
             ],
             [
              1,
              "#f0f921"
             ]
            ],
            "type": "heatmap"
           }
          ],
          "histogram": [
           {
            "marker": {
             "pattern": {
              "fillmode": "overlay",
              "size": 10,
              "solidity": 0.2
             }
            },
            "type": "histogram"
           }
          ],
          "histogram2d": [
           {
            "colorbar": {
             "outlinewidth": 0,
             "ticks": ""
            },
            "colorscale": [
             [
              0,
              "#0d0887"
             ],
             [
              0.1111111111111111,
              "#46039f"
             ],
             [
              0.2222222222222222,
              "#7201a8"
             ],
             [
              0.3333333333333333,
              "#9c179e"
             ],
             [
              0.4444444444444444,
              "#bd3786"
             ],
             [
              0.5555555555555556,
              "#d8576b"
             ],
             [
              0.6666666666666666,
              "#ed7953"
             ],
             [
              0.7777777777777778,
              "#fb9f3a"
             ],
             [
              0.8888888888888888,
              "#fdca26"
             ],
             [
              1,
              "#f0f921"
             ]
            ],
            "type": "histogram2d"
           }
          ],
          "histogram2dcontour": [
           {
            "colorbar": {
             "outlinewidth": 0,
             "ticks": ""
            },
            "colorscale": [
             [
              0,
              "#0d0887"
             ],
             [
              0.1111111111111111,
              "#46039f"
             ],
             [
              0.2222222222222222,
              "#7201a8"
             ],
             [
              0.3333333333333333,
              "#9c179e"
             ],
             [
              0.4444444444444444,
              "#bd3786"
             ],
             [
              0.5555555555555556,
              "#d8576b"
             ],
             [
              0.6666666666666666,
              "#ed7953"
             ],
             [
              0.7777777777777778,
              "#fb9f3a"
             ],
             [
              0.8888888888888888,
              "#fdca26"
             ],
             [
              1,
              "#f0f921"
             ]
            ],
            "type": "histogram2dcontour"
           }
          ],
          "mesh3d": [
           {
            "colorbar": {
             "outlinewidth": 0,
             "ticks": ""
            },
            "type": "mesh3d"
           }
          ],
          "parcoords": [
           {
            "line": {
             "colorbar": {
              "outlinewidth": 0,
              "ticks": ""
             }
            },
            "type": "parcoords"
           }
          ],
          "pie": [
           {
            "automargin": true,
            "type": "pie"
           }
          ],
          "scatter": [
           {
            "fillpattern": {
             "fillmode": "overlay",
             "size": 10,
             "solidity": 0.2
            },
            "type": "scatter"
           }
          ],
          "scatter3d": [
           {
            "line": {
             "colorbar": {
              "outlinewidth": 0,
              "ticks": ""
             }
            },
            "marker": {
             "colorbar": {
              "outlinewidth": 0,
              "ticks": ""
             }
            },
            "type": "scatter3d"
           }
          ],
          "scattercarpet": [
           {
            "marker": {
             "colorbar": {
              "outlinewidth": 0,
              "ticks": ""
             }
            },
            "type": "scattercarpet"
           }
          ],
          "scattergeo": [
           {
            "marker": {
             "colorbar": {
              "outlinewidth": 0,
              "ticks": ""
             }
            },
            "type": "scattergeo"
           }
          ],
          "scattergl": [
           {
            "marker": {
             "colorbar": {
              "outlinewidth": 0,
              "ticks": ""
             }
            },
            "type": "scattergl"
           }
          ],
          "scattermap": [
           {
            "marker": {
             "colorbar": {
              "outlinewidth": 0,
              "ticks": ""
             }
            },
            "type": "scattermap"
           }
          ],
          "scattermapbox": [
           {
            "marker": {
             "colorbar": {
              "outlinewidth": 0,
              "ticks": ""
             }
            },
            "type": "scattermapbox"
           }
          ],
          "scatterpolar": [
           {
            "marker": {
             "colorbar": {
              "outlinewidth": 0,
              "ticks": ""
             }
            },
            "type": "scatterpolar"
           }
          ],
          "scatterpolargl": [
           {
            "marker": {
             "colorbar": {
              "outlinewidth": 0,
              "ticks": ""
             }
            },
            "type": "scatterpolargl"
           }
          ],
          "scatterternary": [
           {
            "marker": {
             "colorbar": {
              "outlinewidth": 0,
              "ticks": ""
             }
            },
            "type": "scatterternary"
           }
          ],
          "surface": [
           {
            "colorbar": {
             "outlinewidth": 0,
             "ticks": ""
            },
            "colorscale": [
             [
              0,
              "#0d0887"
             ],
             [
              0.1111111111111111,
              "#46039f"
             ],
             [
              0.2222222222222222,
              "#7201a8"
             ],
             [
              0.3333333333333333,
              "#9c179e"
             ],
             [
              0.4444444444444444,
              "#bd3786"
             ],
             [
              0.5555555555555556,
              "#d8576b"
             ],
             [
              0.6666666666666666,
              "#ed7953"
             ],
             [
              0.7777777777777778,
              "#fb9f3a"
             ],
             [
              0.8888888888888888,
              "#fdca26"
             ],
             [
              1,
              "#f0f921"
             ]
            ],
            "type": "surface"
           }
          ],
          "table": [
           {
            "cells": {
             "fill": {
              "color": "#EBF0F8"
             },
             "line": {
              "color": "white"
             }
            },
            "header": {
             "fill": {
              "color": "#C8D4E3"
             },
             "line": {
              "color": "white"
             }
            },
            "type": "table"
           }
          ]
         },
         "layout": {
          "annotationdefaults": {
           "arrowcolor": "#2a3f5f",
           "arrowhead": 0,
           "arrowwidth": 1
          },
          "autotypenumbers": "strict",
          "coloraxis": {
           "colorbar": {
            "outlinewidth": 0,
            "ticks": ""
           }
          },
          "colorscale": {
           "diverging": [
            [
             0,
             "#8e0152"
            ],
            [
             0.1,
             "#c51b7d"
            ],
            [
             0.2,
             "#de77ae"
            ],
            [
             0.3,
             "#f1b6da"
            ],
            [
             0.4,
             "#fde0ef"
            ],
            [
             0.5,
             "#f7f7f7"
            ],
            [
             0.6,
             "#e6f5d0"
            ],
            [
             0.7,
             "#b8e186"
            ],
            [
             0.8,
             "#7fbc41"
            ],
            [
             0.9,
             "#4d9221"
            ],
            [
             1,
             "#276419"
            ]
           ],
           "sequential": [
            [
             0,
             "#0d0887"
            ],
            [
             0.1111111111111111,
             "#46039f"
            ],
            [
             0.2222222222222222,
             "#7201a8"
            ],
            [
             0.3333333333333333,
             "#9c179e"
            ],
            [
             0.4444444444444444,
             "#bd3786"
            ],
            [
             0.5555555555555556,
             "#d8576b"
            ],
            [
             0.6666666666666666,
             "#ed7953"
            ],
            [
             0.7777777777777778,
             "#fb9f3a"
            ],
            [
             0.8888888888888888,
             "#fdca26"
            ],
            [
             1,
             "#f0f921"
            ]
           ],
           "sequentialminus": [
            [
             0,
             "#0d0887"
            ],
            [
             0.1111111111111111,
             "#46039f"
            ],
            [
             0.2222222222222222,
             "#7201a8"
            ],
            [
             0.3333333333333333,
             "#9c179e"
            ],
            [
             0.4444444444444444,
             "#bd3786"
            ],
            [
             0.5555555555555556,
             "#d8576b"
            ],
            [
             0.6666666666666666,
             "#ed7953"
            ],
            [
             0.7777777777777778,
             "#fb9f3a"
            ],
            [
             0.8888888888888888,
             "#fdca26"
            ],
            [
             1,
             "#f0f921"
            ]
           ]
          },
          "colorway": [
           "#636efa",
           "#EF553B",
           "#00cc96",
           "#ab63fa",
           "#FFA15A",
           "#19d3f3",
           "#FF6692",
           "#B6E880",
           "#FF97FF",
           "#FECB52"
          ],
          "font": {
           "color": "#2a3f5f"
          },
          "geo": {
           "bgcolor": "white",
           "lakecolor": "white",
           "landcolor": "#E5ECF6",
           "showlakes": true,
           "showland": true,
           "subunitcolor": "white"
          },
          "hoverlabel": {
           "align": "left"
          },
          "hovermode": "closest",
          "mapbox": {
           "style": "light"
          },
          "paper_bgcolor": "white",
          "plot_bgcolor": "#E5ECF6",
          "polar": {
           "angularaxis": {
            "gridcolor": "white",
            "linecolor": "white",
            "ticks": ""
           },
           "bgcolor": "#E5ECF6",
           "radialaxis": {
            "gridcolor": "white",
            "linecolor": "white",
            "ticks": ""
           }
          },
          "scene": {
           "xaxis": {
            "backgroundcolor": "#E5ECF6",
            "gridcolor": "white",
            "gridwidth": 2,
            "linecolor": "white",
            "showbackground": true,
            "ticks": "",
            "zerolinecolor": "white"
           },
           "yaxis": {
            "backgroundcolor": "#E5ECF6",
            "gridcolor": "white",
            "gridwidth": 2,
            "linecolor": "white",
            "showbackground": true,
            "ticks": "",
            "zerolinecolor": "white"
           },
           "zaxis": {
            "backgroundcolor": "#E5ECF6",
            "gridcolor": "white",
            "gridwidth": 2,
            "linecolor": "white",
            "showbackground": true,
            "ticks": "",
            "zerolinecolor": "white"
           }
          },
          "shapedefaults": {
           "line": {
            "color": "#2a3f5f"
           }
          },
          "ternary": {
           "aaxis": {
            "gridcolor": "white",
            "linecolor": "white",
            "ticks": ""
           },
           "baxis": {
            "gridcolor": "white",
            "linecolor": "white",
            "ticks": ""
           },
           "bgcolor": "#E5ECF6",
           "caxis": {
            "gridcolor": "white",
            "linecolor": "white",
            "ticks": ""
           }
          },
          "title": {
           "x": 0.05
          },
          "xaxis": {
           "automargin": true,
           "gridcolor": "white",
           "linecolor": "white",
           "ticks": "",
           "title": {
            "standoff": 15
           },
           "zerolinecolor": "white",
           "zerolinewidth": 2
          },
          "yaxis": {
           "automargin": true,
           "gridcolor": "white",
           "linecolor": "white",
           "ticks": "",
           "title": {
            "standoff": 15
           },
           "zerolinecolor": "white",
           "zerolinewidth": 2
          }
         }
        },
        "title": {
         "text": "Path patching results"
        },
        "width": 800,
        "xaxis": {
         "anchor": "y",
         "constrain": "domain",
         "domain": [
          0,
          1
         ],
         "scaleanchor": "y",
         "title": {
          "text": "Layer"
         }
        },
        "yaxis": {
         "anchor": "x",
         "autorange": "reversed",
         "constrain": "domain",
         "domain": [
          0,
          1
         ],
         "title": {
          "text": "Head"
         }
        }
       }
      }
     },
     "metadata": {},
     "output_type": "display_data"
    }
   ],
   "source": [
    "# Estimated run time: 15 min\n",
    "results_resid_post_41 = analyze_path_to_repr([41], \"resid_post\", model, processed_data, begin_layer=0, batch_size=4)"
   ]
  },
  {
   "cell_type": "code",
   "execution_count": 10,
   "metadata": {},
   "outputs": [
    {
     "name": "stdout",
     "output_type": "stream",
     "text": [
      "rel_diff > 0.05:\t [(39, 7), (36, 7)]\n",
      "0.05 > rel_diff > 0.02:\t [(40, 12), (40, 11), (39, 12), (32, 1), (25, 13)]\n"
     ]
    }
   ],
   "source": [
    "# Tracking which heads have |r| > 2%\n",
    "\n",
    "head_list_1 = [tuple(idx) for idx in t.nonzero(t.abs(results_resid_post_41) > 0.05, as_tuple=False).tolist()]\n",
    "print(f\"rel_diff > 0.05:\\t {sorted(head_list_1, reverse=True)}\")\n",
    "\n",
    "head_list_2 = [tuple(idx) for idx in t.nonzero(t.abs(results_resid_post_41) > 0.02, as_tuple=False).tolist() if tuple(idx) not in head_list_1]\n",
    "print(f\"0.05 > rel_diff > 0.02:\\t {sorted(head_list_2, reverse=True)}\")"
   ]
  },
  {
   "cell_type": "markdown",
   "metadata": {},
   "source": [
    "The demo above runs on 12 test cases, which is good for preliminary exploration but may be noisy. We repeat the experiments with 100 test cases by running `gemma_2_9b_offline.py`. Below we load and visualize the results, which also corresponds to Figure 2(a) in the figure."
   ]
  },
  {
   "cell_type": "code",
   "execution_count": 7,
   "metadata": {},
   "outputs": [
    {
     "data": {
      "application/vnd.plotly.v1+json": {
       "config": {
        "plotlyServerURL": "https://plot.ly",
        "staticPlot": false
       },
       "data": [
        {
         "coloraxis": "coloraxis",
         "hovertemplate": "Layer: %{x}<br>Head: %{y}<br>Logit diff. variation: %{z}<extra></extra>",
         "name": "0",
         "type": "heatmap",
         "xaxis": "x",
         "yaxis": "y",
         "z": {
          "bdata": "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",
          "dtype": "f4",
          "shape": "16, 42"
         }
        }
       ],
       "layout": {
        "coloraxis": {
         "cmid": 0,
         "colorbar": {
          "ticksuffix": "%",
          "title": {
           "text": "Logit diff. variation"
          }
         },
         "colorscale": [
          [
           0,
           "rgb(103,0,31)"
          ],
          [
           0.1,
           "rgb(178,24,43)"
          ],
          [
           0.2,
           "rgb(214,96,77)"
          ],
          [
           0.3,
           "rgb(244,165,130)"
          ],
          [
           0.4,
           "rgb(253,219,199)"
          ],
          [
           0.5,
           "rgb(247,247,247)"
          ],
          [
           0.6,
           "rgb(209,229,240)"
          ],
          [
           0.7,
           "rgb(146,197,222)"
          ],
          [
           0.8,
           "rgb(67,147,195)"
          ],
          [
           0.9,
           "rgb(33,102,172)"
          ],
          [
           1,
           "rgb(5,48,97)"
          ]
         ]
        },
        "height": 400,
        "template": {
         "data": {
          "bar": [
           {
            "error_x": {
             "color": "#2a3f5f"
            },
            "error_y": {
             "color": "#2a3f5f"
            },
            "marker": {
             "line": {
              "color": "#E5ECF6",
              "width": 0.5
             },
             "pattern": {
              "fillmode": "overlay",
              "size": 10,
              "solidity": 0.2
             }
            },
            "type": "bar"
           }
          ],
          "barpolar": [
           {
            "marker": {
             "line": {
              "color": "#E5ECF6",
              "width": 0.5
             },
             "pattern": {
              "fillmode": "overlay",
              "size": 10,
              "solidity": 0.2
             }
            },
            "type": "barpolar"
           }
          ],
          "carpet": [
           {
            "aaxis": {
             "endlinecolor": "#2a3f5f",
             "gridcolor": "white",
             "linecolor": "white",
             "minorgridcolor": "white",
             "startlinecolor": "#2a3f5f"
            },
            "baxis": {
             "endlinecolor": "#2a3f5f",
             "gridcolor": "white",
             "linecolor": "white",
             "minorgridcolor": "white",
             "startlinecolor": "#2a3f5f"
            },
            "type": "carpet"
           }
          ],
          "choropleth": [
           {
            "colorbar": {
             "outlinewidth": 0,
             "ticks": ""
            },
            "type": "choropleth"
           }
          ],
          "contour": [
           {
            "colorbar": {
             "outlinewidth": 0,
             "ticks": ""
            },
            "colorscale": [
             [
              0,
              "#0d0887"
             ],
             [
              0.1111111111111111,
              "#46039f"
             ],
             [
              0.2222222222222222,
              "#7201a8"
             ],
             [
              0.3333333333333333,
              "#9c179e"
             ],
             [
              0.4444444444444444,
              "#bd3786"
             ],
             [
              0.5555555555555556,
              "#d8576b"
             ],
             [
              0.6666666666666666,
              "#ed7953"
             ],
             [
              0.7777777777777778,
              "#fb9f3a"
             ],
             [
              0.8888888888888888,
              "#fdca26"
             ],
             [
              1,
              "#f0f921"
             ]
            ],
            "type": "contour"
           }
          ],
          "contourcarpet": [
           {
            "colorbar": {
             "outlinewidth": 0,
             "ticks": ""
            },
            "type": "contourcarpet"
           }
          ],
          "heatmap": [
           {
            "colorbar": {
             "outlinewidth": 0,
             "ticks": ""
            },
            "colorscale": [
             [
              0,
              "#0d0887"
             ],
             [
              0.1111111111111111,
              "#46039f"
             ],
             [
              0.2222222222222222,
              "#7201a8"
             ],
             [
              0.3333333333333333,
              "#9c179e"
             ],
             [
              0.4444444444444444,
              "#bd3786"
             ],
             [
              0.5555555555555556,
              "#d8576b"
             ],
             [
              0.6666666666666666,
              "#ed7953"
             ],
             [
              0.7777777777777778,
              "#fb9f3a"
             ],
             [
              0.8888888888888888,
              "#fdca26"
             ],
             [
              1,
              "#f0f921"
             ]
            ],
            "type": "heatmap"
           }
          ],
          "histogram": [
           {
            "marker": {
             "pattern": {
              "fillmode": "overlay",
              "size": 10,
              "solidity": 0.2
             }
            },
            "type": "histogram"
           }
          ],
          "histogram2d": [
           {
            "colorbar": {
             "outlinewidth": 0,
             "ticks": ""
            },
            "colorscale": [
             [
              0,
              "#0d0887"
             ],
             [
              0.1111111111111111,
              "#46039f"
             ],
             [
              0.2222222222222222,
              "#7201a8"
             ],
             [
              0.3333333333333333,
              "#9c179e"
             ],
             [
              0.4444444444444444,
              "#bd3786"
             ],
             [
              0.5555555555555556,
              "#d8576b"
             ],
             [
              0.6666666666666666,
              "#ed7953"
             ],
             [
              0.7777777777777778,
              "#fb9f3a"
             ],
             [
              0.8888888888888888,
              "#fdca26"
             ],
             [
              1,
              "#f0f921"
             ]
            ],
            "type": "histogram2d"
           }
          ],
          "histogram2dcontour": [
           {
            "colorbar": {
             "outlinewidth": 0,
             "ticks": ""
            },
            "colorscale": [
             [
              0,
              "#0d0887"
             ],
             [
              0.1111111111111111,
              "#46039f"
             ],
             [
              0.2222222222222222,
              "#7201a8"
             ],
             [
              0.3333333333333333,
              "#9c179e"
             ],
             [
              0.4444444444444444,
              "#bd3786"
             ],
             [
              0.5555555555555556,
              "#d8576b"
             ],
             [
              0.6666666666666666,
              "#ed7953"
             ],
             [
              0.7777777777777778,
              "#fb9f3a"
             ],
             [
              0.8888888888888888,
              "#fdca26"
             ],
             [
              1,
              "#f0f921"
             ]
            ],
            "type": "histogram2dcontour"
           }
          ],
          "mesh3d": [
           {
            "colorbar": {
             "outlinewidth": 0,
             "ticks": ""
            },
            "type": "mesh3d"
           }
          ],
          "parcoords": [
           {
            "line": {
             "colorbar": {
              "outlinewidth": 0,
              "ticks": ""
             }
            },
            "type": "parcoords"
           }
          ],
          "pie": [
           {
            "automargin": true,
            "type": "pie"
           }
          ],
          "scatter": [
           {
            "fillpattern": {
             "fillmode": "overlay",
             "size": 10,
             "solidity": 0.2
            },
            "type": "scatter"
           }
          ],
          "scatter3d": [
           {
            "line": {
             "colorbar": {
              "outlinewidth": 0,
              "ticks": ""
             }
            },
            "marker": {
             "colorbar": {
              "outlinewidth": 0,
              "ticks": ""
             }
            },
            "type": "scatter3d"
           }
          ],
          "scattercarpet": [
           {
            "marker": {
             "colorbar": {
              "outlinewidth": 0,
              "ticks": ""
             }
            },
            "type": "scattercarpet"
           }
          ],
          "scattergeo": [
           {
            "marker": {
             "colorbar": {
              "outlinewidth": 0,
              "ticks": ""
             }
            },
            "type": "scattergeo"
           }
          ],
          "scattergl": [
           {
            "marker": {
             "colorbar": {
              "outlinewidth": 0,
              "ticks": ""
             }
            },
            "type": "scattergl"
           }
          ],
          "scattermap": [
           {
            "marker": {
             "colorbar": {
              "outlinewidth": 0,
              "ticks": ""
             }
            },
            "type": "scattermap"
           }
          ],
          "scattermapbox": [
           {
            "marker": {
             "colorbar": {
              "outlinewidth": 0,
              "ticks": ""
             }
            },
            "type": "scattermapbox"
           }
          ],
          "scatterpolar": [
           {
            "marker": {
             "colorbar": {
              "outlinewidth": 0,
              "ticks": ""
             }
            },
            "type": "scatterpolar"
           }
          ],
          "scatterpolargl": [
           {
            "marker": {
             "colorbar": {
              "outlinewidth": 0,
              "ticks": ""
             }
            },
            "type": "scatterpolargl"
           }
          ],
          "scatterternary": [
           {
            "marker": {
             "colorbar": {
              "outlinewidth": 0,
              "ticks": ""
             }
            },
            "type": "scatterternary"
           }
          ],
          "surface": [
           {
            "colorbar": {
             "outlinewidth": 0,
             "ticks": ""
            },
            "colorscale": [
             [
              0,
              "#0d0887"
             ],
             [
              0.1111111111111111,
              "#46039f"
             ],
             [
              0.2222222222222222,
              "#7201a8"
             ],
             [
              0.3333333333333333,
              "#9c179e"
             ],
             [
              0.4444444444444444,
              "#bd3786"
             ],
             [
              0.5555555555555556,
              "#d8576b"
             ],
             [
              0.6666666666666666,
              "#ed7953"
             ],
             [
              0.7777777777777778,
              "#fb9f3a"
             ],
             [
              0.8888888888888888,
              "#fdca26"
             ],
             [
              1,
              "#f0f921"
             ]
            ],
            "type": "surface"
           }
          ],
          "table": [
           {
            "cells": {
             "fill": {
              "color": "#EBF0F8"
             },
             "line": {
              "color": "white"
             }
            },
            "header": {
             "fill": {
              "color": "#C8D4E3"
             },
             "line": {
              "color": "white"
             }
            },
            "type": "table"
           }
          ]
         },
         "layout": {
          "annotationdefaults": {
           "arrowcolor": "#2a3f5f",
           "arrowhead": 0,
           "arrowwidth": 1
          },
          "autotypenumbers": "strict",
          "coloraxis": {
           "colorbar": {
            "outlinewidth": 0,
            "ticks": ""
           }
          },
          "colorscale": {
           "diverging": [
            [
             0,
             "#8e0152"
            ],
            [
             0.1,
             "#c51b7d"
            ],
            [
             0.2,
             "#de77ae"
            ],
            [
             0.3,
             "#f1b6da"
            ],
            [
             0.4,
             "#fde0ef"
            ],
            [
             0.5,
             "#f7f7f7"
            ],
            [
             0.6,
             "#e6f5d0"
            ],
            [
             0.7,
             "#b8e186"
            ],
            [
             0.8,
             "#7fbc41"
            ],
            [
             0.9,
             "#4d9221"
            ],
            [
             1,
             "#276419"
            ]
           ],
           "sequential": [
            [
             0,
             "#0d0887"
            ],
            [
             0.1111111111111111,
             "#46039f"
            ],
            [
             0.2222222222222222,
             "#7201a8"
            ],
            [
             0.3333333333333333,
             "#9c179e"
            ],
            [
             0.4444444444444444,
             "#bd3786"
            ],
            [
             0.5555555555555556,
             "#d8576b"
            ],
            [
             0.6666666666666666,
             "#ed7953"
            ],
            [
             0.7777777777777778,
             "#fb9f3a"
            ],
            [
             0.8888888888888888,
             "#fdca26"
            ],
            [
             1,
             "#f0f921"
            ]
           ],
           "sequentialminus": [
            [
             0,
             "#0d0887"
            ],
            [
             0.1111111111111111,
             "#46039f"
            ],
            [
             0.2222222222222222,
             "#7201a8"
            ],
            [
             0.3333333333333333,
             "#9c179e"
            ],
            [
             0.4444444444444444,
             "#bd3786"
            ],
            [
             0.5555555555555556,
             "#d8576b"
            ],
            [
             0.6666666666666666,
             "#ed7953"
            ],
            [
             0.7777777777777778,
             "#fb9f3a"
            ],
            [
             0.8888888888888888,
             "#fdca26"
            ],
            [
             1,
             "#f0f921"
            ]
           ]
          },
          "colorway": [
           "#636efa",
           "#EF553B",
           "#00cc96",
           "#ab63fa",
           "#FFA15A",
           "#19d3f3",
           "#FF6692",
           "#B6E880",
           "#FF97FF",
           "#FECB52"
          ],
          "font": {
           "color": "#2a3f5f"
          },
          "geo": {
           "bgcolor": "white",
           "lakecolor": "white",
           "landcolor": "#E5ECF6",
           "showlakes": true,
           "showland": true,
           "subunitcolor": "white"
          },
          "hoverlabel": {
           "align": "left"
          },
          "hovermode": "closest",
          "mapbox": {
           "style": "light"
          },
          "paper_bgcolor": "white",
          "plot_bgcolor": "#E5ECF6",
          "polar": {
           "angularaxis": {
            "gridcolor": "white",
            "linecolor": "white",
            "ticks": ""
           },
           "bgcolor": "#E5ECF6",
           "radialaxis": {
            "gridcolor": "white",
            "linecolor": "white",
            "ticks": ""
           }
          },
          "scene": {
           "xaxis": {
            "backgroundcolor": "#E5ECF6",
            "gridcolor": "white",
            "gridwidth": 2,
            "linecolor": "white",
            "showbackground": true,
            "ticks": "",
            "zerolinecolor": "white"
           },
           "yaxis": {
            "backgroundcolor": "#E5ECF6",
            "gridcolor": "white",
            "gridwidth": 2,
            "linecolor": "white",
            "showbackground": true,
            "ticks": "",
            "zerolinecolor": "white"
           },
           "zaxis": {
            "backgroundcolor": "#E5ECF6",
            "gridcolor": "white",
            "gridwidth": 2,
            "linecolor": "white",
            "showbackground": true,
            "ticks": "",
            "zerolinecolor": "white"
           }
          },
          "shapedefaults": {
           "line": {
            "color": "#2a3f5f"
           }
          },
          "ternary": {
           "aaxis": {
            "gridcolor": "white",
            "linecolor": "white",
            "ticks": ""
           },
           "baxis": {
            "gridcolor": "white",
            "linecolor": "white",
            "ticks": ""
           },
           "bgcolor": "#E5ECF6",
           "caxis": {
            "gridcolor": "white",
            "linecolor": "white",
            "ticks": ""
           }
          },
          "title": {
           "x": 0.05
          },
          "xaxis": {
           "automargin": true,
           "gridcolor": "white",
           "linecolor": "white",
           "ticks": "",
           "title": {
            "standoff": 15
           },
           "zerolinecolor": "white",
           "zerolinewidth": 2
          },
          "yaxis": {
           "automargin": true,
           "gridcolor": "white",
           "linecolor": "white",
           "ticks": "",
           "title": {
            "standoff": 15
           },
           "zerolinecolor": "white",
           "zerolinewidth": 2
          }
         }
        },
        "title": {
         "text": "Path patching results "
        },
        "width": 800,
        "xaxis": {
         "anchor": "y",
         "constrain": "domain",
         "domain": [
          0,
          1
         ],
         "scaleanchor": "y",
         "title": {
          "text": "Layer"
         }
        },
        "yaxis": {
         "anchor": "x",
         "autorange": "reversed",
         "constrain": "domain",
         "domain": [
          0,
          1
         ],
         "title": {
          "text": "Head"
         }
        }
       }
      }
     },
     "metadata": {},
     "output_type": "display_data"
    }
   ],
   "source": [
    "filename = \"./results/gemma_2_9b/resid_post_41.pt\"\n",
    "results_resid_post_41 = t.load(filename)\n",
    "visualize_heatmap(results_resid_post_41)"
   ]
  },
  {
   "cell_type": "code",
   "execution_count": 8,
   "metadata": {},
   "outputs": [
    {
     "name": "stdout",
     "output_type": "stream",
     "text": [
      "rel_diff > 0.05:\t [(41, 4), (39, 7), (36, 7)]\n",
      "0.05 > rel_diff > 0.02:\t [(41, 5), (40, 12), (40, 11), (39, 12), (32, 6), (32, 1), (25, 13)]\n"
     ]
    }
   ],
   "source": [
    "head_list_1 = [tuple(idx) for idx in t.nonzero(t.abs(results_resid_post_41) > 0.05, as_tuple=False).tolist()]\n",
    "print(f\"rel_diff > 0.05:\\t {sorted(head_list_1, reverse=True)}\")\n",
    "\n",
    "head_list_2 = [tuple(idx) for idx in t.nonzero(t.abs(results_resid_post_41) > 0.02, as_tuple=False).tolist() if tuple(idx) not in head_list_1]\n",
    "print(f\"0.05 > rel_diff > 0.02:\\t {sorted(head_list_2, reverse=True)}\")"
   ]
  },
  {
   "cell_type": "markdown",
   "metadata": {},
   "source": [
    "We can visualize the attention pattern of these heads to help our analysis."
   ]
  },
  {
   "cell_type": "code",
   "execution_count": 9,
   "metadata": {},
   "outputs": [
    {
     "data": {
      "text/html": [
       "<div id=\"circuits-vis-47608c21-4870\" style=\"margin: 15px 0;\"/>\n",
       "    <script crossorigin type=\"module\">\n",
       "    import { render, AttentionPatterns } from \"https://unpkg.com/circuitsvis@1.41.0/dist/cdn/esm.js\";\n",
       "    render(\n",
       "      \"circuits-vis-47608c21-4870\",\n",
       "      AttentionPatterns,\n",
       "      {\"tokens\": [\"<bos>\", \"4\", \"+\", \"3\", \"=\", \"8\", \"\\n\", \"3\", \"+\", \"2\", \"=\", \"6\", \"\\n\", \"6\", \"+\", \"0\", \"=\", \"7\", \"\\n\", \"3\", \"+\", \"3\", \"=\", \"7\", \"\\n\", \"1\", \"+\", \"0\", \"=\"], \"attention\": [[[1.0, 0.0, 0.0, 0.0, 0.0, 0.0, 0.0, 0.0, 0.0, 0.0, 0.0, 0.0, 0.0, 0.0, 0.0, 0.0, 0.0, 0.0, 0.0, 0.0, 0.0, 0.0, 0.0, 0.0, 0.0, 0.0, 0.0, 0.0, 0.0], [0.8365178108215332, 0.163482204079628, 0.0, 0.0, 0.0, 0.0, 0.0, 0.0, 0.0, 0.0, 0.0, 0.0, 0.0, 0.0, 0.0, 0.0, 0.0, 0.0, 0.0, 0.0, 0.0, 0.0, 0.0, 0.0, 0.0, 0.0, 0.0, 0.0, 0.0], [0.8500933647155762, 0.04944038391113281, 0.1004662811756134, 0.0, 0.0, 0.0, 0.0, 0.0, 0.0, 0.0, 0.0, 0.0, 0.0, 0.0, 0.0, 0.0, 0.0, 0.0, 0.0, 0.0, 0.0, 0.0, 0.0, 0.0, 0.0, 0.0, 0.0, 0.0, 0.0], [0.8130886554718018, 0.009968914091587067, 0.040476709604263306, 0.13646574318408966, 0.0, 0.0, 0.0, 0.0, 0.0, 0.0, 0.0, 0.0, 0.0, 0.0, 0.0, 0.0, 0.0, 0.0, 0.0, 0.0, 0.0, 0.0, 0.0, 0.0, 0.0, 0.0, 0.0, 0.0, 0.0], [0.6877633333206177, 0.001374591956846416, 0.005535039119422436, 0.03357912600040436, 0.2717479169368744, 0.0, 0.0, 0.0, 0.0, 0.0, 0.0, 0.0, 0.0, 0.0, 0.0, 0.0, 0.0, 0.0, 0.0, 0.0, 0.0, 0.0, 0.0, 0.0, 0.0, 0.0, 0.0, 0.0, 0.0], [0.7268533706665039, 0.0007924375822767615, 0.0015188533579930663, 0.011126231402158737, 0.02987642027437687, 0.22983267903327942, 0.0, 0.0, 0.0, 0.0, 0.0, 0.0, 0.0, 0.0, 0.0, 0.0, 0.0, 0.0, 0.0, 0.0, 0.0, 0.0, 0.0, 0.0, 0.0, 0.0, 0.0, 0.0, 0.0], [0.7913385033607483, 0.0011823095846921206, 0.001798092620447278, 0.0025877179577946663, 0.016579557210206985, 0.03507517650723457, 0.1514386385679245, 0.0, 0.0, 0.0, 0.0, 0.0, 0.0, 0.0, 0.0, 0.0, 0.0, 0.0, 0.0, 0.0, 0.0, 0.0, 0.0, 0.0, 0.0, 0.0, 0.0, 0.0, 0.0], [0.62891685962677, 0.0008596169645898044, 0.0010316898114979267, 0.002131677232682705, 0.0054730502888560295, 0.027949556708335876, 0.04195166751742363, 0.29168587923049927, 0.0, 0.0, 0.0, 0.0, 0.0, 0.0, 0.0, 0.0, 0.0, 0.0, 0.0, 0.0, 0.0, 0.0, 0.0, 0.0, 0.0, 0.0, 0.0, 0.0, 0.0], [0.8519769906997681, 0.0010243691504001617, 0.0017205943586304784, 0.002441129647195339, 0.0031802929006516933, 0.0042336368933320045, 0.009736290201544762, 0.0296674445271492, 0.09601931273937225, 0.0, 0.0, 0.0, 0.0, 0.0, 0.0, 0.0, 0.0, 0.0, 0.0, 0.0, 0.0, 0.0, 0.0, 0.0, 0.0, 0.0, 0.0, 0.0, 0.0], [0.6786158084869385, 0.0002716659801080823, 0.0011470725294202566, 0.0021312409080564976, 0.0030020978301763535, 0.002431384054943919, 0.006514937151223421, 0.008901776745915413, 0.013006411492824554, 0.2839776277542114, 0.0, 0.0, 0.0, 0.0, 0.0, 0.0, 0.0, 0.0, 0.0, 0.0, 0.0, 0.0, 0.0, 0.0, 0.0, 0.0, 0.0, 0.0, 0.0], [0.8185479044914246, 0.0006633235025219619, 0.0007153622573241591, 0.0016811458626762033, 0.0045924680307507515, 0.0068313851952552795, 0.0033977790735661983, 0.002522518392652273, 0.0012717983918264508, 0.03214278817176819, 0.12763351202011108, 0.0, 0.0, 0.0, 0.0, 0.0, 0.0, 0.0, 0.0, 0.0, 0.0, 0.0, 0.0, 0.0, 0.0, 0.0, 0.0, 0.0, 0.0], [0.6701323986053467, 0.0008646323112770915, 0.0012298498768359423, 0.002026441041380167, 0.005570426117628813, 0.006433391012251377, 0.016682641580700874, 0.002602196764200926, 0.0012502694735303521, 0.018718473613262177, 0.01775955781340599, 0.2567296624183655, 0.0, 0.0, 0.0, 0.0, 0.0, 0.0, 0.0, 0.0, 0.0, 0.0, 0.0, 0.0, 0.0, 0.0, 0.0, 0.0, 0.0], [0.8183929920196533, 0.001192666357383132, 0.0009079401497729123, 0.0007865714724175632, 0.0044680144637823105, 0.0048804148100316525, 0.00968085415661335, 0.002832375466823578, 0.0008172900998033583, 0.003540982026606798, 0.004699810408055782, 0.027118019759655, 0.120681993663311, 0.0, 0.0, 0.0, 0.0, 0.0, 0.0, 0.0, 0.0, 0.0, 0.0, 0.0, 0.0, 0.0, 0.0, 0.0, 0.0], [0.5801148414611816, 0.0011114218505099416, 0.0006410461501218379, 0.0008401373634114861, 0.002125645289197564, 0.003032499924302101, 0.00951111689209938, 0.004415000788867474, 0.0007787399808876216, 0.003996592480689287, 0.0014197095297276974, 0.025970229879021645, 0.021524351090192795, 0.34451860189437866, 0.0, 0.0, 0.0, 0.0, 0.0, 0.0, 0.0, 0.0, 0.0, 0.0, 0.0, 0.0, 0.0, 0.0, 0.0], [0.8741337060928345, 0.0004094053292647004, 0.0006019558059051633, 0.0007147538708522916, 0.0018976822029799223, 0.0020201310981065035, 0.003480343148112297, 0.0030163307674229145, 0.00024748771102167666, 0.005069687031209469, 0.0007117675268091261, 0.005446421913802624, 0.0060998499393463135, 0.02989632450044155, 0.06625411659479141, 0.0, 0.0, 0.0, 0.0, 0.0, 0.0, 0.0, 0.0, 0.0, 0.0, 0.0, 0.0, 0.0, 0.0], [0.677175760269165, 0.0007229556213133037, 0.000599334598518908, 0.0006097027799114585, 0.0011796869803220034, 0.0007770066149532795, 0.004891694989055395, 0.0015440996503457427, 0.0008921873522922397, 0.006796224974095821, 0.0014803484082221985, 0.003218070836737752, 0.002261379035189748, 0.009647439233958721, 0.014049815945327282, 0.27415427565574646, 0.0, 0.0, 0.0, 0.0, 0.0, 0.0, 0.0, 0.0, 0.0, 0.0, 0.0, 0.0, 0.0], [0.8094277381896973, 0.000956567469984293, 0.000839988817460835, 0.0014056437648832798, 0.00423699663951993, 0.00388397928327322, 0.0028758440166711807, 0.0009569307439960539, 0.0003800395643338561, 0.005173898302018642, 0.0012469341745600104, 0.007647799327969551, 0.001165836350992322, 0.0033731309231370687, 0.0008305550436489284, 0.03546668216586113, 0.12013144791126251, 0.0, 0.0, 0.0, 0.0, 0.0, 0.0, 0.0, 0.0, 0.0, 0.0, 0.0, 0.0], [0.7097060680389404, 0.0008114479715004563, 0.0012670879950746894, 0.002053684089332819, 0.004562713671475649, 0.004360188264399767, 0.01098527293652296, 0.0009996017906814814, 0.0005396388587541878, 0.0026333266869187355, 0.00154035200830549, 0.008822235278785229, 0.007434176281094551, 0.0024048518389463425, 0.0008374603930860758, 0.009883533231914043, 0.012623580172657967, 0.21853476762771606, 0.0, 0.0, 0.0, 0.0, 0.0, 0.0, 0.0, 0.0, 0.0, 0.0, 0.0], [0.8008522987365723, 0.002352009527385235, 0.001218393910676241, 0.001127241412177682, 0.0035681624431163073, 0.003974324092268944, 0.00653180293738842, 0.0012582800118252635, 0.000655466690659523, 0.001616224879398942, 0.0014242390170693398, 0.0050097182393074036, 0.004516323562711477, 0.002753316890448332, 0.00042468358878977597, 0.0026452727615833282, 0.003719610394909978, 0.03114156797528267, 0.12521103024482727, 0.0, 0.0, 0.0, 0.0, 0.0, 0.0, 0.0, 0.0, 0.0, 0.0], [0.5664089918136597, 0.0018512372625991702, 0.0012429028283804655, 0.0013561482774093747, 0.0019357933197170496, 0.004167481791228056, 0.004875952377915382, 0.002609935589134693, 0.0004916806356050074, 0.0008444171980954707, 0.0003325476427562535, 0.004309877287596464, 0.0038993030320852995, 0.004309810698032379, 0.0005296865128912032, 0.002534389728680253, 0.0012054324615746737, 0.020950375124812126, 0.02180822752416134, 0.35433584451675415, 0.0, 0.0, 0.0, 0.0, 0.0, 0.0, 0.0, 0.0, 0.0], [0.8646594285964966, 0.002521502785384655, 0.0017517958767712116, 0.0016374895349144936, 0.0019143028184771538, 0.0018320793751627207, 0.0013478809269145131, 0.001363525167107582, 0.00023738734307698905, 0.001387262367643416, 0.00043785496382042766, 0.0032685683108866215, 0.0012094046687707305, 0.004562688060104847, 0.00015157836605794728, 0.002905092667788267, 0.0006078892038203776, 0.006702781654894352, 0.0056168693117797375, 0.03727426379919052, 0.058610349893569946, 0.0, 0.0, 0.0, 0.0, 0.0, 0.0, 0.0, 0.0], [0.6733607053756714, 0.0003020136209670454, 0.000432274944614619, 0.0005168153438717127, 0.0019417940638959408, 0.0009009918430820107, 0.00154325389303267, 0.0015178644098341465, 0.00033967281342484057, 0.0014862021198496222, 0.0003703121328726411, 0.0006395112723112106, 0.0010901717469096184, 0.0008359791245311499, 0.0006827410543337464, 0.0037941704504191875, 0.0010144469561055303, 0.0023843832314014435, 0.0014876298373565078, 0.006699097342789173, 0.01158862467855215, 0.2870713770389557, 0.0, 0.0, 0.0, 0.0, 0.0, 0.0, 0.0], [0.797620415687561, 0.0010846350342035294, 0.0007752046803943813, 0.002348583424463868, 0.005879622884094715, 0.002907276852056384, 0.0017073368653655052, 0.000955272582359612, 0.00016118209168780595, 0.0034664012491703033, 0.0011299140751361847, 0.0038106015417724848, 0.0010632304474711418, 0.0011769692646339536, 0.0002123496524291113, 0.003431575605645776, 0.001269111642614007, 0.008224137127399445, 0.0019063716754317284, 0.0034396364353597164, 0.000991680077277124, 0.03514523804187775, 0.12129326164722443, 0.0, 0.0, 0.0, 0.0, 0.0, 0.0], [0.7063430547714233, 0.00031481616315431893, 0.0005660049500875175, 0.0007967205601744354, 0.0033904355950653553, 0.003681793576106429, 0.005383812356740236, 0.0015286867273971438, 0.0006751555483788252, 0.003733409568667412, 0.0013713296502828598, 0.006914806552231312, 0.004252160899341106, 0.0009435309912078083, 0.0003860050346702337, 0.0020212484523653984, 0.0011343045625835657, 0.008717818185687065, 0.00922444649040699, 0.0024888115003705025, 0.0008291600388474762, 0.015830203890800476, 0.011916453018784523, 0.20755580067634583, 0.0, 0.0, 0.0, 0.0, 0.0], [0.7902203798294067, 0.0008968866313807666, 0.0007267975597642362, 0.001795999240130186, 0.0049698371440172195, 0.007670022081583738, 0.007754407823085785, 0.001985823269933462, 0.00033379296655766666, 0.002583821304142475, 0.0006549647659994662, 0.005843139719218016, 0.003459799336269498, 0.0015098561998456717, 0.0005071573541499674, 0.0012979803141206503, 0.0010895831510424614, 0.005581885576248169, 0.005430436693131924, 0.0030409488826990128, 0.0003929662052541971, 0.0030633071437478065, 0.0028612427413463593, 0.024921581149101257, 0.1214073896408081, 0.0, 0.0, 0.0, 0.0], [0.5591976642608643, 0.0005295222508721054, 0.0006040129228495061, 0.0009825376328080893, 0.0014966126764193177, 0.0030885026790201664, 0.005498836282640696, 0.004106724169105291, 0.0006278667715378106, 0.0018497640267014503, 0.00031578695052303374, 0.007045871112495661, 0.0014375644968822598, 0.0020963256247341633, 0.00023105082800611854, 0.0007868839311413467, 0.00026727921795099974, 0.004821876063942909, 0.003329225815832615, 0.005113690160214901, 0.00046663888497278094, 0.0033948468044400215, 0.0009473017998971045, 0.019465181976556778, 0.019845612347126007, 0.35245281457901, 0.0, 0.0, 0.0], [0.8610617518424988, 0.0008975020609796047, 0.0005837526987306774, 0.0009233226301148534, 0.0006667140405625105, 0.003014055546373129, 0.0024134195409715176, 0.002936562057584524, 0.00038267788477241993, 0.0023499999660998583, 0.0002903247659560293, 0.004893220961093903, 0.0004511515435297042, 0.00154107587877661, 0.00010359374573454261, 0.0013667333405464888, 0.0003670393780339509, 0.0048962486907839775, 0.001465681823901832, 0.004449609667062759, 0.00012343181879259646, 0.0041125169955194, 0.0004427236854098737, 0.006704973988234997, 0.00691169872879982, 0.033545006066560745, 0.05310517176985741, 0.0, 0.0], [0.7427499294281006, 0.00012548408994916826, 0.00018662418005988002, 0.00020008085994049907, 0.00012194750888738781, 0.0002820513618644327, 0.0009883672464638948, 0.0007740017026662827, 0.0003814773808699101, 0.0005568944616243243, 0.0007394168642349541, 0.0010208046296611428, 0.0005913591012358665, 0.001474893419072032, 0.00016118367784656584, 0.0009920743759721518, 0.00019744233577512205, 0.0006165809463709593, 0.00115211249794811, 0.0008126408793032169, 0.0006098967278376222, 0.004524012096226215, 0.0009232101729139686, 0.0017755917506292462, 0.0013347225030884147, 0.005018023308366537, 0.011519490741193295, 0.22016960382461548, 0.0], [0.7775251269340515, 0.0003455833939369768, 0.000316538818879053, 0.0008864194387570024, 0.0010779027361422777, 0.0026631453074514866, 0.0019962287042289972, 0.000881883199326694, 0.00026258028810843825, 0.0030809117015451193, 0.0009777419036254287, 0.003029969986528158, 0.0005037208320572972, 0.0009098866139538586, 9.761004184838384e-05, 0.0030628954991698265, 0.00123948126565665, 0.005179884843528271, 0.0011655720882117748, 0.0009722871473059058, 0.00021147656661923975, 0.004429426975548267, 0.001342646311968565, 0.00839408952742815, 0.001850190106779337, 0.003104630159214139, 0.0009657039190642536, 0.03115909919142723, 0.14236733317375183]], [[1.0, 0.0, 0.0, 0.0, 0.0, 0.0, 0.0, 0.0, 0.0, 0.0, 0.0, 0.0, 0.0, 0.0, 0.0, 0.0, 0.0, 0.0, 0.0, 0.0, 0.0, 0.0, 0.0, 0.0, 0.0, 0.0, 0.0, 0.0, 0.0], [0.9740581512451172, 0.025941908359527588, 0.0, 0.0, 0.0, 0.0, 0.0, 0.0, 0.0, 0.0, 0.0, 0.0, 0.0, 0.0, 0.0, 0.0, 0.0, 0.0, 0.0, 0.0, 0.0, 0.0, 0.0, 0.0, 0.0, 0.0, 0.0, 0.0, 0.0], [0.9044849872589111, 0.0032404870726168156, 0.092274509370327, 0.0, 0.0, 0.0, 0.0, 0.0, 0.0, 0.0, 0.0, 0.0, 0.0, 0.0, 0.0, 0.0, 0.0, 0.0, 0.0, 0.0, 0.0, 0.0, 0.0, 0.0, 0.0, 0.0, 0.0, 0.0, 0.0], [0.8626599907875061, 0.0009751112665981054, 0.024785198271274567, 0.11157973110675812, 0.0, 0.0, 0.0, 0.0, 0.0, 0.0, 0.0, 0.0, 0.0, 0.0, 0.0, 0.0, 0.0, 0.0, 0.0, 0.0, 0.0, 0.0, 0.0, 0.0, 0.0, 0.0, 0.0, 0.0, 0.0], [0.7546787858009338, 0.0007836489239707589, 0.0068907164968550205, 0.03863019496202469, 0.19901666045188904, 0.0, 0.0, 0.0, 0.0, 0.0, 0.0, 0.0, 0.0, 0.0, 0.0, 0.0, 0.0, 0.0, 0.0, 0.0, 0.0, 0.0, 0.0, 0.0, 0.0, 0.0, 0.0, 0.0, 0.0], [0.7514532208442688, 0.0004540819500107318, 0.00138287921436131, 0.009700238704681396, 0.05346446856856346, 0.18354517221450806, 0.0, 0.0, 0.0, 0.0, 0.0, 0.0, 0.0, 0.0, 0.0, 0.0, 0.0, 0.0, 0.0, 0.0, 0.0, 0.0, 0.0, 0.0, 0.0, 0.0, 0.0, 0.0, 0.0], [0.727780818939209, 0.0007292709196917713, 0.001283065415918827, 0.0027499599382281303, 0.0269673652946949, 0.06140698492527008, 0.17908251285552979, 0.0, 0.0, 0.0, 0.0, 0.0, 0.0, 0.0, 0.0, 0.0, 0.0, 0.0, 0.0, 0.0, 0.0, 0.0, 0.0, 0.0, 0.0, 0.0, 0.0, 0.0, 0.0], [0.8431349992752075, 0.0006135505391284823, 0.0007527581183239818, 0.0014666522620245814, 0.002406428102403879, 0.014727914705872536, 0.02767120487987995, 0.10922643542289734, 0.0, 0.0, 0.0, 0.0, 0.0, 0.0, 0.0, 0.0, 0.0, 0.0, 0.0, 0.0, 0.0, 0.0, 0.0, 0.0, 0.0, 0.0, 0.0, 0.0, 0.0], [0.739115834236145, 0.000124942947877571, 0.0008460861281491816, 0.0010140686063095927, 0.0039731827564537525, 0.0051040044054389, 0.014766793698072433, 0.07467377185821533, 0.1603812873363495, 0.0, 0.0, 0.0, 0.0, 0.0, 0.0, 0.0, 0.0, 0.0, 0.0, 0.0, 0.0, 0.0, 0.0, 0.0, 0.0, 0.0, 0.0, 0.0, 0.0], [0.8284606337547302, 0.0003500405582599342, 0.0011177218984812498, 0.00213458645157516, 0.0058770859614014626, 0.01039486937224865, 0.0038785545621067286, 0.012630034238100052, 0.006303706672042608, 0.1288527399301529, 0.0, 0.0, 0.0, 0.0, 0.0, 0.0, 0.0, 0.0, 0.0, 0.0, 0.0, 0.0, 0.0, 0.0, 0.0, 0.0, 0.0, 0.0, 0.0], [0.7601745128631592, 0.00024350176681764424, 0.0007589345914311707, 0.0009689162252470851, 0.005652847699820995, 0.0017006088746711612, 0.0023261362221091986, 0.0015195871237665415, 0.003261519130319357, 0.06177471578121185, 0.16161870956420898, 0.0, 0.0, 0.0, 0.0, 0.0, 0.0, 0.0, 0.0, 0.0, 0.0, 0.0, 0.0, 0.0, 0.0, 0.0, 0.0, 0.0, 0.0], [0.7382956743240356, 0.00026454016915522516, 0.0012186735402792692, 0.002643302083015442, 0.015256093814969063, 0.011441798880696297, 0.005577746778726578, 0.0017786109820008278, 0.0005029845051467419, 0.02165251597762108, 0.05219224840402603, 0.1491757184267044, 0.0, 0.0, 0.0, 0.0, 0.0, 0.0, 0.0, 0.0, 0.0, 0.0, 0.0, 0.0, 0.0, 0.0, 0.0, 0.0, 0.0], [0.7982138395309448, 0.0009528591763228178, 0.0016883201897144318, 0.0013841339386999607, 0.007673425599932671, 0.004989555571228266, 0.016989335417747498, 0.0020186842884868383, 0.0018228692933917046, 0.003414850914850831, 0.009792417287826538, 0.059707075357437134, 0.09135265648365021, 0.0, 0.0, 0.0, 0.0, 0.0, 0.0, 0.0, 0.0, 0.0, 0.0, 0.0, 0.0, 0.0, 0.0, 0.0, 0.0], [0.8339859247207642, 0.0003577335155569017, 0.0006196500617079437, 0.0006602725479751825, 0.0017542218556627631, 0.002118249423801899, 0.003122159978374839, 0.003997317049652338, 0.0003707855357788503, 0.001974416198208928, 0.0005787787958979607, 0.023395908996462822, 0.011107580736279488, 0.11595696210861206, 0.0, 0.0, 0.0, 0.0, 0.0, 0.0, 0.0, 0.0, 0.0, 0.0, 0.0, 0.0, 0.0, 0.0, 0.0], [0.698036253452301, 0.00011093609646195546, 0.0003522223560139537, 0.0001927593839354813, 0.001963814254850149, 0.0008067841408774257, 0.0015251145232468843, 0.0019726708997040987, 0.0020096227526664734, 0.002412833273410797, 0.001447511836886406, 0.0055051688104867935, 0.008181056939065456, 0.10041513293981552, 0.17506814002990723, 0.0, 0.0, 0.0, 0.0, 0.0, 0.0, 0.0, 0.0, 0.0, 0.0, 0.0, 0.0, 0.0, 0.0], [0.8349717259407043, 0.00037743235589005053, 0.00040110296686179936, 0.0005979224806651473, 0.0019482104107737541, 0.0008839010260999203, 0.0019424622878432274, 0.001251707086339593, 0.0005366366822272539, 0.0040815165266394615, 0.001692683668807149, 0.010143153369426727, 0.0023259150329977274, 0.0219521913677454, 0.019847333431243896, 0.0970461368560791, 0.0, 0.0, 0.0, 0.0, 0.0, 0.0, 0.0, 0.0, 0.0, 0.0, 0.0, 0.0, 0.0], [0.7516422271728516, 0.0003380553680472076, 0.00041889736894518137, 0.000325123401125893, 0.004269870929419994, 0.0006857146508991718, 0.001675318693742156, 0.00037246933788992465, 0.0003714105114340782, 0.002411008346825838, 0.0016843469347804785, 0.003271498018875718, 0.0022846749052405357, 0.0020546705927699804, 0.003579607466235757, 0.06731480360031128, 0.15730035305023193, 0.0, 0.0, 0.0, 0.0, 0.0, 0.0, 0.0, 0.0, 0.0, 0.0, 0.0, 0.0], [0.7767490148544312, 0.0005613456014543772, 0.0006644678069278598, 0.0007955222390592098, 0.004542966838926077, 0.0033550881780683994, 0.0069442614912986755, 0.0006760074757039547, 0.0003512605035211891, 0.0035872417502105236, 0.005383330397307873, 0.016698304563760757, 0.0016382625326514244, 0.0020146691240370274, 0.00023959750251378864, 0.014415380544960499, 0.032503724098205566, 0.1288796067237854, 0.0, 0.0, 0.0, 0.0, 0.0, 0.0, 0.0, 0.0, 0.0, 0.0, 0.0], [0.7805984020233154, 0.0005386562552303076, 0.000910770206246525, 0.0005586111219599843, 0.005606153514236212, 0.0024474964011460543, 0.02484569139778614, 0.002011490985751152, 0.0025696083903312683, 0.0027225231751799583, 0.0014272325206547976, 0.009010524488985538, 0.011735576204955578, 0.001460525905713439, 0.0009537346777506173, 0.0021117879077792168, 0.007842857390642166, 0.04092658683657646, 0.10172183066606522, 0.0, 0.0, 0.0, 0.0, 0.0, 0.0, 0.0, 0.0, 0.0, 0.0], [0.8508670926094055, 0.0003719972155522555, 0.00046213457244448364, 0.0005117814871482551, 0.0009903318714350462, 0.0027648303657770157, 0.005587381776422262, 0.001931966980919242, 0.0003063572512473911, 0.00048824239638634026, 0.0005220165476202965, 0.0031645235139876604, 0.0009770561009645462, 0.003454172285273671, 0.00026898705982603133, 0.0012949107913300395, 0.0009775179205462337, 0.022262059152126312, 0.012586351484060287, 0.09021030366420746, 0.0, 0.0, 0.0, 0.0, 0.0, 0.0, 0.0, 0.0, 0.0], [0.6275873184204102, 5.158547355677001e-05, 9.070761734619737e-05, 0.00016063569637481123, 0.0008096622186712921, 0.000914515636395663, 0.0014103265712037683, 0.0007149310549721122, 0.0010523498058319092, 0.000316944089718163, 0.0005515688098967075, 0.0015052387025207281, 0.0013244118308648467, 0.0018539882730692625, 0.002763685304671526, 0.0017959531396627426, 0.0013839235762134194, 0.00484090019017458, 0.011167437769472599, 0.14309409260749817, 0.19660985469818115, 0.0, 0.0, 0.0, 0.0, 0.0, 0.0, 0.0, 0.0], [0.8412176370620728, 0.0004036607570014894, 0.0003021697630174458, 0.00027907450566999614, 0.0004832870326936245, 0.0005424191476777196, 0.0008613675599917769, 0.001120787113904953, 0.0005095397937111557, 0.0009862170554697514, 0.0005191996460780501, 0.001402572263032198, 0.0003468348004389554, 0.0014760247431695461, 0.00034688026062212884, 0.003170667216181755, 0.002731833141297102, 0.009051211178302765, 0.0024283952079713345, 0.01756533794105053, 0.007629961706697941, 0.10662496089935303, 0.0, 0.0, 0.0, 0.0, 0.0, 0.0, 0.0], [0.732979953289032, 0.00018391462799627334, 0.00014792036381550133, 0.000129219755763188, 0.0012379890540614724, 0.000609671464189887, 0.0006148444954305887, 0.00039648942765779793, 0.0006811452331021428, 0.0005960028502158821, 0.0009900403674691916, 0.0008438369841314852, 0.00037559113116003573, 0.00025643024127930403, 0.0001733332610456273, 0.002132824156433344, 0.0009348043240606785, 0.0024659279733896255, 0.0016367568168789148, 0.0023989947512745857, 0.002772450912743807, 0.11077217012643814, 0.13666965067386627, 0.0, 0.0, 0.0, 0.0, 0.0, 0.0], [0.7634899020195007, 0.003132742363959551, 0.001463519991375506, 0.0010970975272357464, 0.008679075166583061, 0.0023983449209481478, 0.0025810208171606064, 0.0005545846652239561, 0.00033385632559657097, 0.0030228605028241873, 0.0020758002065122128, 0.0062068747356534, 0.001317621674388647, 0.0005468283197842538, 0.0001556562929181382, 0.0029091602191329002, 0.004824692849069834, 0.018789008259773254, 0.001968374475836754, 0.002271003555506468, 0.0002270365657750517, 0.01965852826833725, 0.026144664734601974, 0.12615178525447845, 0.0, 0.0, 0.0, 0.0, 0.0], [0.7860249280929565, 0.0009104234050028026, 0.0010598425287753344, 0.00047281666775234044, 0.002102294936776161, 0.0009301523095928133, 0.00874674879014492, 0.001090610516257584, 0.0019336417317390442, 0.0014398354105651379, 0.0023618368431925774, 0.003041560295969248, 0.014028003439307213, 0.0011604073224589229, 0.0009445339674130082, 0.0015547029906883836, 0.0010004965588450432, 0.006966223940253258, 0.012955069541931152, 0.0012505496852099895, 0.001116967760026455, 0.0028521239291876554, 0.010178018361330032, 0.03507354110479355, 0.10080467909574509, 0.0, 0.0, 0.0, 0.0], [0.831437885761261, 0.0008936384692788124, 0.0014234633417800069, 0.001068993122316897, 0.0026882344391196966, 0.0019424422644078732, 0.002496277214959264, 0.0006302545079961419, 0.00010415830183774233, 0.0005587161867879331, 0.0002996348193846643, 0.0045224581845104694, 0.0015754245687276125, 0.0016566819977015257, 9.913546819007024e-05, 0.0003385097370482981, 0.0002387349959462881, 0.002994103590026498, 0.0007458073669113219, 0.003710653632879257, 0.00010708973422879353, 0.0017661778256297112, 0.0005286085070110857, 0.021607758477330208, 0.00940595380961895, 0.10715922713279724, 0.0, 0.0, 0.0], [0.645786464214325, 3.937472865800373e-05, 0.0005015406641177833, 0.0003734802594408393, 0.0006130335968919098, 0.0002765780664049089, 0.0005022702971473336, 0.00020673932158388197, 0.00014298639143817127, 0.0002625673951115459, 0.00018595826986711472, 0.001148367882706225, 0.0008017367799766362, 0.0004933532909490168, 0.0005388703430071473, 0.00022570116561837494, 0.0002929350594058633, 0.001096993451938033, 0.000981307472102344, 0.0018485893961042166, 0.00247685587964952, 0.0024704551324248314, 0.002041886793449521, 0.003822864266112447, 0.0063794804736971855, 0.16225630044937134, 0.16423338651657104, 0.0, 0.0], [0.8292813897132874, 0.0001879465562524274, 0.00035720219602808356, 0.0004235514788888395, 0.0008772293804213405, 0.0006011599325574934, 0.0021127599757164717, 0.0008660320891067386, 0.00023515825159847736, 0.00035427988041192293, 7.752918463665992e-05, 0.0012236867332831025, 0.000265664653852582, 0.0009120742906816304, 0.0003380605485290289, 0.0006817608955316246, 0.0005886987200938165, 0.0013233820209279656, 0.000452737498562783, 0.0014693931443616748, 0.00017437948554288596, 0.004305808339267969, 0.0025877533480525017, 0.008013365790247917, 0.0031414951663464308, 0.01986391842365265, 0.011552765034139156, 0.10773078352212906, 0.0], [0.767627477645874, 3.8563441194128245e-05, 0.00012249185238033533, 0.00011833542521344498, 0.0007665302837267518, 0.0004198510723654181, 0.0006609554402530193, 0.00024702795781195164, 0.00020275896531529725, 0.00026587388128973544, 0.00039520105929113925, 0.0007430901750922203, 0.0002866517170332372, 0.0003639310016296804, 0.00029971724143251777, 0.0005800288054160774, 0.0006460999138653278, 0.0008572831284254789, 0.00045857770601287484, 0.00039483694126829505, 0.0001773300173226744, 0.003391244448721409, 0.0011889623710885644, 0.0025134477764368057, 0.0018038947600871325, 0.0026863436214625835, 0.0026270754169672728, 0.09446446597576141, 0.11565200239419937]], [[1.0, 0.0, 0.0, 0.0, 0.0, 0.0, 0.0, 0.0, 0.0, 0.0, 0.0, 0.0, 0.0, 0.0, 0.0, 0.0, 0.0, 0.0, 0.0, 0.0, 0.0, 0.0, 0.0, 0.0, 0.0, 0.0, 0.0, 0.0, 0.0], [0.3564603924751282, 0.6435396671295166, 0.0, 0.0, 0.0, 0.0, 0.0, 0.0, 0.0, 0.0, 0.0, 0.0, 0.0, 0.0, 0.0, 0.0, 0.0, 0.0, 0.0, 0.0, 0.0, 0.0, 0.0, 0.0, 0.0, 0.0, 0.0, 0.0, 0.0], [0.7027765512466431, 0.05137054622173309, 0.24585294723510742, 0.0, 0.0, 0.0, 0.0, 0.0, 0.0, 0.0, 0.0, 0.0, 0.0, 0.0, 0.0, 0.0, 0.0, 0.0, 0.0, 0.0, 0.0, 0.0, 0.0, 0.0, 0.0, 0.0, 0.0, 0.0, 0.0], [0.6802424192428589, 0.00511969393119216, 0.021996524184942245, 0.29264140129089355, 0.0, 0.0, 0.0, 0.0, 0.0, 0.0, 0.0, 0.0, 0.0, 0.0, 0.0, 0.0, 0.0, 0.0, 0.0, 0.0, 0.0, 0.0, 0.0, 0.0, 0.0, 0.0, 0.0, 0.0, 0.0], [0.6921526193618774, 0.007162137888371944, 0.008689220063388348, 0.034156814217567444, 0.2578392028808594, 0.0, 0.0, 0.0, 0.0, 0.0, 0.0, 0.0, 0.0, 0.0, 0.0, 0.0, 0.0, 0.0, 0.0, 0.0, 0.0, 0.0, 0.0, 0.0, 0.0, 0.0, 0.0, 0.0, 0.0], [0.6477029323577881, 0.0021657419856637716, 0.0017260527238249779, 0.005448583979159594, 0.04015890508890152, 0.302797794342041, 0.0, 0.0, 0.0, 0.0, 0.0, 0.0, 0.0, 0.0, 0.0, 0.0, 0.0, 0.0, 0.0, 0.0, 0.0, 0.0, 0.0, 0.0, 0.0, 0.0, 0.0, 0.0, 0.0], [0.5440958738327026, 0.0077831074595451355, 0.006320705637335777, 0.006396155804395676, 0.015490659512579441, 0.06423740088939667, 0.3556761145591736, 0.0, 0.0, 0.0, 0.0, 0.0, 0.0, 0.0, 0.0, 0.0, 0.0, 0.0, 0.0, 0.0, 0.0, 0.0, 0.0, 0.0, 0.0, 0.0, 0.0, 0.0, 0.0], [0.6280949115753174, 0.004490286111831665, 0.00447646202519536, 0.002833209466189146, 0.009151315316557884, 0.01733332872390747, 0.03682291880249977, 0.29679757356643677, 0.0, 0.0, 0.0, 0.0, 0.0, 0.0, 0.0, 0.0, 0.0, 0.0, 0.0, 0.0, 0.0, 0.0, 0.0, 0.0, 0.0, 0.0, 0.0, 0.0, 0.0], [0.7175629138946533, 0.003931732848286629, 0.012178231030702591, 0.009318992495536804, 0.0075755855068564415, 0.012241119518876076, 0.013271203264594078, 0.051574334502220154, 0.17234589159488678, 0.0, 0.0, 0.0, 0.0, 0.0, 0.0, 0.0, 0.0, 0.0, 0.0, 0.0, 0.0, 0.0, 0.0, 0.0, 0.0, 0.0, 0.0, 0.0, 0.0], [0.5835599899291992, 0.0021231817081570625, 0.003015973838046193, 0.005398213397711515, 0.007516317069530487, 0.004793028347194195, 0.0035482896491885185, 0.009768336080014706, 0.017654769122600555, 0.3626219630241394, 0.0, 0.0, 0.0, 0.0, 0.0, 0.0, 0.0, 0.0, 0.0, 0.0, 0.0, 0.0, 0.0, 0.0, 0.0, 0.0, 0.0, 0.0, 0.0], [0.6793745160102844, 0.0026175458915531635, 0.003312202636152506, 0.007607601583003998, 0.018589893355965614, 0.03019792027771473, 0.017149487510323524, 0.013756252825260162, 0.012996670790016651, 0.042056843638420105, 0.17234110832214355, 0.0, 0.0, 0.0, 0.0, 0.0, 0.0, 0.0, 0.0, 0.0, 0.0, 0.0, 0.0, 0.0, 0.0, 0.0, 0.0, 0.0, 0.0], [0.44796133041381836, 0.0013764890609309077, 0.0011559597915038466, 0.0029324230272322893, 0.010691268369555473, 0.010607905685901642, 0.008954521268606186, 0.004869773052632809, 0.0020918031223118305, 0.01599786803126335, 0.026642022654414177, 0.46671855449676514, 0.0, 0.0, 0.0, 0.0, 0.0, 0.0, 0.0, 0.0, 0.0, 0.0, 0.0, 0.0, 0.0, 0.0, 0.0, 0.0, 0.0], [0.5895054936408997, 0.0044142017140984535, 0.004442162346094847, 0.004204767756164074, 0.010094762779772282, 0.01718699000775814, 0.03026229701936245, 0.01999923586845398, 0.007638594601303339, 0.011174687184393406, 0.004935391712933779, 0.03266718611121178, 0.2634742259979248, 0.0, 0.0, 0.0, 0.0, 0.0, 0.0, 0.0, 0.0, 0.0, 0.0, 0.0, 0.0, 0.0, 0.0, 0.0, 0.0], [0.5431631803512573, 0.004724492318928242, 0.002888939343392849, 0.002684491453692317, 0.005596902687102556, 0.00994911789894104, 0.008668603375554085, 0.017160264775156975, 0.0045914663933217525, 0.007888604886829853, 0.0019918871112167835, 0.012836940586566925, 0.026130234822630882, 0.35172486305236816, 0.0, 0.0, 0.0, 0.0, 0.0, 0.0, 0.0, 0.0, 0.0, 0.0, 0.0, 0.0, 0.0, 0.0, 0.0], [0.6586390137672424, 0.002834611339494586, 0.009083444252610207, 0.005936313886195421, 0.007074240129441023, 0.010647116228938103, 0.008248829282820225, 0.01539760734885931, 0.016914771869778633, 0.024561116471886635, 0.0064095137640833855, 0.01796775683760643, 0.0162061657756567, 0.056673191487789154, 0.14340627193450928, 0.0, 0.0, 0.0, 0.0, 0.0, 0.0, 0.0, 0.0, 0.0, 0.0, 0.0, 0.0, 0.0, 0.0], [0.4475851058959961, 0.0005019549862481654, 0.0013522070366889238, 0.0032871828880161047, 0.0020373675506561995, 0.005264997482299805, 0.002302109729498625, 0.005298263859003782, 0.006356782279908657, 0.0168745294213295, 0.004139591474086046, 0.006566784344613552, 0.002593494253233075, 0.009052646346390247, 0.019141962751746178, 0.4676450192928314, 0.0, 0.0, 0.0, 0.0, 0.0, 0.0, 0.0, 0.0, 0.0, 0.0, 0.0, 0.0, 0.0], [0.6242397427558899, 0.0016106507973745465, 0.0018748880829662085, 0.003453882411122322, 0.008130380883812904, 0.01739366166293621, 0.012285043485462666, 0.006358502432703972, 0.0056527117267251015, 0.010982250794768333, 0.012284188531339169, 0.038331031799316406, 0.014568259939551353, 0.017571929842233658, 0.012689199298620224, 0.027797136455774307, 0.18477654457092285, 0.0, 0.0, 0.0, 0.0, 0.0, 0.0, 0.0, 0.0, 0.0, 0.0, 0.0, 0.0], [0.4634435772895813, 0.0005957474932074547, 0.000577855680603534, 0.0015028839698061347, 0.002654643263667822, 0.011592472903430462, 0.005739688407629728, 0.005550634115934372, 0.0025485982187092304, 0.008520277217030525, 0.007920259609818459, 0.025784071534872055, 0.007312232628464699, 0.004410711117088795, 0.0013677736278623343, 0.011227923445403576, 0.02369307540357113, 0.4155575633049011, 0.0, 0.0, 0.0, 0.0, 0.0, 0.0, 0.0, 0.0, 0.0, 0.0, 0.0], [0.5569601655006409, 0.00357098993845284, 0.002435402711853385, 0.002249429700896144, 0.004549975972622633, 0.011173088103532791, 0.015813544392585754, 0.00927380844950676, 0.004139830358326435, 0.006896203383803368, 0.004378768615424633, 0.019933519884943962, 0.01789812371134758, 0.013570645824074745, 0.004442055709660053, 0.006161741446703672, 0.0036085585597902536, 0.030662264674901962, 0.28228187561035156, 0.0, 0.0, 0.0, 0.0, 0.0, 0.0, 0.0, 0.0, 0.0, 0.0], [0.5023395419120789, 0.005710026249289513, 0.00178040424361825, 0.0010485159000381827, 0.0016463476931676269, 0.0028937957249581814, 0.005115446634590626, 0.006415795534849167, 0.0017357842298224568, 0.00797431729733944, 0.0008206983911804855, 0.009792243130505085, 0.005375393666327, 0.014994028955698013, 0.0026393490843474865, 0.0051267435774207115, 0.0007172392215579748, 0.00855436734855175, 0.01911320351064205, 0.39620673656463623, 0.0, 0.0, 0.0, 0.0, 0.0, 0.0, 0.0, 0.0, 0.0], [0.6652128100395203, 0.0051762405782938, 0.008141318336129189, 0.0037730855401605368, 0.004166814964264631, 0.004872336983680725, 0.008432593196630478, 0.006041321437805891, 0.007020932622253895, 0.011471819132566452, 0.0029619568958878517, 0.011430861428380013, 0.003634226508438587, 0.011117609217762947, 0.009731114841997623, 0.02165970206260681, 0.0037984014488756657, 0.007690504193305969, 0.008912120014429092, 0.03924915939569473, 0.15550512075424194, 0.0, 0.0, 0.0, 0.0, 0.0, 0.0, 0.0, 0.0], [0.3792785704135895, 0.0016487960238009691, 0.004086405038833618, 0.003524894593283534, 0.0020973749924451113, 0.0014801708748564124, 0.0016823902260512114, 0.0009091799729503691, 0.0013334095710888505, 0.00527830608189106, 0.0007170276367105544, 0.004728539846837521, 0.0007278511766344309, 0.003238682635128498, 0.002628598129376769, 0.018621088936924934, 0.0030692187137901783, 0.005299217998981476, 0.001783289248123765, 0.004519936628639698, 0.011034701019525528, 0.5423123836517334, 0.0, 0.0, 0.0, 0.0, 0.0, 0.0, 0.0], [0.5895408391952515, 0.0014037257060408592, 0.004119308199733496, 0.004271434620022774, 0.01615072414278984, 0.012064463458955288, 0.00966072641313076, 0.00489172525703907, 0.005722924135625362, 0.008591931313276291, 0.006455257534980774, 0.018033429980278015, 0.008098430931568146, 0.007478110957890749, 0.004721260163933039, 0.012411380186676979, 0.012906244024634361, 0.039852309972047806, 0.016323193907737732, 0.014077550731599331, 0.01626715622842312, 0.025287460535764694, 0.16167044639587402, 0.0, 0.0, 0.0, 0.0, 0.0, 0.0], [0.44457733631134033, 0.0005364291137084365, 0.0008445527637377381, 0.0008427926804870367, 0.004517074674367905, 0.009655035100877285, 0.010513776913285255, 0.004148285835981369, 0.0033604176715016365, 0.0020934143103659153, 0.0008393534226343036, 0.010410076938569546, 0.002148532774299383, 0.0040435283444821835, 0.0017041414976119995, 0.009406637400388718, 0.005549900233745575, 0.019665833562612534, 0.00625829491764307, 0.0033419206738471985, 0.0009267044952139258, 0.008244377560913563, 0.018074197694659233, 0.42829734086990356, 0.0, 0.0, 0.0, 0.0, 0.0], [0.5722851753234863, 0.0016181236132979393, 0.0012790047330781817, 0.0011808725539594889, 0.004745093639940023, 0.008421926759183407, 0.008875178173184395, 0.005351393949240446, 0.005765693727880716, 0.004221099428832531, 0.0023470637388527393, 0.010111293755471706, 0.010755796916782856, 0.009212932549417019, 0.003350147046148777, 0.006872575264424086, 0.0029955825302749872, 0.018995312973856926, 0.016839589923620224, 0.012524358928203583, 0.003245369531214237, 0.0055486178025603294, 0.0037115756422281265, 0.023457858711481094, 0.2562882900238037, 0.0, 0.0, 0.0, 0.0], [0.5156634449958801, 0.0010822286130860448, 0.0007705038296990097, 0.0005815348122268915, 0.0033460822887718678, 0.0031859595328569412, 0.004945406690239906, 0.006956457160413265, 0.0053811222314834595, 0.005969937425106764, 0.000870038173161447, 0.0024493904784321785, 0.004132641479372978, 0.005452630575746298, 0.0013338029384613037, 0.006943950429558754, 0.0009365500300191343, 0.008649058640003204, 0.006484766025096178, 0.01039844285696745, 0.0016772848321124911, 0.004067723173648119, 0.00100733304861933, 0.009481861256062984, 0.019081760197877884, 0.3691501021385193, 0.0, 0.0, 0.0], [0.6693540215492249, 0.004261779133230448, 0.0033062712755054235, 0.0027012606151401997, 0.0026116298977285624, 0.0033571948297321796, 0.002830620389431715, 0.0029598341789096594, 0.004295264836400747, 0.008185459300875664, 0.0034743081778287888, 0.0057143764570355415, 0.006667515262961388, 0.005156141705811024, 0.005664980970323086, 0.010634142905473709, 0.0036306860856711864, 0.008663952350616455, 0.003493025666102767, 0.009220127016305923, 0.006819048896431923, 0.018756674602627754, 0.004758218768984079, 0.007108424790203571, 0.006469318177551031, 0.04408351331949234, 0.14582222700119019, 0.0, 0.0], [0.35263341665267944, 0.000690556364133954, 0.0019618140067905188, 0.002325268229469657, 0.001973535632714629, 0.0006503022741526365, 0.001496609766036272, 0.0004652373609133065, 0.001612499705515802, 0.013975810259580612, 0.0018701464869081974, 0.0022417374420911074, 0.0014278022572398186, 0.0007819534512236714, 0.0005422687390819192, 0.005725182127207518, 0.0003312528133392334, 0.003515844698995352, 0.00042726105311885476, 0.002528539625927806, 0.0017334340373054147, 0.014557065442204475, 0.002857470652088523, 0.0029671702068299055, 0.0009475041297264397, 0.0019794926047325134, 0.008153649978339672, 0.5696271657943726, 0.0], [0.5228271484375, 0.0028970250859856606, 0.0033179158344864845, 0.0032908262219280005, 0.004853487014770508, 0.0037814932875335217, 0.003930457402020693, 0.001726602204144001, 0.005608765408396721, 0.004786068573594093, 0.006826228462159634, 0.0094083771109581, 0.006651518866419792, 0.003430786309763789, 0.003515858668833971, 0.0048433346673846245, 0.007511807139962912, 0.01933089643716812, 0.006152514833956957, 0.006255493964999914, 0.003423758316785097, 0.009759108535945415, 0.010316364467144012, 0.02210991643369198, 0.010277174413204193, 0.016932180151343346, 0.01714128814637661, 0.02121013030409813, 0.2578834295272827]], [[1.0, 0.0, 0.0, 0.0, 0.0, 0.0, 0.0, 0.0, 0.0, 0.0, 0.0, 0.0, 0.0, 0.0, 0.0, 0.0, 0.0, 0.0, 0.0, 0.0, 0.0, 0.0, 0.0, 0.0, 0.0, 0.0, 0.0, 0.0, 0.0], [0.16720882058143616, 0.8327911496162415, 0.0, 0.0, 0.0, 0.0, 0.0, 0.0, 0.0, 0.0, 0.0, 0.0, 0.0, 0.0, 0.0, 0.0, 0.0, 0.0, 0.0, 0.0, 0.0, 0.0, 0.0, 0.0, 0.0, 0.0, 0.0, 0.0, 0.0], [0.16590885818004608, 0.02581704407930374, 0.8082741498947144, 0.0, 0.0, 0.0, 0.0, 0.0, 0.0, 0.0, 0.0, 0.0, 0.0, 0.0, 0.0, 0.0, 0.0, 0.0, 0.0, 0.0, 0.0, 0.0, 0.0, 0.0, 0.0, 0.0, 0.0, 0.0, 0.0], [0.13561967015266418, 0.0005277982563711703, 0.02731034718453884, 0.8365421295166016, 0.0, 0.0, 0.0, 0.0, 0.0, 0.0, 0.0, 0.0, 0.0, 0.0, 0.0, 0.0, 0.0, 0.0, 0.0, 0.0, 0.0, 0.0, 0.0, 0.0, 0.0, 0.0, 0.0, 0.0, 0.0], [0.2058744877576828, 6.152780406409875e-05, 0.0007280206773430109, 0.04250647500157356, 0.7508294582366943, 0.0, 0.0, 0.0, 0.0, 0.0, 0.0, 0.0, 0.0, 0.0, 0.0, 0.0, 0.0, 0.0, 0.0, 0.0, 0.0, 0.0, 0.0, 0.0, 0.0, 0.0, 0.0, 0.0, 0.0], [0.1431884616613388, 2.62866924458649e-05, 8.2252940046601e-05, 0.0008236737339757383, 0.024035759270191193, 0.8318435549736023, 0.0, 0.0, 0.0, 0.0, 0.0, 0.0, 0.0, 0.0, 0.0, 0.0, 0.0, 0.0, 0.0, 0.0, 0.0, 0.0, 0.0, 0.0, 0.0, 0.0, 0.0, 0.0, 0.0], [0.15596677362918854, 4.853941936744377e-05, 1.6833393601700664e-05, 2.675359064596705e-05, 0.0003572884015738964, 0.0184344332665205, 0.8251492977142334, 0.0, 0.0, 0.0, 0.0, 0.0, 0.0, 0.0, 0.0, 0.0, 0.0, 0.0, 0.0, 0.0, 0.0, 0.0, 0.0, 0.0, 0.0, 0.0, 0.0, 0.0, 0.0], [0.1141284927725792, 0.00018554023699834943, 0.00015312395407818258, 9.373477951157838e-05, 0.00037252239417284727, 0.0015574528370052576, 0.017333051189780235, 0.8661761283874512, 0.0, 0.0, 0.0, 0.0, 0.0, 0.0, 0.0, 0.0, 0.0, 0.0, 0.0, 0.0, 0.0, 0.0, 0.0, 0.0, 0.0, 0.0, 0.0, 0.0, 0.0], [0.3087139129638672, 0.000849392730742693, 0.0009364944417029619, 0.0003030502994079143, 0.0003933394909836352, 0.00035618169931694865, 0.0019375690026208758, 0.04194501414895058, 0.6445649862289429, 0.0, 0.0, 0.0, 0.0, 0.0, 0.0, 0.0, 0.0, 0.0, 0.0, 0.0, 0.0, 0.0, 0.0, 0.0, 0.0, 0.0, 0.0, 0.0, 0.0], [0.14138633012771606, 0.0003374396183062345, 0.00028345087775960565, 0.0009220709325745702, 0.0004204818978905678, 0.0003038592985831201, 0.00028342491714283824, 0.0012705946573987603, 0.018927015364170074, 0.8358653783798218, 0.0, 0.0, 0.0, 0.0, 0.0, 0.0, 0.0, 0.0, 0.0, 0.0, 0.0, 0.0, 0.0, 0.0, 0.0, 0.0, 0.0, 0.0, 0.0], [0.32001060247421265, 0.0003275115741416812, 0.00040811882354319096, 0.0009232615702785552, 0.002372299786657095, 0.001636468805372715, 0.000915808486752212, 0.0006118051242083311, 0.004174151923507452, 0.01901472546160221, 0.6496052145957947, 0.0, 0.0, 0.0, 0.0, 0.0, 0.0, 0.0, 0.0, 0.0, 0.0, 0.0, 0.0, 0.0, 0.0, 0.0, 0.0, 0.0, 0.0], [0.25948286056518555, 0.0003932363470084965, 0.00014796524192206562, 0.0009250646689906716, 0.0007937754271551967, 0.002154909772798419, 0.001349516911432147, 0.00022870843531563878, 0.0006623135413974524, 0.0017312417039647698, 0.023886745795607567, 0.7082436084747314, 0.0, 0.0, 0.0, 0.0, 0.0, 0.0, 0.0, 0.0, 0.0, 0.0, 0.0, 0.0, 0.0, 0.0, 0.0, 0.0, 0.0], [0.23592665791511536, 0.0005304728983901441, 0.00012384733418002725, 0.000294393248623237, 0.00040347391040995717, 0.0011209717486053705, 0.0027556719724088907, 0.00027960987063124776, 0.0002040853869402781, 5.732321733376011e-05, 0.0005653201951645315, 0.021588457748293877, 0.7361496686935425, 0.0, 0.0, 0.0, 0.0, 0.0, 0.0, 0.0, 0.0, 0.0, 0.0, 0.0, 0.0, 0.0, 0.0, 0.0, 0.0], [0.11997301876544952, 0.00010329407086828724, 7.932071457616985e-05, 0.0001720591972116381, 8.682918269187212e-05, 0.00034549576230347157, 0.0003283109108451754, 0.0006243027746677399, 0.0003645273973233998, 0.00014774636656511575, 0.00020063237752765417, 0.0013856998411938548, 0.013977483846247196, 0.8622113466262817, 0.0, 0.0, 0.0, 0.0, 0.0, 0.0, 0.0, 0.0, 0.0, 0.0, 0.0, 0.0, 0.0, 0.0, 0.0], [0.3558022677898407, 7.844797801226377e-05, 0.00023921005777083337, 0.0003832008223980665, 0.0005323469522409141, 0.0007001484045758843, 0.0005424681585282087, 0.0007587614236399531, 0.0010488268453627825, 0.00045630946988239884, 0.0005708311800844967, 0.0009412968065589666, 0.00450898427516222, 0.04133588820695877, 0.592100977897644, 0.0, 0.0, 0.0, 0.0, 0.0, 0.0, 0.0, 0.0, 0.0, 0.0, 0.0, 0.0, 0.0, 0.0], [0.14148500561714172, 3.268900400144048e-05, 0.00015915886615402997, 0.000580599473323673, 0.0005555496318265796, 0.0007371652172878385, 0.00010965407273033634, 0.00024054531240835786, 0.0001582657132530585, 0.0009860678110271692, 0.0004708061460405588, 0.0007016044110059738, 0.0008401160594075918, 0.0026933527551591396, 0.03144090622663498, 0.8188084959983826, 0.0, 0.0, 0.0, 0.0, 0.0, 0.0, 0.0, 0.0, 0.0, 0.0, 0.0, 0.0, 0.0], [0.3733929991722107, 1.7621079678065144e-05, 4.924820314045064e-05, 0.00018070561054628342, 0.001332901301793754, 0.0018438546685501933, 0.0010280017741024494, 0.0005361239891499281, 0.000248484022449702, 0.000716024951543659, 0.0014744459185749292, 0.0023276531137526035, 0.0016503094229847193, 0.0005586803890764713, 0.004823967814445496, 0.01868024468421936, 0.5911387205123901, 0.0, 0.0, 0.0, 0.0, 0.0, 0.0, 0.0, 0.0, 0.0, 0.0, 0.0, 0.0], [0.2809039354324341, 3.277215000707656e-05, 4.758225622936152e-05, 9.210461576003581e-05, 0.00032140820985659957, 0.0008864416740834713, 0.0007239285623654723, 0.00045207160292193294, 8.040168904699385e-05, 0.000694372458383441, 0.0002087919565383345, 0.0030666780658066273, 0.0012715201592072845, 0.00020685806521214545, 0.0004760132869705558, 0.001536582363769412, 0.028514500707387924, 0.6804839968681335, 0.0, 0.0, 0.0, 0.0, 0.0, 0.0, 0.0, 0.0, 0.0, 0.0, 0.0], [0.24457335472106934, 5.0237034884048626e-05, 1.4250272215576842e-05, 5.679525656887563e-06, 7.18168739695102e-05, 0.00018375478975940496, 0.0017836272018030286, 0.0011754549341276288, 0.0001458125771023333, 0.000332539901137352, 5.6086661061272025e-05, 0.001598024507984519, 0.0020059258677065372, 0.000272159231826663, 0.00022108101984485984, 5.6059852795442566e-05, 0.0011291727423667908, 0.016342049464583397, 0.7299829721450806, 0.0, 0.0, 0.0, 0.0, 0.0, 0.0, 0.0, 0.0, 0.0, 0.0], [0.16943542659282684, 0.00020885400590486825, 7.999064837349579e-05, 2.2422545953304507e-05, 4.545899719232693e-05, 7.189976895460859e-05, 0.0003461281303316355, 0.00045835511991754174, 0.0001892885338747874, 0.00024672324070706964, 1.563858677400276e-05, 0.0005722773494198918, 0.0002477845991961658, 0.0012249629944562912, 0.0005272318376228213, 0.00023190394858829677, 0.0005716496962122619, 0.001824689214117825, 0.01596318557858467, 0.8077160716056824, 0.0, 0.0, 0.0, 0.0, 0.0, 0.0, 0.0, 0.0, 0.0], [0.3921225070953369, 0.0004299784777686, 0.00016875709115993232, 2.8245245630387217e-05, 5.3691474022343755e-05, 2.922271960414946e-05, 0.00032125337747856975, 0.00015936225827317685, 0.0005838845972903073, 0.00045272958232089877, 0.00011183563037775457, 0.0011573899537324905, 0.00034362683072686195, 0.0009437602711841464, 0.0009979431051760912, 0.0005753164878115058, 0.0011550523340702057, 0.00110244273673743, 0.0058373743668198586, 0.04207189008593559, 0.5513537526130676, 0.0, 0.0, 0.0, 0.0, 0.0, 0.0, 0.0, 0.0], [0.20874202251434326, 0.0002182024618377909, 0.0003211060829926282, 0.00036180345341563225, 0.00026896671624854207, 0.00014349608682096004, 0.00016993183817248791, 9.806829621084034e-05, 0.00025302128051407635, 0.0008753396105021238, 0.00017945680883713067, 0.0008160496363416314, 8.167760825017467e-05, 0.00022170264855958521, 0.00016615085769444704, 0.0019230727339163423, 0.0009755755309015512, 0.0011804953683167696, 0.0012536311987787485, 0.003485073335468769, 0.03376242518424988, 0.7445027232170105, 0.0, 0.0, 0.0, 0.0, 0.0, 0.0, 0.0], [0.38498061895370483, 0.00031978130573406816, 0.00027656080783344805, 0.00032962264958769083, 0.0007411334663629532, 0.0003477270365692675, 0.0002579502179287374, 1.8039958376903087e-05, 7.764150359435007e-05, 0.00011209418153157458, 0.0004450826672837138, 0.0015918939607217908, 0.0005016282084397972, 0.00024577041040174663, 0.00010881973139476031, 0.000739355746190995, 0.001643995987251401, 0.002769387559965253, 0.001800075639039278, 0.0007184561109170318, 0.0042944857850670815, 0.018222477287054062, 0.5794573426246643, 0.0, 0.0, 0.0, 0.0, 0.0, 0.0], [0.3032066524028778, 0.00016881409101188183, 0.00011321401689201593, 0.0005809511058032513, 0.0005368803394958377, 0.0014214175753295422, 0.0007342327735386789, 4.7472756705246866e-05, 5.3053125157020986e-05, 0.00010990630107698962, 0.00019210786558687687, 0.001420300453901291, 0.000643141393084079, 0.00027731346199288964, 5.4925789299886674e-05, 0.0004990540910512209, 0.00014139535778667778, 0.0024532382376492023, 0.001245866296812892, 0.0002682153135538101, 0.00044172845082357526, 0.0014932109043002129, 0.025510266423225403, 0.6583865284919739, 0.0, 0.0, 0.0, 0.0, 0.0], [0.2519853413105011, 0.0002945327141787857, 6.13755255471915e-05, 0.00012733531184494495, 0.00030548713402822614, 0.0008228915394283831, 0.0008942618733271956, 5.9588583098957315e-05, 2.2886584702064283e-05, 1.0679933438950684e-05, 3.546860534697771e-05, 0.0002334183664061129, 0.001281536533497274, 0.0006358798709698021, 7.471515709767118e-05, 0.0002017412189161405, 3.3804375561885536e-05, 0.0011523274006322026, 0.0018687892006710172, 0.0003002797020599246, 0.00016575201880186796, 5.7968565670307726e-05, 0.0013700146228075027, 0.01631324365735054, 0.7216907143592834, 0.0, 0.0, 0.0, 0.0], [0.1387663185596466, 9.321720426669344e-05, 2.6103218260686845e-05, 2.5933977667591535e-05, 5.0310063670622185e-05, 0.00015973055269569159, 0.000282603083178401, 0.0002586740883998573, 8.370033174287528e-05, 3.2992014894261956e-05, 1.0574458428891376e-05, 5.089697151561268e-05, 0.00013589111040346324, 0.00030791349126957357, 6.942589243408293e-05, 0.00015951349632814527, 6.337958893709583e-06, 0.00028401424060575664, 0.00014978207764215767, 0.0009151678532361984, 0.00033781499951146543, 0.00021278586063999683, 0.0008670037495903671, 0.0012945127673447132, 0.011881859041750431, 0.8435369729995728, 0.0, 0.0, 0.0], [0.41713446378707886, 0.0011333266738802195, 0.00041854174924083054, 0.00017279142048209906, 0.00030375615460798144, 0.00021718272182624787, 0.0005434458726085722, 0.0002898721431847662, 0.0001802902261260897, 5.805185355711728e-05, 3.1920433684717864e-05, 4.467952385311946e-05, 0.00013444859359879047, 0.00010264466982334852, 0.00030848293681629, 0.0004279878339730203, 6.8072353315074e-05, 0.001020330935716629, 0.00030640949262306094, 0.0008865520358085632, 0.0007636510417796671, 0.0005048067541792989, 0.001835681265220046, 0.0007500014035031199, 0.004543990362435579, 0.036100175231695175, 0.531718373298645, 0.0, 0.0], [0.23705686628818512, 0.0008140268619172275, 0.0008315264713019133, 0.0009810419287532568, 0.0004992663161829114, 0.00024634419241920114, 0.0002288213581778109, 0.0003065786440856755, 0.00030165986390784383, 0.0004841205372940749, 0.0001424216025043279, 0.00023974012583494186, 8.973514195531607e-05, 7.918973278719932e-05, 0.0002441818651277572, 0.0008186004124581814, 0.0003461939631961286, 0.0006082623731344938, 9.547419176669791e-05, 0.0003599135670810938, 0.0002123519079759717, 0.0020680392626672983, 0.002457198454067111, 0.0008351348806172609, 0.000709573389030993, 0.0018158158054575324, 0.01974528469145298, 0.7273826599121094, 0.0], [0.44512709975242615, 0.0002074878866551444, 0.0009280727826990187, 0.0010571329621598125, 0.0018267896957695484, 0.0014847868587821722, 0.0007187989540398121, 0.0003338029491715133, 0.0002797865599859506, 0.00046110228868201375, 0.0006410924252122641, 0.000751547166146338, 0.0001369040401186794, 1.7932730770553462e-05, 6.134337309049442e-05, 0.00013880315236747265, 0.0005062764976173639, 0.0018358607776463032, 0.0005856473580934107, 0.0002650475362315774, 0.00012089850497432053, 0.0008708437671884894, 0.0030299522913992405, 0.0028725566808134317, 0.0016242577694356441, 0.0007565116393379867, 0.003918392118066549, 0.015665283426642418, 0.5137759447097778]]], \"headLabels\": [\"41.4\", \"41.5\", \"40.11\", \"40.12\"]}\n",
       "    )\n",
       "    </script>"
      ],
      "text/plain": [
       "<circuitsvis.utils.render.RenderedHTML at 0x7f7ff419da60>"
      ]
     },
     "metadata": {},
     "output_type": "display_data"
    }
   ],
   "source": [
    "# Consolidation Heads\n",
    "visualize_heads([(41, 4), (41, 5), (40, 11), (40, 12)], model, processed_data)"
   ]
  },
  {
   "cell_type": "code",
   "execution_count": 10,
   "metadata": {},
   "outputs": [
    {
     "data": {
      "text/html": [
       "<div id=\"circuits-vis-1bfca30d-fa31\" style=\"margin: 15px 0;\"/>\n",
       "    <script crossorigin type=\"module\">\n",
       "    import { render, AttentionPatterns } from \"https://unpkg.com/circuitsvis@1.41.0/dist/cdn/esm.js\";\n",
       "    render(\n",
       "      \"circuits-vis-1bfca30d-fa31\",\n",
       "      AttentionPatterns,\n",
       "      {\"tokens\": [\"<bos>\", \"4\", \"+\", \"3\", \"=\", \"8\", \"\\n\", \"3\", \"+\", \"2\", \"=\", \"6\", \"\\n\", \"6\", \"+\", \"0\", \"=\", \"7\", \"\\n\", \"3\", \"+\", \"3\", \"=\", \"7\", \"\\n\", \"1\", \"+\", \"0\", \"=\"], \"attention\": [[[1.0, 0.0, 0.0, 0.0, 0.0, 0.0, 0.0, 0.0, 0.0, 0.0, 0.0, 0.0, 0.0, 0.0, 0.0, 0.0, 0.0, 0.0, 0.0, 0.0, 0.0, 0.0, 0.0, 0.0, 0.0, 0.0, 0.0, 0.0, 0.0], [0.9335469007492065, 0.06645312160253525, 0.0, 0.0, 0.0, 0.0, 0.0, 0.0, 0.0, 0.0, 0.0, 0.0, 0.0, 0.0, 0.0, 0.0, 0.0, 0.0, 0.0, 0.0, 0.0, 0.0, 0.0, 0.0, 0.0, 0.0, 0.0, 0.0, 0.0], [0.7120012044906616, 0.13764698803424835, 0.15035177767276764, 0.0, 0.0, 0.0, 0.0, 0.0, 0.0, 0.0, 0.0, 0.0, 0.0, 0.0, 0.0, 0.0, 0.0, 0.0, 0.0, 0.0, 0.0, 0.0, 0.0, 0.0, 0.0, 0.0, 0.0, 0.0, 0.0], [0.7045162916183472, 0.06829483807086945, 0.09614710509777069, 0.13104169070720673, 0.0, 0.0, 0.0, 0.0, 0.0, 0.0, 0.0, 0.0, 0.0, 0.0, 0.0, 0.0, 0.0, 0.0, 0.0, 0.0, 0.0, 0.0, 0.0, 0.0, 0.0, 0.0, 0.0, 0.0, 0.0], [0.6297248601913452, 0.049094729125499725, 0.07496906816959381, 0.07522720098495483, 0.170984148979187, 0.0, 0.0, 0.0, 0.0, 0.0, 0.0, 0.0, 0.0, 0.0, 0.0, 0.0, 0.0, 0.0, 0.0, 0.0, 0.0, 0.0, 0.0, 0.0, 0.0, 0.0, 0.0, 0.0, 0.0], [0.5226738452911377, 0.042264122515916824, 0.06452472507953644, 0.057719118893146515, 0.0661381185054779, 0.24668006598949432, 0.0, 0.0, 0.0, 0.0, 0.0, 0.0, 0.0, 0.0, 0.0, 0.0, 0.0, 0.0, 0.0, 0.0, 0.0, 0.0, 0.0, 0.0, 0.0, 0.0, 0.0, 0.0, 0.0], [0.4570125639438629, 0.09149408340454102, 0.021057579666376114, 0.030641043558716774, 0.036689139902591705, 0.1922648400068283, 0.17084069550037384, 0.0, 0.0, 0.0, 0.0, 0.0, 0.0, 0.0, 0.0, 0.0, 0.0, 0.0, 0.0, 0.0, 0.0, 0.0, 0.0, 0.0, 0.0, 0.0, 0.0, 0.0, 0.0], [0.31070563197135925, 0.0824187844991684, 0.033576130867004395, 0.05158521980047226, 0.013287856243550777, 0.20762044191360474, 0.0886438637971878, 0.2121621072292328, 0.0, 0.0, 0.0, 0.0, 0.0, 0.0, 0.0, 0.0, 0.0, 0.0, 0.0, 0.0, 0.0, 0.0, 0.0, 0.0, 0.0, 0.0, 0.0, 0.0, 0.0], [0.3002331256866455, 0.04383329302072525, 0.016343865543603897, 0.07151667028665543, 0.016369201242923737, 0.27718961238861084, 0.055366821587085724, 0.16566604375839233, 0.053481366485357285, 0.0, 0.0, 0.0, 0.0, 0.0, 0.0, 0.0, 0.0, 0.0, 0.0, 0.0, 0.0, 0.0, 0.0, 0.0, 0.0, 0.0, 0.0, 0.0, 0.0], [0.537077784538269, 0.016376560553908348, 0.020372189581394196, 0.04992082715034485, 0.019242145121097565, 0.054330043494701385, 0.04806307330727577, 0.07461877167224884, 0.06694808602333069, 0.11305054277181625, 0.0, 0.0, 0.0, 0.0, 0.0, 0.0, 0.0, 0.0, 0.0, 0.0, 0.0, 0.0, 0.0, 0.0, 0.0, 0.0, 0.0, 0.0, 0.0], [0.09939594566822052, 0.007523601874709129, 0.003140037413686514, 0.011621920391917229, 0.01881461776793003, 0.6955285668373108, 0.02445337548851967, 0.030470991507172585, 0.005368937738239765, 0.06801917403936386, 0.035662826150655746, 0.0, 0.0, 0.0, 0.0, 0.0, 0.0, 0.0, 0.0, 0.0, 0.0, 0.0, 0.0, 0.0, 0.0, 0.0, 0.0, 0.0, 0.0], [0.3693990707397461, 0.01335928589105606, 0.018122904002666473, 0.01880575530230999, 0.03155059367418289, 0.13964827358722687, 0.1111411452293396, 0.042140696197748184, 0.030727121978998184, 0.047030359506607056, 0.047123249620199203, 0.13095156848430634, 0.0, 0.0, 0.0, 0.0, 0.0, 0.0, 0.0, 0.0, 0.0, 0.0, 0.0, 0.0, 0.0, 0.0, 0.0, 0.0, 0.0], [0.21859189867973328, 0.051925234496593475, 0.008562540635466576, 0.01621301658451557, 0.011982920579612255, 0.1514122188091278, 0.10668005794286728, 0.09777560830116272, 0.028137164190411568, 0.07352544367313385, 0.011812187731266022, 0.10682669281959534, 0.11655500531196594, 0.0, 0.0, 0.0, 0.0, 0.0, 0.0, 0.0, 0.0, 0.0, 0.0, 0.0, 0.0, 0.0, 0.0, 0.0, 0.0], [0.23993566632270813, 0.03457844257354736, 0.022738687694072723, 0.03980438783764839, 0.008197636343538761, 0.09430621564388275, 0.0344989039003849, 0.12129008769989014, 0.027244996279478073, 0.08631294965744019, 0.007108456455171108, 0.06799635291099548, 0.07878918200731277, 0.13719803094863892, 0.0, 0.0, 0.0, 0.0, 0.0, 0.0, 0.0, 0.0, 0.0, 0.0, 0.0, 0.0, 0.0, 0.0, 0.0], [0.15598630905151367, 0.014002567157149315, 0.005133500788360834, 0.03922521695494652, 0.0047685811296105385, 0.13460205495357513, 0.01782393641769886, 0.06191864609718323, 0.019406886771321297, 0.2133278250694275, 0.005226923618465662, 0.12403926253318787, 0.032406676560640335, 0.14175887405872345, 0.03037269413471222, 0.0, 0.0, 0.0, 0.0, 0.0, 0.0, 0.0, 0.0, 0.0, 0.0, 0.0, 0.0, 0.0, 0.0], [0.44873204827308655, 0.014385238289833069, 0.011018749326467514, 0.031429655849933624, 0.00967792235314846, 0.07790080457925797, 0.016924623399972916, 0.02787611074745655, 0.012503078207373619, 0.07982151955366135, 0.008070063777267933, 0.052587155252695084, 0.02651328593492508, 0.053280092775821686, 0.0413101501762867, 0.08796944469213486, 0.0, 0.0, 0.0, 0.0, 0.0, 0.0, 0.0, 0.0, 0.0, 0.0, 0.0, 0.0, 0.0], [0.04314558953046799, 0.0020779548212885857, 0.0008948302711360157, 0.004304173402488232, 0.004141384270042181, 0.317259818315506, 0.005655285902321339, 0.00653411727398634, 0.0008203284232877195, 0.013584572821855545, 0.007147183176130056, 0.5085009336471558, 0.008033458143472672, 0.013925435021519661, 0.0021318900398910046, 0.03300401568412781, 0.02883901633322239, 0.0, 0.0, 0.0, 0.0, 0.0, 0.0, 0.0, 0.0, 0.0, 0.0, 0.0, 0.0], [0.3258833885192871, 0.008764372207224369, 0.01134074479341507, 0.013792227022349834, 0.022042900323867798, 0.10617831349372864, 0.059656254947185516, 0.016700655221939087, 0.008937431499361992, 0.020144697278738022, 0.01948733441531658, 0.10932470858097076, 0.05261934548616409, 0.021273290738463402, 0.014308424666523933, 0.026893286034464836, 0.05363897979259491, 0.1090136468410492, 0.0, 0.0, 0.0, 0.0, 0.0, 0.0, 0.0, 0.0, 0.0, 0.0, 0.0], [0.18260324001312256, 0.04138755053281784, 0.0058034611865878105, 0.011618617922067642, 0.007639791816473007, 0.08581928163766861, 0.06776843219995499, 0.05619317293167114, 0.012789817526936531, 0.041167862713336945, 0.005672273226082325, 0.06471563130617142, 0.1017913967370987, 0.09327252209186554, 0.015435333363711834, 0.03573940321803093, 0.006522419396787882, 0.07439108937978745, 0.08966868370771408, 0.0, 0.0, 0.0, 0.0, 0.0, 0.0, 0.0, 0.0, 0.0, 0.0], [0.24662163853645325, 0.026151452213525772, 0.01702474243938923, 0.029347775503993034, 0.004353670869022608, 0.06615399569272995, 0.02466040663421154, 0.1110781729221344, 0.021890055388212204, 0.052061211317777634, 0.003634081454947591, 0.03193051740527153, 0.02318156696856022, 0.10406526923179626, 0.019956566393375397, 0.03467404097318649, 0.004011242650449276, 0.026363281533122063, 0.04950546473264694, 0.10333487391471863, 0.0, 0.0, 0.0, 0.0, 0.0, 0.0, 0.0, 0.0, 0.0], [0.118764229118824, 0.010176582261919975, 0.004002366680651903, 0.026512373238801956, 0.0028834815602749586, 0.07916375249624252, 0.010844476521015167, 0.046908196061849594, 0.013396304100751877, 0.16109837591648102, 0.0019384270999580622, 0.05755279213190079, 0.01572355069220066, 0.09365291893482208, 0.01580105721950531, 0.1136145293712616, 0.0023437687195837498, 0.05872076377272606, 0.02211751975119114, 0.12356726080179214, 0.021217260509729385, 0.0, 0.0, 0.0, 0.0, 0.0, 0.0, 0.0, 0.0], [0.5130346417427063, 0.014832580462098122, 0.014529562555253506, 0.03377842903137207, 0.0062803709879517555, 0.0405358150601387, 0.012815814465284348, 0.02435714565217495, 0.013892970979213715, 0.04808644950389862, 0.005194539204239845, 0.020273542031645775, 0.012890547513961792, 0.020502017810940742, 0.015496713109314442, 0.034865207970142365, 0.0057846796698868275, 0.01265249028801918, 0.02349979057908058, 0.03695301339030266, 0.035259783267974854, 0.05448392778635025, 0.0, 0.0, 0.0, 0.0, 0.0, 0.0, 0.0], [0.045288458466529846, 0.001841004122979939, 0.0007332522072829306, 0.0061711762100458145, 0.0019157329807057977, 0.2146008461713791, 0.003268567379564047, 0.007814303040504456, 0.0007870776462368667, 0.01879035495221615, 0.00185968482401222, 0.3008565306663513, 0.0026668028440326452, 0.008787352591753006, 0.0011429301230236888, 0.023494483903050423, 0.003879326395690441, 0.289522647857666, 0.007727443240582943, 0.01838766597211361, 0.0018334215274080634, 0.025052428245544434, 0.013578495010733604, 0.0, 0.0, 0.0, 0.0, 0.0, 0.0], [0.33628714084625244, 0.012347772717475891, 0.011497505009174347, 0.0138640645891428, 0.014962688088417053, 0.09645608067512512, 0.038586411625146866, 0.015358289703726768, 0.006324828136712313, 0.01562214083969593, 0.010287151671946049, 0.07378530502319336, 0.03228727728128433, 0.011504693888127804, 0.007572835776954889, 0.014254432171583176, 0.014233311638236046, 0.0679166316986084, 0.05641339346766472, 0.019252002239227295, 0.011437647044658661, 0.020627183839678764, 0.032247137278318405, 0.06687412410974503, 0.0, 0.0, 0.0, 0.0, 0.0], [0.1597655713558197, 0.04512733966112137, 0.005206698086112738, 0.009051287546753883, 0.006445800419896841, 0.06806729733943939, 0.050634633749723434, 0.044285327196121216, 0.009421927854418755, 0.027976341545581818, 0.0042607225477695465, 0.036012813448905945, 0.06538435816764832, 0.06136871501803398, 0.010729193687438965, 0.024040259420871735, 0.003474263707175851, 0.03932131081819534, 0.09859240055084229, 0.07143893837928772, 0.013791444711387157, 0.024020850658416748, 0.00486155366525054, 0.052525028586387634, 0.06419588625431061, 0.0, 0.0, 0.0, 0.0], [0.2208699882030487, 0.024058690294623375, 0.012183536775410175, 0.027700848877429962, 0.004121939651668072, 0.055250998586416245, 0.02115376852452755, 0.07403835654258728, 0.012300487607717514, 0.036884162575006485, 0.0023235406260937452, 0.023946670815348625, 0.02101956680417061, 0.08021445572376251, 0.01742660440504551, 0.025181960314512253, 0.0023459726944565773, 0.018963105976581573, 0.021491995081305504, 0.08001063019037247, 0.017508702352643013, 0.02936614491045475, 0.005463776178658009, 0.02576770819723606, 0.044997572898864746, 0.09540879726409912, 0.0, 0.0, 0.0], [0.09550070017576218, 0.007042288314551115, 0.002471038606017828, 0.021234139800071716, 0.0015864872839301825, 0.041756387799978256, 0.006263292860239744, 0.029784804210066795, 0.007374790962785482, 0.10931308567523956, 0.0013050909619778395, 0.03272028639912605, 0.00932300090789795, 0.060525864362716675, 0.010410650633275509, 0.08715207129716873, 0.0011409521102905273, 0.03352630138397217, 0.013307619839906693, 0.0726933479309082, 0.012610729783773422, 0.10300684720277786, 0.004276994150131941, 0.06581782549619675, 0.019042130559682846, 0.12776142358779907, 0.023051872849464417, 0.0, 0.0], [0.5052402019500732, 0.010662170127034187, 0.008174271322786808, 0.028843078762292862, 0.005873030051589012, 0.040100470185279846, 0.01077986415475607, 0.016567137092351913, 0.007360395044088364, 0.035686194896698, 0.002840169472619891, 0.021170420572161674, 0.0059793563559651375, 0.015427863225340843, 0.00766163831576705, 0.027516687288880348, 0.002757420763373375, 0.014101684093475342, 0.008159447461366653, 0.016062287613749504, 0.008337955921888351, 0.032941099256277084, 0.008129153400659561, 0.015388372354209423, 0.015961801633238792, 0.035506442189216614, 0.03174961358308792, 0.061021752655506134, 0.0], [0.031703729182481766, 0.0017422442324459553, 0.0005365845281630754, 0.004233982879668474, 0.0015923555474728346, 0.17691613733768463, 0.0018829569453373551, 0.00524169160053134, 0.0003082432085648179, 0.008582898415625095, 0.0014468797016888857, 0.21892139315605164, 0.00119627988897264, 0.008031701669096947, 0.00038432388100773096, 0.011663875542581081, 0.0017089175526052713, 0.2831782400608063, 0.0025552634615451097, 0.006833463441580534, 0.0003780577389989048, 0.005235137417912483, 0.0038293914403766394, 0.188995823264122, 0.004044428933411837, 0.010807154700160027, 0.0010291552171111107, 0.00972534529864788, 0.0072943661361932755]], [[1.0, 0.0, 0.0, 0.0, 0.0, 0.0, 0.0, 0.0, 0.0, 0.0, 0.0, 0.0, 0.0, 0.0, 0.0, 0.0, 0.0, 0.0, 0.0, 0.0, 0.0, 0.0, 0.0, 0.0, 0.0, 0.0, 0.0, 0.0, 0.0], [0.2779664993286133, 0.7220335006713867, 0.0, 0.0, 0.0, 0.0, 0.0, 0.0, 0.0, 0.0, 0.0, 0.0, 0.0, 0.0, 0.0, 0.0, 0.0, 0.0, 0.0, 0.0, 0.0, 0.0, 0.0, 0.0, 0.0, 0.0, 0.0, 0.0, 0.0], [0.46822887659072876, 0.037017203867435455, 0.4947538673877716, 0.0, 0.0, 0.0, 0.0, 0.0, 0.0, 0.0, 0.0, 0.0, 0.0, 0.0, 0.0, 0.0, 0.0, 0.0, 0.0, 0.0, 0.0, 0.0, 0.0, 0.0, 0.0, 0.0, 0.0, 0.0, 0.0], [0.5022668838500977, 0.024416876956820488, 0.05353650450706482, 0.4197797179222107, 0.0, 0.0, 0.0, 0.0, 0.0, 0.0, 0.0, 0.0, 0.0, 0.0, 0.0, 0.0, 0.0, 0.0, 0.0, 0.0, 0.0, 0.0, 0.0, 0.0, 0.0, 0.0, 0.0, 0.0, 0.0], [0.5344676971435547, 0.019119026139378548, 0.04328051209449768, 0.1107541173696518, 0.29237866401672363, 0.0, 0.0, 0.0, 0.0, 0.0, 0.0, 0.0, 0.0, 0.0, 0.0, 0.0, 0.0, 0.0, 0.0, 0.0, 0.0, 0.0, 0.0, 0.0, 0.0, 0.0, 0.0, 0.0, 0.0], [0.5152300596237183, 0.014917713589966297, 0.009959070943295956, 0.03420030698180199, 0.031009741127490997, 0.3946831226348877, 0.0, 0.0, 0.0, 0.0, 0.0, 0.0, 0.0, 0.0, 0.0, 0.0, 0.0, 0.0, 0.0, 0.0, 0.0, 0.0, 0.0, 0.0, 0.0, 0.0, 0.0, 0.0, 0.0], [0.34032416343688965, 0.006684721447527409, 0.01286899670958519, 0.029741177335381508, 0.03301585838198662, 0.12224175035953522, 0.45512333512306213, 0.0, 0.0, 0.0, 0.0, 0.0, 0.0, 0.0, 0.0, 0.0, 0.0, 0.0, 0.0, 0.0, 0.0, 0.0, 0.0, 0.0, 0.0, 0.0, 0.0, 0.0, 0.0], [0.46961405873298645, 0.009213746525347233, 0.009951883926987648, 0.030623633414506912, 0.01027256716042757, 0.11307322978973389, 0.04133540391921997, 0.31591546535491943, 0.0, 0.0, 0.0, 0.0, 0.0, 0.0, 0.0, 0.0, 0.0, 0.0, 0.0, 0.0, 0.0, 0.0, 0.0, 0.0, 0.0, 0.0, 0.0, 0.0, 0.0], [0.3826001286506653, 0.007024557329714298, 0.01728604920208454, 0.04557763785123825, 0.015122823417186737, 0.08582618832588196, 0.01732110045850277, 0.08194573223590851, 0.34729573130607605, 0.0, 0.0, 0.0, 0.0, 0.0, 0.0, 0.0, 0.0, 0.0, 0.0, 0.0, 0.0, 0.0, 0.0, 0.0, 0.0, 0.0, 0.0, 0.0, 0.0], [0.4713008999824524, 0.014306372031569481, 0.00472880806773901, 0.029841067269444466, 0.009058392606675625, 0.06819166988134384, 0.00786556862294674, 0.04143187403678894, 0.03360028192400932, 0.31967511773109436, 0.0, 0.0, 0.0, 0.0, 0.0, 0.0, 0.0, 0.0, 0.0, 0.0, 0.0, 0.0, 0.0, 0.0, 0.0, 0.0, 0.0, 0.0, 0.0], [0.505027711391449, 0.009340977296233177, 0.012406843714416027, 0.023012688383460045, 0.024406086653470993, 0.15765339136123657, 0.017420845106244087, 0.029047466814517975, 0.026024796068668365, 0.043808627873659134, 0.15185055136680603, 0.0, 0.0, 0.0, 0.0, 0.0, 0.0, 0.0, 0.0, 0.0, 0.0, 0.0, 0.0, 0.0, 0.0, 0.0, 0.0, 0.0, 0.0], [0.4782477915287018, 0.011593429371714592, 0.005951303988695145, 0.01610301062464714, 0.008752673864364624, 0.08471987396478653, 0.019695919007062912, 0.03881413862109184, 0.012460149824619293, 0.06300097703933716, 0.013438734225928783, 0.24722200632095337, 0.0, 0.0, 0.0, 0.0, 0.0, 0.0, 0.0, 0.0, 0.0, 0.0, 0.0, 0.0, 0.0, 0.0, 0.0, 0.0, 0.0], [0.28351908922195435, 0.0034639216028153896, 0.006528754718601704, 0.01347900740802288, 0.017391284927725792, 0.05586696416139603, 0.025546055287122726, 0.037533216178417206, 0.01866433396935463, 0.06427117437124252, 0.016407592222094536, 0.07727445662021637, 0.38005417585372925, 0.0, 0.0, 0.0, 0.0, 0.0, 0.0, 0.0, 0.0, 0.0, 0.0, 0.0, 0.0, 0.0, 0.0, 0.0, 0.0], [0.3554913401603699, 0.0059583913534879684, 0.006194211542606354, 0.019395580515265465, 0.007756221108138561, 0.06556884199380875, 0.01393282599747181, 0.05022433027625084, 0.013927148655056953, 0.08364927768707275, 0.004277570638805628, 0.09780438244342804, 0.02620546706020832, 0.2496144324541092, 0.0, 0.0, 0.0, 0.0, 0.0, 0.0, 0.0, 0.0, 0.0, 0.0, 0.0, 0.0, 0.0, 0.0, 0.0], [0.30475854873657227, 0.007113723549991846, 0.012320180423557758, 0.022039342671632767, 0.010992059484124184, 0.0648401603102684, 0.014246261678636074, 0.027738962322473526, 0.022160127758979797, 0.08084946870803833, 0.0073586879298090935, 0.07300353050231934, 0.012627219781279564, 0.07711067795753479, 0.2628410756587982, 0.0, 0.0, 0.0, 0.0, 0.0, 0.0, 0.0, 0.0, 0.0, 0.0, 0.0, 0.0, 0.0, 0.0], [0.4416060447692871, 0.008233301341533661, 0.0032162321731448174, 0.01264883205294609, 0.00848805159330368, 0.05009741336107254, 0.009577753022313118, 0.029613353312015533, 0.007626703474670649, 0.0678890272974968, 0.0038838593754917383, 0.06085614860057831, 0.005235671065747738, 0.04667743667960167, 0.025089632719755173, 0.21926051378250122, 0.0, 0.0, 0.0, 0.0, 0.0, 0.0, 0.0, 0.0, 0.0, 0.0, 0.0, 0.0, 0.0], [0.4706474542617798, 0.004581184592097998, 0.007321609184145927, 0.009282113052904606, 0.014479598961770535, 0.0940215066075325, 0.009884651750326157, 0.013104578480124474, 0.005348104052245617, 0.01872449554502964, 0.011397473514080048, 0.1516723930835724, 0.0057245162315666676, 0.01819940283894539, 0.011838089674711227, 0.034291233867406845, 0.11948160827159882, 0.0, 0.0, 0.0, 0.0, 0.0, 0.0, 0.0, 0.0, 0.0, 0.0, 0.0, 0.0], [0.442600280046463, 0.0073460862040519714, 0.0034858370199799538, 0.005583486519753933, 0.008208420127630234, 0.05866659805178642, 0.0137716643512249, 0.030642982572317123, 0.0067494213581085205, 0.037385243922472, 0.0029035056941211224, 0.08924838900566101, 0.007739129941910505, 0.027577899396419525, 0.0064198789186775684, 0.04842590540647507, 0.011864913627505302, 0.19138038158416748, 0.0, 0.0, 0.0, 0.0, 0.0, 0.0, 0.0, 0.0, 0.0, 0.0, 0.0], [0.2684473693370819, 0.0029306591022759676, 0.003101024078205228, 0.005019380711019039, 0.005570931825786829, 0.022335235029459, 0.009369667619466782, 0.025636207312345505, 0.011545531451702118, 0.04557051882147789, 0.005858100950717926, 0.047216758131980896, 0.017766576260328293, 0.04131406545639038, 0.011021840386092663, 0.04271373152732849, 0.009501751512289047, 0.05592206120491028, 0.36915862560272217, 0.0, 0.0, 0.0, 0.0, 0.0, 0.0, 0.0, 0.0, 0.0, 0.0], [0.3617897927761078, 0.006750750355422497, 0.007290254347026348, 0.010600196197628975, 0.004844017326831818, 0.029691394418478012, 0.006331640761345625, 0.03953595459461212, 0.011677664704620838, 0.06340257078409195, 0.002445512916892767, 0.04797876998782158, 0.010053065605461597, 0.049507346004247665, 0.00810178741812706, 0.04945472627878189, 0.0017328531248494983, 0.048858366906642914, 0.026240333914756775, 0.21371299028396606, 0.0, 0.0, 0.0, 0.0, 0.0, 0.0, 0.0, 0.0, 0.0], [0.2616897523403168, 0.006154835689812899, 0.012441844679415226, 0.022377844899892807, 0.0070044370368123055, 0.02872692234814167, 0.006155516020953655, 0.018088597804307938, 0.01708275079727173, 0.05890423059463501, 0.004938840866088867, 0.04659673199057579, 0.01105955708771944, 0.03692789375782013, 0.017172766849398613, 0.06277544796466827, 0.0038319812156260014, 0.05890733748674393, 0.010067173279821873, 0.0662236139178276, 0.2428719699382782, 0.0, 0.0, 0.0, 0.0, 0.0, 0.0, 0.0, 0.0], [0.4327765703201294, 0.0070083048194646835, 0.005071470979601145, 0.01654195412993431, 0.008999917656183243, 0.03043428063392639, 0.004935408476740122, 0.014316532760858536, 0.004841501824557781, 0.041729871183633804, 0.0033333608880639076, 0.03662744536995888, 0.005359006579965353, 0.026223720982670784, 0.005247310735285282, 0.05147965997457504, 0.002281717024743557, 0.041162632405757904, 0.0034227524884045124, 0.03378298506140709, 0.01537378504872322, 0.20904982089996338, 0.0, 0.0, 0.0, 0.0, 0.0, 0.0, 0.0], [0.33948418498039246, 0.007230392657220364, 0.007615160197019577, 0.013029858469963074, 0.0100344717502594, 0.06025481969118118, 0.008413552306592464, 0.011258970946073532, 0.00556157436221838, 0.017396705225110054, 0.008740665391087532, 0.11086250841617584, 0.006105178501456976, 0.019011590629816055, 0.0054992446675896645, 0.01786510832607746, 0.008663059212267399, 0.12256695330142975, 0.006651962175965309, 0.02295762673020363, 0.013574175536632538, 0.038281653076410294, 0.13894066214561462, 0.0, 0.0, 0.0, 0.0, 0.0, 0.0], [0.3988451659679413, 0.0030689288396388292, 0.0016936843749135733, 0.005390931386500597, 0.01063450239598751, 0.0388377383351326, 0.008165629580616951, 0.020986689254641533, 0.003688920522108674, 0.023300137370824814, 0.0022778906859457493, 0.06107088923454285, 0.005454974249005318, 0.027659373357892036, 0.003920046612620354, 0.028630021959543228, 0.0024169168900698423, 0.07381933182477951, 0.007806958165019751, 0.02823340892791748, 0.003591391956433654, 0.04511987045407295, 0.00901531707495451, 0.18637129664421082, 0.0, 0.0, 0.0, 0.0, 0.0], [0.2520117461681366, 0.0018104573246091604, 0.002060015918686986, 0.0054116928949952126, 0.006596812978386879, 0.016012392938137054, 0.009554761461913586, 0.013660517521202564, 0.004556750878691673, 0.021822718903422356, 0.0019923271611332893, 0.02401583269238472, 0.006338093429803848, 0.029659774154424667, 0.00870123878121376, 0.03042040765285492, 0.003523252671584487, 0.036242008209228516, 0.017491837963461876, 0.03343247249722481, 0.007204880937933922, 0.03540089353919029, 0.009311430156230927, 0.05236860364675522, 0.3703990578651428, 0.0, 0.0, 0.0, 0.0], [0.32520362734794617, 0.0024991563986986876, 0.0018795644864439964, 0.006150471046566963, 0.004642955958843231, 0.025007659569382668, 0.009002567268908024, 0.03687949478626251, 0.011450815945863724, 0.041293539106845856, 0.00213589146733284, 0.03269509971141815, 0.004067412111908197, 0.042965494096279144, 0.008174804970622063, 0.037891361862421036, 0.0013967386912554502, 0.03568779304623604, 0.007751993369311094, 0.044857535511255264, 0.004791078623384237, 0.04210513085126877, 0.002215823158621788, 0.046169523149728775, 0.01949816383421421, 0.20358628034591675, 0.0, 0.0, 0.0], [0.2481948435306549, 0.005501678679138422, 0.010631969198584557, 0.014271324500441551, 0.004202072508633137, 0.021994709968566895, 0.005141506902873516, 0.014009268954396248, 0.009956536814570427, 0.03751032426953316, 0.0024996171705424786, 0.023718632757663727, 0.0042740413919091225, 0.017909638583660126, 0.010220810770988464, 0.033992964774370193, 0.0028399797156453133, 0.03575120493769646, 0.009476815350353718, 0.02306298539042473, 0.009020378813147545, 0.05285978317260742, 0.002659150632098317, 0.04929476976394653, 0.008403269574046135, 0.06927459686994553, 0.27332717180252075, 0.0, 0.0], [0.4284456968307495, 0.0027280370704829693, 0.0023900854866951704, 0.007282100152224302, 0.002184458076953888, 0.017329702153801918, 0.002423774916678667, 0.012810848653316498, 0.007448915392160416, 0.026422234252095222, 0.0023518677335232496, 0.024665120989084244, 0.0023251718375831842, 0.014458071440458298, 0.0021693394519388676, 0.021561162546277046, 0.0016628334997221828, 0.024989962577819824, 0.004032324068248272, 0.027356848120689392, 0.0028097103349864483, 0.04671202227473259, 0.0018554267007857561, 0.030698811635375023, 0.0025405429769307375, 0.03198598325252533, 0.0128822335973382, 0.23547664284706116, 0.0], [0.31317901611328125, 0.004155144561082125, 0.008836320601403713, 0.013098357245326042, 0.009636768139898777, 0.06552784144878387, 0.00627149548381567, 0.009779323823750019, 0.003566345665603876, 0.011819667182862759, 0.006054968573153019, 0.0972355380654335, 0.003701277542859316, 0.009460221976041794, 0.0033681453205645084, 0.00992764625698328, 0.006351396441459656, 0.09761194884777069, 0.004392317496240139, 0.014427796006202698, 0.002510382328182459, 0.014460803009569645, 0.005645734257996082, 0.10788183659315109, 0.0038857441395521164, 0.01994839496910572, 0.009692327119410038, 0.03048710525035858, 0.10708609968423843]], [[1.0, 0.0, 0.0, 0.0, 0.0, 0.0, 0.0, 0.0, 0.0, 0.0, 0.0, 0.0, 0.0, 0.0, 0.0, 0.0, 0.0, 0.0, 0.0, 0.0, 0.0, 0.0, 0.0, 0.0, 0.0, 0.0, 0.0, 0.0, 0.0], [0.9898309707641602, 0.010169067420065403, 0.0, 0.0, 0.0, 0.0, 0.0, 0.0, 0.0, 0.0, 0.0, 0.0, 0.0, 0.0, 0.0, 0.0, 0.0, 0.0, 0.0, 0.0, 0.0, 0.0, 0.0, 0.0, 0.0, 0.0, 0.0, 0.0, 0.0], [0.937552809715271, 0.02406943216919899, 0.03837776184082031, 0.0, 0.0, 0.0, 0.0, 0.0, 0.0, 0.0, 0.0, 0.0, 0.0, 0.0, 0.0, 0.0, 0.0, 0.0, 0.0, 0.0, 0.0, 0.0, 0.0, 0.0, 0.0, 0.0, 0.0, 0.0, 0.0], [0.9151515364646912, 0.016361521556973457, 0.04283257946372032, 0.025654416531324387, 0.0, 0.0, 0.0, 0.0, 0.0, 0.0, 0.0, 0.0, 0.0, 0.0, 0.0, 0.0, 0.0, 0.0, 0.0, 0.0, 0.0, 0.0, 0.0, 0.0, 0.0, 0.0, 0.0, 0.0, 0.0], [0.8257859349250793, 0.03898926079273224, 0.028188643977046013, 0.061655886471271515, 0.04538024589419365, 0.0, 0.0, 0.0, 0.0, 0.0, 0.0, 0.0, 0.0, 0.0, 0.0, 0.0, 0.0, 0.0, 0.0, 0.0, 0.0, 0.0, 0.0, 0.0, 0.0, 0.0, 0.0, 0.0, 0.0], [0.7874109148979187, 0.021908236667513847, 0.05799026042222977, 0.04175141081213951, 0.06101289018988609, 0.02992626465857029, 0.0, 0.0, 0.0, 0.0, 0.0, 0.0, 0.0, 0.0, 0.0, 0.0, 0.0, 0.0, 0.0, 0.0, 0.0, 0.0, 0.0, 0.0, 0.0, 0.0, 0.0, 0.0, 0.0], [0.7161422371864319, 0.054536569863557816, 0.02973836474120617, 0.04703933373093605, 0.0460069477558136, 0.05491732805967331, 0.05161922797560692, 0.0, 0.0, 0.0, 0.0, 0.0, 0.0, 0.0, 0.0, 0.0, 0.0, 0.0, 0.0, 0.0, 0.0, 0.0, 0.0, 0.0, 0.0, 0.0, 0.0, 0.0, 0.0], [0.7725906372070312, 0.02246793545782566, 0.04444580525159836, 0.027439994737505913, 0.042115550488233566, 0.01945003867149353, 0.046269290149211884, 0.02522074244916439, 0.0, 0.0, 0.0, 0.0, 0.0, 0.0, 0.0, 0.0, 0.0, 0.0, 0.0, 0.0, 0.0, 0.0, 0.0, 0.0, 0.0, 0.0, 0.0, 0.0, 0.0], [0.5888959765434265, 0.01734798029065132, 0.013198467902839184, 0.05247780680656433, 0.053632065653800964, 0.11204823851585388, 0.04155203700065613, 0.100370854139328, 0.020476551726460457, 0.0, 0.0, 0.0, 0.0, 0.0, 0.0, 0.0, 0.0, 0.0, 0.0, 0.0, 0.0, 0.0, 0.0, 0.0, 0.0, 0.0, 0.0, 0.0, 0.0], [0.7112516760826111, 0.010331702418625355, 0.022233501076698303, 0.02861885167658329, 0.055653199553489685, 0.03187106177210808, 0.029649142175912857, 0.0343061201274395, 0.026971925050020218, 0.04911285266280174, 0.0, 0.0, 0.0, 0.0, 0.0, 0.0, 0.0, 0.0, 0.0, 0.0, 0.0, 0.0, 0.0, 0.0, 0.0, 0.0, 0.0, 0.0, 0.0], [0.3920832872390747, 0.010546394623816013, 0.009722420945763588, 0.027507759630680084, 0.01898871175944805, 0.30646997690200806, 0.023663945496082306, 0.07938642054796219, 0.00935005210340023, 0.10433468222618103, 0.017946375533938408, 0.0, 0.0, 0.0, 0.0, 0.0, 0.0, 0.0, 0.0, 0.0, 0.0, 0.0, 0.0, 0.0, 0.0, 0.0, 0.0, 0.0, 0.0], [0.6407639980316162, 0.010329321026802063, 0.02197256311774254, 0.01605534553527832, 0.03820985555648804, 0.03249440714716911, 0.04745712876319885, 0.05380672216415405, 0.028054412454366684, 0.04349755495786667, 0.015730755403637886, 0.051627930253744125, 0.0, 0.0, 0.0, 0.0, 0.0, 0.0, 0.0, 0.0, 0.0, 0.0, 0.0, 0.0, 0.0, 0.0, 0.0, 0.0, 0.0], [0.3793829381465912, 0.018370922654867172, 0.012353366240859032, 0.027892405167222023, 0.03994351625442505, 0.05740971118211746, 0.04343540221452713, 0.0841241329908371, 0.03710416331887245, 0.14422699809074402, 0.02542072907090187, 0.1048855185508728, 0.025450192391872406, 0.0, 0.0, 0.0, 0.0, 0.0, 0.0, 0.0, 0.0, 0.0, 0.0, 0.0, 0.0, 0.0, 0.0, 0.0, 0.0], [0.5999346971511841, 0.011819407343864441, 0.03301744535565376, 0.0187833271920681, 0.04356546327471733, 0.025454560294747353, 0.035932838916778564, 0.03042718395590782, 0.05877213925123215, 0.054556719958782196, 0.018221888691186905, 0.030475564301013947, 0.015018584206700325, 0.024020196869969368, 0.0, 0.0, 0.0, 0.0, 0.0, 0.0, 0.0, 0.0, 0.0, 0.0, 0.0, 0.0, 0.0, 0.0, 0.0], [0.3874645233154297, 0.007991189137101173, 0.00741005502641201, 0.03371351212263107, 0.029300861060619354, 0.0875878855586052, 0.02577284537255764, 0.03337856009602547, 0.008935910649597645, 0.12132323533296585, 0.01563616842031479, 0.1295701116323471, 0.016061173751950264, 0.08622966706752777, 0.009624304249882698, 0.0, 0.0, 0.0, 0.0, 0.0, 0.0, 0.0, 0.0, 0.0, 0.0, 0.0, 0.0, 0.0, 0.0], [0.6332647800445557, 0.005320500582456589, 0.01031997986137867, 0.013753270730376244, 0.048509351909160614, 0.023559313267469406, 0.027143968269228935, 0.017845405265688896, 0.020164035260677338, 0.038759488612413406, 0.029801804572343826, 0.02882082760334015, 0.013411170803010464, 0.032915905117988586, 0.022686250507831573, 0.033723991364240646, 0.0, 0.0, 0.0, 0.0, 0.0, 0.0, 0.0, 0.0, 0.0, 0.0, 0.0, 0.0, 0.0], [0.23396986722946167, 0.008338522166013718, 0.0077612996101379395, 0.012387879192829132, 0.01289929635822773, 0.1395847648382187, 0.013421903364360332, 0.018362391740083694, 0.002817476401105523, 0.024160392582416534, 0.007007691543549299, 0.3666573762893677, 0.009762957692146301, 0.07662052661180496, 0.006598561070859432, 0.044242966920137405, 0.015406157821416855, 0.0, 0.0, 0.0, 0.0, 0.0, 0.0, 0.0, 0.0, 0.0, 0.0, 0.0, 0.0], [0.6001496315002441, 0.008679679594933987, 0.01978429965674877, 0.011067595332860947, 0.02960856817662716, 0.017880365252494812, 0.03045937605202198, 0.024211183190345764, 0.01729843206703663, 0.02062753587961197, 0.012053889222443104, 0.03873896971344948, 0.020538173615932465, 0.05079062283039093, 0.02009579911828041, 0.02806364744901657, 0.011953410692512989, 0.03799884766340256, 0.0, 0.0, 0.0, 0.0, 0.0, 0.0, 0.0, 0.0, 0.0, 0.0, 0.0], [0.3671482801437378, 0.016803793609142303, 0.010032719001173973, 0.014604028314352036, 0.021536486223340034, 0.031698841601610184, 0.0245208777487278, 0.060329146683216095, 0.0248269010335207, 0.07032331824302673, 0.012186199426651001, 0.03571047633886337, 0.02387896738946438, 0.08255269378423691, 0.019860319793224335, 0.08503969013690948, 0.013438712805509567, 0.06668499112129211, 0.018823502585291862, 0.0, 0.0, 0.0, 0.0, 0.0, 0.0, 0.0, 0.0, 0.0, 0.0], [0.5872247815132141, 0.010812579654157162, 0.03381093218922615, 0.015162930823862553, 0.027808796614408493, 0.009709997102618217, 0.02147483639419079, 0.02062489278614521, 0.04999665170907974, 0.03262745961546898, 0.013648227788507938, 0.010811702348291874, 0.013289196416735649, 0.024192340672016144, 0.036946311593055725, 0.029309600591659546, 0.008886191062629223, 0.01815965585410595, 0.010319521650671959, 0.025183379650115967, 0.0, 0.0, 0.0, 0.0, 0.0, 0.0, 0.0, 0.0, 0.0], [0.3172164559364319, 0.012706771492958069, 0.008472554385662079, 0.04111982136964798, 0.02559097856283188, 0.05960887670516968, 0.018133090808987617, 0.04622989892959595, 0.011379217728972435, 0.10786115378141403, 0.010787229984998703, 0.04404081031680107, 0.011060482822358608, 0.03767487779259682, 0.0065361130982637405, 0.08113585412502289, 0.009841055609285831, 0.05956291779875755, 0.009341247379779816, 0.07577075064182281, 0.0059298318810760975, 0.0, 0.0, 0.0, 0.0, 0.0, 0.0, 0.0, 0.0], [0.5387775897979736, 0.007632072549313307, 0.019175466150045395, 0.019767798483371735, 0.045377232134342194, 0.018869103863835335, 0.023550033569335938, 0.018953468650579453, 0.02266024798154831, 0.03543689846992493, 0.02034834772348404, 0.015358508564531803, 0.012480955570936203, 0.021071474999189377, 0.018586263060569763, 0.02906803973019123, 0.015632711350917816, 0.025311365723609924, 0.010190454311668873, 0.02830592170357704, 0.01521188672631979, 0.03823413699865341, 0.0, 0.0, 0.0, 0.0, 0.0, 0.0, 0.0], [0.15853095054626465, 0.005725959315896034, 0.006607883144170046, 0.01904994621872902, 0.011028951965272427, 0.12706191837787628, 0.010653570294380188, 0.012913952581584454, 0.001970261102542281, 0.02293926477432251, 0.0050794025883078575, 0.2290736436843872, 0.006003648042678833, 0.01789824478328228, 0.002079515717923641, 0.019595690071582794, 0.00545914052054286, 0.24845460057258606, 0.007089030463248491, 0.03755122795701027, 0.001996097154915333, 0.032913509756326675, 0.010323635302484035, 0.0, 0.0, 0.0, 0.0, 0.0, 0.0], [0.5427666306495667, 0.010023754090070724, 0.026956478133797646, 0.015448762103915215, 0.02813921868801117, 0.019089369103312492, 0.030009254813194275, 0.02297665923833847, 0.017327865585684776, 0.01866649091243744, 0.00824824534356594, 0.0212424173951149, 0.012699764221906662, 0.024548949673771858, 0.012225220911204815, 0.0192952211946249, 0.007557066157460213, 0.03337232023477554, 0.014419556595385075, 0.03726214915513992, 0.010229628533124924, 0.026380475610494614, 0.007635786198079586, 0.03347870334982872, 0.0, 0.0, 0.0, 0.0, 0.0], [0.3269903361797333, 0.015359695069491863, 0.009157473221421242, 0.01610914058983326, 0.020027730613946915, 0.02670595422387123, 0.020706458017230034, 0.04659542441368103, 0.017936939373612404, 0.04227206110954285, 0.007642052136361599, 0.029436038807034492, 0.01599322073161602, 0.0584527850151062, 0.013469057157635689, 0.0511656291782856, 0.007502710446715355, 0.03529008477926254, 0.017942044883966446, 0.08763507008552551, 0.012692736461758614, 0.06341484189033508, 0.009796395897865295, 0.035658977925777435, 0.01204716507345438, 0.0, 0.0, 0.0, 0.0], [0.49002474546432495, 0.010826686397194862, 0.044688813388347626, 0.021490849554538727, 0.029375478625297546, 0.012052973732352257, 0.021324295550584793, 0.01838855631649494, 0.04568002372980118, 0.026598285883665085, 0.01169620081782341, 0.011891703121364117, 0.009916181676089764, 0.017032280564308167, 0.02960243448615074, 0.023856651037931442, 0.007106809876859188, 0.01487590093165636, 0.011030977591872215, 0.023407036438584328, 0.025521261617541313, 0.03968353196978569, 0.009410815313458443, 0.014091531746089458, 0.007445589639246464, 0.022980403155088425, 0.0, 0.0, 0.0], [0.2987305819988251, 0.007396670524030924, 0.009319251403212547, 0.03169523552060127, 0.02426987513899803, 0.049641434103250504, 0.014825607649981976, 0.030900901183485985, 0.012322982773184776, 0.08919870853424072, 0.009175987914204597, 0.04705630987882614, 0.007387499790638685, 0.02831798419356346, 0.00616934709250927, 0.07189910113811493, 0.006367764435708523, 0.035368554294109344, 0.007562858052551746, 0.02411515638232231, 0.0035952734760940075, 0.06696411222219467, 0.008073501288890839, 0.03644430264830589, 0.006846265867352486, 0.05768481269478798, 0.00866989977657795, 0.0, 0.0], [0.4887617826461792, 0.0062369005754590034, 0.014273806475102901, 0.012518739327788353, 0.060158245265483856, 0.024035673588514328, 0.02676372230052948, 0.01999509707093239, 0.023450948297977448, 0.022189565002918243, 0.02132261171936989, 0.013814020901918411, 0.009986871853470802, 0.01278966385871172, 0.012792443856596947, 0.01729453355073929, 0.015240373089909554, 0.016154736280441284, 0.009124256670475006, 0.015842419117689133, 0.011077502742409706, 0.030158283188939095, 0.019092174246907234, 0.017642103135585785, 0.007575080730021, 0.025587884709239006, 0.018384752795100212, 0.027735810726881027, 0.0], [0.11978410184383392, 0.005042907781898975, 0.0047052884474396706, 0.010964186862111092, 0.009004715830087662, 0.10911081731319427, 0.007322717923671007, 0.011840198189020157, 0.0017309027025476098, 0.01574723608791828, 0.003454614896327257, 0.15250220894813538, 0.0036582020111382008, 0.017075419425964355, 0.0014598261332139373, 0.011173903942108154, 0.0036269796546548605, 0.1868605613708496, 0.004049808718264103, 0.013223282992839813, 0.0007937185000628233, 0.014546927064657211, 0.00438165245577693, 0.21514248847961426, 0.004143062047660351, 0.03273875638842583, 0.0030310051515698433, 0.024215515702962875, 0.008668974041938782]], [[1.0, 0.0, 0.0, 0.0, 0.0, 0.0, 0.0, 0.0, 0.0, 0.0, 0.0, 0.0, 0.0, 0.0, 0.0, 0.0, 0.0, 0.0, 0.0, 0.0, 0.0, 0.0, 0.0, 0.0, 0.0, 0.0, 0.0, 0.0, 0.0], [0.993159294128418, 0.0068406760692596436, 0.0, 0.0, 0.0, 0.0, 0.0, 0.0, 0.0, 0.0, 0.0, 0.0, 0.0, 0.0, 0.0, 0.0, 0.0, 0.0, 0.0, 0.0, 0.0, 0.0, 0.0, 0.0, 0.0, 0.0, 0.0, 0.0, 0.0], [0.6080538630485535, 0.2174825221300125, 0.17446362972259521, 0.0, 0.0, 0.0, 0.0, 0.0, 0.0, 0.0, 0.0, 0.0, 0.0, 0.0, 0.0, 0.0, 0.0, 0.0, 0.0, 0.0, 0.0, 0.0, 0.0, 0.0, 0.0, 0.0, 0.0, 0.0, 0.0], [0.5945918560028076, 0.08496418595314026, 0.2646622657775879, 0.05578170716762543, 0.0, 0.0, 0.0, 0.0, 0.0, 0.0, 0.0, 0.0, 0.0, 0.0, 0.0, 0.0, 0.0, 0.0, 0.0, 0.0, 0.0, 0.0, 0.0, 0.0, 0.0, 0.0, 0.0, 0.0, 0.0], [0.6766699552536011, 0.12000222504138947, 0.0549292266368866, 0.11749738454818726, 0.03090117871761322, 0.0, 0.0, 0.0, 0.0, 0.0, 0.0, 0.0, 0.0, 0.0, 0.0, 0.0, 0.0, 0.0, 0.0, 0.0, 0.0, 0.0, 0.0, 0.0, 0.0, 0.0, 0.0, 0.0, 0.0], [0.48913779854774475, 0.10667748749256134, 0.1761840581893921, 0.08657918870449066, 0.0858977884054184, 0.05552372708916664, 0.0, 0.0, 0.0, 0.0, 0.0, 0.0, 0.0, 0.0, 0.0, 0.0, 0.0, 0.0, 0.0, 0.0, 0.0, 0.0, 0.0, 0.0, 0.0, 0.0, 0.0, 0.0, 0.0], [0.49538689851760864, 0.3463456332683563, 0.07096303999423981, 0.03819902613759041, 0.01897936314344406, 0.021987803280353546, 0.008138291537761688, 0.0, 0.0, 0.0, 0.0, 0.0, 0.0, 0.0, 0.0, 0.0, 0.0, 0.0, 0.0, 0.0, 0.0, 0.0, 0.0, 0.0, 0.0, 0.0, 0.0, 0.0, 0.0], [0.45705997943878174, 0.1372033953666687, 0.20181210339069366, 0.08523412048816681, 0.0227549709379673, 0.027785686776041985, 0.01245882734656334, 0.05569090694189072, 0.0, 0.0, 0.0, 0.0, 0.0, 0.0, 0.0, 0.0, 0.0, 0.0, 0.0, 0.0, 0.0, 0.0, 0.0, 0.0, 0.0, 0.0, 0.0, 0.0, 0.0], [0.1636686623096466, 0.07629024982452393, 0.03761935606598854, 0.19641262292861938, 0.009268428198993206, 0.1393345296382904, 0.004889332223683596, 0.32435324788093567, 0.04816364496946335, 0.0, 0.0, 0.0, 0.0, 0.0, 0.0, 0.0, 0.0, 0.0, 0.0, 0.0, 0.0, 0.0, 0.0, 0.0, 0.0, 0.0, 0.0, 0.0, 0.0], [0.3326793313026428, 0.0105400076135993, 0.06455549597740173, 0.0580211877822876, 0.1612204611301422, 0.044039055705070496, 0.024911532178521156, 0.039220329374074936, 0.1463853269815445, 0.11842726171016693, 0.0, 0.0, 0.0, 0.0, 0.0, 0.0, 0.0, 0.0, 0.0, 0.0, 0.0, 0.0, 0.0, 0.0, 0.0, 0.0, 0.0, 0.0, 0.0], [0.16789573431015015, 0.011259914375841618, 0.012142680585384369, 0.042324651032686234, 0.015379456803202629, 0.5523999929428101, 0.019005395472049713, 0.04110349714756012, 0.007326280232518911, 0.12293507903814316, 0.008227278478443623, 0.0, 0.0, 0.0, 0.0, 0.0, 0.0, 0.0, 0.0, 0.0, 0.0, 0.0, 0.0, 0.0, 0.0, 0.0, 0.0, 0.0, 0.0], [0.31209278106689453, 0.00827613566070795, 0.026523176580667496, 0.01855362206697464, 0.0625145435333252, 0.02609729953110218, 0.28102225065231323, 0.04953574016690254, 0.10539072751998901, 0.0368187390267849, 0.04195115715265274, 0.031223848462104797, 0.0, 0.0, 0.0, 0.0, 0.0, 0.0, 0.0, 0.0, 0.0, 0.0, 0.0, 0.0, 0.0, 0.0, 0.0, 0.0, 0.0], [0.14829257130622864, 0.07967136800289154, 0.03561246022582054, 0.06046317517757416, 0.00804770179092884, 0.02641087956726551, 0.007601771503686905, 0.3066330552101135, 0.06950888782739639, 0.20912814140319824, 0.0020936119835823774, 0.032307542860507965, 0.014228807762265205, 0.0, 0.0, 0.0, 0.0, 0.0, 0.0, 0.0, 0.0, 0.0, 0.0, 0.0, 0.0, 0.0, 0.0, 0.0, 0.0], [0.29174908995628357, 0.02389545738697052, 0.0860447883605957, 0.03396183252334595, 0.021048907190561295, 0.01107817329466343, 0.00789567083120346, 0.03044716827571392, 0.35750851035118103, 0.07427544891834259, 0.01101207546889782, 0.01195885892957449, 0.008610164746642113, 0.030513901263475418, 0.0, 0.0, 0.0, 0.0, 0.0, 0.0, 0.0, 0.0, 0.0, 0.0, 0.0, 0.0, 0.0, 0.0, 0.0], [0.08135293424129486, 0.01272090245038271, 0.013326611369848251, 0.08495405316352844, 0.007032383233308792, 0.0835532620549202, 0.001677794149145484, 0.05176150053739548, 0.01531266514211893, 0.36104899644851685, 0.0015443196753039956, 0.09792040288448334, 0.0034643912222236395, 0.17274519801139832, 0.011584581807255745, 0.0, 0.0, 0.0, 0.0, 0.0, 0.0, 0.0, 0.0, 0.0, 0.0, 0.0, 0.0, 0.0, 0.0], [0.25161200761795044, 0.00557545805349946, 0.012671628966927528, 0.017517443746328354, 0.059059929102659225, 0.03236278146505356, 0.01185771357268095, 0.015040584839880466, 0.04991704225540161, 0.07505568116903305, 0.1536703109741211, 0.04588890075683594, 0.02730926126241684, 0.0491558313369751, 0.11599946022033691, 0.07730595767498016, 0.0, 0.0, 0.0, 0.0, 0.0, 0.0, 0.0, 0.0, 0.0, 0.0, 0.0, 0.0, 0.0], [0.062029726803302765, 0.0037316554225981236, 0.0021386081352829933, 0.008118976838886738, 0.0034121519420295954, 0.1645272672176361, 0.004501632880419493, 0.005211949814110994, 0.0011080187978222966, 0.03458153083920479, 0.0054100025445222855, 0.6083604693412781, 0.00918430183082819, 0.028072062879800797, 0.0032197474502027035, 0.05235917866230011, 0.004032758064568043, 0.0, 0.0, 0.0, 0.0, 0.0, 0.0, 0.0, 0.0, 0.0, 0.0, 0.0, 0.0], [0.24812600016593933, 0.004797773435711861, 0.010817870497703552, 0.004580182954668999, 0.01569541171193123, 0.009097950533032417, 0.11510691046714783, 0.012693109922111034, 0.01406252384185791, 0.007404211908578873, 0.025400258600711823, 0.02584381401538849, 0.38737717270851135, 0.031118178740143776, 0.03333695977926254, 0.008091985248029232, 0.021263863891363144, 0.025185847654938698, 0.0, 0.0, 0.0, 0.0, 0.0, 0.0, 0.0, 0.0, 0.0, 0.0, 0.0], [0.12456224113702774, 0.040725238621234894, 0.010725213214755058, 0.011309163644909859, 0.0021400756668299437, 0.008242065086960793, 0.002854810794815421, 0.13595950603485107, 0.031245261430740356, 0.0771816298365593, 0.001314401626586914, 0.021575741469860077, 0.016600217670202255, 0.39436131715774536, 0.025805562734603882, 0.06270402669906616, 0.0016366257332265377, 0.01975831761956215, 0.011298577301204205, 0.0, 0.0, 0.0, 0.0, 0.0, 0.0, 0.0, 0.0, 0.0, 0.0], [0.1704321801662445, 0.01390475407242775, 0.05156930536031723, 0.018094170838594437, 0.009539450518786907, 0.005346056539565325, 0.0034181461669504642, 0.02456400915980339, 0.2348698228597641, 0.04606384038925171, 0.004287443123757839, 0.0070994081906974316, 0.00623743562027812, 0.045785799622535706, 0.2924262583255768, 0.027718238532543182, 0.005476642400026321, 0.006435863208025694, 0.005049120169132948, 0.021682076156139374, 0.0, 0.0, 0.0, 0.0, 0.0, 0.0, 0.0, 0.0, 0.0], [0.03863920643925667, 0.015606772154569626, 0.010930709540843964, 0.069097138941288, 0.003653767518699169, 0.03892328962683678, 0.000777565292082727, 0.034856513142585754, 0.012292865663766861, 0.2931705117225647, 0.0008552130893804133, 0.059681832790374756, 0.0015263593522831798, 0.07864664494991302, 0.009056897833943367, 0.20144712924957275, 0.0008449177257716656, 0.02971073053777218, 0.0015639393823221326, 0.09172418713569641, 0.006993837654590607, 0.0, 0.0, 0.0, 0.0, 0.0, 0.0, 0.0, 0.0], [0.227773979306221, 0.00377998617477715, 0.011425522156059742, 0.013832373544573784, 0.052643515169620514, 0.02325517311692238, 0.007022206671535969, 0.005797313526272774, 0.019419658929109573, 0.05061832070350647, 0.08059515804052353, 0.020596584305167198, 0.010239765048027039, 0.012940728105604649, 0.04628648981451988, 0.05258883908390999, 0.16609859466552734, 0.033832233399152756, 0.02076728083193302, 0.022495809942483902, 0.038995128124952316, 0.07899533957242966, 0.0, 0.0, 0.0, 0.0, 0.0, 0.0, 0.0], [0.039557669311761856, 0.004243009258061647, 0.0042427945882081985, 0.018669791519641876, 0.003324444405734539, 0.17016535997390747, 0.0020918080117553473, 0.004291450139135122, 0.0006618751212954521, 0.021458584815263748, 0.001942932140082121, 0.3117372989654541, 0.0026437845081090927, 0.01185828261077404, 0.0012846183963119984, 0.023961417376995087, 0.003174226265400648, 0.31983914971351624, 0.0043880026787519455, 0.014812029898166656, 0.0011034170165657997, 0.03258533775806427, 0.0019626955036073923, 0.0, 0.0, 0.0, 0.0, 0.0, 0.0], [0.181589275598526, 0.0036676269955933094, 0.006769251544028521, 0.0030215780716389418, 0.007660454139113426, 0.004930078983306885, 0.05006536468863487, 0.003929982427507639, 0.005114296451210976, 0.002769613638520241, 0.0067395782098174095, 0.00821316335350275, 0.15423133969306946, 0.011114763095974922, 0.008919049985706806, 0.0043891845270991325, 0.01697004772722721, 0.015026763081550598, 0.416662335395813, 0.020673127844929695, 0.031986743211746216, 0.007142924703657627, 0.014864589087665081, 0.01354888454079628, 0.0, 0.0, 0.0, 0.0, 0.0], [0.0867840126156807, 0.02825593203306198, 0.006482794880867004, 0.007283311802893877, 0.0014166878536343575, 0.004798052366822958, 0.001643595052883029, 0.08117899298667908, 0.01718544214963913, 0.033943939954042435, 0.000612591509707272, 0.00851421058177948, 0.009106222540140152, 0.23151692748069763, 0.017611663788557053, 0.03510574996471405, 0.0012707144487649202, 0.010557428933680058, 0.014293618500232697, 0.2926514148712158, 0.021979495882987976, 0.0685606598854065, 0.001676412532106042, 0.010328950360417366, 0.007241184823215008, 0.0, 0.0, 0.0, 0.0], [0.1720575988292694, 0.016949418932199478, 0.06293127685785294, 0.027548737823963165, 0.01170985959470272, 0.007875633426010609, 0.003119140397757292, 0.016385575756430626, 0.1644376516342163, 0.041365884244441986, 0.005350015126168728, 0.006688251160085201, 0.004093684256076813, 0.028138043358922005, 0.15708445012569427, 0.025028308853507042, 0.005271323025226593, 0.007908347994089127, 0.0048187654465436935, 0.02312544919550419, 0.12106792628765106, 0.04772842302918434, 0.006954290438443422, 0.006474819499999285, 0.0026879829820245504, 0.02319912053644657, 0.0, 0.0, 0.0], [0.030182911083102226, 0.008691655471920967, 0.0077476538717746735, 0.05185047909617424, 0.004059994593262672, 0.030899377539753914, 0.0006864601746201515, 0.018785279244184494, 0.010570895858108997, 0.22391881048679352, 0.0013352837413549423, 0.054508503526449203, 0.0011296566808596253, 0.029227344319224358, 0.003760145977139473, 0.1613418161869049, 0.0008458155207335949, 0.02947980724275112, 0.001035647583194077, 0.026495611295104027, 0.0031009800732135773, 0.18836404383182526, 0.0007703168084844947, 0.0297812819480896, 0.0009677931666374207, 0.07394488155841827, 0.006517530418932438, 0.0, 0.0], [0.19091473519802094, 0.003955571912229061, 0.017004765570163727, 0.014511318877339363, 0.045873142778873444, 0.020787978544831276, 0.005921141244471073, 0.006196130998432636, 0.014301653951406479, 0.026561057195067406, 0.049103084951639175, 0.02226635254919529, 0.008085847832262516, 0.006979655008763075, 0.023909879848361015, 0.0339801087975502, 0.0660974532365799, 0.027796335518360138, 0.01253366470336914, 0.008996274322271347, 0.02887692302465439, 0.034734148532152176, 0.11887804418802261, 0.03528135269880295, 0.012664403766393661, 0.029735641553997993, 0.06294708698987961, 0.07110625505447388, 0.0], [0.015683135017752647, 0.001918177935294807, 0.002179220551624894, 0.009938918054103851, 0.001848455867730081, 0.11941656470298767, 0.0008691749535501003, 0.001982694026082754, 0.0002774180902633816, 0.010238101705908775, 0.0008466112776659429, 0.27715545892715454, 0.0009012915543280542, 0.0035777913872152567, 0.000309019727865234, 0.009037897922098637, 0.0009967933874577284, 0.159428209066391, 0.001290826709009707, 0.0028445457573980093, 0.00024178234161809087, 0.012686858884990215, 0.0019795114640146494, 0.3344389498233795, 0.0018157463055104017, 0.010472881607711315, 0.0006718754302710295, 0.015134635381400585, 0.001817481592297554]], [[1.0, 0.0, 0.0, 0.0, 0.0, 0.0, 0.0, 0.0, 0.0, 0.0, 0.0, 0.0, 0.0, 0.0, 0.0, 0.0, 0.0, 0.0, 0.0, 0.0, 0.0, 0.0, 0.0, 0.0, 0.0, 0.0, 0.0, 0.0, 0.0], [0.9403102993965149, 0.059689681977033615, 0.0, 0.0, 0.0, 0.0, 0.0, 0.0, 0.0, 0.0, 0.0, 0.0, 0.0, 0.0, 0.0, 0.0, 0.0, 0.0, 0.0, 0.0, 0.0, 0.0, 0.0, 0.0, 0.0, 0.0, 0.0, 0.0, 0.0], [0.7486484050750732, 0.16048671305179596, 0.09086485207080841, 0.0, 0.0, 0.0, 0.0, 0.0, 0.0, 0.0, 0.0, 0.0, 0.0, 0.0, 0.0, 0.0, 0.0, 0.0, 0.0, 0.0, 0.0, 0.0, 0.0, 0.0, 0.0, 0.0, 0.0, 0.0, 0.0], [0.8549801111221313, 0.048601072281599045, 0.047869518399238586, 0.04854927957057953, 0.0, 0.0, 0.0, 0.0, 0.0, 0.0, 0.0, 0.0, 0.0, 0.0, 0.0, 0.0, 0.0, 0.0, 0.0, 0.0, 0.0, 0.0, 0.0, 0.0, 0.0, 0.0, 0.0, 0.0, 0.0], [0.5984790325164795, 0.16639046370983124, 0.0701238363981247, 0.059380583465099335, 0.10562611371278763, 0.0, 0.0, 0.0, 0.0, 0.0, 0.0, 0.0, 0.0, 0.0, 0.0, 0.0, 0.0, 0.0, 0.0, 0.0, 0.0, 0.0, 0.0, 0.0, 0.0, 0.0, 0.0, 0.0, 0.0], [0.7066406011581421, 0.03184051066637039, 0.04329335689544678, 0.038123972713947296, 0.07154696434736252, 0.10855458676815033, 0.0, 0.0, 0.0, 0.0, 0.0, 0.0, 0.0, 0.0, 0.0, 0.0, 0.0, 0.0, 0.0, 0.0, 0.0, 0.0, 0.0, 0.0, 0.0, 0.0, 0.0, 0.0, 0.0], [0.38401293754577637, 0.23443247377872467, 0.06287390738725662, 0.05380285903811455, 0.04257817193865776, 0.17118379473686218, 0.05111588537693024, 0.0, 0.0, 0.0, 0.0, 0.0, 0.0, 0.0, 0.0, 0.0, 0.0, 0.0, 0.0, 0.0, 0.0, 0.0, 0.0, 0.0, 0.0, 0.0, 0.0, 0.0, 0.0], [0.4954075515270233, 0.11292077600955963, 0.08200649917125702, 0.0436771996319294, 0.04553850367665291, 0.03492896258831024, 0.0458667054772377, 0.13965380191802979, 0.0, 0.0, 0.0, 0.0, 0.0, 0.0, 0.0, 0.0, 0.0, 0.0, 0.0, 0.0, 0.0, 0.0, 0.0, 0.0, 0.0, 0.0, 0.0, 0.0, 0.0], [0.3784483075141907, 0.06911829859018326, 0.03642100840806961, 0.1455637365579605, 0.025533966720104218, 0.05391847714781761, 0.032846495509147644, 0.20721009373664856, 0.050939641892910004, 0.0, 0.0, 0.0, 0.0, 0.0, 0.0, 0.0, 0.0, 0.0, 0.0, 0.0, 0.0, 0.0, 0.0, 0.0, 0.0, 0.0, 0.0, 0.0, 0.0], [0.44769805669784546, 0.02085864171385765, 0.022429509088397026, 0.030449744313955307, 0.07611371576786041, 0.07088803499937057, 0.029511427506804466, 0.08807115256786346, 0.0868869498372078, 0.12709276378154755, 0.0, 0.0, 0.0, 0.0, 0.0, 0.0, 0.0, 0.0, 0.0, 0.0, 0.0, 0.0, 0.0, 0.0, 0.0, 0.0, 0.0, 0.0, 0.0], [0.3701726198196411, 0.02195998840034008, 0.010416657663881779, 0.016597740352153778, 0.026789117604494095, 0.15947353839874268, 0.048548370599746704, 0.12509381771087646, 0.0374760702252388, 0.13313628733158112, 0.05033578723669052, 0.0, 0.0, 0.0, 0.0, 0.0, 0.0, 0.0, 0.0, 0.0, 0.0, 0.0, 0.0, 0.0, 0.0, 0.0, 0.0, 0.0, 0.0], [0.4893820881843567, 0.016191428527235985, 0.015529199503362179, 0.018411964178085327, 0.03497496619820595, 0.049492284655570984, 0.03331592679023743, 0.0479668527841568, 0.04527317360043526, 0.04747661575675011, 0.07073463499546051, 0.13125084340572357, 0.0, 0.0, 0.0, 0.0, 0.0, 0.0, 0.0, 0.0, 0.0, 0.0, 0.0, 0.0, 0.0, 0.0, 0.0, 0.0, 0.0], [0.16485874354839325, 0.1654033660888672, 0.05671373009681702, 0.029982909560203552, 0.018010083585977554, 0.05765542387962341, 0.0357990637421608, 0.2404385805130005, 0.03907186537981033, 0.09872974455356598, 0.010102467611432076, 0.03973357751965523, 0.04350045323371887, 0.0, 0.0, 0.0, 0.0, 0.0, 0.0, 0.0, 0.0, 0.0, 0.0, 0.0, 0.0, 0.0, 0.0, 0.0, 0.0], [0.42662277817726135, 0.040781084448099136, 0.08666913211345673, 0.025715604424476624, 0.034224286675453186, 0.019497688859701157, 0.027509037405252457, 0.03950433433055878, 0.08108694851398468, 0.0316677987575531, 0.022502928972244263, 0.025911156088113785, 0.05771487578749657, 0.08059237152338028, 0.0, 0.0, 0.0, 0.0, 0.0, 0.0, 0.0, 0.0, 0.0, 0.0, 0.0, 0.0, 0.0, 0.0, 0.0], [0.2242729514837265, 0.046482525765895844, 0.04052082449197769, 0.13217255473136902, 0.02071034163236618, 0.05646004155278206, 0.018854351714253426, 0.07787763327360153, 0.016759643331170082, 0.13015800714492798, 0.010619176551699638, 0.05064927041530609, 0.018821023404598236, 0.13228826224803925, 0.023353368043899536, 0.0, 0.0, 0.0, 0.0, 0.0, 0.0, 0.0, 0.0, 0.0, 0.0, 0.0, 0.0, 0.0, 0.0], [0.5624537467956543, 0.018587961792945862, 0.015116595663130283, 0.013123853132128716, 0.038018420338630676, 0.02799033932387829, 0.01779969409108162, 0.012812004424631596, 0.009466728195548058, 0.016540227457880974, 0.03399365022778511, 0.02957805246114731, 0.02611740306019783, 0.057244181632995605, 0.05793191120028496, 0.06322522461414337, 0.0, 0.0, 0.0, 0.0, 0.0, 0.0, 0.0, 0.0, 0.0, 0.0, 0.0, 0.0, 0.0], [0.3258082866668701, 0.019129913300275803, 0.008153940550982952, 0.011369867250323296, 0.013812681660056114, 0.09211127460002899, 0.017319997772574425, 0.02470497041940689, 0.007450520992279053, 0.027119627222418785, 0.01865808106958866, 0.12261293083429337, 0.043768566101789474, 0.1093447208404541, 0.028913464397192, 0.07341358065605164, 0.0563075952231884, 0.0, 0.0, 0.0, 0.0, 0.0, 0.0, 0.0, 0.0, 0.0, 0.0, 0.0, 0.0], [0.5651372671127319, 0.009763594716787338, 0.007059975061565638, 0.005895419046282768, 0.019558018073439598, 0.042509302496910095, 0.017855148762464523, 0.012452135793864727, 0.006127987056970596, 0.009177058935165405, 0.012766537256538868, 0.02871556207537651, 0.03150583803653717, 0.037257611751556396, 0.030443722382187843, 0.02263747714459896, 0.03825953230261803, 0.10287781059741974, 0.0, 0.0, 0.0, 0.0, 0.0, 0.0, 0.0, 0.0, 0.0, 0.0, 0.0], [0.16162775456905365, 0.08261937648057938, 0.026548929512500763, 0.015377430245280266, 0.009300267323851585, 0.03636065125465393, 0.01231449469923973, 0.12653329968452454, 0.016406729817390442, 0.04864805191755295, 0.0050653996877372265, 0.030949940904974937, 0.04061557725071907, 0.2230187952518463, 0.029561538249254227, 0.04678524285554886, 0.008500820957124233, 0.04090939462184906, 0.03885626047849655, 0.0, 0.0, 0.0, 0.0, 0.0, 0.0, 0.0, 0.0, 0.0, 0.0], [0.4449147582054138, 0.020760824903845787, 0.0277122650295496, 0.015368605963885784, 0.01633995771408081, 0.013386138714849949, 0.013966970145702362, 0.022382915019989014, 0.06670047342777252, 0.033373069018125534, 0.011559141799807549, 0.013716889545321465, 0.03547758609056473, 0.034181565046310425, 0.05709945410490036, 0.029055848717689514, 0.011109127663075924, 0.01962881162762642, 0.047156453132629395, 0.06610913574695587, 0.0, 0.0, 0.0, 0.0, 0.0, 0.0, 0.0, 0.0, 0.0], [0.1949695348739624, 0.023228514939546585, 0.0281206201761961, 0.13916155695915222, 0.01260508131235838, 0.036449335515499115, 0.010165662504732609, 0.039834991097450256, 0.01535751298069954, 0.1404828131198883, 0.0064136674627661705, 0.033592432737350464, 0.015347367152571678, 0.04994392395019531, 0.011136478744447231, 0.13984712958335876, 0.0057621728628873825, 0.02987409196794033, 0.011634989641606808, 0.0441155880689621, 0.01195649616420269, 0.0, 0.0, 0.0, 0.0, 0.0, 0.0, 0.0, 0.0], [0.5225346088409424, 0.013000253587961197, 0.017871446907520294, 0.01293590385466814, 0.032719165086746216, 0.021815115585923195, 0.013209830969572067, 0.007750335149466991, 0.009426183067262173, 0.01778268814086914, 0.021205365657806396, 0.023106709122657776, 0.016228219494223595, 0.010306937620043755, 0.009647972881793976, 0.0191347636282444, 0.03671903535723686, 0.03556232154369354, 0.023169606924057007, 0.0330045148730278, 0.027302268892526627, 0.07556678354740143, 0.0, 0.0, 0.0, 0.0, 0.0, 0.0, 0.0], [0.2868431806564331, 0.011273684911429882, 0.012284359894692898, 0.012828914448618889, 0.01061383169144392, 0.08289466053247452, 0.014077170751988888, 0.014009074307978153, 0.004219367168843746, 0.027064036577939987, 0.0063447607681155205, 0.0573837012052536, 0.020665861666202545, 0.0336417481303215, 0.008668472990393639, 0.022326193749904633, 0.014832740649580956, 0.09575957804918289, 0.046344414353370667, 0.07855705171823502, 0.01562506891787052, 0.08027385920286179, 0.04346829652786255, 0.0, 0.0, 0.0, 0.0, 0.0, 0.0], [0.5881839990615845, 0.008024652488529682, 0.0057183681055903435, 0.004869177937507629, 0.011197780258953571, 0.01845525950193405, 0.014244858175516129, 0.005555616691708565, 0.004553245846182108, 0.005723160691559315, 0.008203879930078983, 0.016255227848887444, 0.015480072237551212, 0.009479785338044167, 0.00978018343448639, 0.008508902043104172, 0.011463656090199947, 0.02368781343102455, 0.033606842160224915, 0.029869254678487778, 0.020000172778964043, 0.02701493166387081, 0.04169847071170807, 0.07842469215393066, 0.0, 0.0, 0.0, 0.0, 0.0], [0.19174575805664062, 0.05596330016851425, 0.016708077862858772, 0.008583415299654007, 0.005760787986218929, 0.020280683413147926, 0.013031861744821072, 0.05243021994829178, 0.009191074408590794, 0.025059467181563377, 0.003646056167781353, 0.01623423397541046, 0.02782754972577095, 0.10670053958892822, 0.015407862141728401, 0.02274666354060173, 0.004444347694516182, 0.025719378143548965, 0.05122150853276253, 0.15624672174453735, 0.015703480690717697, 0.06662271171808243, 0.012359337881207466, 0.03637118637561798, 0.039993759244680405, 0.0, 0.0, 0.0, 0.0], [0.504500687122345, 0.01567523367702961, 0.020456472411751747, 0.013999399729073048, 0.011463283561170101, 0.018309734761714935, 0.013871599920094013, 0.020603017881512642, 0.021242499351501465, 0.01611463725566864, 0.005608431063592434, 0.011104313656687737, 0.01583383046090603, 0.02459891140460968, 0.033261656761169434, 0.016708917915821075, 0.00686442106962204, 0.013036292046308517, 0.025288179516792297, 0.025128234177827835, 0.022981856018304825, 0.018285686150193214, 0.014439919032156467, 0.01572827436029911, 0.029991965740919113, 0.06490255147218704, 0.0, 0.0, 0.0], [0.2668612599372864, 0.017042139545083046, 0.01658235490322113, 0.06827222555875778, 0.010568970814347267, 0.02541784942150116, 0.011034329421818256, 0.033729299902915955, 0.010349047370254993, 0.06634901463985443, 0.006696128752082586, 0.022837907075881958, 0.008850591257214546, 0.034164804965257645, 0.006749933585524559, 0.07900066673755646, 0.0036230948753654957, 0.023791909217834473, 0.010959245264530182, 0.03944842517375946, 0.006666039582341909, 0.09711983799934387, 0.008317476138472557, 0.031124655157327652, 0.008957005105912685, 0.06484511494636536, 0.02064063772559166, 0.0, 0.0], [0.5654691457748413, 0.008321094326674938, 0.008240735158324242, 0.007039934396743774, 0.02184223011136055, 0.023351602256298065, 0.007981176488101482, 0.00831642933189869, 0.005102904047816992, 0.013281619176268578, 0.016485262662172318, 0.012658219784498215, 0.00746366661041975, 0.007862432859838009, 0.005154678598046303, 0.014590496197342873, 0.017063600942492485, 0.021404929459095, 0.010590232908725739, 0.009664682671427727, 0.00642223609611392, 0.02090207114815712, 0.0353209525346756, 0.022942975163459778, 0.014544060453772545, 0.037298887968063354, 0.026948094367980957, 0.04373568668961525, 0.0], [0.30974504351615906, 0.009435756132006645, 0.0037347259931266308, 0.007131177466362715, 0.0069906325079500675, 0.030545532703399658, 0.010422125458717346, 0.011414187029004097, 0.0018668770790100098, 0.015169812366366386, 0.005011994391679764, 0.027120672166347504, 0.011615539900958538, 0.013226615265011787, 0.0020231781527400017, 0.010170640423893929, 0.005130398087203503, 0.04079992696642876, 0.01990881748497486, 0.02392622083425522, 0.0033730044960975647, 0.019448064267635345, 0.021987376734614372, 0.07501547783613205, 0.04279081150889397, 0.1272876262664795, 0.020833490416407585, 0.06705856323242188, 0.05681570619344711]], [[1.0, 0.0, 0.0, 0.0, 0.0, 0.0, 0.0, 0.0, 0.0, 0.0, 0.0, 0.0, 0.0, 0.0, 0.0, 0.0, 0.0, 0.0, 0.0, 0.0, 0.0, 0.0, 0.0, 0.0, 0.0, 0.0, 0.0, 0.0, 0.0], [0.9920984506607056, 0.007901577278971672, 0.0, 0.0, 0.0, 0.0, 0.0, 0.0, 0.0, 0.0, 0.0, 0.0, 0.0, 0.0, 0.0, 0.0, 0.0, 0.0, 0.0, 0.0, 0.0, 0.0, 0.0, 0.0, 0.0, 0.0, 0.0, 0.0, 0.0], [0.9573196768760681, 0.007292976137250662, 0.035387344658374786, 0.0, 0.0, 0.0, 0.0, 0.0, 0.0, 0.0, 0.0, 0.0, 0.0, 0.0, 0.0, 0.0, 0.0, 0.0, 0.0, 0.0, 0.0, 0.0, 0.0, 0.0, 0.0, 0.0, 0.0, 0.0, 0.0], [0.976477324962616, 0.006189398467540741, 0.010407213121652603, 0.006926117464900017, 0.0, 0.0, 0.0, 0.0, 0.0, 0.0, 0.0, 0.0, 0.0, 0.0, 0.0, 0.0, 0.0, 0.0, 0.0, 0.0, 0.0, 0.0, 0.0, 0.0, 0.0, 0.0, 0.0, 0.0, 0.0], [0.8836379051208496, 0.0075814127922058105, 0.03284881263971329, 0.011635148897767067, 0.06429672986268997, 0.0, 0.0, 0.0, 0.0, 0.0, 0.0, 0.0, 0.0, 0.0, 0.0, 0.0, 0.0, 0.0, 0.0, 0.0, 0.0, 0.0, 0.0, 0.0, 0.0, 0.0, 0.0, 0.0, 0.0], [0.9344003796577454, 0.003831504611298442, 0.006737956311553717, 0.010706917382776737, 0.02784810960292816, 0.01647515967488289, 0.0, 0.0, 0.0, 0.0, 0.0, 0.0, 0.0, 0.0, 0.0, 0.0, 0.0, 0.0, 0.0, 0.0, 0.0, 0.0, 0.0, 0.0, 0.0, 0.0, 0.0, 0.0, 0.0], [0.8366929292678833, 0.10689915716648102, 0.024092089384794235, 0.013356838375329971, 0.008790144696831703, 0.0012488861102610826, 0.008919931016862392, 0.0, 0.0, 0.0, 0.0, 0.0, 0.0, 0.0, 0.0, 0.0, 0.0, 0.0, 0.0, 0.0, 0.0, 0.0, 0.0, 0.0, 0.0, 0.0, 0.0, 0.0, 0.0], [0.5542554259300232, 0.05396854504942894, 0.0913638323545456, 0.21894657611846924, 0.047112464904785156, 0.001027375808916986, 0.006175916641950607, 0.02714988961815834, 0.0, 0.0, 0.0, 0.0, 0.0, 0.0, 0.0, 0.0, 0.0, 0.0, 0.0, 0.0, 0.0, 0.0, 0.0, 0.0, 0.0, 0.0, 0.0, 0.0, 0.0], [0.23256605863571167, 0.015221704728901386, 0.043708011507987976, 0.46809715032577515, 0.18291455507278442, 0.017143335193395615, 0.005706238094717264, 0.01095545943826437, 0.023687472566962242, 0.0, 0.0, 0.0, 0.0, 0.0, 0.0, 0.0, 0.0, 0.0, 0.0, 0.0, 0.0, 0.0, 0.0, 0.0, 0.0, 0.0, 0.0, 0.0, 0.0], [0.4925621747970581, 0.007601077202707529, 0.021495332941412926, 0.04062018543481827, 0.30981019139289856, 0.09435822069644928, 0.010797345079481602, 0.0022783975582569838, 0.005457600113004446, 0.015019495971500874, 0.0, 0.0, 0.0, 0.0, 0.0, 0.0, 0.0, 0.0, 0.0, 0.0, 0.0, 0.0, 0.0, 0.0, 0.0, 0.0, 0.0, 0.0, 0.0], [0.33475515246391296, 0.003025952260941267, 0.00691805686801672, 0.004841958172619343, 0.03347522020339966, 0.579115629196167, 0.015480062924325466, 0.002933691954240203, 0.0016019213944673538, 0.001826724037528038, 0.0160256028175354, 0.0, 0.0, 0.0, 0.0, 0.0, 0.0, 0.0, 0.0, 0.0, 0.0, 0.0, 0.0, 0.0, 0.0, 0.0, 0.0, 0.0, 0.0], [0.5851643681526184, 0.00625978596508503, 0.0031659656669944525, 0.006610988639295101, 0.05825389176607132, 0.0425960049033165, 0.18975681066513062, 0.06873001903295517, 0.014887111261487007, 0.0033209307584911585, 0.009392006322741508, 0.011862083338201046, 0.0, 0.0, 0.0, 0.0, 0.0, 0.0, 0.0, 0.0, 0.0, 0.0, 0.0, 0.0, 0.0, 0.0, 0.0, 0.0, 0.0], [0.33077314496040344, 0.05109661817550659, 0.014743756502866745, 0.006551271304488182, 0.035239577293395996, 0.008162244223058224, 0.014175405725836754, 0.3298042416572571, 0.13796451687812805, 0.026578838005661964, 0.011648528277873993, 0.005145500414073467, 0.02811639942228794, 0.0, 0.0, 0.0, 0.0, 0.0, 0.0, 0.0, 0.0, 0.0, 0.0, 0.0, 0.0, 0.0, 0.0, 0.0, 0.0], [0.4646533727645874, 0.011227361857891083, 0.01372794434428215, 0.032415539026260376, 0.04158444702625275, 0.002581849228590727, 0.00679726991802454, 0.006916143000125885, 0.12937398254871368, 0.2646445333957672, 0.010278791189193726, 0.001639621565118432, 0.004479971714317799, 0.009679149836301804, 0.0, 0.0, 0.0, 0.0, 0.0, 0.0, 0.0, 0.0, 0.0, 0.0, 0.0, 0.0, 0.0, 0.0, 0.0], [0.1590217649936676, 0.004250182304531336, 0.021464532241225243, 0.1819506734609604, 0.08565569669008255, 0.011955427005887032, 0.0060922931879758835, 0.007164855487644672, 0.012719745747745037, 0.4885707497596741, 0.005801881663501263, 0.002111022127792239, 0.00179167406167835, 0.003038951428607106, 0.00841054879128933, 0.0, 0.0, 0.0, 0.0, 0.0, 0.0, 0.0, 0.0, 0.0, 0.0, 0.0, 0.0, 0.0, 0.0], [0.3672085404396057, 0.007388904225081205, 0.008167285472154617, 0.010609867982566357, 0.18821805715560913, 0.13343548774719238, 0.025468094274401665, 0.004996181931346655, 0.00784735195338726, 0.012747900560498238, 0.12418877333402634, 0.05537628382444382, 0.011889114044606686, 0.011347979307174683, 0.012566396035254002, 0.018543746322393417, 0.0, 0.0, 0.0, 0.0, 0.0, 0.0, 0.0, 0.0, 0.0, 0.0, 0.0, 0.0, 0.0], [0.16027043759822845, 0.001817713025957346, 0.00517768831923604, 0.004450059495866299, 0.01983419992029667, 0.5019354224205017, 0.019802715629339218, 0.0027771415188908577, 0.0021719220094382763, 0.001333199325017631, 0.013424322009086609, 0.24009032547473907, 0.006417163647711277, 0.003662386443465948, 0.0024266766849905252, 0.0034341418650001287, 0.010974484495818615, 0.0, 0.0, 0.0, 0.0, 0.0, 0.0, 0.0, 0.0, 0.0, 0.0, 0.0, 0.0], [0.44106876850128174, 0.003827867563813925, 0.0068572103045880795, 0.012936933897435665, 0.030870286747813225, 0.0409378819167614, 0.22146593034267426, 0.08334242552518845, 0.014385828748345375, 0.003553323680534959, 0.015303856693208218, 0.014425236731767654, 0.05681338906288147, 0.01910730078816414, 0.008209475316107273, 0.003672703867778182, 0.0057700457982718945, 0.017451539635658264, 0.0, 0.0, 0.0, 0.0, 0.0, 0.0, 0.0, 0.0, 0.0, 0.0, 0.0], [0.1681545078754425, 0.023302393034100533, 0.007796028163284063, 0.004750121850520372, 0.0051897126249969006, 0.0019590083975344896, 0.00836439710110426, 0.3691185712814331, 0.09622149169445038, 0.02059328742325306, 0.003241589292883873, 0.0012433530064299703, 0.012749062851071358, 0.19165992736816406, 0.05080534145236015, 0.02010076306760311, 0.0030161323957145214, 0.0017944814171642065, 0.009939838200807571, 0.0, 0.0, 0.0, 0.0, 0.0, 0.0, 0.0, 0.0, 0.0, 0.0], [0.2490035742521286, 0.010749694891273975, 0.006836296990513802, 0.019584693014621735, 0.02672523446381092, 0.0025840159505605698, 0.011016879230737686, 0.018851526081562042, 0.1490962654352188, 0.23564627766609192, 0.010386020876467228, 0.0006527362274937332, 0.009098973125219345, 0.009178287349641323, 0.07868675887584686, 0.13111819326877594, 0.00981135107576847, 0.0008361697546206415, 0.005258892197161913, 0.01487818919122219, 0.0, 0.0, 0.0, 0.0, 0.0, 0.0, 0.0, 0.0, 0.0], [0.12324104458093643, 0.002714691450819373, 0.006795851513743401, 0.07119756937026978, 0.040589116513729095, 0.012548522092401981, 0.004274647682905197, 0.004361685365438461, 0.013660338707268238, 0.6155228614807129, 0.006651921663433313, 0.0014711690600961447, 0.00231534568592906, 0.0018273836467415094, 0.002761944429948926, 0.07542067766189575, 0.005012861452996731, 0.001406263094395399, 0.0007098652422428131, 0.0009994534775614738, 0.0065167928114533424, 0.0, 0.0, 0.0, 0.0, 0.0, 0.0, 0.0, 0.0], [0.25540515780448914, 0.0024860051926225424, 0.005061004310846329, 0.011415191926062107, 0.1283883899450302, 0.1101074144244194, 0.016760503873229027, 0.0025938430335372686, 0.0035125943832099438, 0.009335355833172798, 0.19060778617858887, 0.06150545924901962, 0.018696390092372894, 0.009707151912152767, 0.005702097900211811, 0.007717699743807316, 0.09235347807407379, 0.05525561049580574, 0.004459805320948362, 0.0010290632490068674, 0.0013566921697929502, 0.006543285213410854, 0.0, 0.0, 0.0, 0.0, 0.0, 0.0, 0.0], [0.13295555114746094, 0.0017707854276522994, 0.006184024270623922, 0.004935871809720993, 0.017436889931559563, 0.5382739305496216, 0.013340400531888008, 0.004265360068529844, 0.0008305374067276716, 0.0009249190334230661, 0.005977466236799955, 0.16684895753860474, 0.004594590049237013, 0.0029065029229968786, 0.0005814856849610806, 0.000650659145321697, 0.004332227166742086, 0.08312945067882538, 0.0014580447459593415, 0.0009206888498738408, 0.0002872877230402082, 0.0009209303534589708, 0.006473431829363108, 0.0, 0.0, 0.0, 0.0, 0.0, 0.0], [0.4098314940929413, 0.003141430439427495, 0.003935457207262516, 0.005215727258473635, 0.019444406032562256, 0.01833738014101982, 0.14603617787361145, 0.05951468646526337, 0.009586047381162643, 0.002402812009677291, 0.014946109615266323, 0.0139768710359931, 0.11179620772600174, 0.046903569251298904, 0.010265931487083435, 0.0033322200179100037, 0.009908297099173069, 0.005971006583422422, 0.04355023801326752, 0.041842829436063766, 0.005491077434271574, 0.002382156439125538, 0.006948299705982208, 0.005239555146545172, 0.0, 0.0, 0.0, 0.0, 0.0], [0.24577277898788452, 0.03198118507862091, 0.007851737551391125, 0.0018305203411728144, 0.011210720986127853, 0.0027175911236554384, 0.00677474495023489, 0.0886920839548111, 0.04245944321155548, 0.005381458904594183, 0.00368454004637897, 0.0014106830349192023, 0.01805938594043255, 0.23429927229881287, 0.03363637253642082, 0.007282986305654049, 0.006796360947191715, 0.002143586054444313, 0.020488619804382324, 0.13869205117225647, 0.041631069034338, 0.021170994266867638, 0.010863417759537697, 0.0034325909800827503, 0.011735827662050724, 0.0, 0.0, 0.0, 0.0], [0.19770276546478271, 0.007151692174375057, 0.012805732898414135, 0.03659976273775101, 0.06018320843577385, 0.005974590312689543, 0.013677270151674747, 0.019196635112166405, 0.10514013469219208, 0.1128242090344429, 0.012603269889950752, 0.0014561517164111137, 0.008253895677626133, 0.01520808320492506, 0.07129572331905365, 0.044291675090789795, 0.012240385636687279, 0.001348933088593185, 0.0060584936290979385, 0.013353253714740276, 0.11595670878887177, 0.08921489119529724, 0.02093535289168358, 0.0017630935180932283, 0.003064640099182725, 0.011699412949383259, 0.0, 0.0, 0.0], [0.17332276701927185, 0.005482552573084831, 0.021498216316103935, 0.16085170209407806, 0.09359460324048996, 0.012972118332982063, 0.008238767273724079, 0.0072253975085914135, 0.013464076444506645, 0.29900938272476196, 0.00905383937060833, 0.002724219812080264, 0.0029133325442671776, 0.0037066489458084106, 0.004082576837390661, 0.06643789261579514, 0.005217283498495817, 0.0016143573448061943, 0.0012820666888728738, 0.0020808945409953594, 0.0035914636682718992, 0.08344624191522598, 0.006295200437307358, 0.0015010094502940774, 0.0006891757948324084, 0.0019455858273431659, 0.007758652791380882, 0.0, 0.0], [0.2105002999305725, 0.003396947868168354, 0.004219613503664732, 0.007004168350249529, 0.1466791033744812, 0.18724030256271362, 0.02738029509782791, 0.004164838697761297, 0.0033660901244729757, 0.005719985347241163, 0.07588639110326767, 0.03555350750684738, 0.013980383053421974, 0.008027726784348488, 0.0035968150477856398, 0.003671196522191167, 0.05738724768161774, 0.04062004014849663, 0.008135427720844746, 0.001543744932860136, 0.0012827104656025767, 0.0028906632214784622, 0.0869368240237236, 0.04460802674293518, 0.0017664337065070868, 0.0019380816956982017, 0.0024979915469884872, 0.010005151852965355, 0.0], [0.08043251186609268, 0.0014649080112576485, 0.0034937758464366198, 0.002522851573303342, 0.02037736400961876, 0.5449510812759399, 0.017166992649435997, 0.0018099760636687279, 0.0006662302184849977, 0.0005348804988898337, 0.0033888923935592175, 0.1010037362575531, 0.0031655726488679647, 0.002405505860224366, 0.0006015137187205255, 0.000466684577986598, 0.0037686529103666544, 0.1373019963502884, 0.0021033380180597305, 0.0009402919095009565, 0.00014564661250915378, 0.0005025941063649952, 0.003087082412093878, 0.05821092054247856, 0.0007946614059619606, 0.0005318212206475437, 0.0004364732885733247, 0.001525428844615817, 0.006198589690029621]]], \"headLabels\": [\"39.7\", \"39.12\", \"36.7\", \"32.1\", \"32.6\", \"25.13\"]}\n",
       "    )\n",
       "    </script>"
      ],
      "text/plain": [
       "<circuitsvis.utils.render.RenderedHTML at 0x7f7fdc267470>"
      ]
     },
     "metadata": {},
     "output_type": "display_data"
    }
   ],
   "source": [
    "# Function Induction Heads\n",
    "visualize_heads([(39, 7), (39, 12), (36, 7), (32, 1), (32, 6), (25, 13)], model, processed_data)"
   ]
  },
  {
   "cell_type": "markdown",
   "metadata": {},
   "source": [
    "#### Patching to H39.7 v"
   ]
  },
  {
   "cell_type": "code",
   "execution_count": 17,
   "metadata": {},
   "outputs": [
    {
     "name": "stderr",
     "output_type": "stream",
     "text": [
      "layer: 100%|██████████| 40/40 [05:01<00:00,  7.53s/it]\n",
      "layer: 100%|██████████| 40/40 [05:02<00:00,  7.55s/it]\n",
      "layer: 100%|██████████| 40/40 [05:02<00:00,  7.56s/it]\n",
      "batch: 100%|██████████| 3/3 [15:07<00:00, 302.37s/it]\n"
     ]
    },
    {
     "data": {
      "application/vnd.plotly.v1+json": {
       "config": {
        "plotlyServerURL": "https://plot.ly",
        "staticPlot": false
       },
       "data": [
        {
         "coloraxis": "coloraxis",
         "hovertemplate": "Layer: %{x}<br>Head: %{y}<br>Logit diff. variation: %{z}<extra></extra>",
         "name": "0",
         "type": "heatmap",
         "xaxis": "x",
         "yaxis": "y",
         "z": {
          "bdata": "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",
          "dtype": "f4",
          "shape": "16, 42"
         }
        }
       ],
       "layout": {
        "coloraxis": {
         "cmid": 0,
         "colorbar": {
          "ticksuffix": "%",
          "title": {
           "text": "Logit diff. variation"
          }
         },
         "colorscale": [
          [
           0,
           "rgb(103,0,31)"
          ],
          [
           0.1,
           "rgb(178,24,43)"
          ],
          [
           0.2,
           "rgb(214,96,77)"
          ],
          [
           0.3,
           "rgb(244,165,130)"
          ],
          [
           0.4,
           "rgb(253,219,199)"
          ],
          [
           0.5,
           "rgb(247,247,247)"
          ],
          [
           0.6,
           "rgb(209,229,240)"
          ],
          [
           0.7,
           "rgb(146,197,222)"
          ],
          [
           0.8,
           "rgb(67,147,195)"
          ],
          [
           0.9,
           "rgb(33,102,172)"
          ],
          [
           1,
           "rgb(5,48,97)"
          ]
         ]
        },
        "height": 400,
        "template": {
         "data": {
          "bar": [
           {
            "error_x": {
             "color": "#2a3f5f"
            },
            "error_y": {
             "color": "#2a3f5f"
            },
            "marker": {
             "line": {
              "color": "#E5ECF6",
              "width": 0.5
             },
             "pattern": {
              "fillmode": "overlay",
              "size": 10,
              "solidity": 0.2
             }
            },
            "type": "bar"
           }
          ],
          "barpolar": [
           {
            "marker": {
             "line": {
              "color": "#E5ECF6",
              "width": 0.5
             },
             "pattern": {
              "fillmode": "overlay",
              "size": 10,
              "solidity": 0.2
             }
            },
            "type": "barpolar"
           }
          ],
          "carpet": [
           {
            "aaxis": {
             "endlinecolor": "#2a3f5f",
             "gridcolor": "white",
             "linecolor": "white",
             "minorgridcolor": "white",
             "startlinecolor": "#2a3f5f"
            },
            "baxis": {
             "endlinecolor": "#2a3f5f",
             "gridcolor": "white",
             "linecolor": "white",
             "minorgridcolor": "white",
             "startlinecolor": "#2a3f5f"
            },
            "type": "carpet"
           }
          ],
          "choropleth": [
           {
            "colorbar": {
             "outlinewidth": 0,
             "ticks": ""
            },
            "type": "choropleth"
           }
          ],
          "contour": [
           {
            "colorbar": {
             "outlinewidth": 0,
             "ticks": ""
            },
            "colorscale": [
             [
              0,
              "#0d0887"
             ],
             [
              0.1111111111111111,
              "#46039f"
             ],
             [
              0.2222222222222222,
              "#7201a8"
             ],
             [
              0.3333333333333333,
              "#9c179e"
             ],
             [
              0.4444444444444444,
              "#bd3786"
             ],
             [
              0.5555555555555556,
              "#d8576b"
             ],
             [
              0.6666666666666666,
              "#ed7953"
             ],
             [
              0.7777777777777778,
              "#fb9f3a"
             ],
             [
              0.8888888888888888,
              "#fdca26"
             ],
             [
              1,
              "#f0f921"
             ]
            ],
            "type": "contour"
           }
          ],
          "contourcarpet": [
           {
            "colorbar": {
             "outlinewidth": 0,
             "ticks": ""
            },
            "type": "contourcarpet"
           }
          ],
          "heatmap": [
           {
            "colorbar": {
             "outlinewidth": 0,
             "ticks": ""
            },
            "colorscale": [
             [
              0,
              "#0d0887"
             ],
             [
              0.1111111111111111,
              "#46039f"
             ],
             [
              0.2222222222222222,
              "#7201a8"
             ],
             [
              0.3333333333333333,
              "#9c179e"
             ],
             [
              0.4444444444444444,
              "#bd3786"
             ],
             [
              0.5555555555555556,
              "#d8576b"
             ],
             [
              0.6666666666666666,
              "#ed7953"
             ],
             [
              0.7777777777777778,
              "#fb9f3a"
             ],
             [
              0.8888888888888888,
              "#fdca26"
             ],
             [
              1,
              "#f0f921"
             ]
            ],
            "type": "heatmap"
           }
          ],
          "histogram": [
           {
            "marker": {
             "pattern": {
              "fillmode": "overlay",
              "size": 10,
              "solidity": 0.2
             }
            },
            "type": "histogram"
           }
          ],
          "histogram2d": [
           {
            "colorbar": {
             "outlinewidth": 0,
             "ticks": ""
            },
            "colorscale": [
             [
              0,
              "#0d0887"
             ],
             [
              0.1111111111111111,
              "#46039f"
             ],
             [
              0.2222222222222222,
              "#7201a8"
             ],
             [
              0.3333333333333333,
              "#9c179e"
             ],
             [
              0.4444444444444444,
              "#bd3786"
             ],
             [
              0.5555555555555556,
              "#d8576b"
             ],
             [
              0.6666666666666666,
              "#ed7953"
             ],
             [
              0.7777777777777778,
              "#fb9f3a"
             ],
             [
              0.8888888888888888,
              "#fdca26"
             ],
             [
              1,
              "#f0f921"
             ]
            ],
            "type": "histogram2d"
           }
          ],
          "histogram2dcontour": [
           {
            "colorbar": {
             "outlinewidth": 0,
             "ticks": ""
            },
            "colorscale": [
             [
              0,
              "#0d0887"
             ],
             [
              0.1111111111111111,
              "#46039f"
             ],
             [
              0.2222222222222222,
              "#7201a8"
             ],
             [
              0.3333333333333333,
              "#9c179e"
             ],
             [
              0.4444444444444444,
              "#bd3786"
             ],
             [
              0.5555555555555556,
              "#d8576b"
             ],
             [
              0.6666666666666666,
              "#ed7953"
             ],
             [
              0.7777777777777778,
              "#fb9f3a"
             ],
             [
              0.8888888888888888,
              "#fdca26"
             ],
             [
              1,
              "#f0f921"
             ]
            ],
            "type": "histogram2dcontour"
           }
          ],
          "mesh3d": [
           {
            "colorbar": {
             "outlinewidth": 0,
             "ticks": ""
            },
            "type": "mesh3d"
           }
          ],
          "parcoords": [
           {
            "line": {
             "colorbar": {
              "outlinewidth": 0,
              "ticks": ""
             }
            },
            "type": "parcoords"
           }
          ],
          "pie": [
           {
            "automargin": true,
            "type": "pie"
           }
          ],
          "scatter": [
           {
            "fillpattern": {
             "fillmode": "overlay",
             "size": 10,
             "solidity": 0.2
            },
            "type": "scatter"
           }
          ],
          "scatter3d": [
           {
            "line": {
             "colorbar": {
              "outlinewidth": 0,
              "ticks": ""
             }
            },
            "marker": {
             "colorbar": {
              "outlinewidth": 0,
              "ticks": ""
             }
            },
            "type": "scatter3d"
           }
          ],
          "scattercarpet": [
           {
            "marker": {
             "colorbar": {
              "outlinewidth": 0,
              "ticks": ""
             }
            },
            "type": "scattercarpet"
           }
          ],
          "scattergeo": [
           {
            "marker": {
             "colorbar": {
              "outlinewidth": 0,
              "ticks": ""
             }
            },
            "type": "scattergeo"
           }
          ],
          "scattergl": [
           {
            "marker": {
             "colorbar": {
              "outlinewidth": 0,
              "ticks": ""
             }
            },
            "type": "scattergl"
           }
          ],
          "scattermap": [
           {
            "marker": {
             "colorbar": {
              "outlinewidth": 0,
              "ticks": ""
             }
            },
            "type": "scattermap"
           }
          ],
          "scattermapbox": [
           {
            "marker": {
             "colorbar": {
              "outlinewidth": 0,
              "ticks": ""
             }
            },
            "type": "scattermapbox"
           }
          ],
          "scatterpolar": [
           {
            "marker": {
             "colorbar": {
              "outlinewidth": 0,
              "ticks": ""
             }
            },
            "type": "scatterpolar"
           }
          ],
          "scatterpolargl": [
           {
            "marker": {
             "colorbar": {
              "outlinewidth": 0,
              "ticks": ""
             }
            },
            "type": "scatterpolargl"
           }
          ],
          "scatterternary": [
           {
            "marker": {
             "colorbar": {
              "outlinewidth": 0,
              "ticks": ""
             }
            },
            "type": "scatterternary"
           }
          ],
          "surface": [
           {
            "colorbar": {
             "outlinewidth": 0,
             "ticks": ""
            },
            "colorscale": [
             [
              0,
              "#0d0887"
             ],
             [
              0.1111111111111111,
              "#46039f"
             ],
             [
              0.2222222222222222,
              "#7201a8"
             ],
             [
              0.3333333333333333,
              "#9c179e"
             ],
             [
              0.4444444444444444,
              "#bd3786"
             ],
             [
              0.5555555555555556,
              "#d8576b"
             ],
             [
              0.6666666666666666,
              "#ed7953"
             ],
             [
              0.7777777777777778,
              "#fb9f3a"
             ],
             [
              0.8888888888888888,
              "#fdca26"
             ],
             [
              1,
              "#f0f921"
             ]
            ],
            "type": "surface"
           }
          ],
          "table": [
           {
            "cells": {
             "fill": {
              "color": "#EBF0F8"
             },
             "line": {
              "color": "white"
             }
            },
            "header": {
             "fill": {
              "color": "#C8D4E3"
             },
             "line": {
              "color": "white"
             }
            },
            "type": "table"
           }
          ]
         },
         "layout": {
          "annotationdefaults": {
           "arrowcolor": "#2a3f5f",
           "arrowhead": 0,
           "arrowwidth": 1
          },
          "autotypenumbers": "strict",
          "coloraxis": {
           "colorbar": {
            "outlinewidth": 0,
            "ticks": ""
           }
          },
          "colorscale": {
           "diverging": [
            [
             0,
             "#8e0152"
            ],
            [
             0.1,
             "#c51b7d"
            ],
            [
             0.2,
             "#de77ae"
            ],
            [
             0.3,
             "#f1b6da"
            ],
            [
             0.4,
             "#fde0ef"
            ],
            [
             0.5,
             "#f7f7f7"
            ],
            [
             0.6,
             "#e6f5d0"
            ],
            [
             0.7,
             "#b8e186"
            ],
            [
             0.8,
             "#7fbc41"
            ],
            [
             0.9,
             "#4d9221"
            ],
            [
             1,
             "#276419"
            ]
           ],
           "sequential": [
            [
             0,
             "#0d0887"
            ],
            [
             0.1111111111111111,
             "#46039f"
            ],
            [
             0.2222222222222222,
             "#7201a8"
            ],
            [
             0.3333333333333333,
             "#9c179e"
            ],
            [
             0.4444444444444444,
             "#bd3786"
            ],
            [
             0.5555555555555556,
             "#d8576b"
            ],
            [
             0.6666666666666666,
             "#ed7953"
            ],
            [
             0.7777777777777778,
             "#fb9f3a"
            ],
            [
             0.8888888888888888,
             "#fdca26"
            ],
            [
             1,
             "#f0f921"
            ]
           ],
           "sequentialminus": [
            [
             0,
             "#0d0887"
            ],
            [
             0.1111111111111111,
             "#46039f"
            ],
            [
             0.2222222222222222,
             "#7201a8"
            ],
            [
             0.3333333333333333,
             "#9c179e"
            ],
            [
             0.4444444444444444,
             "#bd3786"
            ],
            [
             0.5555555555555556,
             "#d8576b"
            ],
            [
             0.6666666666666666,
             "#ed7953"
            ],
            [
             0.7777777777777778,
             "#fb9f3a"
            ],
            [
             0.8888888888888888,
             "#fdca26"
            ],
            [
             1,
             "#f0f921"
            ]
           ]
          },
          "colorway": [
           "#636efa",
           "#EF553B",
           "#00cc96",
           "#ab63fa",
           "#FFA15A",
           "#19d3f3",
           "#FF6692",
           "#B6E880",
           "#FF97FF",
           "#FECB52"
          ],
          "font": {
           "color": "#2a3f5f"
          },
          "geo": {
           "bgcolor": "white",
           "lakecolor": "white",
           "landcolor": "#E5ECF6",
           "showlakes": true,
           "showland": true,
           "subunitcolor": "white"
          },
          "hoverlabel": {
           "align": "left"
          },
          "hovermode": "closest",
          "mapbox": {
           "style": "light"
          },
          "paper_bgcolor": "white",
          "plot_bgcolor": "#E5ECF6",
          "polar": {
           "angularaxis": {
            "gridcolor": "white",
            "linecolor": "white",
            "ticks": ""
           },
           "bgcolor": "#E5ECF6",
           "radialaxis": {
            "gridcolor": "white",
            "linecolor": "white",
            "ticks": ""
           }
          },
          "scene": {
           "xaxis": {
            "backgroundcolor": "#E5ECF6",
            "gridcolor": "white",
            "gridwidth": 2,
            "linecolor": "white",
            "showbackground": true,
            "ticks": "",
            "zerolinecolor": "white"
           },
           "yaxis": {
            "backgroundcolor": "#E5ECF6",
            "gridcolor": "white",
            "gridwidth": 2,
            "linecolor": "white",
            "showbackground": true,
            "ticks": "",
            "zerolinecolor": "white"
           },
           "zaxis": {
            "backgroundcolor": "#E5ECF6",
            "gridcolor": "white",
            "gridwidth": 2,
            "linecolor": "white",
            "showbackground": true,
            "ticks": "",
            "zerolinecolor": "white"
           }
          },
          "shapedefaults": {
           "line": {
            "color": "#2a3f5f"
           }
          },
          "ternary": {
           "aaxis": {
            "gridcolor": "white",
            "linecolor": "white",
            "ticks": ""
           },
           "baxis": {
            "gridcolor": "white",
            "linecolor": "white",
            "ticks": ""
           },
           "bgcolor": "#E5ECF6",
           "caxis": {
            "gridcolor": "white",
            "linecolor": "white",
            "ticks": ""
           }
          },
          "title": {
           "x": 0.05
          },
          "xaxis": {
           "automargin": true,
           "gridcolor": "white",
           "linecolor": "white",
           "ticks": "",
           "title": {
            "standoff": 15
           },
           "zerolinecolor": "white",
           "zerolinewidth": 2
          },
          "yaxis": {
           "automargin": true,
           "gridcolor": "white",
           "linecolor": "white",
           "ticks": "",
           "title": {
            "standoff": 15
           },
           "zerolinecolor": "white",
           "zerolinewidth": 2
          }
         }
        },
        "title": {
         "text": "Path patching results "
        },
        "width": 800,
        "xaxis": {
         "anchor": "y",
         "constrain": "domain",
         "domain": [
          0,
          1
         ],
         "scaleanchor": "y",
         "title": {
          "text": "Layer"
         }
        },
        "yaxis": {
         "anchor": "x",
         "autorange": "reversed",
         "constrain": "domain",
         "domain": [
          0,
          1
         ],
         "title": {
          "text": "Head"
         }
        }
       }
      }
     },
     "metadata": {},
     "output_type": "display_data"
    }
   ],
   "source": [
    "results_h39_7_v = analyze_path_to_head([(39, 7)], \"v\", model, processed_data, begin_layer=0, batch_size=4)"
   ]
  },
  {
   "cell_type": "markdown",
   "metadata": {},
   "source": [
    "Similarly we can run patching with 100 examples using `gemma_2_9b_offline.py`. Below we load and visualize the results."
   ]
  },
  {
   "cell_type": "code",
   "execution_count": 11,
   "metadata": {},
   "outputs": [
    {
     "data": {
      "application/vnd.plotly.v1+json": {
       "config": {
        "plotlyServerURL": "https://plot.ly",
        "staticPlot": false
       },
       "data": [
        {
         "coloraxis": "coloraxis",
         "hovertemplate": "Layer: %{x}<br>Head: %{y}<br>Logit diff. variation: %{z}<extra></extra>",
         "name": "0",
         "type": "heatmap",
         "xaxis": "x",
         "yaxis": "y",
         "z": {
          "bdata": "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",
          "dtype": "f4",
          "shape": "16, 42"
         }
        }
       ],
       "layout": {
        "coloraxis": {
         "cmid": 0,
         "colorbar": {
          "ticksuffix": "%",
          "title": {
           "text": "Logit diff. variation"
          }
         },
         "colorscale": [
          [
           0,
           "rgb(103,0,31)"
          ],
          [
           0.1,
           "rgb(178,24,43)"
          ],
          [
           0.2,
           "rgb(214,96,77)"
          ],
          [
           0.3,
           "rgb(244,165,130)"
          ],
          [
           0.4,
           "rgb(253,219,199)"
          ],
          [
           0.5,
           "rgb(247,247,247)"
          ],
          [
           0.6,
           "rgb(209,229,240)"
          ],
          [
           0.7,
           "rgb(146,197,222)"
          ],
          [
           0.8,
           "rgb(67,147,195)"
          ],
          [
           0.9,
           "rgb(33,102,172)"
          ],
          [
           1,
           "rgb(5,48,97)"
          ]
         ]
        },
        "height": 400,
        "template": {
         "data": {
          "bar": [
           {
            "error_x": {
             "color": "#2a3f5f"
            },
            "error_y": {
             "color": "#2a3f5f"
            },
            "marker": {
             "line": {
              "color": "#E5ECF6",
              "width": 0.5
             },
             "pattern": {
              "fillmode": "overlay",
              "size": 10,
              "solidity": 0.2
             }
            },
            "type": "bar"
           }
          ],
          "barpolar": [
           {
            "marker": {
             "line": {
              "color": "#E5ECF6",
              "width": 0.5
             },
             "pattern": {
              "fillmode": "overlay",
              "size": 10,
              "solidity": 0.2
             }
            },
            "type": "barpolar"
           }
          ],
          "carpet": [
           {
            "aaxis": {
             "endlinecolor": "#2a3f5f",
             "gridcolor": "white",
             "linecolor": "white",
             "minorgridcolor": "white",
             "startlinecolor": "#2a3f5f"
            },
            "baxis": {
             "endlinecolor": "#2a3f5f",
             "gridcolor": "white",
             "linecolor": "white",
             "minorgridcolor": "white",
             "startlinecolor": "#2a3f5f"
            },
            "type": "carpet"
           }
          ],
          "choropleth": [
           {
            "colorbar": {
             "outlinewidth": 0,
             "ticks": ""
            },
            "type": "choropleth"
           }
          ],
          "contour": [
           {
            "colorbar": {
             "outlinewidth": 0,
             "ticks": ""
            },
            "colorscale": [
             [
              0,
              "#0d0887"
             ],
             [
              0.1111111111111111,
              "#46039f"
             ],
             [
              0.2222222222222222,
              "#7201a8"
             ],
             [
              0.3333333333333333,
              "#9c179e"
             ],
             [
              0.4444444444444444,
              "#bd3786"
             ],
             [
              0.5555555555555556,
              "#d8576b"
             ],
             [
              0.6666666666666666,
              "#ed7953"
             ],
             [
              0.7777777777777778,
              "#fb9f3a"
             ],
             [
              0.8888888888888888,
              "#fdca26"
             ],
             [
              1,
              "#f0f921"
             ]
            ],
            "type": "contour"
           }
          ],
          "contourcarpet": [
           {
            "colorbar": {
             "outlinewidth": 0,
             "ticks": ""
            },
            "type": "contourcarpet"
           }
          ],
          "heatmap": [
           {
            "colorbar": {
             "outlinewidth": 0,
             "ticks": ""
            },
            "colorscale": [
             [
              0,
              "#0d0887"
             ],
             [
              0.1111111111111111,
              "#46039f"
             ],
             [
              0.2222222222222222,
              "#7201a8"
             ],
             [
              0.3333333333333333,
              "#9c179e"
             ],
             [
              0.4444444444444444,
              "#bd3786"
             ],
             [
              0.5555555555555556,
              "#d8576b"
             ],
             [
              0.6666666666666666,
              "#ed7953"
             ],
             [
              0.7777777777777778,
              "#fb9f3a"
             ],
             [
              0.8888888888888888,
              "#fdca26"
             ],
             [
              1,
              "#f0f921"
             ]
            ],
            "type": "heatmap"
           }
          ],
          "histogram": [
           {
            "marker": {
             "pattern": {
              "fillmode": "overlay",
              "size": 10,
              "solidity": 0.2
             }
            },
            "type": "histogram"
           }
          ],
          "histogram2d": [
           {
            "colorbar": {
             "outlinewidth": 0,
             "ticks": ""
            },
            "colorscale": [
             [
              0,
              "#0d0887"
             ],
             [
              0.1111111111111111,
              "#46039f"
             ],
             [
              0.2222222222222222,
              "#7201a8"
             ],
             [
              0.3333333333333333,
              "#9c179e"
             ],
             [
              0.4444444444444444,
              "#bd3786"
             ],
             [
              0.5555555555555556,
              "#d8576b"
             ],
             [
              0.6666666666666666,
              "#ed7953"
             ],
             [
              0.7777777777777778,
              "#fb9f3a"
             ],
             [
              0.8888888888888888,
              "#fdca26"
             ],
             [
              1,
              "#f0f921"
             ]
            ],
            "type": "histogram2d"
           }
          ],
          "histogram2dcontour": [
           {
            "colorbar": {
             "outlinewidth": 0,
             "ticks": ""
            },
            "colorscale": [
             [
              0,
              "#0d0887"
             ],
             [
              0.1111111111111111,
              "#46039f"
             ],
             [
              0.2222222222222222,
              "#7201a8"
             ],
             [
              0.3333333333333333,
              "#9c179e"
             ],
             [
              0.4444444444444444,
              "#bd3786"
             ],
             [
              0.5555555555555556,
              "#d8576b"
             ],
             [
              0.6666666666666666,
              "#ed7953"
             ],
             [
              0.7777777777777778,
              "#fb9f3a"
             ],
             [
              0.8888888888888888,
              "#fdca26"
             ],
             [
              1,
              "#f0f921"
             ]
            ],
            "type": "histogram2dcontour"
           }
          ],
          "mesh3d": [
           {
            "colorbar": {
             "outlinewidth": 0,
             "ticks": ""
            },
            "type": "mesh3d"
           }
          ],
          "parcoords": [
           {
            "line": {
             "colorbar": {
              "outlinewidth": 0,
              "ticks": ""
             }
            },
            "type": "parcoords"
           }
          ],
          "pie": [
           {
            "automargin": true,
            "type": "pie"
           }
          ],
          "scatter": [
           {
            "fillpattern": {
             "fillmode": "overlay",
             "size": 10,
             "solidity": 0.2
            },
            "type": "scatter"
           }
          ],
          "scatter3d": [
           {
            "line": {
             "colorbar": {
              "outlinewidth": 0,
              "ticks": ""
             }
            },
            "marker": {
             "colorbar": {
              "outlinewidth": 0,
              "ticks": ""
             }
            },
            "type": "scatter3d"
           }
          ],
          "scattercarpet": [
           {
            "marker": {
             "colorbar": {
              "outlinewidth": 0,
              "ticks": ""
             }
            },
            "type": "scattercarpet"
           }
          ],
          "scattergeo": [
           {
            "marker": {
             "colorbar": {
              "outlinewidth": 0,
              "ticks": ""
             }
            },
            "type": "scattergeo"
           }
          ],
          "scattergl": [
           {
            "marker": {
             "colorbar": {
              "outlinewidth": 0,
              "ticks": ""
             }
            },
            "type": "scattergl"
           }
          ],
          "scattermap": [
           {
            "marker": {
             "colorbar": {
              "outlinewidth": 0,
              "ticks": ""
             }
            },
            "type": "scattermap"
           }
          ],
          "scattermapbox": [
           {
            "marker": {
             "colorbar": {
              "outlinewidth": 0,
              "ticks": ""
             }
            },
            "type": "scattermapbox"
           }
          ],
          "scatterpolar": [
           {
            "marker": {
             "colorbar": {
              "outlinewidth": 0,
              "ticks": ""
             }
            },
            "type": "scatterpolar"
           }
          ],
          "scatterpolargl": [
           {
            "marker": {
             "colorbar": {
              "outlinewidth": 0,
              "ticks": ""
             }
            },
            "type": "scatterpolargl"
           }
          ],
          "scatterternary": [
           {
            "marker": {
             "colorbar": {
              "outlinewidth": 0,
              "ticks": ""
             }
            },
            "type": "scatterternary"
           }
          ],
          "surface": [
           {
            "colorbar": {
             "outlinewidth": 0,
             "ticks": ""
            },
            "colorscale": [
             [
              0,
              "#0d0887"
             ],
             [
              0.1111111111111111,
              "#46039f"
             ],
             [
              0.2222222222222222,
              "#7201a8"
             ],
             [
              0.3333333333333333,
              "#9c179e"
             ],
             [
              0.4444444444444444,
              "#bd3786"
             ],
             [
              0.5555555555555556,
              "#d8576b"
             ],
             [
              0.6666666666666666,
              "#ed7953"
             ],
             [
              0.7777777777777778,
              "#fb9f3a"
             ],
             [
              0.8888888888888888,
              "#fdca26"
             ],
             [
              1,
              "#f0f921"
             ]
            ],
            "type": "surface"
           }
          ],
          "table": [
           {
            "cells": {
             "fill": {
              "color": "#EBF0F8"
             },
             "line": {
              "color": "white"
             }
            },
            "header": {
             "fill": {
              "color": "#C8D4E3"
             },
             "line": {
              "color": "white"
             }
            },
            "type": "table"
           }
          ]
         },
         "layout": {
          "annotationdefaults": {
           "arrowcolor": "#2a3f5f",
           "arrowhead": 0,
           "arrowwidth": 1
          },
          "autotypenumbers": "strict",
          "coloraxis": {
           "colorbar": {
            "outlinewidth": 0,
            "ticks": ""
           }
          },
          "colorscale": {
           "diverging": [
            [
             0,
             "#8e0152"
            ],
            [
             0.1,
             "#c51b7d"
            ],
            [
             0.2,
             "#de77ae"
            ],
            [
             0.3,
             "#f1b6da"
            ],
            [
             0.4,
             "#fde0ef"
            ],
            [
             0.5,
             "#f7f7f7"
            ],
            [
             0.6,
             "#e6f5d0"
            ],
            [
             0.7,
             "#b8e186"
            ],
            [
             0.8,
             "#7fbc41"
            ],
            [
             0.9,
             "#4d9221"
            ],
            [
             1,
             "#276419"
            ]
           ],
           "sequential": [
            [
             0,
             "#0d0887"
            ],
            [
             0.1111111111111111,
             "#46039f"
            ],
            [
             0.2222222222222222,
             "#7201a8"
            ],
            [
             0.3333333333333333,
             "#9c179e"
            ],
            [
             0.4444444444444444,
             "#bd3786"
            ],
            [
             0.5555555555555556,
             "#d8576b"
            ],
            [
             0.6666666666666666,
             "#ed7953"
            ],
            [
             0.7777777777777778,
             "#fb9f3a"
            ],
            [
             0.8888888888888888,
             "#fdca26"
            ],
            [
             1,
             "#f0f921"
            ]
           ],
           "sequentialminus": [
            [
             0,
             "#0d0887"
            ],
            [
             0.1111111111111111,
             "#46039f"
            ],
            [
             0.2222222222222222,
             "#7201a8"
            ],
            [
             0.3333333333333333,
             "#9c179e"
            ],
            [
             0.4444444444444444,
             "#bd3786"
            ],
            [
             0.5555555555555556,
             "#d8576b"
            ],
            [
             0.6666666666666666,
             "#ed7953"
            ],
            [
             0.7777777777777778,
             "#fb9f3a"
            ],
            [
             0.8888888888888888,
             "#fdca26"
            ],
            [
             1,
             "#f0f921"
            ]
           ]
          },
          "colorway": [
           "#636efa",
           "#EF553B",
           "#00cc96",
           "#ab63fa",
           "#FFA15A",
           "#19d3f3",
           "#FF6692",
           "#B6E880",
           "#FF97FF",
           "#FECB52"
          ],
          "font": {
           "color": "#2a3f5f"
          },
          "geo": {
           "bgcolor": "white",
           "lakecolor": "white",
           "landcolor": "#E5ECF6",
           "showlakes": true,
           "showland": true,
           "subunitcolor": "white"
          },
          "hoverlabel": {
           "align": "left"
          },
          "hovermode": "closest",
          "mapbox": {
           "style": "light"
          },
          "paper_bgcolor": "white",
          "plot_bgcolor": "#E5ECF6",
          "polar": {
           "angularaxis": {
            "gridcolor": "white",
            "linecolor": "white",
            "ticks": ""
           },
           "bgcolor": "#E5ECF6",
           "radialaxis": {
            "gridcolor": "white",
            "linecolor": "white",
            "ticks": ""
           }
          },
          "scene": {
           "xaxis": {
            "backgroundcolor": "#E5ECF6",
            "gridcolor": "white",
            "gridwidth": 2,
            "linecolor": "white",
            "showbackground": true,
            "ticks": "",
            "zerolinecolor": "white"
           },
           "yaxis": {
            "backgroundcolor": "#E5ECF6",
            "gridcolor": "white",
            "gridwidth": 2,
            "linecolor": "white",
            "showbackground": true,
            "ticks": "",
            "zerolinecolor": "white"
           },
           "zaxis": {
            "backgroundcolor": "#E5ECF6",
            "gridcolor": "white",
            "gridwidth": 2,
            "linecolor": "white",
            "showbackground": true,
            "ticks": "",
            "zerolinecolor": "white"
           }
          },
          "shapedefaults": {
           "line": {
            "color": "#2a3f5f"
           }
          },
          "ternary": {
           "aaxis": {
            "gridcolor": "white",
            "linecolor": "white",
            "ticks": ""
           },
           "baxis": {
            "gridcolor": "white",
            "linecolor": "white",
            "ticks": ""
           },
           "bgcolor": "#E5ECF6",
           "caxis": {
            "gridcolor": "white",
            "linecolor": "white",
            "ticks": ""
           }
          },
          "title": {
           "x": 0.05
          },
          "xaxis": {
           "automargin": true,
           "gridcolor": "white",
           "linecolor": "white",
           "ticks": "",
           "title": {
            "standoff": 15
           },
           "zerolinecolor": "white",
           "zerolinewidth": 2
          },
          "yaxis": {
           "automargin": true,
           "gridcolor": "white",
           "linecolor": "white",
           "ticks": "",
           "title": {
            "standoff": 15
           },
           "zerolinecolor": "white",
           "zerolinewidth": 2
          }
         }
        },
        "title": {
         "text": "Path patching results "
        },
        "width": 800,
        "xaxis": {
         "anchor": "y",
         "constrain": "domain",
         "domain": [
          0,
          1
         ],
         "scaleanchor": "y",
         "title": {
          "text": "Layer"
         }
        },
        "yaxis": {
         "anchor": "x",
         "autorange": "reversed",
         "constrain": "domain",
         "domain": [
          0,
          1
         ],
         "title": {
          "text": "Head"
         }
        }
       }
      }
     },
     "metadata": {},
     "output_type": "display_data"
    }
   ],
   "source": [
    "filename = \"./results/gemma_2_9b/ind_h39_7_v.pt\"\n",
    "results_h39_7_v = t.load(filename)\n",
    "visualize_heatmap(results_h39_7_v)"
   ]
  },
  {
   "cell_type": "code",
   "execution_count": 11,
   "metadata": {},
   "outputs": [
    {
     "data": {
      "text/html": [
       "<div id=\"circuits-vis-22a13f01-b470\" style=\"margin: 15px 0;\"/>\n",
       "    <script crossorigin type=\"module\">\n",
       "    import { render, AttentionPatterns } from \"https://unpkg.com/circuitsvis@1.41.0/dist/cdn/esm.js\";\n",
       "    render(\n",
       "      \"circuits-vis-22a13f01-b470\",\n",
       "      AttentionPatterns,\n",
       "      {\"tokens\": [\"<bos>\", \"4\", \"+\", \"3\", \"=\", \"8\", \"\\n\", \"3\", \"+\", \"2\", \"=\", \"6\", \"\\n\", \"6\", \"+\", \"0\", \"=\", \"7\", \"\\n\", \"3\", \"+\", \"3\", \"=\", \"7\", \"\\n\", \"1\", \"+\", \"0\", \"=\"], \"attention\": [[[1.0, 0.0, 0.0, 0.0, 0.0, 0.0, 0.0, 0.0, 0.0, 0.0, 0.0, 0.0, 0.0, 0.0, 0.0, 0.0, 0.0, 0.0, 0.0, 0.0, 0.0, 0.0, 0.0, 0.0, 0.0, 0.0, 0.0, 0.0, 0.0], [0.9876335263252258, 0.012366454117000103, 0.0, 0.0, 0.0, 0.0, 0.0, 0.0, 0.0, 0.0, 0.0, 0.0, 0.0, 0.0, 0.0, 0.0, 0.0, 0.0, 0.0, 0.0, 0.0, 0.0, 0.0, 0.0, 0.0, 0.0, 0.0, 0.0, 0.0], [0.9337726831436157, 0.006622775457799435, 0.05960457772016525, 0.0, 0.0, 0.0, 0.0, 0.0, 0.0, 0.0, 0.0, 0.0, 0.0, 0.0, 0.0, 0.0, 0.0, 0.0, 0.0, 0.0, 0.0, 0.0, 0.0, 0.0, 0.0, 0.0, 0.0, 0.0, 0.0], [0.5307158827781677, 0.009896312840282917, 0.4341287612915039, 0.025259055197238922, 0.0, 0.0, 0.0, 0.0, 0.0, 0.0, 0.0, 0.0, 0.0, 0.0, 0.0, 0.0, 0.0, 0.0, 0.0, 0.0, 0.0, 0.0, 0.0, 0.0, 0.0, 0.0, 0.0, 0.0, 0.0], [0.9578985571861267, 0.0026349518448114395, 0.01199618261307478, 0.011459223926067352, 0.016011035069823265, 0.0, 0.0, 0.0, 0.0, 0.0, 0.0, 0.0, 0.0, 0.0, 0.0, 0.0, 0.0, 0.0, 0.0, 0.0, 0.0, 0.0, 0.0, 0.0, 0.0, 0.0, 0.0, 0.0, 0.0], [0.7976983785629272, 0.00022187811555340886, 0.0005325680831447244, 0.007794104516506195, 0.12817128002643585, 0.0655817985534668, 0.0, 0.0, 0.0, 0.0, 0.0, 0.0, 0.0, 0.0, 0.0, 0.0, 0.0, 0.0, 0.0, 0.0, 0.0, 0.0, 0.0, 0.0, 0.0, 0.0, 0.0, 0.0, 0.0], [0.944762647151947, 0.0014360229251906276, 0.0011863285908475518, 0.0019186517456546426, 0.00846889242529869, 0.01015432458370924, 0.03207312896847725, 0.0, 0.0, 0.0, 0.0, 0.0, 0.0, 0.0, 0.0, 0.0, 0.0, 0.0, 0.0, 0.0, 0.0, 0.0, 0.0, 0.0, 0.0, 0.0, 0.0, 0.0, 0.0], [0.6937695741653442, 0.0034008193761110306, 0.0007812954136170447, 0.0001140846434282139, 0.0018636495806276798, 0.05214643478393555, 0.20343917608261108, 0.04448501020669937, 0.0, 0.0, 0.0, 0.0, 0.0, 0.0, 0.0, 0.0, 0.0, 0.0, 0.0, 0.0, 0.0, 0.0, 0.0, 0.0, 0.0, 0.0, 0.0, 0.0, 0.0], [0.9171947240829468, 0.001017634174786508, 0.0004610867181327194, 0.0002383843093411997, 0.0025968027766793966, 0.02011043019592762, 0.023651041090488434, 0.015421224758028984, 0.019308699294924736, 0.0, 0.0, 0.0, 0.0, 0.0, 0.0, 0.0, 0.0, 0.0, 0.0, 0.0, 0.0, 0.0, 0.0, 0.0, 0.0, 0.0, 0.0, 0.0, 0.0], [0.6270778179168701, 0.0016358522698283195, 0.0032834780868142843, 0.00024053105153143406, 6.552012200700119e-05, 0.00039505751919932663, 0.011052224785089493, 0.030133482068777084, 0.3034188449382782, 0.02269710972905159, 0.0, 0.0, 0.0, 0.0, 0.0, 0.0, 0.0, 0.0, 0.0, 0.0, 0.0, 0.0, 0.0, 0.0, 0.0, 0.0, 0.0, 0.0, 0.0], [0.9404262900352478, 0.002020725980401039, 0.0007860374171286821, 0.0010514267487451434, 0.0017525320872664452, 0.0023532300256192684, 0.013166720047593117, 0.009289238601922989, 0.012551536783576012, 0.011996733024716377, 0.004605460446327925, 0.0, 0.0, 0.0, 0.0, 0.0, 0.0, 0.0, 0.0, 0.0, 0.0, 0.0, 0.0, 0.0, 0.0, 0.0, 0.0, 0.0, 0.0], [0.6811559796333313, 0.0003680340596474707, 0.0003863632446154952, 0.0009661917574703693, 0.10110815614461899, 0.003169406671077013, 0.03914207965135574, 0.00019413555855862796, 0.004829520359635353, 0.031402796506881714, 0.059574194252491, 0.077703095972538, 0.0, 0.0, 0.0, 0.0, 0.0, 0.0, 0.0, 0.0, 0.0, 0.0, 0.0, 0.0, 0.0, 0.0, 0.0, 0.0, 0.0], [0.9044879674911499, 0.0018721558153629303, 0.0012960059102624655, 0.0014100165572017431, 0.01335856318473816, 0.004278948064893484, 0.018278656527400017, 0.0018978063017129898, 0.003953610546886921, 0.008780138567090034, 0.011977329850196838, 0.006772502325475216, 0.021636292338371277, 0.0, 0.0, 0.0, 0.0, 0.0, 0.0, 0.0, 0.0, 0.0, 0.0, 0.0, 0.0, 0.0, 0.0, 0.0, 0.0], [0.585944414138794, 0.00099465053062886, 0.00018843129510059953, 4.492183870752342e-05, 0.02676379308104515, 0.00213718693703413, 0.021937234327197075, 0.002527509815990925, 0.0009101522737182677, 0.0005069884937256575, 0.0005902217235416174, 0.03731913864612579, 0.3055838942527771, 0.014551479369401932, 0.0, 0.0, 0.0, 0.0, 0.0, 0.0, 0.0, 0.0, 0.0, 0.0, 0.0, 0.0, 0.0, 0.0, 0.0], [0.9012541174888611, 0.0016759735299274325, 0.0005216631107032299, 0.00020658763241954148, 0.0023444420658051968, 0.003910192754119635, 0.011276490986347198, 0.0018615910084918141, 0.0016400385648012161, 0.0006517745787277818, 0.0010558944195508957, 0.019253630191087723, 0.026019763201475143, 0.012713906355202198, 0.0156138576567173, 0.0, 0.0, 0.0, 0.0, 0.0, 0.0, 0.0, 0.0, 0.0, 0.0, 0.0, 0.0, 0.0, 0.0], [0.5786973834037781, 0.003199339844286442, 0.001062321476638317, 7.185302092693746e-05, 0.00018561063916422427, 0.00011467115837149322, 0.0029909934382885695, 0.0037632465828210115, 0.0034148700069636106, 0.0005350871942937374, 1.8842580175260082e-05, 0.000626143766567111, 0.005002647638320923, 0.0328960195183754, 0.3501504063606262, 0.01727057807147503, 0.0, 0.0, 0.0, 0.0, 0.0, 0.0, 0.0, 0.0, 0.0, 0.0, 0.0, 0.0, 0.0], [0.9448890089988708, 0.0014535423833876848, 0.0004172933113295585, 0.00044690174399875104, 0.0011967385653406382, 0.00208244938403368, 0.010159114375710487, 0.0017897487850859761, 0.001594646368175745, 0.001404321170412004, 0.0004379349702503532, 0.002000657143071294, 0.004524595569819212, 0.007335063070058823, 0.010918715037405491, 0.005569663364440203, 0.003779660677537322, 0.0, 0.0, 0.0, 0.0, 0.0, 0.0, 0.0, 0.0, 0.0, 0.0, 0.0, 0.0], [0.557953953742981, 0.0007031186833046377, 0.00034271873300895095, 0.0013057051692157984, 0.05561786890029907, 0.0016653342172503471, 0.03663394972681999, 0.000255369464866817, 0.003422240726649761, 0.004941614810377359, 0.10912655293941498, 0.003961596172302961, 0.00930265337228775, 0.00010847368685062975, 0.0008928897441364825, 0.0160741675645113, 0.15979650616645813, 0.037895359098911285, 0.0, 0.0, 0.0, 0.0, 0.0, 0.0, 0.0, 0.0, 0.0, 0.0, 0.0], [0.9007014036178589, 0.0016335221007466316, 0.0013335857074707747, 0.0009601004421710968, 0.004968121647834778, 0.0038180407136678696, 0.016611797735095024, 0.0018028563354164362, 0.0036125481128692627, 0.0038379975594580173, 0.0032307745423167944, 0.0031446018256247044, 0.009136796928942204, 0.0014531472697854042, 0.003520109225064516, 0.006453980691730976, 0.009643715806305408, 0.0064347777515649796, 0.017702043056488037, 0.0, 0.0, 0.0, 0.0, 0.0, 0.0, 0.0, 0.0, 0.0, 0.0], [0.6151605844497681, 0.0005742701468989253, 0.0003646303666755557, 9.999059693654999e-05, 6.191473949002102e-05, 0.004166741855442524, 0.01087097730487585, 0.0004769498482346535, 0.0009327107691206038, 0.0002120571443811059, 9.696467168396339e-05, 0.0027326783165335655, 0.01031629927456379, 0.0012005248572677374, 0.0005777613259851933, 0.0002725082740653306, 0.013804538175463676, 0.020554134622216225, 0.28153273463249207, 0.03599102422595024, 0.0, 0.0, 0.0, 0.0, 0.0, 0.0, 0.0, 0.0, 0.0], [0.8862452507019043, 0.00134357123170048, 0.0003556786978151649, 0.0002619321458041668, 0.001135453931055963, 0.003775513032451272, 0.014575968496501446, 0.0018538925796747208, 0.0020395726896822453, 0.0009715399355627596, 0.0003633794840425253, 0.004931905772536993, 0.007063374854624271, 0.001497225253842771, 0.0011998945847153664, 0.0006242617964744568, 0.0011053442722186446, 0.015428869053721428, 0.024827366694808006, 0.017042391002178192, 0.013357620686292648, 0.0, 0.0, 0.0, 0.0, 0.0, 0.0, 0.0, 0.0], [0.48460841178894043, 0.0014900807291269302, 0.0017964399885386229, 8.022459223866463e-05, 1.7577389371581376e-05, 0.00035926769487559795, 0.002535982755944133, 0.004937003366649151, 0.0029319815803319216, 0.00020016211783513427, 5.919196610193467e-06, 0.00025119533529505134, 0.0018303885590285063, 0.003319314680993557, 0.0037820793222635984, 0.00036740716313943267, 6.78505375617533e-06, 0.0007192217744886875, 0.0035034301690757275, 0.04476945847272873, 0.4291350841522217, 0.013352630659937859, 0.0, 0.0, 0.0, 0.0, 0.0, 0.0, 0.0], [0.9067775011062622, 0.002842035610228777, 0.000926867825910449, 0.0005779907223768532, 0.0005737821338698268, 0.0014442813117057085, 0.012816905975341797, 0.0017125877784565091, 0.0013115666806697845, 0.001230278518050909, 0.00024787531583569944, 0.0022666051518172026, 0.0042811064049601555, 0.002201511524617672, 0.0014742460334673524, 0.0014106363523751497, 0.00025851212558336556, 0.001862662611529231, 0.003311180043965578, 0.011921786703169346, 0.017900770530104637, 0.00919849518686533, 0.013450774364173412, 0.0, 0.0, 0.0, 0.0, 0.0, 0.0], [0.5140301585197449, 0.000796313863247633, 0.0005844279658049345, 0.0014595129759982228, 0.018329590559005737, 0.0007611931068822742, 0.0344734787940979, 0.0005619010771624744, 0.0006545485812239349, 0.005430937744677067, 0.0007934963214211166, 0.002556289080530405, 0.026400258764624596, 0.0002118857082678005, 0.011309351772069931, 0.004592991899698973, 0.03450721502304077, 0.0046492042019963264, 0.017583511769771576, 0.0002789369027595967, 0.00289148255251348, 0.02969237044453621, 0.250715434551239, 0.036735545843839645, 0.0, 0.0, 0.0, 0.0, 0.0], [0.8952088356018066, 0.0012773883063346148, 0.0008738290052860975, 0.000740990974009037, 0.003362745512276888, 0.0017177301924675703, 0.018219277262687683, 0.0012487925123423338, 0.0025042712222784758, 0.0023233983665704727, 0.001137654180638492, 0.002462546108290553, 0.007392737083137035, 0.0013761698501184583, 0.0026648053899407387, 0.0032259358558803797, 0.002358437981456518, 0.0025110922288149595, 0.006471230648458004, 0.0013842887710779905, 0.0026011590380221605, 0.005497078876942396, 0.009730907157063484, 0.005017254035919905, 0.018691450357437134, 0.0, 0.0, 0.0, 0.0], [0.5805259943008423, 0.0002800518414005637, 0.0001117207866627723, 5.618322757072747e-05, 0.016120461747050285, 0.0007132682367227972, 0.03126915916800499, 0.00024849464534781873, 0.0025877419393509626, 0.0003413392696529627, 2.2972859369474463e-05, 0.0043214671313762665, 0.009710915386676788, 0.0004391134134493768, 0.003007173538208008, 0.00032806501258164644, 0.00017972590285353363, 0.004808903206139803, 0.022057142108678818, 0.0009363077115267515, 0.0024483641609549522, 0.000369474058970809, 0.0012783907586708665, 0.018567848950624466, 0.27903032302856445, 0.02023938298225403, 0.0, 0.0, 0.0], [0.8888700604438782, 0.0012600506888702512, 0.00017540734552312642, 0.0001480228966102004, 0.0016728667542338371, 0.0025544892996549606, 0.01140310987830162, 0.0008755984017625451, 0.0012503262842074037, 0.00073227722896263, 0.00022930826526135206, 0.0022440003231167793, 0.007947023957967758, 0.0008539343834854662, 0.001795231830328703, 0.0008136149263009429, 0.000257345091085881, 0.004229606594890356, 0.005559643264859915, 0.0008752650464884937, 0.0011719985632225871, 0.0004189687024336308, 0.0009758846717886627, 0.014844774268567562, 0.026354944333434105, 0.011827580630779266, 0.010658652521669865, 0.0, 0.0], [0.5364145636558533, 0.0005932544590905309, 0.00029245467158034444, 4.452426946954802e-05, 0.00013339925499167293, 0.00033771697781048715, 0.0010664218571037054, 0.0011367995757609606, 0.0009045306360349059, 0.0001783824263839051, 9.788971510715783e-06, 0.0009155641309916973, 0.000815826584585011, 0.0026155251543968916, 0.0010514440946280956, 0.00010736456897575408, 7.564503903267905e-05, 0.00043194182217121124, 0.0034506041556596756, 0.006001208908855915, 0.0064676618203520775, 0.0005723237409256399, 0.0005514370277523994, 0.0005001816898584366, 0.0026892125606536865, 0.039062801748514175, 0.37902629375457764, 0.014553168788552284, 0.0], [0.9095702171325684, 0.002760056871920824, 0.0006687485729344189, 0.00040439472650177777, 0.0012420548591762781, 0.000679597957059741, 0.012860364280641079, 0.0014570149360224605, 0.0016740639694035053, 0.0009813373908400536, 0.00023352185962721705, 0.0012242344673722982, 0.004374716896563768, 0.0009427023469470441, 0.0009627697290852666, 0.0007015748415142298, 0.0002246691583422944, 0.0013947088737040758, 0.003554730676114559, 0.0016899468610063195, 0.0011730593396350741, 0.0013584070838987827, 0.0007425971562042832, 0.0014139371924102306, 0.004839918576180935, 0.009118584915995598, 0.015250323340296745, 0.009477373212575912, 0.009024308063089848]], [[1.0, 0.0, 0.0, 0.0, 0.0, 0.0, 0.0, 0.0, 0.0, 0.0, 0.0, 0.0, 0.0, 0.0, 0.0, 0.0, 0.0, 0.0, 0.0, 0.0, 0.0, 0.0, 0.0, 0.0, 0.0, 0.0, 0.0, 0.0, 0.0], [0.9397599101066589, 0.06024004518985748, 0.0, 0.0, 0.0, 0.0, 0.0, 0.0, 0.0, 0.0, 0.0, 0.0, 0.0, 0.0, 0.0, 0.0, 0.0, 0.0, 0.0, 0.0, 0.0, 0.0, 0.0, 0.0, 0.0, 0.0, 0.0, 0.0, 0.0], [0.8828288316726685, 0.032016534358263016, 0.08515463769435883, 0.0, 0.0, 0.0, 0.0, 0.0, 0.0, 0.0, 0.0, 0.0, 0.0, 0.0, 0.0, 0.0, 0.0, 0.0, 0.0, 0.0, 0.0, 0.0, 0.0, 0.0, 0.0, 0.0, 0.0, 0.0, 0.0], [0.5030054450035095, 0.003992320504039526, 0.4526253640651703, 0.040376871824264526, 0.0, 0.0, 0.0, 0.0, 0.0, 0.0, 0.0, 0.0, 0.0, 0.0, 0.0, 0.0, 0.0, 0.0, 0.0, 0.0, 0.0, 0.0, 0.0, 0.0, 0.0, 0.0, 0.0, 0.0, 0.0], [0.9100121259689331, 0.008665438741445541, 0.0394739992916584, 0.01835164800286293, 0.02349676936864853, 0.0, 0.0, 0.0, 0.0, 0.0, 0.0, 0.0, 0.0, 0.0, 0.0, 0.0, 0.0, 0.0, 0.0, 0.0, 0.0, 0.0, 0.0, 0.0, 0.0, 0.0, 0.0, 0.0, 0.0], [0.14127856492996216, 0.00015014257223811, 0.00021867243049200624, 0.006805094890296459, 0.8265382647514343, 0.02500930428504944, 0.0, 0.0, 0.0, 0.0, 0.0, 0.0, 0.0, 0.0, 0.0, 0.0, 0.0, 0.0, 0.0, 0.0, 0.0, 0.0, 0.0, 0.0, 0.0, 0.0, 0.0, 0.0, 0.0], [0.9326456785202026, 0.0027876785025000572, 0.00112442416138947, 0.002511644037440419, 0.005409475415945053, 0.01658444292843342, 0.038936641067266464, 0.0, 0.0, 0.0, 0.0, 0.0, 0.0, 0.0, 0.0, 0.0, 0.0, 0.0, 0.0, 0.0, 0.0, 0.0, 0.0, 0.0, 0.0, 0.0, 0.0, 0.0, 0.0], [0.5200030207633972, 0.001957081723958254, 0.0004927022382616997, 7.091433508321643e-05, 0.015880882740020752, 0.03154996782541275, 0.34149399399757385, 0.08855141699314117, 0.0, 0.0, 0.0, 0.0, 0.0, 0.0, 0.0, 0.0, 0.0, 0.0, 0.0, 0.0, 0.0, 0.0, 0.0, 0.0, 0.0, 0.0, 0.0, 0.0, 0.0], [0.7909083962440491, 0.0037760608829557896, 0.0019056751625612378, 0.0007645742152817547, 0.004214593209326267, 0.01553057599812746, 0.08206118643283844, 0.046930741518735886, 0.05390824377536774, 0.0, 0.0, 0.0, 0.0, 0.0, 0.0, 0.0, 0.0, 0.0, 0.0, 0.0, 0.0, 0.0, 0.0, 0.0, 0.0, 0.0, 0.0, 0.0, 0.0], [0.2336142212152481, 0.003134407801553607, 0.002851031720638275, 0.00018245642422698438, 0.0017974209040403366, 9.895631956169382e-05, 0.014409000054001808, 0.019049663096666336, 0.7137885689735413, 0.011074284091591835, 0.0, 0.0, 0.0, 0.0, 0.0, 0.0, 0.0, 0.0, 0.0, 0.0, 0.0, 0.0, 0.0, 0.0, 0.0, 0.0, 0.0, 0.0, 0.0], [0.886388897895813, 0.0045239971950650215, 0.0055436016991734505, 0.0022448855452239513, 0.004195935092866421, 0.002575305290520191, 0.033916182816028595, 0.010721045546233654, 0.03769688308238983, 0.006977517157793045, 0.005215782206505537, 0.0, 0.0, 0.0, 0.0, 0.0, 0.0, 0.0, 0.0, 0.0, 0.0, 0.0, 0.0, 0.0, 0.0, 0.0, 0.0, 0.0, 0.0], [0.012706898152828217, 1.5399386029457673e-05, 2.2260366677073762e-05, 0.00015454764070454985, 0.003997315187007189, 7.919322524685413e-05, 0.0022339913994073868, 2.101883183058817e-06, 0.0002922640705946833, 0.0008759864140301943, 0.9788103699684143, 0.0008096095407381654, 0.0, 0.0, 0.0, 0.0, 0.0, 0.0, 0.0, 0.0, 0.0, 0.0, 0.0, 0.0, 0.0, 0.0, 0.0, 0.0, 0.0], [0.8725442290306091, 0.0010509375715628266, 0.00044480952783487737, 0.0015187058597803116, 0.0065305884927511215, 0.004826483316719532, 0.023924238979816437, 0.0011999409180134535, 0.003097690874710679, 0.008722914382815361, 0.0063693942502141, 0.011697864159941673, 0.058072227984666824, 0.0, 0.0, 0.0, 0.0, 0.0, 0.0, 0.0, 0.0, 0.0, 0.0, 0.0, 0.0, 0.0, 0.0, 0.0, 0.0], [0.3943398892879486, 0.0008462725090794265, 0.000223160968744196, 0.00014204790932126343, 0.005621967371553183, 0.007493634708225727, 0.034352198243141174, 0.000668299850076437, 0.001419090898707509, 0.00013490526180248708, 0.013218825682997704, 0.018588325008749962, 0.45987367630004883, 0.06307769566774368, 0.0, 0.0, 0.0, 0.0, 0.0, 0.0, 0.0, 0.0, 0.0, 0.0, 0.0, 0.0, 0.0, 0.0, 0.0], [0.789089560508728, 0.00273453863337636, 0.0005447253934107721, 0.00026506325230002403, 0.0009877918055281043, 0.003519455436617136, 0.026671547442674637, 0.0021627198439091444, 0.003549544606357813, 0.0008117564721032977, 0.0011064031859859824, 0.011110949330031872, 0.09572736918926239, 0.02185778133571148, 0.039860799908638, 0.0, 0.0, 0.0, 0.0, 0.0, 0.0, 0.0, 0.0, 0.0, 0.0, 0.0, 0.0, 0.0, 0.0], [0.2953895330429077, 0.00291728344745934, 0.0010109706781804562, 6.929782102815807e-05, 0.0005988273187540472, 0.00017355158342979848, 0.005610473453998566, 0.004187845624983311, 0.009721809066832066, 0.0002787865523714572, 0.0004719731514342129, 0.00015536615683231503, 0.004773121327161789, 0.02176716737449169, 0.6378136277198792, 0.015060337260365486, 0.0, 0.0, 0.0, 0.0, 0.0, 0.0, 0.0, 0.0, 0.0, 0.0, 0.0, 0.0, 0.0], [0.883929431438446, 0.0029237493872642517, 0.0047724065370857716, 0.0014447409193962812, 0.0016870152903720737, 0.002191065112128854, 0.03297092020511627, 0.003435238264501095, 0.003518648212775588, 0.0017497420776635408, 0.0006830455968156457, 0.00216428330168128, 0.010882584378123283, 0.007359899580478668, 0.02529677003622055, 0.005486358888447285, 0.00950410682708025, 0.0, 0.0, 0.0, 0.0, 0.0, 0.0, 0.0, 0.0, 0.0, 0.0, 0.0, 0.0], [0.10575296729803085, 0.00019742411677725613, 0.00018478726269677281, 0.0002392106835031882, 0.011783729307353497, 0.00022886350052431226, 0.012026971206068993, 4.9096026486949995e-05, 0.0010861626360565424, 0.001342282397672534, 0.005250477232038975, 0.0006160069024190307, 0.004187210462987423, 9.992564628191758e-06, 0.0024439715780317783, 0.004942530766129494, 0.842332124710083, 0.007326185703277588, 0.0, 0.0, 0.0, 0.0, 0.0, 0.0, 0.0, 0.0, 0.0, 0.0, 0.0], [0.8771553039550781, 0.0005198296275921166, 0.000490547448862344, 0.0013080898206681013, 0.002799282781779766, 0.00479227676987648, 0.014006266370415688, 0.0009751913603395224, 0.001906913472339511, 0.004637195263057947, 0.002111700363457203, 0.0037474692799150944, 0.014674917794764042, 0.0008068682509474456, 0.0018619964830577374, 0.004712429363280535, 0.006347497925162315, 0.009226142428815365, 0.04792012274265289, 0.0, 0.0, 0.0, 0.0, 0.0, 0.0, 0.0, 0.0, 0.0, 0.0], [0.48100775480270386, 0.0004740430449601263, 0.0002617208519950509, 9.041883458849043e-05, 0.002316086320206523, 0.007389661855995655, 0.010565496049821377, 0.0010434159776195884, 0.0034911863040179014, 0.0004292653175070882, 0.0027559022419154644, 0.013913093134760857, 0.040305424481630325, 0.0003525574575178325, 0.0016170790186151862, 0.0003097171720582992, 0.012508487328886986, 0.03430182859301567, 0.3584367036819458, 0.028430150821805, 0.0, 0.0, 0.0, 0.0, 0.0, 0.0, 0.0, 0.0, 0.0], [0.7964975833892822, 0.001906443852931261, 0.0007058604969643056, 0.00044491596054285765, 0.0024222584906965494, 0.004924933426082134, 0.021856456995010376, 0.0031086329836398363, 0.00342304864898324, 0.0018359217792749405, 0.0003413588274270296, 0.0038892359007149935, 0.0150748360902071, 0.0012660237262025476, 0.002329109236598015, 0.0009466043557040393, 0.0010964804096147418, 0.012795355170965195, 0.07272865623235703, 0.015754958614706993, 0.03665132075548172, 0.0, 0.0, 0.0, 0.0, 0.0, 0.0, 0.0, 0.0], [0.22650521993637085, 0.0016255039954558015, 0.0007261012797243893, 3.3042000723071396e-05, 0.0003688465803861618, 0.00019713796791620553, 0.004827916622161865, 0.001150389201939106, 0.000875437050126493, 0.00013523770030587912, 0.00013580637460108846, 0.0005774262826889753, 0.003413829021155834, 0.0015974848065525293, 0.0033059765119105577, 0.00037648441502824426, 0.0002503146533854306, 0.00020681554451584816, 0.006796268280595541, 0.0249235350638628, 0.7161147594451904, 0.005856463219970465, 0.0, 0.0, 0.0, 0.0, 0.0, 0.0, 0.0], [0.8772792816162109, 0.0024424889124929905, 0.002771431114524603, 0.0004356910358183086, 0.001291430089622736, 0.0008831694722175598, 0.03101266920566559, 0.0019236650550737977, 0.002582076471298933, 0.001632221625186503, 0.00014238567382562906, 0.002041904954239726, 0.006319531239569187, 0.0018217706819996238, 0.001334993401542306, 0.000700341654010117, 0.00034980292548425496, 0.0014606299810111523, 0.009998043067753315, 0.010520114563405514, 0.025953173637390137, 0.005095289088785648, 0.012007921002805233, 0.0, 0.0, 0.0, 0.0, 0.0, 0.0], [0.17006269097328186, 0.000528167060110718, 0.00039056388777680695, 0.00031685244175605476, 0.0015390650369226933, 0.00010055732127511874, 0.009338824078440666, 7.60334005462937e-05, 0.0007056855247355998, 0.0006935374694876373, 0.002253474434837699, 0.0004989932058379054, 0.0016425782814621925, 2.4754552214290015e-05, 0.0004188058082945645, 0.0011053737252950668, 0.004935040138661861, 0.0007962175877764821, 0.0022723048459738493, 1.0250556442770176e-05, 0.0004112153546884656, 0.004334103781729937, 0.7886725664138794, 0.008872386999428272, 0.0, 0.0, 0.0, 0.0, 0.0], [0.8611727952957153, 0.0009527092333883047, 0.0007240187842398882, 0.0012916381238028407, 0.0032178638502955437, 0.0011824313551187515, 0.014947903342545033, 0.0005425838753581047, 0.0023866738192737103, 0.005276994779706001, 0.0008204354089684784, 0.004212624859064817, 0.008127887733280659, 0.0008910179021768272, 0.0011968450853601098, 0.0034717698581516743, 0.0015430354978889227, 0.003181349253281951, 0.012562062591314316, 0.0009208534029312432, 0.0018006155733019114, 0.006265717092901468, 0.008008585311472416, 0.00743793323636055, 0.04786365479230881, 0.0, 0.0, 0.0, 0.0], [0.4869273006916046, 0.0011909110471606255, 0.0003864881582558155, 0.0003556354495231062, 0.014983112923800945, 0.0012288738507777452, 0.009764478541910648, 0.0007143129478208721, 0.0007313694804906845, 0.00035179813858121634, 0.0003193030133843422, 0.003537361975759268, 0.007019416894763708, 0.00045816978672519326, 0.0014152189251035452, 0.00022694387007504702, 0.002250787103548646, 0.006201156880706549, 0.025785736739635468, 0.0006211798754520714, 0.0009779792744666338, 0.0001847561652539298, 0.021268144249916077, 0.0235050730407238, 0.3419634699821472, 0.047631047666072845, 0.0, 0.0, 0.0], [0.7823731899261475, 0.0008886383147910237, 0.00034398355637677014, 0.00037553193396888673, 0.0019350663060322404, 0.002802957082167268, 0.020149532705545425, 0.0012039397843182087, 0.003119091736152768, 0.0007233241340145469, 0.0002982945879921317, 0.002150913467630744, 0.011282600462436676, 0.0011196112027391791, 0.0016215904615819454, 0.0010069794952869415, 0.00026783073553815484, 0.0028285232838243246, 0.012660684064030647, 0.0013769912766292691, 0.002124059945344925, 0.0007027598912827671, 0.004108032677322626, 0.009392811916768551, 0.08165039122104645, 0.015195509418845177, 0.03829718008637428, 0.0, 0.0], [0.34739595651626587, 0.0035487287677824497, 0.0012478034477680922, 0.00012456435069907457, 0.00048306971439160407, 0.00048647919902577996, 0.003863059915602207, 0.0009722857503220439, 0.001337689347565174, 8.594702376285568e-05, 3.2656924304319546e-05, 0.0008161320583894849, 0.0014355236198753119, 0.0009484209585934877, 0.0009535587741993368, 0.00020467289141379297, 0.00010998045763699338, 0.001107932417653501, 0.0014227030333131552, 0.0016898952890187502, 0.003483791835606098, 0.00012097219587303698, 0.00029864389216527343, 0.0001429389521945268, 0.003600124968215823, 0.022027214989066124, 0.589971661567688, 0.012087550945580006, 0.0], [0.8838416337966919, 0.0011198805877938867, 0.0016187821747735143, 0.00037373523809947073, 0.00047976855421438813, 0.0011236851569265127, 0.021120090037584305, 0.0016429265961050987, 0.002646230161190033, 0.0004673429939430207, 0.00019619542581494898, 0.0007320717559196055, 0.006080932915210724, 0.0010817318689078093, 0.0008648390648886561, 0.0010266737081110477, 0.00012056167906848714, 0.0016551753506064415, 0.005431594327092171, 0.0021715639159083366, 0.0013748639030382037, 0.000578777864575386, 0.0006529373349621892, 0.001065519405528903, 0.011344747617840767, 0.008900461718440056, 0.03000187687575817, 0.004851245786994696, 0.007434171158820391]], [[1.0, 0.0, 0.0, 0.0, 0.0, 0.0, 0.0, 0.0, 0.0, 0.0, 0.0, 0.0, 0.0, 0.0, 0.0, 0.0, 0.0, 0.0, 0.0, 0.0, 0.0, 0.0, 0.0, 0.0, 0.0, 0.0, 0.0, 0.0, 0.0], [0.9233951568603516, 0.07660482078790665, 0.0, 0.0, 0.0, 0.0, 0.0, 0.0, 0.0, 0.0, 0.0, 0.0, 0.0, 0.0, 0.0, 0.0, 0.0, 0.0, 0.0, 0.0, 0.0, 0.0, 0.0, 0.0, 0.0, 0.0, 0.0, 0.0, 0.0], [0.7171860933303833, 0.2438642829656601, 0.0389496311545372, 0.0, 0.0, 0.0, 0.0, 0.0, 0.0, 0.0, 0.0, 0.0, 0.0, 0.0, 0.0, 0.0, 0.0, 0.0, 0.0, 0.0, 0.0, 0.0, 0.0, 0.0, 0.0, 0.0, 0.0, 0.0, 0.0], [0.6139819622039795, 0.017588980495929718, 0.3329615890979767, 0.03546753525733948, 0.0, 0.0, 0.0, 0.0, 0.0, 0.0, 0.0, 0.0, 0.0, 0.0, 0.0, 0.0, 0.0, 0.0, 0.0, 0.0, 0.0, 0.0, 0.0, 0.0, 0.0, 0.0, 0.0, 0.0, 0.0], [0.7080914974212646, 0.00031446205684915185, 0.019126150757074356, 0.2453824281692505, 0.027085410431027412, 0.0, 0.0, 0.0, 0.0, 0.0, 0.0, 0.0, 0.0, 0.0, 0.0, 0.0, 0.0, 0.0, 0.0, 0.0, 0.0, 0.0, 0.0, 0.0, 0.0, 0.0, 0.0, 0.0, 0.0], [0.25413328409194946, 8.11390345916152e-05, 0.001046857563778758, 0.008206669241189957, 0.7131158709526062, 0.023416172713041306, 0.0, 0.0, 0.0, 0.0, 0.0, 0.0, 0.0, 0.0, 0.0, 0.0, 0.0, 0.0, 0.0, 0.0, 0.0, 0.0, 0.0, 0.0, 0.0, 0.0, 0.0, 0.0, 0.0], [0.8057472705841064, 6.153977301437408e-05, 9.303767001256347e-06, 0.0002745354431681335, 0.018350500613451004, 0.1493525505065918, 0.026204336434602737, 0.0, 0.0, 0.0, 0.0, 0.0, 0.0, 0.0, 0.0, 0.0, 0.0, 0.0, 0.0, 0.0, 0.0, 0.0, 0.0, 0.0, 0.0, 0.0, 0.0, 0.0, 0.0], [0.6327236294746399, 0.0016501410864293575, 6.748124724254012e-05, 4.187798185739666e-05, 0.0027524540200829506, 0.01299831923097372, 0.2940487563610077, 0.0557173416018486, 0.0, 0.0, 0.0, 0.0, 0.0, 0.0, 0.0, 0.0, 0.0, 0.0, 0.0, 0.0, 0.0, 0.0, 0.0, 0.0, 0.0, 0.0, 0.0, 0.0, 0.0], [0.6945614218711853, 0.0020671808160841465, 2.0982730347895995e-05, 2.1357568584789988e-06, 7.208863735286286e-06, 0.00020555713854264468, 0.01953796111047268, 0.27409037947654724, 0.009507204405963421, 0.0, 0.0, 0.0, 0.0, 0.0, 0.0, 0.0, 0.0, 0.0, 0.0, 0.0, 0.0, 0.0, 0.0, 0.0, 0.0, 0.0, 0.0, 0.0, 0.0], [0.42286252975463867, 0.0036185753997415304, 0.0005039615789428353, 4.436951712705195e-05, 0.0002146688348148018, 2.1959767764201388e-05, 0.0008239992894232273, 0.012201858684420586, 0.5092537999153137, 0.050454284995794296, 0.0, 0.0, 0.0, 0.0, 0.0, 0.0, 0.0, 0.0, 0.0, 0.0, 0.0, 0.0, 0.0, 0.0, 0.0, 0.0, 0.0, 0.0, 0.0], [0.7996179461479187, 0.00126679427921772, 0.0012911190278828144, 0.0009082902106456459, 0.00015852003707550466, 1.173817872768268e-05, 5.582677113125101e-05, 0.0003321025869809091, 0.01884854957461357, 0.15620703995227814, 0.021301984786987305, 0.0, 0.0, 0.0, 0.0, 0.0, 0.0, 0.0, 0.0, 0.0, 0.0, 0.0, 0.0, 0.0, 0.0, 0.0, 0.0, 0.0, 0.0], [0.06943085789680481, 1.6802881873445585e-05, 3.865169855998829e-05, 0.00016972282901406288, 0.0010995269985869527, 2.2567233827430755e-05, 1.3247779861558229e-05, 1.6098236983452807e-06, 0.0009618487674742937, 0.0020648352801799774, 0.9234219193458557, 0.002758427755907178, 0.0, 0.0, 0.0, 0.0, 0.0, 0.0, 0.0, 0.0, 0.0, 0.0, 0.0, 0.0, 0.0, 0.0, 0.0, 0.0, 0.0], [0.8745800852775574, 0.00017685351485852152, 1.6238709577010013e-05, 0.0006146816303953528, 0.0009449795470573008, 0.0006595186423510313, 0.00022129407443571836, 2.288017640239559e-05, 1.993249316001311e-05, 0.0008528886828571558, 0.01164753083139658, 0.08457247167825699, 0.025670640170574188, 0.0, 0.0, 0.0, 0.0, 0.0, 0.0, 0.0, 0.0, 0.0, 0.0, 0.0, 0.0, 0.0, 0.0, 0.0, 0.0], [0.6599387526512146, 0.000983529258519411, 1.3814322301186621e-05, 1.9161514501320198e-05, 0.00018910040671471506, 0.00035207931068725884, 0.0024462533183395863, 0.0002582933520898223, 3.368899706401862e-05, 2.19040121010039e-05, 0.0011853605974465609, 0.012013199739158154, 0.2855710983276367, 0.0369737483561039, 0.0, 0.0, 0.0, 0.0, 0.0, 0.0, 0.0, 0.0, 0.0, 0.0, 0.0, 0.0, 0.0, 0.0, 0.0], [0.7190759778022766, 0.00044111430179327726, 1.4226238818082493e-06, 2.8447102522477508e-06, 1.5278642422345001e-06, 4.753257962875068e-05, 0.0007968415739014745, 0.00040560131310485303, 1.988952499232255e-05, 3.4100960419891635e-06, 4.10487518820446e-06, 0.00034928182139992714, 0.014428341761231422, 0.2576974928379059, 0.00672460813075304, 0.0, 0.0, 0.0, 0.0, 0.0, 0.0, 0.0, 0.0, 0.0, 0.0, 0.0, 0.0, 0.0, 0.0], [0.4917793869972229, 0.0021756808273494244, 0.0001385181676596403, 1.696071558399126e-05, 1.22733399621211e-05, 9.898699318000581e-06, 0.00036364150582812726, 0.0005036641960032284, 0.0007283588056452572, 1.7899321392178535e-05, 7.063987868605182e-05, 5.301506826072e-05, 0.0027747713029384613, 0.018960651010274887, 0.4144677519798279, 0.06792685389518738, 0.0, 0.0, 0.0, 0.0, 0.0, 0.0, 0.0, 0.0, 0.0, 0.0, 0.0, 0.0, 0.0], [0.8142436146736145, 0.001172731863334775, 0.00042823742842301726, 0.0001173895871033892, 8.030810022319201e-06, 1.2276493180252146e-05, 4.7953442845027894e-05, 0.0003219085047021508, 0.0006560426554642618, 0.00016162586689461023, 3.8173449866008013e-05, 1.573989720782265e-05, 6.395575474016368e-05, 0.00025035141152329743, 0.015563469380140305, 0.14690837264060974, 0.019990134984254837, 0.0, 0.0, 0.0, 0.0, 0.0, 0.0, 0.0, 0.0, 0.0, 0.0, 0.0, 0.0], [0.21203869581222534, 0.0004911532741971314, 0.0004975369083695114, 0.00018016145622823387, 0.00015596453158650547, 2.1124449631315656e-05, 2.861305620172061e-05, 7.1627250690653455e-06, 5.138066262588836e-05, 6.234728789422661e-05, 0.00028894521528854966, 4.656254895962775e-05, 2.8685799406957813e-05, 3.144333049931447e-06, 0.000874389661476016, 0.0041352855041623116, 0.7670205235481262, 0.014068299904465675, 0.0, 0.0, 0.0, 0.0, 0.0, 0.0, 0.0, 0.0, 0.0, 0.0, 0.0], [0.8805192112922668, 0.0007299667922779918, 0.00018774275667965412, 0.0007171047036536038, 0.0006929016089998186, 0.0004006085218861699, 0.00011668938532238826, 2.05943997571012e-05, 1.3616892829304561e-05, 0.00023115593648981303, 0.00017231280799023807, 0.0003665367257781327, 0.0001849636755650863, 1.747940041241236e-05, 1.888585029519163e-05, 0.0007608908927068114, 0.011556800454854965, 0.07698327302932739, 0.02630934864282608, 0.0, 0.0, 0.0, 0.0, 0.0, 0.0, 0.0, 0.0, 0.0, 0.0], [0.5950104594230652, 0.003732025157660246, 0.0003133579157292843, 0.0002765931421890855, 0.0004524800169747323, 0.0005037689115852118, 0.00160502502694726, 8.416744822170585e-05, 1.533573231426999e-05, 1.4887171346344985e-05, 4.306692426325753e-05, 0.00021983881015330553, 0.002845131792128086, 0.00010571337043074891, 2.3307822630158626e-05, 7.475740858353674e-05, 0.00038133154157549143, 0.04061593487858772, 0.33067622780799866, 0.023006564006209373, 0.0, 0.0, 0.0, 0.0, 0.0, 0.0, 0.0, 0.0, 0.0], [0.7741347551345825, 0.0006406352622434497, 2.7777001378126442e-05, 4.506955519900657e-05, 7.830190588720143e-05, 0.0006164524820633233, 0.0006082278559915721, 0.00010577414650470018, 1.3856243867849116e-06, 8.271666047221515e-06, 6.019592433403886e-07, 2.4970089725684375e-05, 0.0007319887517951429, 0.00013359944568946958, 2.7848200261360034e-05, 5.1513779908418655e-06, 3.7313868688215734e-06, 0.0009873128728941083, 0.01631908118724823, 0.19921737909317017, 0.0062816753052175045, 0.0, 0.0, 0.0, 0.0, 0.0, 0.0, 0.0, 0.0], [0.45953574776649475, 0.0010655883233994246, 0.0003722323745023459, 0.0001367337245028466, 0.00013959838543087244, 0.0002145044709322974, 0.0009806958260014653, 0.0004991478053852916, 8.824245014693588e-05, 3.541117621352896e-05, 2.7437608878244646e-06, 4.679705853050109e-06, 0.0002904841967392713, 0.00012066422641510144, 0.0001530366571387276, 3.331584230181761e-05, 0.00019716183305718005, 0.00013448197569232434, 0.0028413948602974415, 0.025339709594845772, 0.46275800466537476, 0.04505649581551552, 0.0, 0.0, 0.0, 0.0, 0.0, 0.0, 0.0], [0.8295817971229553, 0.0007844865322113037, 0.00023430114379152656, 9.332640911452472e-05, 2.6056746719405055e-05, 7.447422103723511e-05, 0.0003276119823567569, 0.001018895534798503, 0.0002139194548362866, 5.827542918268591e-05, 1.9765127490245504e-06, 5.5832115322118625e-06, 5.236250945017673e-05, 7.192330667749047e-05, 0.0003924279008060694, 0.00018449676281306893, 4.005373193649575e-05, 4.405489016789943e-05, 6.654980825260282e-05, 0.0003446670307312161, 0.013694146648049355, 0.1353497952222824, 0.017338827252388, 0.0, 0.0, 0.0, 0.0, 0.0, 0.0], [0.1691877245903015, 0.00011756084859371185, 0.0001930553262354806, 7.438330067088827e-05, 0.00014775496674701571, 6.902492168592289e-05, 0.00014177312550600618, 4.1728519136086106e-05, 0.0005167410126887262, 6.408720219042152e-05, 0.0005373568856157362, 2.7810597202915233e-06, 1.1310494301142171e-05, 1.8304587001694017e-06, 2.092360045935493e-05, 0.00011820912914117798, 0.0004240213893353939, 4.644570799428038e-05, 1.652555692999158e-05, 1.8146399725083029e-06, 0.00028222103719599545, 0.003464116482064128, 0.8186827898025513, 0.0058357976377010345, 0.0, 0.0, 0.0, 0.0, 0.0], [0.8720174431800842, 0.0010168564040213823, 0.0005254807183519006, 0.0011082803830504417, 0.00017267392831854522, 0.00038948378642089665, 0.00037621677620336413, 6.853933882666752e-05, 0.00020944621064700186, 0.00046444698818959296, 0.00016593930195085704, 6.42757149762474e-05, 7.581226236652583e-05, 1.4463343177339993e-05, 1.1132578038086649e-05, 0.00026740768225863576, 0.00016544332902412862, 0.0007262749713845551, 0.0002880761749111116, 2.3708447770331986e-05, 3.11230105580762e-05, 0.0009589302935637534, 0.013724688440561295, 0.08077803254127502, 0.02635590173304081, 0.0, 0.0, 0.0, 0.0], [0.6388624906539917, 0.0008968438487499952, 0.00011506874579936266, 7.038104376988485e-05, 0.0008114171214401722, 0.001161038875579834, 0.004927894100546837, 0.0002789878926705569, 0.00013824414054397494, 0.00010554000618867576, 0.00019027873349841684, 0.00027245370438322425, 0.0017055319622159004, 5.868239895789884e-05, 3.003729580086656e-05, 1.9729828636627644e-05, 6.647940608672798e-05, 0.0004886131500825286, 0.003049237420782447, 0.00019218670786358416, 1.641653034312185e-05, 2.923250212916173e-05, 0.0032296276185661554, 0.020639903843402863, 0.2812146842479706, 0.041428957134485245, 0.0, 0.0, 0.0], [0.7579398155212402, 0.0006121032638475299, 4.620823892764747e-05, 6.114644202170894e-05, 4.748604987980798e-05, 0.000316212244797498, 0.0004127904830966145, 0.00011590943904593587, 3.3402950066374615e-05, 0.000121363511425443, 2.6291527319699526e-05, 0.0001971995079657063, 0.0002543338923715055, 6.849139026599005e-05, 1.7592600443094852e-06, 5.922508080402622e-06, 4.389646051095042e-07, 4.216297384118661e-05, 0.001035661087371409, 0.00014457142970059067, 1.829570646805223e-05, 5.593662990577286e-06, 2.0765657609445043e-05, 0.0010677165118977427, 0.013757402077317238, 0.21612484753131866, 0.007522128522396088, 0.0, 0.0], [0.5723590850830078, 0.0004290588549338281, 5.2189992857165635e-05, 1.616168810869567e-05, 2.1731639208155684e-05, 3.922902760677971e-05, 0.0003544941428117454, 0.0005493214121088386, 0.00022361775336321443, 0.00016290096391458064, 0.00017011695308610797, 8.833325409796089e-05, 0.000508990662638098, 0.0003444617032073438, 6.41980514046736e-05, 1.403148053213954e-05, 5.855937388332677e-07, 4.020545475214021e-06, 0.00023395806783810258, 0.00010209092579316348, 0.00011382303637219593, 7.021625151537592e-06, 2.455695539538283e-05, 7.920623465906829e-05, 0.0011007782304659486, 0.021171914413571358, 0.3684082329273224, 0.03335588797926903, 0.0], [0.8320227861404419, 0.0003653974272310734, 0.00011360501230228692, 0.00014650047523900867, 0.00011314949369989336, 8.680282917339355e-05, 0.0003101441543549299, 0.0005512044299393892, 8.534837979823351e-05, 0.00013028440298512578, 2.6685589546104893e-05, 8.663775224704295e-05, 0.0002843322290573269, 0.00039756562910042703, 0.00018051904044114053, 5.141457950230688e-05, 1.4512132793242927e-06, 7.5827865657629445e-06, 5.9101956139784306e-05, 0.00010381380707258359, 0.0005641665775328875, 0.00010524067329242826, 0.0001572305482113734, 2.946128552139271e-05, 4.7588091547368094e-05, 0.00037982373032718897, 0.014327093958854675, 0.13256043195724487, 0.01670464500784874]]], \"headLabels\": [\"38.6\", \"38.7\", \"35.9\"]}\n",
       "    )\n",
       "    </script>"
      ],
      "text/plain": [
       "<circuitsvis.utils.render.RenderedHTML at 0x7f281c84ad80>"
      ]
     },
     "metadata": {},
     "output_type": "display_data"
    }
   ],
   "source": [
    "# Previous Token Heads (3 of 8 in total)\n",
    "visualize_heads([(38, 6), (38, 7), (35, 9)], model, processed_data)"
   ]
  }
 ],
 "metadata": {
  "kernelspec": {
   "display_name": "fi4",
   "language": "python",
   "name": "python3"
  },
  "language_info": {
   "codemirror_mode": {
    "name": "ipython",
    "version": 3
   },
   "file_extension": ".py",
   "mimetype": "text/x-python",
   "name": "python",
   "nbconvert_exporter": "python",
   "pygments_lexer": "ipython3",
   "version": "3.12.11"
  }
 },
 "nbformat": 4,
 "nbformat_minor": 2
}
