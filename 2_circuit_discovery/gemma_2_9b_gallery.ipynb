{
 "cells": [
  {
   "cell_type": "markdown",
   "metadata": {},
   "source": [
    "### Visualizing Path Patching Results\n",
    "\n",
    "Visualize the results produced by gemma_2_9b_offline.py"
   ]
  },
  {
   "cell_type": "code",
   "execution_count": 2,
   "metadata": {},
   "outputs": [
    {
     "name": "stdout",
     "output_type": "stream",
     "text": [
      "/home/qinyuan/function-induction\n"
     ]
    }
   ],
   "source": [
    "import os\n",
    "import sys\n",
    "\n",
    "# to import functions from `patching_utils.py` and `plotly_utils.py`,\n",
    "# we need to add the repository directory to the system path.\n",
    "current_dir = os.path.dirname(os.getcwd())\n",
    "print(current_dir)\n",
    "if current_dir not in sys.path:\n",
    "    sys.path.append(current_dir)"
   ]
  },
  {
   "cell_type": "code",
   "execution_count": 3,
   "metadata": {},
   "outputs": [],
   "source": [
    "import torch as t\n",
    "t.set_grad_enabled(False)\n",
    "from plotly_utils import imshow"
   ]
  },
  {
   "cell_type": "code",
   "execution_count": 4,
   "metadata": {},
   "outputs": [],
   "source": [
    "def visualize_heatmap(results, info=\"\"):\n",
    "    imshow(\n",
    "        100 * results.t(),\n",
    "        title=\"Path patching results {}\".format(info),\n",
    "        labels={\"x\":\"Layer\", \"y\":\"Head\", \"color\": \"Logit diff. variation\"},\n",
    "        coloraxis=dict(colorbar_ticksuffix = \"%\"),\n",
    "        width=800,\n",
    "        height=400,\n",
    "    )"
   ]
  },
  {
   "cell_type": "code",
   "execution_count": 5,
   "metadata": {},
   "outputs": [
    {
     "data": {
      "application/vnd.plotly.v1+json": {
       "config": {
        "plotlyServerURL": "https://plot.ly",
        "staticPlot": false
       },
       "data": [
        {
         "coloraxis": "coloraxis",
         "hovertemplate": "Layer: %{x}<br>Head: %{y}<br>Logit diff. variation: %{z}<extra></extra>",
         "name": "0",
         "type": "heatmap",
         "xaxis": "x",
         "yaxis": "y",
         "z": {
          "bdata": "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",
          "dtype": "f4",
          "shape": "16, 42"
         }
        }
       ],
       "layout": {
        "coloraxis": {
         "cmid": 0,
         "colorbar": {
          "ticksuffix": "%",
          "title": {
           "text": "Logit diff. variation"
          }
         },
         "colorscale": [
          [
           0,
           "rgb(103,0,31)"
          ],
          [
           0.1,
           "rgb(178,24,43)"
          ],
          [
           0.2,
           "rgb(214,96,77)"
          ],
          [
           0.3,
           "rgb(244,165,130)"
          ],
          [
           0.4,
           "rgb(253,219,199)"
          ],
          [
           0.5,
           "rgb(247,247,247)"
          ],
          [
           0.6,
           "rgb(209,229,240)"
          ],
          [
           0.7,
           "rgb(146,197,222)"
          ],
          [
           0.8,
           "rgb(67,147,195)"
          ],
          [
           0.9,
           "rgb(33,102,172)"
          ],
          [
           1,
           "rgb(5,48,97)"
          ]
         ]
        },
        "height": 400,
        "template": {
         "data": {
          "bar": [
           {
            "error_x": {
             "color": "#2a3f5f"
            },
            "error_y": {
             "color": "#2a3f5f"
            },
            "marker": {
             "line": {
              "color": "#E5ECF6",
              "width": 0.5
             },
             "pattern": {
              "fillmode": "overlay",
              "size": 10,
              "solidity": 0.2
             }
            },
            "type": "bar"
           }
          ],
          "barpolar": [
           {
            "marker": {
             "line": {
              "color": "#E5ECF6",
              "width": 0.5
             },
             "pattern": {
              "fillmode": "overlay",
              "size": 10,
              "solidity": 0.2
             }
            },
            "type": "barpolar"
           }
          ],
          "carpet": [
           {
            "aaxis": {
             "endlinecolor": "#2a3f5f",
             "gridcolor": "white",
             "linecolor": "white",
             "minorgridcolor": "white",
             "startlinecolor": "#2a3f5f"
            },
            "baxis": {
             "endlinecolor": "#2a3f5f",
             "gridcolor": "white",
             "linecolor": "white",
             "minorgridcolor": "white",
             "startlinecolor": "#2a3f5f"
            },
            "type": "carpet"
           }
          ],
          "choropleth": [
           {
            "colorbar": {
             "outlinewidth": 0,
             "ticks": ""
            },
            "type": "choropleth"
           }
          ],
          "contour": [
           {
            "colorbar": {
             "outlinewidth": 0,
             "ticks": ""
            },
            "colorscale": [
             [
              0,
              "#0d0887"
             ],
             [
              0.1111111111111111,
              "#46039f"
             ],
             [
              0.2222222222222222,
              "#7201a8"
             ],
             [
              0.3333333333333333,
              "#9c179e"
             ],
             [
              0.4444444444444444,
              "#bd3786"
             ],
             [
              0.5555555555555556,
              "#d8576b"
             ],
             [
              0.6666666666666666,
              "#ed7953"
             ],
             [
              0.7777777777777778,
              "#fb9f3a"
             ],
             [
              0.8888888888888888,
              "#fdca26"
             ],
             [
              1,
              "#f0f921"
             ]
            ],
            "type": "contour"
           }
          ],
          "contourcarpet": [
           {
            "colorbar": {
             "outlinewidth": 0,
             "ticks": ""
            },
            "type": "contourcarpet"
           }
          ],
          "heatmap": [
           {
            "colorbar": {
             "outlinewidth": 0,
             "ticks": ""
            },
            "colorscale": [
             [
              0,
              "#0d0887"
             ],
             [
              0.1111111111111111,
              "#46039f"
             ],
             [
              0.2222222222222222,
              "#7201a8"
             ],
             [
              0.3333333333333333,
              "#9c179e"
             ],
             [
              0.4444444444444444,
              "#bd3786"
             ],
             [
              0.5555555555555556,
              "#d8576b"
             ],
             [
              0.6666666666666666,
              "#ed7953"
             ],
             [
              0.7777777777777778,
              "#fb9f3a"
             ],
             [
              0.8888888888888888,
              "#fdca26"
             ],
             [
              1,
              "#f0f921"
             ]
            ],
            "type": "heatmap"
           }
          ],
          "histogram": [
           {
            "marker": {
             "pattern": {
              "fillmode": "overlay",
              "size": 10,
              "solidity": 0.2
             }
            },
            "type": "histogram"
           }
          ],
          "histogram2d": [
           {
            "colorbar": {
             "outlinewidth": 0,
             "ticks": ""
            },
            "colorscale": [
             [
              0,
              "#0d0887"
             ],
             [
              0.1111111111111111,
              "#46039f"
             ],
             [
              0.2222222222222222,
              "#7201a8"
             ],
             [
              0.3333333333333333,
              "#9c179e"
             ],
             [
              0.4444444444444444,
              "#bd3786"
             ],
             [
              0.5555555555555556,
              "#d8576b"
             ],
             [
              0.6666666666666666,
              "#ed7953"
             ],
             [
              0.7777777777777778,
              "#fb9f3a"
             ],
             [
              0.8888888888888888,
              "#fdca26"
             ],
             [
              1,
              "#f0f921"
             ]
            ],
            "type": "histogram2d"
           }
          ],
          "histogram2dcontour": [
           {
            "colorbar": {
             "outlinewidth": 0,
             "ticks": ""
            },
            "colorscale": [
             [
              0,
              "#0d0887"
             ],
             [
              0.1111111111111111,
              "#46039f"
             ],
             [
              0.2222222222222222,
              "#7201a8"
             ],
             [
              0.3333333333333333,
              "#9c179e"
             ],
             [
              0.4444444444444444,
              "#bd3786"
             ],
             [
              0.5555555555555556,
              "#d8576b"
             ],
             [
              0.6666666666666666,
              "#ed7953"
             ],
             [
              0.7777777777777778,
              "#fb9f3a"
             ],
             [
              0.8888888888888888,
              "#fdca26"
             ],
             [
              1,
              "#f0f921"
             ]
            ],
            "type": "histogram2dcontour"
           }
          ],
          "mesh3d": [
           {
            "colorbar": {
             "outlinewidth": 0,
             "ticks": ""
            },
            "type": "mesh3d"
           }
          ],
          "parcoords": [
           {
            "line": {
             "colorbar": {
              "outlinewidth": 0,
              "ticks": ""
             }
            },
            "type": "parcoords"
           }
          ],
          "pie": [
           {
            "automargin": true,
            "type": "pie"
           }
          ],
          "scatter": [
           {
            "fillpattern": {
             "fillmode": "overlay",
             "size": 10,
             "solidity": 0.2
            },
            "type": "scatter"
           }
          ],
          "scatter3d": [
           {
            "line": {
             "colorbar": {
              "outlinewidth": 0,
              "ticks": ""
             }
            },
            "marker": {
             "colorbar": {
              "outlinewidth": 0,
              "ticks": ""
             }
            },
            "type": "scatter3d"
           }
          ],
          "scattercarpet": [
           {
            "marker": {
             "colorbar": {
              "outlinewidth": 0,
              "ticks": ""
             }
            },
            "type": "scattercarpet"
           }
          ],
          "scattergeo": [
           {
            "marker": {
             "colorbar": {
              "outlinewidth": 0,
              "ticks": ""
             }
            },
            "type": "scattergeo"
           }
          ],
          "scattergl": [
           {
            "marker": {
             "colorbar": {
              "outlinewidth": 0,
              "ticks": ""
             }
            },
            "type": "scattergl"
           }
          ],
          "scattermap": [
           {
            "marker": {
             "colorbar": {
              "outlinewidth": 0,
              "ticks": ""
             }
            },
            "type": "scattermap"
           }
          ],
          "scattermapbox": [
           {
            "marker": {
             "colorbar": {
              "outlinewidth": 0,
              "ticks": ""
             }
            },
            "type": "scattermapbox"
           }
          ],
          "scatterpolar": [
           {
            "marker": {
             "colorbar": {
              "outlinewidth": 0,
              "ticks": ""
             }
            },
            "type": "scatterpolar"
           }
          ],
          "scatterpolargl": [
           {
            "marker": {
             "colorbar": {
              "outlinewidth": 0,
              "ticks": ""
             }
            },
            "type": "scatterpolargl"
           }
          ],
          "scatterternary": [
           {
            "marker": {
             "colorbar": {
              "outlinewidth": 0,
              "ticks": ""
             }
            },
            "type": "scatterternary"
           }
          ],
          "surface": [
           {
            "colorbar": {
             "outlinewidth": 0,
             "ticks": ""
            },
            "colorscale": [
             [
              0,
              "#0d0887"
             ],
             [
              0.1111111111111111,
              "#46039f"
             ],
             [
              0.2222222222222222,
              "#7201a8"
             ],
             [
              0.3333333333333333,
              "#9c179e"
             ],
             [
              0.4444444444444444,
              "#bd3786"
             ],
             [
              0.5555555555555556,
              "#d8576b"
             ],
             [
              0.6666666666666666,
              "#ed7953"
             ],
             [
              0.7777777777777778,
              "#fb9f3a"
             ],
             [
              0.8888888888888888,
              "#fdca26"
             ],
             [
              1,
              "#f0f921"
             ]
            ],
            "type": "surface"
           }
          ],
          "table": [
           {
            "cells": {
             "fill": {
              "color": "#EBF0F8"
             },
             "line": {
              "color": "white"
             }
            },
            "header": {
             "fill": {
              "color": "#C8D4E3"
             },
             "line": {
              "color": "white"
             }
            },
            "type": "table"
           }
          ]
         },
         "layout": {
          "annotationdefaults": {
           "arrowcolor": "#2a3f5f",
           "arrowhead": 0,
           "arrowwidth": 1
          },
          "autotypenumbers": "strict",
          "coloraxis": {
           "colorbar": {
            "outlinewidth": 0,
            "ticks": ""
           }
          },
          "colorscale": {
           "diverging": [
            [
             0,
             "#8e0152"
            ],
            [
             0.1,
             "#c51b7d"
            ],
            [
             0.2,
             "#de77ae"
            ],
            [
             0.3,
             "#f1b6da"
            ],
            [
             0.4,
             "#fde0ef"
            ],
            [
             0.5,
             "#f7f7f7"
            ],
            [
             0.6,
             "#e6f5d0"
            ],
            [
             0.7,
             "#b8e186"
            ],
            [
             0.8,
             "#7fbc41"
            ],
            [
             0.9,
             "#4d9221"
            ],
            [
             1,
             "#276419"
            ]
           ],
           "sequential": [
            [
             0,
             "#0d0887"
            ],
            [
             0.1111111111111111,
             "#46039f"
            ],
            [
             0.2222222222222222,
             "#7201a8"
            ],
            [
             0.3333333333333333,
             "#9c179e"
            ],
            [
             0.4444444444444444,
             "#bd3786"
            ],
            [
             0.5555555555555556,
             "#d8576b"
            ],
            [
             0.6666666666666666,
             "#ed7953"
            ],
            [
             0.7777777777777778,
             "#fb9f3a"
            ],
            [
             0.8888888888888888,
             "#fdca26"
            ],
            [
             1,
             "#f0f921"
            ]
           ],
           "sequentialminus": [
            [
             0,
             "#0d0887"
            ],
            [
             0.1111111111111111,
             "#46039f"
            ],
            [
             0.2222222222222222,
             "#7201a8"
            ],
            [
             0.3333333333333333,
             "#9c179e"
            ],
            [
             0.4444444444444444,
             "#bd3786"
            ],
            [
             0.5555555555555556,
             "#d8576b"
            ],
            [
             0.6666666666666666,
             "#ed7953"
            ],
            [
             0.7777777777777778,
             "#fb9f3a"
            ],
            [
             0.8888888888888888,
             "#fdca26"
            ],
            [
             1,
             "#f0f921"
            ]
           ]
          },
          "colorway": [
           "#636efa",
           "#EF553B",
           "#00cc96",
           "#ab63fa",
           "#FFA15A",
           "#19d3f3",
           "#FF6692",
           "#B6E880",
           "#FF97FF",
           "#FECB52"
          ],
          "font": {
           "color": "#2a3f5f"
          },
          "geo": {
           "bgcolor": "white",
           "lakecolor": "white",
           "landcolor": "#E5ECF6",
           "showlakes": true,
           "showland": true,
           "subunitcolor": "white"
          },
          "hoverlabel": {
           "align": "left"
          },
          "hovermode": "closest",
          "mapbox": {
           "style": "light"
          },
          "paper_bgcolor": "white",
          "plot_bgcolor": "#E5ECF6",
          "polar": {
           "angularaxis": {
            "gridcolor": "white",
            "linecolor": "white",
            "ticks": ""
           },
           "bgcolor": "#E5ECF6",
           "radialaxis": {
            "gridcolor": "white",
            "linecolor": "white",
            "ticks": ""
           }
          },
          "scene": {
           "xaxis": {
            "backgroundcolor": "#E5ECF6",
            "gridcolor": "white",
            "gridwidth": 2,
            "linecolor": "white",
            "showbackground": true,
            "ticks": "",
            "zerolinecolor": "white"
           },
           "yaxis": {
            "backgroundcolor": "#E5ECF6",
            "gridcolor": "white",
            "gridwidth": 2,
            "linecolor": "white",
            "showbackground": true,
            "ticks": "",
            "zerolinecolor": "white"
           },
           "zaxis": {
            "backgroundcolor": "#E5ECF6",
            "gridcolor": "white",
            "gridwidth": 2,
            "linecolor": "white",
            "showbackground": true,
            "ticks": "",
            "zerolinecolor": "white"
           }
          },
          "shapedefaults": {
           "line": {
            "color": "#2a3f5f"
           }
          },
          "ternary": {
           "aaxis": {
            "gridcolor": "white",
            "linecolor": "white",
            "ticks": ""
           },
           "baxis": {
            "gridcolor": "white",
            "linecolor": "white",
            "ticks": ""
           },
           "bgcolor": "#E5ECF6",
           "caxis": {
            "gridcolor": "white",
            "linecolor": "white",
            "ticks": ""
           }
          },
          "title": {
           "x": 0.05
          },
          "xaxis": {
           "automargin": true,
           "gridcolor": "white",
           "linecolor": "white",
           "ticks": "",
           "title": {
            "standoff": 15
           },
           "zerolinecolor": "white",
           "zerolinewidth": 2
          },
          "yaxis": {
           "automargin": true,
           "gridcolor": "white",
           "linecolor": "white",
           "ticks": "",
           "title": {
            "standoff": 15
           },
           "zerolinecolor": "white",
           "zerolinewidth": 2
          }
         }
        },
        "title": {
         "text": "Path patching results "
        },
        "width": 800,
        "xaxis": {
         "anchor": "y",
         "constrain": "domain",
         "domain": [
          0,
          1
         ],
         "scaleanchor": "y",
         "title": {
          "text": "Layer"
         }
        },
        "yaxis": {
         "anchor": "x",
         "autorange": "reversed",
         "constrain": "domain",
         "domain": [
          0,
          1
         ],
         "title": {
          "text": "Head"
         }
        }
       }
      }
     },
     "metadata": {},
     "output_type": "display_data"
    }
   ],
   "source": [
    "filename = \"./results/gemma_2_9b/resid_post_41.pt\"\n",
    "results_resid_post_41 = t.load(filename)\n",
    "visualize_heatmap(results_resid_post_41)"
   ]
  },
  {
   "cell_type": "code",
   "execution_count": 7,
   "metadata": {},
   "outputs": [
    {
     "data": {
      "application/vnd.plotly.v1+json": {
       "config": {
        "plotlyServerURL": "https://plot.ly",
        "staticPlot": false
       },
       "data": [
        {
         "coloraxis": "coloraxis",
         "hovertemplate": "Layer: %{x}<br>Head: %{y}<br>Logit diff. variation: %{z}<extra></extra>",
         "name": "0",
         "type": "heatmap",
         "xaxis": "x",
         "yaxis": "y",
         "z": {
          "bdata": "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",
          "dtype": "f4",
          "shape": "16, 42"
         }
        }
       ],
       "layout": {
        "coloraxis": {
         "cmid": 0,
         "colorbar": {
          "ticksuffix": "%",
          "title": {
           "text": "Logit diff. variation"
          }
         },
         "colorscale": [
          [
           0,
           "rgb(103,0,31)"
          ],
          [
           0.1,
           "rgb(178,24,43)"
          ],
          [
           0.2,
           "rgb(214,96,77)"
          ],
          [
           0.3,
           "rgb(244,165,130)"
          ],
          [
           0.4,
           "rgb(253,219,199)"
          ],
          [
           0.5,
           "rgb(247,247,247)"
          ],
          [
           0.6,
           "rgb(209,229,240)"
          ],
          [
           0.7,
           "rgb(146,197,222)"
          ],
          [
           0.8,
           "rgb(67,147,195)"
          ],
          [
           0.9,
           "rgb(33,102,172)"
          ],
          [
           1,
           "rgb(5,48,97)"
          ]
         ]
        },
        "height": 400,
        "template": {
         "data": {
          "bar": [
           {
            "error_x": {
             "color": "#2a3f5f"
            },
            "error_y": {
             "color": "#2a3f5f"
            },
            "marker": {
             "line": {
              "color": "#E5ECF6",
              "width": 0.5
             },
             "pattern": {
              "fillmode": "overlay",
              "size": 10,
              "solidity": 0.2
             }
            },
            "type": "bar"
           }
          ],
          "barpolar": [
           {
            "marker": {
             "line": {
              "color": "#E5ECF6",
              "width": 0.5
             },
             "pattern": {
              "fillmode": "overlay",
              "size": 10,
              "solidity": 0.2
             }
            },
            "type": "barpolar"
           }
          ],
          "carpet": [
           {
            "aaxis": {
             "endlinecolor": "#2a3f5f",
             "gridcolor": "white",
             "linecolor": "white",
             "minorgridcolor": "white",
             "startlinecolor": "#2a3f5f"
            },
            "baxis": {
             "endlinecolor": "#2a3f5f",
             "gridcolor": "white",
             "linecolor": "white",
             "minorgridcolor": "white",
             "startlinecolor": "#2a3f5f"
            },
            "type": "carpet"
           }
          ],
          "choropleth": [
           {
            "colorbar": {
             "outlinewidth": 0,
             "ticks": ""
            },
            "type": "choropleth"
           }
          ],
          "contour": [
           {
            "colorbar": {
             "outlinewidth": 0,
             "ticks": ""
            },
            "colorscale": [
             [
              0,
              "#0d0887"
             ],
             [
              0.1111111111111111,
              "#46039f"
             ],
             [
              0.2222222222222222,
              "#7201a8"
             ],
             [
              0.3333333333333333,
              "#9c179e"
             ],
             [
              0.4444444444444444,
              "#bd3786"
             ],
             [
              0.5555555555555556,
              "#d8576b"
             ],
             [
              0.6666666666666666,
              "#ed7953"
             ],
             [
              0.7777777777777778,
              "#fb9f3a"
             ],
             [
              0.8888888888888888,
              "#fdca26"
             ],
             [
              1,
              "#f0f921"
             ]
            ],
            "type": "contour"
           }
          ],
          "contourcarpet": [
           {
            "colorbar": {
             "outlinewidth": 0,
             "ticks": ""
            },
            "type": "contourcarpet"
           }
          ],
          "heatmap": [
           {
            "colorbar": {
             "outlinewidth": 0,
             "ticks": ""
            },
            "colorscale": [
             [
              0,
              "#0d0887"
             ],
             [
              0.1111111111111111,
              "#46039f"
             ],
             [
              0.2222222222222222,
              "#7201a8"
             ],
             [
              0.3333333333333333,
              "#9c179e"
             ],
             [
              0.4444444444444444,
              "#bd3786"
             ],
             [
              0.5555555555555556,
              "#d8576b"
             ],
             [
              0.6666666666666666,
              "#ed7953"
             ],
             [
              0.7777777777777778,
              "#fb9f3a"
             ],
             [
              0.8888888888888888,
              "#fdca26"
             ],
             [
              1,
              "#f0f921"
             ]
            ],
            "type": "heatmap"
           }
          ],
          "histogram": [
           {
            "marker": {
             "pattern": {
              "fillmode": "overlay",
              "size": 10,
              "solidity": 0.2
             }
            },
            "type": "histogram"
           }
          ],
          "histogram2d": [
           {
            "colorbar": {
             "outlinewidth": 0,
             "ticks": ""
            },
            "colorscale": [
             [
              0,
              "#0d0887"
             ],
             [
              0.1111111111111111,
              "#46039f"
             ],
             [
              0.2222222222222222,
              "#7201a8"
             ],
             [
              0.3333333333333333,
              "#9c179e"
             ],
             [
              0.4444444444444444,
              "#bd3786"
             ],
             [
              0.5555555555555556,
              "#d8576b"
             ],
             [
              0.6666666666666666,
              "#ed7953"
             ],
             [
              0.7777777777777778,
              "#fb9f3a"
             ],
             [
              0.8888888888888888,
              "#fdca26"
             ],
             [
              1,
              "#f0f921"
             ]
            ],
            "type": "histogram2d"
           }
          ],
          "histogram2dcontour": [
           {
            "colorbar": {
             "outlinewidth": 0,
             "ticks": ""
            },
            "colorscale": [
             [
              0,
              "#0d0887"
             ],
             [
              0.1111111111111111,
              "#46039f"
             ],
             [
              0.2222222222222222,
              "#7201a8"
             ],
             [
              0.3333333333333333,
              "#9c179e"
             ],
             [
              0.4444444444444444,
              "#bd3786"
             ],
             [
              0.5555555555555556,
              "#d8576b"
             ],
             [
              0.6666666666666666,
              "#ed7953"
             ],
             [
              0.7777777777777778,
              "#fb9f3a"
             ],
             [
              0.8888888888888888,
              "#fdca26"
             ],
             [
              1,
              "#f0f921"
             ]
            ],
            "type": "histogram2dcontour"
           }
          ],
          "mesh3d": [
           {
            "colorbar": {
             "outlinewidth": 0,
             "ticks": ""
            },
            "type": "mesh3d"
           }
          ],
          "parcoords": [
           {
            "line": {
             "colorbar": {
              "outlinewidth": 0,
              "ticks": ""
             }
            },
            "type": "parcoords"
           }
          ],
          "pie": [
           {
            "automargin": true,
            "type": "pie"
           }
          ],
          "scatter": [
           {
            "fillpattern": {
             "fillmode": "overlay",
             "size": 10,
             "solidity": 0.2
            },
            "type": "scatter"
           }
          ],
          "scatter3d": [
           {
            "line": {
             "colorbar": {
              "outlinewidth": 0,
              "ticks": ""
             }
            },
            "marker": {
             "colorbar": {
              "outlinewidth": 0,
              "ticks": ""
             }
            },
            "type": "scatter3d"
           }
          ],
          "scattercarpet": [
           {
            "marker": {
             "colorbar": {
              "outlinewidth": 0,
              "ticks": ""
             }
            },
            "type": "scattercarpet"
           }
          ],
          "scattergeo": [
           {
            "marker": {
             "colorbar": {
              "outlinewidth": 0,
              "ticks": ""
             }
            },
            "type": "scattergeo"
           }
          ],
          "scattergl": [
           {
            "marker": {
             "colorbar": {
              "outlinewidth": 0,
              "ticks": ""
             }
            },
            "type": "scattergl"
           }
          ],
          "scattermap": [
           {
            "marker": {
             "colorbar": {
              "outlinewidth": 0,
              "ticks": ""
             }
            },
            "type": "scattermap"
           }
          ],
          "scattermapbox": [
           {
            "marker": {
             "colorbar": {
              "outlinewidth": 0,
              "ticks": ""
             }
            },
            "type": "scattermapbox"
           }
          ],
          "scatterpolar": [
           {
            "marker": {
             "colorbar": {
              "outlinewidth": 0,
              "ticks": ""
             }
            },
            "type": "scatterpolar"
           }
          ],
          "scatterpolargl": [
           {
            "marker": {
             "colorbar": {
              "outlinewidth": 0,
              "ticks": ""
             }
            },
            "type": "scatterpolargl"
           }
          ],
          "scatterternary": [
           {
            "marker": {
             "colorbar": {
              "outlinewidth": 0,
              "ticks": ""
             }
            },
            "type": "scatterternary"
           }
          ],
          "surface": [
           {
            "colorbar": {
             "outlinewidth": 0,
             "ticks": ""
            },
            "colorscale": [
             [
              0,
              "#0d0887"
             ],
             [
              0.1111111111111111,
              "#46039f"
             ],
             [
              0.2222222222222222,
              "#7201a8"
             ],
             [
              0.3333333333333333,
              "#9c179e"
             ],
             [
              0.4444444444444444,
              "#bd3786"
             ],
             [
              0.5555555555555556,
              "#d8576b"
             ],
             [
              0.6666666666666666,
              "#ed7953"
             ],
             [
              0.7777777777777778,
              "#fb9f3a"
             ],
             [
              0.8888888888888888,
              "#fdca26"
             ],
             [
              1,
              "#f0f921"
             ]
            ],
            "type": "surface"
           }
          ],
          "table": [
           {
            "cells": {
             "fill": {
              "color": "#EBF0F8"
             },
             "line": {
              "color": "white"
             }
            },
            "header": {
             "fill": {
              "color": "#C8D4E3"
             },
             "line": {
              "color": "white"
             }
            },
            "type": "table"
           }
          ]
         },
         "layout": {
          "annotationdefaults": {
           "arrowcolor": "#2a3f5f",
           "arrowhead": 0,
           "arrowwidth": 1
          },
          "autotypenumbers": "strict",
          "coloraxis": {
           "colorbar": {
            "outlinewidth": 0,
            "ticks": ""
           }
          },
          "colorscale": {
           "diverging": [
            [
             0,
             "#8e0152"
            ],
            [
             0.1,
             "#c51b7d"
            ],
            [
             0.2,
             "#de77ae"
            ],
            [
             0.3,
             "#f1b6da"
            ],
            [
             0.4,
             "#fde0ef"
            ],
            [
             0.5,
             "#f7f7f7"
            ],
            [
             0.6,
             "#e6f5d0"
            ],
            [
             0.7,
             "#b8e186"
            ],
            [
             0.8,
             "#7fbc41"
            ],
            [
             0.9,
             "#4d9221"
            ],
            [
             1,
             "#276419"
            ]
           ],
           "sequential": [
            [
             0,
             "#0d0887"
            ],
            [
             0.1111111111111111,
             "#46039f"
            ],
            [
             0.2222222222222222,
             "#7201a8"
            ],
            [
             0.3333333333333333,
             "#9c179e"
            ],
            [
             0.4444444444444444,
             "#bd3786"
            ],
            [
             0.5555555555555556,
             "#d8576b"
            ],
            [
             0.6666666666666666,
             "#ed7953"
            ],
            [
             0.7777777777777778,
             "#fb9f3a"
            ],
            [
             0.8888888888888888,
             "#fdca26"
            ],
            [
             1,
             "#f0f921"
            ]
           ],
           "sequentialminus": [
            [
             0,
             "#0d0887"
            ],
            [
             0.1111111111111111,
             "#46039f"
            ],
            [
             0.2222222222222222,
             "#7201a8"
            ],
            [
             0.3333333333333333,
             "#9c179e"
            ],
            [
             0.4444444444444444,
             "#bd3786"
            ],
            [
             0.5555555555555556,
             "#d8576b"
            ],
            [
             0.6666666666666666,
             "#ed7953"
            ],
            [
             0.7777777777777778,
             "#fb9f3a"
            ],
            [
             0.8888888888888888,
             "#fdca26"
            ],
            [
             1,
             "#f0f921"
            ]
           ]
          },
          "colorway": [
           "#636efa",
           "#EF553B",
           "#00cc96",
           "#ab63fa",
           "#FFA15A",
           "#19d3f3",
           "#FF6692",
           "#B6E880",
           "#FF97FF",
           "#FECB52"
          ],
          "font": {
           "color": "#2a3f5f"
          },
          "geo": {
           "bgcolor": "white",
           "lakecolor": "white",
           "landcolor": "#E5ECF6",
           "showlakes": true,
           "showland": true,
           "subunitcolor": "white"
          },
          "hoverlabel": {
           "align": "left"
          },
          "hovermode": "closest",
          "mapbox": {
           "style": "light"
          },
          "paper_bgcolor": "white",
          "plot_bgcolor": "#E5ECF6",
          "polar": {
           "angularaxis": {
            "gridcolor": "white",
            "linecolor": "white",
            "ticks": ""
           },
           "bgcolor": "#E5ECF6",
           "radialaxis": {
            "gridcolor": "white",
            "linecolor": "white",
            "ticks": ""
           }
          },
          "scene": {
           "xaxis": {
            "backgroundcolor": "#E5ECF6",
            "gridcolor": "white",
            "gridwidth": 2,
            "linecolor": "white",
            "showbackground": true,
            "ticks": "",
            "zerolinecolor": "white"
           },
           "yaxis": {
            "backgroundcolor": "#E5ECF6",
            "gridcolor": "white",
            "gridwidth": 2,
            "linecolor": "white",
            "showbackground": true,
            "ticks": "",
            "zerolinecolor": "white"
           },
           "zaxis": {
            "backgroundcolor": "#E5ECF6",
            "gridcolor": "white",
            "gridwidth": 2,
            "linecolor": "white",
            "showbackground": true,
            "ticks": "",
            "zerolinecolor": "white"
           }
          },
          "shapedefaults": {
           "line": {
            "color": "#2a3f5f"
           }
          },
          "ternary": {
           "aaxis": {
            "gridcolor": "white",
            "linecolor": "white",
            "ticks": ""
           },
           "baxis": {
            "gridcolor": "white",
            "linecolor": "white",
            "ticks": ""
           },
           "bgcolor": "#E5ECF6",
           "caxis": {
            "gridcolor": "white",
            "linecolor": "white",
            "ticks": ""
           }
          },
          "title": {
           "x": 0.05
          },
          "xaxis": {
           "automargin": true,
           "gridcolor": "white",
           "linecolor": "white",
           "ticks": "",
           "title": {
            "standoff": 15
           },
           "zerolinecolor": "white",
           "zerolinewidth": 2
          },
          "yaxis": {
           "automargin": true,
           "gridcolor": "white",
           "linecolor": "white",
           "ticks": "",
           "title": {
            "standoff": 15
           },
           "zerolinecolor": "white",
           "zerolinewidth": 2
          }
         }
        },
        "title": {
         "text": "Path patching results H40.11 Value"
        },
        "width": 800,
        "xaxis": {
         "anchor": "y",
         "constrain": "domain",
         "domain": [
          0,
          1
         ],
         "scaleanchor": "y",
         "title": {
          "text": "Layer"
         }
        },
        "yaxis": {
         "anchor": "x",
         "autorange": "reversed",
         "constrain": "domain",
         "domain": [
          0,
          1
         ],
         "title": {
          "text": "Head"
         }
        }
       }
      }
     },
     "metadata": {},
     "output_type": "display_data"
    },
    {
     "data": {
      "application/vnd.plotly.v1+json": {
       "config": {
        "plotlyServerURL": "https://plot.ly",
        "staticPlot": false
       },
       "data": [
        {
         "coloraxis": "coloraxis",
         "hovertemplate": "Layer: %{x}<br>Head: %{y}<br>Logit diff. variation: %{z}<extra></extra>",
         "name": "0",
         "type": "heatmap",
         "xaxis": "x",
         "yaxis": "y",
         "z": {
          "bdata": "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",
          "dtype": "f4",
          "shape": "16, 42"
         }
        }
       ],
       "layout": {
        "coloraxis": {
         "cmid": 0,
         "colorbar": {
          "ticksuffix": "%",
          "title": {
           "text": "Logit diff. variation"
          }
         },
         "colorscale": [
          [
           0,
           "rgb(103,0,31)"
          ],
          [
           0.1,
           "rgb(178,24,43)"
          ],
          [
           0.2,
           "rgb(214,96,77)"
          ],
          [
           0.3,
           "rgb(244,165,130)"
          ],
          [
           0.4,
           "rgb(253,219,199)"
          ],
          [
           0.5,
           "rgb(247,247,247)"
          ],
          [
           0.6,
           "rgb(209,229,240)"
          ],
          [
           0.7,
           "rgb(146,197,222)"
          ],
          [
           0.8,
           "rgb(67,147,195)"
          ],
          [
           0.9,
           "rgb(33,102,172)"
          ],
          [
           1,
           "rgb(5,48,97)"
          ]
         ]
        },
        "height": 400,
        "template": {
         "data": {
          "bar": [
           {
            "error_x": {
             "color": "#2a3f5f"
            },
            "error_y": {
             "color": "#2a3f5f"
            },
            "marker": {
             "line": {
              "color": "#E5ECF6",
              "width": 0.5
             },
             "pattern": {
              "fillmode": "overlay",
              "size": 10,
              "solidity": 0.2
             }
            },
            "type": "bar"
           }
          ],
          "barpolar": [
           {
            "marker": {
             "line": {
              "color": "#E5ECF6",
              "width": 0.5
             },
             "pattern": {
              "fillmode": "overlay",
              "size": 10,
              "solidity": 0.2
             }
            },
            "type": "barpolar"
           }
          ],
          "carpet": [
           {
            "aaxis": {
             "endlinecolor": "#2a3f5f",
             "gridcolor": "white",
             "linecolor": "white",
             "minorgridcolor": "white",
             "startlinecolor": "#2a3f5f"
            },
            "baxis": {
             "endlinecolor": "#2a3f5f",
             "gridcolor": "white",
             "linecolor": "white",
             "minorgridcolor": "white",
             "startlinecolor": "#2a3f5f"
            },
            "type": "carpet"
           }
          ],
          "choropleth": [
           {
            "colorbar": {
             "outlinewidth": 0,
             "ticks": ""
            },
            "type": "choropleth"
           }
          ],
          "contour": [
           {
            "colorbar": {
             "outlinewidth": 0,
             "ticks": ""
            },
            "colorscale": [
             [
              0,
              "#0d0887"
             ],
             [
              0.1111111111111111,
              "#46039f"
             ],
             [
              0.2222222222222222,
              "#7201a8"
             ],
             [
              0.3333333333333333,
              "#9c179e"
             ],
             [
              0.4444444444444444,
              "#bd3786"
             ],
             [
              0.5555555555555556,
              "#d8576b"
             ],
             [
              0.6666666666666666,
              "#ed7953"
             ],
             [
              0.7777777777777778,
              "#fb9f3a"
             ],
             [
              0.8888888888888888,
              "#fdca26"
             ],
             [
              1,
              "#f0f921"
             ]
            ],
            "type": "contour"
           }
          ],
          "contourcarpet": [
           {
            "colorbar": {
             "outlinewidth": 0,
             "ticks": ""
            },
            "type": "contourcarpet"
           }
          ],
          "heatmap": [
           {
            "colorbar": {
             "outlinewidth": 0,
             "ticks": ""
            },
            "colorscale": [
             [
              0,
              "#0d0887"
             ],
             [
              0.1111111111111111,
              "#46039f"
             ],
             [
              0.2222222222222222,
              "#7201a8"
             ],
             [
              0.3333333333333333,
              "#9c179e"
             ],
             [
              0.4444444444444444,
              "#bd3786"
             ],
             [
              0.5555555555555556,
              "#d8576b"
             ],
             [
              0.6666666666666666,
              "#ed7953"
             ],
             [
              0.7777777777777778,
              "#fb9f3a"
             ],
             [
              0.8888888888888888,
              "#fdca26"
             ],
             [
              1,
              "#f0f921"
             ]
            ],
            "type": "heatmap"
           }
          ],
          "histogram": [
           {
            "marker": {
             "pattern": {
              "fillmode": "overlay",
              "size": 10,
              "solidity": 0.2
             }
            },
            "type": "histogram"
           }
          ],
          "histogram2d": [
           {
            "colorbar": {
             "outlinewidth": 0,
             "ticks": ""
            },
            "colorscale": [
             [
              0,
              "#0d0887"
             ],
             [
              0.1111111111111111,
              "#46039f"
             ],
             [
              0.2222222222222222,
              "#7201a8"
             ],
             [
              0.3333333333333333,
              "#9c179e"
             ],
             [
              0.4444444444444444,
              "#bd3786"
             ],
             [
              0.5555555555555556,
              "#d8576b"
             ],
             [
              0.6666666666666666,
              "#ed7953"
             ],
             [
              0.7777777777777778,
              "#fb9f3a"
             ],
             [
              0.8888888888888888,
              "#fdca26"
             ],
             [
              1,
              "#f0f921"
             ]
            ],
            "type": "histogram2d"
           }
          ],
          "histogram2dcontour": [
           {
            "colorbar": {
             "outlinewidth": 0,
             "ticks": ""
            },
            "colorscale": [
             [
              0,
              "#0d0887"
             ],
             [
              0.1111111111111111,
              "#46039f"
             ],
             [
              0.2222222222222222,
              "#7201a8"
             ],
             [
              0.3333333333333333,
              "#9c179e"
             ],
             [
              0.4444444444444444,
              "#bd3786"
             ],
             [
              0.5555555555555556,
              "#d8576b"
             ],
             [
              0.6666666666666666,
              "#ed7953"
             ],
             [
              0.7777777777777778,
              "#fb9f3a"
             ],
             [
              0.8888888888888888,
              "#fdca26"
             ],
             [
              1,
              "#f0f921"
             ]
            ],
            "type": "histogram2dcontour"
           }
          ],
          "mesh3d": [
           {
            "colorbar": {
             "outlinewidth": 0,
             "ticks": ""
            },
            "type": "mesh3d"
           }
          ],
          "parcoords": [
           {
            "line": {
             "colorbar": {
              "outlinewidth": 0,
              "ticks": ""
             }
            },
            "type": "parcoords"
           }
          ],
          "pie": [
           {
            "automargin": true,
            "type": "pie"
           }
          ],
          "scatter": [
           {
            "fillpattern": {
             "fillmode": "overlay",
             "size": 10,
             "solidity": 0.2
            },
            "type": "scatter"
           }
          ],
          "scatter3d": [
           {
            "line": {
             "colorbar": {
              "outlinewidth": 0,
              "ticks": ""
             }
            },
            "marker": {
             "colorbar": {
              "outlinewidth": 0,
              "ticks": ""
             }
            },
            "type": "scatter3d"
           }
          ],
          "scattercarpet": [
           {
            "marker": {
             "colorbar": {
              "outlinewidth": 0,
              "ticks": ""
             }
            },
            "type": "scattercarpet"
           }
          ],
          "scattergeo": [
           {
            "marker": {
             "colorbar": {
              "outlinewidth": 0,
              "ticks": ""
             }
            },
            "type": "scattergeo"
           }
          ],
          "scattergl": [
           {
            "marker": {
             "colorbar": {
              "outlinewidth": 0,
              "ticks": ""
             }
            },
            "type": "scattergl"
           }
          ],
          "scattermap": [
           {
            "marker": {
             "colorbar": {
              "outlinewidth": 0,
              "ticks": ""
             }
            },
            "type": "scattermap"
           }
          ],
          "scattermapbox": [
           {
            "marker": {
             "colorbar": {
              "outlinewidth": 0,
              "ticks": ""
             }
            },
            "type": "scattermapbox"
           }
          ],
          "scatterpolar": [
           {
            "marker": {
             "colorbar": {
              "outlinewidth": 0,
              "ticks": ""
             }
            },
            "type": "scatterpolar"
           }
          ],
          "scatterpolargl": [
           {
            "marker": {
             "colorbar": {
              "outlinewidth": 0,
              "ticks": ""
             }
            },
            "type": "scatterpolargl"
           }
          ],
          "scatterternary": [
           {
            "marker": {
             "colorbar": {
              "outlinewidth": 0,
              "ticks": ""
             }
            },
            "type": "scatterternary"
           }
          ],
          "surface": [
           {
            "colorbar": {
             "outlinewidth": 0,
             "ticks": ""
            },
            "colorscale": [
             [
              0,
              "#0d0887"
             ],
             [
              0.1111111111111111,
              "#46039f"
             ],
             [
              0.2222222222222222,
              "#7201a8"
             ],
             [
              0.3333333333333333,
              "#9c179e"
             ],
             [
              0.4444444444444444,
              "#bd3786"
             ],
             [
              0.5555555555555556,
              "#d8576b"
             ],
             [
              0.6666666666666666,
              "#ed7953"
             ],
             [
              0.7777777777777778,
              "#fb9f3a"
             ],
             [
              0.8888888888888888,
              "#fdca26"
             ],
             [
              1,
              "#f0f921"
             ]
            ],
            "type": "surface"
           }
          ],
          "table": [
           {
            "cells": {
             "fill": {
              "color": "#EBF0F8"
             },
             "line": {
              "color": "white"
             }
            },
            "header": {
             "fill": {
              "color": "#C8D4E3"
             },
             "line": {
              "color": "white"
             }
            },
            "type": "table"
           }
          ]
         },
         "layout": {
          "annotationdefaults": {
           "arrowcolor": "#2a3f5f",
           "arrowhead": 0,
           "arrowwidth": 1
          },
          "autotypenumbers": "strict",
          "coloraxis": {
           "colorbar": {
            "outlinewidth": 0,
            "ticks": ""
           }
          },
          "colorscale": {
           "diverging": [
            [
             0,
             "#8e0152"
            ],
            [
             0.1,
             "#c51b7d"
            ],
            [
             0.2,
             "#de77ae"
            ],
            [
             0.3,
             "#f1b6da"
            ],
            [
             0.4,
             "#fde0ef"
            ],
            [
             0.5,
             "#f7f7f7"
            ],
            [
             0.6,
             "#e6f5d0"
            ],
            [
             0.7,
             "#b8e186"
            ],
            [
             0.8,
             "#7fbc41"
            ],
            [
             0.9,
             "#4d9221"
            ],
            [
             1,
             "#276419"
            ]
           ],
           "sequential": [
            [
             0,
             "#0d0887"
            ],
            [
             0.1111111111111111,
             "#46039f"
            ],
            [
             0.2222222222222222,
             "#7201a8"
            ],
            [
             0.3333333333333333,
             "#9c179e"
            ],
            [
             0.4444444444444444,
             "#bd3786"
            ],
            [
             0.5555555555555556,
             "#d8576b"
            ],
            [
             0.6666666666666666,
             "#ed7953"
            ],
            [
             0.7777777777777778,
             "#fb9f3a"
            ],
            [
             0.8888888888888888,
             "#fdca26"
            ],
            [
             1,
             "#f0f921"
            ]
           ],
           "sequentialminus": [
            [
             0,
             "#0d0887"
            ],
            [
             0.1111111111111111,
             "#46039f"
            ],
            [
             0.2222222222222222,
             "#7201a8"
            ],
            [
             0.3333333333333333,
             "#9c179e"
            ],
            [
             0.4444444444444444,
             "#bd3786"
            ],
            [
             0.5555555555555556,
             "#d8576b"
            ],
            [
             0.6666666666666666,
             "#ed7953"
            ],
            [
             0.7777777777777778,
             "#fb9f3a"
            ],
            [
             0.8888888888888888,
             "#fdca26"
            ],
            [
             1,
             "#f0f921"
            ]
           ]
          },
          "colorway": [
           "#636efa",
           "#EF553B",
           "#00cc96",
           "#ab63fa",
           "#FFA15A",
           "#19d3f3",
           "#FF6692",
           "#B6E880",
           "#FF97FF",
           "#FECB52"
          ],
          "font": {
           "color": "#2a3f5f"
          },
          "geo": {
           "bgcolor": "white",
           "lakecolor": "white",
           "landcolor": "#E5ECF6",
           "showlakes": true,
           "showland": true,
           "subunitcolor": "white"
          },
          "hoverlabel": {
           "align": "left"
          },
          "hovermode": "closest",
          "mapbox": {
           "style": "light"
          },
          "paper_bgcolor": "white",
          "plot_bgcolor": "#E5ECF6",
          "polar": {
           "angularaxis": {
            "gridcolor": "white",
            "linecolor": "white",
            "ticks": ""
           },
           "bgcolor": "#E5ECF6",
           "radialaxis": {
            "gridcolor": "white",
            "linecolor": "white",
            "ticks": ""
           }
          },
          "scene": {
           "xaxis": {
            "backgroundcolor": "#E5ECF6",
            "gridcolor": "white",
            "gridwidth": 2,
            "linecolor": "white",
            "showbackground": true,
            "ticks": "",
            "zerolinecolor": "white"
           },
           "yaxis": {
            "backgroundcolor": "#E5ECF6",
            "gridcolor": "white",
            "gridwidth": 2,
            "linecolor": "white",
            "showbackground": true,
            "ticks": "",
            "zerolinecolor": "white"
           },
           "zaxis": {
            "backgroundcolor": "#E5ECF6",
            "gridcolor": "white",
            "gridwidth": 2,
            "linecolor": "white",
            "showbackground": true,
            "ticks": "",
            "zerolinecolor": "white"
           }
          },
          "shapedefaults": {
           "line": {
            "color": "#2a3f5f"
           }
          },
          "ternary": {
           "aaxis": {
            "gridcolor": "white",
            "linecolor": "white",
            "ticks": ""
           },
           "baxis": {
            "gridcolor": "white",
            "linecolor": "white",
            "ticks": ""
           },
           "bgcolor": "#E5ECF6",
           "caxis": {
            "gridcolor": "white",
            "linecolor": "white",
            "ticks": ""
           }
          },
          "title": {
           "x": 0.05
          },
          "xaxis": {
           "automargin": true,
           "gridcolor": "white",
           "linecolor": "white",
           "ticks": "",
           "title": {
            "standoff": 15
           },
           "zerolinecolor": "white",
           "zerolinewidth": 2
          },
          "yaxis": {
           "automargin": true,
           "gridcolor": "white",
           "linecolor": "white",
           "ticks": "",
           "title": {
            "standoff": 15
           },
           "zerolinecolor": "white",
           "zerolinewidth": 2
          }
         }
        },
        "title": {
         "text": "Path patching results H40.12 Value"
        },
        "width": 800,
        "xaxis": {
         "anchor": "y",
         "constrain": "domain",
         "domain": [
          0,
          1
         ],
         "scaleanchor": "y",
         "title": {
          "text": "Layer"
         }
        },
        "yaxis": {
         "anchor": "x",
         "autorange": "reversed",
         "constrain": "domain",
         "domain": [
          0,
          1
         ],
         "title": {
          "text": "Head"
         }
        }
       }
      }
     },
     "metadata": {},
     "output_type": "display_data"
    },
    {
     "data": {
      "application/vnd.plotly.v1+json": {
       "config": {
        "plotlyServerURL": "https://plot.ly",
        "staticPlot": false
       },
       "data": [
        {
         "coloraxis": "coloraxis",
         "hovertemplate": "Layer: %{x}<br>Head: %{y}<br>Logit diff. variation: %{z}<extra></extra>",
         "name": "0",
         "type": "heatmap",
         "xaxis": "x",
         "yaxis": "y",
         "z": {
          "bdata": "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",
          "dtype": "f4",
          "shape": "16, 42"
         }
        }
       ],
       "layout": {
        "coloraxis": {
         "cmid": 0,
         "colorbar": {
          "ticksuffix": "%",
          "title": {
           "text": "Logit diff. variation"
          }
         },
         "colorscale": [
          [
           0,
           "rgb(103,0,31)"
          ],
          [
           0.1,
           "rgb(178,24,43)"
          ],
          [
           0.2,
           "rgb(214,96,77)"
          ],
          [
           0.3,
           "rgb(244,165,130)"
          ],
          [
           0.4,
           "rgb(253,219,199)"
          ],
          [
           0.5,
           "rgb(247,247,247)"
          ],
          [
           0.6,
           "rgb(209,229,240)"
          ],
          [
           0.7,
           "rgb(146,197,222)"
          ],
          [
           0.8,
           "rgb(67,147,195)"
          ],
          [
           0.9,
           "rgb(33,102,172)"
          ],
          [
           1,
           "rgb(5,48,97)"
          ]
         ]
        },
        "height": 400,
        "template": {
         "data": {
          "bar": [
           {
            "error_x": {
             "color": "#2a3f5f"
            },
            "error_y": {
             "color": "#2a3f5f"
            },
            "marker": {
             "line": {
              "color": "#E5ECF6",
              "width": 0.5
             },
             "pattern": {
              "fillmode": "overlay",
              "size": 10,
              "solidity": 0.2
             }
            },
            "type": "bar"
           }
          ],
          "barpolar": [
           {
            "marker": {
             "line": {
              "color": "#E5ECF6",
              "width": 0.5
             },
             "pattern": {
              "fillmode": "overlay",
              "size": 10,
              "solidity": 0.2
             }
            },
            "type": "barpolar"
           }
          ],
          "carpet": [
           {
            "aaxis": {
             "endlinecolor": "#2a3f5f",
             "gridcolor": "white",
             "linecolor": "white",
             "minorgridcolor": "white",
             "startlinecolor": "#2a3f5f"
            },
            "baxis": {
             "endlinecolor": "#2a3f5f",
             "gridcolor": "white",
             "linecolor": "white",
             "minorgridcolor": "white",
             "startlinecolor": "#2a3f5f"
            },
            "type": "carpet"
           }
          ],
          "choropleth": [
           {
            "colorbar": {
             "outlinewidth": 0,
             "ticks": ""
            },
            "type": "choropleth"
           }
          ],
          "contour": [
           {
            "colorbar": {
             "outlinewidth": 0,
             "ticks": ""
            },
            "colorscale": [
             [
              0,
              "#0d0887"
             ],
             [
              0.1111111111111111,
              "#46039f"
             ],
             [
              0.2222222222222222,
              "#7201a8"
             ],
             [
              0.3333333333333333,
              "#9c179e"
             ],
             [
              0.4444444444444444,
              "#bd3786"
             ],
             [
              0.5555555555555556,
              "#d8576b"
             ],
             [
              0.6666666666666666,
              "#ed7953"
             ],
             [
              0.7777777777777778,
              "#fb9f3a"
             ],
             [
              0.8888888888888888,
              "#fdca26"
             ],
             [
              1,
              "#f0f921"
             ]
            ],
            "type": "contour"
           }
          ],
          "contourcarpet": [
           {
            "colorbar": {
             "outlinewidth": 0,
             "ticks": ""
            },
            "type": "contourcarpet"
           }
          ],
          "heatmap": [
           {
            "colorbar": {
             "outlinewidth": 0,
             "ticks": ""
            },
            "colorscale": [
             [
              0,
              "#0d0887"
             ],
             [
              0.1111111111111111,
              "#46039f"
             ],
             [
              0.2222222222222222,
              "#7201a8"
             ],
             [
              0.3333333333333333,
              "#9c179e"
             ],
             [
              0.4444444444444444,
              "#bd3786"
             ],
             [
              0.5555555555555556,
              "#d8576b"
             ],
             [
              0.6666666666666666,
              "#ed7953"
             ],
             [
              0.7777777777777778,
              "#fb9f3a"
             ],
             [
              0.8888888888888888,
              "#fdca26"
             ],
             [
              1,
              "#f0f921"
             ]
            ],
            "type": "heatmap"
           }
          ],
          "histogram": [
           {
            "marker": {
             "pattern": {
              "fillmode": "overlay",
              "size": 10,
              "solidity": 0.2
             }
            },
            "type": "histogram"
           }
          ],
          "histogram2d": [
           {
            "colorbar": {
             "outlinewidth": 0,
             "ticks": ""
            },
            "colorscale": [
             [
              0,
              "#0d0887"
             ],
             [
              0.1111111111111111,
              "#46039f"
             ],
             [
              0.2222222222222222,
              "#7201a8"
             ],
             [
              0.3333333333333333,
              "#9c179e"
             ],
             [
              0.4444444444444444,
              "#bd3786"
             ],
             [
              0.5555555555555556,
              "#d8576b"
             ],
             [
              0.6666666666666666,
              "#ed7953"
             ],
             [
              0.7777777777777778,
              "#fb9f3a"
             ],
             [
              0.8888888888888888,
              "#fdca26"
             ],
             [
              1,
              "#f0f921"
             ]
            ],
            "type": "histogram2d"
           }
          ],
          "histogram2dcontour": [
           {
            "colorbar": {
             "outlinewidth": 0,
             "ticks": ""
            },
            "colorscale": [
             [
              0,
              "#0d0887"
             ],
             [
              0.1111111111111111,
              "#46039f"
             ],
             [
              0.2222222222222222,
              "#7201a8"
             ],
             [
              0.3333333333333333,
              "#9c179e"
             ],
             [
              0.4444444444444444,
              "#bd3786"
             ],
             [
              0.5555555555555556,
              "#d8576b"
             ],
             [
              0.6666666666666666,
              "#ed7953"
             ],
             [
              0.7777777777777778,
              "#fb9f3a"
             ],
             [
              0.8888888888888888,
              "#fdca26"
             ],
             [
              1,
              "#f0f921"
             ]
            ],
            "type": "histogram2dcontour"
           }
          ],
          "mesh3d": [
           {
            "colorbar": {
             "outlinewidth": 0,
             "ticks": ""
            },
            "type": "mesh3d"
           }
          ],
          "parcoords": [
           {
            "line": {
             "colorbar": {
              "outlinewidth": 0,
              "ticks": ""
             }
            },
            "type": "parcoords"
           }
          ],
          "pie": [
           {
            "automargin": true,
            "type": "pie"
           }
          ],
          "scatter": [
           {
            "fillpattern": {
             "fillmode": "overlay",
             "size": 10,
             "solidity": 0.2
            },
            "type": "scatter"
           }
          ],
          "scatter3d": [
           {
            "line": {
             "colorbar": {
              "outlinewidth": 0,
              "ticks": ""
             }
            },
            "marker": {
             "colorbar": {
              "outlinewidth": 0,
              "ticks": ""
             }
            },
            "type": "scatter3d"
           }
          ],
          "scattercarpet": [
           {
            "marker": {
             "colorbar": {
              "outlinewidth": 0,
              "ticks": ""
             }
            },
            "type": "scattercarpet"
           }
          ],
          "scattergeo": [
           {
            "marker": {
             "colorbar": {
              "outlinewidth": 0,
              "ticks": ""
             }
            },
            "type": "scattergeo"
           }
          ],
          "scattergl": [
           {
            "marker": {
             "colorbar": {
              "outlinewidth": 0,
              "ticks": ""
             }
            },
            "type": "scattergl"
           }
          ],
          "scattermap": [
           {
            "marker": {
             "colorbar": {
              "outlinewidth": 0,
              "ticks": ""
             }
            },
            "type": "scattermap"
           }
          ],
          "scattermapbox": [
           {
            "marker": {
             "colorbar": {
              "outlinewidth": 0,
              "ticks": ""
             }
            },
            "type": "scattermapbox"
           }
          ],
          "scatterpolar": [
           {
            "marker": {
             "colorbar": {
              "outlinewidth": 0,
              "ticks": ""
             }
            },
            "type": "scatterpolar"
           }
          ],
          "scatterpolargl": [
           {
            "marker": {
             "colorbar": {
              "outlinewidth": 0,
              "ticks": ""
             }
            },
            "type": "scatterpolargl"
           }
          ],
          "scatterternary": [
           {
            "marker": {
             "colorbar": {
              "outlinewidth": 0,
              "ticks": ""
             }
            },
            "type": "scatterternary"
           }
          ],
          "surface": [
           {
            "colorbar": {
             "outlinewidth": 0,
             "ticks": ""
            },
            "colorscale": [
             [
              0,
              "#0d0887"
             ],
             [
              0.1111111111111111,
              "#46039f"
             ],
             [
              0.2222222222222222,
              "#7201a8"
             ],
             [
              0.3333333333333333,
              "#9c179e"
             ],
             [
              0.4444444444444444,
              "#bd3786"
             ],
             [
              0.5555555555555556,
              "#d8576b"
             ],
             [
              0.6666666666666666,
              "#ed7953"
             ],
             [
              0.7777777777777778,
              "#fb9f3a"
             ],
             [
              0.8888888888888888,
              "#fdca26"
             ],
             [
              1,
              "#f0f921"
             ]
            ],
            "type": "surface"
           }
          ],
          "table": [
           {
            "cells": {
             "fill": {
              "color": "#EBF0F8"
             },
             "line": {
              "color": "white"
             }
            },
            "header": {
             "fill": {
              "color": "#C8D4E3"
             },
             "line": {
              "color": "white"
             }
            },
            "type": "table"
           }
          ]
         },
         "layout": {
          "annotationdefaults": {
           "arrowcolor": "#2a3f5f",
           "arrowhead": 0,
           "arrowwidth": 1
          },
          "autotypenumbers": "strict",
          "coloraxis": {
           "colorbar": {
            "outlinewidth": 0,
            "ticks": ""
           }
          },
          "colorscale": {
           "diverging": [
            [
             0,
             "#8e0152"
            ],
            [
             0.1,
             "#c51b7d"
            ],
            [
             0.2,
             "#de77ae"
            ],
            [
             0.3,
             "#f1b6da"
            ],
            [
             0.4,
             "#fde0ef"
            ],
            [
             0.5,
             "#f7f7f7"
            ],
            [
             0.6,
             "#e6f5d0"
            ],
            [
             0.7,
             "#b8e186"
            ],
            [
             0.8,
             "#7fbc41"
            ],
            [
             0.9,
             "#4d9221"
            ],
            [
             1,
             "#276419"
            ]
           ],
           "sequential": [
            [
             0,
             "#0d0887"
            ],
            [
             0.1111111111111111,
             "#46039f"
            ],
            [
             0.2222222222222222,
             "#7201a8"
            ],
            [
             0.3333333333333333,
             "#9c179e"
            ],
            [
             0.4444444444444444,
             "#bd3786"
            ],
            [
             0.5555555555555556,
             "#d8576b"
            ],
            [
             0.6666666666666666,
             "#ed7953"
            ],
            [
             0.7777777777777778,
             "#fb9f3a"
            ],
            [
             0.8888888888888888,
             "#fdca26"
            ],
            [
             1,
             "#f0f921"
            ]
           ],
           "sequentialminus": [
            [
             0,
             "#0d0887"
            ],
            [
             0.1111111111111111,
             "#46039f"
            ],
            [
             0.2222222222222222,
             "#7201a8"
            ],
            [
             0.3333333333333333,
             "#9c179e"
            ],
            [
             0.4444444444444444,
             "#bd3786"
            ],
            [
             0.5555555555555556,
             "#d8576b"
            ],
            [
             0.6666666666666666,
             "#ed7953"
            ],
            [
             0.7777777777777778,
             "#fb9f3a"
            ],
            [
             0.8888888888888888,
             "#fdca26"
            ],
            [
             1,
             "#f0f921"
            ]
           ]
          },
          "colorway": [
           "#636efa",
           "#EF553B",
           "#00cc96",
           "#ab63fa",
           "#FFA15A",
           "#19d3f3",
           "#FF6692",
           "#B6E880",
           "#FF97FF",
           "#FECB52"
          ],
          "font": {
           "color": "#2a3f5f"
          },
          "geo": {
           "bgcolor": "white",
           "lakecolor": "white",
           "landcolor": "#E5ECF6",
           "showlakes": true,
           "showland": true,
           "subunitcolor": "white"
          },
          "hoverlabel": {
           "align": "left"
          },
          "hovermode": "closest",
          "mapbox": {
           "style": "light"
          },
          "paper_bgcolor": "white",
          "plot_bgcolor": "#E5ECF6",
          "polar": {
           "angularaxis": {
            "gridcolor": "white",
            "linecolor": "white",
            "ticks": ""
           },
           "bgcolor": "#E5ECF6",
           "radialaxis": {
            "gridcolor": "white",
            "linecolor": "white",
            "ticks": ""
           }
          },
          "scene": {
           "xaxis": {
            "backgroundcolor": "#E5ECF6",
            "gridcolor": "white",
            "gridwidth": 2,
            "linecolor": "white",
            "showbackground": true,
            "ticks": "",
            "zerolinecolor": "white"
           },
           "yaxis": {
            "backgroundcolor": "#E5ECF6",
            "gridcolor": "white",
            "gridwidth": 2,
            "linecolor": "white",
            "showbackground": true,
            "ticks": "",
            "zerolinecolor": "white"
           },
           "zaxis": {
            "backgroundcolor": "#E5ECF6",
            "gridcolor": "white",
            "gridwidth": 2,
            "linecolor": "white",
            "showbackground": true,
            "ticks": "",
            "zerolinecolor": "white"
           }
          },
          "shapedefaults": {
           "line": {
            "color": "#2a3f5f"
           }
          },
          "ternary": {
           "aaxis": {
            "gridcolor": "white",
            "linecolor": "white",
            "ticks": ""
           },
           "baxis": {
            "gridcolor": "white",
            "linecolor": "white",
            "ticks": ""
           },
           "bgcolor": "#E5ECF6",
           "caxis": {
            "gridcolor": "white",
            "linecolor": "white",
            "ticks": ""
           }
          },
          "title": {
           "x": 0.05
          },
          "xaxis": {
           "automargin": true,
           "gridcolor": "white",
           "linecolor": "white",
           "ticks": "",
           "title": {
            "standoff": 15
           },
           "zerolinecolor": "white",
           "zerolinewidth": 2
          },
          "yaxis": {
           "automargin": true,
           "gridcolor": "white",
           "linecolor": "white",
           "ticks": "",
           "title": {
            "standoff": 15
           },
           "zerolinecolor": "white",
           "zerolinewidth": 2
          }
         }
        },
        "title": {
         "text": "Path patching results H41.4 Value"
        },
        "width": 800,
        "xaxis": {
         "anchor": "y",
         "constrain": "domain",
         "domain": [
          0,
          1
         ],
         "scaleanchor": "y",
         "title": {
          "text": "Layer"
         }
        },
        "yaxis": {
         "anchor": "x",
         "autorange": "reversed",
         "constrain": "domain",
         "domain": [
          0,
          1
         ],
         "title": {
          "text": "Head"
         }
        }
       }
      }
     },
     "metadata": {},
     "output_type": "display_data"
    },
    {
     "data": {
      "application/vnd.plotly.v1+json": {
       "config": {
        "plotlyServerURL": "https://plot.ly",
        "staticPlot": false
       },
       "data": [
        {
         "coloraxis": "coloraxis",
         "hovertemplate": "Layer: %{x}<br>Head: %{y}<br>Logit diff. variation: %{z}<extra></extra>",
         "name": "0",
         "type": "heatmap",
         "xaxis": "x",
         "yaxis": "y",
         "z": {
          "bdata": "3w9aN5ca6Di7rZQ3V6E/N87TMjlOA6w5DLaVOa7+armZBF+4La0nuhXJpLmwsA462NC4uSghrroTWQ26p0pOumRkQrtwktu7uFKuOwnip7muDFw7FmKau1QRujt50IO9evaVvEM9IL0JOTu8VsThu3jZhbvLsia+jjaQvBvW2jrcs8W8W9kDOjZnnTrZRTQ7G+F0PV5YDz1cF4U89P22vVNuPT4AAAAAu60UuKYoBLZEBqY4/+QhuHDktLifITY5JYSPuZ3CQ7u4C5I6KGQ+ufmxQbmgC605voECOH82ZTqyeb+6kVBCOoAzMbsJF0e7f4xKu0Hdqrvsa1I6ieITvL2VW70dSVA8XlUGPAqrgrw/O348WiJ8u6d7i7z5Bye7KJgvPLMKHTuAb8S+wzqDunxRUjqmKIQ6l+2DvZN9SbvoAvu76r5gPoLjK70AAAAA0DIlNz10UzY9dNO3pigENgj4sLkWPiC477S7uT100zaG/4Y6DhUIumYJeblIxAo6TrB6uWZ+9Dm8mr872VZZunYBjDvsSQi5WiL8umA/U7vNO8C8yeAuvC5QgjzEjxA8ZidhPPyZh7xAmho8xrmOvDpYcbu6aoQ6x/kVvMT2mjvtaEm9EIhTOy5BObtu6sY8V24mvB+eKz1UvCw9RvyHPFnPnrwAAAAAcc6rNoGrYLeb2Ew33iXjOC+BlbjaZ3444G7MuYVpxThQYp45d3YHOceUkbnSkZe5jB1iOgG5D7laIvw5OStquj2347qUEwu6q5ADu0Tg+zpcCpc7CKX/OWye/7ycXu06/izBPKAtdzs0Kp+9B1J4vJI6ubs8itw7LOLGu3k8hL0Solq9SRQ0vD3HhLmdvYm8PfrzO3rQFTo9lpw8CPvkO3S0wTwAAAAA54sjuDjM9zeBq+A2G/yEuN4lYznQMiW3cc4ruIoRobm1BTk4piiEuK9d3TemOSm6uYANO6C4+7k7BDw6fUCtOZz0LrudjMy7RFrbuxEshjsNoIy5V8MzvAIMbbxsJ3687pVQPWqEzbtTFh69nCp8vHJ7ersAgEE9vO50O5U/Ojwc8E++cJmlvXoYCjwVVCk54BoXvGTkV72lswg7RtoTuqGqLT0AAAAApiiEtz10UzVXoT+3+TzGOQOjBrlmfvS4djnfuTjM97heMxK5/fqqOUmugTrUZQU55qGsOG5T17p8y7G56V8Rt0F1SLsSGdy8IddPuiRCAr3Htlu4BZSLvbUFubdDb+E8FzlnvYtiIjs249i7p7BVPYDvSLx4HJa7Ac1ouxqFA7wImjo90hwDPjhlbbtD5uK8rmJBO5jwBT2J4um73LDnuuzQVrwAAAAA6V+Rt76BgjnKikm4xOLtN5ru1blcXyQ5QTK4uBv8BLl1rtq54uNHOL6BAjhF8By5Hme4uszYFjua6yE7rv7quRlVHjvsvgO6EZbEukFD3bo8EP06L+bvOl1Cn70sAw07bIomvMVGxDtqf+k6AJ0tOzqbO74uhaG7YeQIveJpaLx+Gti+2w7lul9jTTs/wiC7ZlcrPirECL47vR88XBVMvvdlpLsAAAAAd3aHN6YohDcWPiC44NcGOsTibTjxiKm53w9aNwga+zbsRCS6OMz3t8bMZLnV2gC4CeInOj1007UhXfA6njLbOuit7bnTz0O7pxjjOuPuBLxZ8RK8k0teu4KX3TyZvho7eqUNvQuYLTzR+U+8OdWuvGHDF7y5gA07ZZlaPXDClTz6rxC9ZWEOur+wZbyQIAc7ka2mvxZqVr31ns87u9pGwNC3FzwAAAAA+TzGtj10UzbSBhO4SMQKOIGr4LY9dFM3KsMwuD10UzY6oGW5tQW5OdIGE7rmoSy6ynmku9REvzrmoSw5EhxlOv/kIbiSsmi7GFqCuh7tWLpTwZC60rPhvDhEjT0RUYM8Zog1PaJ4EDvMRvM9voAqvMnzg7s96U45mVdmvS0NSLxgG1m7zvHwO+1mbjtIgCK8E0pEvLuTMb251h29mWUBO7hOojkAAAAA1doAOD10U7bpX5E2Zn70t3d2hzhssdS5i1SxOkIcrzcMY+Q5cy0eup+WMTkJ4qc5rnPmuaH1IzqVu3U5SQebOttR9bl1rto6HDuJu5P1eDsZVZ67Ux4EveKipL1WLZy76/qFvm8Ir7364Ly9keYDOxezG7mSKkK8y7ouvFG207oteAg7CdQ2u17g4LplUe07poBFvCYserqv6bk71zr3OijMIDwAAAAAXF+kuIGr4LdIxIq3piiENoz7l7jNXje4j8+FuAj4sLneJWM5q30uOijvQjlrBIa5ShPcuq9dXbgni+w6vMp6uiISSLvdFL66YiQQvF7Mh7uk7Ig85DbhvdVjVTseVI08sXiRPLGg7bx3NVO8HyCcPOCcMr0T9Ta6OFGUu6mkhjx4x148fxSbOdi/E7sQHhU7Sb8mun8XzzsPZzc8Ua0UvRieFb4AAAAApigEt687k7m+gQK4V6G/tzJVAzmb2My51PCJOAAAAICVmSu6nWmqurutFLnsSYg4t2QruVLj2rhwfSo7We+MOh1L1jrnImm7P8IgO7TmIjuOeiO9AKwhPdPcY73WgI87RUPPPPYUI7vdnbw8AzrMO9XrpTp9pIO6ad1muRy2bLxodjG9YLTOueh1Grk7JYK635ZSPHBsW7x7RRG6l9P2vN1aDj8AAAAApiiEtmZ+9LcIGvs2o1QWudN7Drk9dFM2CBr7NhGWRLp2AQw6pD4NOV6+ljrNb1w6QEjBuf/kobgBRBQ7/beauntIRTv4tiW7pGU7ugExvzvmJ007V5L2O1kTXbyyqaS876A4vUjEirfy7YI8ongQO+mmAr3zygs8pNtkvI6uv7vNvQW9hdBPO85ZU7pw0487g26pOsZUNTsXj/e9qU0Mvwe9Cj8AAAAAPXTTNDjM9zfaZ/63PXRTtk4ldjiwR9S4/pHwOQMYAjnfD9q3e1a2ORz3IDoulx44PXRTuWbAALoCDcW6W9kDu+pwtrq37FE8Dzb6uzO6B7xmjpW7V9OqOge3/DuQudI8tIisvVGFnr4lgIO7vwSaPDURHb6LAti7S0DjOgOhVrscKYy6rK3pu/8nsjr+xQs7p1tzOjsThTsl52M9qo2+PTNyk70AAAAAE2oyOHBvOTmJJyq50DIlNy6Xnra7rRS4yBoyOkEyuLjfD9o3UuPaOTz/V7rni6M6U0cxur6Bgjny/aQ6vl0Iu2Z+dDmFiou6SSYxO8455TvDfkE82WbQPK/oYTt/SAy9qhqwvHzLsToToVe8TpmxPTK4gbt7JMs6e2dbOja/szxdSZs4YhPBupBnij1e4GC6C+5ouQko7DsfH0S8oX9QPJ/quzwAAAAACBr7tzm27jgTarI3ljBxOS6XnjXodZq4xOJtN11Jm7mnSs45iSeqOOeLo7i7e6m6x6U2uuclR7xUqwc6C0Eau0Dvp7ovLuS54yH0OtZgobt74Tq6Y6w2u/1AGTzptno8ihKkvP60PLzGQxC7fzkYvbKbMzzi40c6jZLduYL95Dz4Uk863FyyOtCnIDumKzg8PR1AvZD7tDs57zy9VaJ0PXPKnzsAAAAA",
          "dtype": "f4",
          "shape": "16, 42"
         }
        }
       ],
       "layout": {
        "coloraxis": {
         "cmid": 0,
         "colorbar": {
          "ticksuffix": "%",
          "title": {
           "text": "Logit diff. variation"
          }
         },
         "colorscale": [
          [
           0,
           "rgb(103,0,31)"
          ],
          [
           0.1,
           "rgb(178,24,43)"
          ],
          [
           0.2,
           "rgb(214,96,77)"
          ],
          [
           0.3,
           "rgb(244,165,130)"
          ],
          [
           0.4,
           "rgb(253,219,199)"
          ],
          [
           0.5,
           "rgb(247,247,247)"
          ],
          [
           0.6,
           "rgb(209,229,240)"
          ],
          [
           0.7,
           "rgb(146,197,222)"
          ],
          [
           0.8,
           "rgb(67,147,195)"
          ],
          [
           0.9,
           "rgb(33,102,172)"
          ],
          [
           1,
           "rgb(5,48,97)"
          ]
         ]
        },
        "height": 400,
        "template": {
         "data": {
          "bar": [
           {
            "error_x": {
             "color": "#2a3f5f"
            },
            "error_y": {
             "color": "#2a3f5f"
            },
            "marker": {
             "line": {
              "color": "#E5ECF6",
              "width": 0.5
             },
             "pattern": {
              "fillmode": "overlay",
              "size": 10,
              "solidity": 0.2
             }
            },
            "type": "bar"
           }
          ],
          "barpolar": [
           {
            "marker": {
             "line": {
              "color": "#E5ECF6",
              "width": 0.5
             },
             "pattern": {
              "fillmode": "overlay",
              "size": 10,
              "solidity": 0.2
             }
            },
            "type": "barpolar"
           }
          ],
          "carpet": [
           {
            "aaxis": {
             "endlinecolor": "#2a3f5f",
             "gridcolor": "white",
             "linecolor": "white",
             "minorgridcolor": "white",
             "startlinecolor": "#2a3f5f"
            },
            "baxis": {
             "endlinecolor": "#2a3f5f",
             "gridcolor": "white",
             "linecolor": "white",
             "minorgridcolor": "white",
             "startlinecolor": "#2a3f5f"
            },
            "type": "carpet"
           }
          ],
          "choropleth": [
           {
            "colorbar": {
             "outlinewidth": 0,
             "ticks": ""
            },
            "type": "choropleth"
           }
          ],
          "contour": [
           {
            "colorbar": {
             "outlinewidth": 0,
             "ticks": ""
            },
            "colorscale": [
             [
              0,
              "#0d0887"
             ],
             [
              0.1111111111111111,
              "#46039f"
             ],
             [
              0.2222222222222222,
              "#7201a8"
             ],
             [
              0.3333333333333333,
              "#9c179e"
             ],
             [
              0.4444444444444444,
              "#bd3786"
             ],
             [
              0.5555555555555556,
              "#d8576b"
             ],
             [
              0.6666666666666666,
              "#ed7953"
             ],
             [
              0.7777777777777778,
              "#fb9f3a"
             ],
             [
              0.8888888888888888,
              "#fdca26"
             ],
             [
              1,
              "#f0f921"
             ]
            ],
            "type": "contour"
           }
          ],
          "contourcarpet": [
           {
            "colorbar": {
             "outlinewidth": 0,
             "ticks": ""
            },
            "type": "contourcarpet"
           }
          ],
          "heatmap": [
           {
            "colorbar": {
             "outlinewidth": 0,
             "ticks": ""
            },
            "colorscale": [
             [
              0,
              "#0d0887"
             ],
             [
              0.1111111111111111,
              "#46039f"
             ],
             [
              0.2222222222222222,
              "#7201a8"
             ],
             [
              0.3333333333333333,
              "#9c179e"
             ],
             [
              0.4444444444444444,
              "#bd3786"
             ],
             [
              0.5555555555555556,
              "#d8576b"
             ],
             [
              0.6666666666666666,
              "#ed7953"
             ],
             [
              0.7777777777777778,
              "#fb9f3a"
             ],
             [
              0.8888888888888888,
              "#fdca26"
             ],
             [
              1,
              "#f0f921"
             ]
            ],
            "type": "heatmap"
           }
          ],
          "histogram": [
           {
            "marker": {
             "pattern": {
              "fillmode": "overlay",
              "size": 10,
              "solidity": 0.2
             }
            },
            "type": "histogram"
           }
          ],
          "histogram2d": [
           {
            "colorbar": {
             "outlinewidth": 0,
             "ticks": ""
            },
            "colorscale": [
             [
              0,
              "#0d0887"
             ],
             [
              0.1111111111111111,
              "#46039f"
             ],
             [
              0.2222222222222222,
              "#7201a8"
             ],
             [
              0.3333333333333333,
              "#9c179e"
             ],
             [
              0.4444444444444444,
              "#bd3786"
             ],
             [
              0.5555555555555556,
              "#d8576b"
             ],
             [
              0.6666666666666666,
              "#ed7953"
             ],
             [
              0.7777777777777778,
              "#fb9f3a"
             ],
             [
              0.8888888888888888,
              "#fdca26"
             ],
             [
              1,
              "#f0f921"
             ]
            ],
            "type": "histogram2d"
           }
          ],
          "histogram2dcontour": [
           {
            "colorbar": {
             "outlinewidth": 0,
             "ticks": ""
            },
            "colorscale": [
             [
              0,
              "#0d0887"
             ],
             [
              0.1111111111111111,
              "#46039f"
             ],
             [
              0.2222222222222222,
              "#7201a8"
             ],
             [
              0.3333333333333333,
              "#9c179e"
             ],
             [
              0.4444444444444444,
              "#bd3786"
             ],
             [
              0.5555555555555556,
              "#d8576b"
             ],
             [
              0.6666666666666666,
              "#ed7953"
             ],
             [
              0.7777777777777778,
              "#fb9f3a"
             ],
             [
              0.8888888888888888,
              "#fdca26"
             ],
             [
              1,
              "#f0f921"
             ]
            ],
            "type": "histogram2dcontour"
           }
          ],
          "mesh3d": [
           {
            "colorbar": {
             "outlinewidth": 0,
             "ticks": ""
            },
            "type": "mesh3d"
           }
          ],
          "parcoords": [
           {
            "line": {
             "colorbar": {
              "outlinewidth": 0,
              "ticks": ""
             }
            },
            "type": "parcoords"
           }
          ],
          "pie": [
           {
            "automargin": true,
            "type": "pie"
           }
          ],
          "scatter": [
           {
            "fillpattern": {
             "fillmode": "overlay",
             "size": 10,
             "solidity": 0.2
            },
            "type": "scatter"
           }
          ],
          "scatter3d": [
           {
            "line": {
             "colorbar": {
              "outlinewidth": 0,
              "ticks": ""
             }
            },
            "marker": {
             "colorbar": {
              "outlinewidth": 0,
              "ticks": ""
             }
            },
            "type": "scatter3d"
           }
          ],
          "scattercarpet": [
           {
            "marker": {
             "colorbar": {
              "outlinewidth": 0,
              "ticks": ""
             }
            },
            "type": "scattercarpet"
           }
          ],
          "scattergeo": [
           {
            "marker": {
             "colorbar": {
              "outlinewidth": 0,
              "ticks": ""
             }
            },
            "type": "scattergeo"
           }
          ],
          "scattergl": [
           {
            "marker": {
             "colorbar": {
              "outlinewidth": 0,
              "ticks": ""
             }
            },
            "type": "scattergl"
           }
          ],
          "scattermap": [
           {
            "marker": {
             "colorbar": {
              "outlinewidth": 0,
              "ticks": ""
             }
            },
            "type": "scattermap"
           }
          ],
          "scattermapbox": [
           {
            "marker": {
             "colorbar": {
              "outlinewidth": 0,
              "ticks": ""
             }
            },
            "type": "scattermapbox"
           }
          ],
          "scatterpolar": [
           {
            "marker": {
             "colorbar": {
              "outlinewidth": 0,
              "ticks": ""
             }
            },
            "type": "scatterpolar"
           }
          ],
          "scatterpolargl": [
           {
            "marker": {
             "colorbar": {
              "outlinewidth": 0,
              "ticks": ""
             }
            },
            "type": "scatterpolargl"
           }
          ],
          "scatterternary": [
           {
            "marker": {
             "colorbar": {
              "outlinewidth": 0,
              "ticks": ""
             }
            },
            "type": "scatterternary"
           }
          ],
          "surface": [
           {
            "colorbar": {
             "outlinewidth": 0,
             "ticks": ""
            },
            "colorscale": [
             [
              0,
              "#0d0887"
             ],
             [
              0.1111111111111111,
              "#46039f"
             ],
             [
              0.2222222222222222,
              "#7201a8"
             ],
             [
              0.3333333333333333,
              "#9c179e"
             ],
             [
              0.4444444444444444,
              "#bd3786"
             ],
             [
              0.5555555555555556,
              "#d8576b"
             ],
             [
              0.6666666666666666,
              "#ed7953"
             ],
             [
              0.7777777777777778,
              "#fb9f3a"
             ],
             [
              0.8888888888888888,
              "#fdca26"
             ],
             [
              1,
              "#f0f921"
             ]
            ],
            "type": "surface"
           }
          ],
          "table": [
           {
            "cells": {
             "fill": {
              "color": "#EBF0F8"
             },
             "line": {
              "color": "white"
             }
            },
            "header": {
             "fill": {
              "color": "#C8D4E3"
             },
             "line": {
              "color": "white"
             }
            },
            "type": "table"
           }
          ]
         },
         "layout": {
          "annotationdefaults": {
           "arrowcolor": "#2a3f5f",
           "arrowhead": 0,
           "arrowwidth": 1
          },
          "autotypenumbers": "strict",
          "coloraxis": {
           "colorbar": {
            "outlinewidth": 0,
            "ticks": ""
           }
          },
          "colorscale": {
           "diverging": [
            [
             0,
             "#8e0152"
            ],
            [
             0.1,
             "#c51b7d"
            ],
            [
             0.2,
             "#de77ae"
            ],
            [
             0.3,
             "#f1b6da"
            ],
            [
             0.4,
             "#fde0ef"
            ],
            [
             0.5,
             "#f7f7f7"
            ],
            [
             0.6,
             "#e6f5d0"
            ],
            [
             0.7,
             "#b8e186"
            ],
            [
             0.8,
             "#7fbc41"
            ],
            [
             0.9,
             "#4d9221"
            ],
            [
             1,
             "#276419"
            ]
           ],
           "sequential": [
            [
             0,
             "#0d0887"
            ],
            [
             0.1111111111111111,
             "#46039f"
            ],
            [
             0.2222222222222222,
             "#7201a8"
            ],
            [
             0.3333333333333333,
             "#9c179e"
            ],
            [
             0.4444444444444444,
             "#bd3786"
            ],
            [
             0.5555555555555556,
             "#d8576b"
            ],
            [
             0.6666666666666666,
             "#ed7953"
            ],
            [
             0.7777777777777778,
             "#fb9f3a"
            ],
            [
             0.8888888888888888,
             "#fdca26"
            ],
            [
             1,
             "#f0f921"
            ]
           ],
           "sequentialminus": [
            [
             0,
             "#0d0887"
            ],
            [
             0.1111111111111111,
             "#46039f"
            ],
            [
             0.2222222222222222,
             "#7201a8"
            ],
            [
             0.3333333333333333,
             "#9c179e"
            ],
            [
             0.4444444444444444,
             "#bd3786"
            ],
            [
             0.5555555555555556,
             "#d8576b"
            ],
            [
             0.6666666666666666,
             "#ed7953"
            ],
            [
             0.7777777777777778,
             "#fb9f3a"
            ],
            [
             0.8888888888888888,
             "#fdca26"
            ],
            [
             1,
             "#f0f921"
            ]
           ]
          },
          "colorway": [
           "#636efa",
           "#EF553B",
           "#00cc96",
           "#ab63fa",
           "#FFA15A",
           "#19d3f3",
           "#FF6692",
           "#B6E880",
           "#FF97FF",
           "#FECB52"
          ],
          "font": {
           "color": "#2a3f5f"
          },
          "geo": {
           "bgcolor": "white",
           "lakecolor": "white",
           "landcolor": "#E5ECF6",
           "showlakes": true,
           "showland": true,
           "subunitcolor": "white"
          },
          "hoverlabel": {
           "align": "left"
          },
          "hovermode": "closest",
          "mapbox": {
           "style": "light"
          },
          "paper_bgcolor": "white",
          "plot_bgcolor": "#E5ECF6",
          "polar": {
           "angularaxis": {
            "gridcolor": "white",
            "linecolor": "white",
            "ticks": ""
           },
           "bgcolor": "#E5ECF6",
           "radialaxis": {
            "gridcolor": "white",
            "linecolor": "white",
            "ticks": ""
           }
          },
          "scene": {
           "xaxis": {
            "backgroundcolor": "#E5ECF6",
            "gridcolor": "white",
            "gridwidth": 2,
            "linecolor": "white",
            "showbackground": true,
            "ticks": "",
            "zerolinecolor": "white"
           },
           "yaxis": {
            "backgroundcolor": "#E5ECF6",
            "gridcolor": "white",
            "gridwidth": 2,
            "linecolor": "white",
            "showbackground": true,
            "ticks": "",
            "zerolinecolor": "white"
           },
           "zaxis": {
            "backgroundcolor": "#E5ECF6",
            "gridcolor": "white",
            "gridwidth": 2,
            "linecolor": "white",
            "showbackground": true,
            "ticks": "",
            "zerolinecolor": "white"
           }
          },
          "shapedefaults": {
           "line": {
            "color": "#2a3f5f"
           }
          },
          "ternary": {
           "aaxis": {
            "gridcolor": "white",
            "linecolor": "white",
            "ticks": ""
           },
           "baxis": {
            "gridcolor": "white",
            "linecolor": "white",
            "ticks": ""
           },
           "bgcolor": "#E5ECF6",
           "caxis": {
            "gridcolor": "white",
            "linecolor": "white",
            "ticks": ""
           }
          },
          "title": {
           "x": 0.05
          },
          "xaxis": {
           "automargin": true,
           "gridcolor": "white",
           "linecolor": "white",
           "ticks": "",
           "title": {
            "standoff": 15
           },
           "zerolinecolor": "white",
           "zerolinewidth": 2
          },
          "yaxis": {
           "automargin": true,
           "gridcolor": "white",
           "linecolor": "white",
           "ticks": "",
           "title": {
            "standoff": 15
           },
           "zerolinecolor": "white",
           "zerolinewidth": 2
          }
         }
        },
        "title": {
         "text": "Path patching results H41.5 Value"
        },
        "width": 800,
        "xaxis": {
         "anchor": "y",
         "constrain": "domain",
         "domain": [
          0,
          1
         ],
         "scaleanchor": "y",
         "title": {
          "text": "Layer"
         }
        },
        "yaxis": {
         "anchor": "x",
         "autorange": "reversed",
         "constrain": "domain",
         "domain": [
          0,
          1
         ],
         "title": {
          "text": "Head"
         }
        }
       }
      }
     },
     "metadata": {},
     "output_type": "display_data"
    }
   ],
   "source": [
    "# Consolidation Heads\n",
    "for head in [(40, 11), (40, 12), (41, 4), (41, 5)]:\n",
    "    filename = \"./results/gemma_2_9b/cons_h{}_{}_v.pt\".format(head[0], head[1])\n",
    "    result = t.load(filename)\n",
    "    visualize_heatmap(result, info = \"H{}.{} Value\".format(head[0], head[1]))"
   ]
  },
  {
   "cell_type": "code",
   "execution_count": 8,
   "metadata": {},
   "outputs": [
    {
     "data": {
      "application/vnd.plotly.v1+json": {
       "config": {
        "plotlyServerURL": "https://plot.ly",
        "staticPlot": false
       },
       "data": [
        {
         "coloraxis": "coloraxis",
         "hovertemplate": "Layer: %{x}<br>Head: %{y}<br>Logit diff. variation: %{z}<extra></extra>",
         "name": "0",
         "type": "heatmap",
         "xaxis": "x",
         "yaxis": "y",
         "z": {
          "bdata": "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",
          "dtype": "f4",
          "shape": "16, 42"
         }
        }
       ],
       "layout": {
        "coloraxis": {
         "cmid": 0,
         "colorbar": {
          "ticksuffix": "%",
          "title": {
           "text": "Logit diff. variation"
          }
         },
         "colorscale": [
          [
           0,
           "rgb(103,0,31)"
          ],
          [
           0.1,
           "rgb(178,24,43)"
          ],
          [
           0.2,
           "rgb(214,96,77)"
          ],
          [
           0.3,
           "rgb(244,165,130)"
          ],
          [
           0.4,
           "rgb(253,219,199)"
          ],
          [
           0.5,
           "rgb(247,247,247)"
          ],
          [
           0.6,
           "rgb(209,229,240)"
          ],
          [
           0.7,
           "rgb(146,197,222)"
          ],
          [
           0.8,
           "rgb(67,147,195)"
          ],
          [
           0.9,
           "rgb(33,102,172)"
          ],
          [
           1,
           "rgb(5,48,97)"
          ]
         ]
        },
        "height": 400,
        "template": {
         "data": {
          "bar": [
           {
            "error_x": {
             "color": "#2a3f5f"
            },
            "error_y": {
             "color": "#2a3f5f"
            },
            "marker": {
             "line": {
              "color": "#E5ECF6",
              "width": 0.5
             },
             "pattern": {
              "fillmode": "overlay",
              "size": 10,
              "solidity": 0.2
             }
            },
            "type": "bar"
           }
          ],
          "barpolar": [
           {
            "marker": {
             "line": {
              "color": "#E5ECF6",
              "width": 0.5
             },
             "pattern": {
              "fillmode": "overlay",
              "size": 10,
              "solidity": 0.2
             }
            },
            "type": "barpolar"
           }
          ],
          "carpet": [
           {
            "aaxis": {
             "endlinecolor": "#2a3f5f",
             "gridcolor": "white",
             "linecolor": "white",
             "minorgridcolor": "white",
             "startlinecolor": "#2a3f5f"
            },
            "baxis": {
             "endlinecolor": "#2a3f5f",
             "gridcolor": "white",
             "linecolor": "white",
             "minorgridcolor": "white",
             "startlinecolor": "#2a3f5f"
            },
            "type": "carpet"
           }
          ],
          "choropleth": [
           {
            "colorbar": {
             "outlinewidth": 0,
             "ticks": ""
            },
            "type": "choropleth"
           }
          ],
          "contour": [
           {
            "colorbar": {
             "outlinewidth": 0,
             "ticks": ""
            },
            "colorscale": [
             [
              0,
              "#0d0887"
             ],
             [
              0.1111111111111111,
              "#46039f"
             ],
             [
              0.2222222222222222,
              "#7201a8"
             ],
             [
              0.3333333333333333,
              "#9c179e"
             ],
             [
              0.4444444444444444,
              "#bd3786"
             ],
             [
              0.5555555555555556,
              "#d8576b"
             ],
             [
              0.6666666666666666,
              "#ed7953"
             ],
             [
              0.7777777777777778,
              "#fb9f3a"
             ],
             [
              0.8888888888888888,
              "#fdca26"
             ],
             [
              1,
              "#f0f921"
             ]
            ],
            "type": "contour"
           }
          ],
          "contourcarpet": [
           {
            "colorbar": {
             "outlinewidth": 0,
             "ticks": ""
            },
            "type": "contourcarpet"
           }
          ],
          "heatmap": [
           {
            "colorbar": {
             "outlinewidth": 0,
             "ticks": ""
            },
            "colorscale": [
             [
              0,
              "#0d0887"
             ],
             [
              0.1111111111111111,
              "#46039f"
             ],
             [
              0.2222222222222222,
              "#7201a8"
             ],
             [
              0.3333333333333333,
              "#9c179e"
             ],
             [
              0.4444444444444444,
              "#bd3786"
             ],
             [
              0.5555555555555556,
              "#d8576b"
             ],
             [
              0.6666666666666666,
              "#ed7953"
             ],
             [
              0.7777777777777778,
              "#fb9f3a"
             ],
             [
              0.8888888888888888,
              "#fdca26"
             ],
             [
              1,
              "#f0f921"
             ]
            ],
            "type": "heatmap"
           }
          ],
          "histogram": [
           {
            "marker": {
             "pattern": {
              "fillmode": "overlay",
              "size": 10,
              "solidity": 0.2
             }
            },
            "type": "histogram"
           }
          ],
          "histogram2d": [
           {
            "colorbar": {
             "outlinewidth": 0,
             "ticks": ""
            },
            "colorscale": [
             [
              0,
              "#0d0887"
             ],
             [
              0.1111111111111111,
              "#46039f"
             ],
             [
              0.2222222222222222,
              "#7201a8"
             ],
             [
              0.3333333333333333,
              "#9c179e"
             ],
             [
              0.4444444444444444,
              "#bd3786"
             ],
             [
              0.5555555555555556,
              "#d8576b"
             ],
             [
              0.6666666666666666,
              "#ed7953"
             ],
             [
              0.7777777777777778,
              "#fb9f3a"
             ],
             [
              0.8888888888888888,
              "#fdca26"
             ],
             [
              1,
              "#f0f921"
             ]
            ],
            "type": "histogram2d"
           }
          ],
          "histogram2dcontour": [
           {
            "colorbar": {
             "outlinewidth": 0,
             "ticks": ""
            },
            "colorscale": [
             [
              0,
              "#0d0887"
             ],
             [
              0.1111111111111111,
              "#46039f"
             ],
             [
              0.2222222222222222,
              "#7201a8"
             ],
             [
              0.3333333333333333,
              "#9c179e"
             ],
             [
              0.4444444444444444,
              "#bd3786"
             ],
             [
              0.5555555555555556,
              "#d8576b"
             ],
             [
              0.6666666666666666,
              "#ed7953"
             ],
             [
              0.7777777777777778,
              "#fb9f3a"
             ],
             [
              0.8888888888888888,
              "#fdca26"
             ],
             [
              1,
              "#f0f921"
             ]
            ],
            "type": "histogram2dcontour"
           }
          ],
          "mesh3d": [
           {
            "colorbar": {
             "outlinewidth": 0,
             "ticks": ""
            },
            "type": "mesh3d"
           }
          ],
          "parcoords": [
           {
            "line": {
             "colorbar": {
              "outlinewidth": 0,
              "ticks": ""
             }
            },
            "type": "parcoords"
           }
          ],
          "pie": [
           {
            "automargin": true,
            "type": "pie"
           }
          ],
          "scatter": [
           {
            "fillpattern": {
             "fillmode": "overlay",
             "size": 10,
             "solidity": 0.2
            },
            "type": "scatter"
           }
          ],
          "scatter3d": [
           {
            "line": {
             "colorbar": {
              "outlinewidth": 0,
              "ticks": ""
             }
            },
            "marker": {
             "colorbar": {
              "outlinewidth": 0,
              "ticks": ""
             }
            },
            "type": "scatter3d"
           }
          ],
          "scattercarpet": [
           {
            "marker": {
             "colorbar": {
              "outlinewidth": 0,
              "ticks": ""
             }
            },
            "type": "scattercarpet"
           }
          ],
          "scattergeo": [
           {
            "marker": {
             "colorbar": {
              "outlinewidth": 0,
              "ticks": ""
             }
            },
            "type": "scattergeo"
           }
          ],
          "scattergl": [
           {
            "marker": {
             "colorbar": {
              "outlinewidth": 0,
              "ticks": ""
             }
            },
            "type": "scattergl"
           }
          ],
          "scattermap": [
           {
            "marker": {
             "colorbar": {
              "outlinewidth": 0,
              "ticks": ""
             }
            },
            "type": "scattermap"
           }
          ],
          "scattermapbox": [
           {
            "marker": {
             "colorbar": {
              "outlinewidth": 0,
              "ticks": ""
             }
            },
            "type": "scattermapbox"
           }
          ],
          "scatterpolar": [
           {
            "marker": {
             "colorbar": {
              "outlinewidth": 0,
              "ticks": ""
             }
            },
            "type": "scatterpolar"
           }
          ],
          "scatterpolargl": [
           {
            "marker": {
             "colorbar": {
              "outlinewidth": 0,
              "ticks": ""
             }
            },
            "type": "scatterpolargl"
           }
          ],
          "scatterternary": [
           {
            "marker": {
             "colorbar": {
              "outlinewidth": 0,
              "ticks": ""
             }
            },
            "type": "scatterternary"
           }
          ],
          "surface": [
           {
            "colorbar": {
             "outlinewidth": 0,
             "ticks": ""
            },
            "colorscale": [
             [
              0,
              "#0d0887"
             ],
             [
              0.1111111111111111,
              "#46039f"
             ],
             [
              0.2222222222222222,
              "#7201a8"
             ],
             [
              0.3333333333333333,
              "#9c179e"
             ],
             [
              0.4444444444444444,
              "#bd3786"
             ],
             [
              0.5555555555555556,
              "#d8576b"
             ],
             [
              0.6666666666666666,
              "#ed7953"
             ],
             [
              0.7777777777777778,
              "#fb9f3a"
             ],
             [
              0.8888888888888888,
              "#fdca26"
             ],
             [
              1,
              "#f0f921"
             ]
            ],
            "type": "surface"
           }
          ],
          "table": [
           {
            "cells": {
             "fill": {
              "color": "#EBF0F8"
             },
             "line": {
              "color": "white"
             }
            },
            "header": {
             "fill": {
              "color": "#C8D4E3"
             },
             "line": {
              "color": "white"
             }
            },
            "type": "table"
           }
          ]
         },
         "layout": {
          "annotationdefaults": {
           "arrowcolor": "#2a3f5f",
           "arrowhead": 0,
           "arrowwidth": 1
          },
          "autotypenumbers": "strict",
          "coloraxis": {
           "colorbar": {
            "outlinewidth": 0,
            "ticks": ""
           }
          },
          "colorscale": {
           "diverging": [
            [
             0,
             "#8e0152"
            ],
            [
             0.1,
             "#c51b7d"
            ],
            [
             0.2,
             "#de77ae"
            ],
            [
             0.3,
             "#f1b6da"
            ],
            [
             0.4,
             "#fde0ef"
            ],
            [
             0.5,
             "#f7f7f7"
            ],
            [
             0.6,
             "#e6f5d0"
            ],
            [
             0.7,
             "#b8e186"
            ],
            [
             0.8,
             "#7fbc41"
            ],
            [
             0.9,
             "#4d9221"
            ],
            [
             1,
             "#276419"
            ]
           ],
           "sequential": [
            [
             0,
             "#0d0887"
            ],
            [
             0.1111111111111111,
             "#46039f"
            ],
            [
             0.2222222222222222,
             "#7201a8"
            ],
            [
             0.3333333333333333,
             "#9c179e"
            ],
            [
             0.4444444444444444,
             "#bd3786"
            ],
            [
             0.5555555555555556,
             "#d8576b"
            ],
            [
             0.6666666666666666,
             "#ed7953"
            ],
            [
             0.7777777777777778,
             "#fb9f3a"
            ],
            [
             0.8888888888888888,
             "#fdca26"
            ],
            [
             1,
             "#f0f921"
            ]
           ],
           "sequentialminus": [
            [
             0,
             "#0d0887"
            ],
            [
             0.1111111111111111,
             "#46039f"
            ],
            [
             0.2222222222222222,
             "#7201a8"
            ],
            [
             0.3333333333333333,
             "#9c179e"
            ],
            [
             0.4444444444444444,
             "#bd3786"
            ],
            [
             0.5555555555555556,
             "#d8576b"
            ],
            [
             0.6666666666666666,
             "#ed7953"
            ],
            [
             0.7777777777777778,
             "#fb9f3a"
            ],
            [
             0.8888888888888888,
             "#fdca26"
            ],
            [
             1,
             "#f0f921"
            ]
           ]
          },
          "colorway": [
           "#636efa",
           "#EF553B",
           "#00cc96",
           "#ab63fa",
           "#FFA15A",
           "#19d3f3",
           "#FF6692",
           "#B6E880",
           "#FF97FF",
           "#FECB52"
          ],
          "font": {
           "color": "#2a3f5f"
          },
          "geo": {
           "bgcolor": "white",
           "lakecolor": "white",
           "landcolor": "#E5ECF6",
           "showlakes": true,
           "showland": true,
           "subunitcolor": "white"
          },
          "hoverlabel": {
           "align": "left"
          },
          "hovermode": "closest",
          "mapbox": {
           "style": "light"
          },
          "paper_bgcolor": "white",
          "plot_bgcolor": "#E5ECF6",
          "polar": {
           "angularaxis": {
            "gridcolor": "white",
            "linecolor": "white",
            "ticks": ""
           },
           "bgcolor": "#E5ECF6",
           "radialaxis": {
            "gridcolor": "white",
            "linecolor": "white",
            "ticks": ""
           }
          },
          "scene": {
           "xaxis": {
            "backgroundcolor": "#E5ECF6",
            "gridcolor": "white",
            "gridwidth": 2,
            "linecolor": "white",
            "showbackground": true,
            "ticks": "",
            "zerolinecolor": "white"
           },
           "yaxis": {
            "backgroundcolor": "#E5ECF6",
            "gridcolor": "white",
            "gridwidth": 2,
            "linecolor": "white",
            "showbackground": true,
            "ticks": "",
            "zerolinecolor": "white"
           },
           "zaxis": {
            "backgroundcolor": "#E5ECF6",
            "gridcolor": "white",
            "gridwidth": 2,
            "linecolor": "white",
            "showbackground": true,
            "ticks": "",
            "zerolinecolor": "white"
           }
          },
          "shapedefaults": {
           "line": {
            "color": "#2a3f5f"
           }
          },
          "ternary": {
           "aaxis": {
            "gridcolor": "white",
            "linecolor": "white",
            "ticks": ""
           },
           "baxis": {
            "gridcolor": "white",
            "linecolor": "white",
            "ticks": ""
           },
           "bgcolor": "#E5ECF6",
           "caxis": {
            "gridcolor": "white",
            "linecolor": "white",
            "ticks": ""
           }
          },
          "title": {
           "x": 0.05
          },
          "xaxis": {
           "automargin": true,
           "gridcolor": "white",
           "linecolor": "white",
           "ticks": "",
           "title": {
            "standoff": 15
           },
           "zerolinecolor": "white",
           "zerolinewidth": 2
          },
          "yaxis": {
           "automargin": true,
           "gridcolor": "white",
           "linecolor": "white",
           "ticks": "",
           "title": {
            "standoff": 15
           },
           "zerolinecolor": "white",
           "zerolinewidth": 2
          }
         }
        },
        "title": {
         "text": "Path patching results H39.12 Value"
        },
        "width": 800,
        "xaxis": {
         "anchor": "y",
         "constrain": "domain",
         "domain": [
          0,
          1
         ],
         "scaleanchor": "y",
         "title": {
          "text": "Layer"
         }
        },
        "yaxis": {
         "anchor": "x",
         "autorange": "reversed",
         "constrain": "domain",
         "domain": [
          0,
          1
         ],
         "title": {
          "text": "Head"
         }
        }
       }
      }
     },
     "metadata": {},
     "output_type": "display_data"
    },
    {
     "data": {
      "application/vnd.plotly.v1+json": {
       "config": {
        "plotlyServerURL": "https://plot.ly",
        "staticPlot": false
       },
       "data": [
        {
         "coloraxis": "coloraxis",
         "hovertemplate": "Layer: %{x}<br>Head: %{y}<br>Logit diff. variation: %{z}<extra></extra>",
         "name": "0",
         "type": "heatmap",
         "xaxis": "x",
         "yaxis": "y",
         "z": {
          "bdata": "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",
          "dtype": "f4",
          "shape": "16, 42"
         }
        }
       ],
       "layout": {
        "coloraxis": {
         "cmid": 0,
         "colorbar": {
          "ticksuffix": "%",
          "title": {
           "text": "Logit diff. variation"
          }
         },
         "colorscale": [
          [
           0,
           "rgb(103,0,31)"
          ],
          [
           0.1,
           "rgb(178,24,43)"
          ],
          [
           0.2,
           "rgb(214,96,77)"
          ],
          [
           0.3,
           "rgb(244,165,130)"
          ],
          [
           0.4,
           "rgb(253,219,199)"
          ],
          [
           0.5,
           "rgb(247,247,247)"
          ],
          [
           0.6,
           "rgb(209,229,240)"
          ],
          [
           0.7,
           "rgb(146,197,222)"
          ],
          [
           0.8,
           "rgb(67,147,195)"
          ],
          [
           0.9,
           "rgb(33,102,172)"
          ],
          [
           1,
           "rgb(5,48,97)"
          ]
         ]
        },
        "height": 400,
        "template": {
         "data": {
          "bar": [
           {
            "error_x": {
             "color": "#2a3f5f"
            },
            "error_y": {
             "color": "#2a3f5f"
            },
            "marker": {
             "line": {
              "color": "#E5ECF6",
              "width": 0.5
             },
             "pattern": {
              "fillmode": "overlay",
              "size": 10,
              "solidity": 0.2
             }
            },
            "type": "bar"
           }
          ],
          "barpolar": [
           {
            "marker": {
             "line": {
              "color": "#E5ECF6",
              "width": 0.5
             },
             "pattern": {
              "fillmode": "overlay",
              "size": 10,
              "solidity": 0.2
             }
            },
            "type": "barpolar"
           }
          ],
          "carpet": [
           {
            "aaxis": {
             "endlinecolor": "#2a3f5f",
             "gridcolor": "white",
             "linecolor": "white",
             "minorgridcolor": "white",
             "startlinecolor": "#2a3f5f"
            },
            "baxis": {
             "endlinecolor": "#2a3f5f",
             "gridcolor": "white",
             "linecolor": "white",
             "minorgridcolor": "white",
             "startlinecolor": "#2a3f5f"
            },
            "type": "carpet"
           }
          ],
          "choropleth": [
           {
            "colorbar": {
             "outlinewidth": 0,
             "ticks": ""
            },
            "type": "choropleth"
           }
          ],
          "contour": [
           {
            "colorbar": {
             "outlinewidth": 0,
             "ticks": ""
            },
            "colorscale": [
             [
              0,
              "#0d0887"
             ],
             [
              0.1111111111111111,
              "#46039f"
             ],
             [
              0.2222222222222222,
              "#7201a8"
             ],
             [
              0.3333333333333333,
              "#9c179e"
             ],
             [
              0.4444444444444444,
              "#bd3786"
             ],
             [
              0.5555555555555556,
              "#d8576b"
             ],
             [
              0.6666666666666666,
              "#ed7953"
             ],
             [
              0.7777777777777778,
              "#fb9f3a"
             ],
             [
              0.8888888888888888,
              "#fdca26"
             ],
             [
              1,
              "#f0f921"
             ]
            ],
            "type": "contour"
           }
          ],
          "contourcarpet": [
           {
            "colorbar": {
             "outlinewidth": 0,
             "ticks": ""
            },
            "type": "contourcarpet"
           }
          ],
          "heatmap": [
           {
            "colorbar": {
             "outlinewidth": 0,
             "ticks": ""
            },
            "colorscale": [
             [
              0,
              "#0d0887"
             ],
             [
              0.1111111111111111,
              "#46039f"
             ],
             [
              0.2222222222222222,
              "#7201a8"
             ],
             [
              0.3333333333333333,
              "#9c179e"
             ],
             [
              0.4444444444444444,
              "#bd3786"
             ],
             [
              0.5555555555555556,
              "#d8576b"
             ],
             [
              0.6666666666666666,
              "#ed7953"
             ],
             [
              0.7777777777777778,
              "#fb9f3a"
             ],
             [
              0.8888888888888888,
              "#fdca26"
             ],
             [
              1,
              "#f0f921"
             ]
            ],
            "type": "heatmap"
           }
          ],
          "histogram": [
           {
            "marker": {
             "pattern": {
              "fillmode": "overlay",
              "size": 10,
              "solidity": 0.2
             }
            },
            "type": "histogram"
           }
          ],
          "histogram2d": [
           {
            "colorbar": {
             "outlinewidth": 0,
             "ticks": ""
            },
            "colorscale": [
             [
              0,
              "#0d0887"
             ],
             [
              0.1111111111111111,
              "#46039f"
             ],
             [
              0.2222222222222222,
              "#7201a8"
             ],
             [
              0.3333333333333333,
              "#9c179e"
             ],
             [
              0.4444444444444444,
              "#bd3786"
             ],
             [
              0.5555555555555556,
              "#d8576b"
             ],
             [
              0.6666666666666666,
              "#ed7953"
             ],
             [
              0.7777777777777778,
              "#fb9f3a"
             ],
             [
              0.8888888888888888,
              "#fdca26"
             ],
             [
              1,
              "#f0f921"
             ]
            ],
            "type": "histogram2d"
           }
          ],
          "histogram2dcontour": [
           {
            "colorbar": {
             "outlinewidth": 0,
             "ticks": ""
            },
            "colorscale": [
             [
              0,
              "#0d0887"
             ],
             [
              0.1111111111111111,
              "#46039f"
             ],
             [
              0.2222222222222222,
              "#7201a8"
             ],
             [
              0.3333333333333333,
              "#9c179e"
             ],
             [
              0.4444444444444444,
              "#bd3786"
             ],
             [
              0.5555555555555556,
              "#d8576b"
             ],
             [
              0.6666666666666666,
              "#ed7953"
             ],
             [
              0.7777777777777778,
              "#fb9f3a"
             ],
             [
              0.8888888888888888,
              "#fdca26"
             ],
             [
              1,
              "#f0f921"
             ]
            ],
            "type": "histogram2dcontour"
           }
          ],
          "mesh3d": [
           {
            "colorbar": {
             "outlinewidth": 0,
             "ticks": ""
            },
            "type": "mesh3d"
           }
          ],
          "parcoords": [
           {
            "line": {
             "colorbar": {
              "outlinewidth": 0,
              "ticks": ""
             }
            },
            "type": "parcoords"
           }
          ],
          "pie": [
           {
            "automargin": true,
            "type": "pie"
           }
          ],
          "scatter": [
           {
            "fillpattern": {
             "fillmode": "overlay",
             "size": 10,
             "solidity": 0.2
            },
            "type": "scatter"
           }
          ],
          "scatter3d": [
           {
            "line": {
             "colorbar": {
              "outlinewidth": 0,
              "ticks": ""
             }
            },
            "marker": {
             "colorbar": {
              "outlinewidth": 0,
              "ticks": ""
             }
            },
            "type": "scatter3d"
           }
          ],
          "scattercarpet": [
           {
            "marker": {
             "colorbar": {
              "outlinewidth": 0,
              "ticks": ""
             }
            },
            "type": "scattercarpet"
           }
          ],
          "scattergeo": [
           {
            "marker": {
             "colorbar": {
              "outlinewidth": 0,
              "ticks": ""
             }
            },
            "type": "scattergeo"
           }
          ],
          "scattergl": [
           {
            "marker": {
             "colorbar": {
              "outlinewidth": 0,
              "ticks": ""
             }
            },
            "type": "scattergl"
           }
          ],
          "scattermap": [
           {
            "marker": {
             "colorbar": {
              "outlinewidth": 0,
              "ticks": ""
             }
            },
            "type": "scattermap"
           }
          ],
          "scattermapbox": [
           {
            "marker": {
             "colorbar": {
              "outlinewidth": 0,
              "ticks": ""
             }
            },
            "type": "scattermapbox"
           }
          ],
          "scatterpolar": [
           {
            "marker": {
             "colorbar": {
              "outlinewidth": 0,
              "ticks": ""
             }
            },
            "type": "scatterpolar"
           }
          ],
          "scatterpolargl": [
           {
            "marker": {
             "colorbar": {
              "outlinewidth": 0,
              "ticks": ""
             }
            },
            "type": "scatterpolargl"
           }
          ],
          "scatterternary": [
           {
            "marker": {
             "colorbar": {
              "outlinewidth": 0,
              "ticks": ""
             }
            },
            "type": "scatterternary"
           }
          ],
          "surface": [
           {
            "colorbar": {
             "outlinewidth": 0,
             "ticks": ""
            },
            "colorscale": [
             [
              0,
              "#0d0887"
             ],
             [
              0.1111111111111111,
              "#46039f"
             ],
             [
              0.2222222222222222,
              "#7201a8"
             ],
             [
              0.3333333333333333,
              "#9c179e"
             ],
             [
              0.4444444444444444,
              "#bd3786"
             ],
             [
              0.5555555555555556,
              "#d8576b"
             ],
             [
              0.6666666666666666,
              "#ed7953"
             ],
             [
              0.7777777777777778,
              "#fb9f3a"
             ],
             [
              0.8888888888888888,
              "#fdca26"
             ],
             [
              1,
              "#f0f921"
             ]
            ],
            "type": "surface"
           }
          ],
          "table": [
           {
            "cells": {
             "fill": {
              "color": "#EBF0F8"
             },
             "line": {
              "color": "white"
             }
            },
            "header": {
             "fill": {
              "color": "#C8D4E3"
             },
             "line": {
              "color": "white"
             }
            },
            "type": "table"
           }
          ]
         },
         "layout": {
          "annotationdefaults": {
           "arrowcolor": "#2a3f5f",
           "arrowhead": 0,
           "arrowwidth": 1
          },
          "autotypenumbers": "strict",
          "coloraxis": {
           "colorbar": {
            "outlinewidth": 0,
            "ticks": ""
           }
          },
          "colorscale": {
           "diverging": [
            [
             0,
             "#8e0152"
            ],
            [
             0.1,
             "#c51b7d"
            ],
            [
             0.2,
             "#de77ae"
            ],
            [
             0.3,
             "#f1b6da"
            ],
            [
             0.4,
             "#fde0ef"
            ],
            [
             0.5,
             "#f7f7f7"
            ],
            [
             0.6,
             "#e6f5d0"
            ],
            [
             0.7,
             "#b8e186"
            ],
            [
             0.8,
             "#7fbc41"
            ],
            [
             0.9,
             "#4d9221"
            ],
            [
             1,
             "#276419"
            ]
           ],
           "sequential": [
            [
             0,
             "#0d0887"
            ],
            [
             0.1111111111111111,
             "#46039f"
            ],
            [
             0.2222222222222222,
             "#7201a8"
            ],
            [
             0.3333333333333333,
             "#9c179e"
            ],
            [
             0.4444444444444444,
             "#bd3786"
            ],
            [
             0.5555555555555556,
             "#d8576b"
            ],
            [
             0.6666666666666666,
             "#ed7953"
            ],
            [
             0.7777777777777778,
             "#fb9f3a"
            ],
            [
             0.8888888888888888,
             "#fdca26"
            ],
            [
             1,
             "#f0f921"
            ]
           ],
           "sequentialminus": [
            [
             0,
             "#0d0887"
            ],
            [
             0.1111111111111111,
             "#46039f"
            ],
            [
             0.2222222222222222,
             "#7201a8"
            ],
            [
             0.3333333333333333,
             "#9c179e"
            ],
            [
             0.4444444444444444,
             "#bd3786"
            ],
            [
             0.5555555555555556,
             "#d8576b"
            ],
            [
             0.6666666666666666,
             "#ed7953"
            ],
            [
             0.7777777777777778,
             "#fb9f3a"
            ],
            [
             0.8888888888888888,
             "#fdca26"
            ],
            [
             1,
             "#f0f921"
            ]
           ]
          },
          "colorway": [
           "#636efa",
           "#EF553B",
           "#00cc96",
           "#ab63fa",
           "#FFA15A",
           "#19d3f3",
           "#FF6692",
           "#B6E880",
           "#FF97FF",
           "#FECB52"
          ],
          "font": {
           "color": "#2a3f5f"
          },
          "geo": {
           "bgcolor": "white",
           "lakecolor": "white",
           "landcolor": "#E5ECF6",
           "showlakes": true,
           "showland": true,
           "subunitcolor": "white"
          },
          "hoverlabel": {
           "align": "left"
          },
          "hovermode": "closest",
          "mapbox": {
           "style": "light"
          },
          "paper_bgcolor": "white",
          "plot_bgcolor": "#E5ECF6",
          "polar": {
           "angularaxis": {
            "gridcolor": "white",
            "linecolor": "white",
            "ticks": ""
           },
           "bgcolor": "#E5ECF6",
           "radialaxis": {
            "gridcolor": "white",
            "linecolor": "white",
            "ticks": ""
           }
          },
          "scene": {
           "xaxis": {
            "backgroundcolor": "#E5ECF6",
            "gridcolor": "white",
            "gridwidth": 2,
            "linecolor": "white",
            "showbackground": true,
            "ticks": "",
            "zerolinecolor": "white"
           },
           "yaxis": {
            "backgroundcolor": "#E5ECF6",
            "gridcolor": "white",
            "gridwidth": 2,
            "linecolor": "white",
            "showbackground": true,
            "ticks": "",
            "zerolinecolor": "white"
           },
           "zaxis": {
            "backgroundcolor": "#E5ECF6",
            "gridcolor": "white",
            "gridwidth": 2,
            "linecolor": "white",
            "showbackground": true,
            "ticks": "",
            "zerolinecolor": "white"
           }
          },
          "shapedefaults": {
           "line": {
            "color": "#2a3f5f"
           }
          },
          "ternary": {
           "aaxis": {
            "gridcolor": "white",
            "linecolor": "white",
            "ticks": ""
           },
           "baxis": {
            "gridcolor": "white",
            "linecolor": "white",
            "ticks": ""
           },
           "bgcolor": "#E5ECF6",
           "caxis": {
            "gridcolor": "white",
            "linecolor": "white",
            "ticks": ""
           }
          },
          "title": {
           "x": 0.05
          },
          "xaxis": {
           "automargin": true,
           "gridcolor": "white",
           "linecolor": "white",
           "ticks": "",
           "title": {
            "standoff": 15
           },
           "zerolinecolor": "white",
           "zerolinewidth": 2
          },
          "yaxis": {
           "automargin": true,
           "gridcolor": "white",
           "linecolor": "white",
           "ticks": "",
           "title": {
            "standoff": 15
           },
           "zerolinecolor": "white",
           "zerolinewidth": 2
          }
         }
        },
        "title": {
         "text": "Path patching results H39.7 Value"
        },
        "width": 800,
        "xaxis": {
         "anchor": "y",
         "constrain": "domain",
         "domain": [
          0,
          1
         ],
         "scaleanchor": "y",
         "title": {
          "text": "Layer"
         }
        },
        "yaxis": {
         "anchor": "x",
         "autorange": "reversed",
         "constrain": "domain",
         "domain": [
          0,
          1
         ],
         "title": {
          "text": "Head"
         }
        }
       }
      }
     },
     "metadata": {},
     "output_type": "display_data"
    },
    {
     "data": {
      "application/vnd.plotly.v1+json": {
       "config": {
        "plotlyServerURL": "https://plot.ly",
        "staticPlot": false
       },
       "data": [
        {
         "coloraxis": "coloraxis",
         "hovertemplate": "Layer: %{x}<br>Head: %{y}<br>Logit diff. variation: %{z}<extra></extra>",
         "name": "0",
         "type": "heatmap",
         "xaxis": "x",
         "yaxis": "y",
         "z": {
          "bdata": "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",
          "dtype": "f4",
          "shape": "16, 42"
         }
        }
       ],
       "layout": {
        "coloraxis": {
         "cmid": 0,
         "colorbar": {
          "ticksuffix": "%",
          "title": {
           "text": "Logit diff. variation"
          }
         },
         "colorscale": [
          [
           0,
           "rgb(103,0,31)"
          ],
          [
           0.1,
           "rgb(178,24,43)"
          ],
          [
           0.2,
           "rgb(214,96,77)"
          ],
          [
           0.3,
           "rgb(244,165,130)"
          ],
          [
           0.4,
           "rgb(253,219,199)"
          ],
          [
           0.5,
           "rgb(247,247,247)"
          ],
          [
           0.6,
           "rgb(209,229,240)"
          ],
          [
           0.7,
           "rgb(146,197,222)"
          ],
          [
           0.8,
           "rgb(67,147,195)"
          ],
          [
           0.9,
           "rgb(33,102,172)"
          ],
          [
           1,
           "rgb(5,48,97)"
          ]
         ]
        },
        "height": 400,
        "template": {
         "data": {
          "bar": [
           {
            "error_x": {
             "color": "#2a3f5f"
            },
            "error_y": {
             "color": "#2a3f5f"
            },
            "marker": {
             "line": {
              "color": "#E5ECF6",
              "width": 0.5
             },
             "pattern": {
              "fillmode": "overlay",
              "size": 10,
              "solidity": 0.2
             }
            },
            "type": "bar"
           }
          ],
          "barpolar": [
           {
            "marker": {
             "line": {
              "color": "#E5ECF6",
              "width": 0.5
             },
             "pattern": {
              "fillmode": "overlay",
              "size": 10,
              "solidity": 0.2
             }
            },
            "type": "barpolar"
           }
          ],
          "carpet": [
           {
            "aaxis": {
             "endlinecolor": "#2a3f5f",
             "gridcolor": "white",
             "linecolor": "white",
             "minorgridcolor": "white",
             "startlinecolor": "#2a3f5f"
            },
            "baxis": {
             "endlinecolor": "#2a3f5f",
             "gridcolor": "white",
             "linecolor": "white",
             "minorgridcolor": "white",
             "startlinecolor": "#2a3f5f"
            },
            "type": "carpet"
           }
          ],
          "choropleth": [
           {
            "colorbar": {
             "outlinewidth": 0,
             "ticks": ""
            },
            "type": "choropleth"
           }
          ],
          "contour": [
           {
            "colorbar": {
             "outlinewidth": 0,
             "ticks": ""
            },
            "colorscale": [
             [
              0,
              "#0d0887"
             ],
             [
              0.1111111111111111,
              "#46039f"
             ],
             [
              0.2222222222222222,
              "#7201a8"
             ],
             [
              0.3333333333333333,
              "#9c179e"
             ],
             [
              0.4444444444444444,
              "#bd3786"
             ],
             [
              0.5555555555555556,
              "#d8576b"
             ],
             [
              0.6666666666666666,
              "#ed7953"
             ],
             [
              0.7777777777777778,
              "#fb9f3a"
             ],
             [
              0.8888888888888888,
              "#fdca26"
             ],
             [
              1,
              "#f0f921"
             ]
            ],
            "type": "contour"
           }
          ],
          "contourcarpet": [
           {
            "colorbar": {
             "outlinewidth": 0,
             "ticks": ""
            },
            "type": "contourcarpet"
           }
          ],
          "heatmap": [
           {
            "colorbar": {
             "outlinewidth": 0,
             "ticks": ""
            },
            "colorscale": [
             [
              0,
              "#0d0887"
             ],
             [
              0.1111111111111111,
              "#46039f"
             ],
             [
              0.2222222222222222,
              "#7201a8"
             ],
             [
              0.3333333333333333,
              "#9c179e"
             ],
             [
              0.4444444444444444,
              "#bd3786"
             ],
             [
              0.5555555555555556,
              "#d8576b"
             ],
             [
              0.6666666666666666,
              "#ed7953"
             ],
             [
              0.7777777777777778,
              "#fb9f3a"
             ],
             [
              0.8888888888888888,
              "#fdca26"
             ],
             [
              1,
              "#f0f921"
             ]
            ],
            "type": "heatmap"
           }
          ],
          "histogram": [
           {
            "marker": {
             "pattern": {
              "fillmode": "overlay",
              "size": 10,
              "solidity": 0.2
             }
            },
            "type": "histogram"
           }
          ],
          "histogram2d": [
           {
            "colorbar": {
             "outlinewidth": 0,
             "ticks": ""
            },
            "colorscale": [
             [
              0,
              "#0d0887"
             ],
             [
              0.1111111111111111,
              "#46039f"
             ],
             [
              0.2222222222222222,
              "#7201a8"
             ],
             [
              0.3333333333333333,
              "#9c179e"
             ],
             [
              0.4444444444444444,
              "#bd3786"
             ],
             [
              0.5555555555555556,
              "#d8576b"
             ],
             [
              0.6666666666666666,
              "#ed7953"
             ],
             [
              0.7777777777777778,
              "#fb9f3a"
             ],
             [
              0.8888888888888888,
              "#fdca26"
             ],
             [
              1,
              "#f0f921"
             ]
            ],
            "type": "histogram2d"
           }
          ],
          "histogram2dcontour": [
           {
            "colorbar": {
             "outlinewidth": 0,
             "ticks": ""
            },
            "colorscale": [
             [
              0,
              "#0d0887"
             ],
             [
              0.1111111111111111,
              "#46039f"
             ],
             [
              0.2222222222222222,
              "#7201a8"
             ],
             [
              0.3333333333333333,
              "#9c179e"
             ],
             [
              0.4444444444444444,
              "#bd3786"
             ],
             [
              0.5555555555555556,
              "#d8576b"
             ],
             [
              0.6666666666666666,
              "#ed7953"
             ],
             [
              0.7777777777777778,
              "#fb9f3a"
             ],
             [
              0.8888888888888888,
              "#fdca26"
             ],
             [
              1,
              "#f0f921"
             ]
            ],
            "type": "histogram2dcontour"
           }
          ],
          "mesh3d": [
           {
            "colorbar": {
             "outlinewidth": 0,
             "ticks": ""
            },
            "type": "mesh3d"
           }
          ],
          "parcoords": [
           {
            "line": {
             "colorbar": {
              "outlinewidth": 0,
              "ticks": ""
             }
            },
            "type": "parcoords"
           }
          ],
          "pie": [
           {
            "automargin": true,
            "type": "pie"
           }
          ],
          "scatter": [
           {
            "fillpattern": {
             "fillmode": "overlay",
             "size": 10,
             "solidity": 0.2
            },
            "type": "scatter"
           }
          ],
          "scatter3d": [
           {
            "line": {
             "colorbar": {
              "outlinewidth": 0,
              "ticks": ""
             }
            },
            "marker": {
             "colorbar": {
              "outlinewidth": 0,
              "ticks": ""
             }
            },
            "type": "scatter3d"
           }
          ],
          "scattercarpet": [
           {
            "marker": {
             "colorbar": {
              "outlinewidth": 0,
              "ticks": ""
             }
            },
            "type": "scattercarpet"
           }
          ],
          "scattergeo": [
           {
            "marker": {
             "colorbar": {
              "outlinewidth": 0,
              "ticks": ""
             }
            },
            "type": "scattergeo"
           }
          ],
          "scattergl": [
           {
            "marker": {
             "colorbar": {
              "outlinewidth": 0,
              "ticks": ""
             }
            },
            "type": "scattergl"
           }
          ],
          "scattermap": [
           {
            "marker": {
             "colorbar": {
              "outlinewidth": 0,
              "ticks": ""
             }
            },
            "type": "scattermap"
           }
          ],
          "scattermapbox": [
           {
            "marker": {
             "colorbar": {
              "outlinewidth": 0,
              "ticks": ""
             }
            },
            "type": "scattermapbox"
           }
          ],
          "scatterpolar": [
           {
            "marker": {
             "colorbar": {
              "outlinewidth": 0,
              "ticks": ""
             }
            },
            "type": "scatterpolar"
           }
          ],
          "scatterpolargl": [
           {
            "marker": {
             "colorbar": {
              "outlinewidth": 0,
              "ticks": ""
             }
            },
            "type": "scatterpolargl"
           }
          ],
          "scatterternary": [
           {
            "marker": {
             "colorbar": {
              "outlinewidth": 0,
              "ticks": ""
             }
            },
            "type": "scatterternary"
           }
          ],
          "surface": [
           {
            "colorbar": {
             "outlinewidth": 0,
             "ticks": ""
            },
            "colorscale": [
             [
              0,
              "#0d0887"
             ],
             [
              0.1111111111111111,
              "#46039f"
             ],
             [
              0.2222222222222222,
              "#7201a8"
             ],
             [
              0.3333333333333333,
              "#9c179e"
             ],
             [
              0.4444444444444444,
              "#bd3786"
             ],
             [
              0.5555555555555556,
              "#d8576b"
             ],
             [
              0.6666666666666666,
              "#ed7953"
             ],
             [
              0.7777777777777778,
              "#fb9f3a"
             ],
             [
              0.8888888888888888,
              "#fdca26"
             ],
             [
              1,
              "#f0f921"
             ]
            ],
            "type": "surface"
           }
          ],
          "table": [
           {
            "cells": {
             "fill": {
              "color": "#EBF0F8"
             },
             "line": {
              "color": "white"
             }
            },
            "header": {
             "fill": {
              "color": "#C8D4E3"
             },
             "line": {
              "color": "white"
             }
            },
            "type": "table"
           }
          ]
         },
         "layout": {
          "annotationdefaults": {
           "arrowcolor": "#2a3f5f",
           "arrowhead": 0,
           "arrowwidth": 1
          },
          "autotypenumbers": "strict",
          "coloraxis": {
           "colorbar": {
            "outlinewidth": 0,
            "ticks": ""
           }
          },
          "colorscale": {
           "diverging": [
            [
             0,
             "#8e0152"
            ],
            [
             0.1,
             "#c51b7d"
            ],
            [
             0.2,
             "#de77ae"
            ],
            [
             0.3,
             "#f1b6da"
            ],
            [
             0.4,
             "#fde0ef"
            ],
            [
             0.5,
             "#f7f7f7"
            ],
            [
             0.6,
             "#e6f5d0"
            ],
            [
             0.7,
             "#b8e186"
            ],
            [
             0.8,
             "#7fbc41"
            ],
            [
             0.9,
             "#4d9221"
            ],
            [
             1,
             "#276419"
            ]
           ],
           "sequential": [
            [
             0,
             "#0d0887"
            ],
            [
             0.1111111111111111,
             "#46039f"
            ],
            [
             0.2222222222222222,
             "#7201a8"
            ],
            [
             0.3333333333333333,
             "#9c179e"
            ],
            [
             0.4444444444444444,
             "#bd3786"
            ],
            [
             0.5555555555555556,
             "#d8576b"
            ],
            [
             0.6666666666666666,
             "#ed7953"
            ],
            [
             0.7777777777777778,
             "#fb9f3a"
            ],
            [
             0.8888888888888888,
             "#fdca26"
            ],
            [
             1,
             "#f0f921"
            ]
           ],
           "sequentialminus": [
            [
             0,
             "#0d0887"
            ],
            [
             0.1111111111111111,
             "#46039f"
            ],
            [
             0.2222222222222222,
             "#7201a8"
            ],
            [
             0.3333333333333333,
             "#9c179e"
            ],
            [
             0.4444444444444444,
             "#bd3786"
            ],
            [
             0.5555555555555556,
             "#d8576b"
            ],
            [
             0.6666666666666666,
             "#ed7953"
            ],
            [
             0.7777777777777778,
             "#fb9f3a"
            ],
            [
             0.8888888888888888,
             "#fdca26"
            ],
            [
             1,
             "#f0f921"
            ]
           ]
          },
          "colorway": [
           "#636efa",
           "#EF553B",
           "#00cc96",
           "#ab63fa",
           "#FFA15A",
           "#19d3f3",
           "#FF6692",
           "#B6E880",
           "#FF97FF",
           "#FECB52"
          ],
          "font": {
           "color": "#2a3f5f"
          },
          "geo": {
           "bgcolor": "white",
           "lakecolor": "white",
           "landcolor": "#E5ECF6",
           "showlakes": true,
           "showland": true,
           "subunitcolor": "white"
          },
          "hoverlabel": {
           "align": "left"
          },
          "hovermode": "closest",
          "mapbox": {
           "style": "light"
          },
          "paper_bgcolor": "white",
          "plot_bgcolor": "#E5ECF6",
          "polar": {
           "angularaxis": {
            "gridcolor": "white",
            "linecolor": "white",
            "ticks": ""
           },
           "bgcolor": "#E5ECF6",
           "radialaxis": {
            "gridcolor": "white",
            "linecolor": "white",
            "ticks": ""
           }
          },
          "scene": {
           "xaxis": {
            "backgroundcolor": "#E5ECF6",
            "gridcolor": "white",
            "gridwidth": 2,
            "linecolor": "white",
            "showbackground": true,
            "ticks": "",
            "zerolinecolor": "white"
           },
           "yaxis": {
            "backgroundcolor": "#E5ECF6",
            "gridcolor": "white",
            "gridwidth": 2,
            "linecolor": "white",
            "showbackground": true,
            "ticks": "",
            "zerolinecolor": "white"
           },
           "zaxis": {
            "backgroundcolor": "#E5ECF6",
            "gridcolor": "white",
            "gridwidth": 2,
            "linecolor": "white",
            "showbackground": true,
            "ticks": "",
            "zerolinecolor": "white"
           }
          },
          "shapedefaults": {
           "line": {
            "color": "#2a3f5f"
           }
          },
          "ternary": {
           "aaxis": {
            "gridcolor": "white",
            "linecolor": "white",
            "ticks": ""
           },
           "baxis": {
            "gridcolor": "white",
            "linecolor": "white",
            "ticks": ""
           },
           "bgcolor": "#E5ECF6",
           "caxis": {
            "gridcolor": "white",
            "linecolor": "white",
            "ticks": ""
           }
          },
          "title": {
           "x": 0.05
          },
          "xaxis": {
           "automargin": true,
           "gridcolor": "white",
           "linecolor": "white",
           "ticks": "",
           "title": {
            "standoff": 15
           },
           "zerolinecolor": "white",
           "zerolinewidth": 2
          },
          "yaxis": {
           "automargin": true,
           "gridcolor": "white",
           "linecolor": "white",
           "ticks": "",
           "title": {
            "standoff": 15
           },
           "zerolinecolor": "white",
           "zerolinewidth": 2
          }
         }
        },
        "title": {
         "text": "Path patching results H36.7 Value"
        },
        "width": 800,
        "xaxis": {
         "anchor": "y",
         "constrain": "domain",
         "domain": [
          0,
          1
         ],
         "scaleanchor": "y",
         "title": {
          "text": "Layer"
         }
        },
        "yaxis": {
         "anchor": "x",
         "autorange": "reversed",
         "constrain": "domain",
         "domain": [
          0,
          1
         ],
         "title": {
          "text": "Head"
         }
        }
       }
      }
     },
     "metadata": {},
     "output_type": "display_data"
    },
    {
     "data": {
      "application/vnd.plotly.v1+json": {
       "config": {
        "plotlyServerURL": "https://plot.ly",
        "staticPlot": false
       },
       "data": [
        {
         "coloraxis": "coloraxis",
         "hovertemplate": "Layer: %{x}<br>Head: %{y}<br>Logit diff. variation: %{z}<extra></extra>",
         "name": "0",
         "type": "heatmap",
         "xaxis": "x",
         "yaxis": "y",
         "z": {
          "bdata": "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",
          "dtype": "f4",
          "shape": "16, 42"
         }
        }
       ],
       "layout": {
        "coloraxis": {
         "cmid": 0,
         "colorbar": {
          "ticksuffix": "%",
          "title": {
           "text": "Logit diff. variation"
          }
         },
         "colorscale": [
          [
           0,
           "rgb(103,0,31)"
          ],
          [
           0.1,
           "rgb(178,24,43)"
          ],
          [
           0.2,
           "rgb(214,96,77)"
          ],
          [
           0.3,
           "rgb(244,165,130)"
          ],
          [
           0.4,
           "rgb(253,219,199)"
          ],
          [
           0.5,
           "rgb(247,247,247)"
          ],
          [
           0.6,
           "rgb(209,229,240)"
          ],
          [
           0.7,
           "rgb(146,197,222)"
          ],
          [
           0.8,
           "rgb(67,147,195)"
          ],
          [
           0.9,
           "rgb(33,102,172)"
          ],
          [
           1,
           "rgb(5,48,97)"
          ]
         ]
        },
        "height": 400,
        "template": {
         "data": {
          "bar": [
           {
            "error_x": {
             "color": "#2a3f5f"
            },
            "error_y": {
             "color": "#2a3f5f"
            },
            "marker": {
             "line": {
              "color": "#E5ECF6",
              "width": 0.5
             },
             "pattern": {
              "fillmode": "overlay",
              "size": 10,
              "solidity": 0.2
             }
            },
            "type": "bar"
           }
          ],
          "barpolar": [
           {
            "marker": {
             "line": {
              "color": "#E5ECF6",
              "width": 0.5
             },
             "pattern": {
              "fillmode": "overlay",
              "size": 10,
              "solidity": 0.2
             }
            },
            "type": "barpolar"
           }
          ],
          "carpet": [
           {
            "aaxis": {
             "endlinecolor": "#2a3f5f",
             "gridcolor": "white",
             "linecolor": "white",
             "minorgridcolor": "white",
             "startlinecolor": "#2a3f5f"
            },
            "baxis": {
             "endlinecolor": "#2a3f5f",
             "gridcolor": "white",
             "linecolor": "white",
             "minorgridcolor": "white",
             "startlinecolor": "#2a3f5f"
            },
            "type": "carpet"
           }
          ],
          "choropleth": [
           {
            "colorbar": {
             "outlinewidth": 0,
             "ticks": ""
            },
            "type": "choropleth"
           }
          ],
          "contour": [
           {
            "colorbar": {
             "outlinewidth": 0,
             "ticks": ""
            },
            "colorscale": [
             [
              0,
              "#0d0887"
             ],
             [
              0.1111111111111111,
              "#46039f"
             ],
             [
              0.2222222222222222,
              "#7201a8"
             ],
             [
              0.3333333333333333,
              "#9c179e"
             ],
             [
              0.4444444444444444,
              "#bd3786"
             ],
             [
              0.5555555555555556,
              "#d8576b"
             ],
             [
              0.6666666666666666,
              "#ed7953"
             ],
             [
              0.7777777777777778,
              "#fb9f3a"
             ],
             [
              0.8888888888888888,
              "#fdca26"
             ],
             [
              1,
              "#f0f921"
             ]
            ],
            "type": "contour"
           }
          ],
          "contourcarpet": [
           {
            "colorbar": {
             "outlinewidth": 0,
             "ticks": ""
            },
            "type": "contourcarpet"
           }
          ],
          "heatmap": [
           {
            "colorbar": {
             "outlinewidth": 0,
             "ticks": ""
            },
            "colorscale": [
             [
              0,
              "#0d0887"
             ],
             [
              0.1111111111111111,
              "#46039f"
             ],
             [
              0.2222222222222222,
              "#7201a8"
             ],
             [
              0.3333333333333333,
              "#9c179e"
             ],
             [
              0.4444444444444444,
              "#bd3786"
             ],
             [
              0.5555555555555556,
              "#d8576b"
             ],
             [
              0.6666666666666666,
              "#ed7953"
             ],
             [
              0.7777777777777778,
              "#fb9f3a"
             ],
             [
              0.8888888888888888,
              "#fdca26"
             ],
             [
              1,
              "#f0f921"
             ]
            ],
            "type": "heatmap"
           }
          ],
          "histogram": [
           {
            "marker": {
             "pattern": {
              "fillmode": "overlay",
              "size": 10,
              "solidity": 0.2
             }
            },
            "type": "histogram"
           }
          ],
          "histogram2d": [
           {
            "colorbar": {
             "outlinewidth": 0,
             "ticks": ""
            },
            "colorscale": [
             [
              0,
              "#0d0887"
             ],
             [
              0.1111111111111111,
              "#46039f"
             ],
             [
              0.2222222222222222,
              "#7201a8"
             ],
             [
              0.3333333333333333,
              "#9c179e"
             ],
             [
              0.4444444444444444,
              "#bd3786"
             ],
             [
              0.5555555555555556,
              "#d8576b"
             ],
             [
              0.6666666666666666,
              "#ed7953"
             ],
             [
              0.7777777777777778,
              "#fb9f3a"
             ],
             [
              0.8888888888888888,
              "#fdca26"
             ],
             [
              1,
              "#f0f921"
             ]
            ],
            "type": "histogram2d"
           }
          ],
          "histogram2dcontour": [
           {
            "colorbar": {
             "outlinewidth": 0,
             "ticks": ""
            },
            "colorscale": [
             [
              0,
              "#0d0887"
             ],
             [
              0.1111111111111111,
              "#46039f"
             ],
             [
              0.2222222222222222,
              "#7201a8"
             ],
             [
              0.3333333333333333,
              "#9c179e"
             ],
             [
              0.4444444444444444,
              "#bd3786"
             ],
             [
              0.5555555555555556,
              "#d8576b"
             ],
             [
              0.6666666666666666,
              "#ed7953"
             ],
             [
              0.7777777777777778,
              "#fb9f3a"
             ],
             [
              0.8888888888888888,
              "#fdca26"
             ],
             [
              1,
              "#f0f921"
             ]
            ],
            "type": "histogram2dcontour"
           }
          ],
          "mesh3d": [
           {
            "colorbar": {
             "outlinewidth": 0,
             "ticks": ""
            },
            "type": "mesh3d"
           }
          ],
          "parcoords": [
           {
            "line": {
             "colorbar": {
              "outlinewidth": 0,
              "ticks": ""
             }
            },
            "type": "parcoords"
           }
          ],
          "pie": [
           {
            "automargin": true,
            "type": "pie"
           }
          ],
          "scatter": [
           {
            "fillpattern": {
             "fillmode": "overlay",
             "size": 10,
             "solidity": 0.2
            },
            "type": "scatter"
           }
          ],
          "scatter3d": [
           {
            "line": {
             "colorbar": {
              "outlinewidth": 0,
              "ticks": ""
             }
            },
            "marker": {
             "colorbar": {
              "outlinewidth": 0,
              "ticks": ""
             }
            },
            "type": "scatter3d"
           }
          ],
          "scattercarpet": [
           {
            "marker": {
             "colorbar": {
              "outlinewidth": 0,
              "ticks": ""
             }
            },
            "type": "scattercarpet"
           }
          ],
          "scattergeo": [
           {
            "marker": {
             "colorbar": {
              "outlinewidth": 0,
              "ticks": ""
             }
            },
            "type": "scattergeo"
           }
          ],
          "scattergl": [
           {
            "marker": {
             "colorbar": {
              "outlinewidth": 0,
              "ticks": ""
             }
            },
            "type": "scattergl"
           }
          ],
          "scattermap": [
           {
            "marker": {
             "colorbar": {
              "outlinewidth": 0,
              "ticks": ""
             }
            },
            "type": "scattermap"
           }
          ],
          "scattermapbox": [
           {
            "marker": {
             "colorbar": {
              "outlinewidth": 0,
              "ticks": ""
             }
            },
            "type": "scattermapbox"
           }
          ],
          "scatterpolar": [
           {
            "marker": {
             "colorbar": {
              "outlinewidth": 0,
              "ticks": ""
             }
            },
            "type": "scatterpolar"
           }
          ],
          "scatterpolargl": [
           {
            "marker": {
             "colorbar": {
              "outlinewidth": 0,
              "ticks": ""
             }
            },
            "type": "scatterpolargl"
           }
          ],
          "scatterternary": [
           {
            "marker": {
             "colorbar": {
              "outlinewidth": 0,
              "ticks": ""
             }
            },
            "type": "scatterternary"
           }
          ],
          "surface": [
           {
            "colorbar": {
             "outlinewidth": 0,
             "ticks": ""
            },
            "colorscale": [
             [
              0,
              "#0d0887"
             ],
             [
              0.1111111111111111,
              "#46039f"
             ],
             [
              0.2222222222222222,
              "#7201a8"
             ],
             [
              0.3333333333333333,
              "#9c179e"
             ],
             [
              0.4444444444444444,
              "#bd3786"
             ],
             [
              0.5555555555555556,
              "#d8576b"
             ],
             [
              0.6666666666666666,
              "#ed7953"
             ],
             [
              0.7777777777777778,
              "#fb9f3a"
             ],
             [
              0.8888888888888888,
              "#fdca26"
             ],
             [
              1,
              "#f0f921"
             ]
            ],
            "type": "surface"
           }
          ],
          "table": [
           {
            "cells": {
             "fill": {
              "color": "#EBF0F8"
             },
             "line": {
              "color": "white"
             }
            },
            "header": {
             "fill": {
              "color": "#C8D4E3"
             },
             "line": {
              "color": "white"
             }
            },
            "type": "table"
           }
          ]
         },
         "layout": {
          "annotationdefaults": {
           "arrowcolor": "#2a3f5f",
           "arrowhead": 0,
           "arrowwidth": 1
          },
          "autotypenumbers": "strict",
          "coloraxis": {
           "colorbar": {
            "outlinewidth": 0,
            "ticks": ""
           }
          },
          "colorscale": {
           "diverging": [
            [
             0,
             "#8e0152"
            ],
            [
             0.1,
             "#c51b7d"
            ],
            [
             0.2,
             "#de77ae"
            ],
            [
             0.3,
             "#f1b6da"
            ],
            [
             0.4,
             "#fde0ef"
            ],
            [
             0.5,
             "#f7f7f7"
            ],
            [
             0.6,
             "#e6f5d0"
            ],
            [
             0.7,
             "#b8e186"
            ],
            [
             0.8,
             "#7fbc41"
            ],
            [
             0.9,
             "#4d9221"
            ],
            [
             1,
             "#276419"
            ]
           ],
           "sequential": [
            [
             0,
             "#0d0887"
            ],
            [
             0.1111111111111111,
             "#46039f"
            ],
            [
             0.2222222222222222,
             "#7201a8"
            ],
            [
             0.3333333333333333,
             "#9c179e"
            ],
            [
             0.4444444444444444,
             "#bd3786"
            ],
            [
             0.5555555555555556,
             "#d8576b"
            ],
            [
             0.6666666666666666,
             "#ed7953"
            ],
            [
             0.7777777777777778,
             "#fb9f3a"
            ],
            [
             0.8888888888888888,
             "#fdca26"
            ],
            [
             1,
             "#f0f921"
            ]
           ],
           "sequentialminus": [
            [
             0,
             "#0d0887"
            ],
            [
             0.1111111111111111,
             "#46039f"
            ],
            [
             0.2222222222222222,
             "#7201a8"
            ],
            [
             0.3333333333333333,
             "#9c179e"
            ],
            [
             0.4444444444444444,
             "#bd3786"
            ],
            [
             0.5555555555555556,
             "#d8576b"
            ],
            [
             0.6666666666666666,
             "#ed7953"
            ],
            [
             0.7777777777777778,
             "#fb9f3a"
            ],
            [
             0.8888888888888888,
             "#fdca26"
            ],
            [
             1,
             "#f0f921"
            ]
           ]
          },
          "colorway": [
           "#636efa",
           "#EF553B",
           "#00cc96",
           "#ab63fa",
           "#FFA15A",
           "#19d3f3",
           "#FF6692",
           "#B6E880",
           "#FF97FF",
           "#FECB52"
          ],
          "font": {
           "color": "#2a3f5f"
          },
          "geo": {
           "bgcolor": "white",
           "lakecolor": "white",
           "landcolor": "#E5ECF6",
           "showlakes": true,
           "showland": true,
           "subunitcolor": "white"
          },
          "hoverlabel": {
           "align": "left"
          },
          "hovermode": "closest",
          "mapbox": {
           "style": "light"
          },
          "paper_bgcolor": "white",
          "plot_bgcolor": "#E5ECF6",
          "polar": {
           "angularaxis": {
            "gridcolor": "white",
            "linecolor": "white",
            "ticks": ""
           },
           "bgcolor": "#E5ECF6",
           "radialaxis": {
            "gridcolor": "white",
            "linecolor": "white",
            "ticks": ""
           }
          },
          "scene": {
           "xaxis": {
            "backgroundcolor": "#E5ECF6",
            "gridcolor": "white",
            "gridwidth": 2,
            "linecolor": "white",
            "showbackground": true,
            "ticks": "",
            "zerolinecolor": "white"
           },
           "yaxis": {
            "backgroundcolor": "#E5ECF6",
            "gridcolor": "white",
            "gridwidth": 2,
            "linecolor": "white",
            "showbackground": true,
            "ticks": "",
            "zerolinecolor": "white"
           },
           "zaxis": {
            "backgroundcolor": "#E5ECF6",
            "gridcolor": "white",
            "gridwidth": 2,
            "linecolor": "white",
            "showbackground": true,
            "ticks": "",
            "zerolinecolor": "white"
           }
          },
          "shapedefaults": {
           "line": {
            "color": "#2a3f5f"
           }
          },
          "ternary": {
           "aaxis": {
            "gridcolor": "white",
            "linecolor": "white",
            "ticks": ""
           },
           "baxis": {
            "gridcolor": "white",
            "linecolor": "white",
            "ticks": ""
           },
           "bgcolor": "#E5ECF6",
           "caxis": {
            "gridcolor": "white",
            "linecolor": "white",
            "ticks": ""
           }
          },
          "title": {
           "x": 0.05
          },
          "xaxis": {
           "automargin": true,
           "gridcolor": "white",
           "linecolor": "white",
           "ticks": "",
           "title": {
            "standoff": 15
           },
           "zerolinecolor": "white",
           "zerolinewidth": 2
          },
          "yaxis": {
           "automargin": true,
           "gridcolor": "white",
           "linecolor": "white",
           "ticks": "",
           "title": {
            "standoff": 15
           },
           "zerolinecolor": "white",
           "zerolinewidth": 2
          }
         }
        },
        "title": {
         "text": "Path patching results H32.6 Value"
        },
        "width": 800,
        "xaxis": {
         "anchor": "y",
         "constrain": "domain",
         "domain": [
          0,
          1
         ],
         "scaleanchor": "y",
         "title": {
          "text": "Layer"
         }
        },
        "yaxis": {
         "anchor": "x",
         "autorange": "reversed",
         "constrain": "domain",
         "domain": [
          0,
          1
         ],
         "title": {
          "text": "Head"
         }
        }
       }
      }
     },
     "metadata": {},
     "output_type": "display_data"
    },
    {
     "data": {
      "application/vnd.plotly.v1+json": {
       "config": {
        "plotlyServerURL": "https://plot.ly",
        "staticPlot": false
       },
       "data": [
        {
         "coloraxis": "coloraxis",
         "hovertemplate": "Layer: %{x}<br>Head: %{y}<br>Logit diff. variation: %{z}<extra></extra>",
         "name": "0",
         "type": "heatmap",
         "xaxis": "x",
         "yaxis": "y",
         "z": {
          "bdata": "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",
          "dtype": "f4",
          "shape": "16, 42"
         }
        }
       ],
       "layout": {
        "coloraxis": {
         "cmid": 0,
         "colorbar": {
          "ticksuffix": "%",
          "title": {
           "text": "Logit diff. variation"
          }
         },
         "colorscale": [
          [
           0,
           "rgb(103,0,31)"
          ],
          [
           0.1,
           "rgb(178,24,43)"
          ],
          [
           0.2,
           "rgb(214,96,77)"
          ],
          [
           0.3,
           "rgb(244,165,130)"
          ],
          [
           0.4,
           "rgb(253,219,199)"
          ],
          [
           0.5,
           "rgb(247,247,247)"
          ],
          [
           0.6,
           "rgb(209,229,240)"
          ],
          [
           0.7,
           "rgb(146,197,222)"
          ],
          [
           0.8,
           "rgb(67,147,195)"
          ],
          [
           0.9,
           "rgb(33,102,172)"
          ],
          [
           1,
           "rgb(5,48,97)"
          ]
         ]
        },
        "height": 400,
        "template": {
         "data": {
          "bar": [
           {
            "error_x": {
             "color": "#2a3f5f"
            },
            "error_y": {
             "color": "#2a3f5f"
            },
            "marker": {
             "line": {
              "color": "#E5ECF6",
              "width": 0.5
             },
             "pattern": {
              "fillmode": "overlay",
              "size": 10,
              "solidity": 0.2
             }
            },
            "type": "bar"
           }
          ],
          "barpolar": [
           {
            "marker": {
             "line": {
              "color": "#E5ECF6",
              "width": 0.5
             },
             "pattern": {
              "fillmode": "overlay",
              "size": 10,
              "solidity": 0.2
             }
            },
            "type": "barpolar"
           }
          ],
          "carpet": [
           {
            "aaxis": {
             "endlinecolor": "#2a3f5f",
             "gridcolor": "white",
             "linecolor": "white",
             "minorgridcolor": "white",
             "startlinecolor": "#2a3f5f"
            },
            "baxis": {
             "endlinecolor": "#2a3f5f",
             "gridcolor": "white",
             "linecolor": "white",
             "minorgridcolor": "white",
             "startlinecolor": "#2a3f5f"
            },
            "type": "carpet"
           }
          ],
          "choropleth": [
           {
            "colorbar": {
             "outlinewidth": 0,
             "ticks": ""
            },
            "type": "choropleth"
           }
          ],
          "contour": [
           {
            "colorbar": {
             "outlinewidth": 0,
             "ticks": ""
            },
            "colorscale": [
             [
              0,
              "#0d0887"
             ],
             [
              0.1111111111111111,
              "#46039f"
             ],
             [
              0.2222222222222222,
              "#7201a8"
             ],
             [
              0.3333333333333333,
              "#9c179e"
             ],
             [
              0.4444444444444444,
              "#bd3786"
             ],
             [
              0.5555555555555556,
              "#d8576b"
             ],
             [
              0.6666666666666666,
              "#ed7953"
             ],
             [
              0.7777777777777778,
              "#fb9f3a"
             ],
             [
              0.8888888888888888,
              "#fdca26"
             ],
             [
              1,
              "#f0f921"
             ]
            ],
            "type": "contour"
           }
          ],
          "contourcarpet": [
           {
            "colorbar": {
             "outlinewidth": 0,
             "ticks": ""
            },
            "type": "contourcarpet"
           }
          ],
          "heatmap": [
           {
            "colorbar": {
             "outlinewidth": 0,
             "ticks": ""
            },
            "colorscale": [
             [
              0,
              "#0d0887"
             ],
             [
              0.1111111111111111,
              "#46039f"
             ],
             [
              0.2222222222222222,
              "#7201a8"
             ],
             [
              0.3333333333333333,
              "#9c179e"
             ],
             [
              0.4444444444444444,
              "#bd3786"
             ],
             [
              0.5555555555555556,
              "#d8576b"
             ],
             [
              0.6666666666666666,
              "#ed7953"
             ],
             [
              0.7777777777777778,
              "#fb9f3a"
             ],
             [
              0.8888888888888888,
              "#fdca26"
             ],
             [
              1,
              "#f0f921"
             ]
            ],
            "type": "heatmap"
           }
          ],
          "histogram": [
           {
            "marker": {
             "pattern": {
              "fillmode": "overlay",
              "size": 10,
              "solidity": 0.2
             }
            },
            "type": "histogram"
           }
          ],
          "histogram2d": [
           {
            "colorbar": {
             "outlinewidth": 0,
             "ticks": ""
            },
            "colorscale": [
             [
              0,
              "#0d0887"
             ],
             [
              0.1111111111111111,
              "#46039f"
             ],
             [
              0.2222222222222222,
              "#7201a8"
             ],
             [
              0.3333333333333333,
              "#9c179e"
             ],
             [
              0.4444444444444444,
              "#bd3786"
             ],
             [
              0.5555555555555556,
              "#d8576b"
             ],
             [
              0.6666666666666666,
              "#ed7953"
             ],
             [
              0.7777777777777778,
              "#fb9f3a"
             ],
             [
              0.8888888888888888,
              "#fdca26"
             ],
             [
              1,
              "#f0f921"
             ]
            ],
            "type": "histogram2d"
           }
          ],
          "histogram2dcontour": [
           {
            "colorbar": {
             "outlinewidth": 0,
             "ticks": ""
            },
            "colorscale": [
             [
              0,
              "#0d0887"
             ],
             [
              0.1111111111111111,
              "#46039f"
             ],
             [
              0.2222222222222222,
              "#7201a8"
             ],
             [
              0.3333333333333333,
              "#9c179e"
             ],
             [
              0.4444444444444444,
              "#bd3786"
             ],
             [
              0.5555555555555556,
              "#d8576b"
             ],
             [
              0.6666666666666666,
              "#ed7953"
             ],
             [
              0.7777777777777778,
              "#fb9f3a"
             ],
             [
              0.8888888888888888,
              "#fdca26"
             ],
             [
              1,
              "#f0f921"
             ]
            ],
            "type": "histogram2dcontour"
           }
          ],
          "mesh3d": [
           {
            "colorbar": {
             "outlinewidth": 0,
             "ticks": ""
            },
            "type": "mesh3d"
           }
          ],
          "parcoords": [
           {
            "line": {
             "colorbar": {
              "outlinewidth": 0,
              "ticks": ""
             }
            },
            "type": "parcoords"
           }
          ],
          "pie": [
           {
            "automargin": true,
            "type": "pie"
           }
          ],
          "scatter": [
           {
            "fillpattern": {
             "fillmode": "overlay",
             "size": 10,
             "solidity": 0.2
            },
            "type": "scatter"
           }
          ],
          "scatter3d": [
           {
            "line": {
             "colorbar": {
              "outlinewidth": 0,
              "ticks": ""
             }
            },
            "marker": {
             "colorbar": {
              "outlinewidth": 0,
              "ticks": ""
             }
            },
            "type": "scatter3d"
           }
          ],
          "scattercarpet": [
           {
            "marker": {
             "colorbar": {
              "outlinewidth": 0,
              "ticks": ""
             }
            },
            "type": "scattercarpet"
           }
          ],
          "scattergeo": [
           {
            "marker": {
             "colorbar": {
              "outlinewidth": 0,
              "ticks": ""
             }
            },
            "type": "scattergeo"
           }
          ],
          "scattergl": [
           {
            "marker": {
             "colorbar": {
              "outlinewidth": 0,
              "ticks": ""
             }
            },
            "type": "scattergl"
           }
          ],
          "scattermap": [
           {
            "marker": {
             "colorbar": {
              "outlinewidth": 0,
              "ticks": ""
             }
            },
            "type": "scattermap"
           }
          ],
          "scattermapbox": [
           {
            "marker": {
             "colorbar": {
              "outlinewidth": 0,
              "ticks": ""
             }
            },
            "type": "scattermapbox"
           }
          ],
          "scatterpolar": [
           {
            "marker": {
             "colorbar": {
              "outlinewidth": 0,
              "ticks": ""
             }
            },
            "type": "scatterpolar"
           }
          ],
          "scatterpolargl": [
           {
            "marker": {
             "colorbar": {
              "outlinewidth": 0,
              "ticks": ""
             }
            },
            "type": "scatterpolargl"
           }
          ],
          "scatterternary": [
           {
            "marker": {
             "colorbar": {
              "outlinewidth": 0,
              "ticks": ""
             }
            },
            "type": "scatterternary"
           }
          ],
          "surface": [
           {
            "colorbar": {
             "outlinewidth": 0,
             "ticks": ""
            },
            "colorscale": [
             [
              0,
              "#0d0887"
             ],
             [
              0.1111111111111111,
              "#46039f"
             ],
             [
              0.2222222222222222,
              "#7201a8"
             ],
             [
              0.3333333333333333,
              "#9c179e"
             ],
             [
              0.4444444444444444,
              "#bd3786"
             ],
             [
              0.5555555555555556,
              "#d8576b"
             ],
             [
              0.6666666666666666,
              "#ed7953"
             ],
             [
              0.7777777777777778,
              "#fb9f3a"
             ],
             [
              0.8888888888888888,
              "#fdca26"
             ],
             [
              1,
              "#f0f921"
             ]
            ],
            "type": "surface"
           }
          ],
          "table": [
           {
            "cells": {
             "fill": {
              "color": "#EBF0F8"
             },
             "line": {
              "color": "white"
             }
            },
            "header": {
             "fill": {
              "color": "#C8D4E3"
             },
             "line": {
              "color": "white"
             }
            },
            "type": "table"
           }
          ]
         },
         "layout": {
          "annotationdefaults": {
           "arrowcolor": "#2a3f5f",
           "arrowhead": 0,
           "arrowwidth": 1
          },
          "autotypenumbers": "strict",
          "coloraxis": {
           "colorbar": {
            "outlinewidth": 0,
            "ticks": ""
           }
          },
          "colorscale": {
           "diverging": [
            [
             0,
             "#8e0152"
            ],
            [
             0.1,
             "#c51b7d"
            ],
            [
             0.2,
             "#de77ae"
            ],
            [
             0.3,
             "#f1b6da"
            ],
            [
             0.4,
             "#fde0ef"
            ],
            [
             0.5,
             "#f7f7f7"
            ],
            [
             0.6,
             "#e6f5d0"
            ],
            [
             0.7,
             "#b8e186"
            ],
            [
             0.8,
             "#7fbc41"
            ],
            [
             0.9,
             "#4d9221"
            ],
            [
             1,
             "#276419"
            ]
           ],
           "sequential": [
            [
             0,
             "#0d0887"
            ],
            [
             0.1111111111111111,
             "#46039f"
            ],
            [
             0.2222222222222222,
             "#7201a8"
            ],
            [
             0.3333333333333333,
             "#9c179e"
            ],
            [
             0.4444444444444444,
             "#bd3786"
            ],
            [
             0.5555555555555556,
             "#d8576b"
            ],
            [
             0.6666666666666666,
             "#ed7953"
            ],
            [
             0.7777777777777778,
             "#fb9f3a"
            ],
            [
             0.8888888888888888,
             "#fdca26"
            ],
            [
             1,
             "#f0f921"
            ]
           ],
           "sequentialminus": [
            [
             0,
             "#0d0887"
            ],
            [
             0.1111111111111111,
             "#46039f"
            ],
            [
             0.2222222222222222,
             "#7201a8"
            ],
            [
             0.3333333333333333,
             "#9c179e"
            ],
            [
             0.4444444444444444,
             "#bd3786"
            ],
            [
             0.5555555555555556,
             "#d8576b"
            ],
            [
             0.6666666666666666,
             "#ed7953"
            ],
            [
             0.7777777777777778,
             "#fb9f3a"
            ],
            [
             0.8888888888888888,
             "#fdca26"
            ],
            [
             1,
             "#f0f921"
            ]
           ]
          },
          "colorway": [
           "#636efa",
           "#EF553B",
           "#00cc96",
           "#ab63fa",
           "#FFA15A",
           "#19d3f3",
           "#FF6692",
           "#B6E880",
           "#FF97FF",
           "#FECB52"
          ],
          "font": {
           "color": "#2a3f5f"
          },
          "geo": {
           "bgcolor": "white",
           "lakecolor": "white",
           "landcolor": "#E5ECF6",
           "showlakes": true,
           "showland": true,
           "subunitcolor": "white"
          },
          "hoverlabel": {
           "align": "left"
          },
          "hovermode": "closest",
          "mapbox": {
           "style": "light"
          },
          "paper_bgcolor": "white",
          "plot_bgcolor": "#E5ECF6",
          "polar": {
           "angularaxis": {
            "gridcolor": "white",
            "linecolor": "white",
            "ticks": ""
           },
           "bgcolor": "#E5ECF6",
           "radialaxis": {
            "gridcolor": "white",
            "linecolor": "white",
            "ticks": ""
           }
          },
          "scene": {
           "xaxis": {
            "backgroundcolor": "#E5ECF6",
            "gridcolor": "white",
            "gridwidth": 2,
            "linecolor": "white",
            "showbackground": true,
            "ticks": "",
            "zerolinecolor": "white"
           },
           "yaxis": {
            "backgroundcolor": "#E5ECF6",
            "gridcolor": "white",
            "gridwidth": 2,
            "linecolor": "white",
            "showbackground": true,
            "ticks": "",
            "zerolinecolor": "white"
           },
           "zaxis": {
            "backgroundcolor": "#E5ECF6",
            "gridcolor": "white",
            "gridwidth": 2,
            "linecolor": "white",
            "showbackground": true,
            "ticks": "",
            "zerolinecolor": "white"
           }
          },
          "shapedefaults": {
           "line": {
            "color": "#2a3f5f"
           }
          },
          "ternary": {
           "aaxis": {
            "gridcolor": "white",
            "linecolor": "white",
            "ticks": ""
           },
           "baxis": {
            "gridcolor": "white",
            "linecolor": "white",
            "ticks": ""
           },
           "bgcolor": "#E5ECF6",
           "caxis": {
            "gridcolor": "white",
            "linecolor": "white",
            "ticks": ""
           }
          },
          "title": {
           "x": 0.05
          },
          "xaxis": {
           "automargin": true,
           "gridcolor": "white",
           "linecolor": "white",
           "ticks": "",
           "title": {
            "standoff": 15
           },
           "zerolinecolor": "white",
           "zerolinewidth": 2
          },
          "yaxis": {
           "automargin": true,
           "gridcolor": "white",
           "linecolor": "white",
           "ticks": "",
           "title": {
            "standoff": 15
           },
           "zerolinecolor": "white",
           "zerolinewidth": 2
          }
         }
        },
        "title": {
         "text": "Path patching results H32.1 Value"
        },
        "width": 800,
        "xaxis": {
         "anchor": "y",
         "constrain": "domain",
         "domain": [
          0,
          1
         ],
         "scaleanchor": "y",
         "title": {
          "text": "Layer"
         }
        },
        "yaxis": {
         "anchor": "x",
         "autorange": "reversed",
         "constrain": "domain",
         "domain": [
          0,
          1
         ],
         "title": {
          "text": "Head"
         }
        }
       }
      }
     },
     "metadata": {},
     "output_type": "display_data"
    },
    {
     "data": {
      "application/vnd.plotly.v1+json": {
       "config": {
        "plotlyServerURL": "https://plot.ly",
        "staticPlot": false
       },
       "data": [
        {
         "coloraxis": "coloraxis",
         "hovertemplate": "Layer: %{x}<br>Head: %{y}<br>Logit diff. variation: %{z}<extra></extra>",
         "name": "0",
         "type": "heatmap",
         "xaxis": "x",
         "yaxis": "y",
         "z": {
          "bdata": "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",
          "dtype": "f4",
          "shape": "16, 42"
         }
        }
       ],
       "layout": {
        "coloraxis": {
         "cmid": 0,
         "colorbar": {
          "ticksuffix": "%",
          "title": {
           "text": "Logit diff. variation"
          }
         },
         "colorscale": [
          [
           0,
           "rgb(103,0,31)"
          ],
          [
           0.1,
           "rgb(178,24,43)"
          ],
          [
           0.2,
           "rgb(214,96,77)"
          ],
          [
           0.3,
           "rgb(244,165,130)"
          ],
          [
           0.4,
           "rgb(253,219,199)"
          ],
          [
           0.5,
           "rgb(247,247,247)"
          ],
          [
           0.6,
           "rgb(209,229,240)"
          ],
          [
           0.7,
           "rgb(146,197,222)"
          ],
          [
           0.8,
           "rgb(67,147,195)"
          ],
          [
           0.9,
           "rgb(33,102,172)"
          ],
          [
           1,
           "rgb(5,48,97)"
          ]
         ]
        },
        "height": 400,
        "template": {
         "data": {
          "bar": [
           {
            "error_x": {
             "color": "#2a3f5f"
            },
            "error_y": {
             "color": "#2a3f5f"
            },
            "marker": {
             "line": {
              "color": "#E5ECF6",
              "width": 0.5
             },
             "pattern": {
              "fillmode": "overlay",
              "size": 10,
              "solidity": 0.2
             }
            },
            "type": "bar"
           }
          ],
          "barpolar": [
           {
            "marker": {
             "line": {
              "color": "#E5ECF6",
              "width": 0.5
             },
             "pattern": {
              "fillmode": "overlay",
              "size": 10,
              "solidity": 0.2
             }
            },
            "type": "barpolar"
           }
          ],
          "carpet": [
           {
            "aaxis": {
             "endlinecolor": "#2a3f5f",
             "gridcolor": "white",
             "linecolor": "white",
             "minorgridcolor": "white",
             "startlinecolor": "#2a3f5f"
            },
            "baxis": {
             "endlinecolor": "#2a3f5f",
             "gridcolor": "white",
             "linecolor": "white",
             "minorgridcolor": "white",
             "startlinecolor": "#2a3f5f"
            },
            "type": "carpet"
           }
          ],
          "choropleth": [
           {
            "colorbar": {
             "outlinewidth": 0,
             "ticks": ""
            },
            "type": "choropleth"
           }
          ],
          "contour": [
           {
            "colorbar": {
             "outlinewidth": 0,
             "ticks": ""
            },
            "colorscale": [
             [
              0,
              "#0d0887"
             ],
             [
              0.1111111111111111,
              "#46039f"
             ],
             [
              0.2222222222222222,
              "#7201a8"
             ],
             [
              0.3333333333333333,
              "#9c179e"
             ],
             [
              0.4444444444444444,
              "#bd3786"
             ],
             [
              0.5555555555555556,
              "#d8576b"
             ],
             [
              0.6666666666666666,
              "#ed7953"
             ],
             [
              0.7777777777777778,
              "#fb9f3a"
             ],
             [
              0.8888888888888888,
              "#fdca26"
             ],
             [
              1,
              "#f0f921"
             ]
            ],
            "type": "contour"
           }
          ],
          "contourcarpet": [
           {
            "colorbar": {
             "outlinewidth": 0,
             "ticks": ""
            },
            "type": "contourcarpet"
           }
          ],
          "heatmap": [
           {
            "colorbar": {
             "outlinewidth": 0,
             "ticks": ""
            },
            "colorscale": [
             [
              0,
              "#0d0887"
             ],
             [
              0.1111111111111111,
              "#46039f"
             ],
             [
              0.2222222222222222,
              "#7201a8"
             ],
             [
              0.3333333333333333,
              "#9c179e"
             ],
             [
              0.4444444444444444,
              "#bd3786"
             ],
             [
              0.5555555555555556,
              "#d8576b"
             ],
             [
              0.6666666666666666,
              "#ed7953"
             ],
             [
              0.7777777777777778,
              "#fb9f3a"
             ],
             [
              0.8888888888888888,
              "#fdca26"
             ],
             [
              1,
              "#f0f921"
             ]
            ],
            "type": "heatmap"
           }
          ],
          "histogram": [
           {
            "marker": {
             "pattern": {
              "fillmode": "overlay",
              "size": 10,
              "solidity": 0.2
             }
            },
            "type": "histogram"
           }
          ],
          "histogram2d": [
           {
            "colorbar": {
             "outlinewidth": 0,
             "ticks": ""
            },
            "colorscale": [
             [
              0,
              "#0d0887"
             ],
             [
              0.1111111111111111,
              "#46039f"
             ],
             [
              0.2222222222222222,
              "#7201a8"
             ],
             [
              0.3333333333333333,
              "#9c179e"
             ],
             [
              0.4444444444444444,
              "#bd3786"
             ],
             [
              0.5555555555555556,
              "#d8576b"
             ],
             [
              0.6666666666666666,
              "#ed7953"
             ],
             [
              0.7777777777777778,
              "#fb9f3a"
             ],
             [
              0.8888888888888888,
              "#fdca26"
             ],
             [
              1,
              "#f0f921"
             ]
            ],
            "type": "histogram2d"
           }
          ],
          "histogram2dcontour": [
           {
            "colorbar": {
             "outlinewidth": 0,
             "ticks": ""
            },
            "colorscale": [
             [
              0,
              "#0d0887"
             ],
             [
              0.1111111111111111,
              "#46039f"
             ],
             [
              0.2222222222222222,
              "#7201a8"
             ],
             [
              0.3333333333333333,
              "#9c179e"
             ],
             [
              0.4444444444444444,
              "#bd3786"
             ],
             [
              0.5555555555555556,
              "#d8576b"
             ],
             [
              0.6666666666666666,
              "#ed7953"
             ],
             [
              0.7777777777777778,
              "#fb9f3a"
             ],
             [
              0.8888888888888888,
              "#fdca26"
             ],
             [
              1,
              "#f0f921"
             ]
            ],
            "type": "histogram2dcontour"
           }
          ],
          "mesh3d": [
           {
            "colorbar": {
             "outlinewidth": 0,
             "ticks": ""
            },
            "type": "mesh3d"
           }
          ],
          "parcoords": [
           {
            "line": {
             "colorbar": {
              "outlinewidth": 0,
              "ticks": ""
             }
            },
            "type": "parcoords"
           }
          ],
          "pie": [
           {
            "automargin": true,
            "type": "pie"
           }
          ],
          "scatter": [
           {
            "fillpattern": {
             "fillmode": "overlay",
             "size": 10,
             "solidity": 0.2
            },
            "type": "scatter"
           }
          ],
          "scatter3d": [
           {
            "line": {
             "colorbar": {
              "outlinewidth": 0,
              "ticks": ""
             }
            },
            "marker": {
             "colorbar": {
              "outlinewidth": 0,
              "ticks": ""
             }
            },
            "type": "scatter3d"
           }
          ],
          "scattercarpet": [
           {
            "marker": {
             "colorbar": {
              "outlinewidth": 0,
              "ticks": ""
             }
            },
            "type": "scattercarpet"
           }
          ],
          "scattergeo": [
           {
            "marker": {
             "colorbar": {
              "outlinewidth": 0,
              "ticks": ""
             }
            },
            "type": "scattergeo"
           }
          ],
          "scattergl": [
           {
            "marker": {
             "colorbar": {
              "outlinewidth": 0,
              "ticks": ""
             }
            },
            "type": "scattergl"
           }
          ],
          "scattermap": [
           {
            "marker": {
             "colorbar": {
              "outlinewidth": 0,
              "ticks": ""
             }
            },
            "type": "scattermap"
           }
          ],
          "scattermapbox": [
           {
            "marker": {
             "colorbar": {
              "outlinewidth": 0,
              "ticks": ""
             }
            },
            "type": "scattermapbox"
           }
          ],
          "scatterpolar": [
           {
            "marker": {
             "colorbar": {
              "outlinewidth": 0,
              "ticks": ""
             }
            },
            "type": "scatterpolar"
           }
          ],
          "scatterpolargl": [
           {
            "marker": {
             "colorbar": {
              "outlinewidth": 0,
              "ticks": ""
             }
            },
            "type": "scatterpolargl"
           }
          ],
          "scatterternary": [
           {
            "marker": {
             "colorbar": {
              "outlinewidth": 0,
              "ticks": ""
             }
            },
            "type": "scatterternary"
           }
          ],
          "surface": [
           {
            "colorbar": {
             "outlinewidth": 0,
             "ticks": ""
            },
            "colorscale": [
             [
              0,
              "#0d0887"
             ],
             [
              0.1111111111111111,
              "#46039f"
             ],
             [
              0.2222222222222222,
              "#7201a8"
             ],
             [
              0.3333333333333333,
              "#9c179e"
             ],
             [
              0.4444444444444444,
              "#bd3786"
             ],
             [
              0.5555555555555556,
              "#d8576b"
             ],
             [
              0.6666666666666666,
              "#ed7953"
             ],
             [
              0.7777777777777778,
              "#fb9f3a"
             ],
             [
              0.8888888888888888,
              "#fdca26"
             ],
             [
              1,
              "#f0f921"
             ]
            ],
            "type": "surface"
           }
          ],
          "table": [
           {
            "cells": {
             "fill": {
              "color": "#EBF0F8"
             },
             "line": {
              "color": "white"
             }
            },
            "header": {
             "fill": {
              "color": "#C8D4E3"
             },
             "line": {
              "color": "white"
             }
            },
            "type": "table"
           }
          ]
         },
         "layout": {
          "annotationdefaults": {
           "arrowcolor": "#2a3f5f",
           "arrowhead": 0,
           "arrowwidth": 1
          },
          "autotypenumbers": "strict",
          "coloraxis": {
           "colorbar": {
            "outlinewidth": 0,
            "ticks": ""
           }
          },
          "colorscale": {
           "diverging": [
            [
             0,
             "#8e0152"
            ],
            [
             0.1,
             "#c51b7d"
            ],
            [
             0.2,
             "#de77ae"
            ],
            [
             0.3,
             "#f1b6da"
            ],
            [
             0.4,
             "#fde0ef"
            ],
            [
             0.5,
             "#f7f7f7"
            ],
            [
             0.6,
             "#e6f5d0"
            ],
            [
             0.7,
             "#b8e186"
            ],
            [
             0.8,
             "#7fbc41"
            ],
            [
             0.9,
             "#4d9221"
            ],
            [
             1,
             "#276419"
            ]
           ],
           "sequential": [
            [
             0,
             "#0d0887"
            ],
            [
             0.1111111111111111,
             "#46039f"
            ],
            [
             0.2222222222222222,
             "#7201a8"
            ],
            [
             0.3333333333333333,
             "#9c179e"
            ],
            [
             0.4444444444444444,
             "#bd3786"
            ],
            [
             0.5555555555555556,
             "#d8576b"
            ],
            [
             0.6666666666666666,
             "#ed7953"
            ],
            [
             0.7777777777777778,
             "#fb9f3a"
            ],
            [
             0.8888888888888888,
             "#fdca26"
            ],
            [
             1,
             "#f0f921"
            ]
           ],
           "sequentialminus": [
            [
             0,
             "#0d0887"
            ],
            [
             0.1111111111111111,
             "#46039f"
            ],
            [
             0.2222222222222222,
             "#7201a8"
            ],
            [
             0.3333333333333333,
             "#9c179e"
            ],
            [
             0.4444444444444444,
             "#bd3786"
            ],
            [
             0.5555555555555556,
             "#d8576b"
            ],
            [
             0.6666666666666666,
             "#ed7953"
            ],
            [
             0.7777777777777778,
             "#fb9f3a"
            ],
            [
             0.8888888888888888,
             "#fdca26"
            ],
            [
             1,
             "#f0f921"
            ]
           ]
          },
          "colorway": [
           "#636efa",
           "#EF553B",
           "#00cc96",
           "#ab63fa",
           "#FFA15A",
           "#19d3f3",
           "#FF6692",
           "#B6E880",
           "#FF97FF",
           "#FECB52"
          ],
          "font": {
           "color": "#2a3f5f"
          },
          "geo": {
           "bgcolor": "white",
           "lakecolor": "white",
           "landcolor": "#E5ECF6",
           "showlakes": true,
           "showland": true,
           "subunitcolor": "white"
          },
          "hoverlabel": {
           "align": "left"
          },
          "hovermode": "closest",
          "mapbox": {
           "style": "light"
          },
          "paper_bgcolor": "white",
          "plot_bgcolor": "#E5ECF6",
          "polar": {
           "angularaxis": {
            "gridcolor": "white",
            "linecolor": "white",
            "ticks": ""
           },
           "bgcolor": "#E5ECF6",
           "radialaxis": {
            "gridcolor": "white",
            "linecolor": "white",
            "ticks": ""
           }
          },
          "scene": {
           "xaxis": {
            "backgroundcolor": "#E5ECF6",
            "gridcolor": "white",
            "gridwidth": 2,
            "linecolor": "white",
            "showbackground": true,
            "ticks": "",
            "zerolinecolor": "white"
           },
           "yaxis": {
            "backgroundcolor": "#E5ECF6",
            "gridcolor": "white",
            "gridwidth": 2,
            "linecolor": "white",
            "showbackground": true,
            "ticks": "",
            "zerolinecolor": "white"
           },
           "zaxis": {
            "backgroundcolor": "#E5ECF6",
            "gridcolor": "white",
            "gridwidth": 2,
            "linecolor": "white",
            "showbackground": true,
            "ticks": "",
            "zerolinecolor": "white"
           }
          },
          "shapedefaults": {
           "line": {
            "color": "#2a3f5f"
           }
          },
          "ternary": {
           "aaxis": {
            "gridcolor": "white",
            "linecolor": "white",
            "ticks": ""
           },
           "baxis": {
            "gridcolor": "white",
            "linecolor": "white",
            "ticks": ""
           },
           "bgcolor": "#E5ECF6",
           "caxis": {
            "gridcolor": "white",
            "linecolor": "white",
            "ticks": ""
           }
          },
          "title": {
           "x": 0.05
          },
          "xaxis": {
           "automargin": true,
           "gridcolor": "white",
           "linecolor": "white",
           "ticks": "",
           "title": {
            "standoff": 15
           },
           "zerolinecolor": "white",
           "zerolinewidth": 2
          },
          "yaxis": {
           "automargin": true,
           "gridcolor": "white",
           "linecolor": "white",
           "ticks": "",
           "title": {
            "standoff": 15
           },
           "zerolinecolor": "white",
           "zerolinewidth": 2
          }
         }
        },
        "title": {
         "text": "Path patching results H25.13 Value"
        },
        "width": 800,
        "xaxis": {
         "anchor": "y",
         "constrain": "domain",
         "domain": [
          0,
          1
         ],
         "scaleanchor": "y",
         "title": {
          "text": "Layer"
         }
        },
        "yaxis": {
         "anchor": "x",
         "autorange": "reversed",
         "constrain": "domain",
         "domain": [
          0,
          1
         ],
         "title": {
          "text": "Head"
         }
        }
       }
      }
     },
     "metadata": {},
     "output_type": "display_data"
    }
   ],
   "source": [
    "# Function Induction Heads\n",
    "for head in [(39, 12), (39, 7), (36, 7), (32, 6), (32, 1), (25, 13)]:\n",
    "    filename = \"./results/gemma_2_9b/ind_h{}_{}_v.pt\".format(head[0], head[1])\n",
    "    result = t.load(filename)\n",
    "    visualize_heatmap(result, info = \"H{}.{} Value\".format(head[0], head[1]))"
   ]
  }
 ],
 "metadata": {
  "kernelspec": {
   "display_name": "fi4",
   "language": "python",
   "name": "python3"
  },
  "language_info": {
   "codemirror_mode": {
    "name": "ipython",
    "version": 3
   },
   "file_extension": ".py",
   "mimetype": "text/x-python",
   "name": "python",
   "nbconvert_exporter": "python",
   "pygments_lexer": "ipython3",
   "version": "3.12.11"
  }
 },
 "nbformat": 4,
 "nbformat_minor": 2
}
