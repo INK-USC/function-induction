{
 "cells": [
  {
   "cell_type": "markdown",
   "metadata": {},
   "source": [
    "### Visualizing Path Patching Results\n",
    "\n",
    "Visualize the results produced by llama_3_8b_offline.py"
   ]
  },
  {
   "cell_type": "code",
   "execution_count": 1,
   "metadata": {},
   "outputs": [
    {
     "name": "stdout",
     "output_type": "stream",
     "text": [
      "/home/qinyuan/function-induction\n"
     ]
    }
   ],
   "source": [
    "import os\n",
    "import sys\n",
    "\n",
    "# to import functions from `patching_utils.py` and `plotly_utils.py`,\n",
    "# we need to add the repository directory to the system path.\n",
    "current_dir = os.path.dirname(os.getcwd())\n",
    "print(current_dir)\n",
    "if current_dir not in sys.path:\n",
    "    sys.path.append(current_dir)"
   ]
  },
  {
   "cell_type": "code",
   "execution_count": 2,
   "metadata": {},
   "outputs": [],
   "source": [
    "import torch as t\n",
    "t.set_grad_enabled(False)\n",
    "from plotly_utils import imshow"
   ]
  },
  {
   "cell_type": "code",
   "execution_count": 5,
   "metadata": {},
   "outputs": [],
   "source": [
    "def visualize_heatmap(results, info=\"\"):\n",
    "    imshow(\n",
    "        100 * results.t(),\n",
    "        title=\"Path patching results {}\".format(info),\n",
    "        labels={\"x\":\"Layer\", \"y\":\"Head\", \"color\": \"Logit diff. variation\"},\n",
    "        coloraxis=dict(colorbar_ticksuffix = \"%\"),\n",
    "        width=500,\n",
    "        height=400,\n",
    "    )"
   ]
  },
  {
   "cell_type": "code",
   "execution_count": 6,
   "metadata": {},
   "outputs": [
    {
     "data": {
      "application/vnd.plotly.v1+json": {
       "config": {
        "plotlyServerURL": "https://plot.ly",
        "staticPlot": false
       },
       "data": [
        {
         "coloraxis": "coloraxis",
         "hovertemplate": "Layer: %{x}<br>Head: %{y}<br>Logit diff. variation: %{z}<extra></extra>",
         "name": "0",
         "type": "heatmap",
         "xaxis": "x",
         "yaxis": "y",
         "z": {
          "bdata": "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",
          "dtype": "f4",
          "shape": "32, 32"
         }
        }
       ],
       "layout": {
        "coloraxis": {
         "cmid": 0,
         "colorbar": {
          "ticksuffix": "%",
          "title": {
           "text": "Logit diff. variation"
          }
         },
         "colorscale": [
          [
           0,
           "rgb(103,0,31)"
          ],
          [
           0.1,
           "rgb(178,24,43)"
          ],
          [
           0.2,
           "rgb(214,96,77)"
          ],
          [
           0.3,
           "rgb(244,165,130)"
          ],
          [
           0.4,
           "rgb(253,219,199)"
          ],
          [
           0.5,
           "rgb(247,247,247)"
          ],
          [
           0.6,
           "rgb(209,229,240)"
          ],
          [
           0.7,
           "rgb(146,197,222)"
          ],
          [
           0.8,
           "rgb(67,147,195)"
          ],
          [
           0.9,
           "rgb(33,102,172)"
          ],
          [
           1,
           "rgb(5,48,97)"
          ]
         ]
        },
        "height": 400,
        "template": {
         "data": {
          "bar": [
           {
            "error_x": {
             "color": "#2a3f5f"
            },
            "error_y": {
             "color": "#2a3f5f"
            },
            "marker": {
             "line": {
              "color": "#E5ECF6",
              "width": 0.5
             },
             "pattern": {
              "fillmode": "overlay",
              "size": 10,
              "solidity": 0.2
             }
            },
            "type": "bar"
           }
          ],
          "barpolar": [
           {
            "marker": {
             "line": {
              "color": "#E5ECF6",
              "width": 0.5
             },
             "pattern": {
              "fillmode": "overlay",
              "size": 10,
              "solidity": 0.2
             }
            },
            "type": "barpolar"
           }
          ],
          "carpet": [
           {
            "aaxis": {
             "endlinecolor": "#2a3f5f",
             "gridcolor": "white",
             "linecolor": "white",
             "minorgridcolor": "white",
             "startlinecolor": "#2a3f5f"
            },
            "baxis": {
             "endlinecolor": "#2a3f5f",
             "gridcolor": "white",
             "linecolor": "white",
             "minorgridcolor": "white",
             "startlinecolor": "#2a3f5f"
            },
            "type": "carpet"
           }
          ],
          "choropleth": [
           {
            "colorbar": {
             "outlinewidth": 0,
             "ticks": ""
            },
            "type": "choropleth"
           }
          ],
          "contour": [
           {
            "colorbar": {
             "outlinewidth": 0,
             "ticks": ""
            },
            "colorscale": [
             [
              0,
              "#0d0887"
             ],
             [
              0.1111111111111111,
              "#46039f"
             ],
             [
              0.2222222222222222,
              "#7201a8"
             ],
             [
              0.3333333333333333,
              "#9c179e"
             ],
             [
              0.4444444444444444,
              "#bd3786"
             ],
             [
              0.5555555555555556,
              "#d8576b"
             ],
             [
              0.6666666666666666,
              "#ed7953"
             ],
             [
              0.7777777777777778,
              "#fb9f3a"
             ],
             [
              0.8888888888888888,
              "#fdca26"
             ],
             [
              1,
              "#f0f921"
             ]
            ],
            "type": "contour"
           }
          ],
          "contourcarpet": [
           {
            "colorbar": {
             "outlinewidth": 0,
             "ticks": ""
            },
            "type": "contourcarpet"
           }
          ],
          "heatmap": [
           {
            "colorbar": {
             "outlinewidth": 0,
             "ticks": ""
            },
            "colorscale": [
             [
              0,
              "#0d0887"
             ],
             [
              0.1111111111111111,
              "#46039f"
             ],
             [
              0.2222222222222222,
              "#7201a8"
             ],
             [
              0.3333333333333333,
              "#9c179e"
             ],
             [
              0.4444444444444444,
              "#bd3786"
             ],
             [
              0.5555555555555556,
              "#d8576b"
             ],
             [
              0.6666666666666666,
              "#ed7953"
             ],
             [
              0.7777777777777778,
              "#fb9f3a"
             ],
             [
              0.8888888888888888,
              "#fdca26"
             ],
             [
              1,
              "#f0f921"
             ]
            ],
            "type": "heatmap"
           }
          ],
          "histogram": [
           {
            "marker": {
             "pattern": {
              "fillmode": "overlay",
              "size": 10,
              "solidity": 0.2
             }
            },
            "type": "histogram"
           }
          ],
          "histogram2d": [
           {
            "colorbar": {
             "outlinewidth": 0,
             "ticks": ""
            },
            "colorscale": [
             [
              0,
              "#0d0887"
             ],
             [
              0.1111111111111111,
              "#46039f"
             ],
             [
              0.2222222222222222,
              "#7201a8"
             ],
             [
              0.3333333333333333,
              "#9c179e"
             ],
             [
              0.4444444444444444,
              "#bd3786"
             ],
             [
              0.5555555555555556,
              "#d8576b"
             ],
             [
              0.6666666666666666,
              "#ed7953"
             ],
             [
              0.7777777777777778,
              "#fb9f3a"
             ],
             [
              0.8888888888888888,
              "#fdca26"
             ],
             [
              1,
              "#f0f921"
             ]
            ],
            "type": "histogram2d"
           }
          ],
          "histogram2dcontour": [
           {
            "colorbar": {
             "outlinewidth": 0,
             "ticks": ""
            },
            "colorscale": [
             [
              0,
              "#0d0887"
             ],
             [
              0.1111111111111111,
              "#46039f"
             ],
             [
              0.2222222222222222,
              "#7201a8"
             ],
             [
              0.3333333333333333,
              "#9c179e"
             ],
             [
              0.4444444444444444,
              "#bd3786"
             ],
             [
              0.5555555555555556,
              "#d8576b"
             ],
             [
              0.6666666666666666,
              "#ed7953"
             ],
             [
              0.7777777777777778,
              "#fb9f3a"
             ],
             [
              0.8888888888888888,
              "#fdca26"
             ],
             [
              1,
              "#f0f921"
             ]
            ],
            "type": "histogram2dcontour"
           }
          ],
          "mesh3d": [
           {
            "colorbar": {
             "outlinewidth": 0,
             "ticks": ""
            },
            "type": "mesh3d"
           }
          ],
          "parcoords": [
           {
            "line": {
             "colorbar": {
              "outlinewidth": 0,
              "ticks": ""
             }
            },
            "type": "parcoords"
           }
          ],
          "pie": [
           {
            "automargin": true,
            "type": "pie"
           }
          ],
          "scatter": [
           {
            "fillpattern": {
             "fillmode": "overlay",
             "size": 10,
             "solidity": 0.2
            },
            "type": "scatter"
           }
          ],
          "scatter3d": [
           {
            "line": {
             "colorbar": {
              "outlinewidth": 0,
              "ticks": ""
             }
            },
            "marker": {
             "colorbar": {
              "outlinewidth": 0,
              "ticks": ""
             }
            },
            "type": "scatter3d"
           }
          ],
          "scattercarpet": [
           {
            "marker": {
             "colorbar": {
              "outlinewidth": 0,
              "ticks": ""
             }
            },
            "type": "scattercarpet"
           }
          ],
          "scattergeo": [
           {
            "marker": {
             "colorbar": {
              "outlinewidth": 0,
              "ticks": ""
             }
            },
            "type": "scattergeo"
           }
          ],
          "scattergl": [
           {
            "marker": {
             "colorbar": {
              "outlinewidth": 0,
              "ticks": ""
             }
            },
            "type": "scattergl"
           }
          ],
          "scattermap": [
           {
            "marker": {
             "colorbar": {
              "outlinewidth": 0,
              "ticks": ""
             }
            },
            "type": "scattermap"
           }
          ],
          "scattermapbox": [
           {
            "marker": {
             "colorbar": {
              "outlinewidth": 0,
              "ticks": ""
             }
            },
            "type": "scattermapbox"
           }
          ],
          "scatterpolar": [
           {
            "marker": {
             "colorbar": {
              "outlinewidth": 0,
              "ticks": ""
             }
            },
            "type": "scatterpolar"
           }
          ],
          "scatterpolargl": [
           {
            "marker": {
             "colorbar": {
              "outlinewidth": 0,
              "ticks": ""
             }
            },
            "type": "scatterpolargl"
           }
          ],
          "scatterternary": [
           {
            "marker": {
             "colorbar": {
              "outlinewidth": 0,
              "ticks": ""
             }
            },
            "type": "scatterternary"
           }
          ],
          "surface": [
           {
            "colorbar": {
             "outlinewidth": 0,
             "ticks": ""
            },
            "colorscale": [
             [
              0,
              "#0d0887"
             ],
             [
              0.1111111111111111,
              "#46039f"
             ],
             [
              0.2222222222222222,
              "#7201a8"
             ],
             [
              0.3333333333333333,
              "#9c179e"
             ],
             [
              0.4444444444444444,
              "#bd3786"
             ],
             [
              0.5555555555555556,
              "#d8576b"
             ],
             [
              0.6666666666666666,
              "#ed7953"
             ],
             [
              0.7777777777777778,
              "#fb9f3a"
             ],
             [
              0.8888888888888888,
              "#fdca26"
             ],
             [
              1,
              "#f0f921"
             ]
            ],
            "type": "surface"
           }
          ],
          "table": [
           {
            "cells": {
             "fill": {
              "color": "#EBF0F8"
             },
             "line": {
              "color": "white"
             }
            },
            "header": {
             "fill": {
              "color": "#C8D4E3"
             },
             "line": {
              "color": "white"
             }
            },
            "type": "table"
           }
          ]
         },
         "layout": {
          "annotationdefaults": {
           "arrowcolor": "#2a3f5f",
           "arrowhead": 0,
           "arrowwidth": 1
          },
          "autotypenumbers": "strict",
          "coloraxis": {
           "colorbar": {
            "outlinewidth": 0,
            "ticks": ""
           }
          },
          "colorscale": {
           "diverging": [
            [
             0,
             "#8e0152"
            ],
            [
             0.1,
             "#c51b7d"
            ],
            [
             0.2,
             "#de77ae"
            ],
            [
             0.3,
             "#f1b6da"
            ],
            [
             0.4,
             "#fde0ef"
            ],
            [
             0.5,
             "#f7f7f7"
            ],
            [
             0.6,
             "#e6f5d0"
            ],
            [
             0.7,
             "#b8e186"
            ],
            [
             0.8,
             "#7fbc41"
            ],
            [
             0.9,
             "#4d9221"
            ],
            [
             1,
             "#276419"
            ]
           ],
           "sequential": [
            [
             0,
             "#0d0887"
            ],
            [
             0.1111111111111111,
             "#46039f"
            ],
            [
             0.2222222222222222,
             "#7201a8"
            ],
            [
             0.3333333333333333,
             "#9c179e"
            ],
            [
             0.4444444444444444,
             "#bd3786"
            ],
            [
             0.5555555555555556,
             "#d8576b"
            ],
            [
             0.6666666666666666,
             "#ed7953"
            ],
            [
             0.7777777777777778,
             "#fb9f3a"
            ],
            [
             0.8888888888888888,
             "#fdca26"
            ],
            [
             1,
             "#f0f921"
            ]
           ],
           "sequentialminus": [
            [
             0,
             "#0d0887"
            ],
            [
             0.1111111111111111,
             "#46039f"
            ],
            [
             0.2222222222222222,
             "#7201a8"
            ],
            [
             0.3333333333333333,
             "#9c179e"
            ],
            [
             0.4444444444444444,
             "#bd3786"
            ],
            [
             0.5555555555555556,
             "#d8576b"
            ],
            [
             0.6666666666666666,
             "#ed7953"
            ],
            [
             0.7777777777777778,
             "#fb9f3a"
            ],
            [
             0.8888888888888888,
             "#fdca26"
            ],
            [
             1,
             "#f0f921"
            ]
           ]
          },
          "colorway": [
           "#636efa",
           "#EF553B",
           "#00cc96",
           "#ab63fa",
           "#FFA15A",
           "#19d3f3",
           "#FF6692",
           "#B6E880",
           "#FF97FF",
           "#FECB52"
          ],
          "font": {
           "color": "#2a3f5f"
          },
          "geo": {
           "bgcolor": "white",
           "lakecolor": "white",
           "landcolor": "#E5ECF6",
           "showlakes": true,
           "showland": true,
           "subunitcolor": "white"
          },
          "hoverlabel": {
           "align": "left"
          },
          "hovermode": "closest",
          "mapbox": {
           "style": "light"
          },
          "paper_bgcolor": "white",
          "plot_bgcolor": "#E5ECF6",
          "polar": {
           "angularaxis": {
            "gridcolor": "white",
            "linecolor": "white",
            "ticks": ""
           },
           "bgcolor": "#E5ECF6",
           "radialaxis": {
            "gridcolor": "white",
            "linecolor": "white",
            "ticks": ""
           }
          },
          "scene": {
           "xaxis": {
            "backgroundcolor": "#E5ECF6",
            "gridcolor": "white",
            "gridwidth": 2,
            "linecolor": "white",
            "showbackground": true,
            "ticks": "",
            "zerolinecolor": "white"
           },
           "yaxis": {
            "backgroundcolor": "#E5ECF6",
            "gridcolor": "white",
            "gridwidth": 2,
            "linecolor": "white",
            "showbackground": true,
            "ticks": "",
            "zerolinecolor": "white"
           },
           "zaxis": {
            "backgroundcolor": "#E5ECF6",
            "gridcolor": "white",
            "gridwidth": 2,
            "linecolor": "white",
            "showbackground": true,
            "ticks": "",
            "zerolinecolor": "white"
           }
          },
          "shapedefaults": {
           "line": {
            "color": "#2a3f5f"
           }
          },
          "ternary": {
           "aaxis": {
            "gridcolor": "white",
            "linecolor": "white",
            "ticks": ""
           },
           "baxis": {
            "gridcolor": "white",
            "linecolor": "white",
            "ticks": ""
           },
           "bgcolor": "#E5ECF6",
           "caxis": {
            "gridcolor": "white",
            "linecolor": "white",
            "ticks": ""
           }
          },
          "title": {
           "x": 0.05
          },
          "xaxis": {
           "automargin": true,
           "gridcolor": "white",
           "linecolor": "white",
           "ticks": "",
           "title": {
            "standoff": 15
           },
           "zerolinecolor": "white",
           "zerolinewidth": 2
          },
          "yaxis": {
           "automargin": true,
           "gridcolor": "white",
           "linecolor": "white",
           "ticks": "",
           "title": {
            "standoff": 15
           },
           "zerolinecolor": "white",
           "zerolinewidth": 2
          }
         }
        },
        "title": {
         "text": "Path patching results "
        },
        "width": 500,
        "xaxis": {
         "anchor": "y",
         "constrain": "domain",
         "domain": [
          0,
          1
         ],
         "scaleanchor": "y",
         "title": {
          "text": "Layer"
         }
        },
        "yaxis": {
         "anchor": "x",
         "autorange": "reversed",
         "constrain": "domain",
         "domain": [
          0,
          1
         ],
         "title": {
          "text": "Head"
         }
        }
       }
      }
     },
     "metadata": {},
     "output_type": "display_data"
    }
   ],
   "source": [
    "filename = \"./results/llama_3_8b/resid_post_31.pt\"\n",
    "results_resid_post_31 = t.load(filename)\n",
    "visualize_heatmap(results_resid_post_31)"
   ]
  },
  {
   "cell_type": "code",
   "execution_count": 7,
   "metadata": {},
   "outputs": [
    {
     "data": {
      "application/vnd.plotly.v1+json": {
       "config": {
        "plotlyServerURL": "https://plot.ly",
        "staticPlot": false
       },
       "data": [
        {
         "coloraxis": "coloraxis",
         "hovertemplate": "Layer: %{x}<br>Head: %{y}<br>Logit diff. variation: %{z}<extra></extra>",
         "name": "0",
         "type": "heatmap",
         "xaxis": "x",
         "yaxis": "y",
         "z": {
          "bdata": "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",
          "dtype": "f4",
          "shape": "32, 32"
         }
        }
       ],
       "layout": {
        "coloraxis": {
         "cmid": 0,
         "colorbar": {
          "ticksuffix": "%",
          "title": {
           "text": "Logit diff. variation"
          }
         },
         "colorscale": [
          [
           0,
           "rgb(103,0,31)"
          ],
          [
           0.1,
           "rgb(178,24,43)"
          ],
          [
           0.2,
           "rgb(214,96,77)"
          ],
          [
           0.3,
           "rgb(244,165,130)"
          ],
          [
           0.4,
           "rgb(253,219,199)"
          ],
          [
           0.5,
           "rgb(247,247,247)"
          ],
          [
           0.6,
           "rgb(209,229,240)"
          ],
          [
           0.7,
           "rgb(146,197,222)"
          ],
          [
           0.8,
           "rgb(67,147,195)"
          ],
          [
           0.9,
           "rgb(33,102,172)"
          ],
          [
           1,
           "rgb(5,48,97)"
          ]
         ]
        },
        "height": 400,
        "template": {
         "data": {
          "bar": [
           {
            "error_x": {
             "color": "#2a3f5f"
            },
            "error_y": {
             "color": "#2a3f5f"
            },
            "marker": {
             "line": {
              "color": "#E5ECF6",
              "width": 0.5
             },
             "pattern": {
              "fillmode": "overlay",
              "size": 10,
              "solidity": 0.2
             }
            },
            "type": "bar"
           }
          ],
          "barpolar": [
           {
            "marker": {
             "line": {
              "color": "#E5ECF6",
              "width": 0.5
             },
             "pattern": {
              "fillmode": "overlay",
              "size": 10,
              "solidity": 0.2
             }
            },
            "type": "barpolar"
           }
          ],
          "carpet": [
           {
            "aaxis": {
             "endlinecolor": "#2a3f5f",
             "gridcolor": "white",
             "linecolor": "white",
             "minorgridcolor": "white",
             "startlinecolor": "#2a3f5f"
            },
            "baxis": {
             "endlinecolor": "#2a3f5f",
             "gridcolor": "white",
             "linecolor": "white",
             "minorgridcolor": "white",
             "startlinecolor": "#2a3f5f"
            },
            "type": "carpet"
           }
          ],
          "choropleth": [
           {
            "colorbar": {
             "outlinewidth": 0,
             "ticks": ""
            },
            "type": "choropleth"
           }
          ],
          "contour": [
           {
            "colorbar": {
             "outlinewidth": 0,
             "ticks": ""
            },
            "colorscale": [
             [
              0,
              "#0d0887"
             ],
             [
              0.1111111111111111,
              "#46039f"
             ],
             [
              0.2222222222222222,
              "#7201a8"
             ],
             [
              0.3333333333333333,
              "#9c179e"
             ],
             [
              0.4444444444444444,
              "#bd3786"
             ],
             [
              0.5555555555555556,
              "#d8576b"
             ],
             [
              0.6666666666666666,
              "#ed7953"
             ],
             [
              0.7777777777777778,
              "#fb9f3a"
             ],
             [
              0.8888888888888888,
              "#fdca26"
             ],
             [
              1,
              "#f0f921"
             ]
            ],
            "type": "contour"
           }
          ],
          "contourcarpet": [
           {
            "colorbar": {
             "outlinewidth": 0,
             "ticks": ""
            },
            "type": "contourcarpet"
           }
          ],
          "heatmap": [
           {
            "colorbar": {
             "outlinewidth": 0,
             "ticks": ""
            },
            "colorscale": [
             [
              0,
              "#0d0887"
             ],
             [
              0.1111111111111111,
              "#46039f"
             ],
             [
              0.2222222222222222,
              "#7201a8"
             ],
             [
              0.3333333333333333,
              "#9c179e"
             ],
             [
              0.4444444444444444,
              "#bd3786"
             ],
             [
              0.5555555555555556,
              "#d8576b"
             ],
             [
              0.6666666666666666,
              "#ed7953"
             ],
             [
              0.7777777777777778,
              "#fb9f3a"
             ],
             [
              0.8888888888888888,
              "#fdca26"
             ],
             [
              1,
              "#f0f921"
             ]
            ],
            "type": "heatmap"
           }
          ],
          "histogram": [
           {
            "marker": {
             "pattern": {
              "fillmode": "overlay",
              "size": 10,
              "solidity": 0.2
             }
            },
            "type": "histogram"
           }
          ],
          "histogram2d": [
           {
            "colorbar": {
             "outlinewidth": 0,
             "ticks": ""
            },
            "colorscale": [
             [
              0,
              "#0d0887"
             ],
             [
              0.1111111111111111,
              "#46039f"
             ],
             [
              0.2222222222222222,
              "#7201a8"
             ],
             [
              0.3333333333333333,
              "#9c179e"
             ],
             [
              0.4444444444444444,
              "#bd3786"
             ],
             [
              0.5555555555555556,
              "#d8576b"
             ],
             [
              0.6666666666666666,
              "#ed7953"
             ],
             [
              0.7777777777777778,
              "#fb9f3a"
             ],
             [
              0.8888888888888888,
              "#fdca26"
             ],
             [
              1,
              "#f0f921"
             ]
            ],
            "type": "histogram2d"
           }
          ],
          "histogram2dcontour": [
           {
            "colorbar": {
             "outlinewidth": 0,
             "ticks": ""
            },
            "colorscale": [
             [
              0,
              "#0d0887"
             ],
             [
              0.1111111111111111,
              "#46039f"
             ],
             [
              0.2222222222222222,
              "#7201a8"
             ],
             [
              0.3333333333333333,
              "#9c179e"
             ],
             [
              0.4444444444444444,
              "#bd3786"
             ],
             [
              0.5555555555555556,
              "#d8576b"
             ],
             [
              0.6666666666666666,
              "#ed7953"
             ],
             [
              0.7777777777777778,
              "#fb9f3a"
             ],
             [
              0.8888888888888888,
              "#fdca26"
             ],
             [
              1,
              "#f0f921"
             ]
            ],
            "type": "histogram2dcontour"
           }
          ],
          "mesh3d": [
           {
            "colorbar": {
             "outlinewidth": 0,
             "ticks": ""
            },
            "type": "mesh3d"
           }
          ],
          "parcoords": [
           {
            "line": {
             "colorbar": {
              "outlinewidth": 0,
              "ticks": ""
             }
            },
            "type": "parcoords"
           }
          ],
          "pie": [
           {
            "automargin": true,
            "type": "pie"
           }
          ],
          "scatter": [
           {
            "fillpattern": {
             "fillmode": "overlay",
             "size": 10,
             "solidity": 0.2
            },
            "type": "scatter"
           }
          ],
          "scatter3d": [
           {
            "line": {
             "colorbar": {
              "outlinewidth": 0,
              "ticks": ""
             }
            },
            "marker": {
             "colorbar": {
              "outlinewidth": 0,
              "ticks": ""
             }
            },
            "type": "scatter3d"
           }
          ],
          "scattercarpet": [
           {
            "marker": {
             "colorbar": {
              "outlinewidth": 0,
              "ticks": ""
             }
            },
            "type": "scattercarpet"
           }
          ],
          "scattergeo": [
           {
            "marker": {
             "colorbar": {
              "outlinewidth": 0,
              "ticks": ""
             }
            },
            "type": "scattergeo"
           }
          ],
          "scattergl": [
           {
            "marker": {
             "colorbar": {
              "outlinewidth": 0,
              "ticks": ""
             }
            },
            "type": "scattergl"
           }
          ],
          "scattermap": [
           {
            "marker": {
             "colorbar": {
              "outlinewidth": 0,
              "ticks": ""
             }
            },
            "type": "scattermap"
           }
          ],
          "scattermapbox": [
           {
            "marker": {
             "colorbar": {
              "outlinewidth": 0,
              "ticks": ""
             }
            },
            "type": "scattermapbox"
           }
          ],
          "scatterpolar": [
           {
            "marker": {
             "colorbar": {
              "outlinewidth": 0,
              "ticks": ""
             }
            },
            "type": "scatterpolar"
           }
          ],
          "scatterpolargl": [
           {
            "marker": {
             "colorbar": {
              "outlinewidth": 0,
              "ticks": ""
             }
            },
            "type": "scatterpolargl"
           }
          ],
          "scatterternary": [
           {
            "marker": {
             "colorbar": {
              "outlinewidth": 0,
              "ticks": ""
             }
            },
            "type": "scatterternary"
           }
          ],
          "surface": [
           {
            "colorbar": {
             "outlinewidth": 0,
             "ticks": ""
            },
            "colorscale": [
             [
              0,
              "#0d0887"
             ],
             [
              0.1111111111111111,
              "#46039f"
             ],
             [
              0.2222222222222222,
              "#7201a8"
             ],
             [
              0.3333333333333333,
              "#9c179e"
             ],
             [
              0.4444444444444444,
              "#bd3786"
             ],
             [
              0.5555555555555556,
              "#d8576b"
             ],
             [
              0.6666666666666666,
              "#ed7953"
             ],
             [
              0.7777777777777778,
              "#fb9f3a"
             ],
             [
              0.8888888888888888,
              "#fdca26"
             ],
             [
              1,
              "#f0f921"
             ]
            ],
            "type": "surface"
           }
          ],
          "table": [
           {
            "cells": {
             "fill": {
              "color": "#EBF0F8"
             },
             "line": {
              "color": "white"
             }
            },
            "header": {
             "fill": {
              "color": "#C8D4E3"
             },
             "line": {
              "color": "white"
             }
            },
            "type": "table"
           }
          ]
         },
         "layout": {
          "annotationdefaults": {
           "arrowcolor": "#2a3f5f",
           "arrowhead": 0,
           "arrowwidth": 1
          },
          "autotypenumbers": "strict",
          "coloraxis": {
           "colorbar": {
            "outlinewidth": 0,
            "ticks": ""
           }
          },
          "colorscale": {
           "diverging": [
            [
             0,
             "#8e0152"
            ],
            [
             0.1,
             "#c51b7d"
            ],
            [
             0.2,
             "#de77ae"
            ],
            [
             0.3,
             "#f1b6da"
            ],
            [
             0.4,
             "#fde0ef"
            ],
            [
             0.5,
             "#f7f7f7"
            ],
            [
             0.6,
             "#e6f5d0"
            ],
            [
             0.7,
             "#b8e186"
            ],
            [
             0.8,
             "#7fbc41"
            ],
            [
             0.9,
             "#4d9221"
            ],
            [
             1,
             "#276419"
            ]
           ],
           "sequential": [
            [
             0,
             "#0d0887"
            ],
            [
             0.1111111111111111,
             "#46039f"
            ],
            [
             0.2222222222222222,
             "#7201a8"
            ],
            [
             0.3333333333333333,
             "#9c179e"
            ],
            [
             0.4444444444444444,
             "#bd3786"
            ],
            [
             0.5555555555555556,
             "#d8576b"
            ],
            [
             0.6666666666666666,
             "#ed7953"
            ],
            [
             0.7777777777777778,
             "#fb9f3a"
            ],
            [
             0.8888888888888888,
             "#fdca26"
            ],
            [
             1,
             "#f0f921"
            ]
           ],
           "sequentialminus": [
            [
             0,
             "#0d0887"
            ],
            [
             0.1111111111111111,
             "#46039f"
            ],
            [
             0.2222222222222222,
             "#7201a8"
            ],
            [
             0.3333333333333333,
             "#9c179e"
            ],
            [
             0.4444444444444444,
             "#bd3786"
            ],
            [
             0.5555555555555556,
             "#d8576b"
            ],
            [
             0.6666666666666666,
             "#ed7953"
            ],
            [
             0.7777777777777778,
             "#fb9f3a"
            ],
            [
             0.8888888888888888,
             "#fdca26"
            ],
            [
             1,
             "#f0f921"
            ]
           ]
          },
          "colorway": [
           "#636efa",
           "#EF553B",
           "#00cc96",
           "#ab63fa",
           "#FFA15A",
           "#19d3f3",
           "#FF6692",
           "#B6E880",
           "#FF97FF",
           "#FECB52"
          ],
          "font": {
           "color": "#2a3f5f"
          },
          "geo": {
           "bgcolor": "white",
           "lakecolor": "white",
           "landcolor": "#E5ECF6",
           "showlakes": true,
           "showland": true,
           "subunitcolor": "white"
          },
          "hoverlabel": {
           "align": "left"
          },
          "hovermode": "closest",
          "mapbox": {
           "style": "light"
          },
          "paper_bgcolor": "white",
          "plot_bgcolor": "#E5ECF6",
          "polar": {
           "angularaxis": {
            "gridcolor": "white",
            "linecolor": "white",
            "ticks": ""
           },
           "bgcolor": "#E5ECF6",
           "radialaxis": {
            "gridcolor": "white",
            "linecolor": "white",
            "ticks": ""
           }
          },
          "scene": {
           "xaxis": {
            "backgroundcolor": "#E5ECF6",
            "gridcolor": "white",
            "gridwidth": 2,
            "linecolor": "white",
            "showbackground": true,
            "ticks": "",
            "zerolinecolor": "white"
           },
           "yaxis": {
            "backgroundcolor": "#E5ECF6",
            "gridcolor": "white",
            "gridwidth": 2,
            "linecolor": "white",
            "showbackground": true,
            "ticks": "",
            "zerolinecolor": "white"
           },
           "zaxis": {
            "backgroundcolor": "#E5ECF6",
            "gridcolor": "white",
            "gridwidth": 2,
            "linecolor": "white",
            "showbackground": true,
            "ticks": "",
            "zerolinecolor": "white"
           }
          },
          "shapedefaults": {
           "line": {
            "color": "#2a3f5f"
           }
          },
          "ternary": {
           "aaxis": {
            "gridcolor": "white",
            "linecolor": "white",
            "ticks": ""
           },
           "baxis": {
            "gridcolor": "white",
            "linecolor": "white",
            "ticks": ""
           },
           "bgcolor": "#E5ECF6",
           "caxis": {
            "gridcolor": "white",
            "linecolor": "white",
            "ticks": ""
           }
          },
          "title": {
           "x": 0.05
          },
          "xaxis": {
           "automargin": true,
           "gridcolor": "white",
           "linecolor": "white",
           "ticks": "",
           "title": {
            "standoff": 15
           },
           "zerolinecolor": "white",
           "zerolinewidth": 2
          },
          "yaxis": {
           "automargin": true,
           "gridcolor": "white",
           "linecolor": "white",
           "ticks": "",
           "title": {
            "standoff": 15
           },
           "zerolinecolor": "white",
           "zerolinewidth": 2
          }
         }
        },
        "title": {
         "text": "Path patching results H31.1 Value"
        },
        "width": 500,
        "xaxis": {
         "anchor": "y",
         "constrain": "domain",
         "domain": [
          0,
          1
         ],
         "scaleanchor": "y",
         "title": {
          "text": "Layer"
         }
        },
        "yaxis": {
         "anchor": "x",
         "autorange": "reversed",
         "constrain": "domain",
         "domain": [
          0,
          1
         ],
         "title": {
          "text": "Head"
         }
        }
       }
      }
     },
     "metadata": {},
     "output_type": "display_data"
    },
    {
     "data": {
      "application/vnd.plotly.v1+json": {
       "config": {
        "plotlyServerURL": "https://plot.ly",
        "staticPlot": false
       },
       "data": [
        {
         "coloraxis": "coloraxis",
         "hovertemplate": "Layer: %{x}<br>Head: %{y}<br>Logit diff. variation: %{z}<extra></extra>",
         "name": "0",
         "type": "heatmap",
         "xaxis": "x",
         "yaxis": "y",
         "z": {
          "bdata": "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",
          "dtype": "f4",
          "shape": "32, 32"
         }
        }
       ],
       "layout": {
        "coloraxis": {
         "cmid": 0,
         "colorbar": {
          "ticksuffix": "%",
          "title": {
           "text": "Logit diff. variation"
          }
         },
         "colorscale": [
          [
           0,
           "rgb(103,0,31)"
          ],
          [
           0.1,
           "rgb(178,24,43)"
          ],
          [
           0.2,
           "rgb(214,96,77)"
          ],
          [
           0.3,
           "rgb(244,165,130)"
          ],
          [
           0.4,
           "rgb(253,219,199)"
          ],
          [
           0.5,
           "rgb(247,247,247)"
          ],
          [
           0.6,
           "rgb(209,229,240)"
          ],
          [
           0.7,
           "rgb(146,197,222)"
          ],
          [
           0.8,
           "rgb(67,147,195)"
          ],
          [
           0.9,
           "rgb(33,102,172)"
          ],
          [
           1,
           "rgb(5,48,97)"
          ]
         ]
        },
        "height": 400,
        "template": {
         "data": {
          "bar": [
           {
            "error_x": {
             "color": "#2a3f5f"
            },
            "error_y": {
             "color": "#2a3f5f"
            },
            "marker": {
             "line": {
              "color": "#E5ECF6",
              "width": 0.5
             },
             "pattern": {
              "fillmode": "overlay",
              "size": 10,
              "solidity": 0.2
             }
            },
            "type": "bar"
           }
          ],
          "barpolar": [
           {
            "marker": {
             "line": {
              "color": "#E5ECF6",
              "width": 0.5
             },
             "pattern": {
              "fillmode": "overlay",
              "size": 10,
              "solidity": 0.2
             }
            },
            "type": "barpolar"
           }
          ],
          "carpet": [
           {
            "aaxis": {
             "endlinecolor": "#2a3f5f",
             "gridcolor": "white",
             "linecolor": "white",
             "minorgridcolor": "white",
             "startlinecolor": "#2a3f5f"
            },
            "baxis": {
             "endlinecolor": "#2a3f5f",
             "gridcolor": "white",
             "linecolor": "white",
             "minorgridcolor": "white",
             "startlinecolor": "#2a3f5f"
            },
            "type": "carpet"
           }
          ],
          "choropleth": [
           {
            "colorbar": {
             "outlinewidth": 0,
             "ticks": ""
            },
            "type": "choropleth"
           }
          ],
          "contour": [
           {
            "colorbar": {
             "outlinewidth": 0,
             "ticks": ""
            },
            "colorscale": [
             [
              0,
              "#0d0887"
             ],
             [
              0.1111111111111111,
              "#46039f"
             ],
             [
              0.2222222222222222,
              "#7201a8"
             ],
             [
              0.3333333333333333,
              "#9c179e"
             ],
             [
              0.4444444444444444,
              "#bd3786"
             ],
             [
              0.5555555555555556,
              "#d8576b"
             ],
             [
              0.6666666666666666,
              "#ed7953"
             ],
             [
              0.7777777777777778,
              "#fb9f3a"
             ],
             [
              0.8888888888888888,
              "#fdca26"
             ],
             [
              1,
              "#f0f921"
             ]
            ],
            "type": "contour"
           }
          ],
          "contourcarpet": [
           {
            "colorbar": {
             "outlinewidth": 0,
             "ticks": ""
            },
            "type": "contourcarpet"
           }
          ],
          "heatmap": [
           {
            "colorbar": {
             "outlinewidth": 0,
             "ticks": ""
            },
            "colorscale": [
             [
              0,
              "#0d0887"
             ],
             [
              0.1111111111111111,
              "#46039f"
             ],
             [
              0.2222222222222222,
              "#7201a8"
             ],
             [
              0.3333333333333333,
              "#9c179e"
             ],
             [
              0.4444444444444444,
              "#bd3786"
             ],
             [
              0.5555555555555556,
              "#d8576b"
             ],
             [
              0.6666666666666666,
              "#ed7953"
             ],
             [
              0.7777777777777778,
              "#fb9f3a"
             ],
             [
              0.8888888888888888,
              "#fdca26"
             ],
             [
              1,
              "#f0f921"
             ]
            ],
            "type": "heatmap"
           }
          ],
          "histogram": [
           {
            "marker": {
             "pattern": {
              "fillmode": "overlay",
              "size": 10,
              "solidity": 0.2
             }
            },
            "type": "histogram"
           }
          ],
          "histogram2d": [
           {
            "colorbar": {
             "outlinewidth": 0,
             "ticks": ""
            },
            "colorscale": [
             [
              0,
              "#0d0887"
             ],
             [
              0.1111111111111111,
              "#46039f"
             ],
             [
              0.2222222222222222,
              "#7201a8"
             ],
             [
              0.3333333333333333,
              "#9c179e"
             ],
             [
              0.4444444444444444,
              "#bd3786"
             ],
             [
              0.5555555555555556,
              "#d8576b"
             ],
             [
              0.6666666666666666,
              "#ed7953"
             ],
             [
              0.7777777777777778,
              "#fb9f3a"
             ],
             [
              0.8888888888888888,
              "#fdca26"
             ],
             [
              1,
              "#f0f921"
             ]
            ],
            "type": "histogram2d"
           }
          ],
          "histogram2dcontour": [
           {
            "colorbar": {
             "outlinewidth": 0,
             "ticks": ""
            },
            "colorscale": [
             [
              0,
              "#0d0887"
             ],
             [
              0.1111111111111111,
              "#46039f"
             ],
             [
              0.2222222222222222,
              "#7201a8"
             ],
             [
              0.3333333333333333,
              "#9c179e"
             ],
             [
              0.4444444444444444,
              "#bd3786"
             ],
             [
              0.5555555555555556,
              "#d8576b"
             ],
             [
              0.6666666666666666,
              "#ed7953"
             ],
             [
              0.7777777777777778,
              "#fb9f3a"
             ],
             [
              0.8888888888888888,
              "#fdca26"
             ],
             [
              1,
              "#f0f921"
             ]
            ],
            "type": "histogram2dcontour"
           }
          ],
          "mesh3d": [
           {
            "colorbar": {
             "outlinewidth": 0,
             "ticks": ""
            },
            "type": "mesh3d"
           }
          ],
          "parcoords": [
           {
            "line": {
             "colorbar": {
              "outlinewidth": 0,
              "ticks": ""
             }
            },
            "type": "parcoords"
           }
          ],
          "pie": [
           {
            "automargin": true,
            "type": "pie"
           }
          ],
          "scatter": [
           {
            "fillpattern": {
             "fillmode": "overlay",
             "size": 10,
             "solidity": 0.2
            },
            "type": "scatter"
           }
          ],
          "scatter3d": [
           {
            "line": {
             "colorbar": {
              "outlinewidth": 0,
              "ticks": ""
             }
            },
            "marker": {
             "colorbar": {
              "outlinewidth": 0,
              "ticks": ""
             }
            },
            "type": "scatter3d"
           }
          ],
          "scattercarpet": [
           {
            "marker": {
             "colorbar": {
              "outlinewidth": 0,
              "ticks": ""
             }
            },
            "type": "scattercarpet"
           }
          ],
          "scattergeo": [
           {
            "marker": {
             "colorbar": {
              "outlinewidth": 0,
              "ticks": ""
             }
            },
            "type": "scattergeo"
           }
          ],
          "scattergl": [
           {
            "marker": {
             "colorbar": {
              "outlinewidth": 0,
              "ticks": ""
             }
            },
            "type": "scattergl"
           }
          ],
          "scattermap": [
           {
            "marker": {
             "colorbar": {
              "outlinewidth": 0,
              "ticks": ""
             }
            },
            "type": "scattermap"
           }
          ],
          "scattermapbox": [
           {
            "marker": {
             "colorbar": {
              "outlinewidth": 0,
              "ticks": ""
             }
            },
            "type": "scattermapbox"
           }
          ],
          "scatterpolar": [
           {
            "marker": {
             "colorbar": {
              "outlinewidth": 0,
              "ticks": ""
             }
            },
            "type": "scatterpolar"
           }
          ],
          "scatterpolargl": [
           {
            "marker": {
             "colorbar": {
              "outlinewidth": 0,
              "ticks": ""
             }
            },
            "type": "scatterpolargl"
           }
          ],
          "scatterternary": [
           {
            "marker": {
             "colorbar": {
              "outlinewidth": 0,
              "ticks": ""
             }
            },
            "type": "scatterternary"
           }
          ],
          "surface": [
           {
            "colorbar": {
             "outlinewidth": 0,
             "ticks": ""
            },
            "colorscale": [
             [
              0,
              "#0d0887"
             ],
             [
              0.1111111111111111,
              "#46039f"
             ],
             [
              0.2222222222222222,
              "#7201a8"
             ],
             [
              0.3333333333333333,
              "#9c179e"
             ],
             [
              0.4444444444444444,
              "#bd3786"
             ],
             [
              0.5555555555555556,
              "#d8576b"
             ],
             [
              0.6666666666666666,
              "#ed7953"
             ],
             [
              0.7777777777777778,
              "#fb9f3a"
             ],
             [
              0.8888888888888888,
              "#fdca26"
             ],
             [
              1,
              "#f0f921"
             ]
            ],
            "type": "surface"
           }
          ],
          "table": [
           {
            "cells": {
             "fill": {
              "color": "#EBF0F8"
             },
             "line": {
              "color": "white"
             }
            },
            "header": {
             "fill": {
              "color": "#C8D4E3"
             },
             "line": {
              "color": "white"
             }
            },
            "type": "table"
           }
          ]
         },
         "layout": {
          "annotationdefaults": {
           "arrowcolor": "#2a3f5f",
           "arrowhead": 0,
           "arrowwidth": 1
          },
          "autotypenumbers": "strict",
          "coloraxis": {
           "colorbar": {
            "outlinewidth": 0,
            "ticks": ""
           }
          },
          "colorscale": {
           "diverging": [
            [
             0,
             "#8e0152"
            ],
            [
             0.1,
             "#c51b7d"
            ],
            [
             0.2,
             "#de77ae"
            ],
            [
             0.3,
             "#f1b6da"
            ],
            [
             0.4,
             "#fde0ef"
            ],
            [
             0.5,
             "#f7f7f7"
            ],
            [
             0.6,
             "#e6f5d0"
            ],
            [
             0.7,
             "#b8e186"
            ],
            [
             0.8,
             "#7fbc41"
            ],
            [
             0.9,
             "#4d9221"
            ],
            [
             1,
             "#276419"
            ]
           ],
           "sequential": [
            [
             0,
             "#0d0887"
            ],
            [
             0.1111111111111111,
             "#46039f"
            ],
            [
             0.2222222222222222,
             "#7201a8"
            ],
            [
             0.3333333333333333,
             "#9c179e"
            ],
            [
             0.4444444444444444,
             "#bd3786"
            ],
            [
             0.5555555555555556,
             "#d8576b"
            ],
            [
             0.6666666666666666,
             "#ed7953"
            ],
            [
             0.7777777777777778,
             "#fb9f3a"
            ],
            [
             0.8888888888888888,
             "#fdca26"
            ],
            [
             1,
             "#f0f921"
            ]
           ],
           "sequentialminus": [
            [
             0,
             "#0d0887"
            ],
            [
             0.1111111111111111,
             "#46039f"
            ],
            [
             0.2222222222222222,
             "#7201a8"
            ],
            [
             0.3333333333333333,
             "#9c179e"
            ],
            [
             0.4444444444444444,
             "#bd3786"
            ],
            [
             0.5555555555555556,
             "#d8576b"
            ],
            [
             0.6666666666666666,
             "#ed7953"
            ],
            [
             0.7777777777777778,
             "#fb9f3a"
            ],
            [
             0.8888888888888888,
             "#fdca26"
            ],
            [
             1,
             "#f0f921"
            ]
           ]
          },
          "colorway": [
           "#636efa",
           "#EF553B",
           "#00cc96",
           "#ab63fa",
           "#FFA15A",
           "#19d3f3",
           "#FF6692",
           "#B6E880",
           "#FF97FF",
           "#FECB52"
          ],
          "font": {
           "color": "#2a3f5f"
          },
          "geo": {
           "bgcolor": "white",
           "lakecolor": "white",
           "landcolor": "#E5ECF6",
           "showlakes": true,
           "showland": true,
           "subunitcolor": "white"
          },
          "hoverlabel": {
           "align": "left"
          },
          "hovermode": "closest",
          "mapbox": {
           "style": "light"
          },
          "paper_bgcolor": "white",
          "plot_bgcolor": "#E5ECF6",
          "polar": {
           "angularaxis": {
            "gridcolor": "white",
            "linecolor": "white",
            "ticks": ""
           },
           "bgcolor": "#E5ECF6",
           "radialaxis": {
            "gridcolor": "white",
            "linecolor": "white",
            "ticks": ""
           }
          },
          "scene": {
           "xaxis": {
            "backgroundcolor": "#E5ECF6",
            "gridcolor": "white",
            "gridwidth": 2,
            "linecolor": "white",
            "showbackground": true,
            "ticks": "",
            "zerolinecolor": "white"
           },
           "yaxis": {
            "backgroundcolor": "#E5ECF6",
            "gridcolor": "white",
            "gridwidth": 2,
            "linecolor": "white",
            "showbackground": true,
            "ticks": "",
            "zerolinecolor": "white"
           },
           "zaxis": {
            "backgroundcolor": "#E5ECF6",
            "gridcolor": "white",
            "gridwidth": 2,
            "linecolor": "white",
            "showbackground": true,
            "ticks": "",
            "zerolinecolor": "white"
           }
          },
          "shapedefaults": {
           "line": {
            "color": "#2a3f5f"
           }
          },
          "ternary": {
           "aaxis": {
            "gridcolor": "white",
            "linecolor": "white",
            "ticks": ""
           },
           "baxis": {
            "gridcolor": "white",
            "linecolor": "white",
            "ticks": ""
           },
           "bgcolor": "#E5ECF6",
           "caxis": {
            "gridcolor": "white",
            "linecolor": "white",
            "ticks": ""
           }
          },
          "title": {
           "x": 0.05
          },
          "xaxis": {
           "automargin": true,
           "gridcolor": "white",
           "linecolor": "white",
           "ticks": "",
           "title": {
            "standoff": 15
           },
           "zerolinecolor": "white",
           "zerolinewidth": 2
          },
          "yaxis": {
           "automargin": true,
           "gridcolor": "white",
           "linecolor": "white",
           "ticks": "",
           "title": {
            "standoff": 15
           },
           "zerolinecolor": "white",
           "zerolinewidth": 2
          }
         }
        },
        "title": {
         "text": "Path patching results H29.11 Value"
        },
        "width": 500,
        "xaxis": {
         "anchor": "y",
         "constrain": "domain",
         "domain": [
          0,
          1
         ],
         "scaleanchor": "y",
         "title": {
          "text": "Layer"
         }
        },
        "yaxis": {
         "anchor": "x",
         "autorange": "reversed",
         "constrain": "domain",
         "domain": [
          0,
          1
         ],
         "title": {
          "text": "Head"
         }
        }
       }
      }
     },
     "metadata": {},
     "output_type": "display_data"
    },
    {
     "data": {
      "application/vnd.plotly.v1+json": {
       "config": {
        "plotlyServerURL": "https://plot.ly",
        "staticPlot": false
       },
       "data": [
        {
         "coloraxis": "coloraxis",
         "hovertemplate": "Layer: %{x}<br>Head: %{y}<br>Logit diff. variation: %{z}<extra></extra>",
         "name": "0",
         "type": "heatmap",
         "xaxis": "x",
         "yaxis": "y",
         "z": {
          "bdata": "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",
          "dtype": "f4",
          "shape": "32, 32"
         }
        }
       ],
       "layout": {
        "coloraxis": {
         "cmid": 0,
         "colorbar": {
          "ticksuffix": "%",
          "title": {
           "text": "Logit diff. variation"
          }
         },
         "colorscale": [
          [
           0,
           "rgb(103,0,31)"
          ],
          [
           0.1,
           "rgb(178,24,43)"
          ],
          [
           0.2,
           "rgb(214,96,77)"
          ],
          [
           0.3,
           "rgb(244,165,130)"
          ],
          [
           0.4,
           "rgb(253,219,199)"
          ],
          [
           0.5,
           "rgb(247,247,247)"
          ],
          [
           0.6,
           "rgb(209,229,240)"
          ],
          [
           0.7,
           "rgb(146,197,222)"
          ],
          [
           0.8,
           "rgb(67,147,195)"
          ],
          [
           0.9,
           "rgb(33,102,172)"
          ],
          [
           1,
           "rgb(5,48,97)"
          ]
         ]
        },
        "height": 400,
        "template": {
         "data": {
          "bar": [
           {
            "error_x": {
             "color": "#2a3f5f"
            },
            "error_y": {
             "color": "#2a3f5f"
            },
            "marker": {
             "line": {
              "color": "#E5ECF6",
              "width": 0.5
             },
             "pattern": {
              "fillmode": "overlay",
              "size": 10,
              "solidity": 0.2
             }
            },
            "type": "bar"
           }
          ],
          "barpolar": [
           {
            "marker": {
             "line": {
              "color": "#E5ECF6",
              "width": 0.5
             },
             "pattern": {
              "fillmode": "overlay",
              "size": 10,
              "solidity": 0.2
             }
            },
            "type": "barpolar"
           }
          ],
          "carpet": [
           {
            "aaxis": {
             "endlinecolor": "#2a3f5f",
             "gridcolor": "white",
             "linecolor": "white",
             "minorgridcolor": "white",
             "startlinecolor": "#2a3f5f"
            },
            "baxis": {
             "endlinecolor": "#2a3f5f",
             "gridcolor": "white",
             "linecolor": "white",
             "minorgridcolor": "white",
             "startlinecolor": "#2a3f5f"
            },
            "type": "carpet"
           }
          ],
          "choropleth": [
           {
            "colorbar": {
             "outlinewidth": 0,
             "ticks": ""
            },
            "type": "choropleth"
           }
          ],
          "contour": [
           {
            "colorbar": {
             "outlinewidth": 0,
             "ticks": ""
            },
            "colorscale": [
             [
              0,
              "#0d0887"
             ],
             [
              0.1111111111111111,
              "#46039f"
             ],
             [
              0.2222222222222222,
              "#7201a8"
             ],
             [
              0.3333333333333333,
              "#9c179e"
             ],
             [
              0.4444444444444444,
              "#bd3786"
             ],
             [
              0.5555555555555556,
              "#d8576b"
             ],
             [
              0.6666666666666666,
              "#ed7953"
             ],
             [
              0.7777777777777778,
              "#fb9f3a"
             ],
             [
              0.8888888888888888,
              "#fdca26"
             ],
             [
              1,
              "#f0f921"
             ]
            ],
            "type": "contour"
           }
          ],
          "contourcarpet": [
           {
            "colorbar": {
             "outlinewidth": 0,
             "ticks": ""
            },
            "type": "contourcarpet"
           }
          ],
          "heatmap": [
           {
            "colorbar": {
             "outlinewidth": 0,
             "ticks": ""
            },
            "colorscale": [
             [
              0,
              "#0d0887"
             ],
             [
              0.1111111111111111,
              "#46039f"
             ],
             [
              0.2222222222222222,
              "#7201a8"
             ],
             [
              0.3333333333333333,
              "#9c179e"
             ],
             [
              0.4444444444444444,
              "#bd3786"
             ],
             [
              0.5555555555555556,
              "#d8576b"
             ],
             [
              0.6666666666666666,
              "#ed7953"
             ],
             [
              0.7777777777777778,
              "#fb9f3a"
             ],
             [
              0.8888888888888888,
              "#fdca26"
             ],
             [
              1,
              "#f0f921"
             ]
            ],
            "type": "heatmap"
           }
          ],
          "histogram": [
           {
            "marker": {
             "pattern": {
              "fillmode": "overlay",
              "size": 10,
              "solidity": 0.2
             }
            },
            "type": "histogram"
           }
          ],
          "histogram2d": [
           {
            "colorbar": {
             "outlinewidth": 0,
             "ticks": ""
            },
            "colorscale": [
             [
              0,
              "#0d0887"
             ],
             [
              0.1111111111111111,
              "#46039f"
             ],
             [
              0.2222222222222222,
              "#7201a8"
             ],
             [
              0.3333333333333333,
              "#9c179e"
             ],
             [
              0.4444444444444444,
              "#bd3786"
             ],
             [
              0.5555555555555556,
              "#d8576b"
             ],
             [
              0.6666666666666666,
              "#ed7953"
             ],
             [
              0.7777777777777778,
              "#fb9f3a"
             ],
             [
              0.8888888888888888,
              "#fdca26"
             ],
             [
              1,
              "#f0f921"
             ]
            ],
            "type": "histogram2d"
           }
          ],
          "histogram2dcontour": [
           {
            "colorbar": {
             "outlinewidth": 0,
             "ticks": ""
            },
            "colorscale": [
             [
              0,
              "#0d0887"
             ],
             [
              0.1111111111111111,
              "#46039f"
             ],
             [
              0.2222222222222222,
              "#7201a8"
             ],
             [
              0.3333333333333333,
              "#9c179e"
             ],
             [
              0.4444444444444444,
              "#bd3786"
             ],
             [
              0.5555555555555556,
              "#d8576b"
             ],
             [
              0.6666666666666666,
              "#ed7953"
             ],
             [
              0.7777777777777778,
              "#fb9f3a"
             ],
             [
              0.8888888888888888,
              "#fdca26"
             ],
             [
              1,
              "#f0f921"
             ]
            ],
            "type": "histogram2dcontour"
           }
          ],
          "mesh3d": [
           {
            "colorbar": {
             "outlinewidth": 0,
             "ticks": ""
            },
            "type": "mesh3d"
           }
          ],
          "parcoords": [
           {
            "line": {
             "colorbar": {
              "outlinewidth": 0,
              "ticks": ""
             }
            },
            "type": "parcoords"
           }
          ],
          "pie": [
           {
            "automargin": true,
            "type": "pie"
           }
          ],
          "scatter": [
           {
            "fillpattern": {
             "fillmode": "overlay",
             "size": 10,
             "solidity": 0.2
            },
            "type": "scatter"
           }
          ],
          "scatter3d": [
           {
            "line": {
             "colorbar": {
              "outlinewidth": 0,
              "ticks": ""
             }
            },
            "marker": {
             "colorbar": {
              "outlinewidth": 0,
              "ticks": ""
             }
            },
            "type": "scatter3d"
           }
          ],
          "scattercarpet": [
           {
            "marker": {
             "colorbar": {
              "outlinewidth": 0,
              "ticks": ""
             }
            },
            "type": "scattercarpet"
           }
          ],
          "scattergeo": [
           {
            "marker": {
             "colorbar": {
              "outlinewidth": 0,
              "ticks": ""
             }
            },
            "type": "scattergeo"
           }
          ],
          "scattergl": [
           {
            "marker": {
             "colorbar": {
              "outlinewidth": 0,
              "ticks": ""
             }
            },
            "type": "scattergl"
           }
          ],
          "scattermap": [
           {
            "marker": {
             "colorbar": {
              "outlinewidth": 0,
              "ticks": ""
             }
            },
            "type": "scattermap"
           }
          ],
          "scattermapbox": [
           {
            "marker": {
             "colorbar": {
              "outlinewidth": 0,
              "ticks": ""
             }
            },
            "type": "scattermapbox"
           }
          ],
          "scatterpolar": [
           {
            "marker": {
             "colorbar": {
              "outlinewidth": 0,
              "ticks": ""
             }
            },
            "type": "scatterpolar"
           }
          ],
          "scatterpolargl": [
           {
            "marker": {
             "colorbar": {
              "outlinewidth": 0,
              "ticks": ""
             }
            },
            "type": "scatterpolargl"
           }
          ],
          "scatterternary": [
           {
            "marker": {
             "colorbar": {
              "outlinewidth": 0,
              "ticks": ""
             }
            },
            "type": "scatterternary"
           }
          ],
          "surface": [
           {
            "colorbar": {
             "outlinewidth": 0,
             "ticks": ""
            },
            "colorscale": [
             [
              0,
              "#0d0887"
             ],
             [
              0.1111111111111111,
              "#46039f"
             ],
             [
              0.2222222222222222,
              "#7201a8"
             ],
             [
              0.3333333333333333,
              "#9c179e"
             ],
             [
              0.4444444444444444,
              "#bd3786"
             ],
             [
              0.5555555555555556,
              "#d8576b"
             ],
             [
              0.6666666666666666,
              "#ed7953"
             ],
             [
              0.7777777777777778,
              "#fb9f3a"
             ],
             [
              0.8888888888888888,
              "#fdca26"
             ],
             [
              1,
              "#f0f921"
             ]
            ],
            "type": "surface"
           }
          ],
          "table": [
           {
            "cells": {
             "fill": {
              "color": "#EBF0F8"
             },
             "line": {
              "color": "white"
             }
            },
            "header": {
             "fill": {
              "color": "#C8D4E3"
             },
             "line": {
              "color": "white"
             }
            },
            "type": "table"
           }
          ]
         },
         "layout": {
          "annotationdefaults": {
           "arrowcolor": "#2a3f5f",
           "arrowhead": 0,
           "arrowwidth": 1
          },
          "autotypenumbers": "strict",
          "coloraxis": {
           "colorbar": {
            "outlinewidth": 0,
            "ticks": ""
           }
          },
          "colorscale": {
           "diverging": [
            [
             0,
             "#8e0152"
            ],
            [
             0.1,
             "#c51b7d"
            ],
            [
             0.2,
             "#de77ae"
            ],
            [
             0.3,
             "#f1b6da"
            ],
            [
             0.4,
             "#fde0ef"
            ],
            [
             0.5,
             "#f7f7f7"
            ],
            [
             0.6,
             "#e6f5d0"
            ],
            [
             0.7,
             "#b8e186"
            ],
            [
             0.8,
             "#7fbc41"
            ],
            [
             0.9,
             "#4d9221"
            ],
            [
             1,
             "#276419"
            ]
           ],
           "sequential": [
            [
             0,
             "#0d0887"
            ],
            [
             0.1111111111111111,
             "#46039f"
            ],
            [
             0.2222222222222222,
             "#7201a8"
            ],
            [
             0.3333333333333333,
             "#9c179e"
            ],
            [
             0.4444444444444444,
             "#bd3786"
            ],
            [
             0.5555555555555556,
             "#d8576b"
            ],
            [
             0.6666666666666666,
             "#ed7953"
            ],
            [
             0.7777777777777778,
             "#fb9f3a"
            ],
            [
             0.8888888888888888,
             "#fdca26"
            ],
            [
             1,
             "#f0f921"
            ]
           ],
           "sequentialminus": [
            [
             0,
             "#0d0887"
            ],
            [
             0.1111111111111111,
             "#46039f"
            ],
            [
             0.2222222222222222,
             "#7201a8"
            ],
            [
             0.3333333333333333,
             "#9c179e"
            ],
            [
             0.4444444444444444,
             "#bd3786"
            ],
            [
             0.5555555555555556,
             "#d8576b"
            ],
            [
             0.6666666666666666,
             "#ed7953"
            ],
            [
             0.7777777777777778,
             "#fb9f3a"
            ],
            [
             0.8888888888888888,
             "#fdca26"
            ],
            [
             1,
             "#f0f921"
            ]
           ]
          },
          "colorway": [
           "#636efa",
           "#EF553B",
           "#00cc96",
           "#ab63fa",
           "#FFA15A",
           "#19d3f3",
           "#FF6692",
           "#B6E880",
           "#FF97FF",
           "#FECB52"
          ],
          "font": {
           "color": "#2a3f5f"
          },
          "geo": {
           "bgcolor": "white",
           "lakecolor": "white",
           "landcolor": "#E5ECF6",
           "showlakes": true,
           "showland": true,
           "subunitcolor": "white"
          },
          "hoverlabel": {
           "align": "left"
          },
          "hovermode": "closest",
          "mapbox": {
           "style": "light"
          },
          "paper_bgcolor": "white",
          "plot_bgcolor": "#E5ECF6",
          "polar": {
           "angularaxis": {
            "gridcolor": "white",
            "linecolor": "white",
            "ticks": ""
           },
           "bgcolor": "#E5ECF6",
           "radialaxis": {
            "gridcolor": "white",
            "linecolor": "white",
            "ticks": ""
           }
          },
          "scene": {
           "xaxis": {
            "backgroundcolor": "#E5ECF6",
            "gridcolor": "white",
            "gridwidth": 2,
            "linecolor": "white",
            "showbackground": true,
            "ticks": "",
            "zerolinecolor": "white"
           },
           "yaxis": {
            "backgroundcolor": "#E5ECF6",
            "gridcolor": "white",
            "gridwidth": 2,
            "linecolor": "white",
            "showbackground": true,
            "ticks": "",
            "zerolinecolor": "white"
           },
           "zaxis": {
            "backgroundcolor": "#E5ECF6",
            "gridcolor": "white",
            "gridwidth": 2,
            "linecolor": "white",
            "showbackground": true,
            "ticks": "",
            "zerolinecolor": "white"
           }
          },
          "shapedefaults": {
           "line": {
            "color": "#2a3f5f"
           }
          },
          "ternary": {
           "aaxis": {
            "gridcolor": "white",
            "linecolor": "white",
            "ticks": ""
           },
           "baxis": {
            "gridcolor": "white",
            "linecolor": "white",
            "ticks": ""
           },
           "bgcolor": "#E5ECF6",
           "caxis": {
            "gridcolor": "white",
            "linecolor": "white",
            "ticks": ""
           }
          },
          "title": {
           "x": 0.05
          },
          "xaxis": {
           "automargin": true,
           "gridcolor": "white",
           "linecolor": "white",
           "ticks": "",
           "title": {
            "standoff": 15
           },
           "zerolinecolor": "white",
           "zerolinewidth": 2
          },
          "yaxis": {
           "automargin": true,
           "gridcolor": "white",
           "linecolor": "white",
           "ticks": "",
           "title": {
            "standoff": 15
           },
           "zerolinecolor": "white",
           "zerolinewidth": 2
          }
         }
        },
        "title": {
         "text": "Path patching results H29.10 Value"
        },
        "width": 500,
        "xaxis": {
         "anchor": "y",
         "constrain": "domain",
         "domain": [
          0,
          1
         ],
         "scaleanchor": "y",
         "title": {
          "text": "Layer"
         }
        },
        "yaxis": {
         "anchor": "x",
         "autorange": "reversed",
         "constrain": "domain",
         "domain": [
          0,
          1
         ],
         "title": {
          "text": "Head"
         }
        }
       }
      }
     },
     "metadata": {},
     "output_type": "display_data"
    },
    {
     "data": {
      "application/vnd.plotly.v1+json": {
       "config": {
        "plotlyServerURL": "https://plot.ly",
        "staticPlot": false
       },
       "data": [
        {
         "coloraxis": "coloraxis",
         "hovertemplate": "Layer: %{x}<br>Head: %{y}<br>Logit diff. variation: %{z}<extra></extra>",
         "name": "0",
         "type": "heatmap",
         "xaxis": "x",
         "yaxis": "y",
         "z": {
          "bdata": "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",
          "dtype": "f4",
          "shape": "32, 32"
         }
        }
       ],
       "layout": {
        "coloraxis": {
         "cmid": 0,
         "colorbar": {
          "ticksuffix": "%",
          "title": {
           "text": "Logit diff. variation"
          }
         },
         "colorscale": [
          [
           0,
           "rgb(103,0,31)"
          ],
          [
           0.1,
           "rgb(178,24,43)"
          ],
          [
           0.2,
           "rgb(214,96,77)"
          ],
          [
           0.3,
           "rgb(244,165,130)"
          ],
          [
           0.4,
           "rgb(253,219,199)"
          ],
          [
           0.5,
           "rgb(247,247,247)"
          ],
          [
           0.6,
           "rgb(209,229,240)"
          ],
          [
           0.7,
           "rgb(146,197,222)"
          ],
          [
           0.8,
           "rgb(67,147,195)"
          ],
          [
           0.9,
           "rgb(33,102,172)"
          ],
          [
           1,
           "rgb(5,48,97)"
          ]
         ]
        },
        "height": 400,
        "template": {
         "data": {
          "bar": [
           {
            "error_x": {
             "color": "#2a3f5f"
            },
            "error_y": {
             "color": "#2a3f5f"
            },
            "marker": {
             "line": {
              "color": "#E5ECF6",
              "width": 0.5
             },
             "pattern": {
              "fillmode": "overlay",
              "size": 10,
              "solidity": 0.2
             }
            },
            "type": "bar"
           }
          ],
          "barpolar": [
           {
            "marker": {
             "line": {
              "color": "#E5ECF6",
              "width": 0.5
             },
             "pattern": {
              "fillmode": "overlay",
              "size": 10,
              "solidity": 0.2
             }
            },
            "type": "barpolar"
           }
          ],
          "carpet": [
           {
            "aaxis": {
             "endlinecolor": "#2a3f5f",
             "gridcolor": "white",
             "linecolor": "white",
             "minorgridcolor": "white",
             "startlinecolor": "#2a3f5f"
            },
            "baxis": {
             "endlinecolor": "#2a3f5f",
             "gridcolor": "white",
             "linecolor": "white",
             "minorgridcolor": "white",
             "startlinecolor": "#2a3f5f"
            },
            "type": "carpet"
           }
          ],
          "choropleth": [
           {
            "colorbar": {
             "outlinewidth": 0,
             "ticks": ""
            },
            "type": "choropleth"
           }
          ],
          "contour": [
           {
            "colorbar": {
             "outlinewidth": 0,
             "ticks": ""
            },
            "colorscale": [
             [
              0,
              "#0d0887"
             ],
             [
              0.1111111111111111,
              "#46039f"
             ],
             [
              0.2222222222222222,
              "#7201a8"
             ],
             [
              0.3333333333333333,
              "#9c179e"
             ],
             [
              0.4444444444444444,
              "#bd3786"
             ],
             [
              0.5555555555555556,
              "#d8576b"
             ],
             [
              0.6666666666666666,
              "#ed7953"
             ],
             [
              0.7777777777777778,
              "#fb9f3a"
             ],
             [
              0.8888888888888888,
              "#fdca26"
             ],
             [
              1,
              "#f0f921"
             ]
            ],
            "type": "contour"
           }
          ],
          "contourcarpet": [
           {
            "colorbar": {
             "outlinewidth": 0,
             "ticks": ""
            },
            "type": "contourcarpet"
           }
          ],
          "heatmap": [
           {
            "colorbar": {
             "outlinewidth": 0,
             "ticks": ""
            },
            "colorscale": [
             [
              0,
              "#0d0887"
             ],
             [
              0.1111111111111111,
              "#46039f"
             ],
             [
              0.2222222222222222,
              "#7201a8"
             ],
             [
              0.3333333333333333,
              "#9c179e"
             ],
             [
              0.4444444444444444,
              "#bd3786"
             ],
             [
              0.5555555555555556,
              "#d8576b"
             ],
             [
              0.6666666666666666,
              "#ed7953"
             ],
             [
              0.7777777777777778,
              "#fb9f3a"
             ],
             [
              0.8888888888888888,
              "#fdca26"
             ],
             [
              1,
              "#f0f921"
             ]
            ],
            "type": "heatmap"
           }
          ],
          "histogram": [
           {
            "marker": {
             "pattern": {
              "fillmode": "overlay",
              "size": 10,
              "solidity": 0.2
             }
            },
            "type": "histogram"
           }
          ],
          "histogram2d": [
           {
            "colorbar": {
             "outlinewidth": 0,
             "ticks": ""
            },
            "colorscale": [
             [
              0,
              "#0d0887"
             ],
             [
              0.1111111111111111,
              "#46039f"
             ],
             [
              0.2222222222222222,
              "#7201a8"
             ],
             [
              0.3333333333333333,
              "#9c179e"
             ],
             [
              0.4444444444444444,
              "#bd3786"
             ],
             [
              0.5555555555555556,
              "#d8576b"
             ],
             [
              0.6666666666666666,
              "#ed7953"
             ],
             [
              0.7777777777777778,
              "#fb9f3a"
             ],
             [
              0.8888888888888888,
              "#fdca26"
             ],
             [
              1,
              "#f0f921"
             ]
            ],
            "type": "histogram2d"
           }
          ],
          "histogram2dcontour": [
           {
            "colorbar": {
             "outlinewidth": 0,
             "ticks": ""
            },
            "colorscale": [
             [
              0,
              "#0d0887"
             ],
             [
              0.1111111111111111,
              "#46039f"
             ],
             [
              0.2222222222222222,
              "#7201a8"
             ],
             [
              0.3333333333333333,
              "#9c179e"
             ],
             [
              0.4444444444444444,
              "#bd3786"
             ],
             [
              0.5555555555555556,
              "#d8576b"
             ],
             [
              0.6666666666666666,
              "#ed7953"
             ],
             [
              0.7777777777777778,
              "#fb9f3a"
             ],
             [
              0.8888888888888888,
              "#fdca26"
             ],
             [
              1,
              "#f0f921"
             ]
            ],
            "type": "histogram2dcontour"
           }
          ],
          "mesh3d": [
           {
            "colorbar": {
             "outlinewidth": 0,
             "ticks": ""
            },
            "type": "mesh3d"
           }
          ],
          "parcoords": [
           {
            "line": {
             "colorbar": {
              "outlinewidth": 0,
              "ticks": ""
             }
            },
            "type": "parcoords"
           }
          ],
          "pie": [
           {
            "automargin": true,
            "type": "pie"
           }
          ],
          "scatter": [
           {
            "fillpattern": {
             "fillmode": "overlay",
             "size": 10,
             "solidity": 0.2
            },
            "type": "scatter"
           }
          ],
          "scatter3d": [
           {
            "line": {
             "colorbar": {
              "outlinewidth": 0,
              "ticks": ""
             }
            },
            "marker": {
             "colorbar": {
              "outlinewidth": 0,
              "ticks": ""
             }
            },
            "type": "scatter3d"
           }
          ],
          "scattercarpet": [
           {
            "marker": {
             "colorbar": {
              "outlinewidth": 0,
              "ticks": ""
             }
            },
            "type": "scattercarpet"
           }
          ],
          "scattergeo": [
           {
            "marker": {
             "colorbar": {
              "outlinewidth": 0,
              "ticks": ""
             }
            },
            "type": "scattergeo"
           }
          ],
          "scattergl": [
           {
            "marker": {
             "colorbar": {
              "outlinewidth": 0,
              "ticks": ""
             }
            },
            "type": "scattergl"
           }
          ],
          "scattermap": [
           {
            "marker": {
             "colorbar": {
              "outlinewidth": 0,
              "ticks": ""
             }
            },
            "type": "scattermap"
           }
          ],
          "scattermapbox": [
           {
            "marker": {
             "colorbar": {
              "outlinewidth": 0,
              "ticks": ""
             }
            },
            "type": "scattermapbox"
           }
          ],
          "scatterpolar": [
           {
            "marker": {
             "colorbar": {
              "outlinewidth": 0,
              "ticks": ""
             }
            },
            "type": "scatterpolar"
           }
          ],
          "scatterpolargl": [
           {
            "marker": {
             "colorbar": {
              "outlinewidth": 0,
              "ticks": ""
             }
            },
            "type": "scatterpolargl"
           }
          ],
          "scatterternary": [
           {
            "marker": {
             "colorbar": {
              "outlinewidth": 0,
              "ticks": ""
             }
            },
            "type": "scatterternary"
           }
          ],
          "surface": [
           {
            "colorbar": {
             "outlinewidth": 0,
             "ticks": ""
            },
            "colorscale": [
             [
              0,
              "#0d0887"
             ],
             [
              0.1111111111111111,
              "#46039f"
             ],
             [
              0.2222222222222222,
              "#7201a8"
             ],
             [
              0.3333333333333333,
              "#9c179e"
             ],
             [
              0.4444444444444444,
              "#bd3786"
             ],
             [
              0.5555555555555556,
              "#d8576b"
             ],
             [
              0.6666666666666666,
              "#ed7953"
             ],
             [
              0.7777777777777778,
              "#fb9f3a"
             ],
             [
              0.8888888888888888,
              "#fdca26"
             ],
             [
              1,
              "#f0f921"
             ]
            ],
            "type": "surface"
           }
          ],
          "table": [
           {
            "cells": {
             "fill": {
              "color": "#EBF0F8"
             },
             "line": {
              "color": "white"
             }
            },
            "header": {
             "fill": {
              "color": "#C8D4E3"
             },
             "line": {
              "color": "white"
             }
            },
            "type": "table"
           }
          ]
         },
         "layout": {
          "annotationdefaults": {
           "arrowcolor": "#2a3f5f",
           "arrowhead": 0,
           "arrowwidth": 1
          },
          "autotypenumbers": "strict",
          "coloraxis": {
           "colorbar": {
            "outlinewidth": 0,
            "ticks": ""
           }
          },
          "colorscale": {
           "diverging": [
            [
             0,
             "#8e0152"
            ],
            [
             0.1,
             "#c51b7d"
            ],
            [
             0.2,
             "#de77ae"
            ],
            [
             0.3,
             "#f1b6da"
            ],
            [
             0.4,
             "#fde0ef"
            ],
            [
             0.5,
             "#f7f7f7"
            ],
            [
             0.6,
             "#e6f5d0"
            ],
            [
             0.7,
             "#b8e186"
            ],
            [
             0.8,
             "#7fbc41"
            ],
            [
             0.9,
             "#4d9221"
            ],
            [
             1,
             "#276419"
            ]
           ],
           "sequential": [
            [
             0,
             "#0d0887"
            ],
            [
             0.1111111111111111,
             "#46039f"
            ],
            [
             0.2222222222222222,
             "#7201a8"
            ],
            [
             0.3333333333333333,
             "#9c179e"
            ],
            [
             0.4444444444444444,
             "#bd3786"
            ],
            [
             0.5555555555555556,
             "#d8576b"
            ],
            [
             0.6666666666666666,
             "#ed7953"
            ],
            [
             0.7777777777777778,
             "#fb9f3a"
            ],
            [
             0.8888888888888888,
             "#fdca26"
            ],
            [
             1,
             "#f0f921"
            ]
           ],
           "sequentialminus": [
            [
             0,
             "#0d0887"
            ],
            [
             0.1111111111111111,
             "#46039f"
            ],
            [
             0.2222222222222222,
             "#7201a8"
            ],
            [
             0.3333333333333333,
             "#9c179e"
            ],
            [
             0.4444444444444444,
             "#bd3786"
            ],
            [
             0.5555555555555556,
             "#d8576b"
            ],
            [
             0.6666666666666666,
             "#ed7953"
            ],
            [
             0.7777777777777778,
             "#fb9f3a"
            ],
            [
             0.8888888888888888,
             "#fdca26"
            ],
            [
             1,
             "#f0f921"
            ]
           ]
          },
          "colorway": [
           "#636efa",
           "#EF553B",
           "#00cc96",
           "#ab63fa",
           "#FFA15A",
           "#19d3f3",
           "#FF6692",
           "#B6E880",
           "#FF97FF",
           "#FECB52"
          ],
          "font": {
           "color": "#2a3f5f"
          },
          "geo": {
           "bgcolor": "white",
           "lakecolor": "white",
           "landcolor": "#E5ECF6",
           "showlakes": true,
           "showland": true,
           "subunitcolor": "white"
          },
          "hoverlabel": {
           "align": "left"
          },
          "hovermode": "closest",
          "mapbox": {
           "style": "light"
          },
          "paper_bgcolor": "white",
          "plot_bgcolor": "#E5ECF6",
          "polar": {
           "angularaxis": {
            "gridcolor": "white",
            "linecolor": "white",
            "ticks": ""
           },
           "bgcolor": "#E5ECF6",
           "radialaxis": {
            "gridcolor": "white",
            "linecolor": "white",
            "ticks": ""
           }
          },
          "scene": {
           "xaxis": {
            "backgroundcolor": "#E5ECF6",
            "gridcolor": "white",
            "gridwidth": 2,
            "linecolor": "white",
            "showbackground": true,
            "ticks": "",
            "zerolinecolor": "white"
           },
           "yaxis": {
            "backgroundcolor": "#E5ECF6",
            "gridcolor": "white",
            "gridwidth": 2,
            "linecolor": "white",
            "showbackground": true,
            "ticks": "",
            "zerolinecolor": "white"
           },
           "zaxis": {
            "backgroundcolor": "#E5ECF6",
            "gridcolor": "white",
            "gridwidth": 2,
            "linecolor": "white",
            "showbackground": true,
            "ticks": "",
            "zerolinecolor": "white"
           }
          },
          "shapedefaults": {
           "line": {
            "color": "#2a3f5f"
           }
          },
          "ternary": {
           "aaxis": {
            "gridcolor": "white",
            "linecolor": "white",
            "ticks": ""
           },
           "baxis": {
            "gridcolor": "white",
            "linecolor": "white",
            "ticks": ""
           },
           "bgcolor": "#E5ECF6",
           "caxis": {
            "gridcolor": "white",
            "linecolor": "white",
            "ticks": ""
           }
          },
          "title": {
           "x": 0.05
          },
          "xaxis": {
           "automargin": true,
           "gridcolor": "white",
           "linecolor": "white",
           "ticks": "",
           "title": {
            "standoff": 15
           },
           "zerolinecolor": "white",
           "zerolinewidth": 2
          },
          "yaxis": {
           "automargin": true,
           "gridcolor": "white",
           "linecolor": "white",
           "ticks": "",
           "title": {
            "standoff": 15
           },
           "zerolinecolor": "white",
           "zerolinewidth": 2
          }
         }
        },
        "title": {
         "text": "Path patching results H28.18 Value"
        },
        "width": 500,
        "xaxis": {
         "anchor": "y",
         "constrain": "domain",
         "domain": [
          0,
          1
         ],
         "scaleanchor": "y",
         "title": {
          "text": "Layer"
         }
        },
        "yaxis": {
         "anchor": "x",
         "autorange": "reversed",
         "constrain": "domain",
         "domain": [
          0,
          1
         ],
         "title": {
          "text": "Head"
         }
        }
       }
      }
     },
     "metadata": {},
     "output_type": "display_data"
    },
    {
     "data": {
      "application/vnd.plotly.v1+json": {
       "config": {
        "plotlyServerURL": "https://plot.ly",
        "staticPlot": false
       },
       "data": [
        {
         "coloraxis": "coloraxis",
         "hovertemplate": "Layer: %{x}<br>Head: %{y}<br>Logit diff. variation: %{z}<extra></extra>",
         "name": "0",
         "type": "heatmap",
         "xaxis": "x",
         "yaxis": "y",
         "z": {
          "bdata": "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",
          "dtype": "f4",
          "shape": "32, 32"
         }
        }
       ],
       "layout": {
        "coloraxis": {
         "cmid": 0,
         "colorbar": {
          "ticksuffix": "%",
          "title": {
           "text": "Logit diff. variation"
          }
         },
         "colorscale": [
          [
           0,
           "rgb(103,0,31)"
          ],
          [
           0.1,
           "rgb(178,24,43)"
          ],
          [
           0.2,
           "rgb(214,96,77)"
          ],
          [
           0.3,
           "rgb(244,165,130)"
          ],
          [
           0.4,
           "rgb(253,219,199)"
          ],
          [
           0.5,
           "rgb(247,247,247)"
          ],
          [
           0.6,
           "rgb(209,229,240)"
          ],
          [
           0.7,
           "rgb(146,197,222)"
          ],
          [
           0.8,
           "rgb(67,147,195)"
          ],
          [
           0.9,
           "rgb(33,102,172)"
          ],
          [
           1,
           "rgb(5,48,97)"
          ]
         ]
        },
        "height": 400,
        "template": {
         "data": {
          "bar": [
           {
            "error_x": {
             "color": "#2a3f5f"
            },
            "error_y": {
             "color": "#2a3f5f"
            },
            "marker": {
             "line": {
              "color": "#E5ECF6",
              "width": 0.5
             },
             "pattern": {
              "fillmode": "overlay",
              "size": 10,
              "solidity": 0.2
             }
            },
            "type": "bar"
           }
          ],
          "barpolar": [
           {
            "marker": {
             "line": {
              "color": "#E5ECF6",
              "width": 0.5
             },
             "pattern": {
              "fillmode": "overlay",
              "size": 10,
              "solidity": 0.2
             }
            },
            "type": "barpolar"
           }
          ],
          "carpet": [
           {
            "aaxis": {
             "endlinecolor": "#2a3f5f",
             "gridcolor": "white",
             "linecolor": "white",
             "minorgridcolor": "white",
             "startlinecolor": "#2a3f5f"
            },
            "baxis": {
             "endlinecolor": "#2a3f5f",
             "gridcolor": "white",
             "linecolor": "white",
             "minorgridcolor": "white",
             "startlinecolor": "#2a3f5f"
            },
            "type": "carpet"
           }
          ],
          "choropleth": [
           {
            "colorbar": {
             "outlinewidth": 0,
             "ticks": ""
            },
            "type": "choropleth"
           }
          ],
          "contour": [
           {
            "colorbar": {
             "outlinewidth": 0,
             "ticks": ""
            },
            "colorscale": [
             [
              0,
              "#0d0887"
             ],
             [
              0.1111111111111111,
              "#46039f"
             ],
             [
              0.2222222222222222,
              "#7201a8"
             ],
             [
              0.3333333333333333,
              "#9c179e"
             ],
             [
              0.4444444444444444,
              "#bd3786"
             ],
             [
              0.5555555555555556,
              "#d8576b"
             ],
             [
              0.6666666666666666,
              "#ed7953"
             ],
             [
              0.7777777777777778,
              "#fb9f3a"
             ],
             [
              0.8888888888888888,
              "#fdca26"
             ],
             [
              1,
              "#f0f921"
             ]
            ],
            "type": "contour"
           }
          ],
          "contourcarpet": [
           {
            "colorbar": {
             "outlinewidth": 0,
             "ticks": ""
            },
            "type": "contourcarpet"
           }
          ],
          "heatmap": [
           {
            "colorbar": {
             "outlinewidth": 0,
             "ticks": ""
            },
            "colorscale": [
             [
              0,
              "#0d0887"
             ],
             [
              0.1111111111111111,
              "#46039f"
             ],
             [
              0.2222222222222222,
              "#7201a8"
             ],
             [
              0.3333333333333333,
              "#9c179e"
             ],
             [
              0.4444444444444444,
              "#bd3786"
             ],
             [
              0.5555555555555556,
              "#d8576b"
             ],
             [
              0.6666666666666666,
              "#ed7953"
             ],
             [
              0.7777777777777778,
              "#fb9f3a"
             ],
             [
              0.8888888888888888,
              "#fdca26"
             ],
             [
              1,
              "#f0f921"
             ]
            ],
            "type": "heatmap"
           }
          ],
          "histogram": [
           {
            "marker": {
             "pattern": {
              "fillmode": "overlay",
              "size": 10,
              "solidity": 0.2
             }
            },
            "type": "histogram"
           }
          ],
          "histogram2d": [
           {
            "colorbar": {
             "outlinewidth": 0,
             "ticks": ""
            },
            "colorscale": [
             [
              0,
              "#0d0887"
             ],
             [
              0.1111111111111111,
              "#46039f"
             ],
             [
              0.2222222222222222,
              "#7201a8"
             ],
             [
              0.3333333333333333,
              "#9c179e"
             ],
             [
              0.4444444444444444,
              "#bd3786"
             ],
             [
              0.5555555555555556,
              "#d8576b"
             ],
             [
              0.6666666666666666,
              "#ed7953"
             ],
             [
              0.7777777777777778,
              "#fb9f3a"
             ],
             [
              0.8888888888888888,
              "#fdca26"
             ],
             [
              1,
              "#f0f921"
             ]
            ],
            "type": "histogram2d"
           }
          ],
          "histogram2dcontour": [
           {
            "colorbar": {
             "outlinewidth": 0,
             "ticks": ""
            },
            "colorscale": [
             [
              0,
              "#0d0887"
             ],
             [
              0.1111111111111111,
              "#46039f"
             ],
             [
              0.2222222222222222,
              "#7201a8"
             ],
             [
              0.3333333333333333,
              "#9c179e"
             ],
             [
              0.4444444444444444,
              "#bd3786"
             ],
             [
              0.5555555555555556,
              "#d8576b"
             ],
             [
              0.6666666666666666,
              "#ed7953"
             ],
             [
              0.7777777777777778,
              "#fb9f3a"
             ],
             [
              0.8888888888888888,
              "#fdca26"
             ],
             [
              1,
              "#f0f921"
             ]
            ],
            "type": "histogram2dcontour"
           }
          ],
          "mesh3d": [
           {
            "colorbar": {
             "outlinewidth": 0,
             "ticks": ""
            },
            "type": "mesh3d"
           }
          ],
          "parcoords": [
           {
            "line": {
             "colorbar": {
              "outlinewidth": 0,
              "ticks": ""
             }
            },
            "type": "parcoords"
           }
          ],
          "pie": [
           {
            "automargin": true,
            "type": "pie"
           }
          ],
          "scatter": [
           {
            "fillpattern": {
             "fillmode": "overlay",
             "size": 10,
             "solidity": 0.2
            },
            "type": "scatter"
           }
          ],
          "scatter3d": [
           {
            "line": {
             "colorbar": {
              "outlinewidth": 0,
              "ticks": ""
             }
            },
            "marker": {
             "colorbar": {
              "outlinewidth": 0,
              "ticks": ""
             }
            },
            "type": "scatter3d"
           }
          ],
          "scattercarpet": [
           {
            "marker": {
             "colorbar": {
              "outlinewidth": 0,
              "ticks": ""
             }
            },
            "type": "scattercarpet"
           }
          ],
          "scattergeo": [
           {
            "marker": {
             "colorbar": {
              "outlinewidth": 0,
              "ticks": ""
             }
            },
            "type": "scattergeo"
           }
          ],
          "scattergl": [
           {
            "marker": {
             "colorbar": {
              "outlinewidth": 0,
              "ticks": ""
             }
            },
            "type": "scattergl"
           }
          ],
          "scattermap": [
           {
            "marker": {
             "colorbar": {
              "outlinewidth": 0,
              "ticks": ""
             }
            },
            "type": "scattermap"
           }
          ],
          "scattermapbox": [
           {
            "marker": {
             "colorbar": {
              "outlinewidth": 0,
              "ticks": ""
             }
            },
            "type": "scattermapbox"
           }
          ],
          "scatterpolar": [
           {
            "marker": {
             "colorbar": {
              "outlinewidth": 0,
              "ticks": ""
             }
            },
            "type": "scatterpolar"
           }
          ],
          "scatterpolargl": [
           {
            "marker": {
             "colorbar": {
              "outlinewidth": 0,
              "ticks": ""
             }
            },
            "type": "scatterpolargl"
           }
          ],
          "scatterternary": [
           {
            "marker": {
             "colorbar": {
              "outlinewidth": 0,
              "ticks": ""
             }
            },
            "type": "scatterternary"
           }
          ],
          "surface": [
           {
            "colorbar": {
             "outlinewidth": 0,
             "ticks": ""
            },
            "colorscale": [
             [
              0,
              "#0d0887"
             ],
             [
              0.1111111111111111,
              "#46039f"
             ],
             [
              0.2222222222222222,
              "#7201a8"
             ],
             [
              0.3333333333333333,
              "#9c179e"
             ],
             [
              0.4444444444444444,
              "#bd3786"
             ],
             [
              0.5555555555555556,
              "#d8576b"
             ],
             [
              0.6666666666666666,
              "#ed7953"
             ],
             [
              0.7777777777777778,
              "#fb9f3a"
             ],
             [
              0.8888888888888888,
              "#fdca26"
             ],
             [
              1,
              "#f0f921"
             ]
            ],
            "type": "surface"
           }
          ],
          "table": [
           {
            "cells": {
             "fill": {
              "color": "#EBF0F8"
             },
             "line": {
              "color": "white"
             }
            },
            "header": {
             "fill": {
              "color": "#C8D4E3"
             },
             "line": {
              "color": "white"
             }
            },
            "type": "table"
           }
          ]
         },
         "layout": {
          "annotationdefaults": {
           "arrowcolor": "#2a3f5f",
           "arrowhead": 0,
           "arrowwidth": 1
          },
          "autotypenumbers": "strict",
          "coloraxis": {
           "colorbar": {
            "outlinewidth": 0,
            "ticks": ""
           }
          },
          "colorscale": {
           "diverging": [
            [
             0,
             "#8e0152"
            ],
            [
             0.1,
             "#c51b7d"
            ],
            [
             0.2,
             "#de77ae"
            ],
            [
             0.3,
             "#f1b6da"
            ],
            [
             0.4,
             "#fde0ef"
            ],
            [
             0.5,
             "#f7f7f7"
            ],
            [
             0.6,
             "#e6f5d0"
            ],
            [
             0.7,
             "#b8e186"
            ],
            [
             0.8,
             "#7fbc41"
            ],
            [
             0.9,
             "#4d9221"
            ],
            [
             1,
             "#276419"
            ]
           ],
           "sequential": [
            [
             0,
             "#0d0887"
            ],
            [
             0.1111111111111111,
             "#46039f"
            ],
            [
             0.2222222222222222,
             "#7201a8"
            ],
            [
             0.3333333333333333,
             "#9c179e"
            ],
            [
             0.4444444444444444,
             "#bd3786"
            ],
            [
             0.5555555555555556,
             "#d8576b"
            ],
            [
             0.6666666666666666,
             "#ed7953"
            ],
            [
             0.7777777777777778,
             "#fb9f3a"
            ],
            [
             0.8888888888888888,
             "#fdca26"
            ],
            [
             1,
             "#f0f921"
            ]
           ],
           "sequentialminus": [
            [
             0,
             "#0d0887"
            ],
            [
             0.1111111111111111,
             "#46039f"
            ],
            [
             0.2222222222222222,
             "#7201a8"
            ],
            [
             0.3333333333333333,
             "#9c179e"
            ],
            [
             0.4444444444444444,
             "#bd3786"
            ],
            [
             0.5555555555555556,
             "#d8576b"
            ],
            [
             0.6666666666666666,
             "#ed7953"
            ],
            [
             0.7777777777777778,
             "#fb9f3a"
            ],
            [
             0.8888888888888888,
             "#fdca26"
            ],
            [
             1,
             "#f0f921"
            ]
           ]
          },
          "colorway": [
           "#636efa",
           "#EF553B",
           "#00cc96",
           "#ab63fa",
           "#FFA15A",
           "#19d3f3",
           "#FF6692",
           "#B6E880",
           "#FF97FF",
           "#FECB52"
          ],
          "font": {
           "color": "#2a3f5f"
          },
          "geo": {
           "bgcolor": "white",
           "lakecolor": "white",
           "landcolor": "#E5ECF6",
           "showlakes": true,
           "showland": true,
           "subunitcolor": "white"
          },
          "hoverlabel": {
           "align": "left"
          },
          "hovermode": "closest",
          "mapbox": {
           "style": "light"
          },
          "paper_bgcolor": "white",
          "plot_bgcolor": "#E5ECF6",
          "polar": {
           "angularaxis": {
            "gridcolor": "white",
            "linecolor": "white",
            "ticks": ""
           },
           "bgcolor": "#E5ECF6",
           "radialaxis": {
            "gridcolor": "white",
            "linecolor": "white",
            "ticks": ""
           }
          },
          "scene": {
           "xaxis": {
            "backgroundcolor": "#E5ECF6",
            "gridcolor": "white",
            "gridwidth": 2,
            "linecolor": "white",
            "showbackground": true,
            "ticks": "",
            "zerolinecolor": "white"
           },
           "yaxis": {
            "backgroundcolor": "#E5ECF6",
            "gridcolor": "white",
            "gridwidth": 2,
            "linecolor": "white",
            "showbackground": true,
            "ticks": "",
            "zerolinecolor": "white"
           },
           "zaxis": {
            "backgroundcolor": "#E5ECF6",
            "gridcolor": "white",
            "gridwidth": 2,
            "linecolor": "white",
            "showbackground": true,
            "ticks": "",
            "zerolinecolor": "white"
           }
          },
          "shapedefaults": {
           "line": {
            "color": "#2a3f5f"
           }
          },
          "ternary": {
           "aaxis": {
            "gridcolor": "white",
            "linecolor": "white",
            "ticks": ""
           },
           "baxis": {
            "gridcolor": "white",
            "linecolor": "white",
            "ticks": ""
           },
           "bgcolor": "#E5ECF6",
           "caxis": {
            "gridcolor": "white",
            "linecolor": "white",
            "ticks": ""
           }
          },
          "title": {
           "x": 0.05
          },
          "xaxis": {
           "automargin": true,
           "gridcolor": "white",
           "linecolor": "white",
           "ticks": "",
           "title": {
            "standoff": 15
           },
           "zerolinecolor": "white",
           "zerolinewidth": 2
          },
          "yaxis": {
           "automargin": true,
           "gridcolor": "white",
           "linecolor": "white",
           "ticks": "",
           "title": {
            "standoff": 15
           },
           "zerolinecolor": "white",
           "zerolinewidth": 2
          }
         }
        },
        "title": {
         "text": "Path patching results H28.17 Value"
        },
        "width": 500,
        "xaxis": {
         "anchor": "y",
         "constrain": "domain",
         "domain": [
          0,
          1
         ],
         "scaleanchor": "y",
         "title": {
          "text": "Layer"
         }
        },
        "yaxis": {
         "anchor": "x",
         "autorange": "reversed",
         "constrain": "domain",
         "domain": [
          0,
          1
         ],
         "title": {
          "text": "Head"
         }
        }
       }
      }
     },
     "metadata": {},
     "output_type": "display_data"
    },
    {
     "data": {
      "application/vnd.plotly.v1+json": {
       "config": {
        "plotlyServerURL": "https://plot.ly",
        "staticPlot": false
       },
       "data": [
        {
         "coloraxis": "coloraxis",
         "hovertemplate": "Layer: %{x}<br>Head: %{y}<br>Logit diff. variation: %{z}<extra></extra>",
         "name": "0",
         "type": "heatmap",
         "xaxis": "x",
         "yaxis": "y",
         "z": {
          "bdata": "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",
          "dtype": "f4",
          "shape": "32, 32"
         }
        }
       ],
       "layout": {
        "coloraxis": {
         "cmid": 0,
         "colorbar": {
          "ticksuffix": "%",
          "title": {
           "text": "Logit diff. variation"
          }
         },
         "colorscale": [
          [
           0,
           "rgb(103,0,31)"
          ],
          [
           0.1,
           "rgb(178,24,43)"
          ],
          [
           0.2,
           "rgb(214,96,77)"
          ],
          [
           0.3,
           "rgb(244,165,130)"
          ],
          [
           0.4,
           "rgb(253,219,199)"
          ],
          [
           0.5,
           "rgb(247,247,247)"
          ],
          [
           0.6,
           "rgb(209,229,240)"
          ],
          [
           0.7,
           "rgb(146,197,222)"
          ],
          [
           0.8,
           "rgb(67,147,195)"
          ],
          [
           0.9,
           "rgb(33,102,172)"
          ],
          [
           1,
           "rgb(5,48,97)"
          ]
         ]
        },
        "height": 400,
        "template": {
         "data": {
          "bar": [
           {
            "error_x": {
             "color": "#2a3f5f"
            },
            "error_y": {
             "color": "#2a3f5f"
            },
            "marker": {
             "line": {
              "color": "#E5ECF6",
              "width": 0.5
             },
             "pattern": {
              "fillmode": "overlay",
              "size": 10,
              "solidity": 0.2
             }
            },
            "type": "bar"
           }
          ],
          "barpolar": [
           {
            "marker": {
             "line": {
              "color": "#E5ECF6",
              "width": 0.5
             },
             "pattern": {
              "fillmode": "overlay",
              "size": 10,
              "solidity": 0.2
             }
            },
            "type": "barpolar"
           }
          ],
          "carpet": [
           {
            "aaxis": {
             "endlinecolor": "#2a3f5f",
             "gridcolor": "white",
             "linecolor": "white",
             "minorgridcolor": "white",
             "startlinecolor": "#2a3f5f"
            },
            "baxis": {
             "endlinecolor": "#2a3f5f",
             "gridcolor": "white",
             "linecolor": "white",
             "minorgridcolor": "white",
             "startlinecolor": "#2a3f5f"
            },
            "type": "carpet"
           }
          ],
          "choropleth": [
           {
            "colorbar": {
             "outlinewidth": 0,
             "ticks": ""
            },
            "type": "choropleth"
           }
          ],
          "contour": [
           {
            "colorbar": {
             "outlinewidth": 0,
             "ticks": ""
            },
            "colorscale": [
             [
              0,
              "#0d0887"
             ],
             [
              0.1111111111111111,
              "#46039f"
             ],
             [
              0.2222222222222222,
              "#7201a8"
             ],
             [
              0.3333333333333333,
              "#9c179e"
             ],
             [
              0.4444444444444444,
              "#bd3786"
             ],
             [
              0.5555555555555556,
              "#d8576b"
             ],
             [
              0.6666666666666666,
              "#ed7953"
             ],
             [
              0.7777777777777778,
              "#fb9f3a"
             ],
             [
              0.8888888888888888,
              "#fdca26"
             ],
             [
              1,
              "#f0f921"
             ]
            ],
            "type": "contour"
           }
          ],
          "contourcarpet": [
           {
            "colorbar": {
             "outlinewidth": 0,
             "ticks": ""
            },
            "type": "contourcarpet"
           }
          ],
          "heatmap": [
           {
            "colorbar": {
             "outlinewidth": 0,
             "ticks": ""
            },
            "colorscale": [
             [
              0,
              "#0d0887"
             ],
             [
              0.1111111111111111,
              "#46039f"
             ],
             [
              0.2222222222222222,
              "#7201a8"
             ],
             [
              0.3333333333333333,
              "#9c179e"
             ],
             [
              0.4444444444444444,
              "#bd3786"
             ],
             [
              0.5555555555555556,
              "#d8576b"
             ],
             [
              0.6666666666666666,
              "#ed7953"
             ],
             [
              0.7777777777777778,
              "#fb9f3a"
             ],
             [
              0.8888888888888888,
              "#fdca26"
             ],
             [
              1,
              "#f0f921"
             ]
            ],
            "type": "heatmap"
           }
          ],
          "histogram": [
           {
            "marker": {
             "pattern": {
              "fillmode": "overlay",
              "size": 10,
              "solidity": 0.2
             }
            },
            "type": "histogram"
           }
          ],
          "histogram2d": [
           {
            "colorbar": {
             "outlinewidth": 0,
             "ticks": ""
            },
            "colorscale": [
             [
              0,
              "#0d0887"
             ],
             [
              0.1111111111111111,
              "#46039f"
             ],
             [
              0.2222222222222222,
              "#7201a8"
             ],
             [
              0.3333333333333333,
              "#9c179e"
             ],
             [
              0.4444444444444444,
              "#bd3786"
             ],
             [
              0.5555555555555556,
              "#d8576b"
             ],
             [
              0.6666666666666666,
              "#ed7953"
             ],
             [
              0.7777777777777778,
              "#fb9f3a"
             ],
             [
              0.8888888888888888,
              "#fdca26"
             ],
             [
              1,
              "#f0f921"
             ]
            ],
            "type": "histogram2d"
           }
          ],
          "histogram2dcontour": [
           {
            "colorbar": {
             "outlinewidth": 0,
             "ticks": ""
            },
            "colorscale": [
             [
              0,
              "#0d0887"
             ],
             [
              0.1111111111111111,
              "#46039f"
             ],
             [
              0.2222222222222222,
              "#7201a8"
             ],
             [
              0.3333333333333333,
              "#9c179e"
             ],
             [
              0.4444444444444444,
              "#bd3786"
             ],
             [
              0.5555555555555556,
              "#d8576b"
             ],
             [
              0.6666666666666666,
              "#ed7953"
             ],
             [
              0.7777777777777778,
              "#fb9f3a"
             ],
             [
              0.8888888888888888,
              "#fdca26"
             ],
             [
              1,
              "#f0f921"
             ]
            ],
            "type": "histogram2dcontour"
           }
          ],
          "mesh3d": [
           {
            "colorbar": {
             "outlinewidth": 0,
             "ticks": ""
            },
            "type": "mesh3d"
           }
          ],
          "parcoords": [
           {
            "line": {
             "colorbar": {
              "outlinewidth": 0,
              "ticks": ""
             }
            },
            "type": "parcoords"
           }
          ],
          "pie": [
           {
            "automargin": true,
            "type": "pie"
           }
          ],
          "scatter": [
           {
            "fillpattern": {
             "fillmode": "overlay",
             "size": 10,
             "solidity": 0.2
            },
            "type": "scatter"
           }
          ],
          "scatter3d": [
           {
            "line": {
             "colorbar": {
              "outlinewidth": 0,
              "ticks": ""
             }
            },
            "marker": {
             "colorbar": {
              "outlinewidth": 0,
              "ticks": ""
             }
            },
            "type": "scatter3d"
           }
          ],
          "scattercarpet": [
           {
            "marker": {
             "colorbar": {
              "outlinewidth": 0,
              "ticks": ""
             }
            },
            "type": "scattercarpet"
           }
          ],
          "scattergeo": [
           {
            "marker": {
             "colorbar": {
              "outlinewidth": 0,
              "ticks": ""
             }
            },
            "type": "scattergeo"
           }
          ],
          "scattergl": [
           {
            "marker": {
             "colorbar": {
              "outlinewidth": 0,
              "ticks": ""
             }
            },
            "type": "scattergl"
           }
          ],
          "scattermap": [
           {
            "marker": {
             "colorbar": {
              "outlinewidth": 0,
              "ticks": ""
             }
            },
            "type": "scattermap"
           }
          ],
          "scattermapbox": [
           {
            "marker": {
             "colorbar": {
              "outlinewidth": 0,
              "ticks": ""
             }
            },
            "type": "scattermapbox"
           }
          ],
          "scatterpolar": [
           {
            "marker": {
             "colorbar": {
              "outlinewidth": 0,
              "ticks": ""
             }
            },
            "type": "scatterpolar"
           }
          ],
          "scatterpolargl": [
           {
            "marker": {
             "colorbar": {
              "outlinewidth": 0,
              "ticks": ""
             }
            },
            "type": "scatterpolargl"
           }
          ],
          "scatterternary": [
           {
            "marker": {
             "colorbar": {
              "outlinewidth": 0,
              "ticks": ""
             }
            },
            "type": "scatterternary"
           }
          ],
          "surface": [
           {
            "colorbar": {
             "outlinewidth": 0,
             "ticks": ""
            },
            "colorscale": [
             [
              0,
              "#0d0887"
             ],
             [
              0.1111111111111111,
              "#46039f"
             ],
             [
              0.2222222222222222,
              "#7201a8"
             ],
             [
              0.3333333333333333,
              "#9c179e"
             ],
             [
              0.4444444444444444,
              "#bd3786"
             ],
             [
              0.5555555555555556,
              "#d8576b"
             ],
             [
              0.6666666666666666,
              "#ed7953"
             ],
             [
              0.7777777777777778,
              "#fb9f3a"
             ],
             [
              0.8888888888888888,
              "#fdca26"
             ],
             [
              1,
              "#f0f921"
             ]
            ],
            "type": "surface"
           }
          ],
          "table": [
           {
            "cells": {
             "fill": {
              "color": "#EBF0F8"
             },
             "line": {
              "color": "white"
             }
            },
            "header": {
             "fill": {
              "color": "#C8D4E3"
             },
             "line": {
              "color": "white"
             }
            },
            "type": "table"
           }
          ]
         },
         "layout": {
          "annotationdefaults": {
           "arrowcolor": "#2a3f5f",
           "arrowhead": 0,
           "arrowwidth": 1
          },
          "autotypenumbers": "strict",
          "coloraxis": {
           "colorbar": {
            "outlinewidth": 0,
            "ticks": ""
           }
          },
          "colorscale": {
           "diverging": [
            [
             0,
             "#8e0152"
            ],
            [
             0.1,
             "#c51b7d"
            ],
            [
             0.2,
             "#de77ae"
            ],
            [
             0.3,
             "#f1b6da"
            ],
            [
             0.4,
             "#fde0ef"
            ],
            [
             0.5,
             "#f7f7f7"
            ],
            [
             0.6,
             "#e6f5d0"
            ],
            [
             0.7,
             "#b8e186"
            ],
            [
             0.8,
             "#7fbc41"
            ],
            [
             0.9,
             "#4d9221"
            ],
            [
             1,
             "#276419"
            ]
           ],
           "sequential": [
            [
             0,
             "#0d0887"
            ],
            [
             0.1111111111111111,
             "#46039f"
            ],
            [
             0.2222222222222222,
             "#7201a8"
            ],
            [
             0.3333333333333333,
             "#9c179e"
            ],
            [
             0.4444444444444444,
             "#bd3786"
            ],
            [
             0.5555555555555556,
             "#d8576b"
            ],
            [
             0.6666666666666666,
             "#ed7953"
            ],
            [
             0.7777777777777778,
             "#fb9f3a"
            ],
            [
             0.8888888888888888,
             "#fdca26"
            ],
            [
             1,
             "#f0f921"
            ]
           ],
           "sequentialminus": [
            [
             0,
             "#0d0887"
            ],
            [
             0.1111111111111111,
             "#46039f"
            ],
            [
             0.2222222222222222,
             "#7201a8"
            ],
            [
             0.3333333333333333,
             "#9c179e"
            ],
            [
             0.4444444444444444,
             "#bd3786"
            ],
            [
             0.5555555555555556,
             "#d8576b"
            ],
            [
             0.6666666666666666,
             "#ed7953"
            ],
            [
             0.7777777777777778,
             "#fb9f3a"
            ],
            [
             0.8888888888888888,
             "#fdca26"
            ],
            [
             1,
             "#f0f921"
            ]
           ]
          },
          "colorway": [
           "#636efa",
           "#EF553B",
           "#00cc96",
           "#ab63fa",
           "#FFA15A",
           "#19d3f3",
           "#FF6692",
           "#B6E880",
           "#FF97FF",
           "#FECB52"
          ],
          "font": {
           "color": "#2a3f5f"
          },
          "geo": {
           "bgcolor": "white",
           "lakecolor": "white",
           "landcolor": "#E5ECF6",
           "showlakes": true,
           "showland": true,
           "subunitcolor": "white"
          },
          "hoverlabel": {
           "align": "left"
          },
          "hovermode": "closest",
          "mapbox": {
           "style": "light"
          },
          "paper_bgcolor": "white",
          "plot_bgcolor": "#E5ECF6",
          "polar": {
           "angularaxis": {
            "gridcolor": "white",
            "linecolor": "white",
            "ticks": ""
           },
           "bgcolor": "#E5ECF6",
           "radialaxis": {
            "gridcolor": "white",
            "linecolor": "white",
            "ticks": ""
           }
          },
          "scene": {
           "xaxis": {
            "backgroundcolor": "#E5ECF6",
            "gridcolor": "white",
            "gridwidth": 2,
            "linecolor": "white",
            "showbackground": true,
            "ticks": "",
            "zerolinecolor": "white"
           },
           "yaxis": {
            "backgroundcolor": "#E5ECF6",
            "gridcolor": "white",
            "gridwidth": 2,
            "linecolor": "white",
            "showbackground": true,
            "ticks": "",
            "zerolinecolor": "white"
           },
           "zaxis": {
            "backgroundcolor": "#E5ECF6",
            "gridcolor": "white",
            "gridwidth": 2,
            "linecolor": "white",
            "showbackground": true,
            "ticks": "",
            "zerolinecolor": "white"
           }
          },
          "shapedefaults": {
           "line": {
            "color": "#2a3f5f"
           }
          },
          "ternary": {
           "aaxis": {
            "gridcolor": "white",
            "linecolor": "white",
            "ticks": ""
           },
           "baxis": {
            "gridcolor": "white",
            "linecolor": "white",
            "ticks": ""
           },
           "bgcolor": "#E5ECF6",
           "caxis": {
            "gridcolor": "white",
            "linecolor": "white",
            "ticks": ""
           }
          },
          "title": {
           "x": 0.05
          },
          "xaxis": {
           "automargin": true,
           "gridcolor": "white",
           "linecolor": "white",
           "ticks": "",
           "title": {
            "standoff": 15
           },
           "zerolinecolor": "white",
           "zerolinewidth": 2
          },
          "yaxis": {
           "automargin": true,
           "gridcolor": "white",
           "linecolor": "white",
           "ticks": "",
           "title": {
            "standoff": 15
           },
           "zerolinecolor": "white",
           "zerolinewidth": 2
          }
         }
        },
        "title": {
         "text": "Path patching results H28.16 Value"
        },
        "width": 500,
        "xaxis": {
         "anchor": "y",
         "constrain": "domain",
         "domain": [
          0,
          1
         ],
         "scaleanchor": "y",
         "title": {
          "text": "Layer"
         }
        },
        "yaxis": {
         "anchor": "x",
         "autorange": "reversed",
         "constrain": "domain",
         "domain": [
          0,
          1
         ],
         "title": {
          "text": "Head"
         }
        }
       }
      }
     },
     "metadata": {},
     "output_type": "display_data"
    }
   ],
   "source": [
    "# Consolidation Heads\n",
    "for head in [(31, 1), (29, 11), (29, 10), (28, 18), (28, 17), (28, 16)]:\n",
    "    filename = \"./results/llama_3_8b/cons_h{}_{}_v.pt\".format(head[0], head[1])\n",
    "    result = t.load(filename)\n",
    "    visualize_heatmap(result, info = \"H{}.{} Value\".format(head[0], head[1]))"
   ]
  },
  {
   "cell_type": "code",
   "execution_count": 8,
   "metadata": {},
   "outputs": [
    {
     "data": {
      "application/vnd.plotly.v1+json": {
       "config": {
        "plotlyServerURL": "https://plot.ly",
        "staticPlot": false
       },
       "data": [
        {
         "coloraxis": "coloraxis",
         "hovertemplate": "Layer: %{x}<br>Head: %{y}<br>Logit diff. variation: %{z}<extra></extra>",
         "name": "0",
         "type": "heatmap",
         "xaxis": "x",
         "yaxis": "y",
         "z": {
          "bdata": "gfspuIebaLfL7bI3yS+nOjmFuDnJRaM5Zp57uQ4qATrccSg77QsaO91LkLvG1Am6aUdNO9x8prqDd8G5uzJHO+T7ajt+qwq5zlNOOlVHwDsd1jm+rFZhujpZwDj12BI7ZcrzO5Grl7oAAAAAAAAAAAAAAAAAAAAAAAAAAAAAAACiRQk6h5voNzVhEbnztta2GEZXunF9lLtfvEi67t8hu60UbTg6WcA4ixLiOzzVV7n1Xma6OKYyOmae+7kpyky7JOsJvNGN8bcjH5A6624IOhoE47n+mo26+B00u44+hbyvx/q67EIQvQAAAAAAAAAAAAAAAAAAAAAAAAAAAAAAAM5pyjmjJA827DcSutGNcbn2SOo5Qfl+uaWrpDo8ytk68g7HuUaXUruiFiE8YWRYukH5/rnOaco6D/4IOzzr07kTTig7nQWGu6Wgprk4vK46RJzwO/SKXjvwW7k6lDQGPcfJi7rgoM26AAAAAAAAAAAAAAAAAAAAAAAAAAAAAAAAgCciOdGN8TczuQG4NwmhNzO5ATmqmNU6HGr+ujLUmzsGcwQ7JmSxOk5OzzoQ3Q46GTBbuM2VQjp+fxI5qoLZu1raFbs+4Re79wb2OKJQh7mbhqE+qcTNuaIvDbupvu07T1QvvPMwg7sAAAAAAAAAAAAAAAAAAAAAAAAAAAAAAACjJA+4gfspOV/SRDkXk0k6IXeAuu85fTujJI84uz3FOsoDrzoRvBQ6WQaOuXBstjo1YZE6FeA7uhkaX7qtFG06BUbKujmFODrlxPQ6qfDFuqMkjzZ1D2u+mSpcO/K79DzwUDs73vi9OwAAAAAAAAAAAAAAAAAAAAAAAAAAAAAAAF/SxLdcgiU5RuUGO36rCrq2GZ463laOOz2pXzuu0ni63g46u2HeBLtcgiU5xvWDua0UbbmkzB66Nh8dOq7ddrtgm046paCmObOoBDta2hU6FAE2Og06nbud3qs7X7xIOtEdmrsZGt+7AAAAAAAAAAAAAAAAAAAAAAAAAAAAAAAAM7mBONNL/TnzttY3bsQmu5QGtTqtFG07XIKluln7DzpuuSg77qirOlNR/Lqi4Vg76poAOYAnIrnNoMC68g7HOKtsXTl/PZ659V5mueCVz7pf0sQ4dJhrPMoZK7rtke28LYmaO3T0DTsAAAAAAAAAAAAAAAAAAAAAAAAAAAAAAADtFpg5G4D6N6Z0LjgYXNM58GY3uV0UuTl/U5q5zaDAOhaeRzpB+X46tJIIO2XKc7nxOr86E2SkOq7+cDrIkhU6ByYSOxKFHjrYN4W6rMUPuxuA+jZ2GE3ABl2IOxKeijxMBwC9dU5pOwAAAAAAAAAAAAAAAAAAAAAAAAAAAAAAADYfnTntFpi4pMyeOe+Sr7mAEaY6NwmhtzSNCTpjImQ5fmkWu27wnjprXgs70AbcOvIOR7oHt2O7c7b1O1gcirormbY7ZAFquz2pXzjQxOe6EzgsueHYhbu9VAM7hfPYOH3JkT6YYdI6AAAAAAAAAAAAAAAAAAAAAAAAAAAAAAAAolCHul4qNbk43Si5XGypuYXz2Diqglk6Cc4hu/VpZLorXOA6pnSuODmFuLmnSLa5ow4Tuob+VjqREHE79V5mOsoZqzliOOA6paskOl4ftzr90YM6M7kBue+SrzqtFO24Bi/tPwnvG7wAAAAAAAAAAAAAAAAAAAAAAAAAAAAAAADMqz469V7muKMkD7bL7bK3OiJKOqMkDzfSYfk5E2QkOYYf0TmsQOU5r7x8u6FmAzsaRxm7SHcau2tTDTtwSzw70LlpOsidk7kbgPo48hlFuuqagLnG1Im6I/6VOutjirvHALPBgerLuwAAAAAAAAAAAAAAAAAAAAAAAAAAAAAAABa/QboSkJy4AAAAgFralTlauZs674cxOhuAerr0il65g429uTcJobd/Uxq5bQYbu8lFoznQBlw6GFxTur2u3jooAUM7zMG6uetuiLnNoEC7ZdXxuqxAZTnu6h8861iMu8S9CkBchRW8AAAAAAAAAAAAAAAAAAAAAAAAAAAAAAAAM7kBOfIORzmvvHy5QKqhO6P4ljla2hW5FPa3uc2VQrk2H525WtqVOhM4LLkTOKy6uNoZPBNOqDqsQOW5h5voN3VZZ7ugI027F31NOjKXRTsKyYO77fUdOrXh5TveLzQ7F29fvfVe5jkAAAAAAAAAAAAAAAAAAAAAAAAAAAAAAACjJI+2yIeXOTHDPbsP/gg67RYYuGteCzsbzey6pYoqOvSV3LruySU7CbglOzcJoTrf10M72pFgu1BljTtBXS+78FA7u9Hl4Tg9qd+4yiQpug8JB7r3Bva4pixavKqCWbwcGgq+IWwCuwAAAAAAAAAAAAAAAAAAAAAAAAAAAAAAAPO21rbztta4fcGGul/SxDk4x6y5CIvrungjMzuqrtG5EbGWurVmkLsptNC60BzYOjYqGzo/Ue85hrziusidk7r1Xma5cTXAOowjQDtMx7m6QCX3uexCEDrZ45s8+JGAPFrBqT2Wo0Y7AAAAAAAAAAAAAAAAAAAAAAAAAAAAAAAAPNVXOcvtMjcwLIw7EbwUuu7qn7ocrHK50oJzOtAR2jpl1XE60eVhOeqPgrobgPo4FrRDOvrQQTtYUwA6UAxbOz20XbqGCVU6rDVnOkbPijpgm066GTBbOSIVqbwc1jy8vnnHve+SL7oAAAAAAAAAAAAAAAAAAAAAAAAAAAAAAACjJA83xvWDucvtsjfJRaO4jiwQPaWVKDvQagy7NWERuX8WxLsct3A6ojoLOha0Q7kTTqg5cJ4OvOpPvLyrd9s6GTDbufE6Pzob2Oq4y+0yN0hWILtgsco6+UQOvfEDSbvG6gW7ECn8vAAAAAAAAAAAAAAAAAAAAAAAAAAAAAAAAF/SRLcZMFu4NwkhOMezDzqtFO25wEDyuslxGzqloKY5KgIFOySEaTtjLWI6OwHQuanEzbmRJm27YjhgPMvtMjiekbm7Pn1nuSF3gDvuvic6p1M0OhvjaDow7zW7kV3jO8aRU7sdl7g7AAAAAAAAAAAAAAAAAAAAAAAAAAAAAAAAoySPtetuiDlB+X64tHEOuxuAermu6HQ5I/6VumaI/7mrd1s6F4hLu9BfDjvJOiU67CGWOkadsjuUETO7PC1IOzpZwLmIb3A6HKzyuWQB6jrwZrc44YrRugphzDyF6Nq69khquuWwiL0AAAAAAAAAAAAAAAAAAAAAAAAAAAAAAAAAAACA0LlpuiMJFDs7F8w67dSjumqKAzs1YZG5PalfuMVq+TvTS/06ow4Tuln7D7vJcRu5fpWOu0kgwTzInRM6h6ZmOtHaYzo5hTi5yXGbOZmvBjsUATY7FQeWO96ie7wbgPq6G1UHPQAAAAAAAAAAAAAAAAAAAAAAAAAAAAAAAFgyhjjJL6e5zz1SOOw3kjoV4Ls3pMEguoYU0zruvqc6yUWjuRk7WTrL7bI2pGhuuzKMx7s+fee5tHEOO4a8YrqAHKQ6BuPbuszBurm5fzm7GTDbuTzr07lsrWg7IKCIvH6gDLoGUgq7AAAAAAAAAAAAAAAAAAAAAAAAAAAAAAAAON0oulyCJTiHm+g3Jzi5OvEkwzkvGy47oXEBuzjdqDlf0sS4kbYVO36VjjnIfJk7geUtOmT2aznB/n27hII/OmCxSrpYPQQ6fqsKuAAAAIDHvo06G5Z2Osj6XjwZO1m7r8f6OjM8ZbwAAAAAAAAAAAAAAAAAAAAAAAAAAAAAAAAbgPo4rR9rOv9NmzpzNgI7Xv48OqqY1Ts3CSE5qNpJO/Yy7rk861M7y+0yOT9Rb7tRnu46buUgO60J77qoHD45Wpk4PYVLSTkgZqK7XGGrukAld7o0jYm5zLa8urXhZbvSVnu7oGcavQAAAAAAAAAAAAAAAAAAAAAAAAAAAAAAAEH5frgn++I787ZWOIbd3LpzvNU6G4D6N8okKbpuuai6D/MKOvO2VrnOdMi6hTXNu7pTQTsbECM70drjOv9YGTszmAc6E2QkusbfBzvrWAw687ZWuPSV3LrzttY4EbGWOngjMzsDQGo9AAAAAAAAAAAAAAAAAAAAAAAAAAAAAAAA/dEDO+xCELkblna6YyLkOfYy7rk0jYm5ygMvuvcG9jjmjf46oVsFOkH5fjghVga74JXPOuaj+joJSfc6mhTgO9HlYTpPQ1G7f1MaO9HlYTljIuS6YJDQOQf4QL9g7iA8RdQovBNkpLwAAAAAAAAAAAAAAAAAAAAAAAAAAAAAAABeKrU4XRS5ujsB0DhdQDE66poAOxvY6riF81g5oXGBO0Al9zkx3xk8+EksO6nETbrIW5+5kO2LOjzVVzmFS0k4o/iWuiqIWLvNlUI6oyQPOc+AiDuGx2A6Y5SSwExwYL1jIuS55SilOwAAAAAAAAAAAAAAAAAAAAAAAAAAAAAAAKJQB7rTS306L7f9Ol/SxDkFRko7W66duuJeWTt+qwo6XVatOa+8/DjRjfE5fbYIO1nwkbpZ8JE5pMyeuj20XTqjJI+4ZOttO/27Bzsq9wY787bWtvV04rk18mI76poAuyw7Zjt1oTs8AAAAAAAAAAAAAAAAAAAAAAAAAAAAAAAA9wZ2uMULgDmloKa5gAYou889UrgQ3Q460BFaOkbPCjvG9YM6g3dBuYVLyTnuvqe4eOv6OuQzI7uFS0m5zlNOu8ezj7kP/gg6X9JEOIHlrTm3DiC7WDIGuZRydsEnOdC8ExRCPBeR6r0AAAAAAAAAAAAAAAAAAAAAAAAAAAAAAACjJI840eXhOaMkDzfJUCE6WDIGOT9R77imdK65NUsVOl4qtbh6n0o7kOINO+I9X7si3Fk7fEfavDjHLLrdOrI6WtoVuYN3QTkzowW7fpWOOYqnKDv3BvY4E1mmOlyiCL1C5RK9K/gtvwAAAAAAAAAAAAAAAAAAAAAAAAAAAAAAAPO21rbztlY4g5i7ujcJoTesKmm6q2zdOckvp7ry+Mq5s6iEOu7qnznPMlS6JZCpOsb1gznqINQ7nb0xO7DeOLvANXS7oXEBOsoDL7rL7bK3uMwrO8vtMjha2hW59kPMPKPcujsEvY4/AAAAAAAAAAAAAAAAAAAAAAAAAAAAAAAAEOgMORM4rDipxM04YwxoOvBmtzhjF2Y6gs8xOcidE7o38yS67smlOu98szruvqc6C2C1u4L2izsb2Gq6WNZjPObmMDuDjT26Ok5COhKQHLkSkJy4EbwUOVgniDrnxTa8cx0WPG1Umz4AAAAAAAAAAAAAAAAAAAAAAAAAAAAAAADzttY2WQYOuheIyzjNf0a6y+0yN2XK87h+qwo60nf1OfY9bLtpPM87ruh0OetYjDmmfyy6DQhFPKIvjTtZBo65XTUzu67ddro+GI67zlPOOfEDSboV6zm69IreOsqXcLyJQ/g77FzcPQAAAAAAAAAAAAAAAAAAAAAAAAAAAAAAAA==",
          "dtype": "f4",
          "shape": "32, 32"
         }
        }
       ],
       "layout": {
        "coloraxis": {
         "cmid": 0,
         "colorbar": {
          "ticksuffix": "%",
          "title": {
           "text": "Logit diff. variation"
          }
         },
         "colorscale": [
          [
           0,
           "rgb(103,0,31)"
          ],
          [
           0.1,
           "rgb(178,24,43)"
          ],
          [
           0.2,
           "rgb(214,96,77)"
          ],
          [
           0.3,
           "rgb(244,165,130)"
          ],
          [
           0.4,
           "rgb(253,219,199)"
          ],
          [
           0.5,
           "rgb(247,247,247)"
          ],
          [
           0.6,
           "rgb(209,229,240)"
          ],
          [
           0.7,
           "rgb(146,197,222)"
          ],
          [
           0.8,
           "rgb(67,147,195)"
          ],
          [
           0.9,
           "rgb(33,102,172)"
          ],
          [
           1,
           "rgb(5,48,97)"
          ]
         ]
        },
        "height": 400,
        "template": {
         "data": {
          "bar": [
           {
            "error_x": {
             "color": "#2a3f5f"
            },
            "error_y": {
             "color": "#2a3f5f"
            },
            "marker": {
             "line": {
              "color": "#E5ECF6",
              "width": 0.5
             },
             "pattern": {
              "fillmode": "overlay",
              "size": 10,
              "solidity": 0.2
             }
            },
            "type": "bar"
           }
          ],
          "barpolar": [
           {
            "marker": {
             "line": {
              "color": "#E5ECF6",
              "width": 0.5
             },
             "pattern": {
              "fillmode": "overlay",
              "size": 10,
              "solidity": 0.2
             }
            },
            "type": "barpolar"
           }
          ],
          "carpet": [
           {
            "aaxis": {
             "endlinecolor": "#2a3f5f",
             "gridcolor": "white",
             "linecolor": "white",
             "minorgridcolor": "white",
             "startlinecolor": "#2a3f5f"
            },
            "baxis": {
             "endlinecolor": "#2a3f5f",
             "gridcolor": "white",
             "linecolor": "white",
             "minorgridcolor": "white",
             "startlinecolor": "#2a3f5f"
            },
            "type": "carpet"
           }
          ],
          "choropleth": [
           {
            "colorbar": {
             "outlinewidth": 0,
             "ticks": ""
            },
            "type": "choropleth"
           }
          ],
          "contour": [
           {
            "colorbar": {
             "outlinewidth": 0,
             "ticks": ""
            },
            "colorscale": [
             [
              0,
              "#0d0887"
             ],
             [
              0.1111111111111111,
              "#46039f"
             ],
             [
              0.2222222222222222,
              "#7201a8"
             ],
             [
              0.3333333333333333,
              "#9c179e"
             ],
             [
              0.4444444444444444,
              "#bd3786"
             ],
             [
              0.5555555555555556,
              "#d8576b"
             ],
             [
              0.6666666666666666,
              "#ed7953"
             ],
             [
              0.7777777777777778,
              "#fb9f3a"
             ],
             [
              0.8888888888888888,
              "#fdca26"
             ],
             [
              1,
              "#f0f921"
             ]
            ],
            "type": "contour"
           }
          ],
          "contourcarpet": [
           {
            "colorbar": {
             "outlinewidth": 0,
             "ticks": ""
            },
            "type": "contourcarpet"
           }
          ],
          "heatmap": [
           {
            "colorbar": {
             "outlinewidth": 0,
             "ticks": ""
            },
            "colorscale": [
             [
              0,
              "#0d0887"
             ],
             [
              0.1111111111111111,
              "#46039f"
             ],
             [
              0.2222222222222222,
              "#7201a8"
             ],
             [
              0.3333333333333333,
              "#9c179e"
             ],
             [
              0.4444444444444444,
              "#bd3786"
             ],
             [
              0.5555555555555556,
              "#d8576b"
             ],
             [
              0.6666666666666666,
              "#ed7953"
             ],
             [
              0.7777777777777778,
              "#fb9f3a"
             ],
             [
              0.8888888888888888,
              "#fdca26"
             ],
             [
              1,
              "#f0f921"
             ]
            ],
            "type": "heatmap"
           }
          ],
          "histogram": [
           {
            "marker": {
             "pattern": {
              "fillmode": "overlay",
              "size": 10,
              "solidity": 0.2
             }
            },
            "type": "histogram"
           }
          ],
          "histogram2d": [
           {
            "colorbar": {
             "outlinewidth": 0,
             "ticks": ""
            },
            "colorscale": [
             [
              0,
              "#0d0887"
             ],
             [
              0.1111111111111111,
              "#46039f"
             ],
             [
              0.2222222222222222,
              "#7201a8"
             ],
             [
              0.3333333333333333,
              "#9c179e"
             ],
             [
              0.4444444444444444,
              "#bd3786"
             ],
             [
              0.5555555555555556,
              "#d8576b"
             ],
             [
              0.6666666666666666,
              "#ed7953"
             ],
             [
              0.7777777777777778,
              "#fb9f3a"
             ],
             [
              0.8888888888888888,
              "#fdca26"
             ],
             [
              1,
              "#f0f921"
             ]
            ],
            "type": "histogram2d"
           }
          ],
          "histogram2dcontour": [
           {
            "colorbar": {
             "outlinewidth": 0,
             "ticks": ""
            },
            "colorscale": [
             [
              0,
              "#0d0887"
             ],
             [
              0.1111111111111111,
              "#46039f"
             ],
             [
              0.2222222222222222,
              "#7201a8"
             ],
             [
              0.3333333333333333,
              "#9c179e"
             ],
             [
              0.4444444444444444,
              "#bd3786"
             ],
             [
              0.5555555555555556,
              "#d8576b"
             ],
             [
              0.6666666666666666,
              "#ed7953"
             ],
             [
              0.7777777777777778,
              "#fb9f3a"
             ],
             [
              0.8888888888888888,
              "#fdca26"
             ],
             [
              1,
              "#f0f921"
             ]
            ],
            "type": "histogram2dcontour"
           }
          ],
          "mesh3d": [
           {
            "colorbar": {
             "outlinewidth": 0,
             "ticks": ""
            },
            "type": "mesh3d"
           }
          ],
          "parcoords": [
           {
            "line": {
             "colorbar": {
              "outlinewidth": 0,
              "ticks": ""
             }
            },
            "type": "parcoords"
           }
          ],
          "pie": [
           {
            "automargin": true,
            "type": "pie"
           }
          ],
          "scatter": [
           {
            "fillpattern": {
             "fillmode": "overlay",
             "size": 10,
             "solidity": 0.2
            },
            "type": "scatter"
           }
          ],
          "scatter3d": [
           {
            "line": {
             "colorbar": {
              "outlinewidth": 0,
              "ticks": ""
             }
            },
            "marker": {
             "colorbar": {
              "outlinewidth": 0,
              "ticks": ""
             }
            },
            "type": "scatter3d"
           }
          ],
          "scattercarpet": [
           {
            "marker": {
             "colorbar": {
              "outlinewidth": 0,
              "ticks": ""
             }
            },
            "type": "scattercarpet"
           }
          ],
          "scattergeo": [
           {
            "marker": {
             "colorbar": {
              "outlinewidth": 0,
              "ticks": ""
             }
            },
            "type": "scattergeo"
           }
          ],
          "scattergl": [
           {
            "marker": {
             "colorbar": {
              "outlinewidth": 0,
              "ticks": ""
             }
            },
            "type": "scattergl"
           }
          ],
          "scattermap": [
           {
            "marker": {
             "colorbar": {
              "outlinewidth": 0,
              "ticks": ""
             }
            },
            "type": "scattermap"
           }
          ],
          "scattermapbox": [
           {
            "marker": {
             "colorbar": {
              "outlinewidth": 0,
              "ticks": ""
             }
            },
            "type": "scattermapbox"
           }
          ],
          "scatterpolar": [
           {
            "marker": {
             "colorbar": {
              "outlinewidth": 0,
              "ticks": ""
             }
            },
            "type": "scatterpolar"
           }
          ],
          "scatterpolargl": [
           {
            "marker": {
             "colorbar": {
              "outlinewidth": 0,
              "ticks": ""
             }
            },
            "type": "scatterpolargl"
           }
          ],
          "scatterternary": [
           {
            "marker": {
             "colorbar": {
              "outlinewidth": 0,
              "ticks": ""
             }
            },
            "type": "scatterternary"
           }
          ],
          "surface": [
           {
            "colorbar": {
             "outlinewidth": 0,
             "ticks": ""
            },
            "colorscale": [
             [
              0,
              "#0d0887"
             ],
             [
              0.1111111111111111,
              "#46039f"
             ],
             [
              0.2222222222222222,
              "#7201a8"
             ],
             [
              0.3333333333333333,
              "#9c179e"
             ],
             [
              0.4444444444444444,
              "#bd3786"
             ],
             [
              0.5555555555555556,
              "#d8576b"
             ],
             [
              0.6666666666666666,
              "#ed7953"
             ],
             [
              0.7777777777777778,
              "#fb9f3a"
             ],
             [
              0.8888888888888888,
              "#fdca26"
             ],
             [
              1,
              "#f0f921"
             ]
            ],
            "type": "surface"
           }
          ],
          "table": [
           {
            "cells": {
             "fill": {
              "color": "#EBF0F8"
             },
             "line": {
              "color": "white"
             }
            },
            "header": {
             "fill": {
              "color": "#C8D4E3"
             },
             "line": {
              "color": "white"
             }
            },
            "type": "table"
           }
          ]
         },
         "layout": {
          "annotationdefaults": {
           "arrowcolor": "#2a3f5f",
           "arrowhead": 0,
           "arrowwidth": 1
          },
          "autotypenumbers": "strict",
          "coloraxis": {
           "colorbar": {
            "outlinewidth": 0,
            "ticks": ""
           }
          },
          "colorscale": {
           "diverging": [
            [
             0,
             "#8e0152"
            ],
            [
             0.1,
             "#c51b7d"
            ],
            [
             0.2,
             "#de77ae"
            ],
            [
             0.3,
             "#f1b6da"
            ],
            [
             0.4,
             "#fde0ef"
            ],
            [
             0.5,
             "#f7f7f7"
            ],
            [
             0.6,
             "#e6f5d0"
            ],
            [
             0.7,
             "#b8e186"
            ],
            [
             0.8,
             "#7fbc41"
            ],
            [
             0.9,
             "#4d9221"
            ],
            [
             1,
             "#276419"
            ]
           ],
           "sequential": [
            [
             0,
             "#0d0887"
            ],
            [
             0.1111111111111111,
             "#46039f"
            ],
            [
             0.2222222222222222,
             "#7201a8"
            ],
            [
             0.3333333333333333,
             "#9c179e"
            ],
            [
             0.4444444444444444,
             "#bd3786"
            ],
            [
             0.5555555555555556,
             "#d8576b"
            ],
            [
             0.6666666666666666,
             "#ed7953"
            ],
            [
             0.7777777777777778,
             "#fb9f3a"
            ],
            [
             0.8888888888888888,
             "#fdca26"
            ],
            [
             1,
             "#f0f921"
            ]
           ],
           "sequentialminus": [
            [
             0,
             "#0d0887"
            ],
            [
             0.1111111111111111,
             "#46039f"
            ],
            [
             0.2222222222222222,
             "#7201a8"
            ],
            [
             0.3333333333333333,
             "#9c179e"
            ],
            [
             0.4444444444444444,
             "#bd3786"
            ],
            [
             0.5555555555555556,
             "#d8576b"
            ],
            [
             0.6666666666666666,
             "#ed7953"
            ],
            [
             0.7777777777777778,
             "#fb9f3a"
            ],
            [
             0.8888888888888888,
             "#fdca26"
            ],
            [
             1,
             "#f0f921"
            ]
           ]
          },
          "colorway": [
           "#636efa",
           "#EF553B",
           "#00cc96",
           "#ab63fa",
           "#FFA15A",
           "#19d3f3",
           "#FF6692",
           "#B6E880",
           "#FF97FF",
           "#FECB52"
          ],
          "font": {
           "color": "#2a3f5f"
          },
          "geo": {
           "bgcolor": "white",
           "lakecolor": "white",
           "landcolor": "#E5ECF6",
           "showlakes": true,
           "showland": true,
           "subunitcolor": "white"
          },
          "hoverlabel": {
           "align": "left"
          },
          "hovermode": "closest",
          "mapbox": {
           "style": "light"
          },
          "paper_bgcolor": "white",
          "plot_bgcolor": "#E5ECF6",
          "polar": {
           "angularaxis": {
            "gridcolor": "white",
            "linecolor": "white",
            "ticks": ""
           },
           "bgcolor": "#E5ECF6",
           "radialaxis": {
            "gridcolor": "white",
            "linecolor": "white",
            "ticks": ""
           }
          },
          "scene": {
           "xaxis": {
            "backgroundcolor": "#E5ECF6",
            "gridcolor": "white",
            "gridwidth": 2,
            "linecolor": "white",
            "showbackground": true,
            "ticks": "",
            "zerolinecolor": "white"
           },
           "yaxis": {
            "backgroundcolor": "#E5ECF6",
            "gridcolor": "white",
            "gridwidth": 2,
            "linecolor": "white",
            "showbackground": true,
            "ticks": "",
            "zerolinecolor": "white"
           },
           "zaxis": {
            "backgroundcolor": "#E5ECF6",
            "gridcolor": "white",
            "gridwidth": 2,
            "linecolor": "white",
            "showbackground": true,
            "ticks": "",
            "zerolinecolor": "white"
           }
          },
          "shapedefaults": {
           "line": {
            "color": "#2a3f5f"
           }
          },
          "ternary": {
           "aaxis": {
            "gridcolor": "white",
            "linecolor": "white",
            "ticks": ""
           },
           "baxis": {
            "gridcolor": "white",
            "linecolor": "white",
            "ticks": ""
           },
           "bgcolor": "#E5ECF6",
           "caxis": {
            "gridcolor": "white",
            "linecolor": "white",
            "ticks": ""
           }
          },
          "title": {
           "x": 0.05
          },
          "xaxis": {
           "automargin": true,
           "gridcolor": "white",
           "linecolor": "white",
           "ticks": "",
           "title": {
            "standoff": 15
           },
           "zerolinecolor": "white",
           "zerolinewidth": 2
          },
          "yaxis": {
           "automargin": true,
           "gridcolor": "white",
           "linecolor": "white",
           "ticks": "",
           "title": {
            "standoff": 15
           },
           "zerolinecolor": "white",
           "zerolinewidth": 2
          }
         }
        },
        "title": {
         "text": "Path patching results H26.2 Value"
        },
        "width": 500,
        "xaxis": {
         "anchor": "y",
         "constrain": "domain",
         "domain": [
          0,
          1
         ],
         "scaleanchor": "y",
         "title": {
          "text": "Layer"
         }
        },
        "yaxis": {
         "anchor": "x",
         "autorange": "reversed",
         "constrain": "domain",
         "domain": [
          0,
          1
         ],
         "title": {
          "text": "Head"
         }
        }
       }
      }
     },
     "metadata": {},
     "output_type": "display_data"
    },
    {
     "data": {
      "application/vnd.plotly.v1+json": {
       "config": {
        "plotlyServerURL": "https://plot.ly",
        "staticPlot": false
       },
       "data": [
        {
         "coloraxis": "coloraxis",
         "hovertemplate": "Layer: %{x}<br>Head: %{y}<br>Logit diff. variation: %{z}<extra></extra>",
         "name": "0",
         "type": "heatmap",
         "xaxis": "x",
         "yaxis": "y",
         "z": {
          "bdata": "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",
          "dtype": "f4",
          "shape": "32, 32"
         }
        }
       ],
       "layout": {
        "coloraxis": {
         "cmid": 0,
         "colorbar": {
          "ticksuffix": "%",
          "title": {
           "text": "Logit diff. variation"
          }
         },
         "colorscale": [
          [
           0,
           "rgb(103,0,31)"
          ],
          [
           0.1,
           "rgb(178,24,43)"
          ],
          [
           0.2,
           "rgb(214,96,77)"
          ],
          [
           0.3,
           "rgb(244,165,130)"
          ],
          [
           0.4,
           "rgb(253,219,199)"
          ],
          [
           0.5,
           "rgb(247,247,247)"
          ],
          [
           0.6,
           "rgb(209,229,240)"
          ],
          [
           0.7,
           "rgb(146,197,222)"
          ],
          [
           0.8,
           "rgb(67,147,195)"
          ],
          [
           0.9,
           "rgb(33,102,172)"
          ],
          [
           1,
           "rgb(5,48,97)"
          ]
         ]
        },
        "height": 400,
        "template": {
         "data": {
          "bar": [
           {
            "error_x": {
             "color": "#2a3f5f"
            },
            "error_y": {
             "color": "#2a3f5f"
            },
            "marker": {
             "line": {
              "color": "#E5ECF6",
              "width": 0.5
             },
             "pattern": {
              "fillmode": "overlay",
              "size": 10,
              "solidity": 0.2
             }
            },
            "type": "bar"
           }
          ],
          "barpolar": [
           {
            "marker": {
             "line": {
              "color": "#E5ECF6",
              "width": 0.5
             },
             "pattern": {
              "fillmode": "overlay",
              "size": 10,
              "solidity": 0.2
             }
            },
            "type": "barpolar"
           }
          ],
          "carpet": [
           {
            "aaxis": {
             "endlinecolor": "#2a3f5f",
             "gridcolor": "white",
             "linecolor": "white",
             "minorgridcolor": "white",
             "startlinecolor": "#2a3f5f"
            },
            "baxis": {
             "endlinecolor": "#2a3f5f",
             "gridcolor": "white",
             "linecolor": "white",
             "minorgridcolor": "white",
             "startlinecolor": "#2a3f5f"
            },
            "type": "carpet"
           }
          ],
          "choropleth": [
           {
            "colorbar": {
             "outlinewidth": 0,
             "ticks": ""
            },
            "type": "choropleth"
           }
          ],
          "contour": [
           {
            "colorbar": {
             "outlinewidth": 0,
             "ticks": ""
            },
            "colorscale": [
             [
              0,
              "#0d0887"
             ],
             [
              0.1111111111111111,
              "#46039f"
             ],
             [
              0.2222222222222222,
              "#7201a8"
             ],
             [
              0.3333333333333333,
              "#9c179e"
             ],
             [
              0.4444444444444444,
              "#bd3786"
             ],
             [
              0.5555555555555556,
              "#d8576b"
             ],
             [
              0.6666666666666666,
              "#ed7953"
             ],
             [
              0.7777777777777778,
              "#fb9f3a"
             ],
             [
              0.8888888888888888,
              "#fdca26"
             ],
             [
              1,
              "#f0f921"
             ]
            ],
            "type": "contour"
           }
          ],
          "contourcarpet": [
           {
            "colorbar": {
             "outlinewidth": 0,
             "ticks": ""
            },
            "type": "contourcarpet"
           }
          ],
          "heatmap": [
           {
            "colorbar": {
             "outlinewidth": 0,
             "ticks": ""
            },
            "colorscale": [
             [
              0,
              "#0d0887"
             ],
             [
              0.1111111111111111,
              "#46039f"
             ],
             [
              0.2222222222222222,
              "#7201a8"
             ],
             [
              0.3333333333333333,
              "#9c179e"
             ],
             [
              0.4444444444444444,
              "#bd3786"
             ],
             [
              0.5555555555555556,
              "#d8576b"
             ],
             [
              0.6666666666666666,
              "#ed7953"
             ],
             [
              0.7777777777777778,
              "#fb9f3a"
             ],
             [
              0.8888888888888888,
              "#fdca26"
             ],
             [
              1,
              "#f0f921"
             ]
            ],
            "type": "heatmap"
           }
          ],
          "histogram": [
           {
            "marker": {
             "pattern": {
              "fillmode": "overlay",
              "size": 10,
              "solidity": 0.2
             }
            },
            "type": "histogram"
           }
          ],
          "histogram2d": [
           {
            "colorbar": {
             "outlinewidth": 0,
             "ticks": ""
            },
            "colorscale": [
             [
              0,
              "#0d0887"
             ],
             [
              0.1111111111111111,
              "#46039f"
             ],
             [
              0.2222222222222222,
              "#7201a8"
             ],
             [
              0.3333333333333333,
              "#9c179e"
             ],
             [
              0.4444444444444444,
              "#bd3786"
             ],
             [
              0.5555555555555556,
              "#d8576b"
             ],
             [
              0.6666666666666666,
              "#ed7953"
             ],
             [
              0.7777777777777778,
              "#fb9f3a"
             ],
             [
              0.8888888888888888,
              "#fdca26"
             ],
             [
              1,
              "#f0f921"
             ]
            ],
            "type": "histogram2d"
           }
          ],
          "histogram2dcontour": [
           {
            "colorbar": {
             "outlinewidth": 0,
             "ticks": ""
            },
            "colorscale": [
             [
              0,
              "#0d0887"
             ],
             [
              0.1111111111111111,
              "#46039f"
             ],
             [
              0.2222222222222222,
              "#7201a8"
             ],
             [
              0.3333333333333333,
              "#9c179e"
             ],
             [
              0.4444444444444444,
              "#bd3786"
             ],
             [
              0.5555555555555556,
              "#d8576b"
             ],
             [
              0.6666666666666666,
              "#ed7953"
             ],
             [
              0.7777777777777778,
              "#fb9f3a"
             ],
             [
              0.8888888888888888,
              "#fdca26"
             ],
             [
              1,
              "#f0f921"
             ]
            ],
            "type": "histogram2dcontour"
           }
          ],
          "mesh3d": [
           {
            "colorbar": {
             "outlinewidth": 0,
             "ticks": ""
            },
            "type": "mesh3d"
           }
          ],
          "parcoords": [
           {
            "line": {
             "colorbar": {
              "outlinewidth": 0,
              "ticks": ""
             }
            },
            "type": "parcoords"
           }
          ],
          "pie": [
           {
            "automargin": true,
            "type": "pie"
           }
          ],
          "scatter": [
           {
            "fillpattern": {
             "fillmode": "overlay",
             "size": 10,
             "solidity": 0.2
            },
            "type": "scatter"
           }
          ],
          "scatter3d": [
           {
            "line": {
             "colorbar": {
              "outlinewidth": 0,
              "ticks": ""
             }
            },
            "marker": {
             "colorbar": {
              "outlinewidth": 0,
              "ticks": ""
             }
            },
            "type": "scatter3d"
           }
          ],
          "scattercarpet": [
           {
            "marker": {
             "colorbar": {
              "outlinewidth": 0,
              "ticks": ""
             }
            },
            "type": "scattercarpet"
           }
          ],
          "scattergeo": [
           {
            "marker": {
             "colorbar": {
              "outlinewidth": 0,
              "ticks": ""
             }
            },
            "type": "scattergeo"
           }
          ],
          "scattergl": [
           {
            "marker": {
             "colorbar": {
              "outlinewidth": 0,
              "ticks": ""
             }
            },
            "type": "scattergl"
           }
          ],
          "scattermap": [
           {
            "marker": {
             "colorbar": {
              "outlinewidth": 0,
              "ticks": ""
             }
            },
            "type": "scattermap"
           }
          ],
          "scattermapbox": [
           {
            "marker": {
             "colorbar": {
              "outlinewidth": 0,
              "ticks": ""
             }
            },
            "type": "scattermapbox"
           }
          ],
          "scatterpolar": [
           {
            "marker": {
             "colorbar": {
              "outlinewidth": 0,
              "ticks": ""
             }
            },
            "type": "scatterpolar"
           }
          ],
          "scatterpolargl": [
           {
            "marker": {
             "colorbar": {
              "outlinewidth": 0,
              "ticks": ""
             }
            },
            "type": "scatterpolargl"
           }
          ],
          "scatterternary": [
           {
            "marker": {
             "colorbar": {
              "outlinewidth": 0,
              "ticks": ""
             }
            },
            "type": "scatterternary"
           }
          ],
          "surface": [
           {
            "colorbar": {
             "outlinewidth": 0,
             "ticks": ""
            },
            "colorscale": [
             [
              0,
              "#0d0887"
             ],
             [
              0.1111111111111111,
              "#46039f"
             ],
             [
              0.2222222222222222,
              "#7201a8"
             ],
             [
              0.3333333333333333,
              "#9c179e"
             ],
             [
              0.4444444444444444,
              "#bd3786"
             ],
             [
              0.5555555555555556,
              "#d8576b"
             ],
             [
              0.6666666666666666,
              "#ed7953"
             ],
             [
              0.7777777777777778,
              "#fb9f3a"
             ],
             [
              0.8888888888888888,
              "#fdca26"
             ],
             [
              1,
              "#f0f921"
             ]
            ],
            "type": "surface"
           }
          ],
          "table": [
           {
            "cells": {
             "fill": {
              "color": "#EBF0F8"
             },
             "line": {
              "color": "white"
             }
            },
            "header": {
             "fill": {
              "color": "#C8D4E3"
             },
             "line": {
              "color": "white"
             }
            },
            "type": "table"
           }
          ]
         },
         "layout": {
          "annotationdefaults": {
           "arrowcolor": "#2a3f5f",
           "arrowhead": 0,
           "arrowwidth": 1
          },
          "autotypenumbers": "strict",
          "coloraxis": {
           "colorbar": {
            "outlinewidth": 0,
            "ticks": ""
           }
          },
          "colorscale": {
           "diverging": [
            [
             0,
             "#8e0152"
            ],
            [
             0.1,
             "#c51b7d"
            ],
            [
             0.2,
             "#de77ae"
            ],
            [
             0.3,
             "#f1b6da"
            ],
            [
             0.4,
             "#fde0ef"
            ],
            [
             0.5,
             "#f7f7f7"
            ],
            [
             0.6,
             "#e6f5d0"
            ],
            [
             0.7,
             "#b8e186"
            ],
            [
             0.8,
             "#7fbc41"
            ],
            [
             0.9,
             "#4d9221"
            ],
            [
             1,
             "#276419"
            ]
           ],
           "sequential": [
            [
             0,
             "#0d0887"
            ],
            [
             0.1111111111111111,
             "#46039f"
            ],
            [
             0.2222222222222222,
             "#7201a8"
            ],
            [
             0.3333333333333333,
             "#9c179e"
            ],
            [
             0.4444444444444444,
             "#bd3786"
            ],
            [
             0.5555555555555556,
             "#d8576b"
            ],
            [
             0.6666666666666666,
             "#ed7953"
            ],
            [
             0.7777777777777778,
             "#fb9f3a"
            ],
            [
             0.8888888888888888,
             "#fdca26"
            ],
            [
             1,
             "#f0f921"
            ]
           ],
           "sequentialminus": [
            [
             0,
             "#0d0887"
            ],
            [
             0.1111111111111111,
             "#46039f"
            ],
            [
             0.2222222222222222,
             "#7201a8"
            ],
            [
             0.3333333333333333,
             "#9c179e"
            ],
            [
             0.4444444444444444,
             "#bd3786"
            ],
            [
             0.5555555555555556,
             "#d8576b"
            ],
            [
             0.6666666666666666,
             "#ed7953"
            ],
            [
             0.7777777777777778,
             "#fb9f3a"
            ],
            [
             0.8888888888888888,
             "#fdca26"
            ],
            [
             1,
             "#f0f921"
            ]
           ]
          },
          "colorway": [
           "#636efa",
           "#EF553B",
           "#00cc96",
           "#ab63fa",
           "#FFA15A",
           "#19d3f3",
           "#FF6692",
           "#B6E880",
           "#FF97FF",
           "#FECB52"
          ],
          "font": {
           "color": "#2a3f5f"
          },
          "geo": {
           "bgcolor": "white",
           "lakecolor": "white",
           "landcolor": "#E5ECF6",
           "showlakes": true,
           "showland": true,
           "subunitcolor": "white"
          },
          "hoverlabel": {
           "align": "left"
          },
          "hovermode": "closest",
          "mapbox": {
           "style": "light"
          },
          "paper_bgcolor": "white",
          "plot_bgcolor": "#E5ECF6",
          "polar": {
           "angularaxis": {
            "gridcolor": "white",
            "linecolor": "white",
            "ticks": ""
           },
           "bgcolor": "#E5ECF6",
           "radialaxis": {
            "gridcolor": "white",
            "linecolor": "white",
            "ticks": ""
           }
          },
          "scene": {
           "xaxis": {
            "backgroundcolor": "#E5ECF6",
            "gridcolor": "white",
            "gridwidth": 2,
            "linecolor": "white",
            "showbackground": true,
            "ticks": "",
            "zerolinecolor": "white"
           },
           "yaxis": {
            "backgroundcolor": "#E5ECF6",
            "gridcolor": "white",
            "gridwidth": 2,
            "linecolor": "white",
            "showbackground": true,
            "ticks": "",
            "zerolinecolor": "white"
           },
           "zaxis": {
            "backgroundcolor": "#E5ECF6",
            "gridcolor": "white",
            "gridwidth": 2,
            "linecolor": "white",
            "showbackground": true,
            "ticks": "",
            "zerolinecolor": "white"
           }
          },
          "shapedefaults": {
           "line": {
            "color": "#2a3f5f"
           }
          },
          "ternary": {
           "aaxis": {
            "gridcolor": "white",
            "linecolor": "white",
            "ticks": ""
           },
           "baxis": {
            "gridcolor": "white",
            "linecolor": "white",
            "ticks": ""
           },
           "bgcolor": "#E5ECF6",
           "caxis": {
            "gridcolor": "white",
            "linecolor": "white",
            "ticks": ""
           }
          },
          "title": {
           "x": 0.05
          },
          "xaxis": {
           "automargin": true,
           "gridcolor": "white",
           "linecolor": "white",
           "ticks": "",
           "title": {
            "standoff": 15
           },
           "zerolinecolor": "white",
           "zerolinewidth": 2
          },
          "yaxis": {
           "automargin": true,
           "gridcolor": "white",
           "linecolor": "white",
           "ticks": "",
           "title": {
            "standoff": 15
           },
           "zerolinecolor": "white",
           "zerolinewidth": 2
          }
         }
        },
        "title": {
         "text": "Path patching results H23.15 Value"
        },
        "width": 500,
        "xaxis": {
         "anchor": "y",
         "constrain": "domain",
         "domain": [
          0,
          1
         ],
         "scaleanchor": "y",
         "title": {
          "text": "Layer"
         }
        },
        "yaxis": {
         "anchor": "x",
         "autorange": "reversed",
         "constrain": "domain",
         "domain": [
          0,
          1
         ],
         "title": {
          "text": "Head"
         }
        }
       }
      }
     },
     "metadata": {},
     "output_type": "display_data"
    },
    {
     "data": {
      "application/vnd.plotly.v1+json": {
       "config": {
        "plotlyServerURL": "https://plot.ly",
        "staticPlot": false
       },
       "data": [
        {
         "coloraxis": "coloraxis",
         "hovertemplate": "Layer: %{x}<br>Head: %{y}<br>Logit diff. variation: %{z}<extra></extra>",
         "name": "0",
         "type": "heatmap",
         "xaxis": "x",
         "yaxis": "y",
         "z": {
          "bdata": "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",
          "dtype": "f4",
          "shape": "32, 32"
         }
        }
       ],
       "layout": {
        "coloraxis": {
         "cmid": 0,
         "colorbar": {
          "ticksuffix": "%",
          "title": {
           "text": "Logit diff. variation"
          }
         },
         "colorscale": [
          [
           0,
           "rgb(103,0,31)"
          ],
          [
           0.1,
           "rgb(178,24,43)"
          ],
          [
           0.2,
           "rgb(214,96,77)"
          ],
          [
           0.3,
           "rgb(244,165,130)"
          ],
          [
           0.4,
           "rgb(253,219,199)"
          ],
          [
           0.5,
           "rgb(247,247,247)"
          ],
          [
           0.6,
           "rgb(209,229,240)"
          ],
          [
           0.7,
           "rgb(146,197,222)"
          ],
          [
           0.8,
           "rgb(67,147,195)"
          ],
          [
           0.9,
           "rgb(33,102,172)"
          ],
          [
           1,
           "rgb(5,48,97)"
          ]
         ]
        },
        "height": 400,
        "template": {
         "data": {
          "bar": [
           {
            "error_x": {
             "color": "#2a3f5f"
            },
            "error_y": {
             "color": "#2a3f5f"
            },
            "marker": {
             "line": {
              "color": "#E5ECF6",
              "width": 0.5
             },
             "pattern": {
              "fillmode": "overlay",
              "size": 10,
              "solidity": 0.2
             }
            },
            "type": "bar"
           }
          ],
          "barpolar": [
           {
            "marker": {
             "line": {
              "color": "#E5ECF6",
              "width": 0.5
             },
             "pattern": {
              "fillmode": "overlay",
              "size": 10,
              "solidity": 0.2
             }
            },
            "type": "barpolar"
           }
          ],
          "carpet": [
           {
            "aaxis": {
             "endlinecolor": "#2a3f5f",
             "gridcolor": "white",
             "linecolor": "white",
             "minorgridcolor": "white",
             "startlinecolor": "#2a3f5f"
            },
            "baxis": {
             "endlinecolor": "#2a3f5f",
             "gridcolor": "white",
             "linecolor": "white",
             "minorgridcolor": "white",
             "startlinecolor": "#2a3f5f"
            },
            "type": "carpet"
           }
          ],
          "choropleth": [
           {
            "colorbar": {
             "outlinewidth": 0,
             "ticks": ""
            },
            "type": "choropleth"
           }
          ],
          "contour": [
           {
            "colorbar": {
             "outlinewidth": 0,
             "ticks": ""
            },
            "colorscale": [
             [
              0,
              "#0d0887"
             ],
             [
              0.1111111111111111,
              "#46039f"
             ],
             [
              0.2222222222222222,
              "#7201a8"
             ],
             [
              0.3333333333333333,
              "#9c179e"
             ],
             [
              0.4444444444444444,
              "#bd3786"
             ],
             [
              0.5555555555555556,
              "#d8576b"
             ],
             [
              0.6666666666666666,
              "#ed7953"
             ],
             [
              0.7777777777777778,
              "#fb9f3a"
             ],
             [
              0.8888888888888888,
              "#fdca26"
             ],
             [
              1,
              "#f0f921"
             ]
            ],
            "type": "contour"
           }
          ],
          "contourcarpet": [
           {
            "colorbar": {
             "outlinewidth": 0,
             "ticks": ""
            },
            "type": "contourcarpet"
           }
          ],
          "heatmap": [
           {
            "colorbar": {
             "outlinewidth": 0,
             "ticks": ""
            },
            "colorscale": [
             [
              0,
              "#0d0887"
             ],
             [
              0.1111111111111111,
              "#46039f"
             ],
             [
              0.2222222222222222,
              "#7201a8"
             ],
             [
              0.3333333333333333,
              "#9c179e"
             ],
             [
              0.4444444444444444,
              "#bd3786"
             ],
             [
              0.5555555555555556,
              "#d8576b"
             ],
             [
              0.6666666666666666,
              "#ed7953"
             ],
             [
              0.7777777777777778,
              "#fb9f3a"
             ],
             [
              0.8888888888888888,
              "#fdca26"
             ],
             [
              1,
              "#f0f921"
             ]
            ],
            "type": "heatmap"
           }
          ],
          "histogram": [
           {
            "marker": {
             "pattern": {
              "fillmode": "overlay",
              "size": 10,
              "solidity": 0.2
             }
            },
            "type": "histogram"
           }
          ],
          "histogram2d": [
           {
            "colorbar": {
             "outlinewidth": 0,
             "ticks": ""
            },
            "colorscale": [
             [
              0,
              "#0d0887"
             ],
             [
              0.1111111111111111,
              "#46039f"
             ],
             [
              0.2222222222222222,
              "#7201a8"
             ],
             [
              0.3333333333333333,
              "#9c179e"
             ],
             [
              0.4444444444444444,
              "#bd3786"
             ],
             [
              0.5555555555555556,
              "#d8576b"
             ],
             [
              0.6666666666666666,
              "#ed7953"
             ],
             [
              0.7777777777777778,
              "#fb9f3a"
             ],
             [
              0.8888888888888888,
              "#fdca26"
             ],
             [
              1,
              "#f0f921"
             ]
            ],
            "type": "histogram2d"
           }
          ],
          "histogram2dcontour": [
           {
            "colorbar": {
             "outlinewidth": 0,
             "ticks": ""
            },
            "colorscale": [
             [
              0,
              "#0d0887"
             ],
             [
              0.1111111111111111,
              "#46039f"
             ],
             [
              0.2222222222222222,
              "#7201a8"
             ],
             [
              0.3333333333333333,
              "#9c179e"
             ],
             [
              0.4444444444444444,
              "#bd3786"
             ],
             [
              0.5555555555555556,
              "#d8576b"
             ],
             [
              0.6666666666666666,
              "#ed7953"
             ],
             [
              0.7777777777777778,
              "#fb9f3a"
             ],
             [
              0.8888888888888888,
              "#fdca26"
             ],
             [
              1,
              "#f0f921"
             ]
            ],
            "type": "histogram2dcontour"
           }
          ],
          "mesh3d": [
           {
            "colorbar": {
             "outlinewidth": 0,
             "ticks": ""
            },
            "type": "mesh3d"
           }
          ],
          "parcoords": [
           {
            "line": {
             "colorbar": {
              "outlinewidth": 0,
              "ticks": ""
             }
            },
            "type": "parcoords"
           }
          ],
          "pie": [
           {
            "automargin": true,
            "type": "pie"
           }
          ],
          "scatter": [
           {
            "fillpattern": {
             "fillmode": "overlay",
             "size": 10,
             "solidity": 0.2
            },
            "type": "scatter"
           }
          ],
          "scatter3d": [
           {
            "line": {
             "colorbar": {
              "outlinewidth": 0,
              "ticks": ""
             }
            },
            "marker": {
             "colorbar": {
              "outlinewidth": 0,
              "ticks": ""
             }
            },
            "type": "scatter3d"
           }
          ],
          "scattercarpet": [
           {
            "marker": {
             "colorbar": {
              "outlinewidth": 0,
              "ticks": ""
             }
            },
            "type": "scattercarpet"
           }
          ],
          "scattergeo": [
           {
            "marker": {
             "colorbar": {
              "outlinewidth": 0,
              "ticks": ""
             }
            },
            "type": "scattergeo"
           }
          ],
          "scattergl": [
           {
            "marker": {
             "colorbar": {
              "outlinewidth": 0,
              "ticks": ""
             }
            },
            "type": "scattergl"
           }
          ],
          "scattermap": [
           {
            "marker": {
             "colorbar": {
              "outlinewidth": 0,
              "ticks": ""
             }
            },
            "type": "scattermap"
           }
          ],
          "scattermapbox": [
           {
            "marker": {
             "colorbar": {
              "outlinewidth": 0,
              "ticks": ""
             }
            },
            "type": "scattermapbox"
           }
          ],
          "scatterpolar": [
           {
            "marker": {
             "colorbar": {
              "outlinewidth": 0,
              "ticks": ""
             }
            },
            "type": "scatterpolar"
           }
          ],
          "scatterpolargl": [
           {
            "marker": {
             "colorbar": {
              "outlinewidth": 0,
              "ticks": ""
             }
            },
            "type": "scatterpolargl"
           }
          ],
          "scatterternary": [
           {
            "marker": {
             "colorbar": {
              "outlinewidth": 0,
              "ticks": ""
             }
            },
            "type": "scatterternary"
           }
          ],
          "surface": [
           {
            "colorbar": {
             "outlinewidth": 0,
             "ticks": ""
            },
            "colorscale": [
             [
              0,
              "#0d0887"
             ],
             [
              0.1111111111111111,
              "#46039f"
             ],
             [
              0.2222222222222222,
              "#7201a8"
             ],
             [
              0.3333333333333333,
              "#9c179e"
             ],
             [
              0.4444444444444444,
              "#bd3786"
             ],
             [
              0.5555555555555556,
              "#d8576b"
             ],
             [
              0.6666666666666666,
              "#ed7953"
             ],
             [
              0.7777777777777778,
              "#fb9f3a"
             ],
             [
              0.8888888888888888,
              "#fdca26"
             ],
             [
              1,
              "#f0f921"
             ]
            ],
            "type": "surface"
           }
          ],
          "table": [
           {
            "cells": {
             "fill": {
              "color": "#EBF0F8"
             },
             "line": {
              "color": "white"
             }
            },
            "header": {
             "fill": {
              "color": "#C8D4E3"
             },
             "line": {
              "color": "white"
             }
            },
            "type": "table"
           }
          ]
         },
         "layout": {
          "annotationdefaults": {
           "arrowcolor": "#2a3f5f",
           "arrowhead": 0,
           "arrowwidth": 1
          },
          "autotypenumbers": "strict",
          "coloraxis": {
           "colorbar": {
            "outlinewidth": 0,
            "ticks": ""
           }
          },
          "colorscale": {
           "diverging": [
            [
             0,
             "#8e0152"
            ],
            [
             0.1,
             "#c51b7d"
            ],
            [
             0.2,
             "#de77ae"
            ],
            [
             0.3,
             "#f1b6da"
            ],
            [
             0.4,
             "#fde0ef"
            ],
            [
             0.5,
             "#f7f7f7"
            ],
            [
             0.6,
             "#e6f5d0"
            ],
            [
             0.7,
             "#b8e186"
            ],
            [
             0.8,
             "#7fbc41"
            ],
            [
             0.9,
             "#4d9221"
            ],
            [
             1,
             "#276419"
            ]
           ],
           "sequential": [
            [
             0,
             "#0d0887"
            ],
            [
             0.1111111111111111,
             "#46039f"
            ],
            [
             0.2222222222222222,
             "#7201a8"
            ],
            [
             0.3333333333333333,
             "#9c179e"
            ],
            [
             0.4444444444444444,
             "#bd3786"
            ],
            [
             0.5555555555555556,
             "#d8576b"
            ],
            [
             0.6666666666666666,
             "#ed7953"
            ],
            [
             0.7777777777777778,
             "#fb9f3a"
            ],
            [
             0.8888888888888888,
             "#fdca26"
            ],
            [
             1,
             "#f0f921"
            ]
           ],
           "sequentialminus": [
            [
             0,
             "#0d0887"
            ],
            [
             0.1111111111111111,
             "#46039f"
            ],
            [
             0.2222222222222222,
             "#7201a8"
            ],
            [
             0.3333333333333333,
             "#9c179e"
            ],
            [
             0.4444444444444444,
             "#bd3786"
            ],
            [
             0.5555555555555556,
             "#d8576b"
            ],
            [
             0.6666666666666666,
             "#ed7953"
            ],
            [
             0.7777777777777778,
             "#fb9f3a"
            ],
            [
             0.8888888888888888,
             "#fdca26"
            ],
            [
             1,
             "#f0f921"
            ]
           ]
          },
          "colorway": [
           "#636efa",
           "#EF553B",
           "#00cc96",
           "#ab63fa",
           "#FFA15A",
           "#19d3f3",
           "#FF6692",
           "#B6E880",
           "#FF97FF",
           "#FECB52"
          ],
          "font": {
           "color": "#2a3f5f"
          },
          "geo": {
           "bgcolor": "white",
           "lakecolor": "white",
           "landcolor": "#E5ECF6",
           "showlakes": true,
           "showland": true,
           "subunitcolor": "white"
          },
          "hoverlabel": {
           "align": "left"
          },
          "hovermode": "closest",
          "mapbox": {
           "style": "light"
          },
          "paper_bgcolor": "white",
          "plot_bgcolor": "#E5ECF6",
          "polar": {
           "angularaxis": {
            "gridcolor": "white",
            "linecolor": "white",
            "ticks": ""
           },
           "bgcolor": "#E5ECF6",
           "radialaxis": {
            "gridcolor": "white",
            "linecolor": "white",
            "ticks": ""
           }
          },
          "scene": {
           "xaxis": {
            "backgroundcolor": "#E5ECF6",
            "gridcolor": "white",
            "gridwidth": 2,
            "linecolor": "white",
            "showbackground": true,
            "ticks": "",
            "zerolinecolor": "white"
           },
           "yaxis": {
            "backgroundcolor": "#E5ECF6",
            "gridcolor": "white",
            "gridwidth": 2,
            "linecolor": "white",
            "showbackground": true,
            "ticks": "",
            "zerolinecolor": "white"
           },
           "zaxis": {
            "backgroundcolor": "#E5ECF6",
            "gridcolor": "white",
            "gridwidth": 2,
            "linecolor": "white",
            "showbackground": true,
            "ticks": "",
            "zerolinecolor": "white"
           }
          },
          "shapedefaults": {
           "line": {
            "color": "#2a3f5f"
           }
          },
          "ternary": {
           "aaxis": {
            "gridcolor": "white",
            "linecolor": "white",
            "ticks": ""
           },
           "baxis": {
            "gridcolor": "white",
            "linecolor": "white",
            "ticks": ""
           },
           "bgcolor": "#E5ECF6",
           "caxis": {
            "gridcolor": "white",
            "linecolor": "white",
            "ticks": ""
           }
          },
          "title": {
           "x": 0.05
          },
          "xaxis": {
           "automargin": true,
           "gridcolor": "white",
           "linecolor": "white",
           "ticks": "",
           "title": {
            "standoff": 15
           },
           "zerolinecolor": "white",
           "zerolinewidth": 2
          },
          "yaxis": {
           "automargin": true,
           "gridcolor": "white",
           "linecolor": "white",
           "ticks": "",
           "title": {
            "standoff": 15
           },
           "zerolinecolor": "white",
           "zerolinewidth": 2
          }
         }
        },
        "title": {
         "text": "Path patching results H23.13 Value"
        },
        "width": 500,
        "xaxis": {
         "anchor": "y",
         "constrain": "domain",
         "domain": [
          0,
          1
         ],
         "scaleanchor": "y",
         "title": {
          "text": "Layer"
         }
        },
        "yaxis": {
         "anchor": "x",
         "autorange": "reversed",
         "constrain": "domain",
         "domain": [
          0,
          1
         ],
         "title": {
          "text": "Head"
         }
        }
       }
      }
     },
     "metadata": {},
     "output_type": "display_data"
    }
   ],
   "source": [
    "# Function Induction Heads\n",
    "for head in [(26, 2), (23, 15), (23, 13)]:\n",
    "    filename = \"./results/llama_3_8b/ind_h{}_{}_v.pt\".format(head[0], head[1])\n",
    "    result = t.load(filename)\n",
    "    visualize_heatmap(result, info = \"H{}.{} Value\".format(head[0], head[1]))"
   ]
  }
 ],
 "metadata": {
  "kernelspec": {
   "display_name": "fi4",
   "language": "python",
   "name": "python3"
  },
  "language_info": {
   "codemirror_mode": {
    "name": "ipython",
    "version": 3
   },
   "file_extension": ".py",
   "mimetype": "text/x-python",
   "name": "python",
   "nbconvert_exporter": "python",
   "pygments_lexer": "ipython3",
   "version": "3.12.11"
  }
 },
 "nbformat": 4,
 "nbformat_minor": 2
}
