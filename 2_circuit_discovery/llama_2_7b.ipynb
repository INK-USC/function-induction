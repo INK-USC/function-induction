{
 "cells": [
  {
   "cell_type": "code",
   "execution_count": 1,
   "metadata": {},
   "outputs": [
    {
     "name": "stdout",
     "output_type": "stream",
     "text": [
      "/home/qinyuan/function-induction\n"
     ]
    }
   ],
   "source": [
    "import os\n",
    "import sys\n",
    "\n",
    "# to import functions from `patching_utils.py` and `plotly_utils.py`,\n",
    "# we need to add the repository directory to the system path.\n",
    "current_dir = os.path.dirname(os.getcwd())\n",
    "print(current_dir)\n",
    "if current_dir not in sys.path:\n",
    "    sys.path.append(current_dir)"
   ]
  },
  {
   "cell_type": "code",
   "execution_count": 2,
   "metadata": {},
   "outputs": [
    {
     "name": "stderr",
     "output_type": "stream",
     "text": [
      "/home/qinyuan/miniconda3/envs/ts/lib/python3.9/site-packages/tqdm/auto.py:21: TqdmWarning: IProgress not found. Please update jupyter and ipywidgets. See https://ipywidgets.readthedocs.io/en/stable/user_install.html\n",
      "  from .autonotebook import tqdm as notebook_tqdm\n"
     ]
    }
   ],
   "source": [
    "import torch as t\n",
    "from torch import Tensor\n",
    "import torch.nn.functional as F\n",
    "\n",
    "from transformer_lens import HookedTransformer\n",
    "\n",
    "t.set_grad_enabled(False)\n",
    "\n",
    "from jaxtyping import Float, Int, Bool, Union\n",
    "\n",
    "import circuitsvis as cv\n",
    "from IPython.display import display\n",
    "from plotly_utils import imshow"
   ]
  },
  {
   "cell_type": "code",
   "execution_count": 3,
   "metadata": {},
   "outputs": [],
   "source": [
    "from patching_utils import batched_get_path_patch_to_repr, batched_get_path_patch_to_head, prepare_data_for_fwd"
   ]
  },
  {
   "cell_type": "code",
   "execution_count": 4,
   "metadata": {},
   "outputs": [],
   "source": [
    "def analyze_path_to_repr(\n",
    "    receiver_layers: list[int],\n",
    "    receiver_input: str,\n",
    "    model: HookedTransformer,\n",
    "    data: list[dict],\n",
    "    begin_layer: int,\n",
    "    batch_size: int\n",
    "):\n",
    "    t.cuda.empty_cache()\n",
    "    patched_logit_diff, normal_logit_diff, contrast_logit_diff = batched_get_path_patch_to_repr(receiver_layers, receiver_input, model, data, begin_layer, batch_size)\n",
    "    results = (patched_logit_diff - contrast_logit_diff) / (contrast_logit_diff  - normal_logit_diff)\n",
    "    results[:begin_layer, :] = 0.0\n",
    "    end_layer=max(receiver_layers)\n",
    "    results[end_layer+1:, :] = 0.0\n",
    "    visualize_heatmap(results)\n",
    "    return results\n",
    "\n",
    "def analyze_path_to_head(\n",
    "    receiver_heads: list[int],\n",
    "    receiver_input: str,\n",
    "    model: HookedTransformer,\n",
    "    data: list[dict],\n",
    "    begin_layer: int,\n",
    "    batch_size: int\n",
    "):\n",
    "    t.cuda.empty_cache()\n",
    "    patched_logit_diff, normal_logit_diff, contrast_logit_diff = batched_get_path_patch_to_head(receiver_heads, receiver_input, model, data, begin_layer, batch_size)\n",
    "    results = (patched_logit_diff - contrast_logit_diff) / (contrast_logit_diff  - normal_logit_diff)\n",
    "    results[:begin_layer, :] = 0.0\n",
    "    end_layer=max([head[0] for head in receiver_heads])\n",
    "    results[end_layer:, :] = 0.0\n",
    "    visualize_heatmap(results)\n",
    "    return results\n",
    "\n",
    "def visualize_heatmap(results, info=\"\"):\n",
    "    imshow(\n",
    "        100 * results.t(),\n",
    "        title=\"Path patching results {}\".format(info),\n",
    "        labels={\"x\":\"Layer\", \"y\":\"Head\", \"color\": \"Logit diff. variation\"},\n",
    "        coloraxis=dict(colorbar_ticksuffix = \"%\"),\n",
    "        width=800,\n",
    "        height=400,\n",
    "    )\n",
    "\n",
    "def visualize_heads(heads, model, data, mode=\"contrast\"):\n",
    "    data = data[:4]\n",
    "    t.cuda.empty_cache()\n",
    "    normal_input, contrast_input, _, _, normal_cache, contrast_cache, _, _ = prepare_data_for_fwd(model, data)\n",
    "    \n",
    "    if mode == \"contrast\":\n",
    "        cache = contrast_cache\n",
    "        tokens = model.to_tokens(contrast_input)[0]\n",
    "    elif mode == \"normal\":\n",
    "        cache = normal_cache\n",
    "        tokens = model.to_tokens(normal_input)[0]\n",
    "\n",
    "    attn_patterns_for_important_heads: Float[Tensor, \"head q k\"] = t.stack([\n",
    "        cache[\"pattern\", layer][:, head].mean(0)\n",
    "            for layer, head in heads\n",
    "    ])\n",
    "    \n",
    "    display(cv.attention.attention_patterns(\n",
    "        attention = attn_patterns_for_important_heads,\n",
    "        tokens = model.to_str_tokens(tokens),\n",
    "        attention_head_names = [f\"{layer}.{head}\" for layer, head in heads],\n",
    "    ))"
   ]
  },
  {
   "cell_type": "code",
   "execution_count": 5,
   "metadata": {},
   "outputs": [
    {
     "name": "stderr",
     "output_type": "stream",
     "text": [
      "Loading checkpoint shards: 100%|██████████| 2/2 [00:02<00:00,  1.33s/it]\n",
      "WARNING:root:You are not using LayerNorm, so the writing weights can't be centered! Skipping\n"
     ]
    },
    {
     "name": "stdout",
     "output_type": "stream",
     "text": [
      "Loaded pretrained model meta-llama/Llama-2-7b-hf into HookedTransformer\n"
     ]
    }
   ],
   "source": [
    "device = \"cuda:0\"\n",
    "model_name = \"meta-llama/Llama-2-7b-hf\"\n",
    "model = HookedTransformer.from_pretrained(model_name, device=device)\n",
    "model.set_ungroup_grouped_query_attention(True)"
   ]
  },
  {
   "cell_type": "code",
   "execution_count": 6,
   "metadata": {},
   "outputs": [],
   "source": [
    "# Load data\n",
    "from data_utils import process_dataset, read_jsonl\n",
    "\n",
    "setting, nmax, offset, n_icl_examples = \"setting1\", 9, 1, 4\n",
    "filename = f\"../data/addition/{setting}/addition_nmax{nmax}_offset{offset}.jsonl\"\n",
    "data = read_jsonl(filename)\n",
    "processed_data = process_dataset(data, n_icl_examples=n_icl_examples, offset=offset)\n",
    "\n",
    "# load 4 examples for demo\n",
    "processed_data = processed_data[:4]"
   ]
  },
  {
   "cell_type": "code",
   "execution_count": 9,
   "metadata": {},
   "outputs": [
    {
     "name": "stderr",
     "output_type": "stream",
     "text": [
      "batch: 100%|██████████| 1/1 [04:44<00:00, 284.34s/it]\n"
     ]
    },
    {
     "data": {
      "application/vnd.plotly.v1+json": {
       "config": {
        "plotlyServerURL": "https://plot.ly",
        "staticPlot": false
       },
       "data": [
        {
         "coloraxis": "coloraxis",
         "hovertemplate": "Layer: %{x}<br>Head: %{y}<br>Logit diff. variation: %{z}<extra></extra>",
         "name": "0",
         "type": "heatmap",
         "xaxis": "x",
         "yaxis": "y",
         "z": {
          "bdata": "LzeEOlX4hrovNwQ5k0mwusqw9DvsNvC8odeeuzFmGzxXh6y9UaY7PE4Oor0Ioww+YBfuPnUVgDsqEsS+vbkQvI7XLj9Ig9u9kL15OkLGDjxuzgg7beU/u3C3RD3O3xg8FWECu3FD7ruU7B06jV/Lu/vnEjo0OCA7LfEoOjNNor9dy6c8hl6vO+hYCDsvN4Q4CHYBPJlKzLssq825SpmvvE6xj7xUsis7dLLovSMSmLxY+pK96oEnPciXDMAD+Jo9RL9lv/FuCL260Ee9XHF5v2Ljh7kLjlQ8TlRwPDwihTxgnSw7GwWMu1NsULt4imW65IZ2u2VrRT5i44c7yDuPupTsHbuc1oK7ETLeOsQM6zeZp967hNL4ul+047m7LVq8q5MIPHC3RDxYesw9z5J6wF0jyL4NjF4+f1GjPCOyCT4EpG+9WzyCvfhb3DkoKfu9m3ljPIaVHj0abAK+YrMAP4/rATt35/c7G6IBP8IAezyIJES8HxkPQALYYj3I2IS8k6ZCu6HXnjrB9Jc7gPSQPP8imrzHmKE4NduNu2FAmjrvZRS8LpSWuuwoFz5YkKA8x5WlPahBvTwfbR4+CPY6PHucTb0EpG+9/IoAPK18RDv8igC7wNsTP08UmjxGJD06rxjKPZvfKj9OsQ88LU47u0A62Dv4uO46OY2mP6E0sbsHjbi6eIrlOnNP3ryTSbA4CHYBu/+iU7uCAIE7+B51vbgh6rpYyou8XMWvvQ23c76sHLY9xckYvWHj+r0qjw6+7LA+PVdnAb1bZBs+//KSvot2jzwsq005LpQWO5OmwrqVjwu6Xm4VPFUbLjyLvN28ggABO5JgZ7oHcAk9hPSTwfn+ybqTA1U7+kQlu+DLtbq+aGE7uq0gu1JJqbxg+j67xmyGvZ6u8jwT5ac9jkgUvML3k72VX4Q+lE+oPDwETr+TJom8KwhgurcYA76ZypK8E3i5Otmbgrvzfee8exmYvZC9eTmrk/u7FWGCOpOmwjoMqxA9dHSIP6s2aTsEnnc+tAmXu/vnErmTSbA60DFXvGD6PjovNwS6LzcEuT5RHDyTpkK7X3p4PXziKL3GCoK+RmkSvtGU4b20CZc7pliBvZBX871jEdi/CNOTuzD9mD4/3cW7rsKfuox5i71+iJI9UD25PMH0l7zEDGs3hwEdPBEyXjp4imU6yDuPuqeezzzHmCG7XhH2utrKmTtRyWK7LKvNu6VPjT3EDOs5uYrsvLqtoLyU7B064Mu1OokoRj6n2Do8eIrlPB0wrD62teu9juiFvQLSarw5lk67LKvNOjnWsTwNMcK7SVPUu8Wv2LkzlTI88nEEvPgVjjyZSsw7qzbpPELptTxK3328+oQIPe78kbvRVIu8CNOTuitlcrt8osW7oFdYPGv8djteEXY6DnedOxezwDwhppm91VYXvkCAs7wZuTi+7PChPWAnyr2AuqU7jugFPRQbJ7ot8Sg7vmjhu4ltGz0ulBY7k0kwuseYITkCLwq7aIcRvKXvcbvEDOu3e7n8u3b+u7tftGM67HBbO2Ljh7r6RCW6kwPVOYSv0TyBXZO7TrEPPjEDEb2doo+8IGO6u99lrz3A28e9yCszPp0Cnj0xxqk92ACDPiiNAr1h43o8MLIXvy6Uljy1rAS/OPPgu4Udxj6rk3s9uCFqO45IlDsvNwS52m36PKB6f7zIO487iAcVvpOmQrosq005wFGqu/n+ybmtfEQ73G2Hu9mbgrvVSbc8FBsnugS7szx+0dw8YcPPvSWxmb3SxGi+2WaJPs1S8j1G0Q6+NmQ7vuOdujv8cMA9zrt0P5mnXjy6CrM77Zl6PREyXruIpIo6kL15uZ5irDyTSTA46mpjPUX7Hb3aJ6w73rEFQRsFDDxcYqU8rR+yOsQM6zp4imW65m+/vGgFVT7u/JE7tXIZvKzZVjwvl5K9jms7vctwnr74W9y7RDAXP6ZiWD4+URy9CHYBuzV+7juakCe8uu2DPZ6o+josq026Otwpuxq/MLtchcw7E3g5PTEJfDwsq0063j//Orjel71OeFM/YJ0su/vnkjjG9TO6SA2GulviXrwgY7q6NCFcvS53Wj16UIc8x3XtPS1Ou7rn9XA9oHWPvszTKL3YhJk/bYitvI8x0Duy/SY8GDOHPKWrpL6CAAE8tGapO/e/Vj5Pmss7biubu+hYiDvHmKE6U48EPPqhtzoI0xM70vAFv8MjLzzDIy880+A0O5NJsLnmTJg8WbPHu1pWNbxGJD27KwjgOSp8tjvUw4U9+BWOPQzr5ruHYSu+O0Iwvpo97D5j5oO9b3FpvcYvnzy+xfO8kboKvSdwxrwpVhM9kmBnumfhJ727bb28hRjUO8kkSzw3UHO70XG6PMg7j7nWz2i9X7pbPUQ79Lr75xK4bYgtOwuO1LsrCGC60A6wuyFMAzyTSbA4JBiQPfSgGzxVSzW+iKQKPcSRI75P4IE/1ANcPeBbS74nK3E+8XfvPFs/cTyVj4u6YuOHO9+F2jpg+r66H50lPIJGz7uSYOe6BKTvu3oWnLrXMgA8yUdyPi7a5Luzttu+DeSLPS83BLqrk3s6++eSOPqht7lLJdm7eIrlugmfID18P7u9wjpmvDti2zzV4To+OtDEvlImgjzGcnG9JIN7v3jnhLueqHq76XHLPZe+or0uOnO9/6JTu6zZVjsFxyO88rfSO+a8gr7TPUc72upEPQ4aC7unZSA/uq0gvaYraT60CZe71CaQO9Ga2Tp7uYm7N1DzOp+Rw7v4uO66++cSuEbeYbsTeDm7CHYBPCyrTbsLpRi843oTveXJ1b2YBPE7iaqCvTPPnTzlKWQ8iKSKu6hh6L0UG6c7XhEDPE3Ovjw99Hw7lnjHO19X0TmCAAE7BkddvDVwH8Ljnbo7sPE2PCyrTbkX7as7beU/u1X4hrqO63Q8P/SJOxpinrvrqsY8ZLV/O3pcaryHAZ07VXs8PXSs8Dwsq024mWcIveSxjT46nMY8rysivJTsnTyWVSC9V67Kvo4Awz5V+Aa7TWu0vt2cnjvOgga7IamVO2gNwzw1fu47e/lfvSyrzTnwaBC9FL4UO5NJMDgtTju73j9/O19XUbpCxo68beU/O3ehKTyIpAo7YilWvD3B+T1pgyW+FgpbPq7CHzubjrG+qXDUPCr8bzzyZKS9WdCDvVHJ4jq3fvy8onqMvOwTSTsGahG8iY3GPEgNBjyKVle98OvFPNonLL3hsYI9GuJXvF+0Yzv/XAW8P91FO5WPCzrFr1g6++cSOS6UFjqtfES64G4juyyrTThsSMo9WMr+OzwxZD3gbqM6HzqbvjXSpL7ERta9gi+Nv3JG6j23Yc28n+7VO6Y1Tbw5Oby8yDsPOiFMg7vmb787x5ghuk3xZb463Ck7+kSlOeYSrbs/9Im7tKYMvTjz4Lqh1567a/wDPPvnEjv8ioC6++eSO5mNK710cpI7bisbOxq8NL3XVSc90sB8vXndID44QCQ+vkU6PKpNLT2s/Aq953W3vAXqyrqyoJS87DCFvfTDwjxIDYY7VLKrOmW1DL1uKxs8k0kwu10oOj3p5LE7DiD2PPhbXLkGR907p9i6u3oWnLurk/u6k0mwuNQmELsgY7o7ETJeOyjT0DxUsis7+qE3uz3ukbzUA9y85bmGvm4rmzxsZAC+VPj5O0YkvbrUKIa+Y0wKPTcKJbxn5KM7BzUYPoZeL7shTIM8X1fRuZWPC7kt8ai55/XwPMb1s7lEO/S7F9ZnvJW1Lj34W1w6+f7JOvqhtznotZo7n+7VOkWBTzuuwh+7f641PPfSrj1eEfa7wt3TvJs2ET1AmjI/U4/3vJycFzyIR2s9H9oMvUKfbj5GxK697iyZPiyrTbkT1cs7k6bCOrRmKbzZmwK8m3ljPK8rIjxGJD27JWTWOyAGKD1L34o7Z7ScvSp8truEdea7+dsivMQM67f4W1w5vmhhvKkqBrzEDOs6tEMCvB8AsD2B+og8pUwRPPgLqr3IKzM+ZyQHvXVY0j0LjtQ7McmlPNxth7ywTkk8IlJuvauTe7uTSbC5U2xQPALvJr3gewO/7HDbOpK9hjyzwzs8R8equu8N5z5bXC2+/v9lvJqQJ7uTSTC6M5WyO8ZSRrn5/kk6OVCAPNM9x7vjOrC8ZA8jPfxKHT3EaX261Q9Mvb29hz5e7s49lY+LPV8g178LjlS8O4ITPmhKKj3Vrby+LfGoOS1OO7pvNA+94Mu1umSitD68ltw7tE/lO3gt0ztG3uG7ug5pv0Mvkb0GcHy9+qE3u67CH7vCl4W7YUAauiBjOjuVj4s5ErIkPCAGKLxLAjK8y/ZPOy1x4j1DUjg9plIJvVGwn73OAsA81APcPKJjyDuqTa07Ct8DPRgzer06uXW9/D29v74ik7sT+HK8qs1mPKs2abtoh5E7ApUQPbqtIDthFn6+FadQPPyKADvd4my8E3i5OnBaMjyKGfA7h54SvU6xDzwvNwQ6imM3PgjTEzuQvXm6VHhAPZ1D+r52OCc82iesvbCx0z2CY4u8/lx4u+s1K79IDYa62Jv1u4UY1DraJyy8DdQvPOIRkTotTru6X7TjuazZVrtg+j473RIPwfgQg8CCI6g8wfSXu5OmQrsF6ko7edDAuhVhAjtsQtI7YPq+uPhbXDkJPJY8R/qtPZUaLz6zpn89WOo2vaQMLr28DrW+r2sFPXB63T1K2RI9oTqpvFEr575ARki8xAxruK7Cn7uBXRO8SA2Gul4RdrrUJpA6yDsPO8Rp/bnfhdq6K4IuvaJ6jLyTA1W7Kny2uxkcQzuIR2s8K2VyOiGpFbwYM4c75emNvseYobqfS2g9Uib1PKq9Fz6QczS/4G4ju11onT2NJWC94Ms1O0cqtb3WSj0+ymqmvKARirwI0xM7t2FNPVX4hjuk6Ya80z1Hu/zQTjwGR107VNVSvYOMqjwWiiE/rJEsQK18xDoI0xM7K2Vyu8QMaztFO4E7GRzDO2CdrDsOt4A8uaeoPRpiHrwIdgE80EuXvUBpb7w2xEk9zfxHPb8rhz1yVkY+g4qpPmJMfbzHuEy+NX7uO4ikCjwgBqi6GwKQvfExIb05ls67bEJSu1pWtbvscNs77XxLvPXkc761rAQ9uCHqOq7CHzuh1x47osDau/vnEriLWdO8pKkjPJNJsDpw4OO8/IqAO/T9Lbya/RU+0+C0PQsII746P7S9wfSXu6E0sbvxXiw+pzIDwO70oz550MA6mJmFv/uK8zv0oJu76R4dvf7/5btPGpK9GwWMO7PmYry2NTK/XhF2OyZOwcBftOM5tGYpu+IREbphQJo5AAAAgBS+FDstTrs7IWmyvE1rNLvhtPE80oeOvckky7v6hIg8m8OqPWLv6rzO35i78rfSvR+9tj8DmIw8kmBnOt2cHrzcbYc7DtqnPD30/LuP64E77L2ePRN4uToanAm9kmBnu8QMa7p03/O+fsMDPw==",
          "dtype": "f4",
          "shape": "32, 32"
         }
        }
       ],
       "layout": {
        "coloraxis": {
         "cmid": 0,
         "colorbar": {
          "ticksuffix": "%",
          "title": {
           "text": "Logit diff. variation"
          }
         },
         "colorscale": [
          [
           0,
           "rgb(103,0,31)"
          ],
          [
           0.1,
           "rgb(178,24,43)"
          ],
          [
           0.2,
           "rgb(214,96,77)"
          ],
          [
           0.3,
           "rgb(244,165,130)"
          ],
          [
           0.4,
           "rgb(253,219,199)"
          ],
          [
           0.5,
           "rgb(247,247,247)"
          ],
          [
           0.6,
           "rgb(209,229,240)"
          ],
          [
           0.7,
           "rgb(146,197,222)"
          ],
          [
           0.8,
           "rgb(67,147,195)"
          ],
          [
           0.9,
           "rgb(33,102,172)"
          ],
          [
           1,
           "rgb(5,48,97)"
          ]
         ]
        },
        "height": 400,
        "template": {
         "data": {
          "bar": [
           {
            "error_x": {
             "color": "#2a3f5f"
            },
            "error_y": {
             "color": "#2a3f5f"
            },
            "marker": {
             "line": {
              "color": "#E5ECF6",
              "width": 0.5
             },
             "pattern": {
              "fillmode": "overlay",
              "size": 10,
              "solidity": 0.2
             }
            },
            "type": "bar"
           }
          ],
          "barpolar": [
           {
            "marker": {
             "line": {
              "color": "#E5ECF6",
              "width": 0.5
             },
             "pattern": {
              "fillmode": "overlay",
              "size": 10,
              "solidity": 0.2
             }
            },
            "type": "barpolar"
           }
          ],
          "carpet": [
           {
            "aaxis": {
             "endlinecolor": "#2a3f5f",
             "gridcolor": "white",
             "linecolor": "white",
             "minorgridcolor": "white",
             "startlinecolor": "#2a3f5f"
            },
            "baxis": {
             "endlinecolor": "#2a3f5f",
             "gridcolor": "white",
             "linecolor": "white",
             "minorgridcolor": "white",
             "startlinecolor": "#2a3f5f"
            },
            "type": "carpet"
           }
          ],
          "choropleth": [
           {
            "colorbar": {
             "outlinewidth": 0,
             "ticks": ""
            },
            "type": "choropleth"
           }
          ],
          "contour": [
           {
            "colorbar": {
             "outlinewidth": 0,
             "ticks": ""
            },
            "colorscale": [
             [
              0,
              "#0d0887"
             ],
             [
              0.1111111111111111,
              "#46039f"
             ],
             [
              0.2222222222222222,
              "#7201a8"
             ],
             [
              0.3333333333333333,
              "#9c179e"
             ],
             [
              0.4444444444444444,
              "#bd3786"
             ],
             [
              0.5555555555555556,
              "#d8576b"
             ],
             [
              0.6666666666666666,
              "#ed7953"
             ],
             [
              0.7777777777777778,
              "#fb9f3a"
             ],
             [
              0.8888888888888888,
              "#fdca26"
             ],
             [
              1,
              "#f0f921"
             ]
            ],
            "type": "contour"
           }
          ],
          "contourcarpet": [
           {
            "colorbar": {
             "outlinewidth": 0,
             "ticks": ""
            },
            "type": "contourcarpet"
           }
          ],
          "heatmap": [
           {
            "colorbar": {
             "outlinewidth": 0,
             "ticks": ""
            },
            "colorscale": [
             [
              0,
              "#0d0887"
             ],
             [
              0.1111111111111111,
              "#46039f"
             ],
             [
              0.2222222222222222,
              "#7201a8"
             ],
             [
              0.3333333333333333,
              "#9c179e"
             ],
             [
              0.4444444444444444,
              "#bd3786"
             ],
             [
              0.5555555555555556,
              "#d8576b"
             ],
             [
              0.6666666666666666,
              "#ed7953"
             ],
             [
              0.7777777777777778,
              "#fb9f3a"
             ],
             [
              0.8888888888888888,
              "#fdca26"
             ],
             [
              1,
              "#f0f921"
             ]
            ],
            "type": "heatmap"
           }
          ],
          "histogram": [
           {
            "marker": {
             "pattern": {
              "fillmode": "overlay",
              "size": 10,
              "solidity": 0.2
             }
            },
            "type": "histogram"
           }
          ],
          "histogram2d": [
           {
            "colorbar": {
             "outlinewidth": 0,
             "ticks": ""
            },
            "colorscale": [
             [
              0,
              "#0d0887"
             ],
             [
              0.1111111111111111,
              "#46039f"
             ],
             [
              0.2222222222222222,
              "#7201a8"
             ],
             [
              0.3333333333333333,
              "#9c179e"
             ],
             [
              0.4444444444444444,
              "#bd3786"
             ],
             [
              0.5555555555555556,
              "#d8576b"
             ],
             [
              0.6666666666666666,
              "#ed7953"
             ],
             [
              0.7777777777777778,
              "#fb9f3a"
             ],
             [
              0.8888888888888888,
              "#fdca26"
             ],
             [
              1,
              "#f0f921"
             ]
            ],
            "type": "histogram2d"
           }
          ],
          "histogram2dcontour": [
           {
            "colorbar": {
             "outlinewidth": 0,
             "ticks": ""
            },
            "colorscale": [
             [
              0,
              "#0d0887"
             ],
             [
              0.1111111111111111,
              "#46039f"
             ],
             [
              0.2222222222222222,
              "#7201a8"
             ],
             [
              0.3333333333333333,
              "#9c179e"
             ],
             [
              0.4444444444444444,
              "#bd3786"
             ],
             [
              0.5555555555555556,
              "#d8576b"
             ],
             [
              0.6666666666666666,
              "#ed7953"
             ],
             [
              0.7777777777777778,
              "#fb9f3a"
             ],
             [
              0.8888888888888888,
              "#fdca26"
             ],
             [
              1,
              "#f0f921"
             ]
            ],
            "type": "histogram2dcontour"
           }
          ],
          "mesh3d": [
           {
            "colorbar": {
             "outlinewidth": 0,
             "ticks": ""
            },
            "type": "mesh3d"
           }
          ],
          "parcoords": [
           {
            "line": {
             "colorbar": {
              "outlinewidth": 0,
              "ticks": ""
             }
            },
            "type": "parcoords"
           }
          ],
          "pie": [
           {
            "automargin": true,
            "type": "pie"
           }
          ],
          "scatter": [
           {
            "fillpattern": {
             "fillmode": "overlay",
             "size": 10,
             "solidity": 0.2
            },
            "type": "scatter"
           }
          ],
          "scatter3d": [
           {
            "line": {
             "colorbar": {
              "outlinewidth": 0,
              "ticks": ""
             }
            },
            "marker": {
             "colorbar": {
              "outlinewidth": 0,
              "ticks": ""
             }
            },
            "type": "scatter3d"
           }
          ],
          "scattercarpet": [
           {
            "marker": {
             "colorbar": {
              "outlinewidth": 0,
              "ticks": ""
             }
            },
            "type": "scattercarpet"
           }
          ],
          "scattergeo": [
           {
            "marker": {
             "colorbar": {
              "outlinewidth": 0,
              "ticks": ""
             }
            },
            "type": "scattergeo"
           }
          ],
          "scattergl": [
           {
            "marker": {
             "colorbar": {
              "outlinewidth": 0,
              "ticks": ""
             }
            },
            "type": "scattergl"
           }
          ],
          "scattermap": [
           {
            "marker": {
             "colorbar": {
              "outlinewidth": 0,
              "ticks": ""
             }
            },
            "type": "scattermap"
           }
          ],
          "scattermapbox": [
           {
            "marker": {
             "colorbar": {
              "outlinewidth": 0,
              "ticks": ""
             }
            },
            "type": "scattermapbox"
           }
          ],
          "scatterpolar": [
           {
            "marker": {
             "colorbar": {
              "outlinewidth": 0,
              "ticks": ""
             }
            },
            "type": "scatterpolar"
           }
          ],
          "scatterpolargl": [
           {
            "marker": {
             "colorbar": {
              "outlinewidth": 0,
              "ticks": ""
             }
            },
            "type": "scatterpolargl"
           }
          ],
          "scatterternary": [
           {
            "marker": {
             "colorbar": {
              "outlinewidth": 0,
              "ticks": ""
             }
            },
            "type": "scatterternary"
           }
          ],
          "surface": [
           {
            "colorbar": {
             "outlinewidth": 0,
             "ticks": ""
            },
            "colorscale": [
             [
              0,
              "#0d0887"
             ],
             [
              0.1111111111111111,
              "#46039f"
             ],
             [
              0.2222222222222222,
              "#7201a8"
             ],
             [
              0.3333333333333333,
              "#9c179e"
             ],
             [
              0.4444444444444444,
              "#bd3786"
             ],
             [
              0.5555555555555556,
              "#d8576b"
             ],
             [
              0.6666666666666666,
              "#ed7953"
             ],
             [
              0.7777777777777778,
              "#fb9f3a"
             ],
             [
              0.8888888888888888,
              "#fdca26"
             ],
             [
              1,
              "#f0f921"
             ]
            ],
            "type": "surface"
           }
          ],
          "table": [
           {
            "cells": {
             "fill": {
              "color": "#EBF0F8"
             },
             "line": {
              "color": "white"
             }
            },
            "header": {
             "fill": {
              "color": "#C8D4E3"
             },
             "line": {
              "color": "white"
             }
            },
            "type": "table"
           }
          ]
         },
         "layout": {
          "annotationdefaults": {
           "arrowcolor": "#2a3f5f",
           "arrowhead": 0,
           "arrowwidth": 1
          },
          "autotypenumbers": "strict",
          "coloraxis": {
           "colorbar": {
            "outlinewidth": 0,
            "ticks": ""
           }
          },
          "colorscale": {
           "diverging": [
            [
             0,
             "#8e0152"
            ],
            [
             0.1,
             "#c51b7d"
            ],
            [
             0.2,
             "#de77ae"
            ],
            [
             0.3,
             "#f1b6da"
            ],
            [
             0.4,
             "#fde0ef"
            ],
            [
             0.5,
             "#f7f7f7"
            ],
            [
             0.6,
             "#e6f5d0"
            ],
            [
             0.7,
             "#b8e186"
            ],
            [
             0.8,
             "#7fbc41"
            ],
            [
             0.9,
             "#4d9221"
            ],
            [
             1,
             "#276419"
            ]
           ],
           "sequential": [
            [
             0,
             "#0d0887"
            ],
            [
             0.1111111111111111,
             "#46039f"
            ],
            [
             0.2222222222222222,
             "#7201a8"
            ],
            [
             0.3333333333333333,
             "#9c179e"
            ],
            [
             0.4444444444444444,
             "#bd3786"
            ],
            [
             0.5555555555555556,
             "#d8576b"
            ],
            [
             0.6666666666666666,
             "#ed7953"
            ],
            [
             0.7777777777777778,
             "#fb9f3a"
            ],
            [
             0.8888888888888888,
             "#fdca26"
            ],
            [
             1,
             "#f0f921"
            ]
           ],
           "sequentialminus": [
            [
             0,
             "#0d0887"
            ],
            [
             0.1111111111111111,
             "#46039f"
            ],
            [
             0.2222222222222222,
             "#7201a8"
            ],
            [
             0.3333333333333333,
             "#9c179e"
            ],
            [
             0.4444444444444444,
             "#bd3786"
            ],
            [
             0.5555555555555556,
             "#d8576b"
            ],
            [
             0.6666666666666666,
             "#ed7953"
            ],
            [
             0.7777777777777778,
             "#fb9f3a"
            ],
            [
             0.8888888888888888,
             "#fdca26"
            ],
            [
             1,
             "#f0f921"
            ]
           ]
          },
          "colorway": [
           "#636efa",
           "#EF553B",
           "#00cc96",
           "#ab63fa",
           "#FFA15A",
           "#19d3f3",
           "#FF6692",
           "#B6E880",
           "#FF97FF",
           "#FECB52"
          ],
          "font": {
           "color": "#2a3f5f"
          },
          "geo": {
           "bgcolor": "white",
           "lakecolor": "white",
           "landcolor": "#E5ECF6",
           "showlakes": true,
           "showland": true,
           "subunitcolor": "white"
          },
          "hoverlabel": {
           "align": "left"
          },
          "hovermode": "closest",
          "mapbox": {
           "style": "light"
          },
          "paper_bgcolor": "white",
          "plot_bgcolor": "#E5ECF6",
          "polar": {
           "angularaxis": {
            "gridcolor": "white",
            "linecolor": "white",
            "ticks": ""
           },
           "bgcolor": "#E5ECF6",
           "radialaxis": {
            "gridcolor": "white",
            "linecolor": "white",
            "ticks": ""
           }
          },
          "scene": {
           "xaxis": {
            "backgroundcolor": "#E5ECF6",
            "gridcolor": "white",
            "gridwidth": 2,
            "linecolor": "white",
            "showbackground": true,
            "ticks": "",
            "zerolinecolor": "white"
           },
           "yaxis": {
            "backgroundcolor": "#E5ECF6",
            "gridcolor": "white",
            "gridwidth": 2,
            "linecolor": "white",
            "showbackground": true,
            "ticks": "",
            "zerolinecolor": "white"
           },
           "zaxis": {
            "backgroundcolor": "#E5ECF6",
            "gridcolor": "white",
            "gridwidth": 2,
            "linecolor": "white",
            "showbackground": true,
            "ticks": "",
            "zerolinecolor": "white"
           }
          },
          "shapedefaults": {
           "line": {
            "color": "#2a3f5f"
           }
          },
          "ternary": {
           "aaxis": {
            "gridcolor": "white",
            "linecolor": "white",
            "ticks": ""
           },
           "baxis": {
            "gridcolor": "white",
            "linecolor": "white",
            "ticks": ""
           },
           "bgcolor": "#E5ECF6",
           "caxis": {
            "gridcolor": "white",
            "linecolor": "white",
            "ticks": ""
           }
          },
          "title": {
           "x": 0.05
          },
          "xaxis": {
           "automargin": true,
           "gridcolor": "white",
           "linecolor": "white",
           "ticks": "",
           "title": {
            "standoff": 15
           },
           "zerolinecolor": "white",
           "zerolinewidth": 2
          },
          "yaxis": {
           "automargin": true,
           "gridcolor": "white",
           "linecolor": "white",
           "ticks": "",
           "title": {
            "standoff": 15
           },
           "zerolinecolor": "white",
           "zerolinewidth": 2
          }
         }
        },
        "title": {
         "text": "Path patching results "
        },
        "width": 800,
        "xaxis": {
         "anchor": "y",
         "constrain": "domain",
         "domain": [
          0,
          1
         ],
         "scaleanchor": "y",
         "title": {
          "text": "Layer"
         }
        },
        "yaxis": {
         "anchor": "x",
         "autorange": "reversed",
         "constrain": "domain",
         "domain": [
          0,
          1
         ],
         "title": {
          "text": "Head"
         }
        }
       }
      }
     },
     "metadata": {},
     "output_type": "display_data"
    }
   ],
   "source": [
    "# Estimated run time: 5 min\n",
    "results_resid_post_31 = analyze_path_to_repr([31], \"resid_post\", model, processed_data, begin_layer=0, batch_size=4)"
   ]
  },
  {
   "cell_type": "code",
   "execution_count": 10,
   "metadata": {},
   "outputs": [
    {
     "name": "stdout",
     "output_type": "stream",
     "text": [
      "rel_diff > 0.05:\t [(31, 30), (31, 10), (31, 4), (29, 26), (29, 16)]\n",
      "0.05 > rel_diff > 0.02:\t [(31, 28), (30, 26), (29, 2), (18, 30), (14, 1), (11, 2)]\n"
     ]
    }
   ],
   "source": [
    "# Tracking which heads have |r| > 2%\n",
    "\n",
    "head_list_1 = [tuple(idx) for idx in t.nonzero(t.abs(results_resid_post_31) > 0.05, as_tuple=False).tolist()]\n",
    "print(f\"rel_diff > 0.05:\\t {sorted(head_list_1, reverse=True)}\")\n",
    "\n",
    "head_list_2 = [tuple(idx) for idx in t.nonzero(t.abs(results_resid_post_31) > 0.02, as_tuple=False).tolist() if tuple(idx) not in head_list_1]\n",
    "print(f\"0.05 > rel_diff > 0.02:\\t {sorted(head_list_2, reverse=True)}\")"
   ]
  },
  {
   "cell_type": "code",
   "execution_count": 7,
   "metadata": {},
   "outputs": [
    {
     "name": "stdout",
     "output_type": "stream",
     "text": [
      "rel_diff > 0.05:\t [(31, 30), (31, 10), (31, 4), (29, 26), (29, 16)]\n",
      "0.05 > rel_diff > 0.02:\t [(31, 28), (30, 26), (30, 3), (16, 24)]\n"
     ]
    }
   ],
   "source": [
    "# results from llama_2_7b_offline.py which uses 100 examples instead of 4 examples to reduce noise.\n",
    "head_list_1 = [(31, 30), (31, 10), (31, 4), (29, 26), (29, 16)]\n",
    "head_list_2 = [(31, 28), (30, 26), (30, 3), (16, 24)]\n",
    "print(f\"rel_diff > 0.05:\\t {sorted(head_list_1, reverse=True)}\")\n",
    "print(f\"0.05 > rel_diff > 0.02:\\t {sorted(head_list_2, reverse=True)}\")"
   ]
  },
  {
   "cell_type": "code",
   "execution_count": 13,
   "metadata": {},
   "outputs": [
    {
     "name": "stderr",
     "output_type": "stream",
     "text": [
      "layer: 100%|██████████| 32/32 [04:41<00:00,  8.80s/it]\n",
      "batch: 100%|██████████| 1/1 [04:41<00:00, 281.79s/it]\n"
     ]
    },
    {
     "data": {
      "application/vnd.plotly.v1+json": {
       "config": {
        "plotlyServerURL": "https://plot.ly",
        "staticPlot": false
       },
       "data": [
        {
         "coloraxis": "coloraxis",
         "hovertemplate": "Layer: %{x}<br>Head: %{y}<br>Logit diff. variation: %{z}<extra></extra>",
         "name": "0",
         "type": "heatmap",
         "xaxis": "x",
         "yaxis": "y",
         "z": {
          "bdata": "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",
          "dtype": "f4",
          "shape": "32, 32"
         }
        }
       ],
       "layout": {
        "coloraxis": {
         "cmid": 0,
         "colorbar": {
          "ticksuffix": "%",
          "title": {
           "text": "Logit diff. variation"
          }
         },
         "colorscale": [
          [
           0,
           "rgb(103,0,31)"
          ],
          [
           0.1,
           "rgb(178,24,43)"
          ],
          [
           0.2,
           "rgb(214,96,77)"
          ],
          [
           0.3,
           "rgb(244,165,130)"
          ],
          [
           0.4,
           "rgb(253,219,199)"
          ],
          [
           0.5,
           "rgb(247,247,247)"
          ],
          [
           0.6,
           "rgb(209,229,240)"
          ],
          [
           0.7,
           "rgb(146,197,222)"
          ],
          [
           0.8,
           "rgb(67,147,195)"
          ],
          [
           0.9,
           "rgb(33,102,172)"
          ],
          [
           1,
           "rgb(5,48,97)"
          ]
         ]
        },
        "height": 400,
        "template": {
         "data": {
          "bar": [
           {
            "error_x": {
             "color": "#2a3f5f"
            },
            "error_y": {
             "color": "#2a3f5f"
            },
            "marker": {
             "line": {
              "color": "#E5ECF6",
              "width": 0.5
             },
             "pattern": {
              "fillmode": "overlay",
              "size": 10,
              "solidity": 0.2
             }
            },
            "type": "bar"
           }
          ],
          "barpolar": [
           {
            "marker": {
             "line": {
              "color": "#E5ECF6",
              "width": 0.5
             },
             "pattern": {
              "fillmode": "overlay",
              "size": 10,
              "solidity": 0.2
             }
            },
            "type": "barpolar"
           }
          ],
          "carpet": [
           {
            "aaxis": {
             "endlinecolor": "#2a3f5f",
             "gridcolor": "white",
             "linecolor": "white",
             "minorgridcolor": "white",
             "startlinecolor": "#2a3f5f"
            },
            "baxis": {
             "endlinecolor": "#2a3f5f",
             "gridcolor": "white",
             "linecolor": "white",
             "minorgridcolor": "white",
             "startlinecolor": "#2a3f5f"
            },
            "type": "carpet"
           }
          ],
          "choropleth": [
           {
            "colorbar": {
             "outlinewidth": 0,
             "ticks": ""
            },
            "type": "choropleth"
           }
          ],
          "contour": [
           {
            "colorbar": {
             "outlinewidth": 0,
             "ticks": ""
            },
            "colorscale": [
             [
              0,
              "#0d0887"
             ],
             [
              0.1111111111111111,
              "#46039f"
             ],
             [
              0.2222222222222222,
              "#7201a8"
             ],
             [
              0.3333333333333333,
              "#9c179e"
             ],
             [
              0.4444444444444444,
              "#bd3786"
             ],
             [
              0.5555555555555556,
              "#d8576b"
             ],
             [
              0.6666666666666666,
              "#ed7953"
             ],
             [
              0.7777777777777778,
              "#fb9f3a"
             ],
             [
              0.8888888888888888,
              "#fdca26"
             ],
             [
              1,
              "#f0f921"
             ]
            ],
            "type": "contour"
           }
          ],
          "contourcarpet": [
           {
            "colorbar": {
             "outlinewidth": 0,
             "ticks": ""
            },
            "type": "contourcarpet"
           }
          ],
          "heatmap": [
           {
            "colorbar": {
             "outlinewidth": 0,
             "ticks": ""
            },
            "colorscale": [
             [
              0,
              "#0d0887"
             ],
             [
              0.1111111111111111,
              "#46039f"
             ],
             [
              0.2222222222222222,
              "#7201a8"
             ],
             [
              0.3333333333333333,
              "#9c179e"
             ],
             [
              0.4444444444444444,
              "#bd3786"
             ],
             [
              0.5555555555555556,
              "#d8576b"
             ],
             [
              0.6666666666666666,
              "#ed7953"
             ],
             [
              0.7777777777777778,
              "#fb9f3a"
             ],
             [
              0.8888888888888888,
              "#fdca26"
             ],
             [
              1,
              "#f0f921"
             ]
            ],
            "type": "heatmap"
           }
          ],
          "histogram": [
           {
            "marker": {
             "pattern": {
              "fillmode": "overlay",
              "size": 10,
              "solidity": 0.2
             }
            },
            "type": "histogram"
           }
          ],
          "histogram2d": [
           {
            "colorbar": {
             "outlinewidth": 0,
             "ticks": ""
            },
            "colorscale": [
             [
              0,
              "#0d0887"
             ],
             [
              0.1111111111111111,
              "#46039f"
             ],
             [
              0.2222222222222222,
              "#7201a8"
             ],
             [
              0.3333333333333333,
              "#9c179e"
             ],
             [
              0.4444444444444444,
              "#bd3786"
             ],
             [
              0.5555555555555556,
              "#d8576b"
             ],
             [
              0.6666666666666666,
              "#ed7953"
             ],
             [
              0.7777777777777778,
              "#fb9f3a"
             ],
             [
              0.8888888888888888,
              "#fdca26"
             ],
             [
              1,
              "#f0f921"
             ]
            ],
            "type": "histogram2d"
           }
          ],
          "histogram2dcontour": [
           {
            "colorbar": {
             "outlinewidth": 0,
             "ticks": ""
            },
            "colorscale": [
             [
              0,
              "#0d0887"
             ],
             [
              0.1111111111111111,
              "#46039f"
             ],
             [
              0.2222222222222222,
              "#7201a8"
             ],
             [
              0.3333333333333333,
              "#9c179e"
             ],
             [
              0.4444444444444444,
              "#bd3786"
             ],
             [
              0.5555555555555556,
              "#d8576b"
             ],
             [
              0.6666666666666666,
              "#ed7953"
             ],
             [
              0.7777777777777778,
              "#fb9f3a"
             ],
             [
              0.8888888888888888,
              "#fdca26"
             ],
             [
              1,
              "#f0f921"
             ]
            ],
            "type": "histogram2dcontour"
           }
          ],
          "mesh3d": [
           {
            "colorbar": {
             "outlinewidth": 0,
             "ticks": ""
            },
            "type": "mesh3d"
           }
          ],
          "parcoords": [
           {
            "line": {
             "colorbar": {
              "outlinewidth": 0,
              "ticks": ""
             }
            },
            "type": "parcoords"
           }
          ],
          "pie": [
           {
            "automargin": true,
            "type": "pie"
           }
          ],
          "scatter": [
           {
            "fillpattern": {
             "fillmode": "overlay",
             "size": 10,
             "solidity": 0.2
            },
            "type": "scatter"
           }
          ],
          "scatter3d": [
           {
            "line": {
             "colorbar": {
              "outlinewidth": 0,
              "ticks": ""
             }
            },
            "marker": {
             "colorbar": {
              "outlinewidth": 0,
              "ticks": ""
             }
            },
            "type": "scatter3d"
           }
          ],
          "scattercarpet": [
           {
            "marker": {
             "colorbar": {
              "outlinewidth": 0,
              "ticks": ""
             }
            },
            "type": "scattercarpet"
           }
          ],
          "scattergeo": [
           {
            "marker": {
             "colorbar": {
              "outlinewidth": 0,
              "ticks": ""
             }
            },
            "type": "scattergeo"
           }
          ],
          "scattergl": [
           {
            "marker": {
             "colorbar": {
              "outlinewidth": 0,
              "ticks": ""
             }
            },
            "type": "scattergl"
           }
          ],
          "scattermap": [
           {
            "marker": {
             "colorbar": {
              "outlinewidth": 0,
              "ticks": ""
             }
            },
            "type": "scattermap"
           }
          ],
          "scattermapbox": [
           {
            "marker": {
             "colorbar": {
              "outlinewidth": 0,
              "ticks": ""
             }
            },
            "type": "scattermapbox"
           }
          ],
          "scatterpolar": [
           {
            "marker": {
             "colorbar": {
              "outlinewidth": 0,
              "ticks": ""
             }
            },
            "type": "scatterpolar"
           }
          ],
          "scatterpolargl": [
           {
            "marker": {
             "colorbar": {
              "outlinewidth": 0,
              "ticks": ""
             }
            },
            "type": "scatterpolargl"
           }
          ],
          "scatterternary": [
           {
            "marker": {
             "colorbar": {
              "outlinewidth": 0,
              "ticks": ""
             }
            },
            "type": "scatterternary"
           }
          ],
          "surface": [
           {
            "colorbar": {
             "outlinewidth": 0,
             "ticks": ""
            },
            "colorscale": [
             [
              0,
              "#0d0887"
             ],
             [
              0.1111111111111111,
              "#46039f"
             ],
             [
              0.2222222222222222,
              "#7201a8"
             ],
             [
              0.3333333333333333,
              "#9c179e"
             ],
             [
              0.4444444444444444,
              "#bd3786"
             ],
             [
              0.5555555555555556,
              "#d8576b"
             ],
             [
              0.6666666666666666,
              "#ed7953"
             ],
             [
              0.7777777777777778,
              "#fb9f3a"
             ],
             [
              0.8888888888888888,
              "#fdca26"
             ],
             [
              1,
              "#f0f921"
             ]
            ],
            "type": "surface"
           }
          ],
          "table": [
           {
            "cells": {
             "fill": {
              "color": "#EBF0F8"
             },
             "line": {
              "color": "white"
             }
            },
            "header": {
             "fill": {
              "color": "#C8D4E3"
             },
             "line": {
              "color": "white"
             }
            },
            "type": "table"
           }
          ]
         },
         "layout": {
          "annotationdefaults": {
           "arrowcolor": "#2a3f5f",
           "arrowhead": 0,
           "arrowwidth": 1
          },
          "autotypenumbers": "strict",
          "coloraxis": {
           "colorbar": {
            "outlinewidth": 0,
            "ticks": ""
           }
          },
          "colorscale": {
           "diverging": [
            [
             0,
             "#8e0152"
            ],
            [
             0.1,
             "#c51b7d"
            ],
            [
             0.2,
             "#de77ae"
            ],
            [
             0.3,
             "#f1b6da"
            ],
            [
             0.4,
             "#fde0ef"
            ],
            [
             0.5,
             "#f7f7f7"
            ],
            [
             0.6,
             "#e6f5d0"
            ],
            [
             0.7,
             "#b8e186"
            ],
            [
             0.8,
             "#7fbc41"
            ],
            [
             0.9,
             "#4d9221"
            ],
            [
             1,
             "#276419"
            ]
           ],
           "sequential": [
            [
             0,
             "#0d0887"
            ],
            [
             0.1111111111111111,
             "#46039f"
            ],
            [
             0.2222222222222222,
             "#7201a8"
            ],
            [
             0.3333333333333333,
             "#9c179e"
            ],
            [
             0.4444444444444444,
             "#bd3786"
            ],
            [
             0.5555555555555556,
             "#d8576b"
            ],
            [
             0.6666666666666666,
             "#ed7953"
            ],
            [
             0.7777777777777778,
             "#fb9f3a"
            ],
            [
             0.8888888888888888,
             "#fdca26"
            ],
            [
             1,
             "#f0f921"
            ]
           ],
           "sequentialminus": [
            [
             0,
             "#0d0887"
            ],
            [
             0.1111111111111111,
             "#46039f"
            ],
            [
             0.2222222222222222,
             "#7201a8"
            ],
            [
             0.3333333333333333,
             "#9c179e"
            ],
            [
             0.4444444444444444,
             "#bd3786"
            ],
            [
             0.5555555555555556,
             "#d8576b"
            ],
            [
             0.6666666666666666,
             "#ed7953"
            ],
            [
             0.7777777777777778,
             "#fb9f3a"
            ],
            [
             0.8888888888888888,
             "#fdca26"
            ],
            [
             1,
             "#f0f921"
            ]
           ]
          },
          "colorway": [
           "#636efa",
           "#EF553B",
           "#00cc96",
           "#ab63fa",
           "#FFA15A",
           "#19d3f3",
           "#FF6692",
           "#B6E880",
           "#FF97FF",
           "#FECB52"
          ],
          "font": {
           "color": "#2a3f5f"
          },
          "geo": {
           "bgcolor": "white",
           "lakecolor": "white",
           "landcolor": "#E5ECF6",
           "showlakes": true,
           "showland": true,
           "subunitcolor": "white"
          },
          "hoverlabel": {
           "align": "left"
          },
          "hovermode": "closest",
          "mapbox": {
           "style": "light"
          },
          "paper_bgcolor": "white",
          "plot_bgcolor": "#E5ECF6",
          "polar": {
           "angularaxis": {
            "gridcolor": "white",
            "linecolor": "white",
            "ticks": ""
           },
           "bgcolor": "#E5ECF6",
           "radialaxis": {
            "gridcolor": "white",
            "linecolor": "white",
            "ticks": ""
           }
          },
          "scene": {
           "xaxis": {
            "backgroundcolor": "#E5ECF6",
            "gridcolor": "white",
            "gridwidth": 2,
            "linecolor": "white",
            "showbackground": true,
            "ticks": "",
            "zerolinecolor": "white"
           },
           "yaxis": {
            "backgroundcolor": "#E5ECF6",
            "gridcolor": "white",
            "gridwidth": 2,
            "linecolor": "white",
            "showbackground": true,
            "ticks": "",
            "zerolinecolor": "white"
           },
           "zaxis": {
            "backgroundcolor": "#E5ECF6",
            "gridcolor": "white",
            "gridwidth": 2,
            "linecolor": "white",
            "showbackground": true,
            "ticks": "",
            "zerolinecolor": "white"
           }
          },
          "shapedefaults": {
           "line": {
            "color": "#2a3f5f"
           }
          },
          "ternary": {
           "aaxis": {
            "gridcolor": "white",
            "linecolor": "white",
            "ticks": ""
           },
           "baxis": {
            "gridcolor": "white",
            "linecolor": "white",
            "ticks": ""
           },
           "bgcolor": "#E5ECF6",
           "caxis": {
            "gridcolor": "white",
            "linecolor": "white",
            "ticks": ""
           }
          },
          "title": {
           "x": 0.05
          },
          "xaxis": {
           "automargin": true,
           "gridcolor": "white",
           "linecolor": "white",
           "ticks": "",
           "title": {
            "standoff": 15
           },
           "zerolinecolor": "white",
           "zerolinewidth": 2
          },
          "yaxis": {
           "automargin": true,
           "gridcolor": "white",
           "linecolor": "white",
           "ticks": "",
           "title": {
            "standoff": 15
           },
           "zerolinecolor": "white",
           "zerolinewidth": 2
          }
         }
        },
        "title": {
         "text": "Path patching results "
        },
        "width": 800,
        "xaxis": {
         "anchor": "y",
         "constrain": "domain",
         "domain": [
          0,
          1
         ],
         "scaleanchor": "y",
         "title": {
          "text": "Layer"
         }
        },
        "yaxis": {
         "anchor": "x",
         "autorange": "reversed",
         "constrain": "domain",
         "domain": [
          0,
          1
         ],
         "title": {
          "text": "Head"
         }
        }
       }
      }
     },
     "metadata": {},
     "output_type": "display_data"
    }
   ],
   "source": [
    "results_h31_10_v = analyze_path_to_head([(31, 10)], \"v\", model, processed_data, begin_layer=0, batch_size=4)"
   ]
  },
  {
   "cell_type": "code",
   "execution_count": 14,
   "metadata": {},
   "outputs": [
    {
     "name": "stderr",
     "output_type": "stream",
     "text": [
      "layer: 100%|██████████| 30/30 [04:23<00:00,  8.77s/it]\n",
      "batch: 100%|██████████| 1/1 [04:23<00:00, 263.36s/it]\n"
     ]
    },
    {
     "data": {
      "application/vnd.plotly.v1+json": {
       "config": {
        "plotlyServerURL": "https://plot.ly",
        "staticPlot": false
       },
       "data": [
        {
         "coloraxis": "coloraxis",
         "hovertemplate": "Layer: %{x}<br>Head: %{y}<br>Logit diff. variation: %{z}<extra></extra>",
         "name": "0",
         "type": "heatmap",
         "xaxis": "x",
         "yaxis": "y",
         "z": {
          "bdata": "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",
          "dtype": "f4",
          "shape": "32, 32"
         }
        }
       ],
       "layout": {
        "coloraxis": {
         "cmid": 0,
         "colorbar": {
          "ticksuffix": "%",
          "title": {
           "text": "Logit diff. variation"
          }
         },
         "colorscale": [
          [
           0,
           "rgb(103,0,31)"
          ],
          [
           0.1,
           "rgb(178,24,43)"
          ],
          [
           0.2,
           "rgb(214,96,77)"
          ],
          [
           0.3,
           "rgb(244,165,130)"
          ],
          [
           0.4,
           "rgb(253,219,199)"
          ],
          [
           0.5,
           "rgb(247,247,247)"
          ],
          [
           0.6,
           "rgb(209,229,240)"
          ],
          [
           0.7,
           "rgb(146,197,222)"
          ],
          [
           0.8,
           "rgb(67,147,195)"
          ],
          [
           0.9,
           "rgb(33,102,172)"
          ],
          [
           1,
           "rgb(5,48,97)"
          ]
         ]
        },
        "height": 400,
        "template": {
         "data": {
          "bar": [
           {
            "error_x": {
             "color": "#2a3f5f"
            },
            "error_y": {
             "color": "#2a3f5f"
            },
            "marker": {
             "line": {
              "color": "#E5ECF6",
              "width": 0.5
             },
             "pattern": {
              "fillmode": "overlay",
              "size": 10,
              "solidity": 0.2
             }
            },
            "type": "bar"
           }
          ],
          "barpolar": [
           {
            "marker": {
             "line": {
              "color": "#E5ECF6",
              "width": 0.5
             },
             "pattern": {
              "fillmode": "overlay",
              "size": 10,
              "solidity": 0.2
             }
            },
            "type": "barpolar"
           }
          ],
          "carpet": [
           {
            "aaxis": {
             "endlinecolor": "#2a3f5f",
             "gridcolor": "white",
             "linecolor": "white",
             "minorgridcolor": "white",
             "startlinecolor": "#2a3f5f"
            },
            "baxis": {
             "endlinecolor": "#2a3f5f",
             "gridcolor": "white",
             "linecolor": "white",
             "minorgridcolor": "white",
             "startlinecolor": "#2a3f5f"
            },
            "type": "carpet"
           }
          ],
          "choropleth": [
           {
            "colorbar": {
             "outlinewidth": 0,
             "ticks": ""
            },
            "type": "choropleth"
           }
          ],
          "contour": [
           {
            "colorbar": {
             "outlinewidth": 0,
             "ticks": ""
            },
            "colorscale": [
             [
              0,
              "#0d0887"
             ],
             [
              0.1111111111111111,
              "#46039f"
             ],
             [
              0.2222222222222222,
              "#7201a8"
             ],
             [
              0.3333333333333333,
              "#9c179e"
             ],
             [
              0.4444444444444444,
              "#bd3786"
             ],
             [
              0.5555555555555556,
              "#d8576b"
             ],
             [
              0.6666666666666666,
              "#ed7953"
             ],
             [
              0.7777777777777778,
              "#fb9f3a"
             ],
             [
              0.8888888888888888,
              "#fdca26"
             ],
             [
              1,
              "#f0f921"
             ]
            ],
            "type": "contour"
           }
          ],
          "contourcarpet": [
           {
            "colorbar": {
             "outlinewidth": 0,
             "ticks": ""
            },
            "type": "contourcarpet"
           }
          ],
          "heatmap": [
           {
            "colorbar": {
             "outlinewidth": 0,
             "ticks": ""
            },
            "colorscale": [
             [
              0,
              "#0d0887"
             ],
             [
              0.1111111111111111,
              "#46039f"
             ],
             [
              0.2222222222222222,
              "#7201a8"
             ],
             [
              0.3333333333333333,
              "#9c179e"
             ],
             [
              0.4444444444444444,
              "#bd3786"
             ],
             [
              0.5555555555555556,
              "#d8576b"
             ],
             [
              0.6666666666666666,
              "#ed7953"
             ],
             [
              0.7777777777777778,
              "#fb9f3a"
             ],
             [
              0.8888888888888888,
              "#fdca26"
             ],
             [
              1,
              "#f0f921"
             ]
            ],
            "type": "heatmap"
           }
          ],
          "histogram": [
           {
            "marker": {
             "pattern": {
              "fillmode": "overlay",
              "size": 10,
              "solidity": 0.2
             }
            },
            "type": "histogram"
           }
          ],
          "histogram2d": [
           {
            "colorbar": {
             "outlinewidth": 0,
             "ticks": ""
            },
            "colorscale": [
             [
              0,
              "#0d0887"
             ],
             [
              0.1111111111111111,
              "#46039f"
             ],
             [
              0.2222222222222222,
              "#7201a8"
             ],
             [
              0.3333333333333333,
              "#9c179e"
             ],
             [
              0.4444444444444444,
              "#bd3786"
             ],
             [
              0.5555555555555556,
              "#d8576b"
             ],
             [
              0.6666666666666666,
              "#ed7953"
             ],
             [
              0.7777777777777778,
              "#fb9f3a"
             ],
             [
              0.8888888888888888,
              "#fdca26"
             ],
             [
              1,
              "#f0f921"
             ]
            ],
            "type": "histogram2d"
           }
          ],
          "histogram2dcontour": [
           {
            "colorbar": {
             "outlinewidth": 0,
             "ticks": ""
            },
            "colorscale": [
             [
              0,
              "#0d0887"
             ],
             [
              0.1111111111111111,
              "#46039f"
             ],
             [
              0.2222222222222222,
              "#7201a8"
             ],
             [
              0.3333333333333333,
              "#9c179e"
             ],
             [
              0.4444444444444444,
              "#bd3786"
             ],
             [
              0.5555555555555556,
              "#d8576b"
             ],
             [
              0.6666666666666666,
              "#ed7953"
             ],
             [
              0.7777777777777778,
              "#fb9f3a"
             ],
             [
              0.8888888888888888,
              "#fdca26"
             ],
             [
              1,
              "#f0f921"
             ]
            ],
            "type": "histogram2dcontour"
           }
          ],
          "mesh3d": [
           {
            "colorbar": {
             "outlinewidth": 0,
             "ticks": ""
            },
            "type": "mesh3d"
           }
          ],
          "parcoords": [
           {
            "line": {
             "colorbar": {
              "outlinewidth": 0,
              "ticks": ""
             }
            },
            "type": "parcoords"
           }
          ],
          "pie": [
           {
            "automargin": true,
            "type": "pie"
           }
          ],
          "scatter": [
           {
            "fillpattern": {
             "fillmode": "overlay",
             "size": 10,
             "solidity": 0.2
            },
            "type": "scatter"
           }
          ],
          "scatter3d": [
           {
            "line": {
             "colorbar": {
              "outlinewidth": 0,
              "ticks": ""
             }
            },
            "marker": {
             "colorbar": {
              "outlinewidth": 0,
              "ticks": ""
             }
            },
            "type": "scatter3d"
           }
          ],
          "scattercarpet": [
           {
            "marker": {
             "colorbar": {
              "outlinewidth": 0,
              "ticks": ""
             }
            },
            "type": "scattercarpet"
           }
          ],
          "scattergeo": [
           {
            "marker": {
             "colorbar": {
              "outlinewidth": 0,
              "ticks": ""
             }
            },
            "type": "scattergeo"
           }
          ],
          "scattergl": [
           {
            "marker": {
             "colorbar": {
              "outlinewidth": 0,
              "ticks": ""
             }
            },
            "type": "scattergl"
           }
          ],
          "scattermap": [
           {
            "marker": {
             "colorbar": {
              "outlinewidth": 0,
              "ticks": ""
             }
            },
            "type": "scattermap"
           }
          ],
          "scattermapbox": [
           {
            "marker": {
             "colorbar": {
              "outlinewidth": 0,
              "ticks": ""
             }
            },
            "type": "scattermapbox"
           }
          ],
          "scatterpolar": [
           {
            "marker": {
             "colorbar": {
              "outlinewidth": 0,
              "ticks": ""
             }
            },
            "type": "scatterpolar"
           }
          ],
          "scatterpolargl": [
           {
            "marker": {
             "colorbar": {
              "outlinewidth": 0,
              "ticks": ""
             }
            },
            "type": "scatterpolargl"
           }
          ],
          "scatterternary": [
           {
            "marker": {
             "colorbar": {
              "outlinewidth": 0,
              "ticks": ""
             }
            },
            "type": "scatterternary"
           }
          ],
          "surface": [
           {
            "colorbar": {
             "outlinewidth": 0,
             "ticks": ""
            },
            "colorscale": [
             [
              0,
              "#0d0887"
             ],
             [
              0.1111111111111111,
              "#46039f"
             ],
             [
              0.2222222222222222,
              "#7201a8"
             ],
             [
              0.3333333333333333,
              "#9c179e"
             ],
             [
              0.4444444444444444,
              "#bd3786"
             ],
             [
              0.5555555555555556,
              "#d8576b"
             ],
             [
              0.6666666666666666,
              "#ed7953"
             ],
             [
              0.7777777777777778,
              "#fb9f3a"
             ],
             [
              0.8888888888888888,
              "#fdca26"
             ],
             [
              1,
              "#f0f921"
             ]
            ],
            "type": "surface"
           }
          ],
          "table": [
           {
            "cells": {
             "fill": {
              "color": "#EBF0F8"
             },
             "line": {
              "color": "white"
             }
            },
            "header": {
             "fill": {
              "color": "#C8D4E3"
             },
             "line": {
              "color": "white"
             }
            },
            "type": "table"
           }
          ]
         },
         "layout": {
          "annotationdefaults": {
           "arrowcolor": "#2a3f5f",
           "arrowhead": 0,
           "arrowwidth": 1
          },
          "autotypenumbers": "strict",
          "coloraxis": {
           "colorbar": {
            "outlinewidth": 0,
            "ticks": ""
           }
          },
          "colorscale": {
           "diverging": [
            [
             0,
             "#8e0152"
            ],
            [
             0.1,
             "#c51b7d"
            ],
            [
             0.2,
             "#de77ae"
            ],
            [
             0.3,
             "#f1b6da"
            ],
            [
             0.4,
             "#fde0ef"
            ],
            [
             0.5,
             "#f7f7f7"
            ],
            [
             0.6,
             "#e6f5d0"
            ],
            [
             0.7,
             "#b8e186"
            ],
            [
             0.8,
             "#7fbc41"
            ],
            [
             0.9,
             "#4d9221"
            ],
            [
             1,
             "#276419"
            ]
           ],
           "sequential": [
            [
             0,
             "#0d0887"
            ],
            [
             0.1111111111111111,
             "#46039f"
            ],
            [
             0.2222222222222222,
             "#7201a8"
            ],
            [
             0.3333333333333333,
             "#9c179e"
            ],
            [
             0.4444444444444444,
             "#bd3786"
            ],
            [
             0.5555555555555556,
             "#d8576b"
            ],
            [
             0.6666666666666666,
             "#ed7953"
            ],
            [
             0.7777777777777778,
             "#fb9f3a"
            ],
            [
             0.8888888888888888,
             "#fdca26"
            ],
            [
             1,
             "#f0f921"
            ]
           ],
           "sequentialminus": [
            [
             0,
             "#0d0887"
            ],
            [
             0.1111111111111111,
             "#46039f"
            ],
            [
             0.2222222222222222,
             "#7201a8"
            ],
            [
             0.3333333333333333,
             "#9c179e"
            ],
            [
             0.4444444444444444,
             "#bd3786"
            ],
            [
             0.5555555555555556,
             "#d8576b"
            ],
            [
             0.6666666666666666,
             "#ed7953"
            ],
            [
             0.7777777777777778,
             "#fb9f3a"
            ],
            [
             0.8888888888888888,
             "#fdca26"
            ],
            [
             1,
             "#f0f921"
            ]
           ]
          },
          "colorway": [
           "#636efa",
           "#EF553B",
           "#00cc96",
           "#ab63fa",
           "#FFA15A",
           "#19d3f3",
           "#FF6692",
           "#B6E880",
           "#FF97FF",
           "#FECB52"
          ],
          "font": {
           "color": "#2a3f5f"
          },
          "geo": {
           "bgcolor": "white",
           "lakecolor": "white",
           "landcolor": "#E5ECF6",
           "showlakes": true,
           "showland": true,
           "subunitcolor": "white"
          },
          "hoverlabel": {
           "align": "left"
          },
          "hovermode": "closest",
          "mapbox": {
           "style": "light"
          },
          "paper_bgcolor": "white",
          "plot_bgcolor": "#E5ECF6",
          "polar": {
           "angularaxis": {
            "gridcolor": "white",
            "linecolor": "white",
            "ticks": ""
           },
           "bgcolor": "#E5ECF6",
           "radialaxis": {
            "gridcolor": "white",
            "linecolor": "white",
            "ticks": ""
           }
          },
          "scene": {
           "xaxis": {
            "backgroundcolor": "#E5ECF6",
            "gridcolor": "white",
            "gridwidth": 2,
            "linecolor": "white",
            "showbackground": true,
            "ticks": "",
            "zerolinecolor": "white"
           },
           "yaxis": {
            "backgroundcolor": "#E5ECF6",
            "gridcolor": "white",
            "gridwidth": 2,
            "linecolor": "white",
            "showbackground": true,
            "ticks": "",
            "zerolinecolor": "white"
           },
           "zaxis": {
            "backgroundcolor": "#E5ECF6",
            "gridcolor": "white",
            "gridwidth": 2,
            "linecolor": "white",
            "showbackground": true,
            "ticks": "",
            "zerolinecolor": "white"
           }
          },
          "shapedefaults": {
           "line": {
            "color": "#2a3f5f"
           }
          },
          "ternary": {
           "aaxis": {
            "gridcolor": "white",
            "linecolor": "white",
            "ticks": ""
           },
           "baxis": {
            "gridcolor": "white",
            "linecolor": "white",
            "ticks": ""
           },
           "bgcolor": "#E5ECF6",
           "caxis": {
            "gridcolor": "white",
            "linecolor": "white",
            "ticks": ""
           }
          },
          "title": {
           "x": 0.05
          },
          "xaxis": {
           "automargin": true,
           "gridcolor": "white",
           "linecolor": "white",
           "ticks": "",
           "title": {
            "standoff": 15
           },
           "zerolinecolor": "white",
           "zerolinewidth": 2
          },
          "yaxis": {
           "automargin": true,
           "gridcolor": "white",
           "linecolor": "white",
           "ticks": "",
           "title": {
            "standoff": 15
           },
           "zerolinecolor": "white",
           "zerolinewidth": 2
          }
         }
        },
        "title": {
         "text": "Path patching results "
        },
        "width": 800,
        "xaxis": {
         "anchor": "y",
         "constrain": "domain",
         "domain": [
          0,
          1
         ],
         "scaleanchor": "y",
         "title": {
          "text": "Layer"
         }
        },
        "yaxis": {
         "anchor": "x",
         "autorange": "reversed",
         "constrain": "domain",
         "domain": [
          0,
          1
         ],
         "title": {
          "text": "Head"
         }
        }
       }
      }
     },
     "metadata": {},
     "output_type": "display_data"
    }
   ],
   "source": [
    "results_h29_16_v = analyze_path_to_head([(29, 16)], \"v\", model, processed_data, begin_layer=0, batch_size=4)"
   ]
  }
 ],
 "metadata": {
  "kernelspec": {
   "display_name": "fi4",
   "language": "python",
   "name": "python3"
  },
  "language_info": {
   "codemirror_mode": {
    "name": "ipython",
    "version": 3
   },
   "file_extension": ".py",
   "mimetype": "text/x-python",
   "name": "python",
   "nbconvert_exporter": "python",
   "pygments_lexer": "ipython3",
   "version": "3.9.20"
  }
 },
 "nbformat": 4,
 "nbformat_minor": 2
}
