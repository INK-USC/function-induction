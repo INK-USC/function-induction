{
 "cells": [
  {
   "cell_type": "markdown",
   "metadata": {},
   "source": [
    "### Visualizing Path Patching Results\n",
    "\n",
    "Visualize the results produced by mistral_7b_offline.py"
   ]
  },
  {
   "cell_type": "code",
   "execution_count": 1,
   "metadata": {},
   "outputs": [
    {
     "name": "stdout",
     "output_type": "stream",
     "text": [
      "/home/qinyuan/function-induction\n"
     ]
    }
   ],
   "source": [
    "import os\n",
    "import sys\n",
    "\n",
    "# to import functions from `patching_utils.py` and `plotly_utils.py`,\n",
    "# we need to add the repository directory to the system path.\n",
    "current_dir = os.path.dirname(os.getcwd())\n",
    "print(current_dir)\n",
    "if current_dir not in sys.path:\n",
    "    sys.path.append(current_dir)"
   ]
  },
  {
   "cell_type": "code",
   "execution_count": 2,
   "metadata": {},
   "outputs": [],
   "source": [
    "import torch as t\n",
    "t.set_grad_enabled(False)\n",
    "from plotly_utils import imshow"
   ]
  },
  {
   "cell_type": "code",
   "execution_count": 3,
   "metadata": {},
   "outputs": [],
   "source": [
    "def visualize_heatmap(results, info=\"\"):\n",
    "    imshow(\n",
    "        100 * results.t(),\n",
    "        title=\"Path patching results {}\".format(info),\n",
    "        labels={\"x\":\"Layer\", \"y\":\"Head\", \"color\": \"Logit diff. variation\"},\n",
    "        coloraxis=dict(colorbar_ticksuffix = \"%\"),\n",
    "        width=500,\n",
    "        height=400,\n",
    "    )"
   ]
  },
  {
   "cell_type": "code",
   "execution_count": 4,
   "metadata": {},
   "outputs": [
    {
     "data": {
      "application/vnd.plotly.v1+json": {
       "config": {
        "plotlyServerURL": "https://plot.ly",
        "staticPlot": false
       },
       "data": [
        {
         "coloraxis": "coloraxis",
         "hovertemplate": "Layer: %{x}<br>Head: %{y}<br>Logit diff. variation: %{z}<extra></extra>",
         "name": "0",
         "type": "heatmap",
         "xaxis": "x",
         "yaxis": "y",
         "z": {
          "bdata": "HHEIODxo/rgd/8u7WdPBOmG1Sjqm5fw63Lh4ur/uRzsnyEC7m10OvFwZirylcM07UftAO4GrObzKXSw9G+5wvTD8972R3ZY7UULxPevuxjr4OCU6Qu9EukBGO7szDMK67pMlOcxxhLomFoi6S/GXus8tjT175DC8Fob+PHFSrj+dqDG4fMzpOJQtBLjFPLA5oS4fOIshKTmI20O8pHT4umrMBjwGZJK7x00oPN5777nybFK8ycehPJMLMz1jROe6CqYGPLjrY77RbpK+cNavunjSiLwOWwS6N0nsOvKGhTzTTTC7aBOYuYhIcLqqBqC83BYlO9aZ5rmqvZu/6b8JwCbsNThkjSo3MWg8umfpRbp40iU7aYJquaqu0DszX407cdwMOytzmTyAqiY7PfUAu7svpTyGV988RIJSvEeVcLyauzw+kQxEPSQkWL6ye3A7OCoHPP8zfLwf/O27nJjMOyM9TzpKrH+7dHsOuWqXGTwD33G8FXCOOtIAIMDo4AdAU3V0N6PxlTie6Lk7IDx2uccUkDn0sje6hdgKPGk0abx+eSo88rqZvIb4jrtTKQa9ZktXPHjszDy0NF88W3tyO75oXL3xkXe9uF8aPmHppLsz/W+8qMfkupd0trmSLKs6FdT/OI7knziHWFU7sN1Huh+j0bi8MFW4WEe1wE6FVT7yGRM5xTwwOCQ+qDlfRR86/InfOlPYJLsukFy6KZYYO24ELTwoyRm8SwuFOxY9jTm5wBq+4R1RPVmJTj3TkpC+v8/zPI+iTL09aIo76x0dvAn+D7w2aF07hpXeO2Y7uDqaMD+94Wg4ubtJr7zuadO56FSPvBuaAboQ3+7BaWbRPibstbcm7LU1Z7/zuYXYxDnB4BS8QDZWvLu37rtK0c06AjxFPLLjhzzWapy74AcbveGSijiSmrC7ueFbvZm/Hz3GiSA9RNXCvgOWujpz+J+89gj2O6SUiLzI8Jq8/Rj8Ofvtob0CHAc6RGokPsv4HbzZM+S6dGLuu2Ycqj07Jbi/LviQNxDfv7gUO1u5yJhLOp1qT7qYIsS4+9IiO7O1p7kj1aY7PkmZu7XL3Tsor6w8IgPevM1oDz1erce+E8K6PFTmPL2B9HC9nE6CPL01WTvgIXy91BCmvmHUu7wMMNk6tmGRvijEFbtNih+98jOAO1SAGzwF8fy8ERLDPh7yjD0wZ+O4cKJVumSYizpjeMG5eqoFO+o2Mbzuk6W4BMbdu5gnyDtJARg9/L4SuqfFeDymbgy+8v4SvDvukLw+ASC+byOevDMWIj/A9yG900isuwAmSTwJ6E6+sE+EuhjrmrlAPp29enEnOvZBGjxhi/g6jc82ul0adDq6I5g/kejOvPvRybfziOW4OgxjOTJUrDkLy466oS4fOFeChzoL1VA8XY2JunpHVbqcWZ07R6+GvdRJBbzI4Y66MxuUPD1Qhz2bwBm/bqH8uTCclr3kJLq+jmhbO7DsU7xo+So7XhBsO5WnN7x7Kb26jrumup2oMbup0Ww64Cn9uQY438B3w5i9aBMYuPeFEztQWJS5ULL9ukEYvjlo3726WfIyu1Kjcbus6Zo84YIlvOEFlLto71w8rVhtPNbtp7zukyU7zPMZPgw0rTwrBTG8+NhxPa16iz6d3Vi8m5s5vv5MHDz2YEU6KtqRPNbSRDvA+f+88niLvbm6TDuHmzu7+pPnuumNtz+7wQK3OHM+uN/PkzcccQi3YcozOUv36Dt5ijs7KwtIupV3lDsATwi7M1WFuu+W+b3wF+G5bLTcvOzYA77gSoK92fy1vQVp7Tx22B29eloov4i7hbr0JcG7PGj+OE6ANDkETfe6u8GCN+6TpbqrDPE7DPGMvBnhTLxMqMXA8qV0wBxxCDfyxe438sXuNgSMsjlqP0q8WPthOeT4LTsRCRI5NYsFvPypqTlz47a7BoiHvGjAzDvj/xs9unh5PDUtn7wkbXK9INyvOycQjz3HGZS8tDOvvBhbxD1iTSK8Ga04urbHsjsOahC73pomPOym3LkxTk87af9BPL79GTzx6L+/At4kN9577ziTAzI5JywEvGLfHLqnQyk7EOmqPIpul7tvy846nAUFO7rKsbu4BwE8Z3vAuxxi8DsiHt46pS07vlkRJDytdyQ9CsWxO1SVPrzmcuE7k9nfuRtRvjtk/Hy5ll9NuiZUhzzQUI47xZ8aPNZa1Dy8C5M7q5wcvmy+qrxbgc839dwJuNo0vTkfo9G4KYEvu8bV1LlOqoa5aCj1O0Y2d7tt/YI75ofKuh27GDz46ZA8R4eePcoIWr2nPUy876N+PTHRvbvACY66P6OOu9/PEzigKF89cAACu7n+izgV83C788CTvGrMBrvA6py7Mw4PvsI6irzaQ8k7BAiVPRjrGrlkjaq320mmuPAX4TkAOp+7VhSCu6KSHDw8gZ47SxBDPEznj7uYvka8sGQZvnRMmz2Peo29kFXAPYOnjryKNZy8eHlDvIsMwLlhi/g6iPGEvQxEabtRBQ+8l0rkORNPa7puCTE6d2pxOxp53ruYt98+x5I0PIiPjz1DD4+96ErBtm0I2LbXXN25h5u7OHMiLDxo1TU6eaSoOndUgTx/7Yy7Q+A4PKwtlDsptWA90OIIu21RG7y8smq8Xq3HPEmh5LwwsCY7X8N9vMl+pLxXvvS9ltsRujHGIryp+746iV6yOXrPxzsccYg4m2gpvJgN2zrDMLy8NJ+VPEBWvTxxedy5lC0EuAWxALv2N0w6DY4Fu5PacrxExks61ADCuLKL1bl/F9M76RtruyMzR7tyj547xSVAvcwjID1fiEC+9tE4vhGZBb7sXvK61hwbvN20TbxI5JA7syR6NpWcVjiKqEI8OjRLvWlW1z11/0k67ASJu9dr6TvM3lw/x/oiPM6i9DlK+sa3pyNfuLMk+ra9eRi7gJC5uiWt+jmGiok7uBKcurlXqLvp8vG70sIjPTh5VbxZP4W96VQ7PulW7zxpzia/LAsOPfTEwL2hwxY9cMxhvQz/hr6ltIy4aoPDOp1kcrsvuq67qvGhv8mzEbva26A7ERTnO0vW7r+ol948kBZpN2SNqjaxyF65Z/6uupVZcLtebhg5/y4+OulAubrFJ0c6K5i+u5d0tjmDwTU8HoL0vOUjTbydVhK+jJk3vgHnU7wX4Lk8b/okPSJcejx37JK5QgNVumxwjLrog7y84PCqO33zPj1cy4S/VqsAOyMZWrvVBlm86ZeSwIzjRjr5TQ468VYcOFkRJDr3nwA5TWtLOuIWxrlgMQ+78Xbau+pBEjtB7ms5fxGCu0UVibyfQRw81tN0PVRtdL6XNaS9dtESvEbt+Tz9ViS9CyJBvUopnTtIbMs+V9y2PN0MnThQJLo7aLXrOixq+j1agHa6elK2OmY7OLsLH+G9Ie3huzBn47aqqcy2SvrGtx/2nLpiYn86+iQVOk/g+jvukkw7BFjYut6QWDqBfCm6TtQSPGNPyDofRIE8hvhIvbaWGz2+UJ87F3ebvFN/CDyMKHC9+tFmvWR5GjunTbE6f7kyOUXCIDsDge48/xnVOpzwmzw5Tw88kiJdPF3sZz68XOg+ZI2qtur4TrpCkK68dEKwu2LfnDnwS7u6ijU5upoz9juDjVu8RzdQO1hulLzYTIQ7Kl26OUSIabpzuve995+AODIYF70mG4y7GW/WulZI7bztDVc9ECs6PSqRlLtEAAO7viemum+xYb2Mxj+9N5IvvP1as72Hq4M8Ho/VPiFBFD5OgDS4fMzpOAiflrxAmQY7pYo6u78dHjqIfMo61OHQuo2QezmeWmo7YlNzvOF7Gj0AScg8a0KNvX7CJzzHl3K7fV4qvHWHdjzfU8+6Yt+cOzYHFD4IUAI6aKvju3X06DpAVce5zEj/O1llAj1i2pi7eCtCvPbN8Ts47g6+G6O4vt/Pk7cfo1G5aaHbuplrBzvaXo85q+iHOV1ExriMNpK64dvBOwIs4DvkxNM6FBJivIgMBL1XVku95uUTvdPqfzo3h5S8F8HIOozup7rBRMy8oPxLvYebO7cv8ww8SGEiOdQ+JLpXTsq8q8kWPE6/KbyxIQc8R7TEPB8dST1mIZE8op1xuBXU/zf2S1y4s7UnuI9T8jjZm5i6BOSBPIWFebrAM9Q73SGGOgrFsTvHCWm8nJJvvZGz4Tz/JLa67lTqua6cj72OKts9/kwcvEJAYL3W5627ezPFukIYeLxNRv28dsFnumVaqTqJc5u5NCyMOVymHTvN5Vo7fo8BvyeJyz0m18w5JhYIuSFmyDgTwgC7fiCOOMFTnjsXQyS8XlqIOk6R5juTytO7tH2iO1jSaDqr9xM7uj6xvEAPR71KeXa/bSN1vdyP4j1svo29QbEJvYbOPLwXq5I7sLP1OeiD2Ty56SK60lHbvZgiRDhkJXa6o2rwOmS8ALxDgB8+Pb4pveoNODm1eJ44CpZbOX50pjsSojY7++eLOj68ojhKWUC81I1yPKG2kbuDTqy7trimO3h8Bj3/xZ883dewPaHC271zMku9OGgkvurDp7uSF0I8nrMSO9fDuLgvr826WCW0uWyEnDk3IHM6aBMYOJWxvzpRx+a51SHZO19cOz9r/OO9zwuCOMpG2blTdXQ5e3yIuogf97nH/6a46MLOO5EM4bou9RM96JM+PHqLFDy9Evc8yJhLOgLrDD0S++88KAPFu0vPDL2P5v+8wdsQO9efw7sNvbK8Afc4u1LxuDlacJ27MmXeO859bDySYIU79jfMusG2QjjJIx69l4FKv/LUBrwu+BA4O2CHuRxHtjn7+5u5q396OS1Kgzm3/TK6n0FWOXqQGLwIydy68xX5PKVB9zr30xS8CtWWPCKlvbx62Nq9XzvRPBPo8ryCFDu8syR6OuMGGb599ju5jtqXOvnqI7zS/2i6RZ6rOUV+YTzXIrK8H0QePO5JsrxyFGQ/etLSPqEuHzaXiR85ZI0qOA2YjTmrr6k7iZwUun5697qVxqg5RAWHuthmZbs925O8biiiu542Hr0m7LW4lzD3Oxy4Vb3pOzW7wEi9O2hd4jw7CDg78hidvC978zqbOba8d8wOvLyOgTunI1+6cvpgvQr5C7uEzWO7A7UrOtoH7j37Msu97pMlOYMqt7mws/W5zbfdt9UqFDloCt07XXigOkFRnDtbbGY67byBvNDYOj2oJDi6Vyq4u3TVdzr1MIU8uqE4O9x0xTzHy8y7LhUJPiWdIbx2U2K9Ar9tvBK8ozvtZaa9M4pmvc/2GLti/o26HgqtudTggzwONnC8iZSbvl+ner8Y65q5r0Sjue5pUzlbgc+5UgaiuCzx2rvssT07HHEIuIWKfTsvm726vcl5PFLNfTzjJis7RpmnuzsFIr9+S+c8DTonvFbqkr5HL0+9kBbpOJx23r3IvAa8UeEZvPPwmTvS/+i6pPzqO3YpHDupzw49REQ2vFUuY7s1sms9dbGOPA==",
          "dtype": "f4",
          "shape": "32, 32"
         }
        }
       ],
       "layout": {
        "coloraxis": {
         "cmid": 0,
         "colorbar": {
          "ticksuffix": "%",
          "title": {
           "text": "Logit diff. variation"
          }
         },
         "colorscale": [
          [
           0,
           "rgb(103,0,31)"
          ],
          [
           0.1,
           "rgb(178,24,43)"
          ],
          [
           0.2,
           "rgb(214,96,77)"
          ],
          [
           0.3,
           "rgb(244,165,130)"
          ],
          [
           0.4,
           "rgb(253,219,199)"
          ],
          [
           0.5,
           "rgb(247,247,247)"
          ],
          [
           0.6,
           "rgb(209,229,240)"
          ],
          [
           0.7,
           "rgb(146,197,222)"
          ],
          [
           0.8,
           "rgb(67,147,195)"
          ],
          [
           0.9,
           "rgb(33,102,172)"
          ],
          [
           1,
           "rgb(5,48,97)"
          ]
         ]
        },
        "height": 400,
        "template": {
         "data": {
          "bar": [
           {
            "error_x": {
             "color": "#2a3f5f"
            },
            "error_y": {
             "color": "#2a3f5f"
            },
            "marker": {
             "line": {
              "color": "#E5ECF6",
              "width": 0.5
             },
             "pattern": {
              "fillmode": "overlay",
              "size": 10,
              "solidity": 0.2
             }
            },
            "type": "bar"
           }
          ],
          "barpolar": [
           {
            "marker": {
             "line": {
              "color": "#E5ECF6",
              "width": 0.5
             },
             "pattern": {
              "fillmode": "overlay",
              "size": 10,
              "solidity": 0.2
             }
            },
            "type": "barpolar"
           }
          ],
          "carpet": [
           {
            "aaxis": {
             "endlinecolor": "#2a3f5f",
             "gridcolor": "white",
             "linecolor": "white",
             "minorgridcolor": "white",
             "startlinecolor": "#2a3f5f"
            },
            "baxis": {
             "endlinecolor": "#2a3f5f",
             "gridcolor": "white",
             "linecolor": "white",
             "minorgridcolor": "white",
             "startlinecolor": "#2a3f5f"
            },
            "type": "carpet"
           }
          ],
          "choropleth": [
           {
            "colorbar": {
             "outlinewidth": 0,
             "ticks": ""
            },
            "type": "choropleth"
           }
          ],
          "contour": [
           {
            "colorbar": {
             "outlinewidth": 0,
             "ticks": ""
            },
            "colorscale": [
             [
              0,
              "#0d0887"
             ],
             [
              0.1111111111111111,
              "#46039f"
             ],
             [
              0.2222222222222222,
              "#7201a8"
             ],
             [
              0.3333333333333333,
              "#9c179e"
             ],
             [
              0.4444444444444444,
              "#bd3786"
             ],
             [
              0.5555555555555556,
              "#d8576b"
             ],
             [
              0.6666666666666666,
              "#ed7953"
             ],
             [
              0.7777777777777778,
              "#fb9f3a"
             ],
             [
              0.8888888888888888,
              "#fdca26"
             ],
             [
              1,
              "#f0f921"
             ]
            ],
            "type": "contour"
           }
          ],
          "contourcarpet": [
           {
            "colorbar": {
             "outlinewidth": 0,
             "ticks": ""
            },
            "type": "contourcarpet"
           }
          ],
          "heatmap": [
           {
            "colorbar": {
             "outlinewidth": 0,
             "ticks": ""
            },
            "colorscale": [
             [
              0,
              "#0d0887"
             ],
             [
              0.1111111111111111,
              "#46039f"
             ],
             [
              0.2222222222222222,
              "#7201a8"
             ],
             [
              0.3333333333333333,
              "#9c179e"
             ],
             [
              0.4444444444444444,
              "#bd3786"
             ],
             [
              0.5555555555555556,
              "#d8576b"
             ],
             [
              0.6666666666666666,
              "#ed7953"
             ],
             [
              0.7777777777777778,
              "#fb9f3a"
             ],
             [
              0.8888888888888888,
              "#fdca26"
             ],
             [
              1,
              "#f0f921"
             ]
            ],
            "type": "heatmap"
           }
          ],
          "histogram": [
           {
            "marker": {
             "pattern": {
              "fillmode": "overlay",
              "size": 10,
              "solidity": 0.2
             }
            },
            "type": "histogram"
           }
          ],
          "histogram2d": [
           {
            "colorbar": {
             "outlinewidth": 0,
             "ticks": ""
            },
            "colorscale": [
             [
              0,
              "#0d0887"
             ],
             [
              0.1111111111111111,
              "#46039f"
             ],
             [
              0.2222222222222222,
              "#7201a8"
             ],
             [
              0.3333333333333333,
              "#9c179e"
             ],
             [
              0.4444444444444444,
              "#bd3786"
             ],
             [
              0.5555555555555556,
              "#d8576b"
             ],
             [
              0.6666666666666666,
              "#ed7953"
             ],
             [
              0.7777777777777778,
              "#fb9f3a"
             ],
             [
              0.8888888888888888,
              "#fdca26"
             ],
             [
              1,
              "#f0f921"
             ]
            ],
            "type": "histogram2d"
           }
          ],
          "histogram2dcontour": [
           {
            "colorbar": {
             "outlinewidth": 0,
             "ticks": ""
            },
            "colorscale": [
             [
              0,
              "#0d0887"
             ],
             [
              0.1111111111111111,
              "#46039f"
             ],
             [
              0.2222222222222222,
              "#7201a8"
             ],
             [
              0.3333333333333333,
              "#9c179e"
             ],
             [
              0.4444444444444444,
              "#bd3786"
             ],
             [
              0.5555555555555556,
              "#d8576b"
             ],
             [
              0.6666666666666666,
              "#ed7953"
             ],
             [
              0.7777777777777778,
              "#fb9f3a"
             ],
             [
              0.8888888888888888,
              "#fdca26"
             ],
             [
              1,
              "#f0f921"
             ]
            ],
            "type": "histogram2dcontour"
           }
          ],
          "mesh3d": [
           {
            "colorbar": {
             "outlinewidth": 0,
             "ticks": ""
            },
            "type": "mesh3d"
           }
          ],
          "parcoords": [
           {
            "line": {
             "colorbar": {
              "outlinewidth": 0,
              "ticks": ""
             }
            },
            "type": "parcoords"
           }
          ],
          "pie": [
           {
            "automargin": true,
            "type": "pie"
           }
          ],
          "scatter": [
           {
            "fillpattern": {
             "fillmode": "overlay",
             "size": 10,
             "solidity": 0.2
            },
            "type": "scatter"
           }
          ],
          "scatter3d": [
           {
            "line": {
             "colorbar": {
              "outlinewidth": 0,
              "ticks": ""
             }
            },
            "marker": {
             "colorbar": {
              "outlinewidth": 0,
              "ticks": ""
             }
            },
            "type": "scatter3d"
           }
          ],
          "scattercarpet": [
           {
            "marker": {
             "colorbar": {
              "outlinewidth": 0,
              "ticks": ""
             }
            },
            "type": "scattercarpet"
           }
          ],
          "scattergeo": [
           {
            "marker": {
             "colorbar": {
              "outlinewidth": 0,
              "ticks": ""
             }
            },
            "type": "scattergeo"
           }
          ],
          "scattergl": [
           {
            "marker": {
             "colorbar": {
              "outlinewidth": 0,
              "ticks": ""
             }
            },
            "type": "scattergl"
           }
          ],
          "scattermap": [
           {
            "marker": {
             "colorbar": {
              "outlinewidth": 0,
              "ticks": ""
             }
            },
            "type": "scattermap"
           }
          ],
          "scattermapbox": [
           {
            "marker": {
             "colorbar": {
              "outlinewidth": 0,
              "ticks": ""
             }
            },
            "type": "scattermapbox"
           }
          ],
          "scatterpolar": [
           {
            "marker": {
             "colorbar": {
              "outlinewidth": 0,
              "ticks": ""
             }
            },
            "type": "scatterpolar"
           }
          ],
          "scatterpolargl": [
           {
            "marker": {
             "colorbar": {
              "outlinewidth": 0,
              "ticks": ""
             }
            },
            "type": "scatterpolargl"
           }
          ],
          "scatterternary": [
           {
            "marker": {
             "colorbar": {
              "outlinewidth": 0,
              "ticks": ""
             }
            },
            "type": "scatterternary"
           }
          ],
          "surface": [
           {
            "colorbar": {
             "outlinewidth": 0,
             "ticks": ""
            },
            "colorscale": [
             [
              0,
              "#0d0887"
             ],
             [
              0.1111111111111111,
              "#46039f"
             ],
             [
              0.2222222222222222,
              "#7201a8"
             ],
             [
              0.3333333333333333,
              "#9c179e"
             ],
             [
              0.4444444444444444,
              "#bd3786"
             ],
             [
              0.5555555555555556,
              "#d8576b"
             ],
             [
              0.6666666666666666,
              "#ed7953"
             ],
             [
              0.7777777777777778,
              "#fb9f3a"
             ],
             [
              0.8888888888888888,
              "#fdca26"
             ],
             [
              1,
              "#f0f921"
             ]
            ],
            "type": "surface"
           }
          ],
          "table": [
           {
            "cells": {
             "fill": {
              "color": "#EBF0F8"
             },
             "line": {
              "color": "white"
             }
            },
            "header": {
             "fill": {
              "color": "#C8D4E3"
             },
             "line": {
              "color": "white"
             }
            },
            "type": "table"
           }
          ]
         },
         "layout": {
          "annotationdefaults": {
           "arrowcolor": "#2a3f5f",
           "arrowhead": 0,
           "arrowwidth": 1
          },
          "autotypenumbers": "strict",
          "coloraxis": {
           "colorbar": {
            "outlinewidth": 0,
            "ticks": ""
           }
          },
          "colorscale": {
           "diverging": [
            [
             0,
             "#8e0152"
            ],
            [
             0.1,
             "#c51b7d"
            ],
            [
             0.2,
             "#de77ae"
            ],
            [
             0.3,
             "#f1b6da"
            ],
            [
             0.4,
             "#fde0ef"
            ],
            [
             0.5,
             "#f7f7f7"
            ],
            [
             0.6,
             "#e6f5d0"
            ],
            [
             0.7,
             "#b8e186"
            ],
            [
             0.8,
             "#7fbc41"
            ],
            [
             0.9,
             "#4d9221"
            ],
            [
             1,
             "#276419"
            ]
           ],
           "sequential": [
            [
             0,
             "#0d0887"
            ],
            [
             0.1111111111111111,
             "#46039f"
            ],
            [
             0.2222222222222222,
             "#7201a8"
            ],
            [
             0.3333333333333333,
             "#9c179e"
            ],
            [
             0.4444444444444444,
             "#bd3786"
            ],
            [
             0.5555555555555556,
             "#d8576b"
            ],
            [
             0.6666666666666666,
             "#ed7953"
            ],
            [
             0.7777777777777778,
             "#fb9f3a"
            ],
            [
             0.8888888888888888,
             "#fdca26"
            ],
            [
             1,
             "#f0f921"
            ]
           ],
           "sequentialminus": [
            [
             0,
             "#0d0887"
            ],
            [
             0.1111111111111111,
             "#46039f"
            ],
            [
             0.2222222222222222,
             "#7201a8"
            ],
            [
             0.3333333333333333,
             "#9c179e"
            ],
            [
             0.4444444444444444,
             "#bd3786"
            ],
            [
             0.5555555555555556,
             "#d8576b"
            ],
            [
             0.6666666666666666,
             "#ed7953"
            ],
            [
             0.7777777777777778,
             "#fb9f3a"
            ],
            [
             0.8888888888888888,
             "#fdca26"
            ],
            [
             1,
             "#f0f921"
            ]
           ]
          },
          "colorway": [
           "#636efa",
           "#EF553B",
           "#00cc96",
           "#ab63fa",
           "#FFA15A",
           "#19d3f3",
           "#FF6692",
           "#B6E880",
           "#FF97FF",
           "#FECB52"
          ],
          "font": {
           "color": "#2a3f5f"
          },
          "geo": {
           "bgcolor": "white",
           "lakecolor": "white",
           "landcolor": "#E5ECF6",
           "showlakes": true,
           "showland": true,
           "subunitcolor": "white"
          },
          "hoverlabel": {
           "align": "left"
          },
          "hovermode": "closest",
          "mapbox": {
           "style": "light"
          },
          "paper_bgcolor": "white",
          "plot_bgcolor": "#E5ECF6",
          "polar": {
           "angularaxis": {
            "gridcolor": "white",
            "linecolor": "white",
            "ticks": ""
           },
           "bgcolor": "#E5ECF6",
           "radialaxis": {
            "gridcolor": "white",
            "linecolor": "white",
            "ticks": ""
           }
          },
          "scene": {
           "xaxis": {
            "backgroundcolor": "#E5ECF6",
            "gridcolor": "white",
            "gridwidth": 2,
            "linecolor": "white",
            "showbackground": true,
            "ticks": "",
            "zerolinecolor": "white"
           },
           "yaxis": {
            "backgroundcolor": "#E5ECF6",
            "gridcolor": "white",
            "gridwidth": 2,
            "linecolor": "white",
            "showbackground": true,
            "ticks": "",
            "zerolinecolor": "white"
           },
           "zaxis": {
            "backgroundcolor": "#E5ECF6",
            "gridcolor": "white",
            "gridwidth": 2,
            "linecolor": "white",
            "showbackground": true,
            "ticks": "",
            "zerolinecolor": "white"
           }
          },
          "shapedefaults": {
           "line": {
            "color": "#2a3f5f"
           }
          },
          "ternary": {
           "aaxis": {
            "gridcolor": "white",
            "linecolor": "white",
            "ticks": ""
           },
           "baxis": {
            "gridcolor": "white",
            "linecolor": "white",
            "ticks": ""
           },
           "bgcolor": "#E5ECF6",
           "caxis": {
            "gridcolor": "white",
            "linecolor": "white",
            "ticks": ""
           }
          },
          "title": {
           "x": 0.05
          },
          "xaxis": {
           "automargin": true,
           "gridcolor": "white",
           "linecolor": "white",
           "ticks": "",
           "title": {
            "standoff": 15
           },
           "zerolinecolor": "white",
           "zerolinewidth": 2
          },
          "yaxis": {
           "automargin": true,
           "gridcolor": "white",
           "linecolor": "white",
           "ticks": "",
           "title": {
            "standoff": 15
           },
           "zerolinecolor": "white",
           "zerolinewidth": 2
          }
         }
        },
        "title": {
         "text": "Path patching results "
        },
        "width": 500,
        "xaxis": {
         "anchor": "y",
         "constrain": "domain",
         "domain": [
          0,
          1
         ],
         "scaleanchor": "y",
         "title": {
          "text": "Layer"
         }
        },
        "yaxis": {
         "anchor": "x",
         "autorange": "reversed",
         "constrain": "domain",
         "domain": [
          0,
          1
         ],
         "title": {
          "text": "Head"
         }
        }
       }
      }
     },
     "metadata": {},
     "output_type": "display_data"
    }
   ],
   "source": [
    "filename = \"./results/mistral_7b/resid_post_31.pt\"\n",
    "results_resid_post_31 = t.load(filename)\n",
    "visualize_heatmap(results_resid_post_31)"
   ]
  },
  {
   "cell_type": "code",
   "execution_count": 5,
   "metadata": {},
   "outputs": [
    {
     "data": {
      "application/vnd.plotly.v1+json": {
       "config": {
        "plotlyServerURL": "https://plot.ly",
        "staticPlot": false
       },
       "data": [
        {
         "coloraxis": "coloraxis",
         "hovertemplate": "Layer: %{x}<br>Head: %{y}<br>Logit diff. variation: %{z}<extra></extra>",
         "name": "0",
         "type": "heatmap",
         "xaxis": "x",
         "yaxis": "y",
         "z": {
          "bdata": "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",
          "dtype": "f4",
          "shape": "32, 32"
         }
        }
       ],
       "layout": {
        "coloraxis": {
         "cmid": 0,
         "colorbar": {
          "ticksuffix": "%",
          "title": {
           "text": "Logit diff. variation"
          }
         },
         "colorscale": [
          [
           0,
           "rgb(103,0,31)"
          ],
          [
           0.1,
           "rgb(178,24,43)"
          ],
          [
           0.2,
           "rgb(214,96,77)"
          ],
          [
           0.3,
           "rgb(244,165,130)"
          ],
          [
           0.4,
           "rgb(253,219,199)"
          ],
          [
           0.5,
           "rgb(247,247,247)"
          ],
          [
           0.6,
           "rgb(209,229,240)"
          ],
          [
           0.7,
           "rgb(146,197,222)"
          ],
          [
           0.8,
           "rgb(67,147,195)"
          ],
          [
           0.9,
           "rgb(33,102,172)"
          ],
          [
           1,
           "rgb(5,48,97)"
          ]
         ]
        },
        "height": 400,
        "template": {
         "data": {
          "bar": [
           {
            "error_x": {
             "color": "#2a3f5f"
            },
            "error_y": {
             "color": "#2a3f5f"
            },
            "marker": {
             "line": {
              "color": "#E5ECF6",
              "width": 0.5
             },
             "pattern": {
              "fillmode": "overlay",
              "size": 10,
              "solidity": 0.2
             }
            },
            "type": "bar"
           }
          ],
          "barpolar": [
           {
            "marker": {
             "line": {
              "color": "#E5ECF6",
              "width": 0.5
             },
             "pattern": {
              "fillmode": "overlay",
              "size": 10,
              "solidity": 0.2
             }
            },
            "type": "barpolar"
           }
          ],
          "carpet": [
           {
            "aaxis": {
             "endlinecolor": "#2a3f5f",
             "gridcolor": "white",
             "linecolor": "white",
             "minorgridcolor": "white",
             "startlinecolor": "#2a3f5f"
            },
            "baxis": {
             "endlinecolor": "#2a3f5f",
             "gridcolor": "white",
             "linecolor": "white",
             "minorgridcolor": "white",
             "startlinecolor": "#2a3f5f"
            },
            "type": "carpet"
           }
          ],
          "choropleth": [
           {
            "colorbar": {
             "outlinewidth": 0,
             "ticks": ""
            },
            "type": "choropleth"
           }
          ],
          "contour": [
           {
            "colorbar": {
             "outlinewidth": 0,
             "ticks": ""
            },
            "colorscale": [
             [
              0,
              "#0d0887"
             ],
             [
              0.1111111111111111,
              "#46039f"
             ],
             [
              0.2222222222222222,
              "#7201a8"
             ],
             [
              0.3333333333333333,
              "#9c179e"
             ],
             [
              0.4444444444444444,
              "#bd3786"
             ],
             [
              0.5555555555555556,
              "#d8576b"
             ],
             [
              0.6666666666666666,
              "#ed7953"
             ],
             [
              0.7777777777777778,
              "#fb9f3a"
             ],
             [
              0.8888888888888888,
              "#fdca26"
             ],
             [
              1,
              "#f0f921"
             ]
            ],
            "type": "contour"
           }
          ],
          "contourcarpet": [
           {
            "colorbar": {
             "outlinewidth": 0,
             "ticks": ""
            },
            "type": "contourcarpet"
           }
          ],
          "heatmap": [
           {
            "colorbar": {
             "outlinewidth": 0,
             "ticks": ""
            },
            "colorscale": [
             [
              0,
              "#0d0887"
             ],
             [
              0.1111111111111111,
              "#46039f"
             ],
             [
              0.2222222222222222,
              "#7201a8"
             ],
             [
              0.3333333333333333,
              "#9c179e"
             ],
             [
              0.4444444444444444,
              "#bd3786"
             ],
             [
              0.5555555555555556,
              "#d8576b"
             ],
             [
              0.6666666666666666,
              "#ed7953"
             ],
             [
              0.7777777777777778,
              "#fb9f3a"
             ],
             [
              0.8888888888888888,
              "#fdca26"
             ],
             [
              1,
              "#f0f921"
             ]
            ],
            "type": "heatmap"
           }
          ],
          "histogram": [
           {
            "marker": {
             "pattern": {
              "fillmode": "overlay",
              "size": 10,
              "solidity": 0.2
             }
            },
            "type": "histogram"
           }
          ],
          "histogram2d": [
           {
            "colorbar": {
             "outlinewidth": 0,
             "ticks": ""
            },
            "colorscale": [
             [
              0,
              "#0d0887"
             ],
             [
              0.1111111111111111,
              "#46039f"
             ],
             [
              0.2222222222222222,
              "#7201a8"
             ],
             [
              0.3333333333333333,
              "#9c179e"
             ],
             [
              0.4444444444444444,
              "#bd3786"
             ],
             [
              0.5555555555555556,
              "#d8576b"
             ],
             [
              0.6666666666666666,
              "#ed7953"
             ],
             [
              0.7777777777777778,
              "#fb9f3a"
             ],
             [
              0.8888888888888888,
              "#fdca26"
             ],
             [
              1,
              "#f0f921"
             ]
            ],
            "type": "histogram2d"
           }
          ],
          "histogram2dcontour": [
           {
            "colorbar": {
             "outlinewidth": 0,
             "ticks": ""
            },
            "colorscale": [
             [
              0,
              "#0d0887"
             ],
             [
              0.1111111111111111,
              "#46039f"
             ],
             [
              0.2222222222222222,
              "#7201a8"
             ],
             [
              0.3333333333333333,
              "#9c179e"
             ],
             [
              0.4444444444444444,
              "#bd3786"
             ],
             [
              0.5555555555555556,
              "#d8576b"
             ],
             [
              0.6666666666666666,
              "#ed7953"
             ],
             [
              0.7777777777777778,
              "#fb9f3a"
             ],
             [
              0.8888888888888888,
              "#fdca26"
             ],
             [
              1,
              "#f0f921"
             ]
            ],
            "type": "histogram2dcontour"
           }
          ],
          "mesh3d": [
           {
            "colorbar": {
             "outlinewidth": 0,
             "ticks": ""
            },
            "type": "mesh3d"
           }
          ],
          "parcoords": [
           {
            "line": {
             "colorbar": {
              "outlinewidth": 0,
              "ticks": ""
             }
            },
            "type": "parcoords"
           }
          ],
          "pie": [
           {
            "automargin": true,
            "type": "pie"
           }
          ],
          "scatter": [
           {
            "fillpattern": {
             "fillmode": "overlay",
             "size": 10,
             "solidity": 0.2
            },
            "type": "scatter"
           }
          ],
          "scatter3d": [
           {
            "line": {
             "colorbar": {
              "outlinewidth": 0,
              "ticks": ""
             }
            },
            "marker": {
             "colorbar": {
              "outlinewidth": 0,
              "ticks": ""
             }
            },
            "type": "scatter3d"
           }
          ],
          "scattercarpet": [
           {
            "marker": {
             "colorbar": {
              "outlinewidth": 0,
              "ticks": ""
             }
            },
            "type": "scattercarpet"
           }
          ],
          "scattergeo": [
           {
            "marker": {
             "colorbar": {
              "outlinewidth": 0,
              "ticks": ""
             }
            },
            "type": "scattergeo"
           }
          ],
          "scattergl": [
           {
            "marker": {
             "colorbar": {
              "outlinewidth": 0,
              "ticks": ""
             }
            },
            "type": "scattergl"
           }
          ],
          "scattermap": [
           {
            "marker": {
             "colorbar": {
              "outlinewidth": 0,
              "ticks": ""
             }
            },
            "type": "scattermap"
           }
          ],
          "scattermapbox": [
           {
            "marker": {
             "colorbar": {
              "outlinewidth": 0,
              "ticks": ""
             }
            },
            "type": "scattermapbox"
           }
          ],
          "scatterpolar": [
           {
            "marker": {
             "colorbar": {
              "outlinewidth": 0,
              "ticks": ""
             }
            },
            "type": "scatterpolar"
           }
          ],
          "scatterpolargl": [
           {
            "marker": {
             "colorbar": {
              "outlinewidth": 0,
              "ticks": ""
             }
            },
            "type": "scatterpolargl"
           }
          ],
          "scatterternary": [
           {
            "marker": {
             "colorbar": {
              "outlinewidth": 0,
              "ticks": ""
             }
            },
            "type": "scatterternary"
           }
          ],
          "surface": [
           {
            "colorbar": {
             "outlinewidth": 0,
             "ticks": ""
            },
            "colorscale": [
             [
              0,
              "#0d0887"
             ],
             [
              0.1111111111111111,
              "#46039f"
             ],
             [
              0.2222222222222222,
              "#7201a8"
             ],
             [
              0.3333333333333333,
              "#9c179e"
             ],
             [
              0.4444444444444444,
              "#bd3786"
             ],
             [
              0.5555555555555556,
              "#d8576b"
             ],
             [
              0.6666666666666666,
              "#ed7953"
             ],
             [
              0.7777777777777778,
              "#fb9f3a"
             ],
             [
              0.8888888888888888,
              "#fdca26"
             ],
             [
              1,
              "#f0f921"
             ]
            ],
            "type": "surface"
           }
          ],
          "table": [
           {
            "cells": {
             "fill": {
              "color": "#EBF0F8"
             },
             "line": {
              "color": "white"
             }
            },
            "header": {
             "fill": {
              "color": "#C8D4E3"
             },
             "line": {
              "color": "white"
             }
            },
            "type": "table"
           }
          ]
         },
         "layout": {
          "annotationdefaults": {
           "arrowcolor": "#2a3f5f",
           "arrowhead": 0,
           "arrowwidth": 1
          },
          "autotypenumbers": "strict",
          "coloraxis": {
           "colorbar": {
            "outlinewidth": 0,
            "ticks": ""
           }
          },
          "colorscale": {
           "diverging": [
            [
             0,
             "#8e0152"
            ],
            [
             0.1,
             "#c51b7d"
            ],
            [
             0.2,
             "#de77ae"
            ],
            [
             0.3,
             "#f1b6da"
            ],
            [
             0.4,
             "#fde0ef"
            ],
            [
             0.5,
             "#f7f7f7"
            ],
            [
             0.6,
             "#e6f5d0"
            ],
            [
             0.7,
             "#b8e186"
            ],
            [
             0.8,
             "#7fbc41"
            ],
            [
             0.9,
             "#4d9221"
            ],
            [
             1,
             "#276419"
            ]
           ],
           "sequential": [
            [
             0,
             "#0d0887"
            ],
            [
             0.1111111111111111,
             "#46039f"
            ],
            [
             0.2222222222222222,
             "#7201a8"
            ],
            [
             0.3333333333333333,
             "#9c179e"
            ],
            [
             0.4444444444444444,
             "#bd3786"
            ],
            [
             0.5555555555555556,
             "#d8576b"
            ],
            [
             0.6666666666666666,
             "#ed7953"
            ],
            [
             0.7777777777777778,
             "#fb9f3a"
            ],
            [
             0.8888888888888888,
             "#fdca26"
            ],
            [
             1,
             "#f0f921"
            ]
           ],
           "sequentialminus": [
            [
             0,
             "#0d0887"
            ],
            [
             0.1111111111111111,
             "#46039f"
            ],
            [
             0.2222222222222222,
             "#7201a8"
            ],
            [
             0.3333333333333333,
             "#9c179e"
            ],
            [
             0.4444444444444444,
             "#bd3786"
            ],
            [
             0.5555555555555556,
             "#d8576b"
            ],
            [
             0.6666666666666666,
             "#ed7953"
            ],
            [
             0.7777777777777778,
             "#fb9f3a"
            ],
            [
             0.8888888888888888,
             "#fdca26"
            ],
            [
             1,
             "#f0f921"
            ]
           ]
          },
          "colorway": [
           "#636efa",
           "#EF553B",
           "#00cc96",
           "#ab63fa",
           "#FFA15A",
           "#19d3f3",
           "#FF6692",
           "#B6E880",
           "#FF97FF",
           "#FECB52"
          ],
          "font": {
           "color": "#2a3f5f"
          },
          "geo": {
           "bgcolor": "white",
           "lakecolor": "white",
           "landcolor": "#E5ECF6",
           "showlakes": true,
           "showland": true,
           "subunitcolor": "white"
          },
          "hoverlabel": {
           "align": "left"
          },
          "hovermode": "closest",
          "mapbox": {
           "style": "light"
          },
          "paper_bgcolor": "white",
          "plot_bgcolor": "#E5ECF6",
          "polar": {
           "angularaxis": {
            "gridcolor": "white",
            "linecolor": "white",
            "ticks": ""
           },
           "bgcolor": "#E5ECF6",
           "radialaxis": {
            "gridcolor": "white",
            "linecolor": "white",
            "ticks": ""
           }
          },
          "scene": {
           "xaxis": {
            "backgroundcolor": "#E5ECF6",
            "gridcolor": "white",
            "gridwidth": 2,
            "linecolor": "white",
            "showbackground": true,
            "ticks": "",
            "zerolinecolor": "white"
           },
           "yaxis": {
            "backgroundcolor": "#E5ECF6",
            "gridcolor": "white",
            "gridwidth": 2,
            "linecolor": "white",
            "showbackground": true,
            "ticks": "",
            "zerolinecolor": "white"
           },
           "zaxis": {
            "backgroundcolor": "#E5ECF6",
            "gridcolor": "white",
            "gridwidth": 2,
            "linecolor": "white",
            "showbackground": true,
            "ticks": "",
            "zerolinecolor": "white"
           }
          },
          "shapedefaults": {
           "line": {
            "color": "#2a3f5f"
           }
          },
          "ternary": {
           "aaxis": {
            "gridcolor": "white",
            "linecolor": "white",
            "ticks": ""
           },
           "baxis": {
            "gridcolor": "white",
            "linecolor": "white",
            "ticks": ""
           },
           "bgcolor": "#E5ECF6",
           "caxis": {
            "gridcolor": "white",
            "linecolor": "white",
            "ticks": ""
           }
          },
          "title": {
           "x": 0.05
          },
          "xaxis": {
           "automargin": true,
           "gridcolor": "white",
           "linecolor": "white",
           "ticks": "",
           "title": {
            "standoff": 15
           },
           "zerolinecolor": "white",
           "zerolinewidth": 2
          },
          "yaxis": {
           "automargin": true,
           "gridcolor": "white",
           "linecolor": "white",
           "ticks": "",
           "title": {
            "standoff": 15
           },
           "zerolinecolor": "white",
           "zerolinewidth": 2
          }
         }
        },
        "title": {
         "text": "Path patching results H31.1 Value"
        },
        "width": 500,
        "xaxis": {
         "anchor": "y",
         "constrain": "domain",
         "domain": [
          0,
          1
         ],
         "scaleanchor": "y",
         "title": {
          "text": "Layer"
         }
        },
        "yaxis": {
         "anchor": "x",
         "autorange": "reversed",
         "constrain": "domain",
         "domain": [
          0,
          1
         ],
         "title": {
          "text": "Head"
         }
        }
       }
      }
     },
     "metadata": {},
     "output_type": "display_data"
    },
    {
     "data": {
      "application/vnd.plotly.v1+json": {
       "config": {
        "plotlyServerURL": "https://plot.ly",
        "staticPlot": false
       },
       "data": [
        {
         "coloraxis": "coloraxis",
         "hovertemplate": "Layer: %{x}<br>Head: %{y}<br>Logit diff. variation: %{z}<extra></extra>",
         "name": "0",
         "type": "heatmap",
         "xaxis": "x",
         "yaxis": "y",
         "z": {
          "bdata": "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",
          "dtype": "f4",
          "shape": "32, 32"
         }
        }
       ],
       "layout": {
        "coloraxis": {
         "cmid": 0,
         "colorbar": {
          "ticksuffix": "%",
          "title": {
           "text": "Logit diff. variation"
          }
         },
         "colorscale": [
          [
           0,
           "rgb(103,0,31)"
          ],
          [
           0.1,
           "rgb(178,24,43)"
          ],
          [
           0.2,
           "rgb(214,96,77)"
          ],
          [
           0.3,
           "rgb(244,165,130)"
          ],
          [
           0.4,
           "rgb(253,219,199)"
          ],
          [
           0.5,
           "rgb(247,247,247)"
          ],
          [
           0.6,
           "rgb(209,229,240)"
          ],
          [
           0.7,
           "rgb(146,197,222)"
          ],
          [
           0.8,
           "rgb(67,147,195)"
          ],
          [
           0.9,
           "rgb(33,102,172)"
          ],
          [
           1,
           "rgb(5,48,97)"
          ]
         ]
        },
        "height": 400,
        "template": {
         "data": {
          "bar": [
           {
            "error_x": {
             "color": "#2a3f5f"
            },
            "error_y": {
             "color": "#2a3f5f"
            },
            "marker": {
             "line": {
              "color": "#E5ECF6",
              "width": 0.5
             },
             "pattern": {
              "fillmode": "overlay",
              "size": 10,
              "solidity": 0.2
             }
            },
            "type": "bar"
           }
          ],
          "barpolar": [
           {
            "marker": {
             "line": {
              "color": "#E5ECF6",
              "width": 0.5
             },
             "pattern": {
              "fillmode": "overlay",
              "size": 10,
              "solidity": 0.2
             }
            },
            "type": "barpolar"
           }
          ],
          "carpet": [
           {
            "aaxis": {
             "endlinecolor": "#2a3f5f",
             "gridcolor": "white",
             "linecolor": "white",
             "minorgridcolor": "white",
             "startlinecolor": "#2a3f5f"
            },
            "baxis": {
             "endlinecolor": "#2a3f5f",
             "gridcolor": "white",
             "linecolor": "white",
             "minorgridcolor": "white",
             "startlinecolor": "#2a3f5f"
            },
            "type": "carpet"
           }
          ],
          "choropleth": [
           {
            "colorbar": {
             "outlinewidth": 0,
             "ticks": ""
            },
            "type": "choropleth"
           }
          ],
          "contour": [
           {
            "colorbar": {
             "outlinewidth": 0,
             "ticks": ""
            },
            "colorscale": [
             [
              0,
              "#0d0887"
             ],
             [
              0.1111111111111111,
              "#46039f"
             ],
             [
              0.2222222222222222,
              "#7201a8"
             ],
             [
              0.3333333333333333,
              "#9c179e"
             ],
             [
              0.4444444444444444,
              "#bd3786"
             ],
             [
              0.5555555555555556,
              "#d8576b"
             ],
             [
              0.6666666666666666,
              "#ed7953"
             ],
             [
              0.7777777777777778,
              "#fb9f3a"
             ],
             [
              0.8888888888888888,
              "#fdca26"
             ],
             [
              1,
              "#f0f921"
             ]
            ],
            "type": "contour"
           }
          ],
          "contourcarpet": [
           {
            "colorbar": {
             "outlinewidth": 0,
             "ticks": ""
            },
            "type": "contourcarpet"
           }
          ],
          "heatmap": [
           {
            "colorbar": {
             "outlinewidth": 0,
             "ticks": ""
            },
            "colorscale": [
             [
              0,
              "#0d0887"
             ],
             [
              0.1111111111111111,
              "#46039f"
             ],
             [
              0.2222222222222222,
              "#7201a8"
             ],
             [
              0.3333333333333333,
              "#9c179e"
             ],
             [
              0.4444444444444444,
              "#bd3786"
             ],
             [
              0.5555555555555556,
              "#d8576b"
             ],
             [
              0.6666666666666666,
              "#ed7953"
             ],
             [
              0.7777777777777778,
              "#fb9f3a"
             ],
             [
              0.8888888888888888,
              "#fdca26"
             ],
             [
              1,
              "#f0f921"
             ]
            ],
            "type": "heatmap"
           }
          ],
          "histogram": [
           {
            "marker": {
             "pattern": {
              "fillmode": "overlay",
              "size": 10,
              "solidity": 0.2
             }
            },
            "type": "histogram"
           }
          ],
          "histogram2d": [
           {
            "colorbar": {
             "outlinewidth": 0,
             "ticks": ""
            },
            "colorscale": [
             [
              0,
              "#0d0887"
             ],
             [
              0.1111111111111111,
              "#46039f"
             ],
             [
              0.2222222222222222,
              "#7201a8"
             ],
             [
              0.3333333333333333,
              "#9c179e"
             ],
             [
              0.4444444444444444,
              "#bd3786"
             ],
             [
              0.5555555555555556,
              "#d8576b"
             ],
             [
              0.6666666666666666,
              "#ed7953"
             ],
             [
              0.7777777777777778,
              "#fb9f3a"
             ],
             [
              0.8888888888888888,
              "#fdca26"
             ],
             [
              1,
              "#f0f921"
             ]
            ],
            "type": "histogram2d"
           }
          ],
          "histogram2dcontour": [
           {
            "colorbar": {
             "outlinewidth": 0,
             "ticks": ""
            },
            "colorscale": [
             [
              0,
              "#0d0887"
             ],
             [
              0.1111111111111111,
              "#46039f"
             ],
             [
              0.2222222222222222,
              "#7201a8"
             ],
             [
              0.3333333333333333,
              "#9c179e"
             ],
             [
              0.4444444444444444,
              "#bd3786"
             ],
             [
              0.5555555555555556,
              "#d8576b"
             ],
             [
              0.6666666666666666,
              "#ed7953"
             ],
             [
              0.7777777777777778,
              "#fb9f3a"
             ],
             [
              0.8888888888888888,
              "#fdca26"
             ],
             [
              1,
              "#f0f921"
             ]
            ],
            "type": "histogram2dcontour"
           }
          ],
          "mesh3d": [
           {
            "colorbar": {
             "outlinewidth": 0,
             "ticks": ""
            },
            "type": "mesh3d"
           }
          ],
          "parcoords": [
           {
            "line": {
             "colorbar": {
              "outlinewidth": 0,
              "ticks": ""
             }
            },
            "type": "parcoords"
           }
          ],
          "pie": [
           {
            "automargin": true,
            "type": "pie"
           }
          ],
          "scatter": [
           {
            "fillpattern": {
             "fillmode": "overlay",
             "size": 10,
             "solidity": 0.2
            },
            "type": "scatter"
           }
          ],
          "scatter3d": [
           {
            "line": {
             "colorbar": {
              "outlinewidth": 0,
              "ticks": ""
             }
            },
            "marker": {
             "colorbar": {
              "outlinewidth": 0,
              "ticks": ""
             }
            },
            "type": "scatter3d"
           }
          ],
          "scattercarpet": [
           {
            "marker": {
             "colorbar": {
              "outlinewidth": 0,
              "ticks": ""
             }
            },
            "type": "scattercarpet"
           }
          ],
          "scattergeo": [
           {
            "marker": {
             "colorbar": {
              "outlinewidth": 0,
              "ticks": ""
             }
            },
            "type": "scattergeo"
           }
          ],
          "scattergl": [
           {
            "marker": {
             "colorbar": {
              "outlinewidth": 0,
              "ticks": ""
             }
            },
            "type": "scattergl"
           }
          ],
          "scattermap": [
           {
            "marker": {
             "colorbar": {
              "outlinewidth": 0,
              "ticks": ""
             }
            },
            "type": "scattermap"
           }
          ],
          "scattermapbox": [
           {
            "marker": {
             "colorbar": {
              "outlinewidth": 0,
              "ticks": ""
             }
            },
            "type": "scattermapbox"
           }
          ],
          "scatterpolar": [
           {
            "marker": {
             "colorbar": {
              "outlinewidth": 0,
              "ticks": ""
             }
            },
            "type": "scatterpolar"
           }
          ],
          "scatterpolargl": [
           {
            "marker": {
             "colorbar": {
              "outlinewidth": 0,
              "ticks": ""
             }
            },
            "type": "scatterpolargl"
           }
          ],
          "scatterternary": [
           {
            "marker": {
             "colorbar": {
              "outlinewidth": 0,
              "ticks": ""
             }
            },
            "type": "scatterternary"
           }
          ],
          "surface": [
           {
            "colorbar": {
             "outlinewidth": 0,
             "ticks": ""
            },
            "colorscale": [
             [
              0,
              "#0d0887"
             ],
             [
              0.1111111111111111,
              "#46039f"
             ],
             [
              0.2222222222222222,
              "#7201a8"
             ],
             [
              0.3333333333333333,
              "#9c179e"
             ],
             [
              0.4444444444444444,
              "#bd3786"
             ],
             [
              0.5555555555555556,
              "#d8576b"
             ],
             [
              0.6666666666666666,
              "#ed7953"
             ],
             [
              0.7777777777777778,
              "#fb9f3a"
             ],
             [
              0.8888888888888888,
              "#fdca26"
             ],
             [
              1,
              "#f0f921"
             ]
            ],
            "type": "surface"
           }
          ],
          "table": [
           {
            "cells": {
             "fill": {
              "color": "#EBF0F8"
             },
             "line": {
              "color": "white"
             }
            },
            "header": {
             "fill": {
              "color": "#C8D4E3"
             },
             "line": {
              "color": "white"
             }
            },
            "type": "table"
           }
          ]
         },
         "layout": {
          "annotationdefaults": {
           "arrowcolor": "#2a3f5f",
           "arrowhead": 0,
           "arrowwidth": 1
          },
          "autotypenumbers": "strict",
          "coloraxis": {
           "colorbar": {
            "outlinewidth": 0,
            "ticks": ""
           }
          },
          "colorscale": {
           "diverging": [
            [
             0,
             "#8e0152"
            ],
            [
             0.1,
             "#c51b7d"
            ],
            [
             0.2,
             "#de77ae"
            ],
            [
             0.3,
             "#f1b6da"
            ],
            [
             0.4,
             "#fde0ef"
            ],
            [
             0.5,
             "#f7f7f7"
            ],
            [
             0.6,
             "#e6f5d0"
            ],
            [
             0.7,
             "#b8e186"
            ],
            [
             0.8,
             "#7fbc41"
            ],
            [
             0.9,
             "#4d9221"
            ],
            [
             1,
             "#276419"
            ]
           ],
           "sequential": [
            [
             0,
             "#0d0887"
            ],
            [
             0.1111111111111111,
             "#46039f"
            ],
            [
             0.2222222222222222,
             "#7201a8"
            ],
            [
             0.3333333333333333,
             "#9c179e"
            ],
            [
             0.4444444444444444,
             "#bd3786"
            ],
            [
             0.5555555555555556,
             "#d8576b"
            ],
            [
             0.6666666666666666,
             "#ed7953"
            ],
            [
             0.7777777777777778,
             "#fb9f3a"
            ],
            [
             0.8888888888888888,
             "#fdca26"
            ],
            [
             1,
             "#f0f921"
            ]
           ],
           "sequentialminus": [
            [
             0,
             "#0d0887"
            ],
            [
             0.1111111111111111,
             "#46039f"
            ],
            [
             0.2222222222222222,
             "#7201a8"
            ],
            [
             0.3333333333333333,
             "#9c179e"
            ],
            [
             0.4444444444444444,
             "#bd3786"
            ],
            [
             0.5555555555555556,
             "#d8576b"
            ],
            [
             0.6666666666666666,
             "#ed7953"
            ],
            [
             0.7777777777777778,
             "#fb9f3a"
            ],
            [
             0.8888888888888888,
             "#fdca26"
            ],
            [
             1,
             "#f0f921"
            ]
           ]
          },
          "colorway": [
           "#636efa",
           "#EF553B",
           "#00cc96",
           "#ab63fa",
           "#FFA15A",
           "#19d3f3",
           "#FF6692",
           "#B6E880",
           "#FF97FF",
           "#FECB52"
          ],
          "font": {
           "color": "#2a3f5f"
          },
          "geo": {
           "bgcolor": "white",
           "lakecolor": "white",
           "landcolor": "#E5ECF6",
           "showlakes": true,
           "showland": true,
           "subunitcolor": "white"
          },
          "hoverlabel": {
           "align": "left"
          },
          "hovermode": "closest",
          "mapbox": {
           "style": "light"
          },
          "paper_bgcolor": "white",
          "plot_bgcolor": "#E5ECF6",
          "polar": {
           "angularaxis": {
            "gridcolor": "white",
            "linecolor": "white",
            "ticks": ""
           },
           "bgcolor": "#E5ECF6",
           "radialaxis": {
            "gridcolor": "white",
            "linecolor": "white",
            "ticks": ""
           }
          },
          "scene": {
           "xaxis": {
            "backgroundcolor": "#E5ECF6",
            "gridcolor": "white",
            "gridwidth": 2,
            "linecolor": "white",
            "showbackground": true,
            "ticks": "",
            "zerolinecolor": "white"
           },
           "yaxis": {
            "backgroundcolor": "#E5ECF6",
            "gridcolor": "white",
            "gridwidth": 2,
            "linecolor": "white",
            "showbackground": true,
            "ticks": "",
            "zerolinecolor": "white"
           },
           "zaxis": {
            "backgroundcolor": "#E5ECF6",
            "gridcolor": "white",
            "gridwidth": 2,
            "linecolor": "white",
            "showbackground": true,
            "ticks": "",
            "zerolinecolor": "white"
           }
          },
          "shapedefaults": {
           "line": {
            "color": "#2a3f5f"
           }
          },
          "ternary": {
           "aaxis": {
            "gridcolor": "white",
            "linecolor": "white",
            "ticks": ""
           },
           "baxis": {
            "gridcolor": "white",
            "linecolor": "white",
            "ticks": ""
           },
           "bgcolor": "#E5ECF6",
           "caxis": {
            "gridcolor": "white",
            "linecolor": "white",
            "ticks": ""
           }
          },
          "title": {
           "x": 0.05
          },
          "xaxis": {
           "automargin": true,
           "gridcolor": "white",
           "linecolor": "white",
           "ticks": "",
           "title": {
            "standoff": 15
           },
           "zerolinecolor": "white",
           "zerolinewidth": 2
          },
          "yaxis": {
           "automargin": true,
           "gridcolor": "white",
           "linecolor": "white",
           "ticks": "",
           "title": {
            "standoff": 15
           },
           "zerolinecolor": "white",
           "zerolinewidth": 2
          }
         }
        },
        "title": {
         "text": "Path patching results H31.10 Value"
        },
        "width": 500,
        "xaxis": {
         "anchor": "y",
         "constrain": "domain",
         "domain": [
          0,
          1
         ],
         "scaleanchor": "y",
         "title": {
          "text": "Layer"
         }
        },
        "yaxis": {
         "anchor": "x",
         "autorange": "reversed",
         "constrain": "domain",
         "domain": [
          0,
          1
         ],
         "title": {
          "text": "Head"
         }
        }
       }
      }
     },
     "metadata": {},
     "output_type": "display_data"
    }
   ],
   "source": [
    "# Consolidation Heads\n",
    "for head in [(31, 1), (31, 10)]:\n",
    "    filename = \"./results/mistral_7b/cons_h{}_{}_v.pt\".format(head[0], head[1])\n",
    "    result = t.load(filename)\n",
    "    visualize_heatmap(result, info = \"H{}.{} Value\".format(head[0], head[1]))"
   ]
  },
  {
   "cell_type": "code",
   "execution_count": 6,
   "metadata": {},
   "outputs": [
    {
     "data": {
      "application/vnd.plotly.v1+json": {
       "config": {
        "plotlyServerURL": "https://plot.ly",
        "staticPlot": false
       },
       "data": [
        {
         "coloraxis": "coloraxis",
         "hovertemplate": "Layer: %{x}<br>Head: %{y}<br>Logit diff. variation: %{z}<extra></extra>",
         "name": "0",
         "type": "heatmap",
         "xaxis": "x",
         "yaxis": "y",
         "z": {
          "bdata": "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",
          "dtype": "f4",
          "shape": "32, 32"
         }
        }
       ],
       "layout": {
        "coloraxis": {
         "cmid": 0,
         "colorbar": {
          "ticksuffix": "%",
          "title": {
           "text": "Logit diff. variation"
          }
         },
         "colorscale": [
          [
           0,
           "rgb(103,0,31)"
          ],
          [
           0.1,
           "rgb(178,24,43)"
          ],
          [
           0.2,
           "rgb(214,96,77)"
          ],
          [
           0.3,
           "rgb(244,165,130)"
          ],
          [
           0.4,
           "rgb(253,219,199)"
          ],
          [
           0.5,
           "rgb(247,247,247)"
          ],
          [
           0.6,
           "rgb(209,229,240)"
          ],
          [
           0.7,
           "rgb(146,197,222)"
          ],
          [
           0.8,
           "rgb(67,147,195)"
          ],
          [
           0.9,
           "rgb(33,102,172)"
          ],
          [
           1,
           "rgb(5,48,97)"
          ]
         ]
        },
        "height": 400,
        "template": {
         "data": {
          "bar": [
           {
            "error_x": {
             "color": "#2a3f5f"
            },
            "error_y": {
             "color": "#2a3f5f"
            },
            "marker": {
             "line": {
              "color": "#E5ECF6",
              "width": 0.5
             },
             "pattern": {
              "fillmode": "overlay",
              "size": 10,
              "solidity": 0.2
             }
            },
            "type": "bar"
           }
          ],
          "barpolar": [
           {
            "marker": {
             "line": {
              "color": "#E5ECF6",
              "width": 0.5
             },
             "pattern": {
              "fillmode": "overlay",
              "size": 10,
              "solidity": 0.2
             }
            },
            "type": "barpolar"
           }
          ],
          "carpet": [
           {
            "aaxis": {
             "endlinecolor": "#2a3f5f",
             "gridcolor": "white",
             "linecolor": "white",
             "minorgridcolor": "white",
             "startlinecolor": "#2a3f5f"
            },
            "baxis": {
             "endlinecolor": "#2a3f5f",
             "gridcolor": "white",
             "linecolor": "white",
             "minorgridcolor": "white",
             "startlinecolor": "#2a3f5f"
            },
            "type": "carpet"
           }
          ],
          "choropleth": [
           {
            "colorbar": {
             "outlinewidth": 0,
             "ticks": ""
            },
            "type": "choropleth"
           }
          ],
          "contour": [
           {
            "colorbar": {
             "outlinewidth": 0,
             "ticks": ""
            },
            "colorscale": [
             [
              0,
              "#0d0887"
             ],
             [
              0.1111111111111111,
              "#46039f"
             ],
             [
              0.2222222222222222,
              "#7201a8"
             ],
             [
              0.3333333333333333,
              "#9c179e"
             ],
             [
              0.4444444444444444,
              "#bd3786"
             ],
             [
              0.5555555555555556,
              "#d8576b"
             ],
             [
              0.6666666666666666,
              "#ed7953"
             ],
             [
              0.7777777777777778,
              "#fb9f3a"
             ],
             [
              0.8888888888888888,
              "#fdca26"
             ],
             [
              1,
              "#f0f921"
             ]
            ],
            "type": "contour"
           }
          ],
          "contourcarpet": [
           {
            "colorbar": {
             "outlinewidth": 0,
             "ticks": ""
            },
            "type": "contourcarpet"
           }
          ],
          "heatmap": [
           {
            "colorbar": {
             "outlinewidth": 0,
             "ticks": ""
            },
            "colorscale": [
             [
              0,
              "#0d0887"
             ],
             [
              0.1111111111111111,
              "#46039f"
             ],
             [
              0.2222222222222222,
              "#7201a8"
             ],
             [
              0.3333333333333333,
              "#9c179e"
             ],
             [
              0.4444444444444444,
              "#bd3786"
             ],
             [
              0.5555555555555556,
              "#d8576b"
             ],
             [
              0.6666666666666666,
              "#ed7953"
             ],
             [
              0.7777777777777778,
              "#fb9f3a"
             ],
             [
              0.8888888888888888,
              "#fdca26"
             ],
             [
              1,
              "#f0f921"
             ]
            ],
            "type": "heatmap"
           }
          ],
          "histogram": [
           {
            "marker": {
             "pattern": {
              "fillmode": "overlay",
              "size": 10,
              "solidity": 0.2
             }
            },
            "type": "histogram"
           }
          ],
          "histogram2d": [
           {
            "colorbar": {
             "outlinewidth": 0,
             "ticks": ""
            },
            "colorscale": [
             [
              0,
              "#0d0887"
             ],
             [
              0.1111111111111111,
              "#46039f"
             ],
             [
              0.2222222222222222,
              "#7201a8"
             ],
             [
              0.3333333333333333,
              "#9c179e"
             ],
             [
              0.4444444444444444,
              "#bd3786"
             ],
             [
              0.5555555555555556,
              "#d8576b"
             ],
             [
              0.6666666666666666,
              "#ed7953"
             ],
             [
              0.7777777777777778,
              "#fb9f3a"
             ],
             [
              0.8888888888888888,
              "#fdca26"
             ],
             [
              1,
              "#f0f921"
             ]
            ],
            "type": "histogram2d"
           }
          ],
          "histogram2dcontour": [
           {
            "colorbar": {
             "outlinewidth": 0,
             "ticks": ""
            },
            "colorscale": [
             [
              0,
              "#0d0887"
             ],
             [
              0.1111111111111111,
              "#46039f"
             ],
             [
              0.2222222222222222,
              "#7201a8"
             ],
             [
              0.3333333333333333,
              "#9c179e"
             ],
             [
              0.4444444444444444,
              "#bd3786"
             ],
             [
              0.5555555555555556,
              "#d8576b"
             ],
             [
              0.6666666666666666,
              "#ed7953"
             ],
             [
              0.7777777777777778,
              "#fb9f3a"
             ],
             [
              0.8888888888888888,
              "#fdca26"
             ],
             [
              1,
              "#f0f921"
             ]
            ],
            "type": "histogram2dcontour"
           }
          ],
          "mesh3d": [
           {
            "colorbar": {
             "outlinewidth": 0,
             "ticks": ""
            },
            "type": "mesh3d"
           }
          ],
          "parcoords": [
           {
            "line": {
             "colorbar": {
              "outlinewidth": 0,
              "ticks": ""
             }
            },
            "type": "parcoords"
           }
          ],
          "pie": [
           {
            "automargin": true,
            "type": "pie"
           }
          ],
          "scatter": [
           {
            "fillpattern": {
             "fillmode": "overlay",
             "size": 10,
             "solidity": 0.2
            },
            "type": "scatter"
           }
          ],
          "scatter3d": [
           {
            "line": {
             "colorbar": {
              "outlinewidth": 0,
              "ticks": ""
             }
            },
            "marker": {
             "colorbar": {
              "outlinewidth": 0,
              "ticks": ""
             }
            },
            "type": "scatter3d"
           }
          ],
          "scattercarpet": [
           {
            "marker": {
             "colorbar": {
              "outlinewidth": 0,
              "ticks": ""
             }
            },
            "type": "scattercarpet"
           }
          ],
          "scattergeo": [
           {
            "marker": {
             "colorbar": {
              "outlinewidth": 0,
              "ticks": ""
             }
            },
            "type": "scattergeo"
           }
          ],
          "scattergl": [
           {
            "marker": {
             "colorbar": {
              "outlinewidth": 0,
              "ticks": ""
             }
            },
            "type": "scattergl"
           }
          ],
          "scattermap": [
           {
            "marker": {
             "colorbar": {
              "outlinewidth": 0,
              "ticks": ""
             }
            },
            "type": "scattermap"
           }
          ],
          "scattermapbox": [
           {
            "marker": {
             "colorbar": {
              "outlinewidth": 0,
              "ticks": ""
             }
            },
            "type": "scattermapbox"
           }
          ],
          "scatterpolar": [
           {
            "marker": {
             "colorbar": {
              "outlinewidth": 0,
              "ticks": ""
             }
            },
            "type": "scatterpolar"
           }
          ],
          "scatterpolargl": [
           {
            "marker": {
             "colorbar": {
              "outlinewidth": 0,
              "ticks": ""
             }
            },
            "type": "scatterpolargl"
           }
          ],
          "scatterternary": [
           {
            "marker": {
             "colorbar": {
              "outlinewidth": 0,
              "ticks": ""
             }
            },
            "type": "scatterternary"
           }
          ],
          "surface": [
           {
            "colorbar": {
             "outlinewidth": 0,
             "ticks": ""
            },
            "colorscale": [
             [
              0,
              "#0d0887"
             ],
             [
              0.1111111111111111,
              "#46039f"
             ],
             [
              0.2222222222222222,
              "#7201a8"
             ],
             [
              0.3333333333333333,
              "#9c179e"
             ],
             [
              0.4444444444444444,
              "#bd3786"
             ],
             [
              0.5555555555555556,
              "#d8576b"
             ],
             [
              0.6666666666666666,
              "#ed7953"
             ],
             [
              0.7777777777777778,
              "#fb9f3a"
             ],
             [
              0.8888888888888888,
              "#fdca26"
             ],
             [
              1,
              "#f0f921"
             ]
            ],
            "type": "surface"
           }
          ],
          "table": [
           {
            "cells": {
             "fill": {
              "color": "#EBF0F8"
             },
             "line": {
              "color": "white"
             }
            },
            "header": {
             "fill": {
              "color": "#C8D4E3"
             },
             "line": {
              "color": "white"
             }
            },
            "type": "table"
           }
          ]
         },
         "layout": {
          "annotationdefaults": {
           "arrowcolor": "#2a3f5f",
           "arrowhead": 0,
           "arrowwidth": 1
          },
          "autotypenumbers": "strict",
          "coloraxis": {
           "colorbar": {
            "outlinewidth": 0,
            "ticks": ""
           }
          },
          "colorscale": {
           "diverging": [
            [
             0,
             "#8e0152"
            ],
            [
             0.1,
             "#c51b7d"
            ],
            [
             0.2,
             "#de77ae"
            ],
            [
             0.3,
             "#f1b6da"
            ],
            [
             0.4,
             "#fde0ef"
            ],
            [
             0.5,
             "#f7f7f7"
            ],
            [
             0.6,
             "#e6f5d0"
            ],
            [
             0.7,
             "#b8e186"
            ],
            [
             0.8,
             "#7fbc41"
            ],
            [
             0.9,
             "#4d9221"
            ],
            [
             1,
             "#276419"
            ]
           ],
           "sequential": [
            [
             0,
             "#0d0887"
            ],
            [
             0.1111111111111111,
             "#46039f"
            ],
            [
             0.2222222222222222,
             "#7201a8"
            ],
            [
             0.3333333333333333,
             "#9c179e"
            ],
            [
             0.4444444444444444,
             "#bd3786"
            ],
            [
             0.5555555555555556,
             "#d8576b"
            ],
            [
             0.6666666666666666,
             "#ed7953"
            ],
            [
             0.7777777777777778,
             "#fb9f3a"
            ],
            [
             0.8888888888888888,
             "#fdca26"
            ],
            [
             1,
             "#f0f921"
            ]
           ],
           "sequentialminus": [
            [
             0,
             "#0d0887"
            ],
            [
             0.1111111111111111,
             "#46039f"
            ],
            [
             0.2222222222222222,
             "#7201a8"
            ],
            [
             0.3333333333333333,
             "#9c179e"
            ],
            [
             0.4444444444444444,
             "#bd3786"
            ],
            [
             0.5555555555555556,
             "#d8576b"
            ],
            [
             0.6666666666666666,
             "#ed7953"
            ],
            [
             0.7777777777777778,
             "#fb9f3a"
            ],
            [
             0.8888888888888888,
             "#fdca26"
            ],
            [
             1,
             "#f0f921"
            ]
           ]
          },
          "colorway": [
           "#636efa",
           "#EF553B",
           "#00cc96",
           "#ab63fa",
           "#FFA15A",
           "#19d3f3",
           "#FF6692",
           "#B6E880",
           "#FF97FF",
           "#FECB52"
          ],
          "font": {
           "color": "#2a3f5f"
          },
          "geo": {
           "bgcolor": "white",
           "lakecolor": "white",
           "landcolor": "#E5ECF6",
           "showlakes": true,
           "showland": true,
           "subunitcolor": "white"
          },
          "hoverlabel": {
           "align": "left"
          },
          "hovermode": "closest",
          "mapbox": {
           "style": "light"
          },
          "paper_bgcolor": "white",
          "plot_bgcolor": "#E5ECF6",
          "polar": {
           "angularaxis": {
            "gridcolor": "white",
            "linecolor": "white",
            "ticks": ""
           },
           "bgcolor": "#E5ECF6",
           "radialaxis": {
            "gridcolor": "white",
            "linecolor": "white",
            "ticks": ""
           }
          },
          "scene": {
           "xaxis": {
            "backgroundcolor": "#E5ECF6",
            "gridcolor": "white",
            "gridwidth": 2,
            "linecolor": "white",
            "showbackground": true,
            "ticks": "",
            "zerolinecolor": "white"
           },
           "yaxis": {
            "backgroundcolor": "#E5ECF6",
            "gridcolor": "white",
            "gridwidth": 2,
            "linecolor": "white",
            "showbackground": true,
            "ticks": "",
            "zerolinecolor": "white"
           },
           "zaxis": {
            "backgroundcolor": "#E5ECF6",
            "gridcolor": "white",
            "gridwidth": 2,
            "linecolor": "white",
            "showbackground": true,
            "ticks": "",
            "zerolinecolor": "white"
           }
          },
          "shapedefaults": {
           "line": {
            "color": "#2a3f5f"
           }
          },
          "ternary": {
           "aaxis": {
            "gridcolor": "white",
            "linecolor": "white",
            "ticks": ""
           },
           "baxis": {
            "gridcolor": "white",
            "linecolor": "white",
            "ticks": ""
           },
           "bgcolor": "#E5ECF6",
           "caxis": {
            "gridcolor": "white",
            "linecolor": "white",
            "ticks": ""
           }
          },
          "title": {
           "x": 0.05
          },
          "xaxis": {
           "automargin": true,
           "gridcolor": "white",
           "linecolor": "white",
           "ticks": "",
           "title": {
            "standoff": 15
           },
           "zerolinecolor": "white",
           "zerolinewidth": 2
          },
          "yaxis": {
           "automargin": true,
           "gridcolor": "white",
           "linecolor": "white",
           "ticks": "",
           "title": {
            "standoff": 15
           },
           "zerolinecolor": "white",
           "zerolinewidth": 2
          }
         }
        },
        "title": {
         "text": "Path patching results H31.2 Value"
        },
        "width": 500,
        "xaxis": {
         "anchor": "y",
         "constrain": "domain",
         "domain": [
          0,
          1
         ],
         "scaleanchor": "y",
         "title": {
          "text": "Layer"
         }
        },
        "yaxis": {
         "anchor": "x",
         "autorange": "reversed",
         "constrain": "domain",
         "domain": [
          0,
          1
         ],
         "title": {
          "text": "Head"
         }
        }
       }
      }
     },
     "metadata": {},
     "output_type": "display_data"
    },
    {
     "data": {
      "application/vnd.plotly.v1+json": {
       "config": {
        "plotlyServerURL": "https://plot.ly",
        "staticPlot": false
       },
       "data": [
        {
         "coloraxis": "coloraxis",
         "hovertemplate": "Layer: %{x}<br>Head: %{y}<br>Logit diff. variation: %{z}<extra></extra>",
         "name": "0",
         "type": "heatmap",
         "xaxis": "x",
         "yaxis": "y",
         "z": {
          "bdata": "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",
          "dtype": "f4",
          "shape": "32, 32"
         }
        }
       ],
       "layout": {
        "coloraxis": {
         "cmid": 0,
         "colorbar": {
          "ticksuffix": "%",
          "title": {
           "text": "Logit diff. variation"
          }
         },
         "colorscale": [
          [
           0,
           "rgb(103,0,31)"
          ],
          [
           0.1,
           "rgb(178,24,43)"
          ],
          [
           0.2,
           "rgb(214,96,77)"
          ],
          [
           0.3,
           "rgb(244,165,130)"
          ],
          [
           0.4,
           "rgb(253,219,199)"
          ],
          [
           0.5,
           "rgb(247,247,247)"
          ],
          [
           0.6,
           "rgb(209,229,240)"
          ],
          [
           0.7,
           "rgb(146,197,222)"
          ],
          [
           0.8,
           "rgb(67,147,195)"
          ],
          [
           0.9,
           "rgb(33,102,172)"
          ],
          [
           1,
           "rgb(5,48,97)"
          ]
         ]
        },
        "height": 400,
        "template": {
         "data": {
          "bar": [
           {
            "error_x": {
             "color": "#2a3f5f"
            },
            "error_y": {
             "color": "#2a3f5f"
            },
            "marker": {
             "line": {
              "color": "#E5ECF6",
              "width": 0.5
             },
             "pattern": {
              "fillmode": "overlay",
              "size": 10,
              "solidity": 0.2
             }
            },
            "type": "bar"
           }
          ],
          "barpolar": [
           {
            "marker": {
             "line": {
              "color": "#E5ECF6",
              "width": 0.5
             },
             "pattern": {
              "fillmode": "overlay",
              "size": 10,
              "solidity": 0.2
             }
            },
            "type": "barpolar"
           }
          ],
          "carpet": [
           {
            "aaxis": {
             "endlinecolor": "#2a3f5f",
             "gridcolor": "white",
             "linecolor": "white",
             "minorgridcolor": "white",
             "startlinecolor": "#2a3f5f"
            },
            "baxis": {
             "endlinecolor": "#2a3f5f",
             "gridcolor": "white",
             "linecolor": "white",
             "minorgridcolor": "white",
             "startlinecolor": "#2a3f5f"
            },
            "type": "carpet"
           }
          ],
          "choropleth": [
           {
            "colorbar": {
             "outlinewidth": 0,
             "ticks": ""
            },
            "type": "choropleth"
           }
          ],
          "contour": [
           {
            "colorbar": {
             "outlinewidth": 0,
             "ticks": ""
            },
            "colorscale": [
             [
              0,
              "#0d0887"
             ],
             [
              0.1111111111111111,
              "#46039f"
             ],
             [
              0.2222222222222222,
              "#7201a8"
             ],
             [
              0.3333333333333333,
              "#9c179e"
             ],
             [
              0.4444444444444444,
              "#bd3786"
             ],
             [
              0.5555555555555556,
              "#d8576b"
             ],
             [
              0.6666666666666666,
              "#ed7953"
             ],
             [
              0.7777777777777778,
              "#fb9f3a"
             ],
             [
              0.8888888888888888,
              "#fdca26"
             ],
             [
              1,
              "#f0f921"
             ]
            ],
            "type": "contour"
           }
          ],
          "contourcarpet": [
           {
            "colorbar": {
             "outlinewidth": 0,
             "ticks": ""
            },
            "type": "contourcarpet"
           }
          ],
          "heatmap": [
           {
            "colorbar": {
             "outlinewidth": 0,
             "ticks": ""
            },
            "colorscale": [
             [
              0,
              "#0d0887"
             ],
             [
              0.1111111111111111,
              "#46039f"
             ],
             [
              0.2222222222222222,
              "#7201a8"
             ],
             [
              0.3333333333333333,
              "#9c179e"
             ],
             [
              0.4444444444444444,
              "#bd3786"
             ],
             [
              0.5555555555555556,
              "#d8576b"
             ],
             [
              0.6666666666666666,
              "#ed7953"
             ],
             [
              0.7777777777777778,
              "#fb9f3a"
             ],
             [
              0.8888888888888888,
              "#fdca26"
             ],
             [
              1,
              "#f0f921"
             ]
            ],
            "type": "heatmap"
           }
          ],
          "histogram": [
           {
            "marker": {
             "pattern": {
              "fillmode": "overlay",
              "size": 10,
              "solidity": 0.2
             }
            },
            "type": "histogram"
           }
          ],
          "histogram2d": [
           {
            "colorbar": {
             "outlinewidth": 0,
             "ticks": ""
            },
            "colorscale": [
             [
              0,
              "#0d0887"
             ],
             [
              0.1111111111111111,
              "#46039f"
             ],
             [
              0.2222222222222222,
              "#7201a8"
             ],
             [
              0.3333333333333333,
              "#9c179e"
             ],
             [
              0.4444444444444444,
              "#bd3786"
             ],
             [
              0.5555555555555556,
              "#d8576b"
             ],
             [
              0.6666666666666666,
              "#ed7953"
             ],
             [
              0.7777777777777778,
              "#fb9f3a"
             ],
             [
              0.8888888888888888,
              "#fdca26"
             ],
             [
              1,
              "#f0f921"
             ]
            ],
            "type": "histogram2d"
           }
          ],
          "histogram2dcontour": [
           {
            "colorbar": {
             "outlinewidth": 0,
             "ticks": ""
            },
            "colorscale": [
             [
              0,
              "#0d0887"
             ],
             [
              0.1111111111111111,
              "#46039f"
             ],
             [
              0.2222222222222222,
              "#7201a8"
             ],
             [
              0.3333333333333333,
              "#9c179e"
             ],
             [
              0.4444444444444444,
              "#bd3786"
             ],
             [
              0.5555555555555556,
              "#d8576b"
             ],
             [
              0.6666666666666666,
              "#ed7953"
             ],
             [
              0.7777777777777778,
              "#fb9f3a"
             ],
             [
              0.8888888888888888,
              "#fdca26"
             ],
             [
              1,
              "#f0f921"
             ]
            ],
            "type": "histogram2dcontour"
           }
          ],
          "mesh3d": [
           {
            "colorbar": {
             "outlinewidth": 0,
             "ticks": ""
            },
            "type": "mesh3d"
           }
          ],
          "parcoords": [
           {
            "line": {
             "colorbar": {
              "outlinewidth": 0,
              "ticks": ""
             }
            },
            "type": "parcoords"
           }
          ],
          "pie": [
           {
            "automargin": true,
            "type": "pie"
           }
          ],
          "scatter": [
           {
            "fillpattern": {
             "fillmode": "overlay",
             "size": 10,
             "solidity": 0.2
            },
            "type": "scatter"
           }
          ],
          "scatter3d": [
           {
            "line": {
             "colorbar": {
              "outlinewidth": 0,
              "ticks": ""
             }
            },
            "marker": {
             "colorbar": {
              "outlinewidth": 0,
              "ticks": ""
             }
            },
            "type": "scatter3d"
           }
          ],
          "scattercarpet": [
           {
            "marker": {
             "colorbar": {
              "outlinewidth": 0,
              "ticks": ""
             }
            },
            "type": "scattercarpet"
           }
          ],
          "scattergeo": [
           {
            "marker": {
             "colorbar": {
              "outlinewidth": 0,
              "ticks": ""
             }
            },
            "type": "scattergeo"
           }
          ],
          "scattergl": [
           {
            "marker": {
             "colorbar": {
              "outlinewidth": 0,
              "ticks": ""
             }
            },
            "type": "scattergl"
           }
          ],
          "scattermap": [
           {
            "marker": {
             "colorbar": {
              "outlinewidth": 0,
              "ticks": ""
             }
            },
            "type": "scattermap"
           }
          ],
          "scattermapbox": [
           {
            "marker": {
             "colorbar": {
              "outlinewidth": 0,
              "ticks": ""
             }
            },
            "type": "scattermapbox"
           }
          ],
          "scatterpolar": [
           {
            "marker": {
             "colorbar": {
              "outlinewidth": 0,
              "ticks": ""
             }
            },
            "type": "scatterpolar"
           }
          ],
          "scatterpolargl": [
           {
            "marker": {
             "colorbar": {
              "outlinewidth": 0,
              "ticks": ""
             }
            },
            "type": "scatterpolargl"
           }
          ],
          "scatterternary": [
           {
            "marker": {
             "colorbar": {
              "outlinewidth": 0,
              "ticks": ""
             }
            },
            "type": "scatterternary"
           }
          ],
          "surface": [
           {
            "colorbar": {
             "outlinewidth": 0,
             "ticks": ""
            },
            "colorscale": [
             [
              0,
              "#0d0887"
             ],
             [
              0.1111111111111111,
              "#46039f"
             ],
             [
              0.2222222222222222,
              "#7201a8"
             ],
             [
              0.3333333333333333,
              "#9c179e"
             ],
             [
              0.4444444444444444,
              "#bd3786"
             ],
             [
              0.5555555555555556,
              "#d8576b"
             ],
             [
              0.6666666666666666,
              "#ed7953"
             ],
             [
              0.7777777777777778,
              "#fb9f3a"
             ],
             [
              0.8888888888888888,
              "#fdca26"
             ],
             [
              1,
              "#f0f921"
             ]
            ],
            "type": "surface"
           }
          ],
          "table": [
           {
            "cells": {
             "fill": {
              "color": "#EBF0F8"
             },
             "line": {
              "color": "white"
             }
            },
            "header": {
             "fill": {
              "color": "#C8D4E3"
             },
             "line": {
              "color": "white"
             }
            },
            "type": "table"
           }
          ]
         },
         "layout": {
          "annotationdefaults": {
           "arrowcolor": "#2a3f5f",
           "arrowhead": 0,
           "arrowwidth": 1
          },
          "autotypenumbers": "strict",
          "coloraxis": {
           "colorbar": {
            "outlinewidth": 0,
            "ticks": ""
           }
          },
          "colorscale": {
           "diverging": [
            [
             0,
             "#8e0152"
            ],
            [
             0.1,
             "#c51b7d"
            ],
            [
             0.2,
             "#de77ae"
            ],
            [
             0.3,
             "#f1b6da"
            ],
            [
             0.4,
             "#fde0ef"
            ],
            [
             0.5,
             "#f7f7f7"
            ],
            [
             0.6,
             "#e6f5d0"
            ],
            [
             0.7,
             "#b8e186"
            ],
            [
             0.8,
             "#7fbc41"
            ],
            [
             0.9,
             "#4d9221"
            ],
            [
             1,
             "#276419"
            ]
           ],
           "sequential": [
            [
             0,
             "#0d0887"
            ],
            [
             0.1111111111111111,
             "#46039f"
            ],
            [
             0.2222222222222222,
             "#7201a8"
            ],
            [
             0.3333333333333333,
             "#9c179e"
            ],
            [
             0.4444444444444444,
             "#bd3786"
            ],
            [
             0.5555555555555556,
             "#d8576b"
            ],
            [
             0.6666666666666666,
             "#ed7953"
            ],
            [
             0.7777777777777778,
             "#fb9f3a"
            ],
            [
             0.8888888888888888,
             "#fdca26"
            ],
            [
             1,
             "#f0f921"
            ]
           ],
           "sequentialminus": [
            [
             0,
             "#0d0887"
            ],
            [
             0.1111111111111111,
             "#46039f"
            ],
            [
             0.2222222222222222,
             "#7201a8"
            ],
            [
             0.3333333333333333,
             "#9c179e"
            ],
            [
             0.4444444444444444,
             "#bd3786"
            ],
            [
             0.5555555555555556,
             "#d8576b"
            ],
            [
             0.6666666666666666,
             "#ed7953"
            ],
            [
             0.7777777777777778,
             "#fb9f3a"
            ],
            [
             0.8888888888888888,
             "#fdca26"
            ],
            [
             1,
             "#f0f921"
            ]
           ]
          },
          "colorway": [
           "#636efa",
           "#EF553B",
           "#00cc96",
           "#ab63fa",
           "#FFA15A",
           "#19d3f3",
           "#FF6692",
           "#B6E880",
           "#FF97FF",
           "#FECB52"
          ],
          "font": {
           "color": "#2a3f5f"
          },
          "geo": {
           "bgcolor": "white",
           "lakecolor": "white",
           "landcolor": "#E5ECF6",
           "showlakes": true,
           "showland": true,
           "subunitcolor": "white"
          },
          "hoverlabel": {
           "align": "left"
          },
          "hovermode": "closest",
          "mapbox": {
           "style": "light"
          },
          "paper_bgcolor": "white",
          "plot_bgcolor": "#E5ECF6",
          "polar": {
           "angularaxis": {
            "gridcolor": "white",
            "linecolor": "white",
            "ticks": ""
           },
           "bgcolor": "#E5ECF6",
           "radialaxis": {
            "gridcolor": "white",
            "linecolor": "white",
            "ticks": ""
           }
          },
          "scene": {
           "xaxis": {
            "backgroundcolor": "#E5ECF6",
            "gridcolor": "white",
            "gridwidth": 2,
            "linecolor": "white",
            "showbackground": true,
            "ticks": "",
            "zerolinecolor": "white"
           },
           "yaxis": {
            "backgroundcolor": "#E5ECF6",
            "gridcolor": "white",
            "gridwidth": 2,
            "linecolor": "white",
            "showbackground": true,
            "ticks": "",
            "zerolinecolor": "white"
           },
           "zaxis": {
            "backgroundcolor": "#E5ECF6",
            "gridcolor": "white",
            "gridwidth": 2,
            "linecolor": "white",
            "showbackground": true,
            "ticks": "",
            "zerolinecolor": "white"
           }
          },
          "shapedefaults": {
           "line": {
            "color": "#2a3f5f"
           }
          },
          "ternary": {
           "aaxis": {
            "gridcolor": "white",
            "linecolor": "white",
            "ticks": ""
           },
           "baxis": {
            "gridcolor": "white",
            "linecolor": "white",
            "ticks": ""
           },
           "bgcolor": "#E5ECF6",
           "caxis": {
            "gridcolor": "white",
            "linecolor": "white",
            "ticks": ""
           }
          },
          "title": {
           "x": 0.05
          },
          "xaxis": {
           "automargin": true,
           "gridcolor": "white",
           "linecolor": "white",
           "ticks": "",
           "title": {
            "standoff": 15
           },
           "zerolinecolor": "white",
           "zerolinewidth": 2
          },
          "yaxis": {
           "automargin": true,
           "gridcolor": "white",
           "linecolor": "white",
           "ticks": "",
           "title": {
            "standoff": 15
           },
           "zerolinecolor": "white",
           "zerolinewidth": 2
          }
         }
        },
        "title": {
         "text": "Path patching results H30.18 Value"
        },
        "width": 500,
        "xaxis": {
         "anchor": "y",
         "constrain": "domain",
         "domain": [
          0,
          1
         ],
         "scaleanchor": "y",
         "title": {
          "text": "Layer"
         }
        },
        "yaxis": {
         "anchor": "x",
         "autorange": "reversed",
         "constrain": "domain",
         "domain": [
          0,
          1
         ],
         "title": {
          "text": "Head"
         }
        }
       }
      }
     },
     "metadata": {},
     "output_type": "display_data"
    },
    {
     "data": {
      "application/vnd.plotly.v1+json": {
       "config": {
        "plotlyServerURL": "https://plot.ly",
        "staticPlot": false
       },
       "data": [
        {
         "coloraxis": "coloraxis",
         "hovertemplate": "Layer: %{x}<br>Head: %{y}<br>Logit diff. variation: %{z}<extra></extra>",
         "name": "0",
         "type": "heatmap",
         "xaxis": "x",
         "yaxis": "y",
         "z": {
          "bdata": "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",
          "dtype": "f4",
          "shape": "32, 32"
         }
        }
       ],
       "layout": {
        "coloraxis": {
         "cmid": 0,
         "colorbar": {
          "ticksuffix": "%",
          "title": {
           "text": "Logit diff. variation"
          }
         },
         "colorscale": [
          [
           0,
           "rgb(103,0,31)"
          ],
          [
           0.1,
           "rgb(178,24,43)"
          ],
          [
           0.2,
           "rgb(214,96,77)"
          ],
          [
           0.3,
           "rgb(244,165,130)"
          ],
          [
           0.4,
           "rgb(253,219,199)"
          ],
          [
           0.5,
           "rgb(247,247,247)"
          ],
          [
           0.6,
           "rgb(209,229,240)"
          ],
          [
           0.7,
           "rgb(146,197,222)"
          ],
          [
           0.8,
           "rgb(67,147,195)"
          ],
          [
           0.9,
           "rgb(33,102,172)"
          ],
          [
           1,
           "rgb(5,48,97)"
          ]
         ]
        },
        "height": 400,
        "template": {
         "data": {
          "bar": [
           {
            "error_x": {
             "color": "#2a3f5f"
            },
            "error_y": {
             "color": "#2a3f5f"
            },
            "marker": {
             "line": {
              "color": "#E5ECF6",
              "width": 0.5
             },
             "pattern": {
              "fillmode": "overlay",
              "size": 10,
              "solidity": 0.2
             }
            },
            "type": "bar"
           }
          ],
          "barpolar": [
           {
            "marker": {
             "line": {
              "color": "#E5ECF6",
              "width": 0.5
             },
             "pattern": {
              "fillmode": "overlay",
              "size": 10,
              "solidity": 0.2
             }
            },
            "type": "barpolar"
           }
          ],
          "carpet": [
           {
            "aaxis": {
             "endlinecolor": "#2a3f5f",
             "gridcolor": "white",
             "linecolor": "white",
             "minorgridcolor": "white",
             "startlinecolor": "#2a3f5f"
            },
            "baxis": {
             "endlinecolor": "#2a3f5f",
             "gridcolor": "white",
             "linecolor": "white",
             "minorgridcolor": "white",
             "startlinecolor": "#2a3f5f"
            },
            "type": "carpet"
           }
          ],
          "choropleth": [
           {
            "colorbar": {
             "outlinewidth": 0,
             "ticks": ""
            },
            "type": "choropleth"
           }
          ],
          "contour": [
           {
            "colorbar": {
             "outlinewidth": 0,
             "ticks": ""
            },
            "colorscale": [
             [
              0,
              "#0d0887"
             ],
             [
              0.1111111111111111,
              "#46039f"
             ],
             [
              0.2222222222222222,
              "#7201a8"
             ],
             [
              0.3333333333333333,
              "#9c179e"
             ],
             [
              0.4444444444444444,
              "#bd3786"
             ],
             [
              0.5555555555555556,
              "#d8576b"
             ],
             [
              0.6666666666666666,
              "#ed7953"
             ],
             [
              0.7777777777777778,
              "#fb9f3a"
             ],
             [
              0.8888888888888888,
              "#fdca26"
             ],
             [
              1,
              "#f0f921"
             ]
            ],
            "type": "contour"
           }
          ],
          "contourcarpet": [
           {
            "colorbar": {
             "outlinewidth": 0,
             "ticks": ""
            },
            "type": "contourcarpet"
           }
          ],
          "heatmap": [
           {
            "colorbar": {
             "outlinewidth": 0,
             "ticks": ""
            },
            "colorscale": [
             [
              0,
              "#0d0887"
             ],
             [
              0.1111111111111111,
              "#46039f"
             ],
             [
              0.2222222222222222,
              "#7201a8"
             ],
             [
              0.3333333333333333,
              "#9c179e"
             ],
             [
              0.4444444444444444,
              "#bd3786"
             ],
             [
              0.5555555555555556,
              "#d8576b"
             ],
             [
              0.6666666666666666,
              "#ed7953"
             ],
             [
              0.7777777777777778,
              "#fb9f3a"
             ],
             [
              0.8888888888888888,
              "#fdca26"
             ],
             [
              1,
              "#f0f921"
             ]
            ],
            "type": "heatmap"
           }
          ],
          "histogram": [
           {
            "marker": {
             "pattern": {
              "fillmode": "overlay",
              "size": 10,
              "solidity": 0.2
             }
            },
            "type": "histogram"
           }
          ],
          "histogram2d": [
           {
            "colorbar": {
             "outlinewidth": 0,
             "ticks": ""
            },
            "colorscale": [
             [
              0,
              "#0d0887"
             ],
             [
              0.1111111111111111,
              "#46039f"
             ],
             [
              0.2222222222222222,
              "#7201a8"
             ],
             [
              0.3333333333333333,
              "#9c179e"
             ],
             [
              0.4444444444444444,
              "#bd3786"
             ],
             [
              0.5555555555555556,
              "#d8576b"
             ],
             [
              0.6666666666666666,
              "#ed7953"
             ],
             [
              0.7777777777777778,
              "#fb9f3a"
             ],
             [
              0.8888888888888888,
              "#fdca26"
             ],
             [
              1,
              "#f0f921"
             ]
            ],
            "type": "histogram2d"
           }
          ],
          "histogram2dcontour": [
           {
            "colorbar": {
             "outlinewidth": 0,
             "ticks": ""
            },
            "colorscale": [
             [
              0,
              "#0d0887"
             ],
             [
              0.1111111111111111,
              "#46039f"
             ],
             [
              0.2222222222222222,
              "#7201a8"
             ],
             [
              0.3333333333333333,
              "#9c179e"
             ],
             [
              0.4444444444444444,
              "#bd3786"
             ],
             [
              0.5555555555555556,
              "#d8576b"
             ],
             [
              0.6666666666666666,
              "#ed7953"
             ],
             [
              0.7777777777777778,
              "#fb9f3a"
             ],
             [
              0.8888888888888888,
              "#fdca26"
             ],
             [
              1,
              "#f0f921"
             ]
            ],
            "type": "histogram2dcontour"
           }
          ],
          "mesh3d": [
           {
            "colorbar": {
             "outlinewidth": 0,
             "ticks": ""
            },
            "type": "mesh3d"
           }
          ],
          "parcoords": [
           {
            "line": {
             "colorbar": {
              "outlinewidth": 0,
              "ticks": ""
             }
            },
            "type": "parcoords"
           }
          ],
          "pie": [
           {
            "automargin": true,
            "type": "pie"
           }
          ],
          "scatter": [
           {
            "fillpattern": {
             "fillmode": "overlay",
             "size": 10,
             "solidity": 0.2
            },
            "type": "scatter"
           }
          ],
          "scatter3d": [
           {
            "line": {
             "colorbar": {
              "outlinewidth": 0,
              "ticks": ""
             }
            },
            "marker": {
             "colorbar": {
              "outlinewidth": 0,
              "ticks": ""
             }
            },
            "type": "scatter3d"
           }
          ],
          "scattercarpet": [
           {
            "marker": {
             "colorbar": {
              "outlinewidth": 0,
              "ticks": ""
             }
            },
            "type": "scattercarpet"
           }
          ],
          "scattergeo": [
           {
            "marker": {
             "colorbar": {
              "outlinewidth": 0,
              "ticks": ""
             }
            },
            "type": "scattergeo"
           }
          ],
          "scattergl": [
           {
            "marker": {
             "colorbar": {
              "outlinewidth": 0,
              "ticks": ""
             }
            },
            "type": "scattergl"
           }
          ],
          "scattermap": [
           {
            "marker": {
             "colorbar": {
              "outlinewidth": 0,
              "ticks": ""
             }
            },
            "type": "scattermap"
           }
          ],
          "scattermapbox": [
           {
            "marker": {
             "colorbar": {
              "outlinewidth": 0,
              "ticks": ""
             }
            },
            "type": "scattermapbox"
           }
          ],
          "scatterpolar": [
           {
            "marker": {
             "colorbar": {
              "outlinewidth": 0,
              "ticks": ""
             }
            },
            "type": "scatterpolar"
           }
          ],
          "scatterpolargl": [
           {
            "marker": {
             "colorbar": {
              "outlinewidth": 0,
              "ticks": ""
             }
            },
            "type": "scatterpolargl"
           }
          ],
          "scatterternary": [
           {
            "marker": {
             "colorbar": {
              "outlinewidth": 0,
              "ticks": ""
             }
            },
            "type": "scatterternary"
           }
          ],
          "surface": [
           {
            "colorbar": {
             "outlinewidth": 0,
             "ticks": ""
            },
            "colorscale": [
             [
              0,
              "#0d0887"
             ],
             [
              0.1111111111111111,
              "#46039f"
             ],
             [
              0.2222222222222222,
              "#7201a8"
             ],
             [
              0.3333333333333333,
              "#9c179e"
             ],
             [
              0.4444444444444444,
              "#bd3786"
             ],
             [
              0.5555555555555556,
              "#d8576b"
             ],
             [
              0.6666666666666666,
              "#ed7953"
             ],
             [
              0.7777777777777778,
              "#fb9f3a"
             ],
             [
              0.8888888888888888,
              "#fdca26"
             ],
             [
              1,
              "#f0f921"
             ]
            ],
            "type": "surface"
           }
          ],
          "table": [
           {
            "cells": {
             "fill": {
              "color": "#EBF0F8"
             },
             "line": {
              "color": "white"
             }
            },
            "header": {
             "fill": {
              "color": "#C8D4E3"
             },
             "line": {
              "color": "white"
             }
            },
            "type": "table"
           }
          ]
         },
         "layout": {
          "annotationdefaults": {
           "arrowcolor": "#2a3f5f",
           "arrowhead": 0,
           "arrowwidth": 1
          },
          "autotypenumbers": "strict",
          "coloraxis": {
           "colorbar": {
            "outlinewidth": 0,
            "ticks": ""
           }
          },
          "colorscale": {
           "diverging": [
            [
             0,
             "#8e0152"
            ],
            [
             0.1,
             "#c51b7d"
            ],
            [
             0.2,
             "#de77ae"
            ],
            [
             0.3,
             "#f1b6da"
            ],
            [
             0.4,
             "#fde0ef"
            ],
            [
             0.5,
             "#f7f7f7"
            ],
            [
             0.6,
             "#e6f5d0"
            ],
            [
             0.7,
             "#b8e186"
            ],
            [
             0.8,
             "#7fbc41"
            ],
            [
             0.9,
             "#4d9221"
            ],
            [
             1,
             "#276419"
            ]
           ],
           "sequential": [
            [
             0,
             "#0d0887"
            ],
            [
             0.1111111111111111,
             "#46039f"
            ],
            [
             0.2222222222222222,
             "#7201a8"
            ],
            [
             0.3333333333333333,
             "#9c179e"
            ],
            [
             0.4444444444444444,
             "#bd3786"
            ],
            [
             0.5555555555555556,
             "#d8576b"
            ],
            [
             0.6666666666666666,
             "#ed7953"
            ],
            [
             0.7777777777777778,
             "#fb9f3a"
            ],
            [
             0.8888888888888888,
             "#fdca26"
            ],
            [
             1,
             "#f0f921"
            ]
           ],
           "sequentialminus": [
            [
             0,
             "#0d0887"
            ],
            [
             0.1111111111111111,
             "#46039f"
            ],
            [
             0.2222222222222222,
             "#7201a8"
            ],
            [
             0.3333333333333333,
             "#9c179e"
            ],
            [
             0.4444444444444444,
             "#bd3786"
            ],
            [
             0.5555555555555556,
             "#d8576b"
            ],
            [
             0.6666666666666666,
             "#ed7953"
            ],
            [
             0.7777777777777778,
             "#fb9f3a"
            ],
            [
             0.8888888888888888,
             "#fdca26"
            ],
            [
             1,
             "#f0f921"
            ]
           ]
          },
          "colorway": [
           "#636efa",
           "#EF553B",
           "#00cc96",
           "#ab63fa",
           "#FFA15A",
           "#19d3f3",
           "#FF6692",
           "#B6E880",
           "#FF97FF",
           "#FECB52"
          ],
          "font": {
           "color": "#2a3f5f"
          },
          "geo": {
           "bgcolor": "white",
           "lakecolor": "white",
           "landcolor": "#E5ECF6",
           "showlakes": true,
           "showland": true,
           "subunitcolor": "white"
          },
          "hoverlabel": {
           "align": "left"
          },
          "hovermode": "closest",
          "mapbox": {
           "style": "light"
          },
          "paper_bgcolor": "white",
          "plot_bgcolor": "#E5ECF6",
          "polar": {
           "angularaxis": {
            "gridcolor": "white",
            "linecolor": "white",
            "ticks": ""
           },
           "bgcolor": "#E5ECF6",
           "radialaxis": {
            "gridcolor": "white",
            "linecolor": "white",
            "ticks": ""
           }
          },
          "scene": {
           "xaxis": {
            "backgroundcolor": "#E5ECF6",
            "gridcolor": "white",
            "gridwidth": 2,
            "linecolor": "white",
            "showbackground": true,
            "ticks": "",
            "zerolinecolor": "white"
           },
           "yaxis": {
            "backgroundcolor": "#E5ECF6",
            "gridcolor": "white",
            "gridwidth": 2,
            "linecolor": "white",
            "showbackground": true,
            "ticks": "",
            "zerolinecolor": "white"
           },
           "zaxis": {
            "backgroundcolor": "#E5ECF6",
            "gridcolor": "white",
            "gridwidth": 2,
            "linecolor": "white",
            "showbackground": true,
            "ticks": "",
            "zerolinecolor": "white"
           }
          },
          "shapedefaults": {
           "line": {
            "color": "#2a3f5f"
           }
          },
          "ternary": {
           "aaxis": {
            "gridcolor": "white",
            "linecolor": "white",
            "ticks": ""
           },
           "baxis": {
            "gridcolor": "white",
            "linecolor": "white",
            "ticks": ""
           },
           "bgcolor": "#E5ECF6",
           "caxis": {
            "gridcolor": "white",
            "linecolor": "white",
            "ticks": ""
           }
          },
          "title": {
           "x": 0.05
          },
          "xaxis": {
           "automargin": true,
           "gridcolor": "white",
           "linecolor": "white",
           "ticks": "",
           "title": {
            "standoff": 15
           },
           "zerolinecolor": "white",
           "zerolinewidth": 2
          },
          "yaxis": {
           "automargin": true,
           "gridcolor": "white",
           "linecolor": "white",
           "ticks": "",
           "title": {
            "standoff": 15
           },
           "zerolinecolor": "white",
           "zerolinewidth": 2
          }
         }
        },
        "title": {
         "text": "Path patching results H30.10 Value"
        },
        "width": 500,
        "xaxis": {
         "anchor": "y",
         "constrain": "domain",
         "domain": [
          0,
          1
         ],
         "scaleanchor": "y",
         "title": {
          "text": "Layer"
         }
        },
        "yaxis": {
         "anchor": "x",
         "autorange": "reversed",
         "constrain": "domain",
         "domain": [
          0,
          1
         ],
         "title": {
          "text": "Head"
         }
        }
       }
      }
     },
     "metadata": {},
     "output_type": "display_data"
    },
    {
     "data": {
      "application/vnd.plotly.v1+json": {
       "config": {
        "plotlyServerURL": "https://plot.ly",
        "staticPlot": false
       },
       "data": [
        {
         "coloraxis": "coloraxis",
         "hovertemplate": "Layer: %{x}<br>Head: %{y}<br>Logit diff. variation: %{z}<extra></extra>",
         "name": "0",
         "type": "heatmap",
         "xaxis": "x",
         "yaxis": "y",
         "z": {
          "bdata": "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",
          "dtype": "f4",
          "shape": "32, 32"
         }
        }
       ],
       "layout": {
        "coloraxis": {
         "cmid": 0,
         "colorbar": {
          "ticksuffix": "%",
          "title": {
           "text": "Logit diff. variation"
          }
         },
         "colorscale": [
          [
           0,
           "rgb(103,0,31)"
          ],
          [
           0.1,
           "rgb(178,24,43)"
          ],
          [
           0.2,
           "rgb(214,96,77)"
          ],
          [
           0.3,
           "rgb(244,165,130)"
          ],
          [
           0.4,
           "rgb(253,219,199)"
          ],
          [
           0.5,
           "rgb(247,247,247)"
          ],
          [
           0.6,
           "rgb(209,229,240)"
          ],
          [
           0.7,
           "rgb(146,197,222)"
          ],
          [
           0.8,
           "rgb(67,147,195)"
          ],
          [
           0.9,
           "rgb(33,102,172)"
          ],
          [
           1,
           "rgb(5,48,97)"
          ]
         ]
        },
        "height": 400,
        "template": {
         "data": {
          "bar": [
           {
            "error_x": {
             "color": "#2a3f5f"
            },
            "error_y": {
             "color": "#2a3f5f"
            },
            "marker": {
             "line": {
              "color": "#E5ECF6",
              "width": 0.5
             },
             "pattern": {
              "fillmode": "overlay",
              "size": 10,
              "solidity": 0.2
             }
            },
            "type": "bar"
           }
          ],
          "barpolar": [
           {
            "marker": {
             "line": {
              "color": "#E5ECF6",
              "width": 0.5
             },
             "pattern": {
              "fillmode": "overlay",
              "size": 10,
              "solidity": 0.2
             }
            },
            "type": "barpolar"
           }
          ],
          "carpet": [
           {
            "aaxis": {
             "endlinecolor": "#2a3f5f",
             "gridcolor": "white",
             "linecolor": "white",
             "minorgridcolor": "white",
             "startlinecolor": "#2a3f5f"
            },
            "baxis": {
             "endlinecolor": "#2a3f5f",
             "gridcolor": "white",
             "linecolor": "white",
             "minorgridcolor": "white",
             "startlinecolor": "#2a3f5f"
            },
            "type": "carpet"
           }
          ],
          "choropleth": [
           {
            "colorbar": {
             "outlinewidth": 0,
             "ticks": ""
            },
            "type": "choropleth"
           }
          ],
          "contour": [
           {
            "colorbar": {
             "outlinewidth": 0,
             "ticks": ""
            },
            "colorscale": [
             [
              0,
              "#0d0887"
             ],
             [
              0.1111111111111111,
              "#46039f"
             ],
             [
              0.2222222222222222,
              "#7201a8"
             ],
             [
              0.3333333333333333,
              "#9c179e"
             ],
             [
              0.4444444444444444,
              "#bd3786"
             ],
             [
              0.5555555555555556,
              "#d8576b"
             ],
             [
              0.6666666666666666,
              "#ed7953"
             ],
             [
              0.7777777777777778,
              "#fb9f3a"
             ],
             [
              0.8888888888888888,
              "#fdca26"
             ],
             [
              1,
              "#f0f921"
             ]
            ],
            "type": "contour"
           }
          ],
          "contourcarpet": [
           {
            "colorbar": {
             "outlinewidth": 0,
             "ticks": ""
            },
            "type": "contourcarpet"
           }
          ],
          "heatmap": [
           {
            "colorbar": {
             "outlinewidth": 0,
             "ticks": ""
            },
            "colorscale": [
             [
              0,
              "#0d0887"
             ],
             [
              0.1111111111111111,
              "#46039f"
             ],
             [
              0.2222222222222222,
              "#7201a8"
             ],
             [
              0.3333333333333333,
              "#9c179e"
             ],
             [
              0.4444444444444444,
              "#bd3786"
             ],
             [
              0.5555555555555556,
              "#d8576b"
             ],
             [
              0.6666666666666666,
              "#ed7953"
             ],
             [
              0.7777777777777778,
              "#fb9f3a"
             ],
             [
              0.8888888888888888,
              "#fdca26"
             ],
             [
              1,
              "#f0f921"
             ]
            ],
            "type": "heatmap"
           }
          ],
          "histogram": [
           {
            "marker": {
             "pattern": {
              "fillmode": "overlay",
              "size": 10,
              "solidity": 0.2
             }
            },
            "type": "histogram"
           }
          ],
          "histogram2d": [
           {
            "colorbar": {
             "outlinewidth": 0,
             "ticks": ""
            },
            "colorscale": [
             [
              0,
              "#0d0887"
             ],
             [
              0.1111111111111111,
              "#46039f"
             ],
             [
              0.2222222222222222,
              "#7201a8"
             ],
             [
              0.3333333333333333,
              "#9c179e"
             ],
             [
              0.4444444444444444,
              "#bd3786"
             ],
             [
              0.5555555555555556,
              "#d8576b"
             ],
             [
              0.6666666666666666,
              "#ed7953"
             ],
             [
              0.7777777777777778,
              "#fb9f3a"
             ],
             [
              0.8888888888888888,
              "#fdca26"
             ],
             [
              1,
              "#f0f921"
             ]
            ],
            "type": "histogram2d"
           }
          ],
          "histogram2dcontour": [
           {
            "colorbar": {
             "outlinewidth": 0,
             "ticks": ""
            },
            "colorscale": [
             [
              0,
              "#0d0887"
             ],
             [
              0.1111111111111111,
              "#46039f"
             ],
             [
              0.2222222222222222,
              "#7201a8"
             ],
             [
              0.3333333333333333,
              "#9c179e"
             ],
             [
              0.4444444444444444,
              "#bd3786"
             ],
             [
              0.5555555555555556,
              "#d8576b"
             ],
             [
              0.6666666666666666,
              "#ed7953"
             ],
             [
              0.7777777777777778,
              "#fb9f3a"
             ],
             [
              0.8888888888888888,
              "#fdca26"
             ],
             [
              1,
              "#f0f921"
             ]
            ],
            "type": "histogram2dcontour"
           }
          ],
          "mesh3d": [
           {
            "colorbar": {
             "outlinewidth": 0,
             "ticks": ""
            },
            "type": "mesh3d"
           }
          ],
          "parcoords": [
           {
            "line": {
             "colorbar": {
              "outlinewidth": 0,
              "ticks": ""
             }
            },
            "type": "parcoords"
           }
          ],
          "pie": [
           {
            "automargin": true,
            "type": "pie"
           }
          ],
          "scatter": [
           {
            "fillpattern": {
             "fillmode": "overlay",
             "size": 10,
             "solidity": 0.2
            },
            "type": "scatter"
           }
          ],
          "scatter3d": [
           {
            "line": {
             "colorbar": {
              "outlinewidth": 0,
              "ticks": ""
             }
            },
            "marker": {
             "colorbar": {
              "outlinewidth": 0,
              "ticks": ""
             }
            },
            "type": "scatter3d"
           }
          ],
          "scattercarpet": [
           {
            "marker": {
             "colorbar": {
              "outlinewidth": 0,
              "ticks": ""
             }
            },
            "type": "scattercarpet"
           }
          ],
          "scattergeo": [
           {
            "marker": {
             "colorbar": {
              "outlinewidth": 0,
              "ticks": ""
             }
            },
            "type": "scattergeo"
           }
          ],
          "scattergl": [
           {
            "marker": {
             "colorbar": {
              "outlinewidth": 0,
              "ticks": ""
             }
            },
            "type": "scattergl"
           }
          ],
          "scattermap": [
           {
            "marker": {
             "colorbar": {
              "outlinewidth": 0,
              "ticks": ""
             }
            },
            "type": "scattermap"
           }
          ],
          "scattermapbox": [
           {
            "marker": {
             "colorbar": {
              "outlinewidth": 0,
              "ticks": ""
             }
            },
            "type": "scattermapbox"
           }
          ],
          "scatterpolar": [
           {
            "marker": {
             "colorbar": {
              "outlinewidth": 0,
              "ticks": ""
             }
            },
            "type": "scatterpolar"
           }
          ],
          "scatterpolargl": [
           {
            "marker": {
             "colorbar": {
              "outlinewidth": 0,
              "ticks": ""
             }
            },
            "type": "scatterpolargl"
           }
          ],
          "scatterternary": [
           {
            "marker": {
             "colorbar": {
              "outlinewidth": 0,
              "ticks": ""
             }
            },
            "type": "scatterternary"
           }
          ],
          "surface": [
           {
            "colorbar": {
             "outlinewidth": 0,
             "ticks": ""
            },
            "colorscale": [
             [
              0,
              "#0d0887"
             ],
             [
              0.1111111111111111,
              "#46039f"
             ],
             [
              0.2222222222222222,
              "#7201a8"
             ],
             [
              0.3333333333333333,
              "#9c179e"
             ],
             [
              0.4444444444444444,
              "#bd3786"
             ],
             [
              0.5555555555555556,
              "#d8576b"
             ],
             [
              0.6666666666666666,
              "#ed7953"
             ],
             [
              0.7777777777777778,
              "#fb9f3a"
             ],
             [
              0.8888888888888888,
              "#fdca26"
             ],
             [
              1,
              "#f0f921"
             ]
            ],
            "type": "surface"
           }
          ],
          "table": [
           {
            "cells": {
             "fill": {
              "color": "#EBF0F8"
             },
             "line": {
              "color": "white"
             }
            },
            "header": {
             "fill": {
              "color": "#C8D4E3"
             },
             "line": {
              "color": "white"
             }
            },
            "type": "table"
           }
          ]
         },
         "layout": {
          "annotationdefaults": {
           "arrowcolor": "#2a3f5f",
           "arrowhead": 0,
           "arrowwidth": 1
          },
          "autotypenumbers": "strict",
          "coloraxis": {
           "colorbar": {
            "outlinewidth": 0,
            "ticks": ""
           }
          },
          "colorscale": {
           "diverging": [
            [
             0,
             "#8e0152"
            ],
            [
             0.1,
             "#c51b7d"
            ],
            [
             0.2,
             "#de77ae"
            ],
            [
             0.3,
             "#f1b6da"
            ],
            [
             0.4,
             "#fde0ef"
            ],
            [
             0.5,
             "#f7f7f7"
            ],
            [
             0.6,
             "#e6f5d0"
            ],
            [
             0.7,
             "#b8e186"
            ],
            [
             0.8,
             "#7fbc41"
            ],
            [
             0.9,
             "#4d9221"
            ],
            [
             1,
             "#276419"
            ]
           ],
           "sequential": [
            [
             0,
             "#0d0887"
            ],
            [
             0.1111111111111111,
             "#46039f"
            ],
            [
             0.2222222222222222,
             "#7201a8"
            ],
            [
             0.3333333333333333,
             "#9c179e"
            ],
            [
             0.4444444444444444,
             "#bd3786"
            ],
            [
             0.5555555555555556,
             "#d8576b"
            ],
            [
             0.6666666666666666,
             "#ed7953"
            ],
            [
             0.7777777777777778,
             "#fb9f3a"
            ],
            [
             0.8888888888888888,
             "#fdca26"
            ],
            [
             1,
             "#f0f921"
            ]
           ],
           "sequentialminus": [
            [
             0,
             "#0d0887"
            ],
            [
             0.1111111111111111,
             "#46039f"
            ],
            [
             0.2222222222222222,
             "#7201a8"
            ],
            [
             0.3333333333333333,
             "#9c179e"
            ],
            [
             0.4444444444444444,
             "#bd3786"
            ],
            [
             0.5555555555555556,
             "#d8576b"
            ],
            [
             0.6666666666666666,
             "#ed7953"
            ],
            [
             0.7777777777777778,
             "#fb9f3a"
            ],
            [
             0.8888888888888888,
             "#fdca26"
            ],
            [
             1,
             "#f0f921"
            ]
           ]
          },
          "colorway": [
           "#636efa",
           "#EF553B",
           "#00cc96",
           "#ab63fa",
           "#FFA15A",
           "#19d3f3",
           "#FF6692",
           "#B6E880",
           "#FF97FF",
           "#FECB52"
          ],
          "font": {
           "color": "#2a3f5f"
          },
          "geo": {
           "bgcolor": "white",
           "lakecolor": "white",
           "landcolor": "#E5ECF6",
           "showlakes": true,
           "showland": true,
           "subunitcolor": "white"
          },
          "hoverlabel": {
           "align": "left"
          },
          "hovermode": "closest",
          "mapbox": {
           "style": "light"
          },
          "paper_bgcolor": "white",
          "plot_bgcolor": "#E5ECF6",
          "polar": {
           "angularaxis": {
            "gridcolor": "white",
            "linecolor": "white",
            "ticks": ""
           },
           "bgcolor": "#E5ECF6",
           "radialaxis": {
            "gridcolor": "white",
            "linecolor": "white",
            "ticks": ""
           }
          },
          "scene": {
           "xaxis": {
            "backgroundcolor": "#E5ECF6",
            "gridcolor": "white",
            "gridwidth": 2,
            "linecolor": "white",
            "showbackground": true,
            "ticks": "",
            "zerolinecolor": "white"
           },
           "yaxis": {
            "backgroundcolor": "#E5ECF6",
            "gridcolor": "white",
            "gridwidth": 2,
            "linecolor": "white",
            "showbackground": true,
            "ticks": "",
            "zerolinecolor": "white"
           },
           "zaxis": {
            "backgroundcolor": "#E5ECF6",
            "gridcolor": "white",
            "gridwidth": 2,
            "linecolor": "white",
            "showbackground": true,
            "ticks": "",
            "zerolinecolor": "white"
           }
          },
          "shapedefaults": {
           "line": {
            "color": "#2a3f5f"
           }
          },
          "ternary": {
           "aaxis": {
            "gridcolor": "white",
            "linecolor": "white",
            "ticks": ""
           },
           "baxis": {
            "gridcolor": "white",
            "linecolor": "white",
            "ticks": ""
           },
           "bgcolor": "#E5ECF6",
           "caxis": {
            "gridcolor": "white",
            "linecolor": "white",
            "ticks": ""
           }
          },
          "title": {
           "x": 0.05
          },
          "xaxis": {
           "automargin": true,
           "gridcolor": "white",
           "linecolor": "white",
           "ticks": "",
           "title": {
            "standoff": 15
           },
           "zerolinecolor": "white",
           "zerolinewidth": 2
          },
          "yaxis": {
           "automargin": true,
           "gridcolor": "white",
           "linecolor": "white",
           "ticks": "",
           "title": {
            "standoff": 15
           },
           "zerolinecolor": "white",
           "zerolinewidth": 2
          }
         }
        },
        "title": {
         "text": "Path patching results H30.8 Value"
        },
        "width": 500,
        "xaxis": {
         "anchor": "y",
         "constrain": "domain",
         "domain": [
          0,
          1
         ],
         "scaleanchor": "y",
         "title": {
          "text": "Layer"
         }
        },
        "yaxis": {
         "anchor": "x",
         "autorange": "reversed",
         "constrain": "domain",
         "domain": [
          0,
          1
         ],
         "title": {
          "text": "Head"
         }
        }
       }
      }
     },
     "metadata": {},
     "output_type": "display_data"
    },
    {
     "data": {
      "application/vnd.plotly.v1+json": {
       "config": {
        "plotlyServerURL": "https://plot.ly",
        "staticPlot": false
       },
       "data": [
        {
         "coloraxis": "coloraxis",
         "hovertemplate": "Layer: %{x}<br>Head: %{y}<br>Logit diff. variation: %{z}<extra></extra>",
         "name": "0",
         "type": "heatmap",
         "xaxis": "x",
         "yaxis": "y",
         "z": {
          "bdata": "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",
          "dtype": "f4",
          "shape": "32, 32"
         }
        }
       ],
       "layout": {
        "coloraxis": {
         "cmid": 0,
         "colorbar": {
          "ticksuffix": "%",
          "title": {
           "text": "Logit diff. variation"
          }
         },
         "colorscale": [
          [
           0,
           "rgb(103,0,31)"
          ],
          [
           0.1,
           "rgb(178,24,43)"
          ],
          [
           0.2,
           "rgb(214,96,77)"
          ],
          [
           0.3,
           "rgb(244,165,130)"
          ],
          [
           0.4,
           "rgb(253,219,199)"
          ],
          [
           0.5,
           "rgb(247,247,247)"
          ],
          [
           0.6,
           "rgb(209,229,240)"
          ],
          [
           0.7,
           "rgb(146,197,222)"
          ],
          [
           0.8,
           "rgb(67,147,195)"
          ],
          [
           0.9,
           "rgb(33,102,172)"
          ],
          [
           1,
           "rgb(5,48,97)"
          ]
         ]
        },
        "height": 400,
        "template": {
         "data": {
          "bar": [
           {
            "error_x": {
             "color": "#2a3f5f"
            },
            "error_y": {
             "color": "#2a3f5f"
            },
            "marker": {
             "line": {
              "color": "#E5ECF6",
              "width": 0.5
             },
             "pattern": {
              "fillmode": "overlay",
              "size": 10,
              "solidity": 0.2
             }
            },
            "type": "bar"
           }
          ],
          "barpolar": [
           {
            "marker": {
             "line": {
              "color": "#E5ECF6",
              "width": 0.5
             },
             "pattern": {
              "fillmode": "overlay",
              "size": 10,
              "solidity": 0.2
             }
            },
            "type": "barpolar"
           }
          ],
          "carpet": [
           {
            "aaxis": {
             "endlinecolor": "#2a3f5f",
             "gridcolor": "white",
             "linecolor": "white",
             "minorgridcolor": "white",
             "startlinecolor": "#2a3f5f"
            },
            "baxis": {
             "endlinecolor": "#2a3f5f",
             "gridcolor": "white",
             "linecolor": "white",
             "minorgridcolor": "white",
             "startlinecolor": "#2a3f5f"
            },
            "type": "carpet"
           }
          ],
          "choropleth": [
           {
            "colorbar": {
             "outlinewidth": 0,
             "ticks": ""
            },
            "type": "choropleth"
           }
          ],
          "contour": [
           {
            "colorbar": {
             "outlinewidth": 0,
             "ticks": ""
            },
            "colorscale": [
             [
              0,
              "#0d0887"
             ],
             [
              0.1111111111111111,
              "#46039f"
             ],
             [
              0.2222222222222222,
              "#7201a8"
             ],
             [
              0.3333333333333333,
              "#9c179e"
             ],
             [
              0.4444444444444444,
              "#bd3786"
             ],
             [
              0.5555555555555556,
              "#d8576b"
             ],
             [
              0.6666666666666666,
              "#ed7953"
             ],
             [
              0.7777777777777778,
              "#fb9f3a"
             ],
             [
              0.8888888888888888,
              "#fdca26"
             ],
             [
              1,
              "#f0f921"
             ]
            ],
            "type": "contour"
           }
          ],
          "contourcarpet": [
           {
            "colorbar": {
             "outlinewidth": 0,
             "ticks": ""
            },
            "type": "contourcarpet"
           }
          ],
          "heatmap": [
           {
            "colorbar": {
             "outlinewidth": 0,
             "ticks": ""
            },
            "colorscale": [
             [
              0,
              "#0d0887"
             ],
             [
              0.1111111111111111,
              "#46039f"
             ],
             [
              0.2222222222222222,
              "#7201a8"
             ],
             [
              0.3333333333333333,
              "#9c179e"
             ],
             [
              0.4444444444444444,
              "#bd3786"
             ],
             [
              0.5555555555555556,
              "#d8576b"
             ],
             [
              0.6666666666666666,
              "#ed7953"
             ],
             [
              0.7777777777777778,
              "#fb9f3a"
             ],
             [
              0.8888888888888888,
              "#fdca26"
             ],
             [
              1,
              "#f0f921"
             ]
            ],
            "type": "heatmap"
           }
          ],
          "histogram": [
           {
            "marker": {
             "pattern": {
              "fillmode": "overlay",
              "size": 10,
              "solidity": 0.2
             }
            },
            "type": "histogram"
           }
          ],
          "histogram2d": [
           {
            "colorbar": {
             "outlinewidth": 0,
             "ticks": ""
            },
            "colorscale": [
             [
              0,
              "#0d0887"
             ],
             [
              0.1111111111111111,
              "#46039f"
             ],
             [
              0.2222222222222222,
              "#7201a8"
             ],
             [
              0.3333333333333333,
              "#9c179e"
             ],
             [
              0.4444444444444444,
              "#bd3786"
             ],
             [
              0.5555555555555556,
              "#d8576b"
             ],
             [
              0.6666666666666666,
              "#ed7953"
             ],
             [
              0.7777777777777778,
              "#fb9f3a"
             ],
             [
              0.8888888888888888,
              "#fdca26"
             ],
             [
              1,
              "#f0f921"
             ]
            ],
            "type": "histogram2d"
           }
          ],
          "histogram2dcontour": [
           {
            "colorbar": {
             "outlinewidth": 0,
             "ticks": ""
            },
            "colorscale": [
             [
              0,
              "#0d0887"
             ],
             [
              0.1111111111111111,
              "#46039f"
             ],
             [
              0.2222222222222222,
              "#7201a8"
             ],
             [
              0.3333333333333333,
              "#9c179e"
             ],
             [
              0.4444444444444444,
              "#bd3786"
             ],
             [
              0.5555555555555556,
              "#d8576b"
             ],
             [
              0.6666666666666666,
              "#ed7953"
             ],
             [
              0.7777777777777778,
              "#fb9f3a"
             ],
             [
              0.8888888888888888,
              "#fdca26"
             ],
             [
              1,
              "#f0f921"
             ]
            ],
            "type": "histogram2dcontour"
           }
          ],
          "mesh3d": [
           {
            "colorbar": {
             "outlinewidth": 0,
             "ticks": ""
            },
            "type": "mesh3d"
           }
          ],
          "parcoords": [
           {
            "line": {
             "colorbar": {
              "outlinewidth": 0,
              "ticks": ""
             }
            },
            "type": "parcoords"
           }
          ],
          "pie": [
           {
            "automargin": true,
            "type": "pie"
           }
          ],
          "scatter": [
           {
            "fillpattern": {
             "fillmode": "overlay",
             "size": 10,
             "solidity": 0.2
            },
            "type": "scatter"
           }
          ],
          "scatter3d": [
           {
            "line": {
             "colorbar": {
              "outlinewidth": 0,
              "ticks": ""
             }
            },
            "marker": {
             "colorbar": {
              "outlinewidth": 0,
              "ticks": ""
             }
            },
            "type": "scatter3d"
           }
          ],
          "scattercarpet": [
           {
            "marker": {
             "colorbar": {
              "outlinewidth": 0,
              "ticks": ""
             }
            },
            "type": "scattercarpet"
           }
          ],
          "scattergeo": [
           {
            "marker": {
             "colorbar": {
              "outlinewidth": 0,
              "ticks": ""
             }
            },
            "type": "scattergeo"
           }
          ],
          "scattergl": [
           {
            "marker": {
             "colorbar": {
              "outlinewidth": 0,
              "ticks": ""
             }
            },
            "type": "scattergl"
           }
          ],
          "scattermap": [
           {
            "marker": {
             "colorbar": {
              "outlinewidth": 0,
              "ticks": ""
             }
            },
            "type": "scattermap"
           }
          ],
          "scattermapbox": [
           {
            "marker": {
             "colorbar": {
              "outlinewidth": 0,
              "ticks": ""
             }
            },
            "type": "scattermapbox"
           }
          ],
          "scatterpolar": [
           {
            "marker": {
             "colorbar": {
              "outlinewidth": 0,
              "ticks": ""
             }
            },
            "type": "scatterpolar"
           }
          ],
          "scatterpolargl": [
           {
            "marker": {
             "colorbar": {
              "outlinewidth": 0,
              "ticks": ""
             }
            },
            "type": "scatterpolargl"
           }
          ],
          "scatterternary": [
           {
            "marker": {
             "colorbar": {
              "outlinewidth": 0,
              "ticks": ""
             }
            },
            "type": "scatterternary"
           }
          ],
          "surface": [
           {
            "colorbar": {
             "outlinewidth": 0,
             "ticks": ""
            },
            "colorscale": [
             [
              0,
              "#0d0887"
             ],
             [
              0.1111111111111111,
              "#46039f"
             ],
             [
              0.2222222222222222,
              "#7201a8"
             ],
             [
              0.3333333333333333,
              "#9c179e"
             ],
             [
              0.4444444444444444,
              "#bd3786"
             ],
             [
              0.5555555555555556,
              "#d8576b"
             ],
             [
              0.6666666666666666,
              "#ed7953"
             ],
             [
              0.7777777777777778,
              "#fb9f3a"
             ],
             [
              0.8888888888888888,
              "#fdca26"
             ],
             [
              1,
              "#f0f921"
             ]
            ],
            "type": "surface"
           }
          ],
          "table": [
           {
            "cells": {
             "fill": {
              "color": "#EBF0F8"
             },
             "line": {
              "color": "white"
             }
            },
            "header": {
             "fill": {
              "color": "#C8D4E3"
             },
             "line": {
              "color": "white"
             }
            },
            "type": "table"
           }
          ]
         },
         "layout": {
          "annotationdefaults": {
           "arrowcolor": "#2a3f5f",
           "arrowhead": 0,
           "arrowwidth": 1
          },
          "autotypenumbers": "strict",
          "coloraxis": {
           "colorbar": {
            "outlinewidth": 0,
            "ticks": ""
           }
          },
          "colorscale": {
           "diverging": [
            [
             0,
             "#8e0152"
            ],
            [
             0.1,
             "#c51b7d"
            ],
            [
             0.2,
             "#de77ae"
            ],
            [
             0.3,
             "#f1b6da"
            ],
            [
             0.4,
             "#fde0ef"
            ],
            [
             0.5,
             "#f7f7f7"
            ],
            [
             0.6,
             "#e6f5d0"
            ],
            [
             0.7,
             "#b8e186"
            ],
            [
             0.8,
             "#7fbc41"
            ],
            [
             0.9,
             "#4d9221"
            ],
            [
             1,
             "#276419"
            ]
           ],
           "sequential": [
            [
             0,
             "#0d0887"
            ],
            [
             0.1111111111111111,
             "#46039f"
            ],
            [
             0.2222222222222222,
             "#7201a8"
            ],
            [
             0.3333333333333333,
             "#9c179e"
            ],
            [
             0.4444444444444444,
             "#bd3786"
            ],
            [
             0.5555555555555556,
             "#d8576b"
            ],
            [
             0.6666666666666666,
             "#ed7953"
            ],
            [
             0.7777777777777778,
             "#fb9f3a"
            ],
            [
             0.8888888888888888,
             "#fdca26"
            ],
            [
             1,
             "#f0f921"
            ]
           ],
           "sequentialminus": [
            [
             0,
             "#0d0887"
            ],
            [
             0.1111111111111111,
             "#46039f"
            ],
            [
             0.2222222222222222,
             "#7201a8"
            ],
            [
             0.3333333333333333,
             "#9c179e"
            ],
            [
             0.4444444444444444,
             "#bd3786"
            ],
            [
             0.5555555555555556,
             "#d8576b"
            ],
            [
             0.6666666666666666,
             "#ed7953"
            ],
            [
             0.7777777777777778,
             "#fb9f3a"
            ],
            [
             0.8888888888888888,
             "#fdca26"
            ],
            [
             1,
             "#f0f921"
            ]
           ]
          },
          "colorway": [
           "#636efa",
           "#EF553B",
           "#00cc96",
           "#ab63fa",
           "#FFA15A",
           "#19d3f3",
           "#FF6692",
           "#B6E880",
           "#FF97FF",
           "#FECB52"
          ],
          "font": {
           "color": "#2a3f5f"
          },
          "geo": {
           "bgcolor": "white",
           "lakecolor": "white",
           "landcolor": "#E5ECF6",
           "showlakes": true,
           "showland": true,
           "subunitcolor": "white"
          },
          "hoverlabel": {
           "align": "left"
          },
          "hovermode": "closest",
          "mapbox": {
           "style": "light"
          },
          "paper_bgcolor": "white",
          "plot_bgcolor": "#E5ECF6",
          "polar": {
           "angularaxis": {
            "gridcolor": "white",
            "linecolor": "white",
            "ticks": ""
           },
           "bgcolor": "#E5ECF6",
           "radialaxis": {
            "gridcolor": "white",
            "linecolor": "white",
            "ticks": ""
           }
          },
          "scene": {
           "xaxis": {
            "backgroundcolor": "#E5ECF6",
            "gridcolor": "white",
            "gridwidth": 2,
            "linecolor": "white",
            "showbackground": true,
            "ticks": "",
            "zerolinecolor": "white"
           },
           "yaxis": {
            "backgroundcolor": "#E5ECF6",
            "gridcolor": "white",
            "gridwidth": 2,
            "linecolor": "white",
            "showbackground": true,
            "ticks": "",
            "zerolinecolor": "white"
           },
           "zaxis": {
            "backgroundcolor": "#E5ECF6",
            "gridcolor": "white",
            "gridwidth": 2,
            "linecolor": "white",
            "showbackground": true,
            "ticks": "",
            "zerolinecolor": "white"
           }
          },
          "shapedefaults": {
           "line": {
            "color": "#2a3f5f"
           }
          },
          "ternary": {
           "aaxis": {
            "gridcolor": "white",
            "linecolor": "white",
            "ticks": ""
           },
           "baxis": {
            "gridcolor": "white",
            "linecolor": "white",
            "ticks": ""
           },
           "bgcolor": "#E5ECF6",
           "caxis": {
            "gridcolor": "white",
            "linecolor": "white",
            "ticks": ""
           }
          },
          "title": {
           "x": 0.05
          },
          "xaxis": {
           "automargin": true,
           "gridcolor": "white",
           "linecolor": "white",
           "ticks": "",
           "title": {
            "standoff": 15
           },
           "zerolinecolor": "white",
           "zerolinewidth": 2
          },
          "yaxis": {
           "automargin": true,
           "gridcolor": "white",
           "linecolor": "white",
           "ticks": "",
           "title": {
            "standoff": 15
           },
           "zerolinecolor": "white",
           "zerolinewidth": 2
          }
         }
        },
        "title": {
         "text": "Path patching results H30.4 Value"
        },
        "width": 500,
        "xaxis": {
         "anchor": "y",
         "constrain": "domain",
         "domain": [
          0,
          1
         ],
         "scaleanchor": "y",
         "title": {
          "text": "Layer"
         }
        },
        "yaxis": {
         "anchor": "x",
         "autorange": "reversed",
         "constrain": "domain",
         "domain": [
          0,
          1
         ],
         "title": {
          "text": "Head"
         }
        }
       }
      }
     },
     "metadata": {},
     "output_type": "display_data"
    },
    {
     "data": {
      "application/vnd.plotly.v1+json": {
       "config": {
        "plotlyServerURL": "https://plot.ly",
        "staticPlot": false
       },
       "data": [
        {
         "coloraxis": "coloraxis",
         "hovertemplate": "Layer: %{x}<br>Head: %{y}<br>Logit diff. variation: %{z}<extra></extra>",
         "name": "0",
         "type": "heatmap",
         "xaxis": "x",
         "yaxis": "y",
         "z": {
          "bdata": "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",
          "dtype": "f4",
          "shape": "32, 32"
         }
        }
       ],
       "layout": {
        "coloraxis": {
         "cmid": 0,
         "colorbar": {
          "ticksuffix": "%",
          "title": {
           "text": "Logit diff. variation"
          }
         },
         "colorscale": [
          [
           0,
           "rgb(103,0,31)"
          ],
          [
           0.1,
           "rgb(178,24,43)"
          ],
          [
           0.2,
           "rgb(214,96,77)"
          ],
          [
           0.3,
           "rgb(244,165,130)"
          ],
          [
           0.4,
           "rgb(253,219,199)"
          ],
          [
           0.5,
           "rgb(247,247,247)"
          ],
          [
           0.6,
           "rgb(209,229,240)"
          ],
          [
           0.7,
           "rgb(146,197,222)"
          ],
          [
           0.8,
           "rgb(67,147,195)"
          ],
          [
           0.9,
           "rgb(33,102,172)"
          ],
          [
           1,
           "rgb(5,48,97)"
          ]
         ]
        },
        "height": 400,
        "template": {
         "data": {
          "bar": [
           {
            "error_x": {
             "color": "#2a3f5f"
            },
            "error_y": {
             "color": "#2a3f5f"
            },
            "marker": {
             "line": {
              "color": "#E5ECF6",
              "width": 0.5
             },
             "pattern": {
              "fillmode": "overlay",
              "size": 10,
              "solidity": 0.2
             }
            },
            "type": "bar"
           }
          ],
          "barpolar": [
           {
            "marker": {
             "line": {
              "color": "#E5ECF6",
              "width": 0.5
             },
             "pattern": {
              "fillmode": "overlay",
              "size": 10,
              "solidity": 0.2
             }
            },
            "type": "barpolar"
           }
          ],
          "carpet": [
           {
            "aaxis": {
             "endlinecolor": "#2a3f5f",
             "gridcolor": "white",
             "linecolor": "white",
             "minorgridcolor": "white",
             "startlinecolor": "#2a3f5f"
            },
            "baxis": {
             "endlinecolor": "#2a3f5f",
             "gridcolor": "white",
             "linecolor": "white",
             "minorgridcolor": "white",
             "startlinecolor": "#2a3f5f"
            },
            "type": "carpet"
           }
          ],
          "choropleth": [
           {
            "colorbar": {
             "outlinewidth": 0,
             "ticks": ""
            },
            "type": "choropleth"
           }
          ],
          "contour": [
           {
            "colorbar": {
             "outlinewidth": 0,
             "ticks": ""
            },
            "colorscale": [
             [
              0,
              "#0d0887"
             ],
             [
              0.1111111111111111,
              "#46039f"
             ],
             [
              0.2222222222222222,
              "#7201a8"
             ],
             [
              0.3333333333333333,
              "#9c179e"
             ],
             [
              0.4444444444444444,
              "#bd3786"
             ],
             [
              0.5555555555555556,
              "#d8576b"
             ],
             [
              0.6666666666666666,
              "#ed7953"
             ],
             [
              0.7777777777777778,
              "#fb9f3a"
             ],
             [
              0.8888888888888888,
              "#fdca26"
             ],
             [
              1,
              "#f0f921"
             ]
            ],
            "type": "contour"
           }
          ],
          "contourcarpet": [
           {
            "colorbar": {
             "outlinewidth": 0,
             "ticks": ""
            },
            "type": "contourcarpet"
           }
          ],
          "heatmap": [
           {
            "colorbar": {
             "outlinewidth": 0,
             "ticks": ""
            },
            "colorscale": [
             [
              0,
              "#0d0887"
             ],
             [
              0.1111111111111111,
              "#46039f"
             ],
             [
              0.2222222222222222,
              "#7201a8"
             ],
             [
              0.3333333333333333,
              "#9c179e"
             ],
             [
              0.4444444444444444,
              "#bd3786"
             ],
             [
              0.5555555555555556,
              "#d8576b"
             ],
             [
              0.6666666666666666,
              "#ed7953"
             ],
             [
              0.7777777777777778,
              "#fb9f3a"
             ],
             [
              0.8888888888888888,
              "#fdca26"
             ],
             [
              1,
              "#f0f921"
             ]
            ],
            "type": "heatmap"
           }
          ],
          "histogram": [
           {
            "marker": {
             "pattern": {
              "fillmode": "overlay",
              "size": 10,
              "solidity": 0.2
             }
            },
            "type": "histogram"
           }
          ],
          "histogram2d": [
           {
            "colorbar": {
             "outlinewidth": 0,
             "ticks": ""
            },
            "colorscale": [
             [
              0,
              "#0d0887"
             ],
             [
              0.1111111111111111,
              "#46039f"
             ],
             [
              0.2222222222222222,
              "#7201a8"
             ],
             [
              0.3333333333333333,
              "#9c179e"
             ],
             [
              0.4444444444444444,
              "#bd3786"
             ],
             [
              0.5555555555555556,
              "#d8576b"
             ],
             [
              0.6666666666666666,
              "#ed7953"
             ],
             [
              0.7777777777777778,
              "#fb9f3a"
             ],
             [
              0.8888888888888888,
              "#fdca26"
             ],
             [
              1,
              "#f0f921"
             ]
            ],
            "type": "histogram2d"
           }
          ],
          "histogram2dcontour": [
           {
            "colorbar": {
             "outlinewidth": 0,
             "ticks": ""
            },
            "colorscale": [
             [
              0,
              "#0d0887"
             ],
             [
              0.1111111111111111,
              "#46039f"
             ],
             [
              0.2222222222222222,
              "#7201a8"
             ],
             [
              0.3333333333333333,
              "#9c179e"
             ],
             [
              0.4444444444444444,
              "#bd3786"
             ],
             [
              0.5555555555555556,
              "#d8576b"
             ],
             [
              0.6666666666666666,
              "#ed7953"
             ],
             [
              0.7777777777777778,
              "#fb9f3a"
             ],
             [
              0.8888888888888888,
              "#fdca26"
             ],
             [
              1,
              "#f0f921"
             ]
            ],
            "type": "histogram2dcontour"
           }
          ],
          "mesh3d": [
           {
            "colorbar": {
             "outlinewidth": 0,
             "ticks": ""
            },
            "type": "mesh3d"
           }
          ],
          "parcoords": [
           {
            "line": {
             "colorbar": {
              "outlinewidth": 0,
              "ticks": ""
             }
            },
            "type": "parcoords"
           }
          ],
          "pie": [
           {
            "automargin": true,
            "type": "pie"
           }
          ],
          "scatter": [
           {
            "fillpattern": {
             "fillmode": "overlay",
             "size": 10,
             "solidity": 0.2
            },
            "type": "scatter"
           }
          ],
          "scatter3d": [
           {
            "line": {
             "colorbar": {
              "outlinewidth": 0,
              "ticks": ""
             }
            },
            "marker": {
             "colorbar": {
              "outlinewidth": 0,
              "ticks": ""
             }
            },
            "type": "scatter3d"
           }
          ],
          "scattercarpet": [
           {
            "marker": {
             "colorbar": {
              "outlinewidth": 0,
              "ticks": ""
             }
            },
            "type": "scattercarpet"
           }
          ],
          "scattergeo": [
           {
            "marker": {
             "colorbar": {
              "outlinewidth": 0,
              "ticks": ""
             }
            },
            "type": "scattergeo"
           }
          ],
          "scattergl": [
           {
            "marker": {
             "colorbar": {
              "outlinewidth": 0,
              "ticks": ""
             }
            },
            "type": "scattergl"
           }
          ],
          "scattermap": [
           {
            "marker": {
             "colorbar": {
              "outlinewidth": 0,
              "ticks": ""
             }
            },
            "type": "scattermap"
           }
          ],
          "scattermapbox": [
           {
            "marker": {
             "colorbar": {
              "outlinewidth": 0,
              "ticks": ""
             }
            },
            "type": "scattermapbox"
           }
          ],
          "scatterpolar": [
           {
            "marker": {
             "colorbar": {
              "outlinewidth": 0,
              "ticks": ""
             }
            },
            "type": "scatterpolar"
           }
          ],
          "scatterpolargl": [
           {
            "marker": {
             "colorbar": {
              "outlinewidth": 0,
              "ticks": ""
             }
            },
            "type": "scatterpolargl"
           }
          ],
          "scatterternary": [
           {
            "marker": {
             "colorbar": {
              "outlinewidth": 0,
              "ticks": ""
             }
            },
            "type": "scatterternary"
           }
          ],
          "surface": [
           {
            "colorbar": {
             "outlinewidth": 0,
             "ticks": ""
            },
            "colorscale": [
             [
              0,
              "#0d0887"
             ],
             [
              0.1111111111111111,
              "#46039f"
             ],
             [
              0.2222222222222222,
              "#7201a8"
             ],
             [
              0.3333333333333333,
              "#9c179e"
             ],
             [
              0.4444444444444444,
              "#bd3786"
             ],
             [
              0.5555555555555556,
              "#d8576b"
             ],
             [
              0.6666666666666666,
              "#ed7953"
             ],
             [
              0.7777777777777778,
              "#fb9f3a"
             ],
             [
              0.8888888888888888,
              "#fdca26"
             ],
             [
              1,
              "#f0f921"
             ]
            ],
            "type": "surface"
           }
          ],
          "table": [
           {
            "cells": {
             "fill": {
              "color": "#EBF0F8"
             },
             "line": {
              "color": "white"
             }
            },
            "header": {
             "fill": {
              "color": "#C8D4E3"
             },
             "line": {
              "color": "white"
             }
            },
            "type": "table"
           }
          ]
         },
         "layout": {
          "annotationdefaults": {
           "arrowcolor": "#2a3f5f",
           "arrowhead": 0,
           "arrowwidth": 1
          },
          "autotypenumbers": "strict",
          "coloraxis": {
           "colorbar": {
            "outlinewidth": 0,
            "ticks": ""
           }
          },
          "colorscale": {
           "diverging": [
            [
             0,
             "#8e0152"
            ],
            [
             0.1,
             "#c51b7d"
            ],
            [
             0.2,
             "#de77ae"
            ],
            [
             0.3,
             "#f1b6da"
            ],
            [
             0.4,
             "#fde0ef"
            ],
            [
             0.5,
             "#f7f7f7"
            ],
            [
             0.6,
             "#e6f5d0"
            ],
            [
             0.7,
             "#b8e186"
            ],
            [
             0.8,
             "#7fbc41"
            ],
            [
             0.9,
             "#4d9221"
            ],
            [
             1,
             "#276419"
            ]
           ],
           "sequential": [
            [
             0,
             "#0d0887"
            ],
            [
             0.1111111111111111,
             "#46039f"
            ],
            [
             0.2222222222222222,
             "#7201a8"
            ],
            [
             0.3333333333333333,
             "#9c179e"
            ],
            [
             0.4444444444444444,
             "#bd3786"
            ],
            [
             0.5555555555555556,
             "#d8576b"
            ],
            [
             0.6666666666666666,
             "#ed7953"
            ],
            [
             0.7777777777777778,
             "#fb9f3a"
            ],
            [
             0.8888888888888888,
             "#fdca26"
            ],
            [
             1,
             "#f0f921"
            ]
           ],
           "sequentialminus": [
            [
             0,
             "#0d0887"
            ],
            [
             0.1111111111111111,
             "#46039f"
            ],
            [
             0.2222222222222222,
             "#7201a8"
            ],
            [
             0.3333333333333333,
             "#9c179e"
            ],
            [
             0.4444444444444444,
             "#bd3786"
            ],
            [
             0.5555555555555556,
             "#d8576b"
            ],
            [
             0.6666666666666666,
             "#ed7953"
            ],
            [
             0.7777777777777778,
             "#fb9f3a"
            ],
            [
             0.8888888888888888,
             "#fdca26"
            ],
            [
             1,
             "#f0f921"
            ]
           ]
          },
          "colorway": [
           "#636efa",
           "#EF553B",
           "#00cc96",
           "#ab63fa",
           "#FFA15A",
           "#19d3f3",
           "#FF6692",
           "#B6E880",
           "#FF97FF",
           "#FECB52"
          ],
          "font": {
           "color": "#2a3f5f"
          },
          "geo": {
           "bgcolor": "white",
           "lakecolor": "white",
           "landcolor": "#E5ECF6",
           "showlakes": true,
           "showland": true,
           "subunitcolor": "white"
          },
          "hoverlabel": {
           "align": "left"
          },
          "hovermode": "closest",
          "mapbox": {
           "style": "light"
          },
          "paper_bgcolor": "white",
          "plot_bgcolor": "#E5ECF6",
          "polar": {
           "angularaxis": {
            "gridcolor": "white",
            "linecolor": "white",
            "ticks": ""
           },
           "bgcolor": "#E5ECF6",
           "radialaxis": {
            "gridcolor": "white",
            "linecolor": "white",
            "ticks": ""
           }
          },
          "scene": {
           "xaxis": {
            "backgroundcolor": "#E5ECF6",
            "gridcolor": "white",
            "gridwidth": 2,
            "linecolor": "white",
            "showbackground": true,
            "ticks": "",
            "zerolinecolor": "white"
           },
           "yaxis": {
            "backgroundcolor": "#E5ECF6",
            "gridcolor": "white",
            "gridwidth": 2,
            "linecolor": "white",
            "showbackground": true,
            "ticks": "",
            "zerolinecolor": "white"
           },
           "zaxis": {
            "backgroundcolor": "#E5ECF6",
            "gridcolor": "white",
            "gridwidth": 2,
            "linecolor": "white",
            "showbackground": true,
            "ticks": "",
            "zerolinecolor": "white"
           }
          },
          "shapedefaults": {
           "line": {
            "color": "#2a3f5f"
           }
          },
          "ternary": {
           "aaxis": {
            "gridcolor": "white",
            "linecolor": "white",
            "ticks": ""
           },
           "baxis": {
            "gridcolor": "white",
            "linecolor": "white",
            "ticks": ""
           },
           "bgcolor": "#E5ECF6",
           "caxis": {
            "gridcolor": "white",
            "linecolor": "white",
            "ticks": ""
           }
          },
          "title": {
           "x": 0.05
          },
          "xaxis": {
           "automargin": true,
           "gridcolor": "white",
           "linecolor": "white",
           "ticks": "",
           "title": {
            "standoff": 15
           },
           "zerolinecolor": "white",
           "zerolinewidth": 2
          },
          "yaxis": {
           "automargin": true,
           "gridcolor": "white",
           "linecolor": "white",
           "ticks": "",
           "title": {
            "standoff": 15
           },
           "zerolinecolor": "white",
           "zerolinewidth": 2
          }
         }
        },
        "title": {
         "text": "Path patching results H30.3 Value"
        },
        "width": 500,
        "xaxis": {
         "anchor": "y",
         "constrain": "domain",
         "domain": [
          0,
          1
         ],
         "scaleanchor": "y",
         "title": {
          "text": "Layer"
         }
        },
        "yaxis": {
         "anchor": "x",
         "autorange": "reversed",
         "constrain": "domain",
         "domain": [
          0,
          1
         ],
         "title": {
          "text": "Head"
         }
        }
       }
      }
     },
     "metadata": {},
     "output_type": "display_data"
    },
    {
     "data": {
      "application/vnd.plotly.v1+json": {
       "config": {
        "plotlyServerURL": "https://plot.ly",
        "staticPlot": false
       },
       "data": [
        {
         "coloraxis": "coloraxis",
         "hovertemplate": "Layer: %{x}<br>Head: %{y}<br>Logit diff. variation: %{z}<extra></extra>",
         "name": "0",
         "type": "heatmap",
         "xaxis": "x",
         "yaxis": "y",
         "z": {
          "bdata": "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",
          "dtype": "f4",
          "shape": "32, 32"
         }
        }
       ],
       "layout": {
        "coloraxis": {
         "cmid": 0,
         "colorbar": {
          "ticksuffix": "%",
          "title": {
           "text": "Logit diff. variation"
          }
         },
         "colorscale": [
          [
           0,
           "rgb(103,0,31)"
          ],
          [
           0.1,
           "rgb(178,24,43)"
          ],
          [
           0.2,
           "rgb(214,96,77)"
          ],
          [
           0.3,
           "rgb(244,165,130)"
          ],
          [
           0.4,
           "rgb(253,219,199)"
          ],
          [
           0.5,
           "rgb(247,247,247)"
          ],
          [
           0.6,
           "rgb(209,229,240)"
          ],
          [
           0.7,
           "rgb(146,197,222)"
          ],
          [
           0.8,
           "rgb(67,147,195)"
          ],
          [
           0.9,
           "rgb(33,102,172)"
          ],
          [
           1,
           "rgb(5,48,97)"
          ]
         ]
        },
        "height": 400,
        "template": {
         "data": {
          "bar": [
           {
            "error_x": {
             "color": "#2a3f5f"
            },
            "error_y": {
             "color": "#2a3f5f"
            },
            "marker": {
             "line": {
              "color": "#E5ECF6",
              "width": 0.5
             },
             "pattern": {
              "fillmode": "overlay",
              "size": 10,
              "solidity": 0.2
             }
            },
            "type": "bar"
           }
          ],
          "barpolar": [
           {
            "marker": {
             "line": {
              "color": "#E5ECF6",
              "width": 0.5
             },
             "pattern": {
              "fillmode": "overlay",
              "size": 10,
              "solidity": 0.2
             }
            },
            "type": "barpolar"
           }
          ],
          "carpet": [
           {
            "aaxis": {
             "endlinecolor": "#2a3f5f",
             "gridcolor": "white",
             "linecolor": "white",
             "minorgridcolor": "white",
             "startlinecolor": "#2a3f5f"
            },
            "baxis": {
             "endlinecolor": "#2a3f5f",
             "gridcolor": "white",
             "linecolor": "white",
             "minorgridcolor": "white",
             "startlinecolor": "#2a3f5f"
            },
            "type": "carpet"
           }
          ],
          "choropleth": [
           {
            "colorbar": {
             "outlinewidth": 0,
             "ticks": ""
            },
            "type": "choropleth"
           }
          ],
          "contour": [
           {
            "colorbar": {
             "outlinewidth": 0,
             "ticks": ""
            },
            "colorscale": [
             [
              0,
              "#0d0887"
             ],
             [
              0.1111111111111111,
              "#46039f"
             ],
             [
              0.2222222222222222,
              "#7201a8"
             ],
             [
              0.3333333333333333,
              "#9c179e"
             ],
             [
              0.4444444444444444,
              "#bd3786"
             ],
             [
              0.5555555555555556,
              "#d8576b"
             ],
             [
              0.6666666666666666,
              "#ed7953"
             ],
             [
              0.7777777777777778,
              "#fb9f3a"
             ],
             [
              0.8888888888888888,
              "#fdca26"
             ],
             [
              1,
              "#f0f921"
             ]
            ],
            "type": "contour"
           }
          ],
          "contourcarpet": [
           {
            "colorbar": {
             "outlinewidth": 0,
             "ticks": ""
            },
            "type": "contourcarpet"
           }
          ],
          "heatmap": [
           {
            "colorbar": {
             "outlinewidth": 0,
             "ticks": ""
            },
            "colorscale": [
             [
              0,
              "#0d0887"
             ],
             [
              0.1111111111111111,
              "#46039f"
             ],
             [
              0.2222222222222222,
              "#7201a8"
             ],
             [
              0.3333333333333333,
              "#9c179e"
             ],
             [
              0.4444444444444444,
              "#bd3786"
             ],
             [
              0.5555555555555556,
              "#d8576b"
             ],
             [
              0.6666666666666666,
              "#ed7953"
             ],
             [
              0.7777777777777778,
              "#fb9f3a"
             ],
             [
              0.8888888888888888,
              "#fdca26"
             ],
             [
              1,
              "#f0f921"
             ]
            ],
            "type": "heatmap"
           }
          ],
          "histogram": [
           {
            "marker": {
             "pattern": {
              "fillmode": "overlay",
              "size": 10,
              "solidity": 0.2
             }
            },
            "type": "histogram"
           }
          ],
          "histogram2d": [
           {
            "colorbar": {
             "outlinewidth": 0,
             "ticks": ""
            },
            "colorscale": [
             [
              0,
              "#0d0887"
             ],
             [
              0.1111111111111111,
              "#46039f"
             ],
             [
              0.2222222222222222,
              "#7201a8"
             ],
             [
              0.3333333333333333,
              "#9c179e"
             ],
             [
              0.4444444444444444,
              "#bd3786"
             ],
             [
              0.5555555555555556,
              "#d8576b"
             ],
             [
              0.6666666666666666,
              "#ed7953"
             ],
             [
              0.7777777777777778,
              "#fb9f3a"
             ],
             [
              0.8888888888888888,
              "#fdca26"
             ],
             [
              1,
              "#f0f921"
             ]
            ],
            "type": "histogram2d"
           }
          ],
          "histogram2dcontour": [
           {
            "colorbar": {
             "outlinewidth": 0,
             "ticks": ""
            },
            "colorscale": [
             [
              0,
              "#0d0887"
             ],
             [
              0.1111111111111111,
              "#46039f"
             ],
             [
              0.2222222222222222,
              "#7201a8"
             ],
             [
              0.3333333333333333,
              "#9c179e"
             ],
             [
              0.4444444444444444,
              "#bd3786"
             ],
             [
              0.5555555555555556,
              "#d8576b"
             ],
             [
              0.6666666666666666,
              "#ed7953"
             ],
             [
              0.7777777777777778,
              "#fb9f3a"
             ],
             [
              0.8888888888888888,
              "#fdca26"
             ],
             [
              1,
              "#f0f921"
             ]
            ],
            "type": "histogram2dcontour"
           }
          ],
          "mesh3d": [
           {
            "colorbar": {
             "outlinewidth": 0,
             "ticks": ""
            },
            "type": "mesh3d"
           }
          ],
          "parcoords": [
           {
            "line": {
             "colorbar": {
              "outlinewidth": 0,
              "ticks": ""
             }
            },
            "type": "parcoords"
           }
          ],
          "pie": [
           {
            "automargin": true,
            "type": "pie"
           }
          ],
          "scatter": [
           {
            "fillpattern": {
             "fillmode": "overlay",
             "size": 10,
             "solidity": 0.2
            },
            "type": "scatter"
           }
          ],
          "scatter3d": [
           {
            "line": {
             "colorbar": {
              "outlinewidth": 0,
              "ticks": ""
             }
            },
            "marker": {
             "colorbar": {
              "outlinewidth": 0,
              "ticks": ""
             }
            },
            "type": "scatter3d"
           }
          ],
          "scattercarpet": [
           {
            "marker": {
             "colorbar": {
              "outlinewidth": 0,
              "ticks": ""
             }
            },
            "type": "scattercarpet"
           }
          ],
          "scattergeo": [
           {
            "marker": {
             "colorbar": {
              "outlinewidth": 0,
              "ticks": ""
             }
            },
            "type": "scattergeo"
           }
          ],
          "scattergl": [
           {
            "marker": {
             "colorbar": {
              "outlinewidth": 0,
              "ticks": ""
             }
            },
            "type": "scattergl"
           }
          ],
          "scattermap": [
           {
            "marker": {
             "colorbar": {
              "outlinewidth": 0,
              "ticks": ""
             }
            },
            "type": "scattermap"
           }
          ],
          "scattermapbox": [
           {
            "marker": {
             "colorbar": {
              "outlinewidth": 0,
              "ticks": ""
             }
            },
            "type": "scattermapbox"
           }
          ],
          "scatterpolar": [
           {
            "marker": {
             "colorbar": {
              "outlinewidth": 0,
              "ticks": ""
             }
            },
            "type": "scatterpolar"
           }
          ],
          "scatterpolargl": [
           {
            "marker": {
             "colorbar": {
              "outlinewidth": 0,
              "ticks": ""
             }
            },
            "type": "scatterpolargl"
           }
          ],
          "scatterternary": [
           {
            "marker": {
             "colorbar": {
              "outlinewidth": 0,
              "ticks": ""
             }
            },
            "type": "scatterternary"
           }
          ],
          "surface": [
           {
            "colorbar": {
             "outlinewidth": 0,
             "ticks": ""
            },
            "colorscale": [
             [
              0,
              "#0d0887"
             ],
             [
              0.1111111111111111,
              "#46039f"
             ],
             [
              0.2222222222222222,
              "#7201a8"
             ],
             [
              0.3333333333333333,
              "#9c179e"
             ],
             [
              0.4444444444444444,
              "#bd3786"
             ],
             [
              0.5555555555555556,
              "#d8576b"
             ],
             [
              0.6666666666666666,
              "#ed7953"
             ],
             [
              0.7777777777777778,
              "#fb9f3a"
             ],
             [
              0.8888888888888888,
              "#fdca26"
             ],
             [
              1,
              "#f0f921"
             ]
            ],
            "type": "surface"
           }
          ],
          "table": [
           {
            "cells": {
             "fill": {
              "color": "#EBF0F8"
             },
             "line": {
              "color": "white"
             }
            },
            "header": {
             "fill": {
              "color": "#C8D4E3"
             },
             "line": {
              "color": "white"
             }
            },
            "type": "table"
           }
          ]
         },
         "layout": {
          "annotationdefaults": {
           "arrowcolor": "#2a3f5f",
           "arrowhead": 0,
           "arrowwidth": 1
          },
          "autotypenumbers": "strict",
          "coloraxis": {
           "colorbar": {
            "outlinewidth": 0,
            "ticks": ""
           }
          },
          "colorscale": {
           "diverging": [
            [
             0,
             "#8e0152"
            ],
            [
             0.1,
             "#c51b7d"
            ],
            [
             0.2,
             "#de77ae"
            ],
            [
             0.3,
             "#f1b6da"
            ],
            [
             0.4,
             "#fde0ef"
            ],
            [
             0.5,
             "#f7f7f7"
            ],
            [
             0.6,
             "#e6f5d0"
            ],
            [
             0.7,
             "#b8e186"
            ],
            [
             0.8,
             "#7fbc41"
            ],
            [
             0.9,
             "#4d9221"
            ],
            [
             1,
             "#276419"
            ]
           ],
           "sequential": [
            [
             0,
             "#0d0887"
            ],
            [
             0.1111111111111111,
             "#46039f"
            ],
            [
             0.2222222222222222,
             "#7201a8"
            ],
            [
             0.3333333333333333,
             "#9c179e"
            ],
            [
             0.4444444444444444,
             "#bd3786"
            ],
            [
             0.5555555555555556,
             "#d8576b"
            ],
            [
             0.6666666666666666,
             "#ed7953"
            ],
            [
             0.7777777777777778,
             "#fb9f3a"
            ],
            [
             0.8888888888888888,
             "#fdca26"
            ],
            [
             1,
             "#f0f921"
            ]
           ],
           "sequentialminus": [
            [
             0,
             "#0d0887"
            ],
            [
             0.1111111111111111,
             "#46039f"
            ],
            [
             0.2222222222222222,
             "#7201a8"
            ],
            [
             0.3333333333333333,
             "#9c179e"
            ],
            [
             0.4444444444444444,
             "#bd3786"
            ],
            [
             0.5555555555555556,
             "#d8576b"
            ],
            [
             0.6666666666666666,
             "#ed7953"
            ],
            [
             0.7777777777777778,
             "#fb9f3a"
            ],
            [
             0.8888888888888888,
             "#fdca26"
            ],
            [
             1,
             "#f0f921"
            ]
           ]
          },
          "colorway": [
           "#636efa",
           "#EF553B",
           "#00cc96",
           "#ab63fa",
           "#FFA15A",
           "#19d3f3",
           "#FF6692",
           "#B6E880",
           "#FF97FF",
           "#FECB52"
          ],
          "font": {
           "color": "#2a3f5f"
          },
          "geo": {
           "bgcolor": "white",
           "lakecolor": "white",
           "landcolor": "#E5ECF6",
           "showlakes": true,
           "showland": true,
           "subunitcolor": "white"
          },
          "hoverlabel": {
           "align": "left"
          },
          "hovermode": "closest",
          "mapbox": {
           "style": "light"
          },
          "paper_bgcolor": "white",
          "plot_bgcolor": "#E5ECF6",
          "polar": {
           "angularaxis": {
            "gridcolor": "white",
            "linecolor": "white",
            "ticks": ""
           },
           "bgcolor": "#E5ECF6",
           "radialaxis": {
            "gridcolor": "white",
            "linecolor": "white",
            "ticks": ""
           }
          },
          "scene": {
           "xaxis": {
            "backgroundcolor": "#E5ECF6",
            "gridcolor": "white",
            "gridwidth": 2,
            "linecolor": "white",
            "showbackground": true,
            "ticks": "",
            "zerolinecolor": "white"
           },
           "yaxis": {
            "backgroundcolor": "#E5ECF6",
            "gridcolor": "white",
            "gridwidth": 2,
            "linecolor": "white",
            "showbackground": true,
            "ticks": "",
            "zerolinecolor": "white"
           },
           "zaxis": {
            "backgroundcolor": "#E5ECF6",
            "gridcolor": "white",
            "gridwidth": 2,
            "linecolor": "white",
            "showbackground": true,
            "ticks": "",
            "zerolinecolor": "white"
           }
          },
          "shapedefaults": {
           "line": {
            "color": "#2a3f5f"
           }
          },
          "ternary": {
           "aaxis": {
            "gridcolor": "white",
            "linecolor": "white",
            "ticks": ""
           },
           "baxis": {
            "gridcolor": "white",
            "linecolor": "white",
            "ticks": ""
           },
           "bgcolor": "#E5ECF6",
           "caxis": {
            "gridcolor": "white",
            "linecolor": "white",
            "ticks": ""
           }
          },
          "title": {
           "x": 0.05
          },
          "xaxis": {
           "automargin": true,
           "gridcolor": "white",
           "linecolor": "white",
           "ticks": "",
           "title": {
            "standoff": 15
           },
           "zerolinecolor": "white",
           "zerolinewidth": 2
          },
          "yaxis": {
           "automargin": true,
           "gridcolor": "white",
           "linecolor": "white",
           "ticks": "",
           "title": {
            "standoff": 15
           },
           "zerolinecolor": "white",
           "zerolinewidth": 2
          }
         }
        },
        "title": {
         "text": "Path patching results H30.2 Value"
        },
        "width": 500,
        "xaxis": {
         "anchor": "y",
         "constrain": "domain",
         "domain": [
          0,
          1
         ],
         "scaleanchor": "y",
         "title": {
          "text": "Layer"
         }
        },
        "yaxis": {
         "anchor": "x",
         "autorange": "reversed",
         "constrain": "domain",
         "domain": [
          0,
          1
         ],
         "title": {
          "text": "Head"
         }
        }
       }
      }
     },
     "metadata": {},
     "output_type": "display_data"
    }
   ],
   "source": [
    "# Function Induction Heads\n",
    "for head in [(31, 2), (30, 18), (30, 10), (30, 8), (30, 4), (30, 3), (30, 2)]:\n",
    "    filename = \"./results/mistral_7b/ind_h{}_{}_v.pt\".format(head[0], head[1])\n",
    "    result = t.load(filename)\n",
    "    visualize_heatmap(result, info = \"H{}.{} Value\".format(head[0], head[1]))"
   ]
  }
 ],
 "metadata": {
  "kernelspec": {
   "display_name": "fi4",
   "language": "python",
   "name": "python3"
  },
  "language_info": {
   "codemirror_mode": {
    "name": "ipython",
    "version": 3
   },
   "file_extension": ".py",
   "mimetype": "text/x-python",
   "name": "python",
   "nbconvert_exporter": "python",
   "pygments_lexer": "ipython3",
   "version": "3.12.11"
  }
 },
 "nbformat": 4,
 "nbformat_minor": 2
}
