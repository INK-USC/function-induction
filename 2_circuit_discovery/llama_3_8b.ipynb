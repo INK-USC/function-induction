{
 "cells": [
  {
   "cell_type": "code",
   "execution_count": 1,
   "metadata": {},
   "outputs": [
    {
     "name": "stdout",
     "output_type": "stream",
     "text": [
      "/home/qinyuan/function-induction\n"
     ]
    }
   ],
   "source": [
    "import os\n",
    "import sys\n",
    "\n",
    "# to import functions from `patching_utils.py` and `plotly_utils.py`,\n",
    "# we need to add the repository directory to the system path.\n",
    "current_dir = os.path.dirname(os.getcwd())\n",
    "print(current_dir)\n",
    "if current_dir not in sys.path:\n",
    "    sys.path.append(current_dir)"
   ]
  },
  {
   "cell_type": "markdown",
   "metadata": {},
   "source": [
    "### Helpers"
   ]
  },
  {
   "cell_type": "code",
   "execution_count": 2,
   "metadata": {},
   "outputs": [
    {
     "name": "stderr",
     "output_type": "stream",
     "text": [
      "/home/qinyuan/miniconda3/envs/fi4/lib/python3.12/site-packages/tqdm/auto.py:21: TqdmWarning: IProgress not found. Please update jupyter and ipywidgets. See https://ipywidgets.readthedocs.io/en/stable/user_install.html\n",
      "  from .autonotebook import tqdm as notebook_tqdm\n"
     ]
    }
   ],
   "source": [
    "import torch as t\n",
    "from torch import Tensor\n",
    "import torch.nn.functional as F\n",
    "\n",
    "from transformer_lens import HookedTransformer\n",
    "\n",
    "t.set_grad_enabled(False)\n",
    "\n",
    "from jaxtyping import Float, Int, Bool, Union\n",
    "\n",
    "import circuitsvis as cv\n",
    "from IPython.display import display\n",
    "from plotly_utils import imshow"
   ]
  },
  {
   "cell_type": "code",
   "execution_count": 3,
   "metadata": {},
   "outputs": [],
   "source": [
    "from patching_utils import batched_get_path_patch_to_repr, batched_get_path_patch_to_head, prepare_data_for_fwd"
   ]
  },
  {
   "cell_type": "code",
   "execution_count": 4,
   "metadata": {},
   "outputs": [],
   "source": [
    "def analyze_path_to_repr(\n",
    "    receiver_layers: list[int],\n",
    "    receiver_input: str,\n",
    "    model: HookedTransformer,\n",
    "    data: list[dict],\n",
    "    begin_layer: int,\n",
    "    batch_size: int\n",
    "):\n",
    "    t.cuda.empty_cache()\n",
    "    patched_logit_diff, normal_logit_diff, contrast_logit_diff = batched_get_path_patch_to_repr(receiver_layers, receiver_input, model, data, begin_layer, batch_size)\n",
    "    results = (patched_logit_diff - contrast_logit_diff) / (contrast_logit_diff  - normal_logit_diff)\n",
    "    results[:begin_layer, :] = 0.0\n",
    "    end_layer=max(receiver_layers)\n",
    "    results[end_layer+1:, :] = 0.0\n",
    "    visualize_heatmap(results)\n",
    "    return results\n",
    "\n",
    "def analyze_path_to_head(\n",
    "    receiver_heads: list[int],\n",
    "    receiver_input: str,\n",
    "    model: HookedTransformer,\n",
    "    data: list[dict],\n",
    "    begin_layer: int,\n",
    "    batch_size: int\n",
    "):\n",
    "    t.cuda.empty_cache()\n",
    "    patched_logit_diff, normal_logit_diff, contrast_logit_diff = batched_get_path_patch_to_head(receiver_heads, receiver_input, model, data, begin_layer, batch_size)\n",
    "    results = (patched_logit_diff - contrast_logit_diff) / (contrast_logit_diff  - normal_logit_diff)\n",
    "    results[:begin_layer, :] = 0.0\n",
    "    end_layer=max([head[0] for head in receiver_heads])\n",
    "    results[end_layer:, :] = 0.0\n",
    "    visualize_heatmap(results)\n",
    "    return results\n",
    "\n",
    "def visualize_heatmap(results, info=\"\"):\n",
    "    imshow(\n",
    "        100 * results.t(),\n",
    "        title=\"Path patching results {}\".format(info),\n",
    "        labels={\"x\":\"Layer\", \"y\":\"Head\", \"color\": \"Logit diff. variation\"},\n",
    "        coloraxis=dict(colorbar_ticksuffix = \"%\"),\n",
    "        width=500,\n",
    "        height=400,\n",
    "    )\n",
    "\n",
    "def visualize_heads(heads, model, data, mode=\"contrast\"):\n",
    "    data = data[:4]\n",
    "    t.cuda.empty_cache()\n",
    "    normal_input, contrast_input, _, _, normal_cache, contrast_cache, _, _ = prepare_data_for_fwd(model, data)\n",
    "    \n",
    "    if mode == \"contrast\":\n",
    "        cache = contrast_cache\n",
    "        tokens = model.to_tokens(contrast_input)[0]\n",
    "    elif mode == \"normal\":\n",
    "        cache = normal_cache\n",
    "        tokens = model.to_tokens(normal_input)[0]\n",
    "\n",
    "    attn_patterns_for_important_heads: Float[Tensor, \"head q k\"] = t.stack([\n",
    "        cache[\"pattern\", layer][:, head].mean(0)\n",
    "            for layer, head in heads\n",
    "    ])\n",
    "    \n",
    "    display(cv.attention.attention_patterns(\n",
    "        attention = attn_patterns_for_important_heads,\n",
    "        tokens = model.to_str_tokens(tokens),\n",
    "        attention_head_names = [f\"{layer}.{head}\" for layer, head in heads],\n",
    "    ))"
   ]
  },
  {
   "cell_type": "markdown",
   "metadata": {},
   "source": [
    "### Loading model and data"
   ]
  },
  {
   "cell_type": "code",
   "execution_count": 5,
   "metadata": {},
   "outputs": [
    {
     "name": "stderr",
     "output_type": "stream",
     "text": [
      "Loading checkpoint shards:   0%|          | 0/4 [00:00<?, ?it/s]"
     ]
    },
    {
     "name": "stderr",
     "output_type": "stream",
     "text": [
      "Loading checkpoint shards: 100%|██████████| 4/4 [00:00<00:00,  4.05it/s]\n",
      "WARNING:root:You are not using LayerNorm, so the writing weights can't be centered! Skipping\n"
     ]
    },
    {
     "name": "stdout",
     "output_type": "stream",
     "text": [
      "Loaded pretrained model meta-llama/Meta-Llama-3-8B into HookedTransformer\n"
     ]
    }
   ],
   "source": [
    "device = \"cuda:2\"\n",
    "model_name = \"meta-llama/Meta-Llama-3-8B\"\n",
    "model = HookedTransformer.from_pretrained(model_name, device=device)\n",
    "model.set_ungroup_grouped_query_attention(True)"
   ]
  },
  {
   "cell_type": "code",
   "execution_count": 6,
   "metadata": {},
   "outputs": [],
   "source": [
    "# Load data\n",
    "from data_utils import process_dataset, read_jsonl\n",
    "\n",
    "setting, nmax, offset, n_icl_examples = \"setting1\", 999, 1, 4\n",
    "filename = f\"../data/addition/{setting}/addition_nmax{nmax}_offset{offset}.jsonl\"\n",
    "data = read_jsonl(filename)\n",
    "processed_data = process_dataset(data, n_icl_examples=n_icl_examples, offset=offset)\n",
    "\n",
    "# load 4 examples for demo\n",
    "processed_data = processed_data[:4]"
   ]
  },
  {
   "cell_type": "markdown",
   "metadata": {},
   "source": [
    "### Path Patching Demo"
   ]
  },
  {
   "cell_type": "code",
   "execution_count": 7,
   "metadata": {},
   "outputs": [
    {
     "name": "stderr",
     "output_type": "stream",
     "text": [
      "batch: 100%|██████████| 1/1 [05:42<00:00, 342.70s/it]\n"
     ]
    },
    {
     "data": {
      "application/vnd.plotly.v1+json": {
       "config": {
        "plotlyServerURL": "https://plot.ly",
        "staticPlot": false
       },
       "data": [
        {
         "coloraxis": "coloraxis",
         "hovertemplate": "Layer: %{x}<br>Head: %{y}<br>Logit diff. variation: %{z}<extra></extra>",
         "name": "0",
         "type": "heatmap",
         "xaxis": "x",
         "yaxis": "y",
         "z": {
          "bdata": "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",
          "dtype": "f4",
          "shape": "32, 32"
         }
        }
       ],
       "layout": {
        "coloraxis": {
         "cmid": 0,
         "colorbar": {
          "ticksuffix": "%",
          "title": {
           "text": "Logit diff. variation"
          }
         },
         "colorscale": [
          [
           0,
           "rgb(103,0,31)"
          ],
          [
           0.1,
           "rgb(178,24,43)"
          ],
          [
           0.2,
           "rgb(214,96,77)"
          ],
          [
           0.3,
           "rgb(244,165,130)"
          ],
          [
           0.4,
           "rgb(253,219,199)"
          ],
          [
           0.5,
           "rgb(247,247,247)"
          ],
          [
           0.6,
           "rgb(209,229,240)"
          ],
          [
           0.7,
           "rgb(146,197,222)"
          ],
          [
           0.8,
           "rgb(67,147,195)"
          ],
          [
           0.9,
           "rgb(33,102,172)"
          ],
          [
           1,
           "rgb(5,48,97)"
          ]
         ]
        },
        "height": 400,
        "template": {
         "data": {
          "bar": [
           {
            "error_x": {
             "color": "#2a3f5f"
            },
            "error_y": {
             "color": "#2a3f5f"
            },
            "marker": {
             "line": {
              "color": "#E5ECF6",
              "width": 0.5
             },
             "pattern": {
              "fillmode": "overlay",
              "size": 10,
              "solidity": 0.2
             }
            },
            "type": "bar"
           }
          ],
          "barpolar": [
           {
            "marker": {
             "line": {
              "color": "#E5ECF6",
              "width": 0.5
             },
             "pattern": {
              "fillmode": "overlay",
              "size": 10,
              "solidity": 0.2
             }
            },
            "type": "barpolar"
           }
          ],
          "carpet": [
           {
            "aaxis": {
             "endlinecolor": "#2a3f5f",
             "gridcolor": "white",
             "linecolor": "white",
             "minorgridcolor": "white",
             "startlinecolor": "#2a3f5f"
            },
            "baxis": {
             "endlinecolor": "#2a3f5f",
             "gridcolor": "white",
             "linecolor": "white",
             "minorgridcolor": "white",
             "startlinecolor": "#2a3f5f"
            },
            "type": "carpet"
           }
          ],
          "choropleth": [
           {
            "colorbar": {
             "outlinewidth": 0,
             "ticks": ""
            },
            "type": "choropleth"
           }
          ],
          "contour": [
           {
            "colorbar": {
             "outlinewidth": 0,
             "ticks": ""
            },
            "colorscale": [
             [
              0,
              "#0d0887"
             ],
             [
              0.1111111111111111,
              "#46039f"
             ],
             [
              0.2222222222222222,
              "#7201a8"
             ],
             [
              0.3333333333333333,
              "#9c179e"
             ],
             [
              0.4444444444444444,
              "#bd3786"
             ],
             [
              0.5555555555555556,
              "#d8576b"
             ],
             [
              0.6666666666666666,
              "#ed7953"
             ],
             [
              0.7777777777777778,
              "#fb9f3a"
             ],
             [
              0.8888888888888888,
              "#fdca26"
             ],
             [
              1,
              "#f0f921"
             ]
            ],
            "type": "contour"
           }
          ],
          "contourcarpet": [
           {
            "colorbar": {
             "outlinewidth": 0,
             "ticks": ""
            },
            "type": "contourcarpet"
           }
          ],
          "heatmap": [
           {
            "colorbar": {
             "outlinewidth": 0,
             "ticks": ""
            },
            "colorscale": [
             [
              0,
              "#0d0887"
             ],
             [
              0.1111111111111111,
              "#46039f"
             ],
             [
              0.2222222222222222,
              "#7201a8"
             ],
             [
              0.3333333333333333,
              "#9c179e"
             ],
             [
              0.4444444444444444,
              "#bd3786"
             ],
             [
              0.5555555555555556,
              "#d8576b"
             ],
             [
              0.6666666666666666,
              "#ed7953"
             ],
             [
              0.7777777777777778,
              "#fb9f3a"
             ],
             [
              0.8888888888888888,
              "#fdca26"
             ],
             [
              1,
              "#f0f921"
             ]
            ],
            "type": "heatmap"
           }
          ],
          "histogram": [
           {
            "marker": {
             "pattern": {
              "fillmode": "overlay",
              "size": 10,
              "solidity": 0.2
             }
            },
            "type": "histogram"
           }
          ],
          "histogram2d": [
           {
            "colorbar": {
             "outlinewidth": 0,
             "ticks": ""
            },
            "colorscale": [
             [
              0,
              "#0d0887"
             ],
             [
              0.1111111111111111,
              "#46039f"
             ],
             [
              0.2222222222222222,
              "#7201a8"
             ],
             [
              0.3333333333333333,
              "#9c179e"
             ],
             [
              0.4444444444444444,
              "#bd3786"
             ],
             [
              0.5555555555555556,
              "#d8576b"
             ],
             [
              0.6666666666666666,
              "#ed7953"
             ],
             [
              0.7777777777777778,
              "#fb9f3a"
             ],
             [
              0.8888888888888888,
              "#fdca26"
             ],
             [
              1,
              "#f0f921"
             ]
            ],
            "type": "histogram2d"
           }
          ],
          "histogram2dcontour": [
           {
            "colorbar": {
             "outlinewidth": 0,
             "ticks": ""
            },
            "colorscale": [
             [
              0,
              "#0d0887"
             ],
             [
              0.1111111111111111,
              "#46039f"
             ],
             [
              0.2222222222222222,
              "#7201a8"
             ],
             [
              0.3333333333333333,
              "#9c179e"
             ],
             [
              0.4444444444444444,
              "#bd3786"
             ],
             [
              0.5555555555555556,
              "#d8576b"
             ],
             [
              0.6666666666666666,
              "#ed7953"
             ],
             [
              0.7777777777777778,
              "#fb9f3a"
             ],
             [
              0.8888888888888888,
              "#fdca26"
             ],
             [
              1,
              "#f0f921"
             ]
            ],
            "type": "histogram2dcontour"
           }
          ],
          "mesh3d": [
           {
            "colorbar": {
             "outlinewidth": 0,
             "ticks": ""
            },
            "type": "mesh3d"
           }
          ],
          "parcoords": [
           {
            "line": {
             "colorbar": {
              "outlinewidth": 0,
              "ticks": ""
             }
            },
            "type": "parcoords"
           }
          ],
          "pie": [
           {
            "automargin": true,
            "type": "pie"
           }
          ],
          "scatter": [
           {
            "fillpattern": {
             "fillmode": "overlay",
             "size": 10,
             "solidity": 0.2
            },
            "type": "scatter"
           }
          ],
          "scatter3d": [
           {
            "line": {
             "colorbar": {
              "outlinewidth": 0,
              "ticks": ""
             }
            },
            "marker": {
             "colorbar": {
              "outlinewidth": 0,
              "ticks": ""
             }
            },
            "type": "scatter3d"
           }
          ],
          "scattercarpet": [
           {
            "marker": {
             "colorbar": {
              "outlinewidth": 0,
              "ticks": ""
             }
            },
            "type": "scattercarpet"
           }
          ],
          "scattergeo": [
           {
            "marker": {
             "colorbar": {
              "outlinewidth": 0,
              "ticks": ""
             }
            },
            "type": "scattergeo"
           }
          ],
          "scattergl": [
           {
            "marker": {
             "colorbar": {
              "outlinewidth": 0,
              "ticks": ""
             }
            },
            "type": "scattergl"
           }
          ],
          "scattermap": [
           {
            "marker": {
             "colorbar": {
              "outlinewidth": 0,
              "ticks": ""
             }
            },
            "type": "scattermap"
           }
          ],
          "scattermapbox": [
           {
            "marker": {
             "colorbar": {
              "outlinewidth": 0,
              "ticks": ""
             }
            },
            "type": "scattermapbox"
           }
          ],
          "scatterpolar": [
           {
            "marker": {
             "colorbar": {
              "outlinewidth": 0,
              "ticks": ""
             }
            },
            "type": "scatterpolar"
           }
          ],
          "scatterpolargl": [
           {
            "marker": {
             "colorbar": {
              "outlinewidth": 0,
              "ticks": ""
             }
            },
            "type": "scatterpolargl"
           }
          ],
          "scatterternary": [
           {
            "marker": {
             "colorbar": {
              "outlinewidth": 0,
              "ticks": ""
             }
            },
            "type": "scatterternary"
           }
          ],
          "surface": [
           {
            "colorbar": {
             "outlinewidth": 0,
             "ticks": ""
            },
            "colorscale": [
             [
              0,
              "#0d0887"
             ],
             [
              0.1111111111111111,
              "#46039f"
             ],
             [
              0.2222222222222222,
              "#7201a8"
             ],
             [
              0.3333333333333333,
              "#9c179e"
             ],
             [
              0.4444444444444444,
              "#bd3786"
             ],
             [
              0.5555555555555556,
              "#d8576b"
             ],
             [
              0.6666666666666666,
              "#ed7953"
             ],
             [
              0.7777777777777778,
              "#fb9f3a"
             ],
             [
              0.8888888888888888,
              "#fdca26"
             ],
             [
              1,
              "#f0f921"
             ]
            ],
            "type": "surface"
           }
          ],
          "table": [
           {
            "cells": {
             "fill": {
              "color": "#EBF0F8"
             },
             "line": {
              "color": "white"
             }
            },
            "header": {
             "fill": {
              "color": "#C8D4E3"
             },
             "line": {
              "color": "white"
             }
            },
            "type": "table"
           }
          ]
         },
         "layout": {
          "annotationdefaults": {
           "arrowcolor": "#2a3f5f",
           "arrowhead": 0,
           "arrowwidth": 1
          },
          "autotypenumbers": "strict",
          "coloraxis": {
           "colorbar": {
            "outlinewidth": 0,
            "ticks": ""
           }
          },
          "colorscale": {
           "diverging": [
            [
             0,
             "#8e0152"
            ],
            [
             0.1,
             "#c51b7d"
            ],
            [
             0.2,
             "#de77ae"
            ],
            [
             0.3,
             "#f1b6da"
            ],
            [
             0.4,
             "#fde0ef"
            ],
            [
             0.5,
             "#f7f7f7"
            ],
            [
             0.6,
             "#e6f5d0"
            ],
            [
             0.7,
             "#b8e186"
            ],
            [
             0.8,
             "#7fbc41"
            ],
            [
             0.9,
             "#4d9221"
            ],
            [
             1,
             "#276419"
            ]
           ],
           "sequential": [
            [
             0,
             "#0d0887"
            ],
            [
             0.1111111111111111,
             "#46039f"
            ],
            [
             0.2222222222222222,
             "#7201a8"
            ],
            [
             0.3333333333333333,
             "#9c179e"
            ],
            [
             0.4444444444444444,
             "#bd3786"
            ],
            [
             0.5555555555555556,
             "#d8576b"
            ],
            [
             0.6666666666666666,
             "#ed7953"
            ],
            [
             0.7777777777777778,
             "#fb9f3a"
            ],
            [
             0.8888888888888888,
             "#fdca26"
            ],
            [
             1,
             "#f0f921"
            ]
           ],
           "sequentialminus": [
            [
             0,
             "#0d0887"
            ],
            [
             0.1111111111111111,
             "#46039f"
            ],
            [
             0.2222222222222222,
             "#7201a8"
            ],
            [
             0.3333333333333333,
             "#9c179e"
            ],
            [
             0.4444444444444444,
             "#bd3786"
            ],
            [
             0.5555555555555556,
             "#d8576b"
            ],
            [
             0.6666666666666666,
             "#ed7953"
            ],
            [
             0.7777777777777778,
             "#fb9f3a"
            ],
            [
             0.8888888888888888,
             "#fdca26"
            ],
            [
             1,
             "#f0f921"
            ]
           ]
          },
          "colorway": [
           "#636efa",
           "#EF553B",
           "#00cc96",
           "#ab63fa",
           "#FFA15A",
           "#19d3f3",
           "#FF6692",
           "#B6E880",
           "#FF97FF",
           "#FECB52"
          ],
          "font": {
           "color": "#2a3f5f"
          },
          "geo": {
           "bgcolor": "white",
           "lakecolor": "white",
           "landcolor": "#E5ECF6",
           "showlakes": true,
           "showland": true,
           "subunitcolor": "white"
          },
          "hoverlabel": {
           "align": "left"
          },
          "hovermode": "closest",
          "mapbox": {
           "style": "light"
          },
          "paper_bgcolor": "white",
          "plot_bgcolor": "#E5ECF6",
          "polar": {
           "angularaxis": {
            "gridcolor": "white",
            "linecolor": "white",
            "ticks": ""
           },
           "bgcolor": "#E5ECF6",
           "radialaxis": {
            "gridcolor": "white",
            "linecolor": "white",
            "ticks": ""
           }
          },
          "scene": {
           "xaxis": {
            "backgroundcolor": "#E5ECF6",
            "gridcolor": "white",
            "gridwidth": 2,
            "linecolor": "white",
            "showbackground": true,
            "ticks": "",
            "zerolinecolor": "white"
           },
           "yaxis": {
            "backgroundcolor": "#E5ECF6",
            "gridcolor": "white",
            "gridwidth": 2,
            "linecolor": "white",
            "showbackground": true,
            "ticks": "",
            "zerolinecolor": "white"
           },
           "zaxis": {
            "backgroundcolor": "#E5ECF6",
            "gridcolor": "white",
            "gridwidth": 2,
            "linecolor": "white",
            "showbackground": true,
            "ticks": "",
            "zerolinecolor": "white"
           }
          },
          "shapedefaults": {
           "line": {
            "color": "#2a3f5f"
           }
          },
          "ternary": {
           "aaxis": {
            "gridcolor": "white",
            "linecolor": "white",
            "ticks": ""
           },
           "baxis": {
            "gridcolor": "white",
            "linecolor": "white",
            "ticks": ""
           },
           "bgcolor": "#E5ECF6",
           "caxis": {
            "gridcolor": "white",
            "linecolor": "white",
            "ticks": ""
           }
          },
          "title": {
           "x": 0.05
          },
          "xaxis": {
           "automargin": true,
           "gridcolor": "white",
           "linecolor": "white",
           "ticks": "",
           "title": {
            "standoff": 15
           },
           "zerolinecolor": "white",
           "zerolinewidth": 2
          },
          "yaxis": {
           "automargin": true,
           "gridcolor": "white",
           "linecolor": "white",
           "ticks": "",
           "title": {
            "standoff": 15
           },
           "zerolinecolor": "white",
           "zerolinewidth": 2
          }
         }
        },
        "title": {
         "text": "Path patching results "
        },
        "width": 500,
        "xaxis": {
         "anchor": "y",
         "constrain": "domain",
         "domain": [
          0,
          1
         ],
         "scaleanchor": "y",
         "title": {
          "text": "Layer"
         }
        },
        "yaxis": {
         "anchor": "x",
         "autorange": "reversed",
         "constrain": "domain",
         "domain": [
          0,
          1
         ],
         "title": {
          "text": "Head"
         }
        }
       }
      }
     },
     "metadata": {},
     "output_type": "display_data"
    }
   ],
   "source": [
    "results_resid_post_31 = analyze_path_to_repr([31], \"resid_post\", model, processed_data, begin_layer=0, batch_size=4)"
   ]
  },
  {
   "cell_type": "code",
   "execution_count": 8,
   "metadata": {},
   "outputs": [
    {
     "name": "stderr",
     "output_type": "stream",
     "text": [
      "batch:   0%|          | 0/1 [00:00<?, ?it/s]"
     ]
    },
    {
     "name": "stderr",
     "output_type": "stream",
     "text": [
      "layer: 100%|██████████| 30/30 [05:21<00:00, 10.72s/it]\n",
      "batch: 100%|██████████| 1/1 [05:21<00:00, 321.98s/it]\n"
     ]
    },
    {
     "data": {
      "application/vnd.plotly.v1+json": {
       "config": {
        "plotlyServerURL": "https://plot.ly",
        "staticPlot": false
       },
       "data": [
        {
         "coloraxis": "coloraxis",
         "hovertemplate": "Layer: %{x}<br>Head: %{y}<br>Logit diff. variation: %{z}<extra></extra>",
         "name": "0",
         "type": "heatmap",
         "xaxis": "x",
         "yaxis": "y",
         "z": {
          "bdata": "nVKAuR5CRDlzjPE3ZWsPOZAQpjk+RjO6FyHXOaxzYjpI51q6GsKJOgJ/FjteSiI6mHEwu+HamLpFZ6A7zHfROk8eRz0B3wc585wtubz1WTzKN7S6HkJEudbY2zpzjHG4s5TPOdcYeTlrK+c7ZWsPuRq6lDwAAAAAAAAAAAAAAABzjHE4c4xxOOZaU7jI95a4c4xxuXOMcbn6vZo5zxgEOw8IXzyo86e6wDYbu07IqjprK+e6Ad8HOcj3Fjk3Jca6KQ9qvex7wLmmUvU585ytOcMWxzpzjPE5xlbkOj5GMzpzjHG69Dw8uyjrYDyV6QC8M6ULugAAAAAAAAAAAAAAAHOM8beQEKY4QieDOuZaU7lWKbW3Ad8HOUjn2rkwBFm6Ad+HuFAIyDlzjHE669sxu/FckDqgkp06NeWou690Brx5bcE65lrTOPOcrbltLIu7zxiEOjBU4Lu7tTy6Ad+HObOUT7rB1qm5stVewMj3Frgawgk7AAAAAAAAAAAAAAAAVik1OMj3Fjmsc+K45lrTOK8UFTqsc+K4yPcWuEyIDTrTmL66M6WLuuA6Crs8BpY66jsjOzJE9rrTmD67SOdauQInGjxWKTU7yPeWOV+SNDyvFJW6mRk0PD/mQbvxXJC6VEmJOxch1zpMTZU96jujunr95TwAAAAAAAAAAAAAAADI9xa4HkLEuPq9mjlWKTW55lpTOSyEHrnI9xY4E6EcunOMcThzjHG4wdYpOtJItztzjHE5e63eOXJMVLtjCvq6fU6ROqxz4jglY7E5kBAmOZAQpjgshJ462rkrOoCOrrpo60m6poeMvGLK3LrJl6W8XAqFOgAAAAAAAAAAAAAAAFYptbjmWlO4kBCmuELG7TmdUgA6u7U8OXYtJLo+RjO6TIiNumLKXLt7rV467Cs5vLu1PLnXGPm5E6EcugefXzuwtCO7CT9uO/q9GjpWKbW4EQBquoHOyzliyly6EvD/O8j3lrhKh2m8qjNFO9BXfbtb+fY7AAAAAAAAAAAAAAAAyPcWuHOM8besc+I4gc5Luc8YhLqdUgA5zxgEOuHamDoJP267plL1uadbDjyVkQS7yje0ulm52bsToRy7NyXGOt455jmNb/M6UAjIOZAQprhQCMg5rHNiuRchV7quzAI8Vim1OKMSWDsshJ45COdxPLylUrwAAAAAAAAAAAAAAABWKbW4nVIAucj3FjhzjPG285wtOcj3lrkjI5Q6TIgNuosv1jpzjHE5j8AevGTLADto60m6dY0VPAjv5jto60m7M6WLOXOMcTfo+wU6M6WLOQHfhzgawgm6c4zxN/jNhLsDH6W6OgVyPE7IqjqvdAY7MLRRPAAAAAAAAAAAAAAAAELG7TlzjHG5c4xxOB5CRDlWKTU4m7HNuqxzYjkMgC867HvAuex7wDm2NYK6M6ULO4nvuDrXGHk5cAy3OrOUzzqwtKO7IsJ+PKZSdbo+RjM7SOdautppJDzmWtM4SOdauUwn+Lq7tby52jahvnYtJDt07QY7AAAAAAAAAAAAAAAAkBCmOeZaUziQEKY4c4xxNwHfh7m7tTw5TIiNOnOM8Te7tTy5ZWsPOkVnoLr6vZo5c4zxOXOMcTqNgIG7Ad8HO3YtJLolY7E5Ad8HujAEWboB34e5+M2Eu5hxsDtWKTW5Vim1ukVnoDpXebw7y9dCO6ezijoAAAAAAAAAAAAAAACsc+I4c4zxt1YpNbgB34c4rxQVOlYptTfI9xa4zxiEOSyEHrpGBy+705g+O6xzYrqgkp06tjUCu+J6J7sMgK86LISeOSjja7oeQsS5Ad+HuZAQprgZcoI7M6ULOiyEHjo6BXK7KONrukLGbbpzjPG3ucWmuwAAAAAAAAAAAAAAAD5GM7rI9xY4LIQeucj3Frh9ThE6W0l+O5AQpjklY7E5plL1OqZSdTreOea5oDIsu9L4L7vauas6E6EcOsdXCLtEF5m71xh5OQHfh7htzJm68VwQu8j3lrgRAGo6e63eOZcxk7t9ThE6+QeNPb419zwv6MS8AAAAAAAAAAAAAAAAkBCmuHOM8TZzjPG4LISeuR5CxLjmWtM4gI4uu+x7wLlWKbW3wxbHuqozxTrYeY67dT0OPHAMNzrGVmS7Vim1uKozxTpWKbU3ldD9Opcxk7m1hOW7Ad+HuFJIZbsNIL485lpTOvq9mrpkG4i8qPOnuhIBDjsAAAAAAAAAAAAAAADmWlM55lpTuKHSOjq7tby5k5BgOgHfBzkRAGq5s5TPuWLKXDoCfxY7QsbtOsA2GzvmWtM47HvAuux7wDpHVzY8fK4Cu7u1PLlzjHE39MC2vLu1vDmBzku5BQ87vYUN5r9n+7O7odK6OpUwbzyQECa5S5ACPAAAAAAAAAAAAAAAACyEnrlWKTU4JWOxuQHfhzgzpYs5kBCmuLOUz7rse8A5nVIAOY3QiLpCZvy7TIgNu3AMNzvDdjg7W0l+OzU1sDvznC25xvZyu3OM8bpEx5E7dT2OO8j3ljjQg/s8j5SgvPltE7wno847XvIlvB5CRLzta9Y7AAAAAAAAAAAAAAAAFyHXOXOM8beJ7zg6HkLEOHOM8bZzjPE5zxiEucHWqTneOea61xj5Oc8YBLpzjHE4QmZ8u3OM8bfPGAQ7xvZyuwefXzvQaIs7yPcWOyyEnrszpYu5Vik1uG5sqDt5p4G/PkazuipSCz0CdyE869uxOx1uwrwAAAAAAAAAAAAAAAAB34c4c4xxt+ZaU7iQECY5SOdaufOcrTmQECY6wdapuQAAAIDmWlM5rHPiuNcYeTmqM0W7o3JJu9OYPrrm+mE8GbH7u5AQpjho68k7EQBquVYpNTnmWlO5gc5LOcj3FrrZnZe8ie+4ufq9mjn5dQg8h9WTvwAAAAAAAAAAAAAAAFYptTedUoA5yPeWONcYeTlzjHE4odI6Osj3FrjYeY46gc5LOQmgAzvEttU7/j1VuqZS9TlhelU8HkLEOdfIcTxCxu05M6WLuTclRjpzjPG3c4zxNh5CxDhI51o5c4xxOF7qsLvPGIQ5hl+UOx5CRDsb/BE/AAAAAAAAAAAAAAAAHkLEuAHfh7gB34c4ZWsPuaxz4jjPGIS6yPcWuXOM8TgeQkQ5TIgNu9Uo47sB3wc6iY9HO/cc6LrA5pM7wdapOdOYvjqzlM850GiLvBch1znI9xY6FPGju74197rI9xY5hrcQvPbcyjpI51o585wtulV6v74AAAAAAAAAAAAAAABlaw85Vik1uEjn2rmJ77g5FyHXOjAEWbrXGPk5Vik1OZ/yDjsjIxQ7nfHqutFYoTo15ag64YqROwMfJbtUSYm7/Z3GOzclRjqsc2I5rHNiOuo7o7rXGHk5c4xxOGVrD7lUSYm7LIQeOUqH6bsB3we50Ff9OwAAAAAAAAAAAAAAAMj3lrlzjHG5fU6RulYptbidUgC5Vik1OOA6CjtWKbU4kBCmOKMS2DrXGHm7PkYzum4coTuz9EC77HtAurOUzzqaWVG8TsiqOjCsXLyBzku5Ad8HuZAQJjkMgC+68VwQu+IqIDx42zw9Jj64PQHfhzo+RjO6AAAAAAAAAAAAAAAAkBCmOBEAarlWKbU36PuFuuZaUzgB34c4ZqusOlYptbiQECY5SOdaOXyuAruh0ro6c4zxumk70Ts9pqS7SOfaush7kTwlY7E6wdapOSyEHrm7tTy6GsIJOnOM8TdzjPG20LgSuzmR4T0LXCY9nZF5O1AISLoAAAAAAAAAAAAAAABzjHE3Vim1NyCC4ToeQsS4c4xxuDOlC7pzjPE3/j1VOtq5KzqmUnW6hQ8NOxrCCTpV6Ze6cAy3uth5DrtMiA06Vik1us8YhDllpRc9SOdaOWVrD7no+wU75lrTuGULHrtkywC8cVTJvDwjmr0xKOK87HvAuQAAAAAAAAAAAAAAAMj3lrlWKTW5kBCmOInvuDlI51q5SOfaOXOMcbfB1im6fU6ROpAQprjeOeY685ytuZAQprpSSOW7DICvOwnf/DnznK0685wtOcsnyrsz/Qc8jW9zugHfhzkzpYu5Ad+HOOZaU7grJg29An+WvM8YBLqZwTe8AAAAAAAAAAAAAAAArHPiOLu1PDlWKbU35lrTObu1PLkzpYs5gc5LubOUT7rse8A5SOdauSs0l7tWKTU6ZQseu51SALqf8g47gS69u15KorpKf/S8IILhuqxz4rgzpQu6Vik1OdC4EjtOaLk7SOfaOlYpNbpzjHE3EQDqul7qMLwAAAAAAAAAAAAAAAAAAACA5lrTOFYpNbrznC25Ad+HuQAAAIBlaw87yPcWuZOQ4DoMgK86c4xxt1up7zpeSqI66UuNO1YpNbpeSiK7sLQju8COF72Bzss5tjUCusj3lrlzjHE405g+uxXhObudUgA5ZWuPuSyEnrlOGLK7kVDDugAAAAAAAAAAAAAAAKxz4jisc2I5DcDMuru1PLnznC05M6ULul5KojklYzE6TIgNOhEAajkeQsQ4VemXuso3NDubsU26UKhWu2VrjznmWtO6EQDquub64bvXGHk5M6WLOYnvOLqdUgA6Vim1N7z12TrgZog83jnmOXFUSbx6DVA7AAAAAAAAAAAAAAAAVim1uJAQJrkshB47BV9CuoHOS7lla4+5gc5LOmjrSTqJ77g5m1FcO7+WjDpo60m6QIZQuwKHizxOaDm7CkCSOoevGztChHA9/j1VOl5KorkeQsS5Ad8Hu3OMcbs3JUY6B5/fOrj5mTzznC264NF/vBrCiToAAAAAAAAAAAAAAABWKbU3yPeWuFYpNbhI51q5rHPiOEyIDboB3wc5PkazugHfh7nS+C+7tjUCutq5K7rJlyU7ldD9O9FYITsz/Ye8QieDuvccaDoS8P+7c4xxOB5CxLgeQsS4Z1OwvAHfh7oL4CA7LsS7O6ZSdbp9ThE6ckzUOgAAAAAAAAAAAAAAAHOMcbfmWlM5LIQeuZcxkzm7tby5c4zxN51SADn6vRo6c4zxuQ3AzLoL4CA7y9dCuzXlKDteSiK69nxZuyiT5DtzjPE7c4zxtmhLuzvznK252rkrukLGbbpBQvO8c4xxOYCOLrvr27E7lzGTuhwCp7rSB6o9AAAAAAAAAAAAAAAAyPcWuHOM8TZzjPG2M6WLOcj3FrgshB65Vik1uKZSdTrmWlM685wtunOM8bgvZEq7zhdgu2jrSTo4ZeO6PzbJuxIBDrxzjHG4tYzavHut3rlWKbU35lpTOtL4LztWKTU5HkLEuQEvD7ydUoC6tnR7vJJAWbwAAAAAAAAAAAAAAAAB34e4Vim1OAHfh7izlM+5u7U8OQnffLp9TpE685wtOnOMcblV6Re7lzGTumjryTokwyK7f+4fuzC00Tv8pTu8BV/Cu3OM8balAu477HtAOvq9mjl5bcG6mNEhu6xz4rimUvU5/UVKPKjzJ7qmUvW5r3SGuwAAAAAAAAAAAAAAAA==",
          "dtype": "f4",
          "shape": "32, 32"
         }
        }
       ],
       "layout": {
        "coloraxis": {
         "cmid": 0,
         "colorbar": {
          "ticksuffix": "%",
          "title": {
           "text": "Logit diff. variation"
          }
         },
         "colorscale": [
          [
           0,
           "rgb(103,0,31)"
          ],
          [
           0.1,
           "rgb(178,24,43)"
          ],
          [
           0.2,
           "rgb(214,96,77)"
          ],
          [
           0.3,
           "rgb(244,165,130)"
          ],
          [
           0.4,
           "rgb(253,219,199)"
          ],
          [
           0.5,
           "rgb(247,247,247)"
          ],
          [
           0.6,
           "rgb(209,229,240)"
          ],
          [
           0.7,
           "rgb(146,197,222)"
          ],
          [
           0.8,
           "rgb(67,147,195)"
          ],
          [
           0.9,
           "rgb(33,102,172)"
          ],
          [
           1,
           "rgb(5,48,97)"
          ]
         ]
        },
        "height": 400,
        "template": {
         "data": {
          "bar": [
           {
            "error_x": {
             "color": "#2a3f5f"
            },
            "error_y": {
             "color": "#2a3f5f"
            },
            "marker": {
             "line": {
              "color": "#E5ECF6",
              "width": 0.5
             },
             "pattern": {
              "fillmode": "overlay",
              "size": 10,
              "solidity": 0.2
             }
            },
            "type": "bar"
           }
          ],
          "barpolar": [
           {
            "marker": {
             "line": {
              "color": "#E5ECF6",
              "width": 0.5
             },
             "pattern": {
              "fillmode": "overlay",
              "size": 10,
              "solidity": 0.2
             }
            },
            "type": "barpolar"
           }
          ],
          "carpet": [
           {
            "aaxis": {
             "endlinecolor": "#2a3f5f",
             "gridcolor": "white",
             "linecolor": "white",
             "minorgridcolor": "white",
             "startlinecolor": "#2a3f5f"
            },
            "baxis": {
             "endlinecolor": "#2a3f5f",
             "gridcolor": "white",
             "linecolor": "white",
             "minorgridcolor": "white",
             "startlinecolor": "#2a3f5f"
            },
            "type": "carpet"
           }
          ],
          "choropleth": [
           {
            "colorbar": {
             "outlinewidth": 0,
             "ticks": ""
            },
            "type": "choropleth"
           }
          ],
          "contour": [
           {
            "colorbar": {
             "outlinewidth": 0,
             "ticks": ""
            },
            "colorscale": [
             [
              0,
              "#0d0887"
             ],
             [
              0.1111111111111111,
              "#46039f"
             ],
             [
              0.2222222222222222,
              "#7201a8"
             ],
             [
              0.3333333333333333,
              "#9c179e"
             ],
             [
              0.4444444444444444,
              "#bd3786"
             ],
             [
              0.5555555555555556,
              "#d8576b"
             ],
             [
              0.6666666666666666,
              "#ed7953"
             ],
             [
              0.7777777777777778,
              "#fb9f3a"
             ],
             [
              0.8888888888888888,
              "#fdca26"
             ],
             [
              1,
              "#f0f921"
             ]
            ],
            "type": "contour"
           }
          ],
          "contourcarpet": [
           {
            "colorbar": {
             "outlinewidth": 0,
             "ticks": ""
            },
            "type": "contourcarpet"
           }
          ],
          "heatmap": [
           {
            "colorbar": {
             "outlinewidth": 0,
             "ticks": ""
            },
            "colorscale": [
             [
              0,
              "#0d0887"
             ],
             [
              0.1111111111111111,
              "#46039f"
             ],
             [
              0.2222222222222222,
              "#7201a8"
             ],
             [
              0.3333333333333333,
              "#9c179e"
             ],
             [
              0.4444444444444444,
              "#bd3786"
             ],
             [
              0.5555555555555556,
              "#d8576b"
             ],
             [
              0.6666666666666666,
              "#ed7953"
             ],
             [
              0.7777777777777778,
              "#fb9f3a"
             ],
             [
              0.8888888888888888,
              "#fdca26"
             ],
             [
              1,
              "#f0f921"
             ]
            ],
            "type": "heatmap"
           }
          ],
          "histogram": [
           {
            "marker": {
             "pattern": {
              "fillmode": "overlay",
              "size": 10,
              "solidity": 0.2
             }
            },
            "type": "histogram"
           }
          ],
          "histogram2d": [
           {
            "colorbar": {
             "outlinewidth": 0,
             "ticks": ""
            },
            "colorscale": [
             [
              0,
              "#0d0887"
             ],
             [
              0.1111111111111111,
              "#46039f"
             ],
             [
              0.2222222222222222,
              "#7201a8"
             ],
             [
              0.3333333333333333,
              "#9c179e"
             ],
             [
              0.4444444444444444,
              "#bd3786"
             ],
             [
              0.5555555555555556,
              "#d8576b"
             ],
             [
              0.6666666666666666,
              "#ed7953"
             ],
             [
              0.7777777777777778,
              "#fb9f3a"
             ],
             [
              0.8888888888888888,
              "#fdca26"
             ],
             [
              1,
              "#f0f921"
             ]
            ],
            "type": "histogram2d"
           }
          ],
          "histogram2dcontour": [
           {
            "colorbar": {
             "outlinewidth": 0,
             "ticks": ""
            },
            "colorscale": [
             [
              0,
              "#0d0887"
             ],
             [
              0.1111111111111111,
              "#46039f"
             ],
             [
              0.2222222222222222,
              "#7201a8"
             ],
             [
              0.3333333333333333,
              "#9c179e"
             ],
             [
              0.4444444444444444,
              "#bd3786"
             ],
             [
              0.5555555555555556,
              "#d8576b"
             ],
             [
              0.6666666666666666,
              "#ed7953"
             ],
             [
              0.7777777777777778,
              "#fb9f3a"
             ],
             [
              0.8888888888888888,
              "#fdca26"
             ],
             [
              1,
              "#f0f921"
             ]
            ],
            "type": "histogram2dcontour"
           }
          ],
          "mesh3d": [
           {
            "colorbar": {
             "outlinewidth": 0,
             "ticks": ""
            },
            "type": "mesh3d"
           }
          ],
          "parcoords": [
           {
            "line": {
             "colorbar": {
              "outlinewidth": 0,
              "ticks": ""
             }
            },
            "type": "parcoords"
           }
          ],
          "pie": [
           {
            "automargin": true,
            "type": "pie"
           }
          ],
          "scatter": [
           {
            "fillpattern": {
             "fillmode": "overlay",
             "size": 10,
             "solidity": 0.2
            },
            "type": "scatter"
           }
          ],
          "scatter3d": [
           {
            "line": {
             "colorbar": {
              "outlinewidth": 0,
              "ticks": ""
             }
            },
            "marker": {
             "colorbar": {
              "outlinewidth": 0,
              "ticks": ""
             }
            },
            "type": "scatter3d"
           }
          ],
          "scattercarpet": [
           {
            "marker": {
             "colorbar": {
              "outlinewidth": 0,
              "ticks": ""
             }
            },
            "type": "scattercarpet"
           }
          ],
          "scattergeo": [
           {
            "marker": {
             "colorbar": {
              "outlinewidth": 0,
              "ticks": ""
             }
            },
            "type": "scattergeo"
           }
          ],
          "scattergl": [
           {
            "marker": {
             "colorbar": {
              "outlinewidth": 0,
              "ticks": ""
             }
            },
            "type": "scattergl"
           }
          ],
          "scattermap": [
           {
            "marker": {
             "colorbar": {
              "outlinewidth": 0,
              "ticks": ""
             }
            },
            "type": "scattermap"
           }
          ],
          "scattermapbox": [
           {
            "marker": {
             "colorbar": {
              "outlinewidth": 0,
              "ticks": ""
             }
            },
            "type": "scattermapbox"
           }
          ],
          "scatterpolar": [
           {
            "marker": {
             "colorbar": {
              "outlinewidth": 0,
              "ticks": ""
             }
            },
            "type": "scatterpolar"
           }
          ],
          "scatterpolargl": [
           {
            "marker": {
             "colorbar": {
              "outlinewidth": 0,
              "ticks": ""
             }
            },
            "type": "scatterpolargl"
           }
          ],
          "scatterternary": [
           {
            "marker": {
             "colorbar": {
              "outlinewidth": 0,
              "ticks": ""
             }
            },
            "type": "scatterternary"
           }
          ],
          "surface": [
           {
            "colorbar": {
             "outlinewidth": 0,
             "ticks": ""
            },
            "colorscale": [
             [
              0,
              "#0d0887"
             ],
             [
              0.1111111111111111,
              "#46039f"
             ],
             [
              0.2222222222222222,
              "#7201a8"
             ],
             [
              0.3333333333333333,
              "#9c179e"
             ],
             [
              0.4444444444444444,
              "#bd3786"
             ],
             [
              0.5555555555555556,
              "#d8576b"
             ],
             [
              0.6666666666666666,
              "#ed7953"
             ],
             [
              0.7777777777777778,
              "#fb9f3a"
             ],
             [
              0.8888888888888888,
              "#fdca26"
             ],
             [
              1,
              "#f0f921"
             ]
            ],
            "type": "surface"
           }
          ],
          "table": [
           {
            "cells": {
             "fill": {
              "color": "#EBF0F8"
             },
             "line": {
              "color": "white"
             }
            },
            "header": {
             "fill": {
              "color": "#C8D4E3"
             },
             "line": {
              "color": "white"
             }
            },
            "type": "table"
           }
          ]
         },
         "layout": {
          "annotationdefaults": {
           "arrowcolor": "#2a3f5f",
           "arrowhead": 0,
           "arrowwidth": 1
          },
          "autotypenumbers": "strict",
          "coloraxis": {
           "colorbar": {
            "outlinewidth": 0,
            "ticks": ""
           }
          },
          "colorscale": {
           "diverging": [
            [
             0,
             "#8e0152"
            ],
            [
             0.1,
             "#c51b7d"
            ],
            [
             0.2,
             "#de77ae"
            ],
            [
             0.3,
             "#f1b6da"
            ],
            [
             0.4,
             "#fde0ef"
            ],
            [
             0.5,
             "#f7f7f7"
            ],
            [
             0.6,
             "#e6f5d0"
            ],
            [
             0.7,
             "#b8e186"
            ],
            [
             0.8,
             "#7fbc41"
            ],
            [
             0.9,
             "#4d9221"
            ],
            [
             1,
             "#276419"
            ]
           ],
           "sequential": [
            [
             0,
             "#0d0887"
            ],
            [
             0.1111111111111111,
             "#46039f"
            ],
            [
             0.2222222222222222,
             "#7201a8"
            ],
            [
             0.3333333333333333,
             "#9c179e"
            ],
            [
             0.4444444444444444,
             "#bd3786"
            ],
            [
             0.5555555555555556,
             "#d8576b"
            ],
            [
             0.6666666666666666,
             "#ed7953"
            ],
            [
             0.7777777777777778,
             "#fb9f3a"
            ],
            [
             0.8888888888888888,
             "#fdca26"
            ],
            [
             1,
             "#f0f921"
            ]
           ],
           "sequentialminus": [
            [
             0,
             "#0d0887"
            ],
            [
             0.1111111111111111,
             "#46039f"
            ],
            [
             0.2222222222222222,
             "#7201a8"
            ],
            [
             0.3333333333333333,
             "#9c179e"
            ],
            [
             0.4444444444444444,
             "#bd3786"
            ],
            [
             0.5555555555555556,
             "#d8576b"
            ],
            [
             0.6666666666666666,
             "#ed7953"
            ],
            [
             0.7777777777777778,
             "#fb9f3a"
            ],
            [
             0.8888888888888888,
             "#fdca26"
            ],
            [
             1,
             "#f0f921"
            ]
           ]
          },
          "colorway": [
           "#636efa",
           "#EF553B",
           "#00cc96",
           "#ab63fa",
           "#FFA15A",
           "#19d3f3",
           "#FF6692",
           "#B6E880",
           "#FF97FF",
           "#FECB52"
          ],
          "font": {
           "color": "#2a3f5f"
          },
          "geo": {
           "bgcolor": "white",
           "lakecolor": "white",
           "landcolor": "#E5ECF6",
           "showlakes": true,
           "showland": true,
           "subunitcolor": "white"
          },
          "hoverlabel": {
           "align": "left"
          },
          "hovermode": "closest",
          "mapbox": {
           "style": "light"
          },
          "paper_bgcolor": "white",
          "plot_bgcolor": "#E5ECF6",
          "polar": {
           "angularaxis": {
            "gridcolor": "white",
            "linecolor": "white",
            "ticks": ""
           },
           "bgcolor": "#E5ECF6",
           "radialaxis": {
            "gridcolor": "white",
            "linecolor": "white",
            "ticks": ""
           }
          },
          "scene": {
           "xaxis": {
            "backgroundcolor": "#E5ECF6",
            "gridcolor": "white",
            "gridwidth": 2,
            "linecolor": "white",
            "showbackground": true,
            "ticks": "",
            "zerolinecolor": "white"
           },
           "yaxis": {
            "backgroundcolor": "#E5ECF6",
            "gridcolor": "white",
            "gridwidth": 2,
            "linecolor": "white",
            "showbackground": true,
            "ticks": "",
            "zerolinecolor": "white"
           },
           "zaxis": {
            "backgroundcolor": "#E5ECF6",
            "gridcolor": "white",
            "gridwidth": 2,
            "linecolor": "white",
            "showbackground": true,
            "ticks": "",
            "zerolinecolor": "white"
           }
          },
          "shapedefaults": {
           "line": {
            "color": "#2a3f5f"
           }
          },
          "ternary": {
           "aaxis": {
            "gridcolor": "white",
            "linecolor": "white",
            "ticks": ""
           },
           "baxis": {
            "gridcolor": "white",
            "linecolor": "white",
            "ticks": ""
           },
           "bgcolor": "#E5ECF6",
           "caxis": {
            "gridcolor": "white",
            "linecolor": "white",
            "ticks": ""
           }
          },
          "title": {
           "x": 0.05
          },
          "xaxis": {
           "automargin": true,
           "gridcolor": "white",
           "linecolor": "white",
           "ticks": "",
           "title": {
            "standoff": 15
           },
           "zerolinecolor": "white",
           "zerolinewidth": 2
          },
          "yaxis": {
           "automargin": true,
           "gridcolor": "white",
           "linecolor": "white",
           "ticks": "",
           "title": {
            "standoff": 15
           },
           "zerolinecolor": "white",
           "zerolinewidth": 2
          }
         }
        },
        "title": {
         "text": "Path patching results "
        },
        "width": 500,
        "xaxis": {
         "anchor": "y",
         "constrain": "domain",
         "domain": [
          0,
          1
         ],
         "scaleanchor": "y",
         "title": {
          "text": "Layer"
         }
        },
        "yaxis": {
         "anchor": "x",
         "autorange": "reversed",
         "constrain": "domain",
         "domain": [
          0,
          1
         ],
         "title": {
          "text": "Head"
         }
        }
       }
      }
     },
     "metadata": {},
     "output_type": "display_data"
    }
   ],
   "source": [
    "results_h29_11_v = analyze_path_to_head([(29, 11)], \"v\", model, processed_data, begin_layer=0, batch_size=4)"
   ]
  },
  {
   "cell_type": "code",
   "execution_count": 9,
   "metadata": {},
   "outputs": [
    {
     "name": "stderr",
     "output_type": "stream",
     "text": [
      "batch:   0%|          | 0/1 [00:00<?, ?it/s]"
     ]
    },
    {
     "name": "stderr",
     "output_type": "stream",
     "text": [
      "layer: 100%|██████████| 27/27 [04:49<00:00, 10.71s/it]\n",
      "batch: 100%|██████████| 1/1 [04:49<00:00, 289.55s/it]\n"
     ]
    },
    {
     "data": {
      "application/vnd.plotly.v1+json": {
       "config": {
        "plotlyServerURL": "https://plot.ly",
        "staticPlot": false
       },
       "data": [
        {
         "coloraxis": "coloraxis",
         "hovertemplate": "Layer: %{x}<br>Head: %{y}<br>Logit diff. variation: %{z}<extra></extra>",
         "name": "0",
         "type": "heatmap",
         "xaxis": "x",
         "yaxis": "y",
         "z": {
          "bdata": "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",
          "dtype": "f4",
          "shape": "32, 32"
         }
        }
       ],
       "layout": {
        "coloraxis": {
         "cmid": 0,
         "colorbar": {
          "ticksuffix": "%",
          "title": {
           "text": "Logit diff. variation"
          }
         },
         "colorscale": [
          [
           0,
           "rgb(103,0,31)"
          ],
          [
           0.1,
           "rgb(178,24,43)"
          ],
          [
           0.2,
           "rgb(214,96,77)"
          ],
          [
           0.3,
           "rgb(244,165,130)"
          ],
          [
           0.4,
           "rgb(253,219,199)"
          ],
          [
           0.5,
           "rgb(247,247,247)"
          ],
          [
           0.6,
           "rgb(209,229,240)"
          ],
          [
           0.7,
           "rgb(146,197,222)"
          ],
          [
           0.8,
           "rgb(67,147,195)"
          ],
          [
           0.9,
           "rgb(33,102,172)"
          ],
          [
           1,
           "rgb(5,48,97)"
          ]
         ]
        },
        "height": 400,
        "template": {
         "data": {
          "bar": [
           {
            "error_x": {
             "color": "#2a3f5f"
            },
            "error_y": {
             "color": "#2a3f5f"
            },
            "marker": {
             "line": {
              "color": "#E5ECF6",
              "width": 0.5
             },
             "pattern": {
              "fillmode": "overlay",
              "size": 10,
              "solidity": 0.2
             }
            },
            "type": "bar"
           }
          ],
          "barpolar": [
           {
            "marker": {
             "line": {
              "color": "#E5ECF6",
              "width": 0.5
             },
             "pattern": {
              "fillmode": "overlay",
              "size": 10,
              "solidity": 0.2
             }
            },
            "type": "barpolar"
           }
          ],
          "carpet": [
           {
            "aaxis": {
             "endlinecolor": "#2a3f5f",
             "gridcolor": "white",
             "linecolor": "white",
             "minorgridcolor": "white",
             "startlinecolor": "#2a3f5f"
            },
            "baxis": {
             "endlinecolor": "#2a3f5f",
             "gridcolor": "white",
             "linecolor": "white",
             "minorgridcolor": "white",
             "startlinecolor": "#2a3f5f"
            },
            "type": "carpet"
           }
          ],
          "choropleth": [
           {
            "colorbar": {
             "outlinewidth": 0,
             "ticks": ""
            },
            "type": "choropleth"
           }
          ],
          "contour": [
           {
            "colorbar": {
             "outlinewidth": 0,
             "ticks": ""
            },
            "colorscale": [
             [
              0,
              "#0d0887"
             ],
             [
              0.1111111111111111,
              "#46039f"
             ],
             [
              0.2222222222222222,
              "#7201a8"
             ],
             [
              0.3333333333333333,
              "#9c179e"
             ],
             [
              0.4444444444444444,
              "#bd3786"
             ],
             [
              0.5555555555555556,
              "#d8576b"
             ],
             [
              0.6666666666666666,
              "#ed7953"
             ],
             [
              0.7777777777777778,
              "#fb9f3a"
             ],
             [
              0.8888888888888888,
              "#fdca26"
             ],
             [
              1,
              "#f0f921"
             ]
            ],
            "type": "contour"
           }
          ],
          "contourcarpet": [
           {
            "colorbar": {
             "outlinewidth": 0,
             "ticks": ""
            },
            "type": "contourcarpet"
           }
          ],
          "heatmap": [
           {
            "colorbar": {
             "outlinewidth": 0,
             "ticks": ""
            },
            "colorscale": [
             [
              0,
              "#0d0887"
             ],
             [
              0.1111111111111111,
              "#46039f"
             ],
             [
              0.2222222222222222,
              "#7201a8"
             ],
             [
              0.3333333333333333,
              "#9c179e"
             ],
             [
              0.4444444444444444,
              "#bd3786"
             ],
             [
              0.5555555555555556,
              "#d8576b"
             ],
             [
              0.6666666666666666,
              "#ed7953"
             ],
             [
              0.7777777777777778,
              "#fb9f3a"
             ],
             [
              0.8888888888888888,
              "#fdca26"
             ],
             [
              1,
              "#f0f921"
             ]
            ],
            "type": "heatmap"
           }
          ],
          "histogram": [
           {
            "marker": {
             "pattern": {
              "fillmode": "overlay",
              "size": 10,
              "solidity": 0.2
             }
            },
            "type": "histogram"
           }
          ],
          "histogram2d": [
           {
            "colorbar": {
             "outlinewidth": 0,
             "ticks": ""
            },
            "colorscale": [
             [
              0,
              "#0d0887"
             ],
             [
              0.1111111111111111,
              "#46039f"
             ],
             [
              0.2222222222222222,
              "#7201a8"
             ],
             [
              0.3333333333333333,
              "#9c179e"
             ],
             [
              0.4444444444444444,
              "#bd3786"
             ],
             [
              0.5555555555555556,
              "#d8576b"
             ],
             [
              0.6666666666666666,
              "#ed7953"
             ],
             [
              0.7777777777777778,
              "#fb9f3a"
             ],
             [
              0.8888888888888888,
              "#fdca26"
             ],
             [
              1,
              "#f0f921"
             ]
            ],
            "type": "histogram2d"
           }
          ],
          "histogram2dcontour": [
           {
            "colorbar": {
             "outlinewidth": 0,
             "ticks": ""
            },
            "colorscale": [
             [
              0,
              "#0d0887"
             ],
             [
              0.1111111111111111,
              "#46039f"
             ],
             [
              0.2222222222222222,
              "#7201a8"
             ],
             [
              0.3333333333333333,
              "#9c179e"
             ],
             [
              0.4444444444444444,
              "#bd3786"
             ],
             [
              0.5555555555555556,
              "#d8576b"
             ],
             [
              0.6666666666666666,
              "#ed7953"
             ],
             [
              0.7777777777777778,
              "#fb9f3a"
             ],
             [
              0.8888888888888888,
              "#fdca26"
             ],
             [
              1,
              "#f0f921"
             ]
            ],
            "type": "histogram2dcontour"
           }
          ],
          "mesh3d": [
           {
            "colorbar": {
             "outlinewidth": 0,
             "ticks": ""
            },
            "type": "mesh3d"
           }
          ],
          "parcoords": [
           {
            "line": {
             "colorbar": {
              "outlinewidth": 0,
              "ticks": ""
             }
            },
            "type": "parcoords"
           }
          ],
          "pie": [
           {
            "automargin": true,
            "type": "pie"
           }
          ],
          "scatter": [
           {
            "fillpattern": {
             "fillmode": "overlay",
             "size": 10,
             "solidity": 0.2
            },
            "type": "scatter"
           }
          ],
          "scatter3d": [
           {
            "line": {
             "colorbar": {
              "outlinewidth": 0,
              "ticks": ""
             }
            },
            "marker": {
             "colorbar": {
              "outlinewidth": 0,
              "ticks": ""
             }
            },
            "type": "scatter3d"
           }
          ],
          "scattercarpet": [
           {
            "marker": {
             "colorbar": {
              "outlinewidth": 0,
              "ticks": ""
             }
            },
            "type": "scattercarpet"
           }
          ],
          "scattergeo": [
           {
            "marker": {
             "colorbar": {
              "outlinewidth": 0,
              "ticks": ""
             }
            },
            "type": "scattergeo"
           }
          ],
          "scattergl": [
           {
            "marker": {
             "colorbar": {
              "outlinewidth": 0,
              "ticks": ""
             }
            },
            "type": "scattergl"
           }
          ],
          "scattermap": [
           {
            "marker": {
             "colorbar": {
              "outlinewidth": 0,
              "ticks": ""
             }
            },
            "type": "scattermap"
           }
          ],
          "scattermapbox": [
           {
            "marker": {
             "colorbar": {
              "outlinewidth": 0,
              "ticks": ""
             }
            },
            "type": "scattermapbox"
           }
          ],
          "scatterpolar": [
           {
            "marker": {
             "colorbar": {
              "outlinewidth": 0,
              "ticks": ""
             }
            },
            "type": "scatterpolar"
           }
          ],
          "scatterpolargl": [
           {
            "marker": {
             "colorbar": {
              "outlinewidth": 0,
              "ticks": ""
             }
            },
            "type": "scatterpolargl"
           }
          ],
          "scatterternary": [
           {
            "marker": {
             "colorbar": {
              "outlinewidth": 0,
              "ticks": ""
             }
            },
            "type": "scatterternary"
           }
          ],
          "surface": [
           {
            "colorbar": {
             "outlinewidth": 0,
             "ticks": ""
            },
            "colorscale": [
             [
              0,
              "#0d0887"
             ],
             [
              0.1111111111111111,
              "#46039f"
             ],
             [
              0.2222222222222222,
              "#7201a8"
             ],
             [
              0.3333333333333333,
              "#9c179e"
             ],
             [
              0.4444444444444444,
              "#bd3786"
             ],
             [
              0.5555555555555556,
              "#d8576b"
             ],
             [
              0.6666666666666666,
              "#ed7953"
             ],
             [
              0.7777777777777778,
              "#fb9f3a"
             ],
             [
              0.8888888888888888,
              "#fdca26"
             ],
             [
              1,
              "#f0f921"
             ]
            ],
            "type": "surface"
           }
          ],
          "table": [
           {
            "cells": {
             "fill": {
              "color": "#EBF0F8"
             },
             "line": {
              "color": "white"
             }
            },
            "header": {
             "fill": {
              "color": "#C8D4E3"
             },
             "line": {
              "color": "white"
             }
            },
            "type": "table"
           }
          ]
         },
         "layout": {
          "annotationdefaults": {
           "arrowcolor": "#2a3f5f",
           "arrowhead": 0,
           "arrowwidth": 1
          },
          "autotypenumbers": "strict",
          "coloraxis": {
           "colorbar": {
            "outlinewidth": 0,
            "ticks": ""
           }
          },
          "colorscale": {
           "diverging": [
            [
             0,
             "#8e0152"
            ],
            [
             0.1,
             "#c51b7d"
            ],
            [
             0.2,
             "#de77ae"
            ],
            [
             0.3,
             "#f1b6da"
            ],
            [
             0.4,
             "#fde0ef"
            ],
            [
             0.5,
             "#f7f7f7"
            ],
            [
             0.6,
             "#e6f5d0"
            ],
            [
             0.7,
             "#b8e186"
            ],
            [
             0.8,
             "#7fbc41"
            ],
            [
             0.9,
             "#4d9221"
            ],
            [
             1,
             "#276419"
            ]
           ],
           "sequential": [
            [
             0,
             "#0d0887"
            ],
            [
             0.1111111111111111,
             "#46039f"
            ],
            [
             0.2222222222222222,
             "#7201a8"
            ],
            [
             0.3333333333333333,
             "#9c179e"
            ],
            [
             0.4444444444444444,
             "#bd3786"
            ],
            [
             0.5555555555555556,
             "#d8576b"
            ],
            [
             0.6666666666666666,
             "#ed7953"
            ],
            [
             0.7777777777777778,
             "#fb9f3a"
            ],
            [
             0.8888888888888888,
             "#fdca26"
            ],
            [
             1,
             "#f0f921"
            ]
           ],
           "sequentialminus": [
            [
             0,
             "#0d0887"
            ],
            [
             0.1111111111111111,
             "#46039f"
            ],
            [
             0.2222222222222222,
             "#7201a8"
            ],
            [
             0.3333333333333333,
             "#9c179e"
            ],
            [
             0.4444444444444444,
             "#bd3786"
            ],
            [
             0.5555555555555556,
             "#d8576b"
            ],
            [
             0.6666666666666666,
             "#ed7953"
            ],
            [
             0.7777777777777778,
             "#fb9f3a"
            ],
            [
             0.8888888888888888,
             "#fdca26"
            ],
            [
             1,
             "#f0f921"
            ]
           ]
          },
          "colorway": [
           "#636efa",
           "#EF553B",
           "#00cc96",
           "#ab63fa",
           "#FFA15A",
           "#19d3f3",
           "#FF6692",
           "#B6E880",
           "#FF97FF",
           "#FECB52"
          ],
          "font": {
           "color": "#2a3f5f"
          },
          "geo": {
           "bgcolor": "white",
           "lakecolor": "white",
           "landcolor": "#E5ECF6",
           "showlakes": true,
           "showland": true,
           "subunitcolor": "white"
          },
          "hoverlabel": {
           "align": "left"
          },
          "hovermode": "closest",
          "mapbox": {
           "style": "light"
          },
          "paper_bgcolor": "white",
          "plot_bgcolor": "#E5ECF6",
          "polar": {
           "angularaxis": {
            "gridcolor": "white",
            "linecolor": "white",
            "ticks": ""
           },
           "bgcolor": "#E5ECF6",
           "radialaxis": {
            "gridcolor": "white",
            "linecolor": "white",
            "ticks": ""
           }
          },
          "scene": {
           "xaxis": {
            "backgroundcolor": "#E5ECF6",
            "gridcolor": "white",
            "gridwidth": 2,
            "linecolor": "white",
            "showbackground": true,
            "ticks": "",
            "zerolinecolor": "white"
           },
           "yaxis": {
            "backgroundcolor": "#E5ECF6",
            "gridcolor": "white",
            "gridwidth": 2,
            "linecolor": "white",
            "showbackground": true,
            "ticks": "",
            "zerolinecolor": "white"
           },
           "zaxis": {
            "backgroundcolor": "#E5ECF6",
            "gridcolor": "white",
            "gridwidth": 2,
            "linecolor": "white",
            "showbackground": true,
            "ticks": "",
            "zerolinecolor": "white"
           }
          },
          "shapedefaults": {
           "line": {
            "color": "#2a3f5f"
           }
          },
          "ternary": {
           "aaxis": {
            "gridcolor": "white",
            "linecolor": "white",
            "ticks": ""
           },
           "baxis": {
            "gridcolor": "white",
            "linecolor": "white",
            "ticks": ""
           },
           "bgcolor": "#E5ECF6",
           "caxis": {
            "gridcolor": "white",
            "linecolor": "white",
            "ticks": ""
           }
          },
          "title": {
           "x": 0.05
          },
          "xaxis": {
           "automargin": true,
           "gridcolor": "white",
           "linecolor": "white",
           "ticks": "",
           "title": {
            "standoff": 15
           },
           "zerolinecolor": "white",
           "zerolinewidth": 2
          },
          "yaxis": {
           "automargin": true,
           "gridcolor": "white",
           "linecolor": "white",
           "ticks": "",
           "title": {
            "standoff": 15
           },
           "zerolinecolor": "white",
           "zerolinewidth": 2
          }
         }
        },
        "title": {
         "text": "Path patching results "
        },
        "width": 500,
        "xaxis": {
         "anchor": "y",
         "constrain": "domain",
         "domain": [
          0,
          1
         ],
         "scaleanchor": "y",
         "title": {
          "text": "Layer"
         }
        },
        "yaxis": {
         "anchor": "x",
         "autorange": "reversed",
         "constrain": "domain",
         "domain": [
          0,
          1
         ],
         "title": {
          "text": "Head"
         }
        }
       }
      }
     },
     "metadata": {},
     "output_type": "display_data"
    }
   ],
   "source": [
    "results_h26_2_v = analyze_path_to_head([(26, 2)], \"v\", model, processed_data, begin_layer=0, batch_size=4)"
   ]
  }
 ],
 "metadata": {
  "kernelspec": {
   "display_name": "fi4",
   "language": "python",
   "name": "python3"
  },
  "language_info": {
   "codemirror_mode": {
    "name": "ipython",
    "version": 3
   },
   "file_extension": ".py",
   "mimetype": "text/x-python",
   "name": "python",
   "nbconvert_exporter": "python",
   "pygments_lexer": "ipython3",
   "version": "3.12.11"
  }
 },
 "nbformat": 4,
 "nbformat_minor": 2
}
