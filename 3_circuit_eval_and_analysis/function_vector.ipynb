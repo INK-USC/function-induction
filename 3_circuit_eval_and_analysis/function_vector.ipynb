{
 "cells": [
  {
   "cell_type": "markdown",
   "metadata": {},
   "source": [
    "### Helper"
   ]
  },
  {
   "cell_type": "code",
   "execution_count": 1,
   "metadata": {},
   "outputs": [
    {
     "name": "stdout",
     "output_type": "stream",
     "text": [
      "/home/qinyuan/function-induction\n"
     ]
    }
   ],
   "source": [
    "import os\n",
    "import sys\n",
    "\n",
    "# to import functions from `patching_utils.py` and `plotly_utils.py`,\n",
    "# we need to add the repository directory to the system path.\n",
    "current_dir = os.path.dirname(os.getcwd())\n",
    "print(current_dir)\n",
    "if current_dir not in sys.path:\n",
    "    sys.path.append(current_dir)"
   ]
  },
  {
   "cell_type": "code",
   "execution_count": 2,
   "metadata": {},
   "outputs": [
    {
     "name": "stderr",
     "output_type": "stream",
     "text": [
      "/home/qinyuan/miniconda3/envs/fi4/lib/python3.12/site-packages/tqdm/auto.py:21: TqdmWarning: IProgress not found. Please update jupyter and ipywidgets. See https://ipywidgets.readthedocs.io/en/stable/user_install.html\n",
      "  from .autonotebook import tqdm as notebook_tqdm\n"
     ]
    }
   ],
   "source": [
    "import torch as t\n",
    "from torch import Tensor\n",
    "import torch.nn.functional as F\n",
    "\n",
    "from transformer_lens import HookedTransformer, patching, ActivationCache, utils\n",
    "from transformer_lens.hook_points import HookPoint\n",
    "\n",
    "t.set_grad_enabled(False)\n",
    "\n",
    "from jaxtyping import Float, Int, Bool\n",
    "from typing import Literal, Callable, Dict, Tuple\n",
    "from functools import partial\n",
    "\n",
    "from IPython.display import display, HTML\n",
    "from plotly_utils import imshow, line, scatter, bar\n",
    "from patching_utils import prepare_data_for_fwd\n",
    "\n",
    "from tqdm import trange"
   ]
  },
  {
   "cell_type": "code",
   "execution_count": 3,
   "metadata": {},
   "outputs": [
    {
     "name": "stderr",
     "output_type": "stream",
     "text": [
      "WARNING:root:You tried to specify center_unembed=True for a model using logit softcap, but this can't be done! Softcapping is not invariant upon adding a constant Setting center_unembed=False instead.\n",
      "Loading checkpoint shards: 100%|██████████| 8/8 [00:00<00:00, 137.44it/s]\n",
      "WARNING:root:You are not using LayerNorm, so the writing weights can't be centered! Skipping\n"
     ]
    },
    {
     "name": "stdout",
     "output_type": "stream",
     "text": [
      "Loaded pretrained model google/gemma-2-9b into HookedTransformer\n"
     ]
    }
   ],
   "source": [
    "device = \"cuda:9\"\n",
    "model_name = \"google/gemma-2-9b\"\n",
    "\n",
    "model = HookedTransformer.from_pretrained(model_name, device=device)\n",
    "model.set_ungroup_grouped_query_attention(True)"
   ]
  },
  {
   "cell_type": "code",
   "execution_count": 4,
   "metadata": {},
   "outputs": [],
   "source": [
    "from data_utils import process_dataset, read_jsonl\n",
    "\n",
    "def load_data(offset):\n",
    "    setting, nmax, offset, n_icl_examples = \"setting1\", 9, offset, 4\n",
    "    filename = f\"../data/addition/{setting}/addition_nmax{nmax}_offset{offset}.jsonl\"\n",
    "    data = read_jsonl(filename)\n",
    "    processed_data = process_dataset(data, n_icl_examples=n_icl_examples, offset=offset)\n",
    "    return processed_data"
   ]
  },
  {
   "cell_type": "markdown",
   "metadata": {},
   "source": [
    "### Compute FVs"
   ]
  },
  {
   "cell_type": "code",
   "execution_count": 5,
   "metadata": {},
   "outputs": [],
   "source": [
    "# 0-9 token ids\n",
    "digit_token_ids = [235276, 235274, 235284, 235304, 235310, 235308, 235318, 235324, 235321, 235315]\n",
    "# FI heads\n",
    "heads = [(39, 12), (39, 7), (36, 7), (32, 6), (32, 1), (25, 13), (32, 4), (28, 6), (24, 9), (36, 6)]"
   ]
  },
  {
   "cell_type": "code",
   "execution_count": 28,
   "metadata": {},
   "outputs": [
    {
     "name": "stderr",
     "output_type": "stream",
     "text": [
      "  0%|          | 0/25 [00:00<?, ?it/s]"
     ]
    },
    {
     "name": "stderr",
     "output_type": "stream",
     "text": [
      "100%|██████████| 25/25 [02:07<00:00,  5.12s/it]\n",
      "100%|██████████| 25/25 [02:10<00:00,  5.24s/it]\n",
      "100%|██████████| 25/25 [02:10<00:00,  5.21s/it]\n",
      "100%|██████████| 25/25 [02:09<00:00,  5.19s/it]\n"
     ]
    }
   ],
   "source": [
    "fv_offset = {}\n",
    "for offset in [-2, -1, 1, 2]:\n",
    "    fvs = {}\n",
    "\n",
    "    data = load_data(offset)\n",
    "    batch_size = 4\n",
    "    for st in trange(0, len(data), batch_size):\n",
    "        ed = st + batch_size\n",
    "        batch = data[st: ed]\n",
    "\n",
    "        for head_layer, head_idx in heads:\n",
    "            t.cuda.empty_cache()\n",
    "            _, _, _, _, normal_cache, contrast_cache, normal_logits, contrast_logits = prepare_data_for_fwd(model, batch)\n",
    "            \n",
    "            head_out = contrast_cache[utils.get_act_name(\"z\", head_layer)][:, -1, head_idx, :]\n",
    "\n",
    "            if (head_layer, head_idx) in fvs:\n",
    "                fvs[(head_layer, head_idx)].append(head_out)\n",
    "            else:\n",
    "                fvs[(head_layer, head_idx)] = [head_out]\n",
    "            del contrast_cache\n",
    "            del normal_cache\n",
    "    \n",
    "    for head_layer, head_idx in heads:\n",
    "        tensors = fvs[(head_layer, head_idx)]\n",
    "        fvs[(head_layer, head_idx)] = t.cat(tensors, dim=0).mean(dim=0)\n",
    "\n",
    "    fv_offset[offset] = fvs"
   ]
  },
  {
   "cell_type": "code",
   "execution_count": 29,
   "metadata": {},
   "outputs": [
    {
     "name": "stdout",
     "output_type": "stream",
     "text": [
      "torch.Size([256])\n"
     ]
    }
   ],
   "source": [
    "print(fv_offset[1][(39,12)].shape)"
   ]
  },
  {
   "cell_type": "markdown",
   "metadata": {},
   "source": [
    "### Getting Naive Prompt Logits"
   ]
  },
  {
   "cell_type": "code",
   "execution_count": 10,
   "metadata": {},
   "outputs": [
    {
     "name": "stdout",
     "output_type": "stream",
     "text": [
      "['9=9\\n0=', '0=0\\n1=', '1=1\\n2=', '2=2\\n3=', '3=3\\n4=', '4=4\\n5=', '5=5\\n6=', '6=6\\n7=', '7=7\\n8=', '8=8\\n9=']\n"
     ]
    }
   ],
   "source": [
    "prompts = [\"{}={}\\n{}=\".format((i-1) % 10, (i-1) % 10, i, i) for i in range(10)]\n",
    "print(prompts)"
   ]
  },
  {
   "cell_type": "code",
   "execution_count": 11,
   "metadata": {},
   "outputs": [],
   "source": [
    "digit_logits = model.forward(prompts) # batch_size * seqlen * vocab_size\n",
    "digit_logits = digit_logits[:, -1, digit_token_ids] # batch_size, 0-9"
   ]
  },
  {
   "cell_type": "code",
   "execution_count": 15,
   "metadata": {},
   "outputs": [
    {
     "data": {
      "application/vnd.plotly.v1+json": {
       "config": {
        "plotlyServerURL": "https://plot.ly",
        "staticPlot": false
       },
       "data": [
        {
         "coloraxis": "coloraxis",
         "hovertemplate": "Output: %{x}<br>Input: %{y}<br>color: %{z}<extra></extra>",
         "name": "0",
         "type": "heatmap",
         "xaxis": "x",
         "yaxis": "y",
         "z": {
          "bdata": "mh/vQWS14EG2PtVBsN7RQXJ6z0HsDtFBzMHPQdbdy0HT+tFBxkXfQcrs4EE6ou5BvDjXQdgJ0EGozcxBA5vNQaZ3x0FvLsVBoYfEQZnfxUH3r9VBy0nlQVa37kFsMtlBBufZQQWG0EHW6slB2UnHQbw8yEF1X8VBL1bQQYCu2kH3ct1BOOjuQWkS2UEqStRB9cPSQVwYyUE9qsdB0bvGQYaR0EGFCNlBl5zbQdKg3EFGx+5BBO7YQVA10kEV0M5BJdHMQfzoyUHrC9JBiHLbQdZx1kFiCdhBG6vcQSby7kF+cddBQTPQQSuN0EFJbs9BJXzTQVMq3UGgVtZB7E/XQX4K2EHmOeBB+cXuQaBi10Fc8tJBXgnRQQv80EHb7NtBxuLTQRqt00GpYNNBeHvXQZ4530Euee5BVJzYQfNI00FIdNBBwMfaQRfW0kHtEdBBMhDQQdE90UGm1tVB4+HcQUj+7UGXmNdBp2jRQZn13EG4K9JBbMHQQTuOzkGvSNBBHfLSQQVx1UHoyN1BAQTuQQ==",
          "dtype": "f4",
          "shape": "10, 10"
         }
        }
       ],
       "layout": {
        "coloraxis": {
         "cmax": 30,
         "cmid": 0,
         "cmin": 25,
         "colorscale": [
          [
           0,
           "rgb(247,251,255)"
          ],
          [
           0.125,
           "rgb(222,235,247)"
          ],
          [
           0.25,
           "rgb(198,219,239)"
          ],
          [
           0.375,
           "rgb(158,202,225)"
          ],
          [
           0.5,
           "rgb(107,174,214)"
          ],
          [
           0.625,
           "rgb(66,146,198)"
          ],
          [
           0.75,
           "rgb(33,113,181)"
          ],
          [
           0.875,
           "rgb(8,81,156)"
          ],
          [
           1,
           "rgb(8,48,107)"
          ]
         ]
        },
        "height": 400,
        "template": {
         "data": {
          "bar": [
           {
            "error_x": {
             "color": "#2a3f5f"
            },
            "error_y": {
             "color": "#2a3f5f"
            },
            "marker": {
             "line": {
              "color": "#E5ECF6",
              "width": 0.5
             },
             "pattern": {
              "fillmode": "overlay",
              "size": 10,
              "solidity": 0.2
             }
            },
            "type": "bar"
           }
          ],
          "barpolar": [
           {
            "marker": {
             "line": {
              "color": "#E5ECF6",
              "width": 0.5
             },
             "pattern": {
              "fillmode": "overlay",
              "size": 10,
              "solidity": 0.2
             }
            },
            "type": "barpolar"
           }
          ],
          "carpet": [
           {
            "aaxis": {
             "endlinecolor": "#2a3f5f",
             "gridcolor": "white",
             "linecolor": "white",
             "minorgridcolor": "white",
             "startlinecolor": "#2a3f5f"
            },
            "baxis": {
             "endlinecolor": "#2a3f5f",
             "gridcolor": "white",
             "linecolor": "white",
             "minorgridcolor": "white",
             "startlinecolor": "#2a3f5f"
            },
            "type": "carpet"
           }
          ],
          "choropleth": [
           {
            "colorbar": {
             "outlinewidth": 0,
             "ticks": ""
            },
            "type": "choropleth"
           }
          ],
          "contour": [
           {
            "colorbar": {
             "outlinewidth": 0,
             "ticks": ""
            },
            "colorscale": [
             [
              0,
              "#0d0887"
             ],
             [
              0.1111111111111111,
              "#46039f"
             ],
             [
              0.2222222222222222,
              "#7201a8"
             ],
             [
              0.3333333333333333,
              "#9c179e"
             ],
             [
              0.4444444444444444,
              "#bd3786"
             ],
             [
              0.5555555555555556,
              "#d8576b"
             ],
             [
              0.6666666666666666,
              "#ed7953"
             ],
             [
              0.7777777777777778,
              "#fb9f3a"
             ],
             [
              0.8888888888888888,
              "#fdca26"
             ],
             [
              1,
              "#f0f921"
             ]
            ],
            "type": "contour"
           }
          ],
          "contourcarpet": [
           {
            "colorbar": {
             "outlinewidth": 0,
             "ticks": ""
            },
            "type": "contourcarpet"
           }
          ],
          "heatmap": [
           {
            "colorbar": {
             "outlinewidth": 0,
             "ticks": ""
            },
            "colorscale": [
             [
              0,
              "#0d0887"
             ],
             [
              0.1111111111111111,
              "#46039f"
             ],
             [
              0.2222222222222222,
              "#7201a8"
             ],
             [
              0.3333333333333333,
              "#9c179e"
             ],
             [
              0.4444444444444444,
              "#bd3786"
             ],
             [
              0.5555555555555556,
              "#d8576b"
             ],
             [
              0.6666666666666666,
              "#ed7953"
             ],
             [
              0.7777777777777778,
              "#fb9f3a"
             ],
             [
              0.8888888888888888,
              "#fdca26"
             ],
             [
              1,
              "#f0f921"
             ]
            ],
            "type": "heatmap"
           }
          ],
          "histogram": [
           {
            "marker": {
             "pattern": {
              "fillmode": "overlay",
              "size": 10,
              "solidity": 0.2
             }
            },
            "type": "histogram"
           }
          ],
          "histogram2d": [
           {
            "colorbar": {
             "outlinewidth": 0,
             "ticks": ""
            },
            "colorscale": [
             [
              0,
              "#0d0887"
             ],
             [
              0.1111111111111111,
              "#46039f"
             ],
             [
              0.2222222222222222,
              "#7201a8"
             ],
             [
              0.3333333333333333,
              "#9c179e"
             ],
             [
              0.4444444444444444,
              "#bd3786"
             ],
             [
              0.5555555555555556,
              "#d8576b"
             ],
             [
              0.6666666666666666,
              "#ed7953"
             ],
             [
              0.7777777777777778,
              "#fb9f3a"
             ],
             [
              0.8888888888888888,
              "#fdca26"
             ],
             [
              1,
              "#f0f921"
             ]
            ],
            "type": "histogram2d"
           }
          ],
          "histogram2dcontour": [
           {
            "colorbar": {
             "outlinewidth": 0,
             "ticks": ""
            },
            "colorscale": [
             [
              0,
              "#0d0887"
             ],
             [
              0.1111111111111111,
              "#46039f"
             ],
             [
              0.2222222222222222,
              "#7201a8"
             ],
             [
              0.3333333333333333,
              "#9c179e"
             ],
             [
              0.4444444444444444,
              "#bd3786"
             ],
             [
              0.5555555555555556,
              "#d8576b"
             ],
             [
              0.6666666666666666,
              "#ed7953"
             ],
             [
              0.7777777777777778,
              "#fb9f3a"
             ],
             [
              0.8888888888888888,
              "#fdca26"
             ],
             [
              1,
              "#f0f921"
             ]
            ],
            "type": "histogram2dcontour"
           }
          ],
          "mesh3d": [
           {
            "colorbar": {
             "outlinewidth": 0,
             "ticks": ""
            },
            "type": "mesh3d"
           }
          ],
          "parcoords": [
           {
            "line": {
             "colorbar": {
              "outlinewidth": 0,
              "ticks": ""
             }
            },
            "type": "parcoords"
           }
          ],
          "pie": [
           {
            "automargin": true,
            "type": "pie"
           }
          ],
          "scatter": [
           {
            "fillpattern": {
             "fillmode": "overlay",
             "size": 10,
             "solidity": 0.2
            },
            "type": "scatter"
           }
          ],
          "scatter3d": [
           {
            "line": {
             "colorbar": {
              "outlinewidth": 0,
              "ticks": ""
             }
            },
            "marker": {
             "colorbar": {
              "outlinewidth": 0,
              "ticks": ""
             }
            },
            "type": "scatter3d"
           }
          ],
          "scattercarpet": [
           {
            "marker": {
             "colorbar": {
              "outlinewidth": 0,
              "ticks": ""
             }
            },
            "type": "scattercarpet"
           }
          ],
          "scattergeo": [
           {
            "marker": {
             "colorbar": {
              "outlinewidth": 0,
              "ticks": ""
             }
            },
            "type": "scattergeo"
           }
          ],
          "scattergl": [
           {
            "marker": {
             "colorbar": {
              "outlinewidth": 0,
              "ticks": ""
             }
            },
            "type": "scattergl"
           }
          ],
          "scattermap": [
           {
            "marker": {
             "colorbar": {
              "outlinewidth": 0,
              "ticks": ""
             }
            },
            "type": "scattermap"
           }
          ],
          "scattermapbox": [
           {
            "marker": {
             "colorbar": {
              "outlinewidth": 0,
              "ticks": ""
             }
            },
            "type": "scattermapbox"
           }
          ],
          "scatterpolar": [
           {
            "marker": {
             "colorbar": {
              "outlinewidth": 0,
              "ticks": ""
             }
            },
            "type": "scatterpolar"
           }
          ],
          "scatterpolargl": [
           {
            "marker": {
             "colorbar": {
              "outlinewidth": 0,
              "ticks": ""
             }
            },
            "type": "scatterpolargl"
           }
          ],
          "scatterternary": [
           {
            "marker": {
             "colorbar": {
              "outlinewidth": 0,
              "ticks": ""
             }
            },
            "type": "scatterternary"
           }
          ],
          "surface": [
           {
            "colorbar": {
             "outlinewidth": 0,
             "ticks": ""
            },
            "colorscale": [
             [
              0,
              "#0d0887"
             ],
             [
              0.1111111111111111,
              "#46039f"
             ],
             [
              0.2222222222222222,
              "#7201a8"
             ],
             [
              0.3333333333333333,
              "#9c179e"
             ],
             [
              0.4444444444444444,
              "#bd3786"
             ],
             [
              0.5555555555555556,
              "#d8576b"
             ],
             [
              0.6666666666666666,
              "#ed7953"
             ],
             [
              0.7777777777777778,
              "#fb9f3a"
             ],
             [
              0.8888888888888888,
              "#fdca26"
             ],
             [
              1,
              "#f0f921"
             ]
            ],
            "type": "surface"
           }
          ],
          "table": [
           {
            "cells": {
             "fill": {
              "color": "#EBF0F8"
             },
             "line": {
              "color": "white"
             }
            },
            "header": {
             "fill": {
              "color": "#C8D4E3"
             },
             "line": {
              "color": "white"
             }
            },
            "type": "table"
           }
          ]
         },
         "layout": {
          "annotationdefaults": {
           "arrowcolor": "#2a3f5f",
           "arrowhead": 0,
           "arrowwidth": 1
          },
          "autotypenumbers": "strict",
          "coloraxis": {
           "colorbar": {
            "outlinewidth": 0,
            "ticks": ""
           }
          },
          "colorscale": {
           "diverging": [
            [
             0,
             "#8e0152"
            ],
            [
             0.1,
             "#c51b7d"
            ],
            [
             0.2,
             "#de77ae"
            ],
            [
             0.3,
             "#f1b6da"
            ],
            [
             0.4,
             "#fde0ef"
            ],
            [
             0.5,
             "#f7f7f7"
            ],
            [
             0.6,
             "#e6f5d0"
            ],
            [
             0.7,
             "#b8e186"
            ],
            [
             0.8,
             "#7fbc41"
            ],
            [
             0.9,
             "#4d9221"
            ],
            [
             1,
             "#276419"
            ]
           ],
           "sequential": [
            [
             0,
             "#0d0887"
            ],
            [
             0.1111111111111111,
             "#46039f"
            ],
            [
             0.2222222222222222,
             "#7201a8"
            ],
            [
             0.3333333333333333,
             "#9c179e"
            ],
            [
             0.4444444444444444,
             "#bd3786"
            ],
            [
             0.5555555555555556,
             "#d8576b"
            ],
            [
             0.6666666666666666,
             "#ed7953"
            ],
            [
             0.7777777777777778,
             "#fb9f3a"
            ],
            [
             0.8888888888888888,
             "#fdca26"
            ],
            [
             1,
             "#f0f921"
            ]
           ],
           "sequentialminus": [
            [
             0,
             "#0d0887"
            ],
            [
             0.1111111111111111,
             "#46039f"
            ],
            [
             0.2222222222222222,
             "#7201a8"
            ],
            [
             0.3333333333333333,
             "#9c179e"
            ],
            [
             0.4444444444444444,
             "#bd3786"
            ],
            [
             0.5555555555555556,
             "#d8576b"
            ],
            [
             0.6666666666666666,
             "#ed7953"
            ],
            [
             0.7777777777777778,
             "#fb9f3a"
            ],
            [
             0.8888888888888888,
             "#fdca26"
            ],
            [
             1,
             "#f0f921"
            ]
           ]
          },
          "colorway": [
           "#636efa",
           "#EF553B",
           "#00cc96",
           "#ab63fa",
           "#FFA15A",
           "#19d3f3",
           "#FF6692",
           "#B6E880",
           "#FF97FF",
           "#FECB52"
          ],
          "font": {
           "color": "#2a3f5f"
          },
          "geo": {
           "bgcolor": "white",
           "lakecolor": "white",
           "landcolor": "#E5ECF6",
           "showlakes": true,
           "showland": true,
           "subunitcolor": "white"
          },
          "hoverlabel": {
           "align": "left"
          },
          "hovermode": "closest",
          "mapbox": {
           "style": "light"
          },
          "paper_bgcolor": "white",
          "plot_bgcolor": "#E5ECF6",
          "polar": {
           "angularaxis": {
            "gridcolor": "white",
            "linecolor": "white",
            "ticks": ""
           },
           "bgcolor": "#E5ECF6",
           "radialaxis": {
            "gridcolor": "white",
            "linecolor": "white",
            "ticks": ""
           }
          },
          "scene": {
           "xaxis": {
            "backgroundcolor": "#E5ECF6",
            "gridcolor": "white",
            "gridwidth": 2,
            "linecolor": "white",
            "showbackground": true,
            "ticks": "",
            "zerolinecolor": "white"
           },
           "yaxis": {
            "backgroundcolor": "#E5ECF6",
            "gridcolor": "white",
            "gridwidth": 2,
            "linecolor": "white",
            "showbackground": true,
            "ticks": "",
            "zerolinecolor": "white"
           },
           "zaxis": {
            "backgroundcolor": "#E5ECF6",
            "gridcolor": "white",
            "gridwidth": 2,
            "linecolor": "white",
            "showbackground": true,
            "ticks": "",
            "zerolinecolor": "white"
           }
          },
          "shapedefaults": {
           "line": {
            "color": "#2a3f5f"
           }
          },
          "ternary": {
           "aaxis": {
            "gridcolor": "white",
            "linecolor": "white",
            "ticks": ""
           },
           "baxis": {
            "gridcolor": "white",
            "linecolor": "white",
            "ticks": ""
           },
           "bgcolor": "#E5ECF6",
           "caxis": {
            "gridcolor": "white",
            "linecolor": "white",
            "ticks": ""
           }
          },
          "title": {
           "x": 0.05
          },
          "xaxis": {
           "automargin": true,
           "gridcolor": "white",
           "linecolor": "white",
           "ticks": "",
           "title": {
            "standoff": 15
           },
           "zerolinecolor": "white",
           "zerolinewidth": 2
          },
          "yaxis": {
           "automargin": true,
           "gridcolor": "white",
           "linecolor": "white",
           "ticks": "",
           "title": {
            "standoff": 15
           },
           "zerolinecolor": "white",
           "zerolinewidth": 2
          }
         }
        },
        "title": {
         "text": "Clean Baseline"
        },
        "width": 400,
        "xaxis": {
         "anchor": "y",
         "constrain": "domain",
         "domain": [
          0,
          1
         ],
         "scaleanchor": "y",
         "title": {
          "text": "Output"
         }
        },
        "yaxis": {
         "anchor": "x",
         "autorange": "reversed",
         "constrain": "domain",
         "domain": [
          0,
          1
         ],
         "title": {
          "text": "Input"
         }
        }
       }
      }
     },
     "metadata": {},
     "output_type": "display_data"
    }
   ],
   "source": [
    "imshow(digit_logits,\n",
    "    labels={\"x\": \"Output\", \"y\": \"Input\"},\n",
    "    title=\"Clean Baseline\",\n",
    "    width=400,\n",
    "    height=400,\n",
    "    zmin=25,\n",
    "    zmax=30,\n",
    "    color_continuous_scale=\"Blues\"\n",
    ")"
   ]
  },
  {
   "cell_type": "markdown",
   "metadata": {},
   "source": [
    "### Apply FVs to Naive Prompts"
   ]
  },
  {
   "cell_type": "code",
   "execution_count": 6,
   "metadata": {},
   "outputs": [],
   "source": [
    "def apply_fv_hook(\n",
    "    head_out: Float[Tensor, \"batch pos d_model\"],\n",
    "    hook: HookPoint,\n",
    "    head_idx: int,\n",
    "    fvs: Dict[Tuple[int, int], Tensor],\n",
    ") -> Float[Tensor, \"batch pos d_model\"]:\n",
    "    head_out[:, -1, head_idx, :] += fvs[(hook.layer(), head_idx)]"
   ]
  },
  {
   "cell_type": "code",
   "execution_count": 30,
   "metadata": {},
   "outputs": [],
   "source": [
    "head_diffs_offset = {}\n",
    "for offset in [-2, -1, 1, 2]:\n",
    "    head_diffs = {}\n",
    "    for head_layer, head_idx in heads:\n",
    "        fwd_hooks = [(utils.get_act_name(\"z\", head_layer), partial(apply_fv_hook, head_idx=head_idx, fvs=fv_offset[offset]))]\n",
    "        fv_applied_logits = model.run_with_hooks(prompts, fwd_hooks=fwd_hooks)\n",
    "\n",
    "        fv_applied_logits = fv_applied_logits[:, -1, digit_token_ids] # batch_size x [0-9]\n",
    "\n",
    "        diff = fv_applied_logits - digit_logits\n",
    "        head_diffs[(head_layer, head_idx)] = diff\n",
    "    head_diffs_offset[offset] = head_diffs"
   ]
  },
  {
   "cell_type": "code",
   "execution_count": 31,
   "metadata": {},
   "outputs": [],
   "source": [
    "# aggregated effect of 9 heads\n",
    "aggregated_diff = {}\n",
    "for offset in [-2, -1, 1, 2]:\n",
    "\n",
    "    fwd_hooks = [(utils.get_act_name(\"z\", head_layer), partial(apply_fv_hook, head_idx=head_idx, fvs=fv_offset[offset])) for head_layer, head_idx in heads]\n",
    "    fv_applied_logits = model.run_with_hooks(prompts, fwd_hooks=fwd_hooks)\n",
    "\n",
    "    fv_applied_logits = fv_applied_logits[:, -1, digit_token_ids] # batch_size x [0-9]\n",
    "    # fv_applied_logits = reverse_logit_softcap(fv_applied_logits)\n",
    "\n",
    "    diff = fv_applied_logits - digit_logits\n",
    "    normalized_diff = diff - diff.mean(0).mean(0)\n",
    "    aggregated_diff[offset] = normalized_diff\n"
   ]
  },
  {
   "cell_type": "markdown",
   "metadata": {},
   "source": [
    "### Plotting"
   ]
  },
  {
   "cell_type": "code",
   "execution_count": 7,
   "metadata": {},
   "outputs": [],
   "source": [
    "import matplotlib.pyplot as plt\n",
    "import numpy as np\n",
    "\n",
    "plt.rcParams['font.family'] = 'sans-serif' \n",
    "plt.rcParams['font.sans-serif'] = 'DejaVu Serif' "
   ]
  },
  {
   "cell_type": "markdown",
   "metadata": {},
   "source": [
    "#### Individual effect and aggregated effect"
   ]
  },
  {
   "cell_type": "code",
   "execution_count": 44,
   "metadata": {},
   "outputs": [
    {
     "data": {
      "image/png": "[encoded data removed]",
      "text/plain": [
       "<Figure size 1000x400 with 11 Axes>"
      ]
     },
     "metadata": {},
     "output_type": "display_data"
    }
   ],
   "source": [
    "offset = 1\n",
    "\n",
    "heads_display_order = [(39,7), (39,12), (36,7), (32,1), (32,6), (25,13)] + [(32,4), (28,6), (24,9)]\n",
    "matrices = [head_diffs_offset[offset][(layer, idx)].cpu().numpy() for layer, idx in heads_display_order] + [aggregated_diff[offset].cpu().numpy() * 0.6]\n",
    "titles = [f\"H{l}.{h}\" for l, h in heads_display_order[:6]] + [f\"(H{l}.{h})\" for l, h in heads_display_order[6:]] + [\"9 Heads (Normalized)\"]\n",
    "\n",
    "# Create figure with 2 rows and 5 columns of subplots\n",
    "fig, axes = plt.subplots(2, 5, figsize=(10, 4), sharex=True, sharey=True)\n",
    "\n",
    "# Flatten axes array for easier iteration\n",
    "axes = axes.flatten()\n",
    "\n",
    "# Plot each matrix\n",
    "for i, (ax, matrix, title) in enumerate(zip(axes, matrices, titles)):\n",
    "    im = ax.imshow(matrix, cmap=\"RdBu\", vmin=-0.5, vmax=0.5)\n",
    "    ax.set_title(title, fontsize=9)\n",
    "    ax.set_xlabel(\"Output\", fontsize=9)\n",
    "    if i % 5 == 0:\n",
    "        ax.set_ylabel(\"Input\", fontsize=9)\n",
    "    else:\n",
    "        ax.set_yticks([0, 5])\n",
    "\n",
    "# Add colorbar\n",
    "cbar = fig.colorbar(im, ax=axes.ravel().tolist(), shrink=0.9, ticks=[-0.5, -0.25, 0, 0.25, 0.5])\n",
    "cbar.ax.tick_params(labelsize=9)  # set tick label font size to 12\n",
    "\n",
    "# plt.savefig(\"figures/fv_offset{}.pdf\".format(offset), dpi=300, bbox_inches='tight', pad_inches=0.0)\n",
    "plt.show()"
   ]
  },
  {
   "cell_type": "code",
   "execution_count": 45,
   "metadata": {},
   "outputs": [
    {
     "data": {
      "image/png": "[encoded data removed]",
      "text/plain": [
       "<Figure size 700x300 with 4 Axes>"
      ]
     },
     "metadata": {},
     "output_type": "display_data"
    }
   ],
   "source": [
    "offset = 1\n",
    "heads_display_order = [(32,6), (25,13)] + [(32,4)]\n",
    "matrices = [head_diffs_offset[offset][(layer, idx)].cpu().numpy() for layer, idx in heads_display_order]\n",
    "titles = [f\"H{l}.{h}\" for l, h in heads_display_order[:2]] + [f\"(H{l}.{h})\" for l, h in heads_display_order[2:]]\n",
    "\n",
    "# Create figure with 2 rows and 5 columns of subplots\n",
    "fig, axes = plt.subplots(1, 3, figsize=(7, 3), sharex=True, sharey=True)\n",
    "\n",
    "# Flatten axes array for easier iteration\n",
    "axes = axes.flatten()\n",
    "\n",
    "# Plot each matrix\n",
    "for i, (ax, matrix, title) in enumerate(zip(axes, matrices, titles)):\n",
    "    im = ax.imshow(matrix, cmap=\"RdBu\", vmin=-0.15, vmax=0.15)\n",
    "    ax.set_title(title, fontsize=9)\n",
    "    ax.set_xlabel(\"Output\", fontsize=9)\n",
    "    if i % 5 == 0:\n",
    "        ax.set_ylabel(\"Input\", fontsize=9)\n",
    "    else:\n",
    "        ax.set_yticks([0, 5])\n",
    "\n",
    "# Add colorbar\n",
    "cbar = fig.colorbar(im, ax=axes.ravel().tolist(), shrink=0.55, ticks=[-0.15, 0, 0.15])\n",
    "cbar.ax.tick_params(labelsize=9)  # set tick label font size to 12\n",
    "\n",
    "# plt.tight_layout()\n",
    "\n",
    "plt.savefig(\"figures/fv_scale.pdf\", dpi=300, bbox_inches='tight', pad_inches=0.0)\n",
    "plt.show()"
   ]
  },
  {
   "cell_type": "markdown",
   "metadata": {},
   "source": [
    "### Comparing different offsets"
   ]
  },
  {
   "cell_type": "code",
   "execution_count": 47,
   "metadata": {},
   "outputs": [
    {
     "data": {
      "image/png": "[encoded data removed]",
      "text/plain": [
       "<Figure size 1600x700 with 10 Axes>"
      ]
     },
     "metadata": {},
     "output_type": "display_data"
    }
   ],
   "source": [
    "# Create figure with 2 rows and 5 columns of subplots\n",
    "fig, axes = plt.subplots(2, 4, figsize=(8, 3.5), sharex=True, sharey=True, dpi=200)\n",
    "\n",
    "# Plot each matrix\n",
    "offsets = [-2, -1, 1, 2]\n",
    "for i, (ax, offset) in enumerate(zip(axes[0], offsets)):\n",
    "    im = ax.imshow(head_diffs_offset[offset][(39, 7)].cpu().numpy(), cmap=\"RdBu\", vmin=-0.6, vmax=0.6)\n",
    "    ax.set_title(r\"$k={}$\".format(offset), fontsize=9)\n",
    "    ax.set_xlabel(\"Output\", fontsize=9)\n",
    "    if i == 0:\n",
    "        ax.set_ylabel(\"Input\", fontsize=9)\n",
    "    else:\n",
    "        ax.set_yticks([0, 5])\n",
    "\n",
    "cbar = fig.colorbar(im, ax=axes[0].ravel().tolist(), shrink=0.85, ticks=[-0.6, 0, 0.6])\n",
    "cbar.ax.tick_params(labelsize=9)  \n",
    "axes[0, 0].text(-0.5, 0.5, \"H39.7\", transform=axes[0, 0].transAxes,\n",
    "               va='center', ha='right', fontsize=10)\n",
    "\n",
    "for i, (ax, offset) in enumerate(zip(axes[1], offsets)):\n",
    "    im = ax.imshow(head_diffs_offset[offset][(25, 13)].cpu().numpy(), cmap=\"RdBu\", vmin=-0.2, vmax=0.2)\n",
    "    ax.set_xlabel(\"Output\", fontsize=9)\n",
    "    if i == 0:\n",
    "        ax.set_ylabel(\"Input\", fontsize=9)\n",
    "    else:\n",
    "        ax.set_yticks([0, 5])\n",
    "\n",
    "# Add colorbar\n",
    "cbar = fig.colorbar(im, ax=axes[1].ravel().tolist(), shrink=0.85, ticks=[-0.2, 0, 0.2])\n",
    "cbar.ax.tick_params(labelsize=9) \n",
    "# plt.tight_layout()\n",
    "axes[1, 0].text(-0.45, 0.5, \"H25.13\", transform=axes[1, 0].transAxes,\n",
    "               va='center', ha='right', fontsize=10)\n",
    "\n",
    "plt.savefig(\"figures/fv_different_offset.pdf\", dpi=300, bbox_inches='tight', pad_inches=0.0)\n",
    "plt.show()"
   ]
  },
  {
   "cell_type": "markdown",
   "metadata": {},
   "source": [
    "### Bonus: Effect of FVs in Standard Addition"
   ]
  },
  {
   "cell_type": "code",
   "execution_count": 8,
   "metadata": {},
   "outputs": [
    {
     "name": "stderr",
     "output_type": "stream",
     "text": [
      "100%|██████████| 25/25 [02:16<00:00,  5.47s/it]\n"
     ]
    }
   ],
   "source": [
    "offset = 1\n",
    "fvs_standard = {}\n",
    "\n",
    "data = load_data(offset)\n",
    "batch_size = 4\n",
    "for st in trange(0, len(data), batch_size):\n",
    "    ed = st + batch_size\n",
    "    batch = data[st: ed]\n",
    "\n",
    "    for head_layer, head_idx in heads:\n",
    "        t.cuda.empty_cache()\n",
    "        _, _, _, _, normal_cache, contrast_cache, normal_logits, contrast_logits = prepare_data_for_fwd(model, batch)\n",
    "        \n",
    "        head_out = normal_cache[utils.get_act_name(\"z\", head_layer)][:, -1, head_idx, :]\n",
    "\n",
    "        if (head_layer, head_idx) in fvs_standard:\n",
    "            fvs_standard[(head_layer, head_idx)].append(head_out)\n",
    "        else:\n",
    "            fvs_standard[(head_layer, head_idx)] = [head_out]\n",
    "        del contrast_cache\n",
    "        del normal_cache\n",
    "    \n",
    "for head_layer, head_idx in heads:\n",
    "    tensors = fvs_standard[(head_layer, head_idx)]\n",
    "    fvs_standard[(head_layer, head_idx)] = t.cat(tensors, dim=0).mean(dim=0)"
   ]
  },
  {
   "cell_type": "code",
   "execution_count": 12,
   "metadata": {},
   "outputs": [],
   "source": [
    "head_diffs_standard = {}\n",
    "for head_layer, head_idx in heads:\n",
    "    fwd_hooks = [(utils.get_act_name(\"z\", head_layer), partial(apply_fv_hook, head_idx=head_idx, fvs=fvs_standard))]\n",
    "    fv_applied_logits = model.run_with_hooks(prompts, fwd_hooks=fwd_hooks)\n",
    "\n",
    "    fv_applied_logits = fv_applied_logits[:, -1, digit_token_ids] # batch_size x [0-9]\n",
    "\n",
    "    diff = fv_applied_logits - digit_logits\n",
    "    head_diffs_standard[(head_layer, head_idx)] = diff"
   ]
  },
  {
   "cell_type": "code",
   "execution_count": 13,
   "metadata": {},
   "outputs": [],
   "source": [
    "# aggregated effect of 9 heads\n",
    "fwd_hooks = [(utils.get_act_name(\"z\", head_layer), partial(apply_fv_hook, head_idx=head_idx, fvs=fvs_standard)) for head_layer, head_idx in heads]\n",
    "fv_applied_logits = model.run_with_hooks(prompts, fwd_hooks=fwd_hooks)\n",
    "\n",
    "fv_applied_logits = fv_applied_logits[:, -1, digit_token_ids] # batch_size x [0-9]\n",
    "\n",
    "diff = fv_applied_logits - digit_logits\n",
    "normalized_diff_standard = diff - diff.mean(0).mean(0)\n"
   ]
  },
  {
   "cell_type": "code",
   "execution_count": 17,
   "metadata": {},
   "outputs": [
    {
     "data": {
      "image/png": "[encoded data removed]",
      "text/plain": [
       "<Figure size 1000x400 with 11 Axes>"
      ]
     },
     "metadata": {},
     "output_type": "display_data"
    }
   ],
   "source": [
    "offset = 1\n",
    "\n",
    "heads_display_order = [(39,7), (39,12), (36,7), (32,1), (32,6), (25,13)] + [(32,4), (28,6), (24,9)]\n",
    "matrices = [head_diffs_standard[(layer, idx)].cpu().numpy() for layer, idx in heads_display_order] + [normalized_diff_standard.cpu().numpy() * 0.6]\n",
    "titles = [f\"H{l}.{h}\" for l, h in heads_display_order[:6]] + [f\"(H{l}.{h})\" for l, h in heads_display_order[6:]] + [\"9 Heads (Normalized)\"]\n",
    "\n",
    "# Create figure with 2 rows and 5 columns of subplots\n",
    "fig, axes = plt.subplots(2, 5, figsize=(10, 4), sharex=True, sharey=True)\n",
    "\n",
    "# Flatten axes array for easier iteration\n",
    "axes = axes.flatten()\n",
    "\n",
    "# Plot each matrix\n",
    "for i, (ax, matrix, title) in enumerate(zip(axes, matrices, titles)):\n",
    "    im = ax.imshow(matrix, cmap=\"RdBu\", vmin=-0.5, vmax=0.5)\n",
    "    ax.set_title(title, fontsize=9)\n",
    "    ax.set_xlabel(\"Output\", fontsize=9)\n",
    "    if i % 5 == 0:\n",
    "        ax.set_ylabel(\"Input\", fontsize=9)\n",
    "    else:\n",
    "        ax.set_yticks([0, 5])\n",
    "\n",
    "# Add colorbar\n",
    "cbar = fig.colorbar(im, ax=axes.ravel().tolist(), shrink=0.9, ticks=[-0.5, -0.25, 0, 0.25, 0.5])\n",
    "cbar.ax.tick_params(labelsize=9)  # set tick label font size to 12\n",
    "\n",
    "plt.savefig(\"figures/fv_normal.pdf\", dpi=300, bbox_inches='tight', pad_inches=0.0)\n",
    "plt.show()"
   ]
  }
 ],
 "metadata": {
  "kernelspec": {
   "display_name": "fi4",
   "language": "python",
   "name": "python3"
  },
  "language_info": {
   "codemirror_mode": {
    "name": "ipython",
    "version": 3
   },
   "file_extension": ".py",
   "mimetype": "text/x-python",
   "name": "python",
   "nbconvert_exporter": "python",
   "pygments_lexer": "ipython3",
   "version": "3.12.11"
  }
 },
 "nbformat": 4,
 "nbformat_minor": 2
}
