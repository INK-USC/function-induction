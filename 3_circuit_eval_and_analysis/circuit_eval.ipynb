{
 "cells": [
  {
   "cell_type": "code",
   "execution_count": 1,
   "metadata": {},
   "outputs": [],
   "source": [
    "device = \"cuda:6\""
   ]
  },
  {
   "cell_type": "markdown",
   "metadata": {},
   "source": [
    "### Helper"
   ]
  },
  {
   "cell_type": "code",
   "execution_count": 2,
   "metadata": {},
   "outputs": [
    {
     "name": "stdout",
     "output_type": "stream",
     "text": [
      "/home/qinyuan/function-induction\n"
     ]
    }
   ],
   "source": [
    "import os\n",
    "import sys\n",
    "\n",
    "# to import functions from `patching_utils.py` and `plotly_utils.py`,\n",
    "# we need to add the repository directory to the system path.\n",
    "current_dir = os.path.dirname(os.getcwd())\n",
    "print(current_dir)\n",
    "if current_dir not in sys.path:\n",
    "    sys.path.append(current_dir)"
   ]
  },
  {
   "cell_type": "code",
   "execution_count": 3,
   "metadata": {},
   "outputs": [
    {
     "name": "stderr",
     "output_type": "stream",
     "text": [
      "/home/qinyuan/miniconda3/envs/fi4/lib/python3.12/site-packages/tqdm/auto.py:21: TqdmWarning: IProgress not found. Please update jupyter and ipywidgets. See https://ipywidgets.readthedocs.io/en/stable/user_install.html\n",
      "  from .autonotebook import tqdm as notebook_tqdm\n"
     ]
    }
   ],
   "source": [
    "import torch as t\n",
    "from torch import Tensor\n",
    "import torch.nn.functional as F\n",
    "\n",
    "from transformer_lens import HookedTransformer, patching, ActivationCache, utils\n",
    "from transformer_lens.hook_points import HookPoint\n",
    "\n",
    "import copy\n",
    "import itertools\n",
    "import random"
   ]
  },
  {
   "cell_type": "code",
   "execution_count": 4,
   "metadata": {},
   "outputs": [
    {
     "name": "stdout",
     "output_type": "stream",
     "text": [
      "/home/qinyuan/function-induction\n"
     ]
    }
   ],
   "source": [
    "from data_utils import process_dataset, read_jsonl\n",
    "from circuit_eval_utils import eval_circuit_batched, complete_circuit, identified_circuit, get_completeness_score"
   ]
  },
  {
   "cell_type": "code",
   "execution_count": 5,
   "metadata": {},
   "outputs": [
    {
     "name": "stderr",
     "output_type": "stream",
     "text": [
      "WARNING:root:You tried to specify center_unembed=True for a model using logit softcap, but this can't be done! Softcapping is not invariant upon adding a constant Setting center_unembed=False instead.\n",
      "Loading checkpoint shards: 100%|██████████| 8/8 [00:00<00:00, 131.39it/s]\n",
      "WARNING:root:You are not using LayerNorm, so the writing weights can't be centered! Skipping\n"
     ]
    },
    {
     "name": "stdout",
     "output_type": "stream",
     "text": [
      "Loaded pretrained model google/gemma-2-9b into HookedTransformer\n"
     ]
    }
   ],
   "source": [
    "model_name = \"google/gemma-2-9b\"\n",
    "model = HookedTransformer.from_pretrained(model_name, device=device)\n",
    "model.set_ungroup_grouped_query_attention(True)"
   ]
  },
  {
   "cell_type": "code",
   "execution_count": 6,
   "metadata": {},
   "outputs": [],
   "source": [
    "setting, nmax, offset, n_icl_examples = \"setting1\", 9, 1, 16\n",
    "filename = f\"../data/addition/{setting}/addition_nmax{nmax}_offset{offset}.jsonl\"\n",
    "data = read_jsonl(filename)\n",
    "processed_data = process_dataset(data, n_icl_examples=n_icl_examples, offset=offset)"
   ]
  },
  {
   "cell_type": "markdown",
   "metadata": {},
   "source": [
    "### Faithfulness"
   ]
  },
  {
   "cell_type": "code",
   "execution_count": 7,
   "metadata": {},
   "outputs": [
    {
     "name": "stderr",
     "output_type": "stream",
     "text": [
      "batch: 100%|██████████| 100/100 [01:15<00:00,  1.32it/s]"
     ]
    },
    {
     "name": "stdout",
     "output_type": "stream",
     "text": [
      "Faithfulness metric: 0.784003734588623\n",
      "0.558412094116211 -1.2620720672607422 7.166240234375\n"
     ]
    },
    {
     "name": "stderr",
     "output_type": "stream",
     "text": [
      "\n"
     ]
    }
   ],
   "source": [
    "circuit = identified_circuit(n_shot=16)\n",
    "data = processed_data\n",
    "patched_logits_diff, normal_logits_diff, contrast_logits_diff = eval_circuit_batched(model, data, circuit, batch_size=1)\n",
    "\n",
    "r = (patched_logits_diff - normal_logits_diff) / (contrast_logits_diff - normal_logits_diff)\n",
    "print(\"Faithfulness metric: {}\".format(r.item()))\n",
    "print(patched_logits_diff.item() / 100, contrast_logits_diff.item()/ 100, normal_logits_diff.item()/ 100)"
   ]
  },
  {
   "cell_type": "markdown",
   "metadata": {},
   "source": [
    "### Completeness"
   ]
  },
  {
   "cell_type": "markdown",
   "metadata": {},
   "source": [
    "#### Case 1: Random sets"
   ]
  },
  {
   "cell_type": "code",
   "execution_count": 8,
   "metadata": {},
   "outputs": [
    {
     "name": "stdout",
     "output_type": "stream",
     "text": [
      "[[(36, 7), (38, 6), (40, 11), (25, 13), (38, 9)], [(32, 6), (38, 9), (39, 7), (41, 4), (38, 6)], [(38, 9), (35, 14), (40, 11), (39, 12), (36, 7)], [(39, 12), (40, 12), (35, 9), (40, 11), (31, 5)], [(38, 9), (35, 9), (35, 14), (41, 4), (40, 11)], [(32, 1), (38, 7), (40, 12), (29, 5), (39, 7)], [(32, 6), (40, 11), (39, 7), (35, 9), (38, 6)], [(32, 1), (31, 4), (39, 12), (32, 6), (25, 13)], [(38, 6), (39, 12), (38, 9), (40, 12), (39, 7)], [(38, 6), (29, 5), (32, 1), (40, 11), (31, 5)], [(38, 6), (25, 13), (41, 5), (32, 6), (41, 4)], [(39, 12), (31, 5), (32, 6), (35, 9), (29, 5)], [(36, 7), (35, 14), (25, 13), (31, 5), (32, 1)], [(41, 4), (39, 12), (32, 6), (32, 1), (29, 5)], [(40, 12), (32, 6), (38, 7), (32, 1), (40, 11)], [(41, 5), (32, 1), (38, 6), (40, 11), (25, 13)], [(32, 6), (35, 9), (40, 12), (31, 5), (29, 5)], [(40, 11), (35, 14), (41, 5), (32, 1), (36, 7)], [(39, 12), (36, 7), (40, 11), (25, 13), (38, 6)], [(41, 4), (38, 9), (39, 12), (31, 4), (32, 6)]]\n"
     ]
    }
   ],
   "source": [
    "# Case 1\n",
    "C = identified_circuit(n_shot=16)\n",
    "random.seed(202505)\n",
    "\n",
    "all_heads = list(itertools.chain.from_iterable(C[\"head_circuit\"].values()))\n",
    "\n",
    "def random_subsets(l, n_seq, n_item):\n",
    "    ret = []\n",
    "    for i in range(n_seq):\n",
    "        random.shuffle(l)\n",
    "        ret.append(l[:n_item]) \n",
    "    return ret\n",
    "\n",
    "sampled_heads = random_subsets(all_heads, n_seq=20, n_item=5)\n",
    "print(sampled_heads)"
   ]
  },
  {
   "cell_type": "code",
   "execution_count": 9,
   "metadata": {},
   "outputs": [
    {
     "name": "stderr",
     "output_type": "stream",
     "text": [
      "batch: 100%|██████████| 100/100 [01:16<00:00,  1.30it/s]\n",
      "batch: 100%|██████████| 100/100 [02:30<00:00,  1.51s/it]\n"
     ]
    },
    {
     "name": "stdout",
     "output_type": "stream",
     "text": [
      "Case 0: 2.547141571044922 -0.07345759391784668 2.6205991649627687\n"
     ]
    },
    {
     "name": "stderr",
     "output_type": "stream",
     "text": [
      "batch: 100%|██████████| 100/100 [01:16<00:00,  1.30it/s]\n",
      "batch: 100%|██████████| 100/100 [02:30<00:00,  1.50s/it]\n"
     ]
    },
    {
     "name": "stdout",
     "output_type": "stream",
     "text": [
      "Case 1: 2.3386410522460936 -1.0755357360839843 3.414176788330078\n"
     ]
    },
    {
     "name": "stderr",
     "output_type": "stream",
     "text": [
      "batch: 100%|██████████| 100/100 [01:16<00:00,  1.30it/s]\n",
      "batch: 100%|██████████| 100/100 [02:30<00:00,  1.50s/it]\n"
     ]
    },
    {
     "name": "stdout",
     "output_type": "stream",
     "text": [
      "Case 2: 2.699019470214844 -0.12439414978027344 2.8234136199951174\n"
     ]
    },
    {
     "name": "stderr",
     "output_type": "stream",
     "text": [
      "batch: 100%|██████████| 100/100 [01:16<00:00,  1.30it/s]\n",
      "batch: 100%|██████████| 100/100 [02:30<00:00,  1.50s/it]\n"
     ]
    },
    {
     "name": "stdout",
     "output_type": "stream",
     "text": [
      "Case 3: 1.8515440368652343 -0.8208830261230469 2.672427062988281\n"
     ]
    },
    {
     "name": "stderr",
     "output_type": "stream",
     "text": [
      "batch: 100%|██████████| 100/100 [01:16<00:00,  1.31it/s]\n",
      "batch: 100%|██████████| 100/100 [02:29<00:00,  1.50s/it]\n"
     ]
    },
    {
     "name": "stdout",
     "output_type": "stream",
     "text": [
      "Case 4: -0.04411533832550049 -2.5036575317382814 2.459542193412781\n"
     ]
    },
    {
     "name": "stderr",
     "output_type": "stream",
     "text": [
      "batch: 100%|██████████| 100/100 [01:16<00:00,  1.31it/s]\n",
      "batch: 100%|██████████| 100/100 [02:29<00:00,  1.50s/it]\n"
     ]
    },
    {
     "name": "stdout",
     "output_type": "stream",
     "text": [
      "Case 5: 4.948926391601563 1.4127159118652344 3.5362104797363285\n"
     ]
    },
    {
     "name": "stderr",
     "output_type": "stream",
     "text": [
      "batch: 100%|██████████| 100/100 [01:16<00:00,  1.31it/s]\n",
      "batch: 100%|██████████| 100/100 [02:29<00:00,  1.50s/it]\n"
     ]
    },
    {
     "name": "stdout",
     "output_type": "stream",
     "text": [
      "Case 6: 4.605752563476562 1.2698356628417968 3.335916900634765\n"
     ]
    },
    {
     "name": "stderr",
     "output_type": "stream",
     "text": [
      "batch: 100%|██████████| 100/100 [01:16<00:00,  1.31it/s]\n",
      "batch: 100%|██████████| 100/100 [02:29<00:00,  1.50s/it]\n"
     ]
    },
    {
     "name": "stdout",
     "output_type": "stream",
     "text": [
      "Case 7: 3.0107733154296876 -0.19352298736572265 3.2042963027954103\n"
     ]
    },
    {
     "name": "stderr",
     "output_type": "stream",
     "text": [
      "batch: 100%|██████████| 100/100 [01:16<00:00,  1.31it/s]\n",
      "batch: 100%|██████████| 100/100 [02:29<00:00,  1.50s/it]\n"
     ]
    },
    {
     "name": "stdout",
     "output_type": "stream",
     "text": [
      "Case 8: 5.4933233642578125 1.118897933959961 4.374425430297851\n"
     ]
    },
    {
     "name": "stderr",
     "output_type": "stream",
     "text": [
      "batch: 100%|██████████| 100/100 [01:16<00:00,  1.31it/s]\n",
      "batch: 100%|██████████| 100/100 [02:29<00:00,  1.50s/it]\n"
     ]
    },
    {
     "name": "stdout",
     "output_type": "stream",
     "text": [
      "Case 9: 1.9841629028320313 -1.0663238525390626 3.050486755371094\n"
     ]
    },
    {
     "name": "stderr",
     "output_type": "stream",
     "text": [
      "batch: 100%|██████████| 100/100 [01:16<00:00,  1.31it/s]\n",
      "batch: 100%|██████████| 100/100 [02:29<00:00,  1.50s/it]\n"
     ]
    },
    {
     "name": "stdout",
     "output_type": "stream",
     "text": [
      "Case 10: -1.290277099609375 -3.0240234375 1.7337463378906248\n"
     ]
    },
    {
     "name": "stderr",
     "output_type": "stream",
     "text": [
      "batch: 100%|██████████| 100/100 [01:16<00:00,  1.31it/s]\n",
      "batch: 100%|██████████| 100/100 [02:29<00:00,  1.50s/it]\n"
     ]
    },
    {
     "name": "stdout",
     "output_type": "stream",
     "text": [
      "Case 11: 3.484246826171875 -0.053753342628479 3.538000168800354\n"
     ]
    },
    {
     "name": "stderr",
     "output_type": "stream",
     "text": [
      "batch: 100%|██████████| 100/100 [01:16<00:00,  1.31it/s]\n",
      "batch: 100%|██████████| 100/100 [02:29<00:00,  1.50s/it]\n"
     ]
    },
    {
     "name": "stdout",
     "output_type": "stream",
     "text": [
      "Case 12: 3.3741815185546873 0.6223561096191407 2.7518254089355465\n"
     ]
    },
    {
     "name": "stderr",
     "output_type": "stream",
     "text": [
      "batch: 100%|██████████| 100/100 [01:16<00:00,  1.31it/s]\n",
      "batch: 100%|██████████| 100/100 [02:29<00:00,  1.50s/it]\n"
     ]
    },
    {
     "name": "stdout",
     "output_type": "stream",
     "text": [
      "Case 13: 0.40628971099853517 -2.59814697265625 3.0044366836547853\n"
     ]
    },
    {
     "name": "stderr",
     "output_type": "stream",
     "text": [
      "batch: 100%|██████████| 100/100 [01:16<00:00,  1.31it/s]\n",
      "batch: 100%|██████████| 100/100 [02:29<00:00,  1.50s/it]\n"
     ]
    },
    {
     "name": "stdout",
     "output_type": "stream",
     "text": [
      "Case 14: 2.351753692626953 -0.17903564453125 2.530789337158203\n"
     ]
    },
    {
     "name": "stderr",
     "output_type": "stream",
     "text": [
      "batch: 100%|██████████| 100/100 [01:16<00:00,  1.31it/s]\n",
      "batch: 100%|██████████| 100/100 [02:29<00:00,  1.50s/it]\n"
     ]
    },
    {
     "name": "stdout",
     "output_type": "stream",
     "text": [
      "Case 15: 2.30637451171875 -0.6414163208007813 2.947790832519531\n"
     ]
    },
    {
     "name": "stderr",
     "output_type": "stream",
     "text": [
      "batch: 100%|██████████| 100/100 [01:16<00:00,  1.31it/s]\n",
      "batch: 100%|██████████| 100/100 [02:29<00:00,  1.50s/it]\n"
     ]
    },
    {
     "name": "stdout",
     "output_type": "stream",
     "text": [
      "Case 16: 1.9457846069335938 -0.6443323516845703 2.590116958618164\n"
     ]
    },
    {
     "name": "stderr",
     "output_type": "stream",
     "text": [
      "batch: 100%|██████████| 100/100 [01:16<00:00,  1.31it/s]\n",
      "batch: 100%|██████████| 100/100 [02:29<00:00,  1.50s/it]\n"
     ]
    },
    {
     "name": "stdout",
     "output_type": "stream",
     "text": [
      "Case 17: 2.9664797973632813 0.02606790542602539 2.9404118919372557\n"
     ]
    },
    {
     "name": "stderr",
     "output_type": "stream",
     "text": [
      "batch: 100%|██████████| 100/100 [01:16<00:00,  1.31it/s]\n",
      "batch: 100%|██████████| 100/100 [02:29<00:00,  1.50s/it]\n"
     ]
    },
    {
     "name": "stdout",
     "output_type": "stream",
     "text": [
      "Case 18: 3.638946533203125 0.16908353805541992 3.469862995147705\n"
     ]
    },
    {
     "name": "stderr",
     "output_type": "stream",
     "text": [
      "batch: 100%|██████████| 100/100 [01:16<00:00,  1.31it/s]\n",
      "batch: 100%|██████████| 100/100 [02:29<00:00,  1.50s/it]"
     ]
    },
    {
     "name": "stdout",
     "output_type": "stream",
     "text": [
      "Case 19: 0.4222685241699219 -2.414336700439453 2.836605224609375\n"
     ]
    },
    {
     "name": "stderr",
     "output_type": "stream",
     "text": [
      "\n"
     ]
    }
   ],
   "source": [
    "C = identified_circuit(n_shot=16)\n",
    "M = complete_circuit(n_shot=16)\n",
    "\n",
    "completeness_case1_result = {}\n",
    "for i, heads in enumerate(sampled_heads):\n",
    "    score_A, score_B = get_completeness_score(model, data, C=C, K=heads, M=M, batch_size=1)\n",
    "    print(\"Case {}:\".format(i), score_A, score_B, abs(score_A-score_B)) # score A: C/K; score B: M/K\n",
    "    completeness_case1_result[i] = [heads, score_A, score_B, abs(score_A-score_B)]"
   ]
  },
  {
   "cell_type": "code",
   "execution_count": 10,
   "metadata": {},
   "outputs": [
    {
     "name": "stdout",
     "output_type": "stream",
     "text": [
      "{0: [[(36, 7), (38, 6), (40, 11), (25, 13), (38, 9)], 2.547141571044922, -0.07345759391784668, 2.6205991649627687], 1: [[(32, 6), (38, 9), (39, 7), (41, 4), (38, 6)], 2.3386410522460936, -1.0755357360839843, 3.414176788330078], 2: [[(38, 9), (35, 14), (40, 11), (39, 12), (36, 7)], 2.699019470214844, -0.12439414978027344, 2.8234136199951174], 3: [[(39, 12), (40, 12), (35, 9), (40, 11), (31, 5)], 1.8515440368652343, -0.8208830261230469, 2.672427062988281], 4: [[(38, 9), (35, 9), (35, 14), (41, 4), (40, 11)], -0.04411533832550049, -2.5036575317382814, 2.459542193412781], 5: [[(32, 1), (38, 7), (40, 12), (29, 5), (39, 7)], 4.948926391601563, 1.4127159118652344, 3.5362104797363285], 6: [[(32, 6), (40, 11), (39, 7), (35, 9), (38, 6)], 4.605752563476562, 1.2698356628417968, 3.335916900634765], 7: [[(32, 1), (31, 4), (39, 12), (32, 6), (25, 13)], 3.0107733154296876, -0.19352298736572265, 3.2042963027954103], 8: [[(38, 6), (39, 12), (38, 9), (40, 12), (39, 7)], 5.4933233642578125, 1.118897933959961, 4.374425430297851], 9: [[(38, 6), (29, 5), (32, 1), (40, 11), (31, 5)], 1.9841629028320313, -1.0663238525390626, 3.050486755371094], 10: [[(38, 6), (25, 13), (41, 5), (32, 6), (41, 4)], -1.290277099609375, -3.0240234375, 1.7337463378906248], 11: [[(39, 12), (31, 5), (32, 6), (35, 9), (29, 5)], 3.484246826171875, -0.053753342628479, 3.538000168800354], 12: [[(36, 7), (35, 14), (25, 13), (31, 5), (32, 1)], 3.3741815185546873, 0.6223561096191407, 2.7518254089355465], 13: [[(41, 4), (39, 12), (32, 6), (32, 1), (29, 5)], 0.40628971099853517, -2.59814697265625, 3.0044366836547853], 14: [[(40, 12), (32, 6), (38, 7), (32, 1), (40, 11)], 2.351753692626953, -0.17903564453125, 2.530789337158203], 15: [[(41, 5), (32, 1), (38, 6), (40, 11), (25, 13)], 2.30637451171875, -0.6414163208007813, 2.947790832519531], 16: [[(32, 6), (35, 9), (40, 12), (31, 5), (29, 5)], 1.9457846069335938, -0.6443323516845703, 2.590116958618164], 17: [[(40, 11), (35, 14), (41, 5), (32, 1), (36, 7)], 2.9664797973632813, 0.02606790542602539, 2.9404118919372557], 18: [[(39, 12), (36, 7), (40, 11), (25, 13), (38, 6)], 3.638946533203125, 0.16908353805541992, 3.469862995147705], 19: [[(41, 4), (38, 9), (39, 12), (31, 4), (32, 6)], 0.4222685241699219, -2.414336700439453, 2.836605224609375]}\n"
     ]
    }
   ],
   "source": [
    "print(completeness_case1_result)"
   ]
  },
  {
   "cell_type": "code",
   "execution_count": 8,
   "metadata": {},
   "outputs": [],
   "source": [
    "completeness_case1_result = {0: [[(36, 7), (38, 6), (40, 11), (25, 13), (38, 9)], 2.547141571044922, -0.07345759391784668, 2.6205991649627687], 1: [[(32, 6), (38, 9), (39, 7), (41, 4), (38, 6)], 2.3386410522460936, -1.0755357360839843, 3.414176788330078], 2: [[(38, 9), (35, 14), (40, 11), (39, 12), (36, 7)], 2.699019470214844, -0.12439414978027344, 2.8234136199951174], 3: [[(39, 12), (40, 12), (35, 9), (40, 11), (31, 5)], 1.8515440368652343, -0.8208830261230469, 2.672427062988281], 4: [[(38, 9), (35, 9), (35, 14), (41, 4), (40, 11)], -0.04411533832550049, -2.5036575317382814, 2.459542193412781], 5: [[(32, 1), (38, 7), (40, 12), (29, 5), (39, 7)], 4.948926391601563, 1.4127159118652344, 3.5362104797363285], 6: [[(32, 6), (40, 11), (39, 7), (35, 9), (38, 6)], 4.605752563476562, 1.2698356628417968, 3.335916900634765], 7: [[(32, 1), (31, 4), (39, 12), (32, 6), (25, 13)], 3.0107733154296876, -0.19352298736572265, 3.2042963027954103], 8: [[(38, 6), (39, 12), (38, 9), (40, 12), (39, 7)], 5.4933233642578125, 1.118897933959961, 4.374425430297851], 9: [[(38, 6), (29, 5), (32, 1), (40, 11), (31, 5)], 1.9841629028320313, -1.0663238525390626, 3.050486755371094], 10: [[(38, 6), (25, 13), (41, 5), (32, 6), (41, 4)], -1.290277099609375, -3.0240234375, 1.7337463378906248], 11: [[(39, 12), (31, 5), (32, 6), (35, 9), (29, 5)], 3.484246826171875, -0.053753342628479, 3.538000168800354], 12: [[(36, 7), (35, 14), (25, 13), (31, 5), (32, 1)], 3.3741815185546873, 0.6223561096191407, 2.7518254089355465], 13: [[(41, 4), (39, 12), (32, 6), (32, 1), (29, 5)], 0.40628971099853517, -2.59814697265625, 3.0044366836547853], 14: [[(40, 12), (32, 6), (38, 7), (32, 1), (40, 11)], 2.351753692626953, -0.17903564453125, 2.530789337158203], 15: [[(41, 5), (32, 1), (38, 6), (40, 11), (25, 13)], 2.30637451171875, -0.6414163208007813, 2.947790832519531], 16: [[(32, 6), (35, 9), (40, 12), (31, 5), (29, 5)], 1.9457846069335938, -0.6443323516845703, 2.590116958618164], 17: [[(40, 11), (35, 14), (41, 5), (32, 1), (36, 7)], 2.9664797973632813, 0.02606790542602539, 2.9404118919372557], 18: [[(39, 12), (36, 7), (40, 11), (25, 13), (38, 6)], 3.638946533203125, 0.16908353805541992, 3.469862995147705], 19: [[(41, 4), (38, 9), (39, 12), (31, 4), (32, 6)], 0.4222685241699219, -2.414336700439453, 2.836605224609375]}"
   ]
  },
  {
   "cell_type": "markdown",
   "metadata": {},
   "source": [
    "#### Case 2: Knock out a group"
   ]
  },
  {
   "cell_type": "code",
   "execution_count": 9,
   "metadata": {},
   "outputs": [
    {
     "name": "stderr",
     "output_type": "stream",
     "text": [
      "batch: 100%|██████████| 100/100 [01:16<00:00,  1.32it/s]\n",
      "batch: 100%|██████████| 100/100 [02:30<00:00,  1.50s/it]\n"
     ]
    },
    {
     "name": "stdout",
     "output_type": "stream",
     "text": [
      "empty set []\n",
      "0.558412094116211 -1.2620720672607422 1.8204841613769531\n"
     ]
    },
    {
     "name": "stderr",
     "output_type": "stream",
     "text": [
      "batch: 100%|██████████| 100/100 [01:15<00:00,  1.32it/s]\n",
      "batch: 100%|██████████| 100/100 [02:29<00:00,  1.50s/it]\n"
     ]
    },
    {
     "name": "stdout",
     "output_type": "stream",
     "text": [
      "function_induction [(39, 12), (39, 7), (36, 7), (32, 6), (32, 1), (25, 13)]\n",
      "7.170979614257813 3.2567413330078123 3.9142382812500003\n"
     ]
    },
    {
     "name": "stderr",
     "output_type": "stream",
     "text": [
      "batch: 100%|██████████| 100/100 [01:16<00:00,  1.31it/s]\n",
      "batch: 100%|██████████| 100/100 [02:29<00:00,  1.49s/it]\n"
     ]
    },
    {
     "name": "stdout",
     "output_type": "stream",
     "text": [
      "prev_token [(38, 9), (38, 6), (38, 7), (35, 9), (35, 14), (31, 5), (31, 4), (29, 5)]\n",
      "7.213325805664063 3.01134765625 4.201978149414063\n"
     ]
    },
    {
     "name": "stderr",
     "output_type": "stream",
     "text": [
      "batch: 100%|██████████| 100/100 [01:15<00:00,  1.32it/s]\n",
      "batch: 100%|██████████| 100/100 [02:29<00:00,  1.50s/it]"
     ]
    },
    {
     "name": "stdout",
     "output_type": "stream",
     "text": [
      "consolidate [(41, 5), (41, 4), (40, 12), (40, 11)]\n",
      "-4.1570166015625 -3.5649850463867185 0.5920315551757813\n"
     ]
    },
    {
     "name": "stderr",
     "output_type": "stream",
     "text": [
      "\n"
     ]
    }
   ],
   "source": [
    "C = identified_circuit(n_shot=16)\n",
    "M = complete_circuit(n_shot=16)\n",
    "data = processed_data\n",
    "\n",
    "completeness_case2_result = {}\n",
    "\n",
    "score_A, score_B = get_completeness_score(model, data, C=C, K=[], M=M, batch_size=1)\n",
    "print(\"empty set\", [])\n",
    "print(score_A, score_B, abs(score_A-score_B))\n",
    "completeness_case2_result[\"empty_set\"] = [score_A, score_B, abs(score_A-score_B)]\n",
    "\n",
    "for key, value in C[\"head_circuit\"].items():\n",
    "    score_A, score_B = get_completeness_score(model, data, C=C, K=value, M=M, batch_size=1)\n",
    "    print(key, value)\n",
    "    print(score_A, score_B, abs(score_A-score_B))\n",
    "    completeness_case2_result[key] = [score_A, score_B, abs(score_A-score_B)]\n"
   ]
  },
  {
   "cell_type": "code",
   "execution_count": 10,
   "metadata": {},
   "outputs": [
    {
     "name": "stdout",
     "output_type": "stream",
     "text": [
      "{'empty_set': [0.558412094116211, -1.2620720672607422, 1.8204841613769531], 'function_induction': [7.170979614257813, 3.2567413330078123, 3.9142382812500003], 'prev_token': [7.213325805664063, 3.01134765625, 4.201978149414063], 'consolidate': [-4.1570166015625, -3.5649850463867185, 0.5920315551757813]}\n"
     ]
    }
   ],
   "source": [
    "print(completeness_case2_result)"
   ]
  },
  {
   "cell_type": "code",
   "execution_count": null,
   "metadata": {},
   "outputs": [],
   "source": [
    "completeness_case2_result = {'empty_set': [0.558412094116211, -1.2620720672607422, 1.8204841613769531], 'function_induction': [7.170979614257813, 3.2567413330078123, 3.9142382812500003], 'prev_token': [7.213325805664063, 3.01134765625, 4.201978149414063], 'consolidate': [-4.1570166015625, -3.5649850463867185, 0.5920315551757813]}"
   ]
  },
  {
   "cell_type": "markdown",
   "metadata": {},
   "source": [
    "#### Case 3: Greedy search sets\n",
    "* See `circuit_eval_offline.py`"
   ]
  },
  {
   "cell_type": "code",
   "execution_count": 12,
   "metadata": {},
   "outputs": [],
   "source": [
    "completeness_case3_result = {0: [[(39, 12), (39, 7), (31, 5), (40, 11), (31, 4)], 6.1543994140625, 1.5049789428710938, 4.649420471191406], 1: [[(31, 4), (39, 7), (39, 12), (41, 4), (31, 5)], 5.753678588867188, 0.5158133697509766, 5.237865219116211], 2: [[(35, 9), (32, 1), (39, 12), (39, 7), (36, 7)], 7.096732177734375, 2.828329772949219, 4.2684024047851565], 3: [[(38, 7), (39, 12), (41, 4), (35, 9), (31, 5)], 4.4522091674804685, -0.8099837493896485, 5.2621929168701165], 4: [[(39, 7), (38, 6), (35, 9), (39, 12), (41, 4)], 5.814006958007813, 1.0915948486328124, 4.722412109375], 5: [[(38, 7), (35, 9), (41, 4), (39, 12), (38, 6)], 5.392804565429688, -0.08559731483459472, 5.478401880264283], 6: [[(39, 12), (35, 9), (38, 6), (41, 4), (29, 5)], 2.6649325561523436, -1.9233621215820313, 4.588294677734375], 7: [[(38, 7), (39, 7), (40, 11), (32, 1), (41, 4)], 3.7288858032226564, -0.9970648193359375, 4.725950622558594], 8: [[(38, 7), (32, 1), (39, 7), (38, 6), (40, 11)], 5.355679321289062, 0.8571967315673829, 4.49848258972168], 9: [[(39, 12), (32, 1), (35, 9), (38, 6), (31, 4)], 5.420776977539062, 0.8169365692138671, 4.603840408325195]}"
   ]
  },
  {
   "cell_type": "markdown",
   "metadata": {},
   "source": [
    "### Minimality"
   ]
  },
  {
   "cell_type": "code",
   "execution_count": 13,
   "metadata": {},
   "outputs": [],
   "source": [
    "def get_minimality_circuits(C, K, v):\n",
    "  \"\"\"return A: C\\\\K and B: M\\\\K as defined in sec 4.1. C: current circuit, K: heads to remove, M: full model circuit\"\"\"\n",
    "  circuit_A, circuit_B = copy.deepcopy(C), copy.deepcopy(C)\n",
    "  for key in C[\"head_circuit\"].keys():\n",
    "    circuit_A[\"head_circuit\"][key] = list(set(C[\"head_circuit\"][key]).difference(K))\n",
    "    circuit_B[\"head_circuit\"][key] = list(set(C[\"head_circuit\"][key]).difference(K+[v]))\n",
    "  return circuit_A, circuit_B\n",
    "\n",
    "def get_minimality_score(model, data, C, K, v):\n",
    "  circuit_A, circuit_B = get_minimality_circuits(C, K, v)\n",
    "  patched_logits_diff_A, _, _ = eval_circuit_batched(model, data, circuit_A, batch_size=1)\n",
    "  patched_logits_diff_B, _, _ = eval_circuit_batched(model, data, circuit_B, batch_size=1)\n",
    "  N = len(data)\n",
    "  return patched_logits_diff_A.item() / N, patched_logits_diff_B.item() / N"
   ]
  },
  {
   "cell_type": "code",
   "execution_count": 14,
   "metadata": {},
   "outputs": [],
   "source": [
    "minimality_sets = {\n",
    "    # fi heads\n",
    "    (32, 6): [(41, 4), (39, 7), (39, 12), (40,11), (40,12)],\n",
    "    (25, 13): [(41, 4), (40,11), (40,12), (38, 7), (39, 7)], \n",
    "    # pt heads\n",
    "    (38, 9): [(41, 4), (40,11), (40,12), (38, 6), (38, 7)],\n",
    "    (35, 14): [(41, 4), (40,11), (40,12), (38, 6), (38, 7), (38, 9)], \n",
    "    (31, 5): [(39, 7), (31, 4), (29,5), (41, 4), (40,11), (40,12)], \n",
    "    (29, 5): [(39, 7), (31, 4)], \n",
    "}"
   ]
  },
  {
   "cell_type": "code",
   "execution_count": 15,
   "metadata": {},
   "outputs": [
    {
     "name": "stderr",
     "output_type": "stream",
     "text": [
      "batch: 100%|██████████| 100/100 [01:15<00:00,  1.32it/s]\n",
      "batch: 100%|██████████| 100/100 [01:16<00:00,  1.31it/s]\n"
     ]
    },
    {
     "name": "stdout",
     "output_type": "stream",
     "text": [
      "(39, 12): 0.8503\n"
     ]
    },
    {
     "name": "stderr",
     "output_type": "stream",
     "text": [
      "batch: 100%|██████████| 100/100 [01:16<00:00,  1.31it/s]\n",
      "batch: 100%|██████████| 100/100 [01:16<00:00,  1.31it/s]\n"
     ]
    },
    {
     "name": "stdout",
     "output_type": "stream",
     "text": [
      "(39, 7): 2.5012\n"
     ]
    },
    {
     "name": "stderr",
     "output_type": "stream",
     "text": [
      "batch: 100%|██████████| 100/100 [01:16<00:00,  1.31it/s]\n",
      "batch: 100%|██████████| 100/100 [01:16<00:00,  1.31it/s]\n"
     ]
    },
    {
     "name": "stdout",
     "output_type": "stream",
     "text": [
      "(36, 7): 1.4951\n"
     ]
    },
    {
     "name": "stderr",
     "output_type": "stream",
     "text": [
      "batch: 100%|██████████| 100/100 [01:16<00:00,  1.32it/s]\n",
      "batch: 100%|██████████| 100/100 [01:16<00:00,  1.31it/s]\n"
     ]
    },
    {
     "name": "stdout",
     "output_type": "stream",
     "text": [
      "(32, 6): 0.2989\n"
     ]
    },
    {
     "name": "stderr",
     "output_type": "stream",
     "text": [
      "batch: 100%|██████████| 100/100 [01:16<00:00,  1.31it/s]\n",
      "batch: 100%|██████████| 100/100 [01:15<00:00,  1.32it/s]\n"
     ]
    },
    {
     "name": "stdout",
     "output_type": "stream",
     "text": [
      "(32, 1): 1.0493\n"
     ]
    },
    {
     "name": "stderr",
     "output_type": "stream",
     "text": [
      "batch: 100%|██████████| 100/100 [01:15<00:00,  1.32it/s]\n",
      "batch: 100%|██████████| 100/100 [01:15<00:00,  1.32it/s]\n"
     ]
    },
    {
     "name": "stdout",
     "output_type": "stream",
     "text": [
      "(25, 13): 0.3296\n"
     ]
    },
    {
     "name": "stderr",
     "output_type": "stream",
     "text": [
      "batch: 100%|██████████| 100/100 [01:15<00:00,  1.32it/s]\n",
      "batch: 100%|██████████| 100/100 [01:15<00:00,  1.32it/s]\n"
     ]
    },
    {
     "name": "stdout",
     "output_type": "stream",
     "text": [
      "(38, 9): 0.4771\n"
     ]
    },
    {
     "name": "stderr",
     "output_type": "stream",
     "text": [
      "batch: 100%|██████████| 100/100 [01:16<00:00,  1.32it/s]\n",
      "batch: 100%|██████████| 100/100 [01:15<00:00,  1.32it/s]\n"
     ]
    },
    {
     "name": "stdout",
     "output_type": "stream",
     "text": [
      "(38, 6): 0.5096\n"
     ]
    },
    {
     "name": "stderr",
     "output_type": "stream",
     "text": [
      "batch: 100%|██████████| 100/100 [01:15<00:00,  1.32it/s]\n",
      "batch: 100%|██████████| 100/100 [01:16<00:00,  1.32it/s]\n"
     ]
    },
    {
     "name": "stdout",
     "output_type": "stream",
     "text": [
      "(38, 7): 1.7161\n"
     ]
    },
    {
     "name": "stderr",
     "output_type": "stream",
     "text": [
      "batch: 100%|██████████| 100/100 [01:15<00:00,  1.32it/s]\n",
      "batch: 100%|██████████| 100/100 [01:15<00:00,  1.32it/s]\n"
     ]
    },
    {
     "name": "stdout",
     "output_type": "stream",
     "text": [
      "(35, 9): 1.2478\n"
     ]
    },
    {
     "name": "stderr",
     "output_type": "stream",
     "text": [
      "batch: 100%|██████████| 100/100 [01:15<00:00,  1.32it/s]\n",
      "batch: 100%|██████████| 100/100 [01:15<00:00,  1.32it/s]\n"
     ]
    },
    {
     "name": "stdout",
     "output_type": "stream",
     "text": [
      "(35, 14): 0.2370\n"
     ]
    },
    {
     "name": "stderr",
     "output_type": "stream",
     "text": [
      "batch: 100%|██████████| 100/100 [01:15<00:00,  1.32it/s]\n",
      "batch: 100%|██████████| 100/100 [01:15<00:00,  1.32it/s]\n"
     ]
    },
    {
     "name": "stdout",
     "output_type": "stream",
     "text": [
      "(31, 5): 0.5863\n"
     ]
    },
    {
     "name": "stderr",
     "output_type": "stream",
     "text": [
      "batch: 100%|██████████| 100/100 [01:16<00:00,  1.32it/s]\n",
      "batch: 100%|██████████| 100/100 [01:15<00:00,  1.32it/s]\n"
     ]
    },
    {
     "name": "stdout",
     "output_type": "stream",
     "text": [
      "(31, 4): 0.7332\n"
     ]
    },
    {
     "name": "stderr",
     "output_type": "stream",
     "text": [
      "batch: 100%|██████████| 100/100 [01:15<00:00,  1.32it/s]\n",
      "batch: 100%|██████████| 100/100 [01:15<00:00,  1.32it/s]\n"
     ]
    },
    {
     "name": "stdout",
     "output_type": "stream",
     "text": [
      "(29, 5): 0.2425\n"
     ]
    },
    {
     "name": "stderr",
     "output_type": "stream",
     "text": [
      "batch: 100%|██████████| 100/100 [01:16<00:00,  1.31it/s]\n",
      "batch: 100%|██████████| 100/100 [01:15<00:00,  1.32it/s]\n"
     ]
    },
    {
     "name": "stdout",
     "output_type": "stream",
     "text": [
      "(41, 5): 0.2011\n"
     ]
    },
    {
     "name": "stderr",
     "output_type": "stream",
     "text": [
      "batch: 100%|██████████| 100/100 [01:15<00:00,  1.32it/s]\n",
      "batch: 100%|██████████| 100/100 [01:16<00:00,  1.32it/s]\n"
     ]
    },
    {
     "name": "stdout",
     "output_type": "stream",
     "text": [
      "(41, 4): 2.9604\n"
     ]
    },
    {
     "name": "stderr",
     "output_type": "stream",
     "text": [
      "batch: 100%|██████████| 100/100 [01:15<00:00,  1.32it/s]\n",
      "batch: 100%|██████████| 100/100 [01:15<00:00,  1.32it/s]\n"
     ]
    },
    {
     "name": "stdout",
     "output_type": "stream",
     "text": [
      "(40, 12): 0.8565\n"
     ]
    },
    {
     "name": "stderr",
     "output_type": "stream",
     "text": [
      "batch: 100%|██████████| 100/100 [01:15<00:00,  1.32it/s]\n",
      "batch: 100%|██████████| 100/100 [01:16<00:00,  1.32it/s]"
     ]
    },
    {
     "name": "stdout",
     "output_type": "stream",
     "text": [
      "(40, 11): 0.3565\n"
     ]
    },
    {
     "name": "stderr",
     "output_type": "stream",
     "text": [
      "\n"
     ]
    }
   ],
   "source": [
    "C = identified_circuit(n_shot=16)\n",
    "\n",
    "minimality_result = {}\n",
    "\n",
    "for k, v in C[\"head_circuit\"].items():\n",
    "    minimality_result[k] = {}\n",
    "    for head in v:\n",
    "        K = minimality_sets.get(head, [])\n",
    "        score_A, score_B = get_minimality_score(model, data, C, K, head)\n",
    "        print(\"{}: {:.4f}\".format(head, abs(score_A-score_B)))\n",
    "        minimality_result[k][head] = (score_A, score_B, abs(score_A-score_B))\n"
   ]
  },
  {
   "cell_type": "code",
   "execution_count": 16,
   "metadata": {},
   "outputs": [
    {
     "name": "stdout",
     "output_type": "stream",
     "text": [
      "{'function_induction': {(39, 12): (0.558412094116211, 1.4086929321289063, 0.8502808380126954), (39, 7): (0.558412094116211, 3.059565124511719, 2.501153030395508), (36, 7): (0.558412094116211, 2.053508758544922, 1.495096664428711), (32, 6): (4.2445242309570315, 4.54339111328125, 0.29886688232421843), (32, 1): (0.558412094116211, 1.6077403259277343, 1.0493282318115233), (25, 13): (2.0369418334960936, 2.366573944091797, 0.3296321105957034)}, 'prev_token': {(38, 9): (1.1680657196044921, 1.6451393127441407, 0.4770735931396486), (38, 6): (0.558412094116211, 1.0679905700683594, 0.5095784759521484), (38, 7): (0.558412094116211, 2.274483489990234, 1.7160713958740232), (35, 9): (0.558412094116211, 1.8062324523925781, 1.2478203582763672), (35, 14): (1.6451393127441407, 1.882119140625, 0.23697982788085925), (31, 5): (1.3233534240722655, 1.9096836853027344, 0.5863302612304688), (31, 4): (0.558412094116211, 1.2916307067871093, 0.7332186126708984), (29, 5): (4.0847625732421875, 4.327237854003906, 0.24247528076171854)}, 'consolidate': {(41, 5): (0.558412094116211, 0.7595432281494141, 0.20113113403320315), (41, 4): (0.558412094116211, -2.4019805908203127, 2.9603926849365236), (40, 12): (0.558412094116211, -0.2980510711669922, 0.8564631652832031), (40, 11): (0.558412094116211, 0.20192384719848633, 0.3564882469177246)}}\n"
     ]
    }
   ],
   "source": [
    "print(minimality_result)"
   ]
  },
  {
   "cell_type": "code",
   "execution_count": 17,
   "metadata": {},
   "outputs": [],
   "source": [
    "# numbers from faithfulness results\n",
    "contrast_logits_diff = -1.2620720672607422\n",
    "normal_logits_diff = 7.166240234375\n",
    "minimality_result = {'function_induction': {(39, 12): (0.558412094116211, 1.4086929321289063, 0.8502808380126954), (39, 7): (0.558412094116211, 3.059565124511719, 2.501153030395508), (36, 7): (0.558412094116211, 2.053508758544922, 1.495096664428711), (32, 6): (4.2445242309570315, 4.54339111328125, 0.29886688232421843), (32, 1): (0.558412094116211, 1.6077403259277343, 1.0493282318115233), (25, 13): (2.0369418334960936, 2.366573944091797, 0.3296321105957034)}, 'prev_token': {(38, 9): (1.1680657196044921, 1.6451393127441407, 0.4770735931396486), (38, 6): (0.558412094116211, 1.0679905700683594, 0.5095784759521484), (38, 7): (0.558412094116211, 2.274483489990234, 1.7160713958740232), (35, 9): (0.558412094116211, 1.8062324523925781, 1.2478203582763672), (35, 14): (1.6451393127441407, 1.882119140625, 0.23697982788085925), (31, 5): (1.3233534240722655, 1.9096836853027344, 0.5863302612304688), (31, 4): (0.558412094116211, 1.2916307067871093, 0.7332186126708984), (29, 5): (4.0847625732421875, 4.327237854003906, 0.24247528076171854)}, 'consolidate': {(41, 5): (0.558412094116211, 0.7595432281494141, 0.20113113403320315), (41, 4): (0.558412094116211, -2.4019805908203127, 2.9603926849365236), (40, 12): (0.558412094116211, -0.2980510711669922, 0.8564631652832031), (40, 11): (0.558412094116211, 0.20192384719848633, 0.3564882469177246)}}"
   ]
  },
  {
   "cell_type": "markdown",
   "metadata": {},
   "source": [
    "### Plotting"
   ]
  },
  {
   "cell_type": "code",
   "execution_count": 18,
   "metadata": {},
   "outputs": [],
   "source": [
    "import matplotlib.pyplot as plt\n",
    "import numpy as np\n",
    "from matplotlib.lines import Line2D\n",
    "import matplotlib.gridspec as gridspec\n",
    "\n",
    "plt.rcParams['font.family'] = 'sans-serif' \n",
    "plt.rcParams['font.sans-serif'] = 'DejaVu Serif' "
   ]
  },
  {
   "cell_type": "code",
   "execution_count": 19,
   "metadata": {},
   "outputs": [],
   "source": [
    "# Process results for plotting\n",
    "\n",
    "# Completeness\n",
    "case3 = {}\n",
    "for k, v in completeness_case3_result.items():\n",
    "    case3[k] = [v[1], v[2]]\n",
    "case1 = {}\n",
    "for k, v in completeness_case1_result.items():\n",
    "    case1[k] = [v[1], v[2]]\n",
    "\n",
    "case2 = completeness_case2_result\n",
    "\n",
    "# Minimality\n",
    "C = identified_circuit(n_shot=16)\n",
    "\n",
    "denominator = -1 * (contrast_logits_diff - normal_logits_diff)\n",
    "scores_for_plot = {}\n",
    "for k, v in C[\"head_circuit\"].items():\n",
    "    scores_for_plot[k] = {}\n",
    "    for head in v:\n",
    "        scores_for_plot[k][head] = minimality_result[k][head][2] / denominator\n",
    "sorted_data = {}\n",
    "for category, entries in scores_for_plot.items():\n",
    "    sorted_items = sorted(entries.items(), key=lambda x: -x[1])  # sort by negative of value to get decreasing order\n",
    "    sorted_data[category] = sorted_items    "
   ]
  },
  {
   "cell_type": "code",
   "execution_count": 20,
   "metadata": {},
   "outputs": [],
   "source": [
    "# Color and marker definitions\n",
    "color_map = {\n",
    "    'consolidate': '#7030a0',\n",
    "    'function_induction': '#0070c0', \n",
    "    'prev_token': '#4da72e', \n",
    "    'empty_set': '#909090',\n",
    "}\n",
    "\n",
    "marker_map = {\n",
    "    'function_induction': 'o',\n",
    "    'prev_token': 'o',\n",
    "    'consolidate': 'o',\n",
    "    'empty_set': 'o',\n",
    "}"
   ]
  },
  {
   "cell_type": "code",
   "execution_count": 22,
   "metadata": {},
   "outputs": [
    {
     "data": {
      "image/png": "[encoded data removed]",
      "text/plain": [
       "<Figure size 1250x300 with 3 Axes>"
      ]
     },
     "metadata": {},
     "output_type": "display_data"
    }
   ],
   "source": [
    "# Plotting\n",
    "fig, (ax0, ax1, ax2) = plt.subplots(1, 3, figsize=(12.5, 3), width_ratios=[2.5, 5, 5])\n",
    "\n",
    "plt.subplots_adjust(wspace=0.25)  # adjust spacing\n",
    "\n",
    "## head abltion\n",
    "ax0_result = {'base': (1.0, 0.0),\n",
    "    'contrast': (0.11, 0.86),\n",
    "    'contrast_fih': (1.0, 0.0),\n",
    "    'contrast_rh': (0.1, 0.8720000000000001),\n",
    "    'contrast_rh_std': (0.01673320053068151, 0.019390719429665335)\n",
    "}\n",
    "\n",
    "y1 = [ax0_result[key][0] for key in [\"base\", \"contrast\", \"contrast_fih\", \"contrast_rh\"]]\n",
    "y2 = [ax0_result[key][1] for key in [\"base\", \"contrast\", \"contrast_fih\", \"contrast_rh\"]]\n",
    "\n",
    "std1 = [0, 0, 0] + [ax0_result[\"contrast_rh_std\"][0]]\n",
    "std2 = [0, 0, 0] + [ax0_result[\"contrast_rh_std\"][1]]\n",
    "\n",
    "labels = [\"Base Prompt\", \"Contrast Prompt\", \"Contrast Prompt\\n(Ablate 6 FI Heads)\", \"Contrast Prompt\\n(Ablate 6 Rand. Heads)\"]\n",
    "\n",
    "x = np.arange(len(y1))  # the label locations\n",
    "width = 0.4  # the width of the bars\n",
    "\n",
    "# fig, ax = plt.subplots(figsize=(4, 3.5))\n",
    "rects2 = ax0.barh(x + width/2, y1[::-1], width, xerr=std1[::-1], label='Base Acc', color=\"#bf3100\")\n",
    "rects1 = ax0.barh(x - width/2, y2[::-1], width, xerr=std2[::-1], label='Contrast Acc', color=\"#ec9f05\")\n",
    "\n",
    "# Add labels, title, and legend\n",
    "ax0.set_xlabel(\"Accuracy\")\n",
    "ax0.set_yticks(x)\n",
    "ax0.set_yticklabels(labels[::-1], fontsize=9)\n",
    "ax0.set_xticks([0, 0.5, 1.0])\n",
    "ax0.set_xticklabels([\"0%\", \"50%\", \"100%\"])\n",
    "ax0.legend(bbox_to_anchor=(0.35, 1.16), loc='upper center', ncol=2, fontsize=8)\n",
    "# ax0.set_ylim(-0.5, 4.5)\n",
    "ax0.set_xlim(0, 1)\n",
    "\n",
    "ax0.set_title(\"(a) Head Ablation\", y=1.14, fontsize=10)\n",
    "\n",
    "pos = ax0.get_position()\n",
    "ax0.set_position([pos.x0, pos.y0, pos.width, pos.height * 0.88])  # move up + make shorter\n",
    "\n",
    "# Case 1 points (random set)\n",
    "for idx, (x, y) in case1.items():\n",
    "    ax1.scatter(x, y, color='chocolate', marker='^', s=50)  # Green left triangle\n",
    "\n",
    "# Case 2 points (remaining dots)\n",
    "for category, (x, y, _) in case2.items():\n",
    "    ax1.scatter(x, y, color=color_map[category], marker=marker_map[category], s=50)\n",
    "\n",
    "# Case 3 points (greedy search set)\n",
    "for idx, (x, y) in case3.items():\n",
    "    ax1.scatter(x, y, color='orange', marker='x', s=50, linewidths=2)\n",
    "\n",
    "# Dashed diagonal line x=y\n",
    "lim = max(\n",
    "    max([x for x, y in case1.values()]),\n",
    "    max([x for x, y, _ in case2.values()]),\n",
    "    max([x for x, y in case3.values()])\n",
    ") + 1\n",
    "ax1.plot([-5, 8], [-5, 8], linestyle='--', color='gray', label='x=y')\n",
    "\n",
    "# Labels and grid\n",
    "ax1.set_title(\"(b) Completeness\", fontsize=10)\n",
    "ax1.set_xlabel(\"F(C \\\\ K)\")\n",
    "ax1.set_ylabel(\"F(M \\\\ K)\")\n",
    "ax1.grid(True)\n",
    "ax1.set_xlim(-5, 8)\n",
    "ax1.set_ylim(-5, 8)\n",
    "\n",
    "# Custom legend\n",
    "custom_legend = [\n",
    "    Line2D([0], [0], marker='^', color='w', markerfacecolor='chocolate', label='Random Set', markersize=8),\n",
    "    Line2D([0], [0], marker='x', color='w', markeredgecolor='orange', label='Greedy Search Set', markersize=8, markeredgewidth=2),\n",
    "    Line2D([0], [0], marker='o', color='w', markerfacecolor=color_map['empty_set'], label='Empty Set', markersize=8),\n",
    "    Line2D([0], [0], marker='o', color='w', markerfacecolor=color_map['consolidate'], label='Consolidation Head', markersize=8),\n",
    "    Line2D([0], [0], marker='o', color='w', markerfacecolor=color_map['function_induction'], label='Func. Induction Head', markersize=8),\n",
    "    Line2D([0], [0], marker='o', color='w', markerfacecolor=color_map['prev_token'], label='Previous Token Head', markersize=8),\n",
    "    # Line2D([0], [0], linestyle='--', color='gray', label='x=y')\n",
    "]\n",
    "first_legend = ax1.legend(handles=custom_legend, handletextpad=0.1, fontsize=8)\n",
    "ax1.legend(handles=[Line2D([0], [0], linestyle='--', color='gray', label='x=y')], loc='lower right', fontsize=8)\n",
    "ax1.add_artist(first_legend)\n",
    "\n",
    "x_labels = []\n",
    "x_ticks = []\n",
    "heights = []\n",
    "bar_colors = []\n",
    "\n",
    "i = 0\n",
    "for category in [\"consolidate\", \"function_induction\", \"prev_token\"]:\n",
    "    sorted_entries = sorted_data[category]\n",
    "    for (layer, head), val in sorted_entries:\n",
    "        x_labels.append(f\"({layer},{head})\")\n",
    "        heights.append(val * 100)  # Convert to positive percentage\n",
    "        bar_colors.append(color_map[category])\n",
    "        x_ticks.append(i)\n",
    "        i += 1\n",
    "\n",
    "# Plotting\n",
    "ax2.bar(x_ticks, heights, color=bar_colors)\n",
    "ax2.set_xticks(x_ticks)\n",
    "ax2.set_xticklabels(x_labels, rotation=45, fontsize=9, ha='right')\n",
    "ax2.set_yticks([0,10,20,30,40])\n",
    "ax2.set_yticklabels([\"0%\", \"10%\", \"20%\", \"30%\", \"40%\"])\n",
    "ax2.set_ylabel(\"Change in Logit Difference\")\n",
    "# ax2.set_xlabel(\"Attention Head\")\n",
    "ax2.set_title(\"(c) Minimality\", fontsize=10)\n",
    "ax2.set_ylim(0, 40)\n",
    "ax2.grid(True, axis='y', linestyle='--', linewidth=0.5)\n",
    "\n",
    "# Legend\n",
    "handles = [plt.Rectangle((0,0),1,1,color=color_map[category]) for category in [\"consolidate\", \"function_induction\", \"prev_token\"]]\n",
    "labels = ['Consolidation Head', 'Func. Induction Head', 'Previous Token Head']\n",
    "ax2.legend(handles, labels, ncol=1, fontsize=8)\n",
    "\n",
    "\n",
    "plt.savefig(\"figures/circuit_eval.pdf\", dpi=300, bbox_inches='tight', pad_inches=0.0)\n",
    "# plt.tight_layout()\n",
    "plt.show()\n"
   ]
  }
 ],
 "metadata": {
  "kernelspec": {
   "display_name": "fi4",
   "language": "python",
   "name": "python3"
  },
  "language_info": {
   "codemirror_mode": {
    "name": "ipython",
    "version": 3
   },
   "file_extension": ".py",
   "mimetype": "text/x-python",
   "name": "python",
   "nbconvert_exporter": "python",
   "pygments_lexer": "ipython3",
   "version": "3.12.11"
  }
 },
 "nbformat": 4,
 "nbformat_minor": 2
}
